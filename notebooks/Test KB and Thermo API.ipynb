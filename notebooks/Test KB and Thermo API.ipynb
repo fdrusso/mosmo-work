{
 "cells": [
  {
   "cell_type": "code",
   "execution_count": 1,
   "id": "709c359e-d1ff-430a-8adc-24e71d497a39",
   "metadata": {},
   "outputs": [],
   "source": [
    "from mosmo.model import DbXref, Molecule, Reaction\n",
    "from mosmo.knowledge import kb\n",
    "\n",
    "KB = kb.configure_kb()"
   ]
  },
  {
   "cell_type": "code",
   "execution_count": 2,
   "id": "48dfb9f4-9e78-4524-8b4c-6f462b842aab",
   "metadata": {},
   "outputs": [
    {
     "data": {
      "text/plain": [
       "{'EC': EC: (EC/KbEntry) [ref.EC],\n",
       " 'GO': GO: (GO/KbEntry) [ref.GO],\n",
       " 'CHEBI': CHEBI: (CHEBI/Molecule) [ref.CHEBI],\n",
       " 'RHEA': RHEA: (RHEA/Reaction) [ref.RHEA],\n",
       " 'compounds': compounds: (CANON/Molecule) [kb.compounds],\n",
       " 'reactions': reactions: (CANON/Reaction) [kb.reactions],\n",
       " 'pathways': pathways: (CANON/Pathway) [kb.pathways]}"
      ]
     },
     "execution_count": 2,
     "metadata": {},
     "output_type": "execute_result"
    }
   ],
   "source": [
    "KB.schema"
   ]
  },
  {
   "cell_type": "code",
   "execution_count": 3,
   "id": "b9fcd898-5716-469e-b989-0e184b1b6867",
   "metadata": {},
   "outputs": [
    {
     "data": {
      "text/plain": [
       "{mosmo.model.core.Molecule: compounds: (CANON/Molecule) [kb.compounds],\n",
       " mosmo.model.core.Reaction: reactions: (CANON/Reaction) [kb.reactions],\n",
       " mosmo.model.pathway.Pathway: pathways: (CANON/Pathway) [kb.pathways]}"
      ]
     },
     "execution_count": 3,
     "metadata": {},
     "output_type": "execute_result"
    }
   ],
   "source": [
    "KB.canon"
   ]
  },
  {
   "cell_type": "code",
   "execution_count": 4,
   "id": "156fc593-6b4f-414a-a94b-8f2756cd664f",
   "metadata": {},
   "outputs": [
    {
     "name": "stdout",
     "output_type": "stream",
     "text": [
      "None\n"
     ]
    }
   ],
   "source": [
    "print(KB.deref(\"KEGG:C00002\"))"
   ]
  },
  {
   "cell_type": "code",
   "execution_count": 5,
   "id": "e2be379e-8a8f-4894-9229-960adbf8626e",
   "metadata": {},
   "outputs": [
    {
     "data": {
      "text/plain": [
       "[[atp] adenosine triphosphate, [atp.full] ATP (fully protonated)]"
      ]
     },
     "execution_count": 5,
     "metadata": {},
     "output_type": "execute_result"
    }
   ],
   "source": [
    "KB.xref(KB.compounds, \"KEGG:C00002\")"
   ]
  },
  {
   "cell_type": "code",
   "execution_count": 6,
   "id": "f15ced86-dcec-415f-bdbf-2a1ff6406e20",
   "metadata": {},
   "outputs": [
    {
     "name": "stdout",
     "output_type": "stream",
     "text": [
      "CANON:atp\n",
      "name: adenosine triphosphate\n",
      "shorthand: ATP\n",
      "aka: \n",
      "    adenosine 5'-triphosphate(4-)\n",
      "    ATP\n",
      "    atp\n",
      "description: None\n",
      "xrefs: \n",
      "    BIGG:atp_c\n",
      "    CHEBI:30616\n",
      "    KEGG:C00002\n",
      "    METACYC:ATP\n",
      "formula: C10H12N5O13P3\n",
      "mass: 503.14946\n",
      "charge: -4\n",
      "inchi: \n",
      "    InChI=1S/C10H16N5O13P3/c11-8-5-9(13-2-12-8)15(3-14-5)10-\n",
      "    7(17)6(16)4(26-10)1-25-30(21,22)28-31(23,24)27-\n",
      "    29(18,19)20/h2-4,6-7,10,16-\n",
      "    17H,1H2,(H,21,22)(H,23,24)(H2,11,12,13)(H2,18,19,20)/p-\n",
      "    4/t4-,6-,7-,10-/m1/s1\n"
     ]
    }
   ],
   "source": [
    "KB.xref_one(KB.compounds, \"KEGG:C00002\").data()"
   ]
  },
  {
   "cell_type": "code",
   "execution_count": 7,
   "id": "bba00210-3767-4552-a520-7786b24afc6e",
   "metadata": {},
   "outputs": [
    {
     "data": {
      "text/plain": [
       "[1.6.1.1] NAD(P)(+) transhydrogenase (Si-specific)"
      ]
     },
     "execution_count": 7,
     "metadata": {},
     "output_type": "execute_result"
    }
   ],
   "source": [
    "KB.deref(\"EC:1.6.1.1\")"
   ]
  },
  {
   "cell_type": "code",
   "execution_count": 8,
   "id": "f13fdd0f-81c8-42a9-bdb2-e2d336c99186",
   "metadata": {},
   "outputs": [
    {
     "data": {
      "text/plain": [
       "[[pgi] G6P <=> F6P]"
      ]
     },
     "execution_count": 8,
     "metadata": {},
     "output_type": "execute_result"
    }
   ],
   "source": [
    "KB.xref(KB.reactions, \"EC:5.3.1.9\")"
   ]
  },
  {
   "cell_type": "code",
   "execution_count": 9,
   "id": "fa24be36-0040-4d1c-9ce3-943033446ece",
   "metadata": {},
   "outputs": [
    {
     "data": {
      "text/plain": [
       "[[13713] 16389 + 30031 <=> 17976 + 29806,\n",
       " [27834] 16374 + 30031 => 18151 + 29806,\n",
       " [40523] 132124 + 30031 <=> 24646 + 29806,\n",
       " [75711] 194432 + 30031 => 194433 + 29806]"
      ]
     },
     "execution_count": 9,
     "metadata": {},
     "output_type": "execute_result"
    }
   ],
   "source": [
    "ec_1_3_5_1 = KB(\"EC:1.3.5.1\")\n",
    "KB.xref(KB.RHEA, ec_1_3_5_1.ref())"
   ]
  },
  {
   "cell_type": "code",
   "execution_count": 10,
   "id": "68b84cf8-286b-4276-93cb-88757b402d83",
   "metadata": {},
   "outputs": [
    {
     "data": {
      "text/plain": [
       "[13713] 16389 + 30031 <=> 17976 + 29806"
      ]
     },
     "execution_count": 10,
     "metadata": {},
     "output_type": "execute_result"
    }
   ],
   "source": [
    "KB.xref_one(KB.RHEA, ec_1_3_5_1.ref())"
   ]
  },
  {
   "cell_type": "code",
   "execution_count": 11,
   "id": "a50103b3-86eb-4662-a47d-221cc0ec40d3",
   "metadata": {},
   "outputs": [
    {
     "name": "stderr",
     "output_type": "stream",
     "text": [
      "/home/fdrusso/.pyenv/versions/3.11.2/envs/mosmo-work/lib/python3.11/site-packages/mosmo/knowledge/kb.py:187: UserWarning: Multiple xrefs to EC:1.3.5.1 found in RHEA\n",
      "  warnings.warn(f'Multiple xrefs to {q} found in {dataset.name}')\n"
     ]
    },
    {
     "data": {
      "text/plain": [
       "[13713] 16389 + 30031 <=> 17976 + 29806"
      ]
     },
     "execution_count": 11,
     "metadata": {},
     "output_type": "execute_result"
    }
   ],
   "source": [
    "KB.xref_one(KB.RHEA, ec_1_3_5_1.ref(), strict=True)"
   ]
  },
  {
   "cell_type": "code",
   "execution_count": 12,
   "id": "683942c5-4337-43fa-b645-c609cf9d72ee",
   "metadata": {},
   "outputs": [
    {
     "data": {
      "text/plain": [
       "[57540] NAD(1-)"
      ]
     },
     "execution_count": 12,
     "metadata": {},
     "output_type": "execute_result"
    }
   ],
   "source": [
    "KB.deref(\"CHEBI:57540\")"
   ]
  },
  {
   "cell_type": "code",
   "execution_count": 13,
   "id": "08ac5e98-6697-446d-9b3a-09458e745a43",
   "metadata": {},
   "outputs": [
    {
     "data": {
      "text/plain": [
       "[57540] NAD(1-)"
      ]
     },
     "execution_count": 13,
     "metadata": {},
     "output_type": "execute_result"
    }
   ],
   "source": [
    "KB(\"CHEBI:57540\")"
   ]
  },
  {
   "cell_type": "code",
   "execution_count": 14,
   "id": "2d418dcb-fd19-4d66-b0ec-86951d39abb2",
   "metadata": {},
   "outputs": [
    {
     "name": "stdout",
     "output_type": "stream",
     "text": [
      "CANON:nad.ox\n",
      "name: NAD+\n",
      "shorthand: NAD+\n",
      "aka: \n",
      "    NAD(1-)\n",
      "    NAD anion\n",
      "    adenosine 5'-{3-[1-(3-carbamoylpyridinio)-1,4-anhydro-D-ribitol-5-yl] diphosphate}\n",
      "    NAD(+)\n",
      "description: None\n",
      "xrefs: \n",
      "    BIGG:nad_c\n",
      "    CHEBI:57540\n",
      "    KEGG:C00003\n",
      "    METACYC:NAD\n",
      "formula: C21H26N7O14P2\n",
      "mass: 662.4172\n",
      "charge: -1\n",
      "inchi: \n",
      "    InChI=1S/C21H27N7O14P2/c22-17-12-19(25-7-24-17)28(8-26-\n",
      "    12)21-16(32)14(30)11(41-21)6-39-44(36,37)42-43(34,35)38-\n",
      "    5-10-13(29)15(31)20(40-10)27-3-1-2-9(4-27)18(23)33/h1-\n",
      "    4,7-8,10-11,13-16,20-21,29-32H,5-6H2,(H5-\n",
      "    ,22,23,24,25,33,34,35,36,37)/p-1/t10-,11-,13-,14-,15-\n",
      "    ,16-,20-,21-/m1/s1\n"
     ]
    }
   ],
   "source": [
    "KB(\"nad.ox\").data()"
   ]
  },
  {
   "cell_type": "code",
   "execution_count": 15,
   "id": "9660f935-1bdc-4148-862f-47e28124ad06",
   "metadata": {},
   "outputs": [
    {
     "data": {
      "text/plain": [
       "[pgi] G6P <=> F6P"
      ]
     },
     "execution_count": 15,
     "metadata": {},
     "output_type": "execute_result"
    }
   ],
   "source": [
    "KB(\"pgi\")"
   ]
  },
  {
   "cell_type": "code",
   "execution_count": 16,
   "id": "5ca7a56a-453a-4ffd-86c5-d9b543ab58b8",
   "metadata": {},
   "outputs": [
    {
     "data": {
      "text/plain": [
       "[pgi] G6P <=> F6P"
      ]
     },
     "execution_count": 16,
     "metadata": {},
     "output_type": "execute_result"
    }
   ],
   "source": [
    "KB(KB(\"pgi\"))"
   ]
  },
  {
   "cell_type": "code",
   "execution_count": 17,
   "id": "862512ea-458b-4c8c-9247-68185a11aaaf",
   "metadata": {
    "tags": []
   },
   "outputs": [
    {
     "name": "stdout",
     "output_type": "stream",
     "text": [
      "[h2o] water\n",
      "    WIKI:Water None / https://en.wikipedia.org/wiki/Water\n",
      "    CHEBI:15377 [15377] water / http://www.ebi.ac.uk/chebi/searchId.do?chebiId=CHEBI:15377\n",
      "    BIGG:h2o_c None / http://bigg.ucsd.edu/search?query=h2o_c\n",
      "    CAS:7732-18-5 None / None\n",
      "    METACYC:WATER None / https://metacyc.org/compound?id=WATER\n",
      "    KEGG:C00001 None / https://www.genome.jp/entry/C00001\n",
      "\n",
      "[h+] proton\n",
      "    CHEBI:15378 [15378] hydron / http://www.ebi.ac.uk/chebi/searchId.do?chebiId=CHEBI:15378\n",
      "    METACYC:PROTON None / https://metacyc.org/compound?id=PROTON\n",
      "    BIGG:h_c None / http://bigg.ucsd.edu/search?query=h_c\n",
      "    KEGG:C00080 None / https://www.genome.jp/entry/C00080\n",
      "\n",
      "[Glc.D] D-glucose\n",
      "    METACYC:D-Glucose None / https://metacyc.org/compound?id=D-Glucose\n",
      "    CHEBI:17634 [17634] D-glucose / http://www.ebi.ac.uk/chebi/searchId.do?chebiId=CHEBI:17634\n",
      "    CAS:50-99-7 None / None\n",
      "    KEGG:C00031 None / https://www.genome.jp/entry/C00031\n",
      "    BIGG:glc__D_c None / http://bigg.ucsd.edu/search?query=glc__D_c\n",
      "\n",
      "[pgi] G6P <=> F6P\n",
      "    KEGG:R00771 None / https://www.genome.jp/entry/R00771\n",
      "    EC:5.3.1.9 [5.3.1.9] glucose-6-phosphate isomerase / https://enzyme.expasy.org/EC/5.3.1.9\n",
      "    BIGG:PGI None / http://bigg.ucsd.edu/search?query=PGI\n",
      "    ECOCYC:PGLUCISOM-RXN None / https://ecocyc.org/ECOLI/NEW-IMAGE?object=PGLUCISOM-RXN\n",
      "    METACYC:PGLUCISOM-RXN None / https://metacyc.org/META/NEW-IMAGE?object=PGLUCISOM-RXN\n",
      "    GO:0004347 [0004347] glucose-6-phosphate isomerase activity / http://amigo.geneontology.org/amigo/term/GO:0004347\n",
      "    RHEA:11816 [11816] 58225 <=> 57634 / https://www.rhea-db.org/rhea/11816\n",
      "\n",
      "[citsyn] acCoA + H2O + OAA <=> cit + CoA + H+\n",
      "    GO:0036440 [0036440] citrate synthase activity / http://amigo.geneontology.org/amigo/term/GO:0036440\n",
      "    KEGG:R00351 None / https://www.genome.jp/entry/R00351\n",
      "    MACIE:M0078 None / https://www.ebi.ac.uk/thornton-srv/m-csa/entry/M0078\n",
      "    RHEA:16845 [16845] 57288 + 15377 + 16452 <=> 16947 + 57287 + 15378 / https://www.rhea-db.org/rhea/16845\n",
      "    BIGG:CS None / http://bigg.ucsd.edu/search?query=CS\n",
      "    ECOCYC:CITSYN-RXN None / https://ecocyc.org/ECOLI/NEW-IMAGE?object=CITSYN-RXN\n",
      "    METACYC:CITSYN-RXN None / https://metacyc.org/META/NEW-IMAGE?object=CITSYN-RXN\n",
      "    EC:2.3.3.1 [2.3.3.1] citrate (Si)-synthase / https://enzyme.expasy.org/EC/2.3.3.1\n",
      "    REACT:R-HSA-70975.2 None / https://www.reactome.org/content/detail/R-HSA-70975.2\n",
      "    EC:2.3.3.16 [2.3.3.16] citrate synthase (unknown stereospecificity) / https://enzyme.expasy.org/EC/2.3.3.16\n",
      "\n"
     ]
    }
   ],
   "source": [
    "for entry in (KB(\"h2o\"), KB(\"h+\"), KB(\"Glc.D\"), KB(\"pgi\"), KB(\"citsyn\")):\n",
    "    print(entry)\n",
    "    for xref in entry.xrefs:\n",
    "        xref_entry = KB.deref(xref, type(entry))\n",
    "        url = xref.url(type(entry))\n",
    "        print(f\"    {xref} {xref_entry} / {url}\")\n",
    "    print()"
   ]
  },
  {
   "cell_type": "code",
   "execution_count": 18,
   "id": "b727f75f-89b4-44ff-bc1f-fb123e7d0585",
   "metadata": {},
   "outputs": [],
   "source": [
    "from mosmo.knowledge.thermo import Thermodynamics\n",
    "\n",
    "thermo = Thermodynamics()"
   ]
  },
  {
   "cell_type": "code",
   "execution_count": 19,
   "id": "13e422b0-161b-4d95-b068-341501d9daa6",
   "metadata": {},
   "outputs": [
    {
     "data": {
      "text/plain": [
       "{}"
      ]
     },
     "execution_count": 19,
     "metadata": {},
     "output_type": "execute_result"
    }
   ],
   "source": [
    "thermo._cc_compounds"
   ]
  },
  {
   "cell_type": "code",
   "execution_count": 20,
   "id": "0a6cd8e3-3f60-4ae6-8358-b8268a77291e",
   "metadata": {},
   "outputs": [
    {
     "data": {
      "text/html": [
       "2.4776264999999995 kilojoule/mole"
      ],
      "text/latex": [
       "$2.4776264999999995\\ \\frac{\\mathrm{kilojoule}}{\\mathrm{mole}}$"
      ],
      "text/plain": [
       "<Quantity(2.4776264999999995, 'kilojoule / mole')>"
      ]
     },
     "execution_count": 20,
     "metadata": {},
     "output_type": "execute_result"
    }
   ],
   "source": [
    "thermo.cc.RT"
   ]
  },
  {
   "cell_type": "code",
   "execution_count": 21,
   "id": "c7a4149a-e56d-4aeb-9c0a-d5c91c1dc816",
   "metadata": {},
   "outputs": [
    {
     "data": {
      "text/plain": [
       "-0.049859255775004385"
      ]
     },
     "execution_count": 21,
     "metadata": {},
     "output_type": "execute_result"
    }
   ],
   "source": [
    "thermo.reaction_delta_g(KB(\"pgi\"))"
   ]
  },
  {
   "cell_type": "code",
   "execution_count": 22,
   "id": "212b748f-281d-458a-8d90-8acffb7872ba",
   "metadata": {},
   "outputs": [
    {
     "data": {
      "text/plain": [
       "np.float64(-1301.4485115635405)"
      ]
     },
     "execution_count": 22,
     "metadata": {},
     "output_type": "execute_result"
    }
   ],
   "source": [
    "thermo.formation_delta_g(KB(\"Fru.D.6P\"))"
   ]
  },
  {
   "cell_type": "code",
   "execution_count": 23,
   "id": "52d27b71-07cb-468d-a40a-afa1c2857c7d",
   "metadata": {},
   "outputs": [
    {
     "data": {
      "text/plain": [
       "np.float64(-1301.3986523077656)"
      ]
     },
     "execution_count": 23,
     "metadata": {},
     "output_type": "execute_result"
    }
   ],
   "source": [
    "thermo.formation_delta_g(KB(\"Glc.D.6P\"))"
   ]
  },
  {
   "cell_type": "code",
   "execution_count": 24,
   "id": "cec73134-defc-412b-819c-202726e46c0b",
   "metadata": {},
   "outputs": [
    {
     "data": {
      "text/plain": [
       "np.float64(-0.0498592557748907)"
      ]
     },
     "execution_count": 24,
     "metadata": {},
     "output_type": "execute_result"
    }
   ],
   "source": [
    "thermo.formation_delta_g(KB(\"Fru.D.6P\")) - thermo.formation_delta_g(KB(\"Glc.D.6P\"))"
   ]
  },
  {
   "cell_type": "code",
   "execution_count": 25,
   "id": "97a9dcd6-5f69-47e6-bf93-aaf4e41e78d0",
   "metadata": {},
   "outputs": [
    {
     "data": {
      "text/plain": [
       "-16.17793842649064"
      ]
     },
     "execution_count": 25,
     "metadata": {},
     "output_type": "execute_result"
    }
   ],
   "source": [
    "thermo.reaction_delta_g(KB(\"pfk\"))"
   ]
  },
  {
   "cell_type": "code",
   "execution_count": 26,
   "id": "494f05ed-f08f-4614-af59-95a54d9d9ea8",
   "metadata": {},
   "outputs": [
    {
     "data": {
      "text/plain": [
       "np.float64(-16.177938426490982)"
      ]
     },
     "execution_count": 26,
     "metadata": {},
     "output_type": "execute_result"
    }
   ],
   "source": [
    "sum(count * thermo.formation_delta_g(reactant) for reactant, count in KB(\"pfk\").stoichiometry.items())"
   ]
  },
  {
   "cell_type": "code",
   "execution_count": 27,
   "id": "8850e8ef-149e-4847-9477-30c61b1ae6c8",
   "metadata": {},
   "outputs": [
    {
     "data": {
      "text/plain": [
       "[5.13, 3.2]"
      ]
     },
     "execution_count": 27,
     "metadata": {},
     "output_type": "execute_result"
    }
   ],
   "source": [
    "mal = KB(\"mal.L\")\n",
    "thermo.pkas(mal)"
   ]
  },
  {
   "cell_type": "code",
   "execution_count": 28,
   "id": "065f9057-7063-40cd-855b-ac88ab0ea1e1",
   "metadata": {},
   "outputs": [
    {
     "data": {
      "text/plain": [
       "[13.99, 12.73, 10.28, 6.25, 1.22]"
      ]
     },
     "execution_count": 28,
     "metadata": {},
     "output_type": "execute_result"
    }
   ],
   "source": [
    "thermo.pkas(KB(\"Fru.D.6P\"))"
   ]
  },
  {
   "cell_type": "code",
   "execution_count": 29,
   "id": "ed36fd65-04ef-423a-8d5a-43135855e07b",
   "metadata": {
    "tags": []
   },
   "outputs": [
    {
     "name": "stdout",
     "output_type": "stream",
     "text": [
      "[nad_ox] NADH <=> NAD+ + H+ + 2 e-\n"
     ]
    },
    {
     "data": {
      "text/plain": [
       "-66.78389426787089"
      ]
     },
     "execution_count": 29,
     "metadata": {},
     "output_type": "execute_result"
    }
   ],
   "source": [
    "halfcell = KB('nad_ox')\n",
    "print(halfcell)\n",
    "thermo.reaction_delta_g(halfcell)"
   ]
  }
 ],
 "metadata": {
  "kernelspec": {
   "display_name": "Python 3 (ipykernel)",
   "language": "python",
   "name": "python3"
  },
  "language_info": {
   "codemirror_mode": {
    "name": "ipython",
    "version": 3
   },
   "file_extension": ".py",
   "mimetype": "text/x-python",
   "name": "python",
   "nbconvert_exporter": "python",
   "pygments_lexer": "ipython3",
   "version": "3.11.2"
  }
 },
 "nbformat": 4,
 "nbformat_minor": 5
}
