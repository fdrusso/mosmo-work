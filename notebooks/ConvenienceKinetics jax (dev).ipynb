{
 "cells": [
  {
   "cell_type": "markdown",
   "id": "d21d29bd-6140-42ff-9f65-692f2a449a41",
   "metadata": {
    "tags": []
   },
   "source": [
    "# Convenience Kinetics with Jax (dev notebook)\n",
    "\n",
    "From _Bringing metabolic networks to life: convenience rate law and thermodynamic constraints_, Liebermeister and Klipp (2006)\n",
    "https://www.ncbi.nlm.nih.gov/pmc/articles/PMC1781438/"
   ]
  },
  {
   "cell_type": "code",
   "execution_count": 1,
   "id": "af3b8b85-68c5-4241-95cb-b7dbd4e7e299",
   "metadata": {
    "tags": []
   },
   "outputs": [],
   "source": [
    "from dataclasses import dataclass\n",
    "from typing import Iterable, Mapping, Optional, Tuple, Union\n",
    "\n",
    "import jax\n",
    "import jax.numpy as jnp\n",
    "import numpy as np\n",
    "\n",
    "from mosmo.knowledge import kb\n",
    "from mosmo.model import DS, Molecule, Reaction, Pathway\n",
    "\n",
    "jax.config.update('jax_enable_x64', True)\n",
    "\n",
    "KB = kb.configure_kb()\n",
    "ArrayT = Union[np.ndarray, jnp.ndarray]"
   ]
  },
  {
   "cell_type": "markdown",
   "id": "93074e93-7786-401e-81e3-9e0cef032455",
   "metadata": {},
   "source": [
    "### General Rate Law, as defined in the paper:\n",
    "$$\n",
    "v(a,b) = E\n",
    "\\frac{\n",
    "    k_{+}^{cat} \\prod\\limits_i \\tilde{a}_i\n",
    "    - k_{-}^{cat} \\prod\\limits_j \\tilde{b}_j\n",
    "}{\n",
    "    \\prod\\limits_i (1 + \\tilde{a}_i)\n",
    "    + \\prod\\limits_j (1 + \\tilde{b}_j)\n",
    "    - 1\n",
    "}\n",
    "$$\n",
    "\n",
    "With 'tilde' notation \n",
    "$$\n",
    "\\tilde{a}_i = \\frac{a_i}{k^M_{a_i}}\n",
    "$$\n",
    "for any concentration vector $a$"
   ]
  },
  {
   "cell_type": "markdown",
   "id": "f92afa75-07d6-4770-a9a3-2a4082806029",
   "metadata": {},
   "source": [
    "## Working with Glycolysis\n",
    "### Ragged molecule indices"
   ]
  },
  {
   "cell_type": "code",
   "execution_count": 2,
   "id": "4761af58-3f17-4c1d-9d9f-9f2e82b68513",
   "metadata": {
    "tags": []
   },
   "outputs": [
    {
     "data": {
      "text/plain": [
       "[[[0, 1, 2], [3, 4, 5]],\n",
       " [[6, 7], [3, 8]],\n",
       " [[9], [6]],\n",
       " [[9], [10, 11]],\n",
       " [[7, 10, 12], [13, 2, 11, 4, 4]],\n",
       " [[14, 1, 12], [15, 16, 5]],\n",
       " [[7, 12], [8, 4, 11]],\n",
       " [[0], [17]],\n",
       " [[18], [0, 17]],\n",
       " [[7, 19], [8, 18, 4]],\n",
       " [[20], [19]],\n",
       " [[18, 10], [19, 2]]]"
      ]
     },
     "execution_count": 2,
     "metadata": {},
     "output_type": "execute_result"
    }
   ],
   "source": [
    "pw = KB('glycolysis')\n",
    "\n",
    "# Build up a list of substrate and product indices for each reaction.\n",
    "width = 0\n",
    "ragged_indices = []\n",
    "for reaction in pw.reactions:\n",
    "    reaction_indices = [[], []]\n",
    "    for molecule, count in reaction.stoichiometry.items():\n",
    "        idx = pw.molecules.index_of(molecule)\n",
    "        if count < 0:\n",
    "            reaction_indices[0].extend([idx] * -count)\n",
    "        else:\n",
    "            reaction_indices[1].extend([idx] * count)\n",
    "\n",
    "    width = max(width, len(reaction_indices[0]), len(reaction_indices[1]))\n",
    "    ragged_indices.append(reaction_indices)\n",
    "\n",
    "ragged_indices"
   ]
  },
  {
   "cell_type": "markdown",
   "id": "abe91716-c459-4a79-8f22-47a744913796",
   "metadata": {},
   "source": [
    "### Padded and masked indices"
   ]
  },
  {
   "cell_type": "code",
   "execution_count": 3,
   "id": "19e2e84e-2fd1-4b69-b166-eb8f89f4dc32",
   "metadata": {
    "tags": []
   },
   "outputs": [
    {
     "name": "stdout",
     "output_type": "stream",
     "text": [
      "[[[ 0  1  2 -1 -1]\n",
      "  [ 3  4  5 -1 -1]]\n",
      "\n",
      " [[ 6  7 -1 -1 -1]\n",
      "  [ 3  8 -1 -1 -1]]\n",
      "\n",
      " [[ 9 -1 -1 -1 -1]\n",
      "  [ 6 -1 -1 -1 -1]]\n",
      "\n",
      " [[ 9 -1 -1 -1 -1]\n",
      "  [10 11 -1 -1 -1]]\n",
      "\n",
      " [[ 7 10 12 -1 -1]\n",
      "  [13  2 11  4  4]]\n",
      "\n",
      " [[14  1 12 -1 -1]\n",
      "  [15 16  5 -1 -1]]\n",
      "\n",
      " [[ 7 12 -1 -1 -1]\n",
      "  [ 8  4 11 -1 -1]]\n",
      "\n",
      " [[ 0 -1 -1 -1 -1]\n",
      "  [17 -1 -1 -1 -1]]\n",
      "\n",
      " [[18 -1 -1 -1 -1]\n",
      "  [ 0 17 -1 -1 -1]]\n",
      "\n",
      " [[ 7 19 -1 -1 -1]\n",
      "  [ 8 18  4 -1 -1]]\n",
      "\n",
      " [[20 -1 -1 -1 -1]\n",
      "  [19 -1 -1 -1 -1]]\n",
      "\n",
      " [[18 10 -1 -1 -1]\n",
      "  [19  2 -1 -1 -1]]]\n",
      "[[[1 1 1 0 0]\n",
      "  [1 1 1 0 0]]\n",
      "\n",
      " [[1 1 0 0 0]\n",
      "  [1 1 0 0 0]]\n",
      "\n",
      " [[1 0 0 0 0]\n",
      "  [1 0 0 0 0]]\n",
      "\n",
      " [[1 0 0 0 0]\n",
      "  [1 1 0 0 0]]\n",
      "\n",
      " [[1 1 1 0 0]\n",
      "  [1 1 1 1 1]]\n",
      "\n",
      " [[1 1 1 0 0]\n",
      "  [1 1 1 0 0]]\n",
      "\n",
      " [[1 1 0 0 0]\n",
      "  [1 1 1 0 0]]\n",
      "\n",
      " [[1 0 0 0 0]\n",
      "  [1 0 0 0 0]]\n",
      "\n",
      " [[1 0 0 0 0]\n",
      "  [1 1 0 0 0]]\n",
      "\n",
      " [[1 1 0 0 0]\n",
      "  [1 1 1 0 0]]\n",
      "\n",
      " [[1 0 0 0 0]\n",
      "  [1 0 0 0 0]]\n",
      "\n",
      " [[1 1 0 0 0]\n",
      "  [1 1 0 0 0]]]\n"
     ]
    }
   ],
   "source": [
    "# Build a regularized array of indices, padded with -1, and a corresponding mask padded with 0.\n",
    "indices = -np.ones((len(ragged_indices), 2, width), dtype=int)\n",
    "mask = np.zeros((len(ragged_indices), 2, width), dtype=int)\n",
    "for i, reaction_indices in enumerate(ragged_indices):\n",
    "    indices[i, 0, :len(reaction_indices[0])] = reaction_indices[0]\n",
    "    indices[i, 1, :len(reaction_indices[1])] = reaction_indices[1]\n",
    "    mask[i, 0, :len(reaction_indices[0])] = 1\n",
    "    mask[i, 1, :len(reaction_indices[1])] = 1\n",
    "print(indices)\n",
    "print(mask)"
   ]
  },
  {
   "cell_type": "code",
   "execution_count": 4,
   "id": "bc4e5aed-c109-4e37-aa27-d0f933e59cbc",
   "metadata": {
    "tags": []
   },
   "outputs": [
    {
     "data": {
      "text/plain": [
       "array([2.71e-01, 2.55e+00, 2.39e+01, 1.65e-02, 0.00e+00, 8.36e-02,\n",
       "       1.54e+00, 9.63e+00, 5.55e-01, 9.18e-02, 0.00e+00, 1.84e-01,\n",
       "       3.66e+00, 2.81e-01, 1.37e+00, 6.06e-01, 7.52e-02, 3.06e+00,\n",
       "       1.52e+01, 2.52e+00, 7.88e+00])"
      ]
     },
     "execution_count": 4,
     "metadata": {},
     "output_type": "execute_result"
    }
   ],
   "source": [
    "# All taken from https://www.ncbi.nlm.nih.gov/pmc/articles/PMC4912430/, except where starred\n",
    "# Maybe this should be in the KB somewhere...\n",
    "POOLS = {KB(met_id): conc for met_id, conc in [\n",
    "    ('2pg', 9.18e-02),\n",
    "    ('3pg', 1.54),\n",
    "    ('6pg', 3.77),\n",
    "    ('6pgdl', 1.), # ************\n",
    "    ('Ery.D.4P', 4.90e-02),\n",
    "    ('Fru.D.6P', 2.52),\n",
    "    ('Fru.D.bis16', 15.2),\n",
    "    ('Glc.D.6P', 7.88),\n",
    "    ('Rib.D.5P', 7.87e-01),\n",
    "    ('Rul.D.5P', 1.12e-01),\n",
    "    ('Sed.D.7P', 8.82e-01),\n",
    "    ('Xul.D.5P', 1.81e-01),\n",
    "    ('accoa', 6.06e-01),\n",
    "    ('acon', 1.61e-02),\n",
    "    ('adp', 5.55e-01),\n",
    "    ('akg', 4.43e-01),\n",
    "    ('amp', 2.81e-01),\n",
    "    ('atp', 9.63),\n",
    "    ('cit', 1.96),\n",
    "    ('co2', 7.52e-02),\n",
    "    ('coa', 1.37),\n",
    "    ('dhap', 3.06),\n",
    "    ('dpg', 1.65e-02),\n",
    "    ('fum', 2.88e-01),\n",
    "    ('gap', 2.71e-01),\n",
    "    ('glx', 0.1),  # **********\n",
    "    ('icit', 3.67e-02),\n",
    "    ('kdpg', 0.01),  # **********\n",
    "    ('mal.L', 1.68),\n",
    "    ('nad.ox', 2.55),\n",
    "    ('nad.red', 8.36e-02),\n",
    "    ('nadp.ox', 2.08e-03),\n",
    "    ('nadp.red', 1.21e-01),\n",
    "    ('oaa', 4.87e-04),\n",
    "    ('pep', 1.84e-01),\n",
    "    ('pi', 23.9),\n",
    "    ('pyr', 3.66),\n",
    "    ('q.ox', 0.01),  # **********\n",
    "    ('q.red', 0.01),  # **********\n",
    "    ('succ', 5.69e-01),\n",
    "    ('succcoa', 2.33e-01),\n",
    "]}\n",
    "\n",
    "state = pw.molecules.pack(POOLS)\n",
    "state"
   ]
  },
  {
   "cell_type": "code",
   "execution_count": 5,
   "id": "775eb188-a476-4a73-a7cd-b7a41f76abb3",
   "metadata": {
    "tags": []
   },
   "outputs": [
    {
     "name": "stdout",
     "output_type": "stream",
     "text": [
      "[[0.24393938 0.98864717]\n",
      " [0.79771909 0.86229213]\n",
      " [0.30505736 0.35540929]\n",
      " [0.97067327 0.08206506]\n",
      " [0.71806872 0.15587295]\n",
      " [0.70148372 0.43307884]\n",
      " [0.37127029 0.33883736]\n",
      " [0.79413118 0.04328649]\n",
      " [0.91175046 0.72198283]\n",
      " [0.63780652 0.22756648]\n",
      " [0.44202183 0.3890605 ]\n",
      " [0.17855327 0.44526287]]\n",
      "\n",
      "[[[1.7330887  1.32468589 1.19352067 1.         1.        ]\n",
      "  [1.84511803 1.49352581 1.32655475 1.         1.        ]]\n",
      "\n",
      " [[1.68000414 1.4106932  1.         1.         1.        ]\n",
      "  [1.88453739 1.06395593 1.         1.         1.        ]]\n",
      "\n",
      " [[1.86311185 1.         1.         1.         1.        ]\n",
      "  [1.08700861 1.         1.         1.         1.        ]]\n",
      "\n",
      " [[1.83816509 1.         1.         1.         1.        ]\n",
      "  [1.34808971 1.67732023 1.         1.         1.        ]]\n",
      "\n",
      " [[1.25781949 1.05978852 1.14475395 1.         1.        ]\n",
      "  [1.06395669 1.56322101 1.16011143 1.59990145 1.87276124]]\n",
      "\n",
      " [[1.73577349 1.01549016 1.91770028 1.         1.        ]\n",
      "  [1.84548954 1.99723361 1.61885689 1.         1.        ]]\n",
      "\n",
      " [[1.44950365 1.84345003 1.         1.         1.        ]\n",
      "  [1.31038109 1.24856331 1.19084185 1.         1.        ]]\n",
      "\n",
      " [[1.20205876 1.         1.         1.         1.        ]\n",
      "  [1.64689767 1.         1.         1.         1.        ]]\n",
      "\n",
      " [[1.17591246 1.         1.         1.         1.        ]\n",
      "  [1.98912617 1.6723483  1.         1.         1.        ]]\n",
      "\n",
      " [[1.59369042 1.76544111 1.         1.         1.        ]\n",
      "  [1.86370886 1.24211536 1.47529502 1.         1.        ]]\n",
      "\n",
      " [[1.39288675 1.         1.         1.         1.        ]\n",
      "  [1.62408382 1.         1.         1.         1.        ]]\n",
      "\n",
      " [[1.04809883 1.45620172 1.         1.         1.        ]\n",
      "  [1.77559645 1.44985384 1.         1.         1.        ]]]\n"
     ]
    }
   ],
   "source": [
    "# Generate some random kinetic data\n",
    "prng = jax.random.PRNGKey(0)\n",
    "prng, prng_ = jax.random.split(prng)\n",
    "kcat_ = jax.random.uniform(prng_, indices.shape[:2])\n",
    "prng, prng_ = jax.random.split(prng)\n",
    "km_ = jax.random.uniform(prng_, indices.shape) * mask + 1\n",
    "print(kcat_)\n",
    "print()\n",
    "print(km_)"
   ]
  },
  {
   "cell_type": "code",
   "execution_count": 6,
   "id": "6529adf9-c216-4e7b-bd1c-6dd58b9332fb",
   "metadata": {
    "tags": []
   },
   "outputs": [
    {
     "name": "stdout",
     "output_type": "stream",
     "text": [
      "gapdh: [gap: 1.73308870290881, nad.ox: 1.3246858878742374, pi: 1.193520669464333, dpg: 1.845118028680578, h+: 1.4935258099196147, nad.red: 1.3265547470590975]\n",
      "pgk: [3pg: 1.6800041426858345, atp: 1.4106931966597775, dpg: 1.8845373875380222, adp: 1.0639559349130323]\n",
      "gpm: [2pg: 1.863111852460446, 3pg: 1.087008606641008]\n",
      "eno: [2pg: 1.83816508655738, h2o: 1.3480897075806795, pep: 1.6773202300618018]\n",
      "pps: [atp: 1.2578194870841028, h2o: 1.0597885152616335, pyr: 1.1447539509396485, amp: 1.06395669472636, pi: 1.5632210105256392, pep: 1.1601114314111014, h+: 1.8727612362372212]\n",
      "pdh: [coa: 1.735773490376081, nad.ox: 1.0154901613098066, pyr: 1.9177002810527666, accoa: 1.8454895449793587, co2: 1.997233605782102, nad.red: 1.6188568909964942]\n",
      "pyk: [atp: 1.4495036494695925, pyr: 1.8434500296356866, adp: 1.310381086550176, h+: 1.248563312555589, pep: 1.1908418515609596]\n",
      "tpi: [gap: 1.2020587643039475, dhap: 1.6468976747200537]\n",
      "fba: [Fru.D.bis16: 1.1759124551051658, gap: 1.989126170369294, dhap: 1.6723482997507577]\n",
      "pfk: [atp: 1.5936904245159553, Fru.D.6P: 1.765441106928819, adp: 1.8637088638990469, Fru.D.bis16: 1.2421153611883478, h+: 1.4752950199836787]\n",
      "pgi: [Glc.D.6P: 1.392886754131421, Fru.D.6P: 1.624083817979262]\n",
      "fbp: [Fru.D.bis16: 1.0480988258198884, h2o: 1.4562017205008837, Fru.D.6P: 1.7755964452728505, pi: 1.449853835067272]\n"
     ]
    }
   ],
   "source": [
    "kcats = {reaction: tuple(v.tolist()) for reaction, v in zip(pw.reactions, kcat_)}\n",
    "kms = {\n",
    "    reaction: {\n",
    "        pw.molecules[idx]: km\n",
    "        for idx, km in zip(reaction_indices.ravel(), reaction_kms.ravel().tolist())\n",
    "        if idx >= 0\n",
    "    }\n",
    "    for reaction, reaction_indices, reaction_kms in zip(pw.reactions, indices, km_)\n",
    "}\n",
    "for rxn, data in kms.items():\n",
    "    print(f'{rxn.id}: [{\", \".join(f\"{mol.id}: {km}\" for mol, km in data.items())}]')"
   ]
  },
  {
   "cell_type": "code",
   "execution_count": 7,
   "id": "1aac42c7-55a1-4772-ae51-d1a5c0b34be2",
   "metadata": {
    "tags": []
   },
   "outputs": [],
   "source": [
    "def kcat_array(kcats):\n",
    "    return np.array([kcats.get(reaction, (0, 0)) for reaction in pw.reactions])\n",
    "\n",
    "def km_array(kms):\n",
    "    # Result shape is (#rxns, 2, width)\n",
    "    result = np.ones((pw.shape[1], 2, width))\n",
    "    # Use self.indices_ as the source of truth; do not rely on iterating over reaction.stoichiometry.items().\n",
    "    for i, rxn_indices in enumerate(indices):\n",
    "        reaction = pw.reactions[i]\n",
    "        if reaction in kms:\n",
    "            for j, side in enumerate(rxn_indices):\n",
    "                for k, molecule_idx in enumerate(side):\n",
    "                    if molecule_idx >= 0:\n",
    "                        result[i, j, k] = kms[reaction].get(pw.molecules[molecule_idx], 1)\n",
    "    return result\n"
   ]
  },
  {
   "cell_type": "code",
   "execution_count": 8,
   "id": "2a7b688d-623b-48ef-a1f6-1bf2b7cec01b",
   "metadata": {
    "tags": []
   },
   "outputs": [
    {
     "name": "stdout",
     "output_type": "stream",
     "text": [
      "0.0\n",
      "0.07445246079680501\n"
     ]
    }
   ],
   "source": [
    "print(np.sum(np.square(kcat_ - kcat_array(kcats))))\n",
    "print(np.sum(np.square(km_ - km_array(kms))))"
   ]
  },
  {
   "cell_type": "markdown",
   "id": "6757f08f-863b-4d28-81a9-8d84a29de8e7",
   "metadata": {},
   "source": [
    "Packed kcat structure is out of agreement with the random inputs"
   ]
  },
  {
   "cell_type": "code",
   "execution_count": 9,
   "id": "c771bc97-79bf-4a58-829b-d03e6435b070",
   "metadata": {},
   "outputs": [
    {
     "name": "stdout",
     "output_type": "stream",
     "text": [
      "CANON:glycolysis\n",
      "name: Glycolysis\n",
      "shorthand: None\n",
      "aka: None\n",
      "description: None\n",
      "xrefs: None\n",
      "size: 12 reactions over 21 molecules.\n",
      "reactions: \n",
      "    [gapdh] GAP + NAD+ + Pi <=> DPG + H+ + NADH\n",
      "    [pgk] 3PG + ATP <=> DPG + ADP\n",
      "    [gpm] 2PG <=> 3PG\n",
      "    [eno] 2PG <=> H2O + PEP\n",
      "    [pps] ATP + H2O + pyr => AMP + Pi + PEP + 2 H+\n",
      "    [pdh] CoA + NAD+ + pyr => acCoA + CO2 + NADH\n",
      "    [pyk] ATP + pyr <=> ADP + H+ + PEP\n",
      "    [tpi] GAP <=> DHAP\n",
      "    [fba] FDP <=> GAP + DHAP\n",
      "    [pfk] ATP + F6P => ADP + FDP + H+\n",
      "    [pgi] G6P <=> F6P\n",
      "    [fbp] FDP + H2O => F6P + Pi\n"
     ]
    }
   ],
   "source": [
    "pw.data()"
   ]
  },
  {
   "cell_type": "code",
   "execution_count": 10,
   "id": "d1d891c6-0dc7-4892-91b3-f4f865d0ab49",
   "metadata": {
    "tags": []
   },
   "outputs": [
    {
     "data": {
      "text/plain": [
       "[pps] ATP + H2O + pyr => AMP + Pi + PEP + 2 H+"
      ]
     },
     "execution_count": 10,
     "metadata": {},
     "output_type": "execute_result"
    }
   ],
   "source": [
    "pw.reactions[4]"
   ]
  },
  {
   "cell_type": "code",
   "execution_count": 11,
   "id": "e40c64bc-2d98-4717-8b06-dbf25f281dc4",
   "metadata": {
    "tags": []
   },
   "outputs": [
    {
     "data": {
      "text/plain": [
       "Array([[1.25781949, 1.05978852, 1.14475395, 1.        , 1.        ],\n",
       "       [1.06395669, 1.56322101, 1.16011143, 1.59990145, 1.87276124]],      dtype=float64)"
      ]
     },
     "execution_count": 11,
     "metadata": {},
     "output_type": "execute_result"
    }
   ],
   "source": [
    "km_[4]"
   ]
  },
  {
   "cell_type": "code",
   "execution_count": 12,
   "id": "5b2b61a3-3cc0-4f4c-b13b-d34e1c9b42dd",
   "metadata": {
    "tags": []
   },
   "outputs": [
    {
     "data": {
      "text/plain": [
       "array([[1.25781949, 1.05978852, 1.14475395, 1.        , 1.        ],\n",
       "       [1.06395669, 1.56322101, 1.16011143, 1.87276124, 1.87276124]])"
      ]
     },
     "execution_count": 12,
     "metadata": {},
     "output_type": "execute_result"
    }
   ],
   "source": [
    "km_array(kms)[4]"
   ]
  },
  {
   "cell_type": "markdown",
   "id": "e05efb93-5888-4d94-a7e7-0dfe81ea788c",
   "metadata": {},
   "source": [
    "- The Km array allows for multiple Km values, in this case for the 2 protons produced in the reaction\n",
    "- But the most generalized form of convenience kinetics allows only for one Km per enzyme, substrate combination\n",
    "- Microscopically, it actually makes sense we need separate binding sites for each copy of a molecule, and these binding sites can (and probably will) have different affinities\n",
    "- Empirically it may be difficult to distinguish these separate affinities, so we will probably measure and report a single Km per substrate\n",
    "- Leave this unresolved for now, but consider a `kms` data structure that allows for multiple affinities/Km's"
   ]
  },
  {
   "cell_type": "code",
   "execution_count": 13,
   "id": "d856df96-be25-49a7-9981-095b83bb7f2f",
   "metadata": {
    "tags": []
   },
   "outputs": [
    {
     "data": {
      "text/plain": [
       "Array([[[1.56368223e-01, 1.92498465e+00, 2.00247894e+01, 1.00000000e+00,\n",
       "         1.00000000e+00],\n",
       "        [8.94251736e-03, 0.00000000e+00, 6.30203919e-02, 1.00000000e+00,\n",
       "         1.00000000e+00]],\n",
       "\n",
       "       [[9.16664406e-01, 6.82643116e+00, 1.00000000e+00, 1.00000000e+00,\n",
       "         1.00000000e+00],\n",
       "        [8.75546440e-03, 5.21638145e-01, 1.00000000e+00, 1.00000000e+00,\n",
       "         1.00000000e+00]],\n",
       "\n",
       "       [[4.92724041e-02, 1.00000000e+00, 1.00000000e+00, 1.00000000e+00,\n",
       "         1.00000000e+00],\n",
       "        [1.41673211e+00, 1.00000000e+00, 1.00000000e+00, 1.00000000e+00,\n",
       "         1.00000000e+00]],\n",
       "\n",
       "       [[4.99411074e-02, 1.00000000e+00, 1.00000000e+00, 1.00000000e+00,\n",
       "         1.00000000e+00],\n",
       "        [0.00000000e+00, 1.09698790e-01, 1.00000000e+00, 1.00000000e+00,\n",
       "         1.00000000e+00]],\n",
       "\n",
       "       [[7.65610654e+00, 0.00000000e+00, 3.19719360e+00, 1.00000000e+00,\n",
       "         1.00000000e+00],\n",
       "        [2.64108494e-01, 1.52889450e+01, 1.58605454e-01, 0.00000000e+00,\n",
       "         0.00000000e+00]],\n",
       "\n",
       "       [[7.89273490e-01, 2.51110262e+00, 1.90853599e+00, 1.00000000e+00,\n",
       "         1.00000000e+00],\n",
       "        [3.28368157e-01, 3.76520802e-02, 5.16413776e-02, 1.00000000e+00,\n",
       "         1.00000000e+00]],\n",
       "\n",
       "       [[6.64365350e+00, 1.98540776e+00, 1.00000000e+00, 1.00000000e+00,\n",
       "         1.00000000e+00],\n",
       "        [4.23540912e-01, 0.00000000e+00, 1.54512541e-01, 1.00000000e+00,\n",
       "         1.00000000e+00]],\n",
       "\n",
       "       [[2.25446549e-01, 1.00000000e+00, 1.00000000e+00, 1.00000000e+00,\n",
       "         1.00000000e+00],\n",
       "        [1.85803893e+00, 1.00000000e+00, 1.00000000e+00, 1.00000000e+00,\n",
       "         1.00000000e+00]],\n",
       "\n",
       "       [[1.29261323e+01, 1.00000000e+00, 1.00000000e+00, 1.00000000e+00,\n",
       "         1.00000000e+00],\n",
       "        [1.36240729e-01, 1.82976238e+00, 1.00000000e+00, 1.00000000e+00,\n",
       "         1.00000000e+00]],\n",
       "\n",
       "       [[6.04257882e+00, 1.42740530e+00, 1.00000000e+00, 1.00000000e+00,\n",
       "         1.00000000e+00],\n",
       "        [2.97793293e-01, 1.22371887e+01, 0.00000000e+00, 1.00000000e+00,\n",
       "         1.00000000e+00]],\n",
       "\n",
       "       [[5.65731563e+00, 1.00000000e+00, 1.00000000e+00, 1.00000000e+00,\n",
       "         1.00000000e+00],\n",
       "        [1.55164405e+00, 1.00000000e+00, 1.00000000e+00, 1.00000000e+00,\n",
       "         1.00000000e+00]],\n",
       "\n",
       "       [[1.45024492e+01, 0.00000000e+00, 1.00000000e+00, 1.00000000e+00,\n",
       "         1.00000000e+00],\n",
       "        [1.41924141e+00, 1.64844203e+01, 1.00000000e+00, 1.00000000e+00,\n",
       "         1.00000000e+00]]], dtype=float64)"
      ]
     },
     "execution_count": 13,
     "metadata": {},
     "output_type": "execute_result"
    }
   ],
   "source": [
    "# $\\tilde{a} = a_i / {km}^a_i for all i; \\tilde{b} = b_j / {km}^b_j for all j$, padded with ones as neccessary\n",
    "state_norm = jnp.append(state, 1)[indices] / km_\n",
    "state_norm"
   ]
  },
  {
   "cell_type": "code",
   "execution_count": 14,
   "id": "2e3a831f-3134-4aa1-8f18-21b3f48df5ec",
   "metadata": {
    "tags": []
   },
   "outputs": [
    {
     "data": {
      "text/plain": [
       "Array([  1.47036667,   4.98782602,  -0.48848884,   0.0484765 ,\n",
       "         0.        ,   2.6531675 ,   4.89718926,   0.09860614,\n",
       "        11.60542538,   5.5012146 ,   1.89697358, -10.41709037],      dtype=float64)"
      ]
     },
     "execution_count": 14,
     "metadata": {},
     "output_type": "execute_result"
    }
   ],
   "source": [
    "# $k_{+}^{cat} \\prod_i{\\tilde{a}_i} - k_{-}^{cat} \\prod_j{\\tilde{b}_j}$\n",
    "numerator = jnp.sum(kcat_ * np.array([[1, -1]]) * jnp.prod(state_norm, axis=-1), axis=-1)\n",
    "numerator"
   ]
  },
  {
   "cell_type": "code",
   "execution_count": 15,
   "id": "901c4ead-c553-455d-bee9-a540358df0ac",
   "metadata": {
    "tags": []
   },
   "outputs": [
    {
     "data": {
      "text/plain": [
       "Array([71.1859183 , 15.53560283,  2.46600452,  1.1596399 , 59.18819251,\n",
       "       18.72192766, 23.46291835,  3.08348548, 16.14142359, 33.27432782,\n",
       "        8.20895968, 56.80148283], dtype=float64)"
      ]
     },
     "execution_count": 15,
     "metadata": {},
     "output_type": "execute_result"
    }
   ],
   "source": [
    "# $\\prod_i{(1 + \\tilde{a}_i)} + \\prod_j{(1 + \\tilde{b}_j)} - 1$\n",
    "denominator = jnp.sum(jnp.prod(state_norm + mask, axis=-1), axis=-1) - 1\n",
    "denominator"
   ]
  },
  {
   "cell_type": "code",
   "execution_count": 16,
   "id": "05ce0e39-4314-4579-94c7-0a43b433a57a",
   "metadata": {
    "tags": []
   },
   "outputs": [
    {
     "data": {
      "text/plain": [
       "Array([ 0.01894281,  0.31094048, -0.09310494,  0.03935759,  0.        ,\n",
       "        0.00475016,  0.03776994,  0.01562432,  0.11157757,  0.07519609,\n",
       "        0.2147097 , -0.00536056], dtype=float64)"
      ]
     },
     "execution_count": 16,
     "metadata": {},
     "output_type": "execute_result"
    }
   ],
   "source": [
    "prng, prng_ = jax.random.split(prng)\n",
    "enzyme_conc = jax.random.uniform(prng_, indices.shape[:1])\n",
    "rates = enzyme_conc * numerator / denominator\n",
    "rates"
   ]
  },
  {
   "cell_type": "code",
   "execution_count": 17,
   "id": "88dcaea7-8702-4b64-a2d1-04e0972d33f1",
   "metadata": {
    "tags": []
   },
   "outputs": [],
   "source": [
    "@dataclass\n",
    "class ReactionKinetics:\n",
    "    reaction: Reaction\n",
    "    kcat_f: float\n",
    "    kcat_b: float\n",
    "    km: Mapping[Molecule, float]\n",
    "\n",
    "\n",
    "class ConvenienceKinetics:\n",
    "    def __init__(self, \n",
    "                 pw: Pathway,\n",
    "                 kinetics: Optional[Iterable[ReactionKinetics]] = None):\n",
    "        self.pw = pw\n",
    "        \n",
    "        # Build up a list of substrate and product indices for each reaction.\n",
    "        width = 0\n",
    "        ragged_indices = []\n",
    "        for reaction in pw.reactions:\n",
    "            reaction_indices = [[], []]\n",
    "            for molecule, count in reaction.stoichiometry.items():\n",
    "                idx = pw.molecules.index_of(molecule)\n",
    "                if count < 0:\n",
    "                    reaction_indices[0].extend([idx] * -count)\n",
    "                else:\n",
    "                    reaction_indices[1].extend([idx] * count)\n",
    "\n",
    "            width = max(width, len(reaction_indices[0]), len(reaction_indices[1]))\n",
    "            ragged_indices.append(reaction_indices)\n",
    "            \n",
    "        # Build a regularized array of indices, padded with -1, and a corresponding mask padded with 0.\n",
    "        indices = -np.ones((len(ragged_indices), 2, width), dtype=int)\n",
    "        mask = np.zeros((len(ragged_indices), 2, width), dtype=int)\n",
    "        for i, reaction_indices in enumerate(ragged_indices):\n",
    "            indices[i, 0, :len(reaction_indices[0])] = reaction_indices[0]\n",
    "            indices[i, 1, :len(reaction_indices[1])] = reaction_indices[1]\n",
    "            mask[i, 0, :len(reaction_indices[0])] = 1\n",
    "            mask[i, 1, :len(reaction_indices[1])] = 1\n",
    "\n",
    "        self.width_ = width\n",
    "        self.indices_ = indices\n",
    "        self.mask_ = mask\n",
    "        \n",
    "        # Save kinetic parameters per reaction, if given\n",
    "        if kinetics is not None:\n",
    "            self.kcats_, self.kms_ = self.param_arrays(kinetics)\n",
    "        else:\n",
    "            self.kcats_ = None\n",
    "            self.kms_ = None\n",
    "\n",
    "    def param_arrays(self, kinetics: Iterable[ReactionKinetics]) -> Tuple[np.ndarray, np.ndarray]:\n",
    "        \"\"\"Processes ReactionKinetics structure into parameter arrays used for rate calculations.\"\"\"\n",
    "        kcats = np.zeros((self.pw.shape[1], 2))\n",
    "        kms = np.ones((self.pw.shape[1], 2, self.width_))\n",
    "        \n",
    "        for reaction_kinetics in kinetics:\n",
    "            i = self.pw.reactions.index_of(reaction_kinetics.reaction)\n",
    "            if i is not None:\n",
    "                kcats[i, 0] = reaction_kinetics.kcat_f\n",
    "                kcats[i, 1] = reaction_kinetics.kcat_b\n",
    "\n",
    "                # Use self.indices_ as the source of truth for what value belongs where.\n",
    "                for j, side in enumerate(self.indices_[i]):\n",
    "                    for k, molecule_idx in enumerate(side):\n",
    "                        if molecule_idx >= 0:\n",
    "                            kms[i, j, k] = reaction_kinetics.km.get(self.pw.molecules[molecule_idx], 1)\n",
    "        return kcats, kms\n",
    "        \n",
    "    def reaction_rates(self,\n",
    "                       state: ArrayT,\n",
    "                       enzyme_conc: ArrayT,\n",
    "                       kcats: Optional[ArrayT] = None,\n",
    "                       kms: Optional[ArrayT] = None) -> ArrayT:\n",
    "        \"\"\"Calculates current reaction rates using the convenience kinetics formula.\"\"\"\n",
    "        # Use kinetic parameters as supplied, or fall back to configred intrinsic values\n",
    "        if kcats is None:\n",
    "            kcats = self.kcats_\n",
    "        if kms is None:\n",
    "            kms = self.kms_\n",
    "        \n",
    "        # $\\tilde{a} = a_i / {km}^a_i for all i; \\tilde{b} = b_j / {km}^b_j for all j$, padded with ones as neccessary\n",
    "        # Appending [1] to the state vector means any index of -1 translates to unity, i.e. a no-op for multiplication.\n",
    "        state_norm = jnp.append(state, 1)[self.indices_] / kms\n",
    "\n",
    "        # $k_{+}^{cat} \\prod_i{\\tilde{a}_i} + k_{-}^{cat} \\prod_j{\\tilde{b}_j}$\n",
    "        numerator = jnp.sum(kcats * jnp.array([[1, -1]]) * jnp.prod(state_norm, axis=-1), axis=-1)\n",
    "        \n",
    "        # $\\prod_i{(1 + \\tilde{a}_i)} + \\prod_j{(1 + \\tilde{b}_j)} - 1$\n",
    "        # state_norm + mask means (1 + \\tilde{a}_i) for all real values, and 1 (i.e. a no-op for multiplication) for all padded values.\n",
    "        denominator = jnp.sum(jnp.prod(state_norm + self.mask_, axis=-1), axis=-1) - 1\n",
    "        \n",
    "        rates = enzyme_conc * numerator / denominator\n",
    "        return rates\n",
    "\n",
    "    def dstate_dt(self,\n",
    "                  state: ArrayT,\n",
    "                  enzyme_conc: ArrayT,\n",
    "                  kcats: Optional[ArrayT] = None,\n",
    "                  kms: Optional[ArrayT] = None) -> ArrayT:\n",
    "        return pw.s_matrix @ self.reaction_rates(state, enzyme_conc, kcats, kms)"
   ]
  },
  {
   "cell_type": "code",
   "execution_count": 18,
   "id": "c6cb31aa-821c-4916-bf6e-24ee6d3cb7a5",
   "metadata": {
    "tags": []
   },
   "outputs": [],
   "source": [
    "kinetics = [ReactionKinetics(rxn, kcat_f, kcat_b, kms[rxn]) for rxn, (kcat_f, kcat_b) in kcats.items()]\n",
    "ck = ConvenienceKinetics(pw, kinetics)"
   ]
  },
  {
   "cell_type": "code",
   "execution_count": 19,
   "id": "0953f9ff-69c7-44e7-be63-4264a5a28b5a",
   "metadata": {
    "tags": []
   },
   "outputs": [
    {
     "data": {
      "text/plain": [
       "Array([ 0.01894281,  0.31094048, -0.09310494,  0.03935759,  0.        ,\n",
       "        0.00475016,  0.03776994,  0.01562432,  0.11157757,  0.07519609,\n",
       "        0.2147097 , -0.00536056], dtype=float64)"
      ]
     },
     "execution_count": 19,
     "metadata": {},
     "output_type": "execute_result"
    }
   ],
   "source": [
    "ck.reaction_rates(state, enzyme_conc)"
   ]
  },
  {
   "cell_type": "code",
   "execution_count": 20,
   "id": "2c03645a-8880-45c1-8657-9b7409fb58ee",
   "metadata": {
    "tags": []
   },
   "outputs": [
    {
     "data": {
      "text/plain": [
       "Array([ 0.07701045, -0.02369296, -0.02430337,  0.32988329,  0.13190884,\n",
       "        0.02369296, -0.40404542, -0.42390652,  0.42390652,  0.05374735,\n",
       "        0.04471815,  0.07712753, -0.0425201 ,  0.        , -0.00475016,\n",
       "        0.00475016,  0.00475016,  0.12720189, -0.03102092,  0.13415305,\n",
       "       -0.2147097 ], dtype=float64)"
      ]
     },
     "execution_count": 20,
     "metadata": {},
     "output_type": "execute_result"
    }
   ],
   "source": [
    "ck.dstate_dt(state, enzyme_conc)"
   ]
  },
  {
   "cell_type": "markdown",
   "id": "73bfc394-65fe-4e51-8c2f-b97af459ad14",
   "metadata": {},
   "source": [
    "## Alternative Approach to the Computation\n",
    "\n",
    "- True data shape for $k_m$ and $\\tilde{a}$ is (#rxns, 2, {ragged})\n",
    "- First approach pads the ragged dimension with ones, then uses jnp.prod to collapse to (#rxns, 2)\n",
    "- Alternative strings everything into a 1d array, then uses segment_prod and reshape to get the same (#rxn2, 2) result"
   ]
  },
  {
   "cell_type": "code",
   "execution_count": 21,
   "id": "3e4d3206-e273-4311-9cdd-94bcc128632c",
   "metadata": {
    "tags": []
   },
   "outputs": [],
   "source": [
    "class ConvenienceKinetics2:\n",
    "    def __init__(self, \n",
    "                 pw: Pathway,\n",
    "                 kinetics: Optional[Mapping[Reaction, ReactionKinetics]] = None):\n",
    "        self.pw = pw\n",
    "        \n",
    "        # Build up a list of substrate and product indices for each reaction.\n",
    "        # Collapse into a 1d vector, with corresponding segment id vector to identify the original groupings.\n",
    "        indices = []\n",
    "        segment_ids = []\n",
    "        for i, reaction in enumerate(pw.reactions):\n",
    "            reaction_indices = [[], []]\n",
    "            for molecule, count in reaction.stoichiometry.items():\n",
    "                idx = pw.molecules.index_of(molecule)\n",
    "                if count < 0:\n",
    "                    reaction_indices[0].extend([idx] * -count)\n",
    "                else:\n",
    "                    reaction_indices[1].extend([idx] * count)\n",
    "\n",
    "            indices.extend(reaction_indices[0])\n",
    "            segment_ids.extend([2 * i] * len(reaction_indices[0]))\n",
    "            indices.extend(reaction_indices[1])\n",
    "            segment_ids.extend([2 * i + 1] * len(reaction_indices[1]))\n",
    "\n",
    "        self.indices_ = np.array(indices)\n",
    "        self.segment_ids_ = np.array(segment_ids)\n",
    "        \n",
    "        # Save kinetic parameters per reaction, if given\n",
    "        if kinetics is not None:\n",
    "            self.kcats_, self.kms_ = self.param_arrays(kinetics)\n",
    "        else:\n",
    "            self.kcats_ = None\n",
    "            self.kms_ = None\n",
    "\n",
    "    def param_arrays(self, kinetics: Mapping[Reaction, ReactionKinetics]) -> Tuple[np.ndarray, np.ndarray]:\n",
    "        \"\"\"Processes ReactionKinetics structure into parameter arrays used for rate calculations.\"\"\"\n",
    "        kcats = []\n",
    "        for reaction in self.pw.reactions:\n",
    "            # Require that each reaction's kinetics are included, i.e. allow this to throw an error if not.\n",
    "            reaction_kinetics = kinetics[reaction]\n",
    "            kcats.append([reaction_kinetics.kcat_f, reaction_kinetics.kcat_b])\n",
    "        \n",
    "        # Easiest to build the Km array colinear with self.indices_, inferring reaction from segment_id.\n",
    "        kms = []\n",
    "        for molecule_index, segment_id in zip(self.indices_, self.segment_ids_):\n",
    "            # Segment ids for reaction i are 2i (substrates) and 2i + 1 (products).\n",
    "            i = int(segment_id / 2)\n",
    "            reaction = self.pw.reactions[i]\n",
    "            # Require that each reaction's kinetics are included, i.e. allow this to throw an error if not.\n",
    "            reaction_kinetics = kinetics[reaction]\n",
    "            kms.append(reaction_kinetics.km[self.pw.molecules[molecule_index]])\n",
    "\n",
    "        return jnp.array(kcats, dtype=np.float64), jnp.array(kms, dtype=np.float64)\n",
    "\n",
    "    def reaction_rates(self,\n",
    "                       state: ArrayT,\n",
    "                       enzyme_conc: ArrayT,\n",
    "                       kcats: Optional[ArrayT] = None,\n",
    "                       kms: Optional[ArrayT] = None) -> ArrayT:\n",
    "        \"\"\"Calculates current reaction rates using the convenience kinetics formula.\"\"\"\n",
    "        # Use kinetic parameters as supplied, or fall back to configred intrinsic values\n",
    "        if kcats is None:\n",
    "            kcats = self.kcats_\n",
    "        if kms is None:\n",
    "            kms = self.kms_\n",
    "        \n",
    "        # $\\tilde{a} = a_i / {km}^a_i for all i; \\tilde{b} = b_j / {km}^b_j for all j$.\n",
    "        state_norm = state[self.indices_] / kms\n",
    "\n",
    "        # $k_{+}^{cat} \\prod_i{\\tilde{a}_i} + k_{-}^{cat} \\prod_j{\\tilde{b}_j}$\n",
    "        num_rxns = self.pw.shape[1]\n",
    "        numerator = jnp.sum(kcats * jnp.array([[1, -1]]) * jax.ops.segment_prod(state_norm, segment_ids=self.segment_ids_, num_segments=num_rxns * 2).reshape((num_rxns, 2)), axis=-1)\n",
    "        \n",
    "        # $\\prod_i{(1 + \\tilde{a}_i)} + \\prod_j{(1 + \\tilde{b}_j)} - 1$\n",
    "        denominator = jnp.sum(jax.ops.segment_prod(state_norm + 1, segment_ids=self.segment_ids_, num_segments=num_rxns * 2).reshape((num_rxns, 2)), axis=-1) - 1\n",
    "        \n",
    "        rates = enzyme_conc * numerator / denominator\n",
    "        return rates\n",
    "\n",
    "    def dstate_dt(self,\n",
    "                  state: ArrayT,\n",
    "                  enzyme_conc: ArrayT,\n",
    "                  kcats: Optional[ArrayT] = None,\n",
    "                  kms: Optional[ArrayT] = None) -> ArrayT:\n",
    "        return pw.s_matrix @ self.reaction_rates(state, enzyme_conc, kcats, kms)"
   ]
  },
  {
   "cell_type": "code",
   "execution_count": 22,
   "id": "9464c27e-8079-412e-98ee-614b586d922f",
   "metadata": {
    "tags": []
   },
   "outputs": [],
   "source": [
    "ck2 = ConvenienceKinetics2(pw, {rk.reaction: rk for rk in kinetics})"
   ]
  },
  {
   "cell_type": "code",
   "execution_count": 23,
   "id": "bb8c8ba2-0e7a-42e0-a931-bb0c294debcc",
   "metadata": {
    "tags": []
   },
   "outputs": [
    {
     "data": {
      "text/plain": [
       "Array([-3.46944695e-18,  0.00000000e+00,  0.00000000e+00,  0.00000000e+00,\n",
       "        0.00000000e+00,  8.67361738e-19,  0.00000000e+00,  0.00000000e+00,\n",
       "        0.00000000e+00,  0.00000000e+00,  0.00000000e+00,  0.00000000e+00],      dtype=float64)"
      ]
     },
     "execution_count": 23,
     "metadata": {},
     "output_type": "execute_result"
    }
   ],
   "source": [
    "ck.reaction_rates(state, enzyme_conc) - ck2.reaction_rates(state, enzyme_conc)"
   ]
  },
  {
   "cell_type": "markdown",
   "id": "107f542a-af2c-4a77-aa15-5820d534966d",
   "metadata": {},
   "source": [
    "Numerical instability(?) - all the inputs are the same, but the sum-of-products comes out different in the 14th decimal place, for one reaction"
   ]
  },
  {
   "cell_type": "code",
   "execution_count": 24,
   "id": "594eac03-5257-43d7-831f-04443e296506",
   "metadata": {
    "tags": []
   },
   "outputs": [
    {
     "name": "stdout",
     "output_type": "stream",
     "text": [
      "690 μs ± 51 μs per loop (mean ± std. dev. of 7 runs, 1,000 loops each)\n",
      "1.71 ms ± 10.8 μs per loop (mean ± std. dev. of 7 runs, 1,000 loops each)\n"
     ]
    }
   ],
   "source": [
    "%timeit ck.reaction_rates(state, enzyme_conc)\n",
    "%timeit ck2.reaction_rates(state, enzyme_conc)"
   ]
  },
  {
   "cell_type": "code",
   "execution_count": 25,
   "id": "9117a372-cc91-4870-9c54-1406866efe83",
   "metadata": {
    "tags": []
   },
   "outputs": [
    {
     "name": "stdout",
     "output_type": "stream",
     "text": [
      "9.98 μs ± 112 ns per loop (mean ± std. dev. of 7 runs, 100,000 loops each)\n",
      "8.94 μs ± 135 ns per loop (mean ± std. dev. of 7 runs, 100,000 loops each)\n"
     ]
    }
   ],
   "source": [
    "fn1 = jax.jit(ck.reaction_rates)\n",
    "fn2 = jax.jit(ck2.reaction_rates)\n",
    "%timeit fn1(state, enzyme_conc)\n",
    "%timeit fn2(state, enzyme_conc)"
   ]
  },
  {
   "cell_type": "markdown",
   "id": "ef500358-4e08-4148-aeaa-6f72cb0d8d5a",
   "metadata": {},
   "source": [
    "All that and it's not faster even on a CPU. Stick with the initial implementation."
   ]
  },
  {
   "cell_type": "markdown",
   "id": "07c5c912-d320-4a85-8d8b-9383316ff0b0",
   "metadata": {},
   "source": [
    "## Regulation\n",
    "\n",
    "- Parameters ($K_I$ and $K_A$) can be stored semantically with ReactionKinetics\n",
    "- Simple generalized equations in the Convenience Kinetics paper\n",
    "  - Activation: $v' = \\frac{d}{d + K_A}v$\n",
    "    - Interpretation: unbound enzyme is purely inactive\n",
    "  - Inhibition: $v' = \\frac{K_I}{d + K_I}v$\n",
    "    - Interpretation: bound enzyme is purely inactive\n",
    "- Both can be expressed using the same convention of $\\tilde{d} = \\frac{d}{K}$, which then looks a lot like the other convenience kinetics terms:\n",
    "  - Activation: $v' = \\frac{\\tilde{d}}{\\tilde{d} + 1}v$\n",
    "  - Inhibition: $v' = \\frac{1}{\\tilde{d} + 1}v$\n"
   ]
  },
  {
   "cell_type": "code",
   "execution_count": 26,
   "id": "d5f01947-842b-4d91-b14c-ffae5bd35fc1",
   "metadata": {
    "tags": []
   },
   "outputs": [],
   "source": [
    "@dataclass\n",
    "class ReactionKinetics:\n",
    "    reaction: Reaction\n",
    "    kcat_f: float\n",
    "    kcat_b: float\n",
    "    km: Mapping[Molecule, float]\n",
    "    ka: Mapping[Molecule, float]\n",
    "    ki: Mapping[Molecule, float]\n",
    "\n",
    "class Ligands:\n",
    "    def __init__(self, pw: Pathway, ligand_lists: Iterable[Iterable[Molecule]], constants: Iterable[Mapping[Molecule, float]]):\n",
    "        self.pw = pw\n",
    "\n",
    "        ragged_indices = []\n",
    "        width = 0\n",
    "        for ligand_list in ligand_lists:\n",
    "            indices = [pw.molecules.index_of(ligand) for ligand in ligand_list]\n",
    "            ragged_indices.append(indices)\n",
    "            width = max(width, len(indices))\n",
    "        \n",
    "        # -1 as a default index lets us deref an array by appending a default value\n",
    "        padded_indices = np.full((len(ragged_indices), width), -1, dtype=int)\n",
    "        mask = np.zeros((len(ragged_indices), width), dtype=int)\n",
    "        for i, indices in enumerate(ragged_indices):\n",
    "            padded_indices[i, :len(indices)] = indices\n",
    "            mask[i, :len(indices)] = 1\n",
    "            \n",
    "        self.width = width\n",
    "        self.indices = padded_indices\n",
    "        self.mask = mask\n",
    "        \n",
    "        self.constants = self.constants_array(constants, default=1.0)\n",
    "\n",
    "    def constants_array(self, constants: Iterable[Mapping[Molecule, float]], default: float = 0.0) -> np.ndarray:\n",
    "        result = np.full(self.indices.shape, default)\n",
    "        for i, (row_indices, row_constants) in enumerate(zip(self.indices, constants)):\n",
    "            for j, ligand_index in enumerate(row_indices):\n",
    "                if self.mask[i, j]:\n",
    "                    result[i, j] = row_constants.get(self.pw.molecules[ligand_index], default)\n",
    "        return result\n",
    "    \n",
    "    def occupancy(self, state: ArrayT, constants: Optional[ArrayT] = None, default: float = 1.0) -> jnp.ndarray:\n",
    "        if constants is None:\n",
    "            constants = self.constants\n",
    "        # Appending [default] to the state vector means any index of -1 derefs to the default value.\n",
    "        return jnp.append(state, default)[self.indices] / constants\n",
    "\n",
    "    \n",
    "class ConvenienceKinetics:\n",
    "    def __init__(self,\n",
    "                 pw: Pathway,\n",
    "                 kinetics: Mapping[Reaction, ReactionKinetics]):\n",
    "        self.pw = pw\n",
    "        self.kcats = np.array([[kinetics[reaction].kcat_f, kinetics[reaction].kcat_b] for reaction in pw.reactions])\n",
    "        \n",
    "        # Substrates and products represented by one Ligands set each, with Km's.\n",
    "        substrates = []\n",
    "        products = []\n",
    "        constants = []\n",
    "        for reaction in pw.reactions:\n",
    "            substrates.append([])\n",
    "            products.append([])\n",
    "            for molecule, count in reaction.stoichiometry.items():\n",
    "                if count < 0:\n",
    "                    substrates[-1].extend([molecule] * -count)\n",
    "                else:\n",
    "                    products[-1].extend([molecule] * count)\n",
    "\n",
    "            constants.append(kinetics[reaction].km)\n",
    "\n",
    "        self.substrates = Ligands(pw, substrates, constants)\n",
    "        self.products = Ligands(pw, products, constants)\n",
    "        \n",
    "        # Activators and inhibitors represented by one Ligands set each, with Ka's or Ki's respectively.\n",
    "        activators = []\n",
    "        kas = []\n",
    "        inhibitors = []\n",
    "        kis = []\n",
    "        for reaction in pw.reactions:\n",
    "            reaction_kinetics = kinetics[reaction]\n",
    "            activators.append(reaction_kinetics.ka.keys())\n",
    "            kas.append(reaction_kinetics.ka)\n",
    "            inhibitors.append(reaction_kinetics.ki.keys())\n",
    "            kis.append(reaction_kinetics.ki)\n",
    "        \n",
    "        self.activators = Ligands(pw, activators, kas)\n",
    "        self.inhibitors = Ligands(pw, inhibitors, kis)\n",
    "\n",
    "    def reaction_rates(self,\n",
    "                       state: ArrayT,\n",
    "                       enzyme_conc: ArrayT) -> ArrayT:\n",
    "        kcats = self.kcats\n",
    "\n",
    "        # $\\tilde{a} = a_i / {km}^a_i for all i; \\tilde{b} = b_j / {km}^b_j for all j$, padded with ones as necessary.\n",
    "        occupancy_s = self.substrates.occupancy(state, default=1)\n",
    "        occupancy_p = self.products.occupancy(state, default=1)\n",
    "\n",
    "        # $k_{+}^{cat} \\prod_i{\\tilde{a}_i} + k_{-}^{cat} \\prod_j{\\tilde{b}_j}$.\n",
    "        numerator = kcats[:, 0] * jnp.prod(occupancy_s, axis=-1) - kcats[:, 1] * jnp.prod(occupancy_p, axis=-1)\n",
    "\n",
    "        # $\\prod_i{(1 + \\tilde{a}_i)} + \\prod_j{(1 + \\tilde{b}_j)} - 1$\n",
    "        denominator = jnp.prod(occupancy_s * self.substrates.mask + 1, axis=-1) + jnp.prod(occupancy_p * self.products.mask + 1, axis=-1) - 1\n",
    "        \n",
    "        occupancy_a = self.activators.occupancy(state, default=1)\n",
    "        occupancy_i = self.inhibitors.occupancy(state, default=0)\n",
    "        activation = jnp.prod(occupancy_a / (occupancy_a * self.activators.mask + 1), axis=-1)\n",
    "        inhibition = jnp.prod(1 / (occupancy_i + 1), axis=-1)\n",
    "\n",
    "        return enzyme_conc * numerator / denominator * activation * inhibition\n",
    "\n",
    "    def dstate_dt(self,\n",
    "                  state: ArrayT,\n",
    "                  enzyme_conc: ArrayT) -> ArrayT:\n",
    "        return self.pw.s_matrix @ self.reaction_rates(state, enzyme_conc)\n",
    "\n"
   ]
  },
  {
   "cell_type": "code",
   "execution_count": 28,
   "id": "638115b3-3d9d-48bc-badd-d75a6bfdb501",
   "metadata": {
    "tags": []
   },
   "outputs": [],
   "source": [
    "k3 = {k.reaction: ReactionKinetics(\n",
    "    reaction=k.reaction,\n",
    "    kcat_f=k.kcat_f,\n",
    "    kcat_b=k.kcat_b,\n",
    "    km=k.km,\n",
    "    ka={},\n",
    "    ki={}\n",
    ") for k in kinetics}\n",
    "# Set ATP as an inhibitor of PFK\n",
    "k3[KB('pfk')].ki[KB('atp')] = 5.\n",
    "ck3 = ConvenienceKinetics(pw, k3)"
   ]
  },
  {
   "cell_type": "code",
   "execution_count": 29,
   "id": "70cecbc1-c516-457b-a894-586a3e405e3a",
   "metadata": {
    "tags": []
   },
   "outputs": [
    {
     "data": {
      "text/plain": [
       "array([[1.],\n",
       "       [1.],\n",
       "       [1.],\n",
       "       [1.],\n",
       "       [1.],\n",
       "       [1.],\n",
       "       [1.],\n",
       "       [1.],\n",
       "       [1.],\n",
       "       [5.],\n",
       "       [1.],\n",
       "       [1.]])"
      ]
     },
     "execution_count": 29,
     "metadata": {},
     "output_type": "execute_result"
    }
   ],
   "source": [
    "ck3.inhibitors.constants"
   ]
  },
  {
   "cell_type": "code",
   "execution_count": 30,
   "id": "b38ae469-d0d7-457f-8f88-b6de7ac3571e",
   "metadata": {
    "tags": []
   },
   "outputs": [
    {
     "name": "stdout",
     "output_type": "stream",
     "text": [
      "[ 0.01894281  0.31094048 -0.09310494  0.03935759  0.          0.00475016\n",
      "  0.03776994  0.01562432  0.11157757  0.02569928  0.2147097  -0.00536056]\n",
      "[ 0.          0.          0.          0.          0.          0.\n",
      "  0.          0.          0.         -0.04949681  0.          0.        ]\n"
     ]
    }
   ],
   "source": [
    "print(ck3.reaction_rates(state, enzyme_conc))\n",
    "print(ck3.reaction_rates(state, enzyme_conc) - ck.reaction_rates(state, enzyme_conc))\n"
   ]
  },
  {
   "cell_type": "markdown",
   "id": "4175c99e-3717-4676-ad43-88b9ca8ca15d",
   "metadata": {},
   "source": [
    "## Thermodynamically independent system parameters\n",
    "\n",
    "Independent parameters\n",
    "- $\\Delta{G}_f$ per reactant\n",
    "- velocity constant per reaction (drives kcat_f and kcat_b together)\n",
    "- $K_M$ per (enzyme, reactant) pair\n",
    "\n",
    "The paper focuses a lot on the first set, though this seems to me as something largely 'known', at least within some uncertainty. The latter two seem the most likely to be unknown, and therefore needing to be fit for some model. Ultimately it boils down to treating the forward and back kcats as dependent on everything else, instead of as 'free' parameters.\n",
    "\n",
    "Key: Haldane relationship connects kinetic constants to $\\Delta{G}_r$\n",
    "$$\n",
    "-\\frac{\\Delta{G}_r}{RT} = ln(K_{eq}) = ln(k_{cat}^{+}) - ln(k_{cat}^{-}) + \\sum\\limits_i{(n_i ln({K_M}_i))}\n",
    "$$\n",
    "\n",
    "Rearranging so dependent params are on the left:\n",
    "$$\n",
    "ln(k_{cat}^{+}) - ln(k_{cat}^{-}) = -\\frac{\\Delta{G}_r}{RT} - \\sum\\limits_i{(n_i ln({K_M}_i))}\n",
    "$$\n",
    "\n",
    "In other words, the ratio of kcats (logarithm difference) is dictated by ΔG, modified as a funciton of the various Km's. ΔG is fixed, and Km's are independent system parameters (each driven by ΔG of binding). The one additional parameter introduced by the authors is the _velocity constant_, $k_V$, defined as the geometric mean of the kcats (or alternatively, the average of their logarithms). Given all the other parameters plus $k_V$, we can calculate $k_{cat}^{+}$ and $k_{cat}^{-}$\n",
    "\n",
    "We can treat $\\Delta{G}_r$ as a configuration constant. Or, if we want to explore e.g. a Bayesian relationship between $\\Delta{G}_r$ uncertainty and other parameters, we can make $\\Delta{G}_r$ an explicit parameter for each reaction, or more rigorously make $\\Delta{G}_f$ a parameter for every reactant in the system. The latter approach may take some calisthenics with equilibrator_api, which [highly discourages](https://equilibrator.readthedocs.io/en/latest/equilibrator_examples.html#Using-formation-energies-to-calculate-reaction-energies) using $\\Delta{G}_f$ in general."
   ]
  },
  {
   "cell_type": "code",
   "execution_count": 31,
   "id": "1c280823-ee57-4175-827b-8dc1ac071e8b",
   "metadata": {
    "tags": []
   },
   "outputs": [],
   "source": [
    "import equilibrator_api\n",
    "from equilibrator_api.component_contribution import FARADAY, R, Q_\n",
    "\n",
    "cc = equilibrator_api.ComponentContribution()\n",
    "cc.p_h = Q_(7.3)\n",
    "cc.p_mg = Q_(1.5)\n",
    "cc.ionic_strength = Q_(\"0.25M\")\n",
    "cc.temperature = Q_(\"298.15K\")\n",
    "RT = cc.RT.m\n",
    "\n",
    "def find_cc_met(met):\n",
    "    for xref in (met.xrefs or []):\n",
    "        if xref.db == DS.KEGG:\n",
    "            return cc.get_compound(f'KEGG:{xref.id}')\n",
    "    return None\n",
    "\n",
    "def delta_g(reaction):\n",
    "    cc_rxn = equilibrator_api.Reaction({find_cc_met(met): count for met, count in reaction.stoichiometry.items()})\n",
    "    return cc.physiological_dg_prime(cc_rxn).value.m\n"
   ]
  },
  {
   "cell_type": "code",
   "execution_count": 32,
   "id": "ff47bc17-8d69-45cd-b831-69fd6d0f9514",
   "metadata": {
    "tags": []
   },
   "outputs": [
    {
     "name": "stdout",
     "output_type": "stream",
     "text": [
      "[[0.54990519 0.28117537 0.17690749]\n",
      " [0.51879626 0.34408121 0.        ]\n",
      " [0.62224813 0.         0.        ]\n",
      " [0.60876784 0.         0.        ]\n",
      " [0.22937966 0.05806937 0.13518972]\n",
      " [0.55145313 0.01537141 0.6511267 ]\n",
      " [0.37122119 0.61163883 0.        ]\n",
      " [0.18403572 0.         0.        ]\n",
      " [0.1620444  0.         0.        ]\n",
      " [0.46605235 0.56840058 0.        ]\n",
      " [0.3313784  0.         0.        ]\n",
      " [0.04697788 0.37583148 0.        ]]\n",
      "\n",
      "[[0.61254325 0.40113964 0.28258517 0.         0.        ]\n",
      " [0.63368237 0.06199398 0.         0.         0.        ]\n",
      " [0.08342953 0.         0.         0.         0.        ]\n",
      " [0.29868856 0.51719742 0.         0.         0.        ]\n",
      " [0.06199469 0.44674844 0.14851606 0.62741394 0.62741394]\n",
      " [0.61274458 0.69176303 0.48172028 0.         0.        ]\n",
      " [0.270318   0.22199354 0.1746605  0.         0.        ]\n",
      " [0.49889332 0.         0.         0.         0.        ]\n",
      " [0.68769543 0.51422881 0.         0.         0.        ]\n",
      " [0.62256852 0.21681586 0.38885798 0.         0.        ]\n",
      " [0.48494385 0.         0.         0.         0.        ]\n",
      " [0.57413639 0.37146275 0.         0.         0.        ]]\n"
     ]
    }
   ],
   "source": [
    "km_s = ck3.substrates.constants\n",
    "km_p = ck3.products.constants\n",
    "print(np.log(km_s) * ck3.substrates.mask)\n",
    "print()\n",
    "print(np.log(km_p) * ck3.products.mask)"
   ]
  },
  {
   "cell_type": "code",
   "execution_count": 33,
   "id": "f99fd77c-5826-44aa-86b6-ac7526b88adb",
   "metadata": {
    "tags": []
   },
   "outputs": [
    {
     "name": "stdout",
     "output_type": "stream",
     "text": [
      "[ 18.89475523  18.14929293  -2.98573943  -4.2899532  -17.93582223\n",
      " -32.57199834  27.23492107  -6.58047196  11.00128599 -16.17793843\n",
      "  -0.04985926 -31.06552991]\n"
     ]
    }
   ],
   "source": [
    "dg_r = np.array([delta_g(reaction) for reaction in pw.reactions])\n",
    "print(dg_r)"
   ]
  },
  {
   "cell_type": "code",
   "execution_count": 34,
   "id": "f71d32d6-9eab-4db5-97d0-dba76a888730",
   "metadata": {
    "tags": []
   },
   "outputs": [
    {
     "name": "stdout",
     "output_type": "stream",
     "text": [
      "[ -7.91443158  -7.15807285   1.74389912   1.52435882   5.74966631\n",
      "  12.57817556 -10.67645532   2.34110042  -5.48013182   6.33582204\n",
      "  -0.13344166  12.01563356]\n",
      "[[-3.65721579  4.25721579]\n",
      " [-3.27903643  3.87903643]\n",
      " [ 1.17194956 -0.57194956]\n",
      " [ 1.06217941 -0.46217941]\n",
      " [ 3.17483315 -2.57483315]\n",
      " [ 6.58908778 -5.98908778]\n",
      " [-5.03822766  5.63822766]\n",
      " [ 1.47055021 -0.87055021]\n",
      " [-2.44006591  3.04006591]\n",
      " [ 3.46791102 -2.86791102]\n",
      " [ 0.23327917  0.36672083]\n",
      " [ 6.30781678 -5.70781678]]\n"
     ]
    }
   ],
   "source": [
    "diff = -dg_r / RT + np.sum(np.log(km_s), axis=-1) - np.sum(np.log(km_p), axis=-1)\n",
    "print(diff)\n",
    "print(diff.reshape(diff.shape + (1,)) * np.array([0.5, -0.5]) + 0.3)"
   ]
  },
  {
   "cell_type": "code",
   "execution_count": 35,
   "id": "7b043e55-9f75-493a-abad-41a78c903a0b",
   "metadata": {
    "tags": []
   },
   "outputs": [],
   "source": [
    "def generate_kcats(kms_s: ArrayT, kms_p: ArrayT, kvs: ArrayT, dgrs: ArrayT) -> jnp.ndarray:\n",
    "    \"\"\"Generates thermodynamically consistent forward and back kcats, given ΔG, Km's and a velocity constant.\n",
    "\n",
    "    Base on the Haldane relationship, -ΔG/RT = ln(K) = ln(kcat+) - ln(kcat-) + sum(n ln(Km)).\n",
    "\n",
    "    Args:\n",
    "        kms_s: array of substrate Km values (mM), with shape (#rxns, max(#substrates)), padded with ones.\n",
    "        kms_p: array of product Km values (mM), with shape (#rxns, max(#products)), padded with ones.\n",
    "        kvs: array of velocity constants, with shape (#rxns,)\n",
    "        dgrs: reaction ΔGs (kilojoule / mole, mM standard), array of shape (#rxns,).\n",
    "\n",
    "    Returns:\n",
    "        An array of shape (#rxns, 2), with forward and back kcats per reaction.\n",
    "    \"\"\"\n",
    "    # $ln(k_{cat}^{+}) - ln(k_{cat}^{-}) = -\\frac{\\Delta{G}_r}{RT} - \\sum_i{(n_i ln({K_M}_i))}$\n",
    "    diffs = -dgrs / RT + jnp.sum(jnp.log(kms_s), axis=-1) - jnp.sum(jnp.log(kms_p), axis=-1)\n",
    "    # e^(kvs +/- diffs/2)\n",
    "    return jnp.exp(diffs * jnp.array([[+0.5], [-0.5]]) + kvs).T\n",
    "        "
   ]
  },
  {
   "cell_type": "code",
   "execution_count": 36,
   "id": "7e745a8a-a995-40e9-95bd-4dd0bcdfdeac",
   "metadata": {
    "tags": []
   },
   "outputs": [
    {
     "data": {
      "text/plain": [
       "Array([[1.91162639e-02, 5.23114769e+01],\n",
       "       [2.79025715e-02, 3.58389907e+01],\n",
       "       [2.39156882e+00, 4.18135573e-01],\n",
       "       [2.14294148e+00, 4.66648300e-01],\n",
       "       [1.77224669e+01, 5.64255532e-02],\n",
       "       [5.38661726e+02, 1.85645267e-03],\n",
       "       [4.80437815e-03, 2.08143482e+02],\n",
       "       [3.22376590e+00, 3.10196221e-01],\n",
       "       [6.45660911e-02, 1.54880059e+01],\n",
       "       [2.37578029e+01, 4.20914343e-02],\n",
       "       [9.35456317e-01, 1.06899700e+00],\n",
       "       [4.06594664e+02, 2.45945185e-03]], dtype=float64)"
      ]
     },
     "execution_count": 36,
     "metadata": {},
     "output_type": "execute_result"
    }
   ],
   "source": [
    "kcats = generate_kcats(ck3.substrates.constants, ck3.products.constants, np.zeros(pw.shape[1]), dg_r)\n",
    "kcats"
   ]
  },
  {
   "cell_type": "code",
   "execution_count": 37,
   "id": "17f7db58-4d15-4a0d-8367-8a77cc3f2536",
   "metadata": {
    "tags": []
   },
   "outputs": [
    {
     "data": {
      "text/plain": [
       "array([ 3.55271368e-15,  0.00000000e+00,  8.88178420e-16,  0.00000000e+00,\n",
       "       -3.55271368e-15,  0.00000000e+00,  3.55271368e-15,  0.00000000e+00,\n",
       "        0.00000000e+00,  0.00000000e+00, -4.78783679e-16,  0.00000000e+00])"
      ]
     },
     "execution_count": 37,
     "metadata": {},
     "output_type": "execute_result"
    }
   ],
   "source": [
    "RT * np.log((kcats[:,0] * np.prod(ck3.products.constants, axis=-1)) / (kcats[:,1] * np.prod(ck3.substrates.constants, axis=1))) + dg_r"
   ]
  }
 ],
 "metadata": {
  "kernelspec": {
   "display_name": "Python 3 (ipykernel)",
   "language": "python",
   "name": "python3"
  },
  "language_info": {
   "codemirror_mode": {
    "name": "ipython",
    "version": 3
   },
   "file_extension": ".py",
   "mimetype": "text/x-python",
   "name": "python",
   "nbconvert_exporter": "python",
   "pygments_lexer": "ipython3",
   "version": "3.11.2"
  }
 },
 "nbformat": 4,
 "nbformat_minor": 5
}
