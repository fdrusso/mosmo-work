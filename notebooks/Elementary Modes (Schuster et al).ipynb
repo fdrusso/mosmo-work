{
 "cells": [
  {
   "cell_type": "markdown",
   "id": "652d50d8-657a-4617-9d24-0acdd9048889",
   "metadata": {
    "tags": []
   },
   "source": [
    "# Working up algorithm based on [Schuster _et al_ (2000)](https://www.nature.com/articles/nbt0300_326), [Schuster _et al_ (2002)](https://link.springer.com/article/10.1007/s002850200143)\n",
    "\n",
    "- Use glycolysis + PPP, as in the paper (though stopping at PEP)\n",
    "- Don't worry about efficiency yet, just get a feel for the algorithm\n",
    "- Results won't be identical to Schuster because system and boundaries are different, but it should be reconcilable"
   ]
  },
  {
   "cell_type": "code",
   "execution_count": 1,
   "id": "dd2d679d-f86b-4a50-b6cd-ca2ce73b10b2",
   "metadata": {
    "jupyter": {
     "source_hidden": true
    },
    "tags": []
   },
   "outputs": [],
   "source": [
    "from importlib.resources import files\n",
    "import ipywidgets as widgets\n",
    "import json\n",
    "import matplotlib.pyplot as plt\n",
    "import matplotlib\n",
    "import numpy as np\n",
    "import pandas as pd\n",
    "import scipy.linalg\n",
    "from IPython.display import SVG, display\n",
    "\n",
    "from mosmo.knowledge import kb\n",
    "from mosmo.model import KbEntry, Molecule, Reaction, Pathway, ReactionNetwork\n",
    "from mosmo.preso.escher import escher_map\n",
    "import mosmo.preso.escher.pw as pw_files\n",
    "from mosmo.calc import fba_gd\n",
    "\n",
    "KB = kb.configure_kb()\n",
    "\n",
    "def reaction_formula(reaction):\n",
    "    def reactant_term(reactant, count):\n",
    "        label = reactant.label\n",
    "        count = abs(count)\n",
    "        if count == 1:\n",
    "            return label\n",
    "        else:\n",
    "            return f'{count} {label}'\n",
    "    \n",
    "    lhs = [reactant_term(reactant, count) for reactant, count in reaction.stoichiometry.items() if count < 0]\n",
    "    rhs = [reactant_term(reactant, count) for reactant, count in reaction.stoichiometry.items() if count > 0]\n",
    "    \n",
    "    arrow = ' <=> ' if reaction.reversible else ' => '\n",
    "    \n",
    "    return ' + '.join(lhs) + arrow + ' + '.join(rhs)\n",
    "\n",
    "def mode_formula(network, mode):\n",
    "    parts = []\n",
    "    for reaction, coeff in zip(network.reactions.labels(), mode):\n",
    "        if coeff == -1:\n",
    "            parts.append('-')\n",
    "        elif coeff < 0:\n",
    "            parts.append(f'- {-coeff}')\n",
    "        elif coeff == 1:\n",
    "            if parts:\n",
    "                parts.append('+')\n",
    "        elif coeff > 0:\n",
    "            if parts:\n",
    "                parts.append(f'+ {coeff}')\n",
    "            else:\n",
    "                parts.append(f'{coeff}')\n",
    "        \n",
    "        if coeff:\n",
    "            parts.append(reaction)\n",
    "    \n",
    "    return ' '.join(parts)"
   ]
  },
  {
   "cell_type": "markdown",
   "id": "72a07fd6-4ce3-433c-b7bf-f2cbbc8db80f",
   "metadata": {},
   "source": [
    "## Define the network\n",
    "\n",
    "- Slightly modified from Schuster _et al_, but maintaining the same structure and behavior"
   ]
  },
  {
   "cell_type": "code",
   "execution_count": 2,
   "id": "e1fc55f9-70e3-49cb-a13c-b2fea6402767",
   "metadata": {
    "tags": []
   },
   "outputs": [
    {
     "data": {
      "image/svg+xml": [
       "<svg width=\"6in\" height=\"None\" viewBox=\"-1075.1 -78.4 2216.3 3172.3\"><defs><style type=\"text/css\">\n",
       "#canvas {\n",
       "  fill: #ffffff;\n",
       "  stroke: #cccccc;\n",
       "}\n",
       "text {\n",
       "  font-family: sans-serif;\n",
       "  font-style: italic;\n",
       "  font-weight: bold;\n",
       "  stroke: none;\n",
       "  text-rendering: optimizelegibility;\n",
       "}\n",
       "#reactions text {\n",
       "  font-size: 30px;\n",
       "  fill: #334e75;\n",
       "}\n",
       "#reactions text.stoich {\n",
       "  font-size: 12px;\n",
       "}\n",
       "#metabolites text {\n",
       "  font-size: 20px;\n",
       "  fill: black;\n",
       "}\n",
       "#reactions {\n",
       "  fill: none;\n",
       "  stroke: #334e75;\n",
       "  stroke-width: 10;\n",
       "}\n",
       "#reactions.data {\n",
       "  stroke: #eeeeee;  /* default overridden by reaction_scale */\n",
       "}\n",
       "#reactions .arrowhead {\n",
       "  fill: #334e75;\n",
       "  stroke: none;\n",
       "}\n",
       "#reactions.data .arrowhead {\n",
       "  fill: #eeeeee;  /* default overridden by reaction_scale */\n",
       "}\n",
       "#metabolites {\n",
       "  fill: #e0865b;\n",
       "  stroke: #a24510;\n",
       "  stroke-width: 2;\n",
       "}\n",
       "#metabolites.data {\n",
       "  fill: #eeeeee;  /* default overridden by metabolite_scale */\n",
       "  stroke: none;\n",
       "}\n",
       "</style></defs><g id=\"eschermap\"><rect id=\"canvas\" x=\"-1075.1\" y=\"-78.4\" width=\"2216.3\" height=\"3172.3\"/><g id=\"reactions\" class=\"data\"><g name=\"GAPDH\" style=\"stroke: #ccdae8; stroke-width: 10.8;\"><path d=\"M 117.8 1280.2 L 117.8 1300.2\"/><path d=\"M 117.8 1320.2 L 117.8 1300.2\"/><path d=\"M 117.8 1280.2 C 117.8 1238.2 115.2 1183.9 117.5 1152.8\"/><path d=\"M 117.8 1280.2 C 117.8 1234.2 99.4 1229.5 57.0 1206.3\"/><path d=\"M 117.8 1280.2 C 117.8 1234.2 139.7 1230.1 181.0 1204.0\"/><g><path d=\"M 117.8 1320.2 C 117.8 1362.2 117.8 1416.4 117.8 1435.2\"/><g class=\"arrowhead\" transform=\"translate(117.8, 1435.2) rotate(90) scale(1.1)\" style=\"fill: #ccdae8\"><path d=\"M 0 -10 L 13 0 L 0 10 Z\" transform=\"translate(-3)\"/></g></g><g><path d=\"M 117.8 1320.2 C 117.8 1366.2 99.8 1371.4 65.9 1389.9\"/><g class=\"arrowhead\" transform=\"translate(65.9, 1389.9) rotate(151) scale(1.1)\" style=\"fill: #ccdae8\"><path d=\"M 0 -10 L 13 0 L 0 10 Z\" transform=\"translate(-3)\"/></g></g><text x=\"132.8\" y=\"1310.2\">GAPDH</text></g><g name=\"PGK\" style=\"stroke: #ccdae8; stroke-width: 10.8;\"><path d=\"M 117.8 1670.2 L 117.8 1650.2\"/><path d=\"M 117.8 1630.2 L 117.8 1650.2\"/><path d=\"M 117.8 1670.2 C 117.8 1712.2 117.8 1766.4 117.8 1795.2\"/><path d=\"M 117.8 1670.2 C 117.8 1716.2 99.8 1721.4 57.1 1744.7\"/><g><path d=\"M 117.8 1630.2 C 117.8 1588.2 117.8 1533.9 117.8 1515.2\"/><g class=\"arrowhead\" transform=\"translate(117.8, 1515.2) rotate(-90) scale(1.1)\" style=\"fill: #ccdae8\"><path d=\"M 0 -10 L 13 0 L 0 10 Z\" transform=\"translate(-3)\"/></g></g><g><path d=\"M 117.8 1630.2 C 117.8 1584.2 99.8 1578.9 65.9 1560.5\"/><g class=\"arrowhead\" transform=\"translate(65.9, 1560.5) rotate(-151) scale(1.1)\" style=\"fill: #ccdae8\"><path d=\"M 0 -10 L 13 0 L 0 10 Z\" transform=\"translate(-3)\"/></g></g><text x=\"132.8\" y=\"1660.2\">PGK</text></g><g name=\"GPMM\"><path d=\"M 117.8 1948.8 L 117.8 1928.8\"/><path d=\"M 117.8 1908.8 L 117.8 1928.8\"/><g><path d=\"M 117.8 1948.8 C 117.8 1990.8 117.8 1967.6 117.8 1986.4\"/><g class=\"arrowhead\" transform=\"translate(117.8, 1986.4) rotate(90)\"><path d=\"M 0 -10 L 13 0 L 0 10 Z\" transform=\"translate(-3)\"/></g></g><g><path d=\"M 117.8 1908.8 C 117.8 1866.8 117.8 1883.9 117.8 1865.2\"/><g class=\"arrowhead\" transform=\"translate(117.8, 1865.2) rotate(-90)\"><path d=\"M 0 -10 L 13 0 L 0 10 Z\" transform=\"translate(-3)\"/></g></g><text x=\"132.8\" y=\"1938.8\">GPMM</text></g><g name=\"ENO\" style=\"stroke: #ccdae8; stroke-width: 10.8;\"><path d=\"M 117.8 2104.0 L 117.8 2124.0\"/><path d=\"M 117.8 2144.0 L 117.8 2124.0\"/><path d=\"M 117.8 2104.0 C 117.8 2062.0 117.8 2085.1 117.8 2056.4\"/><g><path d=\"M 117.8 2144.0 C 117.8 2190.0 99.8 2195.2 65.9 2213.7\"/><g class=\"arrowhead\" transform=\"translate(65.9, 2213.7) rotate(151) scale(1.1)\" style=\"fill: #ccdae8\"><path d=\"M 0 -10 L 13 0 L 0 10 Z\" transform=\"translate(-3)\"/></g></g><g><path d=\"M 117.8 2144.0 C 117.8 2186.0 117.8 2240.2 117.8 2259.0\"/><g class=\"arrowhead\" transform=\"translate(117.8, 2259.0) rotate(90) scale(1.1)\" style=\"fill: #ccdae8\"><path d=\"M 0 -10 L 13 0 L 0 10 Z\" transform=\"translate(-3)\"/></g></g><text x=\"132.8\" y=\"2169.5\">ENO</text></g><g name=\"PPS\"><path d=\"M 0.7 2497.9 L 0.7 2477.9\"/><path d=\"M 0.7 2457.9 L 0.7 2477.9\"/><path d=\"M 0.7 2497.9 C 0.7 2543.9 -9.4 2535.4 -54.6 2557.2\"/><path d=\"M 0.7 2497.9 C -11.1 2531.6 -38.5 2519.2 -51.6 2511.3\"/><path d=\"M 0.7 2497.9 C 0.7 2556.4 51.9 2593.8 94.8 2629.7\"/><g><path d=\"M 0.7 2457.9 C 0.7 2411.9 -13.6 2400.8 -50.2 2385.7\"/><g class=\"arrowhead\" transform=\"translate(-50.2, 2385.7) rotate(-158)\"><path d=\"M 0 -10 L 13 0 L 0 10 Z\" transform=\"translate(-3)\"/></g></g><g><path d=\"M 0.7 2457.9 C -3.4 2414.9 -71.4 2403.8 -104.5 2411.2\"/><g class=\"arrowhead\" transform=\"translate(-104.5, 2411.2) rotate(167)\"><path d=\"M 0 -10 L 13 0 L 0 10 Z\" transform=\"translate(-3)\"/></g></g><g><path d=\"M 0.7 2457.9 C 1.9 2399.5 50.8 2358.3 87.8 2325.5\"/><g class=\"arrowhead\" transform=\"translate(87.8, 2325.5) rotate(-42)\"><path d=\"M 0 -10 L 13 0 L 0 10 Z\" transform=\"translate(-3)\"/></g></g><text x=\"15.7\" y=\"2487.9\">PPS</text></g><g name=\"PDH\"><path d=\"M 117.8 2804.0 L 117.8 2824.0\"/><path d=\"M 117.8 2844.0 L 117.8 2824.0\"/><path d=\"M 117.8 2804.0 C 117.8 2758.0 135.8 2752.7 178.5 2729.5\"/><path d=\"M 117.8 2804.0 C 117.8 2758.0 99.8 2752.7 57.1 2729.5\"/><path d=\"M 117.8 2804.0 C 117.8 2762.0 117.8 2707.7 117.8 2679.0\"/><g><path d=\"M 117.8 2844.0 C 117.8 2886.0 117.8 2940.2 117.8 2959.0\"/><g class=\"arrowhead\" transform=\"translate(117.8, 2959.0) rotate(90)\"><path d=\"M 0 -10 L 13 0 L 0 10 Z\" transform=\"translate(-3)\"/></g></g><g><path d=\"M 117.8 2844.0 C 117.8 2890.0 135.8 2895.2 169.7 2913.7\"/><g class=\"arrowhead\" transform=\"translate(169.7, 2913.7) rotate(29)\"><path d=\"M 0 -10 L 13 0 L 0 10 Z\" transform=\"translate(-3)\"/></g></g><g><path d=\"M 117.8 2844.0 C 117.8 2890.0 99.8 2895.2 65.9 2913.7\"/><g class=\"arrowhead\" transform=\"translate(65.9, 2913.7) rotate(151)\"><path d=\"M 0 -10 L 13 0 L 0 10 Z\" transform=\"translate(-3)\"/></g></g><text x=\"132.8\" y=\"2834.0\">PDH</text></g><g name=\"PYK\"><path d=\"M 232.2 2497.1 L 232.2 2477.1\"/><path d=\"M 232.2 2457.1 L 232.2 2477.1\"/><g><path d=\"M 232.2 2497.1 C 232.2 2543.1 250.2 2548.4 284.1 2566.8\"/><g class=\"arrowhead\" transform=\"translate(284.1, 2566.8) rotate(29)\"><path d=\"M 0 -10 L 13 0 L 0 10 Z\" transform=\"translate(-3)\"/></g></g><g><path d=\"M 232.2 2497.1 C 232.8 2553.8 186.6 2592.0 148.6 2623.5\"/><g class=\"arrowhead\" transform=\"translate(148.6, 2623.5) rotate(140)\"><path d=\"M 0 -10 L 13 0 L 0 10 Z\" transform=\"translate(-3)\"/></g></g><g><path d=\"M 232.2 2457.1 C 232.2 2411.1 249.5 2414.1 279.1 2394.1\"/><g class=\"arrowhead\" transform=\"translate(279.1, 2394.1) rotate(-34)\"><path d=\"M 0 -10 L 13 0 L 0 10 Z\" transform=\"translate(-3)\"/></g></g><g><path d=\"M 232.2 2457.1 C 232.2 2398.7 184.8 2360.7 147.2 2326.1\"/><g class=\"arrowhead\" transform=\"translate(147.2, 2326.1) rotate(-137)\"><path d=\"M 0 -10 L 13 0 L 0 10 Z\" transform=\"translate(-3)\"/></g></g><text x=\"154.9\" y=\"2487.1\">PYK</text></g><g name=\"TPI\" style=\"stroke: #ccdae8; stroke-width: 10.8;\"><path d=\"M -37.2 1125.2 L -57.2 1125.2\"/><path d=\"M -77.2 1125.2 L -57.2 1125.2\"/><path d=\"M -37.2 1125.2 C 4.8 1125.2 56.4 1125.2 89.7 1124.0\"/><g><path d=\"M -77.2 1125.2 C -119.2 1125.2 -173.5 1125.2 -192.2 1125.2\"/><g class=\"arrowhead\" transform=\"translate(-192.2, 1125.2) rotate(180) scale(1.1)\" style=\"fill: #ccdae8\"><path d=\"M 0 -10 L 13 0 L 0 10 Z\" transform=\"translate(-3)\"/></g></g><text x=\"-83.6\" y=\"1165.3\">TPI</text></g><g name=\"FBA\" style=\"stroke: #ccdae8; stroke-width: 10.8;\"><path d=\"M -232.2 951.8 L -232.2 971.8\"/><path d=\"M -232.2 991.8 L -232.2 971.8\"/><path d=\"M -232.2 951.8 C -232.2 909.8 -232.2 905.2 -232.2 876.5\"/><g><path d=\"M -232.2 991.8 C -232.2 1037.8 -24.7 1052.2 83.7 1105.3\"/><g class=\"arrowhead\" transform=\"translate(83.7, 1105.3) rotate(26) scale(1.1)\" style=\"fill: #ccdae8\"><path d=\"M 0 -10 L 13 0 L 0 10 Z\" transform=\"translate(-3)\"/></g></g><g><path d=\"M -232.2 991.8 C -232.2 1033.8 -232.2 1066.4 -232.2 1085.2\"/><g class=\"arrowhead\" transform=\"translate(-232.2, 1085.2) rotate(90) scale(1.1)\" style=\"fill: #ccdae8\"><path d=\"M 0 -10 L 13 0 L 0 10 Z\" transform=\"translate(-3)\"/></g></g><text x=\"-314.4\" y=\"981.8\">FBA</text></g><g name=\"PFK\" style=\"stroke: #ccdae8; stroke-width: 10.8;\"><path d=\"M -111.1 640.9 L -111.1 660.9\"/><path d=\"M -111.1 680.9 L -111.1 660.9\"/><path d=\"M -111.1 640.9 C -111.1 594.9 -81.4 558.3 -57.7 575.2\"/><path d=\"M -111.1 640.9 C -111.1 598.9 -171.7 554.1 -210.5 517.2\"/><g><path d=\"M -111.1 680.9 C -111.1 726.9 -102.6 748.4 -62.6 758.6\"/><g class=\"arrowhead\" transform=\"translate(-62.6, 758.6) rotate(14) scale(1.1)\" style=\"fill: #ccdae8\"><path d=\"M 0 -10 L 13 0 L 0 10 Z\" transform=\"translate(-3)\"/></g></g><g><path d=\"M -111.1 680.9 C -111.1 722.9 -172.3 795.3 -201.8 820.5\"/><g class=\"arrowhead\" transform=\"translate(-201.8, 820.5) rotate(139) scale(1.1)\" style=\"fill: #ccdae8\"><path d=\"M 0 -10 L 13 0 L 0 10 Z\" transform=\"translate(-3)\"/></g></g><text x=\"-192.2\" y=\"676.2\">PFK</text></g><g name=\"PGI\" style=\"stroke: #ccdae8; stroke-width: 10.8;\"><path d=\"M -232.2 301.5 L -232.2 321.5\"/><path d=\"M -232.2 341.5 L -232.2 321.5\"/><path d=\"M -232.2 301.5 C -232.2 259.5 -232.2 205.2 -232.2 176.5\"/><g><path d=\"M -232.2 341.5 C -232.2 383.5 -232.2 437.7 -232.2 456.5\"/><g class=\"arrowhead\" transform=\"translate(-232.2, 456.5) rotate(90) scale(1.1)\" style=\"fill: #ccdae8\"><path d=\"M 0 -10 L 13 0 L 0 10 Z\" transform=\"translate(-3)\"/></g></g><text x=\"-302.8\" y=\"324.3\">PGI</text></g><g name=\"R5PI\" style=\"stroke: #ccdae8; stroke-width: 10.8;\"><path d=\"M 626.1 337.2 L 646.1 337.2\"/><path d=\"M 666.1 337.2 L 646.1 337.2\"/><path d=\"M 626.1 337.2 C 584.1 337.2 583.8 337.2 555.1 337.2\"/><g><path d=\"M 666.1 337.2 C 767.1 335.6 801.9 376.7 847.9 403.1\"/><g class=\"arrowhead\" transform=\"translate(847.9, 403.1) rotate(30) scale(1.1)\" style=\"fill: #ccdae8\"><path d=\"M 0 -10 L 13 0 L 0 10 Z\" transform=\"translate(-3)\"/></g></g><text x=\"610.7\" y=\"319.8\">R5PI</text></g><g name=\"PGLase\" style=\"stroke: #ccdae8; stroke-width: 10.8;\"><path d=\"M 272.8 145.2 L 292.8 145.2\"/><path d=\"M 312.8 145.2 L 292.8 145.2\"/><path d=\"M 272.8 145.2 C 230.8 145.2 176.5 145.2 147.8 145.2\"/><path d=\"M 272.8 145.2 C 226.8 145.2 221.5 127.2 198.3 84.5\"/><g><path d=\"M 312.8 145.2 C 354.8 145.2 409.0 145.2 427.8 145.2\"/><g class=\"arrowhead\" transform=\"translate(427.8, 145.2) rotate(0) scale(1.1)\" style=\"fill: #ccdae8\"><path d=\"M 0 -10 L 13 0 L 0 10 Z\" transform=\"translate(-3)\"/></g></g><text x=\"242.8\" y=\"105.2\">PGLase</text></g><g name=\"G6PDH\" style=\"stroke: #ccdae8; stroke-width: 10.8;\"><path d=\"M -77.2 145.2 L -57.2 145.2\"/><path d=\"M -37.2 145.2 L -57.2 145.2\"/><path d=\"M -77.2 145.2 C -119.2 145.2 -172.2 142.5 -202.3 144.5\"/><path d=\"M -77.2 145.2 C -123.2 145.2 -128.5 127.2 -151.7 84.5\"/><g><path d=\"M -37.2 145.2 C 4.8 145.2 59.0 145.2 77.8 145.2\"/><g class=\"arrowhead\" transform=\"translate(77.8, 145.2) rotate(0) scale(1.1)\" style=\"fill: #ccdae8\"><path d=\"M 0 -10 L 13 0 L 0 10 Z\" transform=\"translate(-3)\"/></g></g><g><path d=\"M -37.2 145.2 C 8.8 145.2 14.0 127.2 32.5 93.3\"/><g class=\"arrowhead\" transform=\"translate(32.5, 93.3) rotate(-61) scale(1.1)\" style=\"fill: #ccdae8\"><path d=\"M 0 -10 L 13 0 L 0 10 Z\" transform=\"translate(-3)\"/></g></g><text x=\"-107.2\" y=\"105.2\">G6PDH</text></g><g name=\"PGLDH\" style=\"stroke: #ccdae8; stroke-width: 10.8;\"><path d=\"M 788.2 229.0 L 802.0 243.4\"/><path d=\"M 815.9 257.8 L 802.0 243.4\"/><path d=\"M 788.2 229.0 C 759.0 198.7 671.9 149.9 497.8 145.9\"/><path d=\"M 788.2 229.0 C 756.2 195.8 753.5 135.9 806.6 152.9\"/><g><path d=\"M 815.9 257.8 C 847.8 290.9 884.1 275.5 898.9 243.2\"/><g class=\"arrowhead\" transform=\"translate(898.9, 243.2) rotate(-65) scale(1.1)\" style=\"fill: #ccdae8\"><path d=\"M 0 -10 L 13 0 L 0 10 Z\" transform=\"translate(-3)\"/></g></g><g><path d=\"M 815.9 257.8 C 845.1 288.0 882.6 364.3 882.6 383.1\"/><g class=\"arrowhead\" transform=\"translate(882.6, 383.1) rotate(90) scale(1.1)\" style=\"fill: #ccdae8\"><path d=\"M 0 -10 L 13 0 L 0 10 Z\" transform=\"translate(-3)\"/></g></g><g><path d=\"M 815.9 257.8 C 847.8 290.9 864.4 282.2 901.7 271.9\"/><g class=\"arrowhead\" transform=\"translate(901.7, 271.9) rotate(-15) scale(1.1)\" style=\"fill: #ccdae8\"><path d=\"M 0 -10 L 13 0 L 0 10 Z\" transform=\"translate(-3)\"/></g></g><text x=\"674.9\" y=\"261.3\">PGLDH</text></g><g name=\"RPE\" style=\"stroke: #ccdae8; stroke-width: 10.8;\"><path d=\"M 641.5 617.0 L 621.5 617.0\"/><path d=\"M 601.5 617.0 L 621.5 617.0\"/><path d=\"M 641.5 617.0 C 790.0 621.3 881.1 578.4 882.3 453.1\"/><g><path d=\"M 601.5 617.0 C 562.3 614.1 535.4 618.4 486.4 617.6\"/><g class=\"arrowhead\" transform=\"translate(486.4, 617.6) rotate(-179) scale(1.1)\" style=\"fill: #ccdae8\"><path d=\"M 0 -10 L 13 0 L 0 10 Z\" transform=\"translate(-3)\"/></g></g><text x=\"590.4\" y=\"667.3\">RPE</text></g><g name=\"TKT2\" style=\"stroke: #ccdae8; stroke-width: 10.8;\"><path d=\"M 291.5 617.0 L 271.5 617.0\"/><path d=\"M 251.5 617.0 L 271.5 617.0\"/><path d=\"M 291.5 617.0 C 413.8 617.0 459.1 479.9 196.1 481.3\"/><path d=\"M 291.5 617.0 C 321.9 614.1 387.7 617.0 416.5 617.0\"/><g><path d=\"M 251.5 617.0 C 209.5 617.0 -57.1 497.0 -192.2 496.6\"/><g class=\"arrowhead\" transform=\"translate(-192.2, 496.6) rotate(-180) scale(1.1)\" style=\"fill: #ccdae8\"><path d=\"M 0 -10 L 13 0 L 0 10 Z\" transform=\"translate(-3)\"/></g></g><g><path d=\"M 251.5 617.0 C 105.6 620.6 112.8 961.8 117.9 1083.0\"/><g class=\"arrowhead\" transform=\"translate(117.9, 1083.0) rotate(88) scale(1.1)\" style=\"fill: #ccdae8\"><path d=\"M 0 -10 L 13 0 L 0 10 Z\" transform=\"translate(-3)\"/></g></g><text x=\"238.3\" y=\"669.4\">TKT2</text></g><g name=\"FBP\" style=\"stroke: #ccdae8; stroke-width: 10.8;\"><path d=\"M -350.7 687.5 L -350.7 667.5\"/><path d=\"M -350.7 647.5 L -350.7 667.5\"/><path d=\"M -350.7 687.5 C -350.7 729.5 -294.5 796.5 -255.6 827.7\"/><path d=\"M -350.7 687.5 C -350.7 733.5 -380.3 756.1 -409.8 765.7\"/><g><path d=\"M -350.7 647.5 C -350.7 605.5 -297.4 550.0 -263.1 521.9\"/><g class=\"arrowhead\" transform=\"translate(-263.1, 521.9) rotate(-39) scale(1.1)\" style=\"fill: #ccdae8\"><path d=\"M 0 -10 L 13 0 L 0 10 Z\" transform=\"translate(-3)\"/></g></g><g><path d=\"M -350.7 647.5 C -350.7 601.5 -387.5 579.0 -400.8 573.9\"/><g class=\"arrowhead\" transform=\"translate(-400.8, 573.9) rotate(-159) scale(1.1)\" style=\"fill: #ccdae8\"><path d=\"M 0 -10 L 13 0 L 0 10 Z\" transform=\"translate(-3)\"/></g></g><text x=\"-335.7\" y=\"677.5\">FBP</text></g><g name=\"TKT1\" style=\"stroke: #ccdae8; stroke-width: 10.8;\"><path d=\"M 314.9 337.2 L 334.9 337.2\"/><path d=\"M 354.9 337.2 L 334.9 337.2\"/><path d=\"M 314.9 337.2 C 263.6 334.0 242.2 353.8 193.4 367.9\"/><path d=\"M 314.9 337.2 C 272.9 337.2 235.9 314.1 190.5 303.6\"/><g><path d=\"M 354.9 337.2 C 389.7 337.2 414.0 337.2 485.1 337.2\"/><g class=\"arrowhead\" transform=\"translate(485.1, 337.2) rotate(0) scale(1.1)\" style=\"fill: #ccdae8\"><path d=\"M 0 -10 L 13 0 L 0 10 Z\" transform=\"translate(-3)\"/></g></g><g><path d=\"M 354.9 337.2 C 572.3 335.3 636.3 616.4 486.5 616.9\"/><g class=\"arrowhead\" transform=\"translate(486.5, 616.9) rotate(180) scale(1.1)\" style=\"fill: #ccdae8\"><path d=\"M 0 -10 L 13 0 L 0 10 Z\" transform=\"translate(-3)\"/></g></g><text x=\"297.1\" y=\"315.9\">TKT1</text></g><g name=\"TALA\" style=\"stroke: #ccdae8; stroke-width: 10.8;\"><path d=\"M 4.9 337.2 L -15.1 337.2\"/><path d=\"M -35.1 337.2 L -15.1 337.2\"/><path d=\"M 4.9 337.2 C 56.7 335.8 87.2 356.0 135.5 368.6\"/><path d=\"M 4.9 337.2 C 46.9 337.2 79.5 319.9 132.4 305.0\"/><g><path d=\"M -35.1 337.2 C -98.1 332.7 -185.1 401.0 -214.5 460.6\"/><g class=\"arrowhead\" transform=\"translate(-214.5, 460.6) rotate(116) scale(1.1)\" style=\"fill: #ccdae8\"><path d=\"M 0 -10 L 13 0 L 0 10 Z\" transform=\"translate(-3)\"/></g></g><g><path d=\"M -35.1 337.2 C -173.3 334.4 -72.6 483.0 126.1 481.7\"/><g class=\"arrowhead\" transform=\"translate(126.1, 481.7) rotate(-0) scale(1.1)\" style=\"fill: #ccdae8\"><path d=\"M 0 -10 L 13 0 L 0 10 Z\" transform=\"translate(-3)\"/></g></g><text x=\"-50.7\" y=\"312.9\">TALA</text></g><g name=\"GlcPTS\"><path d=\"M -614.1 145.3 L -594.1 145.3\"/><path d=\"M -574.1 145.3 L -594.1 145.3\"/><path d=\"M -614.1 145.3 C -654.7 142.1 -725.7 146.5 -796.3 146.0\"/><path d=\"M -614.1 145.3 C -837.6 142.6 -842.5 2297.6 87.8 2298.9\"/><g><path d=\"M -574.1 145.3 C -507.7 144.1 -354.4 145.2 -272.2 146.0\"/><g class=\"arrowhead\" transform=\"translate(-272.2, 146.0) rotate(1)\"><path d=\"M 0 -10 L 13 0 L 0 10 Z\" transform=\"translate(-3)\"/></g></g><g><path d=\"M -574.1 145.3 C -384.8 143.7 -833.9 2647.7 77.8 2648.9\"/><g class=\"arrowhead\" transform=\"translate(77.8, 2648.9) rotate(0)\"><path d=\"M 0 -10 L 13 0 L 0 10 Z\" transform=\"translate(-3)\"/></g></g><text x=\"-645.4\" y=\"116.4\">GlcPTS</text></g></g><g id=\"metabolites\"><g name=\"NAD+\"><circle cx=\"37.7\" cy=\"1195.8\" r=\"12.0\"/><text x=\"-0.7\" y=\"1227.4\">NAD+</text></g><g name=\"Pi\"><circle cx=\"199.7\" cy=\"1192.3\" r=\"12.0\"/><text x=\"199.8\" y=\"1222.8\">Pi</text></g><g name=\"DPG\"><circle cx=\"117.8\" cy=\"1475.2\" r=\"20.0\"/><text x=\"150.0\" y=\"1482.4\">DPG</text></g><g name=\"NADH\"><circle cx=\"37.8\" cy=\"1405.2\" r=\"12.0\"/><text x=\"-13.1\" y=\"1387.7\">NADH</text></g><g name=\"3PG\"><circle cx=\"117.8\" cy=\"1825.2\" r=\"20.0\"/><text x=\"147.1\" y=\"1831.0\">3PG</text></g><g name=\"ATP\"><circle cx=\"37.8\" cy=\"1755.2\" r=\"12.0\"/><text x=\"10.8\" y=\"1785.2\">ATP</text></g><g name=\"ADP\"><circle cx=\"37.8\" cy=\"1545.2\" r=\"12.0\"/><text x=\"10.8\" y=\"1575.2\">ADP</text></g><g name=\"2PG\"><circle cx=\"117.8\" cy=\"2026.4\" r=\"20.0\"/><text x=\"148.5\" y=\"2036.4\">2PG</text></g><g name=\"H2O\"><circle cx=\"37.8\" cy=\"2229.0\" r=\"12.0\"/><text x=\"10.8\" y=\"2259.0\">H2O</text></g><g name=\"PEP\"><circle cx=\"117.8\" cy=\"2299.0\" r=\"20.0\"/><text x=\"151.4\" y=\"2297.5\">PEP</text></g><g name=\"ATP\"><circle cx=\"-74.4\" cy=\"2566.8\" r=\"12.0\"/><text x=\"-125.9\" y=\"2564.4\">ATP</text></g><g name=\"H2O\"><circle cx=\"-70.5\" cy=\"2500.0\" r=\"12.0\"/><text x=\"-125.7\" y=\"2505.3\">H2O</text></g><g name=\"pyr\"><circle cx=\"117.8\" cy=\"2649.0\" r=\"20.0\"/><text x=\"147.6\" y=\"2678.0\">pyr</text></g><g name=\"AMP\"><circle cx=\"-79.8\" cy=\"2373.5\" r=\"12.0\"/><text x=\"-135.9\" y=\"2370.0\">AMP</text></g><g name=\"Pi\"><circle cx=\"-135.7\" cy=\"2418.2\" r=\"12.0\"/><text x=\"-165.5\" y=\"2444.1\">Pi</text></g><g name=\"CoA\"><circle cx=\"197.8\" cy=\"2719.0\" r=\"12.0\"/><text x=\"212.8\" y=\"2719.0\">CoA</text></g><g name=\"NAD+\"><circle cx=\"37.8\" cy=\"2719.0\" r=\"12.0\"/><text x=\"10.8\" y=\"2749.0\">NAD+</text></g><g name=\"acCoA\"><circle cx=\"117.8\" cy=\"2999.0\" r=\"20.0\"/><text x=\"150.0\" y=\"3010.5\">acCoA</text></g><g name=\"CO2\"><circle cx=\"197.8\" cy=\"2929.0\" r=\"12.0\"/><text x=\"212.8\" y=\"2929.0\">CO2</text></g><g name=\"NADH\"><circle cx=\"37.8\" cy=\"2929.0\" r=\"12.0\"/><text x=\"1.8\" y=\"2959.0\">NADH</text></g><g name=\"ATP\"><circle cx=\"312.2\" cy=\"2582.1\" r=\"12.0\"/><text x=\"327.2\" y=\"2582.1\">ATP</text></g><g name=\"ADP\"><circle cx=\"305.7\" cy=\"2376.3\" r=\"12.0\"/><text x=\"318.2\" y=\"2371.6\">ADP</text></g><g name=\"DHAP\"><circle cx=\"-232.2\" cy=\"1125.2\" r=\"20.0\"/><text x=\"-261.0\" y=\"1178.2\">DHAP</text></g><g name=\"F16bP\"><circle cx=\"-232.2\" cy=\"846.5\" r=\"20.0\"/><text x=\"-328.7\" y=\"862.3\">F16bP</text></g><g name=\"ATP\"><circle cx=\"-39.8\" cy=\"587.9\" r=\"12.0\"/><text x=\"-27.7\" y=\"613.9\">ATP</text></g><g name=\"F6P\"><circle cx=\"-232.2\" cy=\"496.5\" r=\"20.0\"/><text x=\"-312.0\" y=\"496.0\">F6P</text></g><g name=\"ADP\"><circle cx=\"-31.6\" cy=\"766.5\" r=\"12.0\"/><text x=\"-16.8\" y=\"766.3\">ADP</text></g><g name=\"G6P\"><circle cx=\"-232.2\" cy=\"146.5\" r=\"20.0\"/><text x=\"-273.3\" y=\"110.0\">G6P</text></g><g name=\"6PG\"><circle cx=\"467.8\" cy=\"145.2\" r=\"20.0\"/><text x=\"451.6\" y=\"185.2\">6PG</text></g><g name=\"Ru5P\"><circle cx=\"882.6\" cy=\"423.1\" r=\"20.0\"/><text x=\"913.3\" y=\"434.6\">Ru5P</text></g><g name=\"R5P\"><circle cx=\"525.1\" cy=\"337.2\" r=\"20.0\"/><text x=\"503.9\" y=\"300.3\">R5P</text></g><g name=\"Sed7P\"><circle cx=\"161.3\" cy=\"296.8\" r=\"20.0\"/><text x=\"131.1\" y=\"256.2\">Sed7P</text></g><g name=\"6PGDL\"><circle cx=\"117.8\" cy=\"145.2\" r=\"20.0\"/><text x=\"90.8\" y=\"185.2\">6PGDL</text></g><g name=\"H2O\"><circle cx=\"187.8\" cy=\"65.2\" r=\"12.0\"/><text x=\"171.6\" y=\"45.2\">H2O</text></g><g name=\"NADP+\"><circle cx=\"-162.2\" cy=\"65.2\" r=\"12.0\"/><text x=\"-205.4\" y=\"45.2\">NADP+</text></g><g name=\"NADPH\"><circle cx=\"47.8\" cy=\"65.2\" r=\"12.0\"/><text x=\"20.8\" y=\"45.2\">NADPH</text></g><g name=\"NADP+\"><circle cx=\"827.5\" cy=\"159.6\" r=\"12.0\"/><text x=\"842.5\" y=\"159.6\">NADP+</text></g><g name=\"CO2\"><circle cx=\"912.2\" cy=\"214.1\" r=\"12.0\"/><text x=\"933.9\" y=\"207.2\">CO2</text></g><g name=\"NADPH\"><circle cx=\"932.5\" cy=\"263.4\" r=\"12.0\"/><text x=\"947.5\" y=\"263.4\">NADPH</text></g><g name=\"Xu5P\"><circle cx=\"446.5\" cy=\"617.0\" r=\"20.0\"/><text x=\"420.5\" y=\"665.6\">Xu5P</text></g><g name=\"H2O\"><circle cx=\"-430.7\" cy=\"772.5\" r=\"12.0\"/><text x=\"-457.7\" y=\"802.5\">H2O</text></g><g name=\"Pi\"><circle cx=\"-430.7\" cy=\"562.5\" r=\"12.0\"/><text x=\"-448.7\" y=\"592.5\">Pi</text></g><g name=\"E4P\"><circle cx=\"166.1\" cy=\"481.4\" r=\"20.0\"/><text x=\"147.8\" y=\"525.6\">E4P</text></g><g name=\"GAP\"><circle cx=\"119.7\" cy=\"1122.9\" r=\"20.0\"/><text x=\"159.9\" y=\"1130.4\">GAP</text></g><g name=\"Glc.D.ext\"><circle cx=\"-826.3\" cy=\"145.8\" r=\"20.0\"/><text x=\"-869.4\" y=\"105.3\">Glc.D.ext</text></g><g name=\"GAP\"><circle cx=\"164.6\" cy=\"376.2\" r=\"20.0\"/><text x=\"142.7\" y=\"421.1\">GAP</text></g></g></g></svg>"
      ],
      "text/plain": [
       "<IPython.core.display.SVG object>"
      ]
     },
     "execution_count": 2,
     "metadata": {},
     "output_type": "execute_result"
    }
   ],
   "source": [
    "# KB pathways and metabolites for convenience\n",
    "glycolysis = KB.find(KB.pathways, 'glycolysis')[0]\n",
    "ppp = KB.find(KB.pathways, 'pentose phosphate')[0]\n",
    "\n",
    "g6p = KB('Glc.D.6P')\n",
    "pep = KB('pep')\n",
    "r5p = KB('Rib.D.5P')\n",
    "# e4p = KB('Ery.D.4P')\n",
    "\n",
    "amp = KB('amp')\n",
    "adp = KB('adp')\n",
    "atp = KB('atp')\n",
    "nad = KB('nad.ox')\n",
    "nadh = KB('nad.red')\n",
    "nadp = KB('nadp.ox')\n",
    "nadph = KB('nadp.red')\n",
    "pi = KB('pi')\n",
    "h2o = KB('h2o')\n",
    "co2 = KB('co2')\n",
    "proton = KB('h+')\n",
    "\n",
    "\n",
    "# Build the network, but stop at PEP. We'll treat the PEP-pyruvate-acCoA system separately. Also skip E-D for now (minor?)\n",
    "# TODO: reflect these choices in the KB pathway objects.\n",
    "exclude = ['pyk', 'pps', 'pdh']\n",
    "network = ReactionNetwork(r for r in glycolysis.steps + ppp.steps if r.id not in exclude)\n",
    "\n",
    "# No specific reaction to consume R5P, just treat it as external. Also, we do not ignore water and protons.\n",
    "bounds = {r5p, co2, nadp, nadph, pep, nad, nadh, pi, amp, adp, atp, g6p, h2o, proton}\n",
    "\n",
    "scale = escher_map.Scale({0.: (\"#eeeeee\", 3), 6.: (\"#1f77cc\", 50)}, use_abs=True)\n",
    "map_json = json.loads(files(pw_files).joinpath('glycolysis_ppp.json').read_text())\n",
    "diag = escher_map.EscherMap(map_json, width=\"6in\", reaction_scale=scale)\n",
    "SVG(diag.draw(reaction_data={rxn_id: 1 for rxn_id in network.reactions.labels()}))"
   ]
  },
  {
   "cell_type": "markdown",
   "id": "6cc8f160-a181-4cd0-a185-3bf593d7e150",
   "metadata": {},
   "source": [
    "## Approach 1\n",
    "\n",
    "- Filter S matrix to internal metabolites\n",
    "- No additional simplifications (e.g. collapsing linear reaction chains)\n",
    "- PFK and FBP are explicitly irreversible; all others are reversible\n",
    "- Take reactions as written, e.g. PGK and GPMM run the 'wrong' way, so e.g. their flux will be negative for textbook glycolysis\n",
    "\n",
    "The algorithm works over iterations, where iteration j ensures the first j metabolites are\n",
    "at steady state for all flux modes, and all flux modes are elemental at least with respect to those metabolites.\n"
   ]
  },
  {
   "cell_type": "code",
   "execution_count": 3,
   "id": "0b05b61d-2d39-41ef-8e64-822b046893ab",
   "metadata": {
    "jupyter": {
     "source_hidden": true
    },
    "tags": []
   },
   "outputs": [],
   "source": [
    "def build_internal_system(network, bounds):\n",
    "    \"\"\"Returns S matrix with rows for internal (non-bounds) metabolites only.\"\"\"\n",
    "    intermediates = [met not in bounds for met in network.reactants]\n",
    "    return network.s_matrix[intermediates].astype(int)\n",
    "\n",
    "def sort_tableau(tableau, j):\n",
    "    # Existing modes that already satisfy steady state j will be part of the next tableau. Others will either be merged or dropped.\n",
    "    elementary = []\n",
    "    pending = []\n",
    "    for mode, reversible, zeros in tableau:\n",
    "        if mode[j] == 0:\n",
    "            elementary.append((mode, reversible, zeros))\n",
    "        else:\n",
    "            pending.append((mode, reversible, zeros))\n",
    "    return elementary, pending\n",
    "\n",
    "def generate_candidates(pending, j):\n",
    "    # All pending mode pairs are merge candidates, unless they violate irreversibility.\n",
    "    candidates = []\n",
    "    for i, (mode_i, reversible_i, zeros_i) in enumerate(pending):\n",
    "        for mode_m, reversible_m, zeros_m in pending[i+1:]:\n",
    "            # Put a reversible mode second if possible, so we can always multiply the first by a positive number\n",
    "            if reversible_m:\n",
    "                candidates.append((mode_i, mode_m, reversible_i and reversible_m, zeros_i & zeros_m))\n",
    "            elif reversible_i:\n",
    "                candidates.append((mode_m, mode_i, reversible_i and reversible_m, zeros_i & zeros_m))\n",
    "\n",
    "            # Otherwise we can still combine them, if they have opposite stoichiometry\n",
    "            elif mode_i[j] * mode_m[j] < 0:\n",
    "                candidates.append((mode_i, mode_m, False, zeros_i & zeros_m))\n",
    "    return candidates\n",
    "\n",
    "def merge_modes(mode_i, mode_m, reversible, j, num_rxns):\n",
    "    # All integer arithmetic. We want integer scaling in simplest form.\n",
    "    multiple = int(np.lcm(mode_i[j], mode_m[j]))\n",
    "    # scale_i is always positive\n",
    "    scale_i = int(multiple / abs(mode_i[j]))\n",
    "    # scale_m satisfies scale_i * mode_i[j] + scale_m * mode_m[j] = 0. \n",
    "    scale_m = -int(scale_i * mode_i[j] / mode_m[j])\n",
    "\n",
    "    # Combine modes, and reduce to simplest integers.\n",
    "    mode = scale_i * mode_i + scale_m * mode_m\n",
    "    mode = (mode / np.gcd.reduce(mode)).astype(int)\n",
    "    \n",
    "    # Determine the actual new zeros set on the moerged mode.\n",
    "    zeros = set(np.nonzero(mode[-num_rxns:] == 0)[0])\n",
    "    \n",
    "    # Mostly esthetic, but prefer original reaction direction for reversible modes\n",
    "    if reversible:\n",
    "        involved = num_rxns - len(zeros)\n",
    "        forward = np.nonzero(mode[-num_rxns:] > 0)[0].shape[0]\n",
    "        if forward * 2 < involved:\n",
    "            mode = -mode\n",
    "\n",
    "    return mode, reversible, zeros\n",
    "\n",
    "def process_candidates(candidates, modes, j, num_rxns):\n",
    "    # Compare candidates against all other elementary modes, based on the non-subset zeros test.\n",
    "    for i, (mode_i, mode_m, reversible, zeros) in enumerate(candidates):\n",
    "        passing = True\n",
    "        for _, _, other_zeros in modes:\n",
    "            if zeros <= other_zeros:  # subset or equal\n",
    "                # print(f'  {mode_i} + {mode_m} Fails because {zeros} <= {other_zeros}')\n",
    "                passing = False\n",
    "                break\n",
    "\n",
    "        # If the candidate survived, keep it. Other candidates must now compare against this new mode too.\n",
    "        if passing:\n",
    "            modes.append(merge_modes(mode_i, mode_m, reversible, j, num_rxns))\n",
    "    \n",
    "    return modes\n",
    "\n",
    "# def elementary_modes(network, bounds):\n",
    "def elementary_modes(s_matrix, reversibilities):\n",
    "    # tableau = init_tableau(network, bounds)\n",
    "    num_mets, num_rxns = s_matrix.shape\n",
    "    modes = list(np.concatenate([s_matrix, np.eye(num_rxns, dtype=int)]).T)\n",
    "    tableau = [(mode, reversible, set(np.nonzero(mode[-num_rxns:] == 0)[0]))\n",
    "                for mode, reversible in zip(modes, reversibilities)]\n",
    "\n",
    "    for j in range(num_mets):\n",
    "        modes, pending = sort_tableau(tableau, j)\n",
    "        candidates = generate_candidates(pending, j)\n",
    "        # TODO: optimization based on cardinality of merged zeros set, per Urbanczik & Wagner (2004)?\n",
    "        \n",
    "        tableau = process_candidates(candidates, modes, j, num_rxns)\n",
    "        \n",
    "    modes = []\n",
    "    rev = []\n",
    "    for mode, reversible, zeros in tableau:\n",
    "        modes.append(mode[-num_rxns:])\n",
    "        rev.append(reversible)\n",
    "    \n",
    "    return np.array(modes, dtype=int).T, rev"
   ]
  },
  {
   "cell_type": "code",
   "execution_count": 4,
   "id": "8f67b911-0b0e-4846-a2dc-743b5d9f0cb8",
   "metadata": {
    "tags": []
   },
   "outputs": [
    {
     "name": "stdout",
     "output_type": "stream",
     "text": [
      "CPU times: user 10.3 ms, sys: 142 μs, total: 10.4 ms\n",
      "Wall time: 10.3 ms\n"
     ]
    }
   ],
   "source": [
    "%%time\n",
    "modes, rev = elementary_modes(build_internal_system(network, bounds), (reaction.reversible for reaction in network.reactions))"
   ]
  },
  {
   "cell_type": "markdown",
   "id": "be438aa3-34dd-4a18-81ee-35cfa0e9c9a8",
   "metadata": {},
   "source": [
    "### Reaction usage and net reaction per elementary mode"
   ]
  },
  {
   "cell_type": "code",
   "execution_count": 5,
   "id": "d523a161-514b-43b4-8341-646d6abd5e5e",
   "metadata": {
    "jupyter": {
     "source_hidden": true
    },
    "tags": []
   },
   "outputs": [],
   "source": [
    "def show_modes(network, modes, rev):\n",
    "    s_elementary = (network.s_matrix.astype(int) @ modes)\n",
    "    net_reactions = []\n",
    "    for i, (mode, reversible) in enumerate(zip(s_elementary.T, rev)):\n",
    "        stoich = {}\n",
    "        for met, count in zip(network.reactants, mode):\n",
    "            if count != 0:\n",
    "                stoich[met] = count\n",
    "\n",
    "        net_reaction = Reaction(id=f'mode{i}', name=f'Elementary Mode {i}', stoichiometry=stoich, reversible=reversible)\n",
    "        net_reactions.append(net_reaction)\n",
    "\n",
    "    w = f'{160 + modes.shape[1] * 8:d}px' if modes.shape[1] < 80 else '100%'\n",
    "    mode_select = widgets.IntSlider(\n",
    "        value=0,\n",
    "        min=0,\n",
    "        max=modes.shape[1] - 1,\n",
    "        description='Mode',\n",
    "        continuous_update=True,\n",
    "        readout=True,\n",
    "        layout={'width': w}\n",
    "    )\n",
    "    mode_fluxes = widgets.Text(description='flux ratios', layout={\"width\": \"99%\"})\n",
    "    mode_net = widgets.Text(description='net reaction', layout={\"width\": \"99%\"})\n",
    "    map_json = json.loads(files(pw_files).joinpath('glycolysis_ppp.json').read_text())\n",
    "    diag = escher_map.EscherMap(map_json, width=\"100%\", reaction_scale=scale)\n",
    "    diag_canvas = widgets.Output()\n",
    "\n",
    "    def show_mode(change):\n",
    "        mode = mode_select.value\n",
    "        mode_fluxes.value = mode_formula(network, modes.T[mode])\n",
    "        mode_net.value = reaction_formula(net_reactions[mode])\n",
    "        # Update the pathway diagram\n",
    "        svg = diag.draw(reaction_data={r.label: v for r, v in zip(network.reactions, modes.T[mode])})\n",
    "        diag_canvas.clear_output(wait=True)\n",
    "        with diag_canvas:\n",
    "            display(SVG(svg))\n",
    "\n",
    "    mode_select.observe(show_mode, names='value')\n",
    "    show_mode(None)\n",
    "\n",
    "    return widgets.VBox([mode_select, mode_fluxes, mode_net, diag_canvas], layout={\"width\": \"6in\"})"
   ]
  },
  {
   "cell_type": "code",
   "execution_count": 6,
   "id": "e0c93cc4-b823-403f-9be0-f47de67b7378",
   "metadata": {
    "tags": []
   },
   "outputs": [
    {
     "data": {
      "application/vnd.jupyter.widget-view+json": {
       "model_id": "5422eb6cc5e34e99ad9b0b29c17fc3c4",
       "version_major": 2,
       "version_minor": 0
      },
      "text/plain": [
       "VBox(children=(IntSlider(value=0, description='Mode', layout=Layout(width='256px'), max=11), Text(value='PFK +…"
      ]
     },
     "execution_count": 6,
     "metadata": {},
     "output_type": "execute_result"
    }
   ],
   "source": [
    "show_modes(network, modes, rev)"
   ]
  },
  {
   "cell_type": "markdown",
   "id": "dfc0e93e-c7ef-4d4b-8a10-b66e6866ff0c",
   "metadata": {},
   "source": [
    "# Try to make the network identical to Schuster et al (2000)"
   ]
  },
  {
   "cell_type": "code",
   "execution_count": 7,
   "id": "192cba52-b295-48f2-960b-a6a6c65f80e8",
   "metadata": {
    "tags": []
   },
   "outputs": [
    {
     "data": {
      "application/vnd.jupyter.widget-view+json": {
       "model_id": "ab20288c3c7947dfbc36e42e7677ed72",
       "version_major": 2,
       "version_minor": 0
      },
      "text/plain": [
       "VBox(children=(IntSlider(value=0, description='Mode', layout=Layout(width='216px'), max=6), Text(value='PFK + …"
      ]
     },
     "execution_count": 7,
     "metadata": {},
     "output_type": "execute_result"
    }
   ],
   "source": [
    "# Extend to pyruvate and to R5Pex.\n",
    "r5p_ex = Molecule(id='r5p_ex', name='Incorporated R5P', shorthand='R5Pex')\n",
    "prs_deob = Reaction(\n",
    "    id='prs_deob',\n",
    "    name='R5P nucleotide incorporation',\n",
    "    stoichiometry={\n",
    "        r5p: -1,\n",
    "        r5p_ex: +1\n",
    "    },\n",
    "    reversible=False)\n",
    "\n",
    "#  *** Pyk is irreversible, but the wrong way! Semanitics of the name 'pyruvate *kinase*' aside, define the reaction as strictly PEP + ADP -> pyruvate + ATP ***\n",
    "pyk = KB.get(KB.reactions, 'pyk')\n",
    "pyk_irr = Reaction(\n",
    "    id='pyk_irr',\n",
    "    name='Glycolytic PYK',\n",
    "    shorthand='PYK',\n",
    "    stoichiometry = {met: -count for met, count in pyk.stoichiometry.items()},\n",
    "    reversible=False,\n",
    ")\n",
    "\n",
    "exclude = {'pps', 'pdh', 'pyk'}\n",
    "network = ReactionNetwork(r for r in glycolysis.steps + ppp.steps + [pyk_irr, prs_deob] if r.id not in exclude)\n",
    "\n",
    "# We still keep track of protons and water, where they do not. This *shouldn't* make a difference...\n",
    "pyr = KB('pyr')\n",
    "bounds = {g6p, pyr, r5p_ex, nad, nadh, nadp, nadph, amp, adp, atp, pi, co2, h2o, proton}\n",
    "\n",
    "modes, rev = elementary_modes(build_internal_system(network, bounds), (reaction.reversible for reaction in network.reactions))\n",
    "show_modes(network, modes, rev)"
   ]
  },
  {
   "cell_type": "markdown",
   "id": "fd11a41b-055e-43fb-8c4b-57e3f7538155",
   "metadata": {
    "tags": []
   },
   "source": [
    "Most correspond to modes as in Schuster _et al_ (2000)\n",
    "- 0 = G = futile cycle\n",
    "- 1 = A = textbook glycolysis\n",
    "- 2 = D = G6P to R5P + CO2\n",
    "- 3 = E = 5 G6P to 6 R5P\n",
    "- 5 = F = burn G6P completely to CO2, generating NADPH\n",
    "- 6 = B = burn G6P half to CO2, half to pyruvate\n",
    "- 7 = C = burn G6p 1/6 to CO2, the rest to pyruvate\n",
    "\n",
    "Two extra modes:\n",
    "- 4 = pure carbon fixation 6 CO2 -> G6P, consuming ATP and NADPH.\n",
    "- 8 = lesser carbon fixation, G6P + 4 CO2 -> 2 R5P\n",
    "\n",
    "**Bingo:** the two extra modes use PGLDH (6-phosphogluconate dehydrogenase) in reverse, while Schuster _et al_ treat it as irreversible. eQuilibrator gives its standard ΔG as +10.7 kJ/mol, which is _uphill_, though at cellular concentrations I calculate it at more like -11. So we do expect it to run in the direction given, but it is not impossible that it could go the opposite way under the right conditions.\n",
    "\n",
    "### Either way, check that making it irreversible reproduces the published result:"
   ]
  },
  {
   "cell_type": "code",
   "execution_count": 8,
   "id": "ff1ca938-c3cd-4a59-a973-ae4598bf2938",
   "metadata": {
    "tags": []
   },
   "outputs": [
    {
     "data": {
      "application/vnd.jupyter.widget-view+json": {
       "model_id": "aed7a038c2ea4fad9789b8e3f14eae06",
       "version_major": 2,
       "version_minor": 0
      },
      "text/plain": [
       "VBox(children=(IntSlider(value=0, description='Mode', layout=Layout(width='216px'), max=6), Text(value='PFK + …"
      ]
     },
     "execution_count": 8,
     "metadata": {},
     "output_type": "execute_result"
    }
   ],
   "source": [
    "#  Replace PGLDH with an irreversible copy.\n",
    "pgldh = KB.get(KB.reactions, 'pgldh')\n",
    "pgldh_irr = Reaction(\n",
    "    id=pgldh.id + '_irr',\n",
    "    name=pgldh.name,\n",
    "    shorthand=pgldh.shorthand,\n",
    "    stoichiometry = pgldh.stoichiometry,\n",
    "    reversible=False,\n",
    ")\n",
    "\n",
    "exclude = {'pps', 'pdh', 'pyk', 'pgldh'}\n",
    "network = ReactionNetwork(r for r in glycolysis.steps + ppp.steps + [pyk_irr, pgldh_irr, prs_deob] if r.id not in exclude)\n",
    "\n",
    "# Same bounds as above\n",
    "bounds = {g6p, pyr, r5p_ex, nad, nadh, nadp, nadph, amp, adp, atp, pi, co2, h2o, proton}\n",
    "modes, rev = elementary_modes(build_internal_system(network, bounds), (reaction.reversible for reaction in network.reactions))\n",
    "show_modes(network, modes, rev)"
   ]
  },
  {
   "cell_type": "markdown",
   "id": "d5be5cd0-f09b-4af0-9383-66344847a9d3",
   "metadata": {},
   "source": [
    "Same 7 elementary modes as in Schuster _et al_ (2000). **Declare success**."
   ]
  },
  {
   "cell_type": "markdown",
   "id": "17ac6ff1-3dc6-483b-97d9-0273c7cdf452",
   "metadata": {},
   "source": [
    "### Reproducibility of elementary modes\n",
    "\n",
    "- Randomly permute reactions and metabolites, and collect the resulting elementary modes."
   ]
  },
  {
   "cell_type": "code",
   "execution_count": 9,
   "id": "88a6bf7b-97dc-46c0-8c24-e1a663077aff",
   "metadata": {
    "tags": []
   },
   "outputs": [
    {
     "name": "stdout",
     "output_type": "stream",
     "text": [
      "CPU times: user 2.87 s, sys: 4.25 ms, total: 2.87 s\n",
      "Wall time: 2.87 s\n"
     ]
    }
   ],
   "source": [
    "%%time\n",
    "rng = np.random.default_rng()\n",
    "\n",
    "s_internal = build_internal_system(network, bounds)\n",
    "reversibilities = np.array([reaction.reversible for reaction in network.reactions])\n",
    "\n",
    "results = []\n",
    "for _ in range(1000):\n",
    "    met_perm = rng.permutation(s_internal.shape[0])\n",
    "    rxn_perm = rng.permutation(s_internal.shape[1])\n",
    "    \n",
    "    # Permute the input matrix by both row and column\n",
    "    modes, rev = elementary_modes(s_internal[met_perm][:, rxn_perm], reversibilities[rxn_perm])\n",
    "    \n",
    "    # Restore the original reaction ordering\n",
    "    results.append((met_perm, rxn_perm, modes[np.argsort(rxn_perm)], rev))"
   ]
  },
  {
   "cell_type": "code",
   "execution_count": 10,
   "id": "d87fcd50-6f62-4c40-8745-df5950ccae01",
   "metadata": {
    "tags": []
   },
   "outputs": [],
   "source": [
    "for i, (_, _, modes, _) in enumerate(results):\n",
    "    if modes.shape != (19, 7):\n",
    "        print(i, modes.shape)"
   ]
  },
  {
   "cell_type": "markdown",
   "id": "6d88e397-7757-4196-ab7b-8ee020097e3a",
   "metadata": {},
   "source": [
    "Always 7 modes"
   ]
  },
  {
   "cell_type": "code",
   "execution_count": 11,
   "id": "cf886047-84bd-4dbe-af6b-180c1777bd90",
   "metadata": {
    "tags": []
   },
   "outputs": [
    {
     "data": {
      "text/plain": [
       "(1000, 19, 7)"
      ]
     },
     "execution_count": 11,
     "metadata": {},
     "output_type": "execute_result"
    }
   ],
   "source": [
    "mode_sorted = []\n",
    "for _, _, modes, _ in results:\n",
    "    modes = modes[:, modes[1].argsort()]\n",
    "    modes = modes[:, modes[0].argsort(kind='stable')]\n",
    "    mode_sorted.append(modes)\n",
    "allmodes = np.array(mode_sorted)\n",
    "allmodes.shape"
   ]
  },
  {
   "cell_type": "code",
   "execution_count": 12,
   "id": "d379a6d6-3aec-43c9-9825-6a1a66139b0f",
   "metadata": {
    "tags": []
   },
   "outputs": [
    {
     "data": {
      "text/plain": [
       "array([[-5., -2.,  0.,  0.,  0.,  1.,  5.],\n",
       "       [ 0.,  0.,  0.,  1.,  2.,  1.,  1.],\n",
       "       [ 1.,  0.,  0.,  1.,  0.,  0.,  0.],\n",
       "       [-1.,  0.,  0.,  0.,  2.,  1.,  1.],\n",
       "       [ 1.,  0.,  0.,  0., -2., -1., -1.],\n",
       "       [ 0.,  1.,  0.,  0.,  5.,  2.,  0.],\n",
       "       [ 0., -1.,  0.,  0., -5., -2.,  0.],\n",
       "       [ 0., -1.,  0.,  0., -5., -2.,  0.],\n",
       "       [ 0.,  1.,  0.,  0.,  5.,  2.,  0.],\n",
       "       [-2., -1., -1.,  0., -1.,  0., -4.],\n",
       "       [-2., -1.,  0.,  0., -1.,  0.,  2.],\n",
       "       [ 4.,  2.,  0.,  0.,  2.,  0., -4.],\n",
       "       [ 6.,  3.,  1.,  0.,  3.,  0.,  0.],\n",
       "       [ 2.,  1.,  0.,  0.,  1.,  0., -2.],\n",
       "       [ 2.,  1.,  0.,  0.,  1.,  0., -2.],\n",
       "       [ 6.,  3.,  1.,  0.,  3.,  0.,  0.],\n",
       "       [ 0.,  1.,  0.,  0.,  5.,  2.,  0.],\n",
       "       [ 6.,  3.,  1.,  0.,  3.,  0.,  0.],\n",
       "       [ 0.,  0.,  1.,  0.,  0.,  0.,  6.]])"
      ]
     },
     "execution_count": 12,
     "metadata": {},
     "output_type": "execute_result"
    }
   ],
   "source": [
    "np.mean(allmodes, axis=0)"
   ]
  },
  {
   "cell_type": "markdown",
   "id": "b60451a5-8caf-4b20-b1d0-e6b9f9033f49",
   "metadata": {},
   "source": [
    "OK, looks 100% consistent"
   ]
  },
  {
   "cell_type": "markdown",
   "id": "7671122a-41d7-446d-8453-38052d8a3bbb",
   "metadata": {},
   "source": [
    "## Approach 2 - Only a minor variation\n",
    "\n",
    "- Treat at least some of the boundaries as exchanges rather than external metabolites\n",
    "- _Should_ give the same result e.g. for FBA\n",
    "  - Unconstrained dM/dt is the same as an unconstrained exchange via a one-metabolite pseudo-reaction\n",
    "- But for elementary mode analysis it could matter\n",
    "  - Keeps the metabolite row of interest in the subsetted S matrix used for the elementary mode algorithm.\n",
    "    - This could make the difference for a given reaction being included in the analysis at all, e.g. between two metabolites that could both also exchange\n",
    "  - The exchange could be marked irreversible to restrict to a relevant subset of modes\n"
   ]
  },
  {
   "cell_type": "code",
   "execution_count": 13,
   "id": "7a008d61-b575-46a6-9239-e5e2dadd1f9b",
   "metadata": {
    "tags": []
   },
   "outputs": [],
   "source": [
    "def augmented_internal_system(network, exchanges, bounds):\n",
    "    \"\"\"Returns S matrix with rows for internal and exchanged metabolites only.\"\"\"\n",
    "    \n",
    "    # Append columns ('reactions') with a single entry for each exchange\n",
    "    exchange_cols = np.zeros((network.shape[0], len(exchanges)), dtype=int)\n",
    "    for j, met in enumerate(exchanges):\n",
    "        exchange_cols[network.reactants.index_of(met), j] = 1\n",
    "\n",
    "    intermediates = [met not in bounds for met in network.reactants]\n",
    "    s_matrix = np.concatenate([network.s_matrix.astype(int), exchange_cols], axis=1)\n",
    "    return s_matrix[intermediates]\n"
   ]
  },
  {
   "cell_type": "code",
   "execution_count": 14,
   "id": "958fc94c-7020-48a8-b290-d5b9bc07d6c8",
   "metadata": {
    "tags": []
   },
   "outputs": [
    {
     "data": {
      "text/plain": [
       "(15, 19)"
      ]
     },
     "execution_count": 14,
     "metadata": {},
     "output_type": "execute_result"
    }
   ],
   "source": [
    "build_internal_system(network, bounds).shape"
   ]
  },
  {
   "cell_type": "code",
   "execution_count": 15,
   "id": "74d0f2a2-7558-4a08-855b-e1c2dda6943b",
   "metadata": {
    "tags": []
   },
   "outputs": [
    {
     "data": {
      "text/plain": [
       "(17, 21)"
      ]
     },
     "execution_count": 15,
     "metadata": {},
     "output_type": "execute_result"
    }
   ],
   "source": [
    "augmented_internal_system(network, {g6p, pyr}, bounds - {g6p, pyr}).shape"
   ]
  },
  {
   "cell_type": "code",
   "execution_count": 16,
   "id": "255d6196-46c1-46bc-b8f6-97d41fcd7771",
   "metadata": {
    "tags": []
   },
   "outputs": [],
   "source": [
    "modes, rev = elementary_modes(\n",
    "    augmented_internal_system(network, {g6p, pyr}, bounds - {g6p, pyr}),\n",
    "    [reaction.reversible for reaction in network.reactions] + [True, True])"
   ]
  },
  {
   "cell_type": "code",
   "execution_count": 17,
   "id": "f4767784-2cd8-4cfa-8287-5f73eb02ddf4",
   "metadata": {
    "tags": []
   },
   "outputs": [
    {
     "data": {
      "text/plain": [
       "(21, 7)"
      ]
     },
     "execution_count": 17,
     "metadata": {},
     "output_type": "execute_result"
    }
   ],
   "source": [
    "modes.shape"
   ]
  },
  {
   "cell_type": "code",
   "execution_count": 18,
   "id": "9ea5f4d5-2817-4f05-ac63-68392c2014df",
   "metadata": {},
   "outputs": [
    {
     "data": {
      "application/vnd.jupyter.widget-view+json": {
       "model_id": "828f0b8a888a47a1a74b069fa781fb84",
       "version_major": 2,
       "version_minor": 0
      },
      "text/plain": [
       "VBox(children=(IntSlider(value=0, description='Mode', layout=Layout(width='216px'), max=6), Text(value='PFK + …"
      ]
     },
     "execution_count": 18,
     "metadata": {},
     "output_type": "execute_result"
    }
   ],
   "source": [
    "show_modes(network, modes[:network.shape[1]], rev)"
   ]
  },
  {
   "cell_type": "markdown",
   "id": "f20c0ac1-a2e6-455c-8acf-84b427ba4e15",
   "metadata": {},
   "source": [
    "Same"
   ]
  }
 ],
 "metadata": {
  "kernelspec": {
   "display_name": "Python 3 (ipykernel)",
   "language": "python",
   "name": "python3"
  },
  "language_info": {
   "codemirror_mode": {
    "name": "ipython",
    "version": 3
   },
   "file_extension": ".py",
   "mimetype": "text/x-python",
   "name": "python",
   "nbconvert_exporter": "python",
   "pygments_lexer": "ipython3",
   "version": "3.11.2"
  }
 },
 "nbformat": 4,
 "nbformat_minor": 5
}
