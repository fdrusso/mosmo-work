{
 "cells": [
  {
   "cell_type": "markdown",
   "id": "652d50d8-657a-4617-9d24-0acdd9048889",
   "metadata": {
    "tags": []
   },
   "source": [
    "# Working up algorithm based on [Schuster _et al_ (2000)](https://www.nature.com/articles/nbt0300_326), [Schuster _et al_ (2002)](https://link.springer.com/article/10.1007/s002850200143)\n",
    "\n",
    "- Use glycolysis + PPP, as in the paper (though stopping at PEP)\n",
    "- Don't worry about efficiency yet, just get a feel for the algorithm\n",
    "- Results won't be identical to Schuster because system and boundaries are different, but it should be reconcilable"
   ]
  },
  {
   "cell_type": "code",
   "execution_count": 1,
   "id": "dd2d679d-f86b-4a50-b6cd-ca2ce73b10b2",
   "metadata": {
    "tags": []
   },
   "outputs": [],
   "source": [
    "import collections\n",
    "import ipywidgets as widgets\n",
    "import matplotlib.pyplot as plt\n",
    "import matplotlib\n",
    "import numpy as np\n",
    "import pandas as pd\n",
    "import scipy.linalg\n",
    "from IPython.display import SVG, display\n",
    "\n",
    "from mosmo.knowledge import kb\n",
    "from mosmo.model import KbEntry, Molecule, Reaction, Pathway\n",
    "from mosmo.preso.escher import escher_map\n",
    "from mosmo.calc import fba_gd\n",
    "\n",
    "KB = kb.configure_kb()\n",
    "\n",
    "def mode_formula(pw, mode):\n",
    "    parts = []\n",
    "    for reaction, coeff in zip(pw.reactions.labels(), mode):\n",
    "        if coeff == -1:\n",
    "            parts.append('-')\n",
    "        elif coeff < 0:\n",
    "            parts.append(f'- {-coeff}')\n",
    "        elif coeff == 1:\n",
    "            if parts:\n",
    "                parts.append('+')\n",
    "        elif coeff > 0:\n",
    "            if parts:\n",
    "                parts.append(f'+ {coeff}')\n",
    "            else:\n",
    "                parts.append(f'{coeff}')\n",
    "        \n",
    "        if coeff:\n",
    "            parts.append(reaction)\n",
    "    \n",
    "    return ' '.join(parts)"
   ]
  },
  {
   "cell_type": "markdown",
   "id": "72a07fd6-4ce3-433c-b7bf-f2cbbc8db80f",
   "metadata": {},
   "source": [
    "## Define the pathway\n",
    "\n",
    "- Slightly modified from Schuster _et al_, but maintaining the same structure and behavior"
   ]
  },
  {
   "cell_type": "code",
   "execution_count": 2,
   "id": "e1fc55f9-70e3-49cb-a13c-b2fea6402767",
   "metadata": {
    "tags": []
   },
   "outputs": [
    {
     "name": "stdout",
     "output_type": "stream",
     "text": [
      "glyc_ppp\n",
      "name: None\n",
      "shorthand: None\n",
      "aka: None\n",
      "description: None\n",
      "xrefs: None\n",
      "size: 17 reactions over 26 molecules.\n",
      "reactions: \n",
      "    [gapdh] GAP + NAD+ + Pi <=> DPG + H+ + NADH\n",
      "    [pgk] 3PG + ATP <=> DPG + ADP\n",
      "    [gpm] 2PG <=> 3PG\n",
      "    [eno] 2PG <=> H2O + PEP\n",
      "    [tpi] GAP <=> DHAP\n",
      "    [fba] FDP <=> GAP + DHAP\n",
      "    [pfk] ATP + F6P => ADP + FDP + H+\n",
      "    [pgi] G6P <=> F6P\n",
      "    [r5pi] R5P <=> Ru5P\n",
      "    [pglase] 6PGDL + H2O => 6PG + H+\n",
      "    [g6pdh] G6P + NADP+ <=> 6PGDL + H+ + NADPH\n",
      "    [pgldh] 6PG + NADP+ => CO2 + Ru5P + NADPH\n",
      "    [rpe] Ru5P <=> Xu5P\n",
      "    [fbp] FDP + H2O => F6P + Pi\n",
      "    [tkt.c5c5] GAP + Sed7P <=> R5P + Xu5P\n",
      "    [tal] GAP + Sed7P <=> F6P + E4P\n",
      "    [tkt.c5c4] E4P + Xu5P <=> F6P + GAP\n"
     ]
    },
    {
     "data": {
      "image/svg+xml": [
       "<svg width=\"6in\" height=\"None\" viewBox=\"-163.0 -136.0 2899.0 3299.0\"><defs><style type=\"text/css\">\n",
       "#canvas {\n",
       "  fill: #ffffff;\n",
       "  stroke: #cccccc;\n",
       "}\n",
       "text {\n",
       "  font-family: sans-serif;\n",
       "  font-style: italic;\n",
       "  font-weight: bold;\n",
       "  stroke: none;\n",
       "  text-rendering: optimizelegibility;\n",
       "}\n",
       "#reactions text {\n",
       "  font-size: 30px;\n",
       "  fill: #334e75;\n",
       "}\n",
       "#reactions text.stoich {\n",
       "  font-size: 12px;\n",
       "}\n",
       "#metabolites text {\n",
       "  font-size: 20px;\n",
       "  fill: black;\n",
       "}\n",
       "#reactions {\n",
       "  fill: none;\n",
       "  stroke: #334e75;\n",
       "  stroke-width: 10;\n",
       "}\n",
       "#reactions.data {\n",
       "  stroke: #eeeeee;  /* default overridden by reaction_scale */\n",
       "}\n",
       "#reactions .arrowhead {\n",
       "  fill: #334e75;\n",
       "  stroke: none;\n",
       "}\n",
       "#reactions.data .arrowhead {\n",
       "  fill: #eeeeee;  /* default overridden by reaction_scale */\n",
       "}\n",
       "#metabolites {\n",
       "  fill: #e0865b;\n",
       "  stroke: #a24510;\n",
       "  stroke-width: 2;\n",
       "}\n",
       "#metabolites.data {\n",
       "  fill: #eeeeee;  /* default overridden by metabolite_scale */\n",
       "  stroke: none;\n",
       "}\n",
       "</style></defs><g id=\"eschermap\"><rect id=\"canvas\" x=\"-163.0\" y=\"-136.0\" width=\"2899.0\" height=\"3299.0\"/><g id=\"reactions\" class=\"data\"><g name=\"gapdh\" style=\"stroke: #a9c6e3; stroke-width: 18.7;\"><path d=\"M 1094.0 1397.0 L 1094.0 1417.0\"/><path d=\"M 1094.0 1437.0 L 1094.0 1417.0\"/><path d=\"M 1094.0 1397.0 C 1094.0 1355.0 1091.0 1260.0 1093.5 1228.9\"/><path d=\"M 1094.0 1397.0 C 1094.0 1351.0 1075.0 1347.0 1033.2 1323.7\"/><path d=\"M 1094.0 1397.0 C 1094.0 1351.0 1116.0 1347.0 1157.4 1320.8\"/><g><path d=\"M 1094.0 1437.0 C 1094.0 1479.0 1094.0 1492.0 1094.0 1511.0\"/><g class=\"arrowhead\" transform=\"translate(1094.0, 1511.0) rotate(90) scale(1.9)\" style=\"fill: #a9c6e3\"><path d=\"M 0 -10 L 13 0 L 0 10 Z\" transform=\"translate(-3)\"/></g></g><g><path d=\"M 1094.0 1437.0 C 1094.0 1483.0 1076.0 1489.0 1042.2 1507.0\"/><g class=\"arrowhead\" transform=\"translate(1042.2, 1507.0) rotate(152) scale(1.9)\" style=\"fill: #a9c6e3\"><path d=\"M 0 -10 L 13 0 L 0 10 Z\" transform=\"translate(-3)\"/></g></g><text x=\"1109.0\" y=\"1427.0\">GAPDH</text></g><g name=\"pgk\" style=\"stroke: #a9c6e3; stroke-width: 18.7;\"><path d=\"M 1094.0 1746.0 L 1094.0 1726.0\"/><path d=\"M 1094.0 1706.0 L 1094.0 1726.0\"/><path d=\"M 1094.0 1746.0 C 1094.0 1788.0 1094.0 1842.0 1094.0 1871.0\"/><path d=\"M 1094.0 1746.0 C 1094.0 1792.0 1076.0 1797.0 1033.3 1820.4\"/><g><path d=\"M 1094.0 1706.0 C 1094.0 1664.0 1094.0 1610.0 1094.0 1591.0\"/><g class=\"arrowhead\" transform=\"translate(1094.0, 1591.0) rotate(-90) scale(1.9)\" style=\"fill: #a9c6e3\"><path d=\"M 0 -10 L 13 0 L 0 10 Z\" transform=\"translate(-3)\"/></g></g><g><path d=\"M 1094.0 1706.0 C 1094.0 1660.0 1076.0 1655.0 1042.1 1636.4\"/><g class=\"arrowhead\" transform=\"translate(1042.1, 1636.4) rotate(-151) scale(1.9)\" style=\"fill: #a9c6e3\"><path d=\"M 0 -10 L 13 0 L 0 10 Z\" transform=\"translate(-3)\"/></g></g><text x=\"1109.0\" y=\"1736.0\">PGK</text></g><g name=\"gpm\" style=\"stroke: #a9c6e3; stroke-width: 18.7;\"><path d=\"M 1094.0 2025.0 L 1094.0 2005.0\"/><path d=\"M 1094.0 1985.0 L 1094.0 2005.0\"/><path d=\"M 1094.0 2025.0 C 1094.0 2067.0 1094.0 2043.0 1094.0 2072.0\"/><g><path d=\"M 1094.0 1985.0 C 1094.0 1943.0 1094.0 1960.0 1094.0 1941.0\"/><g class=\"arrowhead\" transform=\"translate(1094.0, 1941.0) rotate(-90) scale(1.9)\" style=\"fill: #a9c6e3\"><path d=\"M 0 -10 L 13 0 L 0 10 Z\" transform=\"translate(-3)\"/></g></g><text x=\"1109.0\" y=\"2015.0\">GPM</text></g><g name=\"eno\" style=\"stroke: #a9c6e3; stroke-width: 18.7;\"><path d=\"M 1094.0 2180.0 L 1094.0 2200.0\"/><path d=\"M 1094.0 2220.0 L 1094.0 2200.0\"/><path d=\"M 1094.0 2180.0 C 1094.0 2138.0 1094.0 2161.0 1094.0 2132.0\"/><g><path d=\"M 1094.0 2220.0 C 1094.0 2266.0 1076.0 2271.0 1042.1 2289.6\"/><g class=\"arrowhead\" transform=\"translate(1042.1, 2289.6) rotate(151) scale(1.9)\" style=\"fill: #a9c6e3\"><path d=\"M 0 -10 L 13 0 L 0 10 Z\" transform=\"translate(-3)\"/></g></g><g><path d=\"M 1094.0 2220.0 C 1094.0 2262.0 1094.0 2316.0 1094.0 2335.0\"/><g class=\"arrowhead\" transform=\"translate(1094.0, 2335.0) rotate(90) scale(1.9)\" style=\"fill: #a9c6e3\"><path d=\"M 0 -10 L 13 0 L 0 10 Z\" transform=\"translate(-3)\"/></g></g><text x=\"1109.0\" y=\"2245.0\">ENO</text></g><g name=\"pps\"><path d=\"M 977.0 2574.0 L 977.0 2554.0\"/><path d=\"M 977.0 2534.0 L 977.0 2554.0\"/><path d=\"M 977.0 2574.0 C 977.0 2620.0 961.0 2627.0 915.7 2649.3\"/><path d=\"M 977.0 2574.0 C 965.0 2607.0 937.0 2595.0 923.9 2587.2\"/><path d=\"M 977.0 2574.0 C 977.0 2632.0 1028.0 2670.0 1071.0 2705.8\"/><g><path d=\"M 977.0 2534.0 C 977.0 2488.0 962.0 2477.0 925.5 2461.5\"/><g class=\"arrowhead\" transform=\"translate(925.5, 2461.5) rotate(-157)\"><path d=\"M 0 -10 L 13 0 L 0 10 Z\" transform=\"translate(-3)\"/></g></g><g><path d=\"M 977.0 2534.0 C 972.0 2491.0 905.0 2480.0 871.3 2487.3\"/><g class=\"arrowhead\" transform=\"translate(871.3, 2487.3) rotate(168)\"><path d=\"M 0 -10 L 13 0 L 0 10 Z\" transform=\"translate(-3)\"/></g></g><g><path d=\"M 977.0 2534.0 C 978.0 2475.0 1027.0 2434.0 1064.0 2401.4\"/><g class=\"arrowhead\" transform=\"translate(1064.0, 2401.4) rotate(-41)\"><path d=\"M 0 -10 L 13 0 L 0 10 Z\" transform=\"translate(-3)\"/></g></g><text x=\"992.0\" y=\"2564.0\">PPS</text></g><g name=\"pdh\"><path d=\"M 1279.0 2922.0 L 1299.0 2922.0\"/><path d=\"M 1319.0 2922.0 L 1299.0 2922.0\"/><path d=\"M 1279.0 2922.0 C 1233.0 2922.0 1197.0 2941.0 1148.6 2959.2\"/><path d=\"M 1279.0 2922.0 C 1233.0 2922.0 1228.0 2891.0 1214.3 2861.9\"/><path d=\"M 1279.0 2922.0 C 1237.0 2922.0 1098.0 2924.0 1094.6 2755.0\"/><g><path d=\"M 1319.0 2922.0 C 1396.0 2922.0 1549.0 2922.0 1619.0 2922.0\"/><g class=\"arrowhead\" transform=\"translate(1619.0, 2922.0) rotate(0)\"><path d=\"M 0 -10 L 13 0 L 0 10 Z\" transform=\"translate(-3)\"/></g></g><g><path d=\"M 1319.0 2922.0 C 1371.0 2922.0 1404.0 2886.0 1415.4 2868.7\"/><g class=\"arrowhead\" transform=\"translate(1415.4, 2868.7) rotate(-57)\"><path d=\"M 0 -10 L 13 0 L 0 10 Z\" transform=\"translate(-3)\"/></g></g><g><path d=\"M 1319.0 2922.0 C 1339.0 2922.0 1356.0 2891.0 1355.2 2871.0\"/><g class=\"arrowhead\" transform=\"translate(1355.2, 2871.0) rotate(-92)\"><path d=\"M 0 -10 L 13 0 L 0 10 Z\" transform=\"translate(-3)\"/></g></g><text x=\"1270.0\" y=\"2985.0\">PDH</text></g><g name=\"pyk\"><path d=\"M 1208.0 2573.0 L 1208.0 2553.0\"/><path d=\"M 1208.0 2533.0 L 1208.0 2553.0\"/><g><path d=\"M 1208.0 2573.0 C 1208.0 2619.0 1226.0 2624.0 1259.9 2642.6\"/><g class=\"arrowhead\" transform=\"translate(1259.9, 2642.6) rotate(29)\"><path d=\"M 0 -10 L 13 0 L 0 10 Z\" transform=\"translate(-3)\"/></g></g><g><path d=\"M 1208.0 2573.0 C 1209.0 2630.0 1162.0 2668.0 1124.7 2699.3\"/><g class=\"arrowhead\" transform=\"translate(1124.7, 2699.3) rotate(140)\"><path d=\"M 0 -10 L 13 0 L 0 10 Z\" transform=\"translate(-3)\"/></g></g><g><path d=\"M 1208.0 2533.0 C 1208.0 2487.0 1225.0 2490.0 1255.4 2469.8\"/><g class=\"arrowhead\" transform=\"translate(1255.4, 2469.8) rotate(-34)\"><path d=\"M 0 -10 L 13 0 L 0 10 Z\" transform=\"translate(-3)\"/></g></g><g><path d=\"M 1208.0 2533.0 C 1208.0 2475.0 1161.0 2437.0 1123.4 2402.2\"/><g class=\"arrowhead\" transform=\"translate(1123.4, 2402.2) rotate(-137)\"><path d=\"M 0 -10 L 13 0 L 0 10 Z\" transform=\"translate(-3)\"/></g></g><text x=\"1131.0\" y=\"2563.0\">PYK</text></g><g name=\"tpi\" style=\"stroke: #a9c6e3; stroke-width: 18.7;\"><path d=\"M 939.0 1201.0 L 919.0 1201.0\"/><path d=\"M 899.0 1201.0 L 919.0 1201.0\"/><path d=\"M 939.0 1201.0 C 981.0 1201.0 1032.0 1201.0 1066.0 1199.9\"/><g><path d=\"M 899.0 1201.0 C 857.0 1201.0 802.0 1201.0 784.0 1201.0\"/><g class=\"arrowhead\" transform=\"translate(784.0, 1201.0) rotate(180) scale(1.9)\" style=\"fill: #a9c6e3\"><path d=\"M 0 -10 L 13 0 L 0 10 Z\" transform=\"translate(-3)\"/></g></g><text x=\"892.0\" y=\"1241.0\">TPI</text></g><g name=\"fba\" style=\"stroke: #a9c6e3; stroke-width: 18.7;\"><path d=\"M 744.0 1006.0 L 744.0 1026.0\"/><path d=\"M 744.0 1046.0 L 744.0 1026.0\"/><path d=\"M 744.0 1006.0 C 744.0 964.0 744.0 910.0 744.0 881.0\"/><g><path d=\"M 744.0 1046.0 C 744.0 1092.0 902.0 1062.0 1063.3 1175.9\"/><g class=\"arrowhead\" transform=\"translate(1063.3, 1175.9) rotate(35) scale(1.9)\" style=\"fill: #a9c6e3\"><path d=\"M 0 -10 L 13 0 L 0 10 Z\" transform=\"translate(-3)\"/></g></g><g><path d=\"M 744.0 1046.0 C 744.0 1088.0 744.0 1142.0 744.0 1161.0\"/><g class=\"arrowhead\" transform=\"translate(744.0, 1161.0) rotate(90) scale(1.9)\" style=\"fill: #a9c6e3\"><path d=\"M 0 -10 L 13 0 L 0 10 Z\" transform=\"translate(-3)\"/></g></g><text x=\"661.0\" y=\"1036.0\">FBA</text></g><g name=\"pfk\" style=\"stroke: #a9c6e3; stroke-width: 18.7;\"><path d=\"M 865.0 646.0 L 865.0 666.0\"/><path d=\"M 865.0 686.0 L 865.0 666.0\"/><path d=\"M 865.0 646.0 C 865.0 600.0 899.0 589.0 906.6 587.2\"/><path d=\"M 865.0 646.0 C 865.0 604.0 804.0 559.0 765.6 521.9\"/><g><path d=\"M 865.0 686.0 C 865.0 732.0 894.0 752.0 914.1 759.6\"/><g class=\"arrowhead\" transform=\"translate(914.1, 759.6) rotate(21) scale(1.9)\" style=\"fill: #a9c6e3\"><path d=\"M 0 -10 L 13 0 L 0 10 Z\" transform=\"translate(-3)\"/></g></g><g><path d=\"M 865.0 686.0 C 865.0 728.0 804.0 800.0 774.5 825.1\"/><g class=\"arrowhead\" transform=\"translate(774.5, 825.1) rotate(140) scale(1.9)\" style=\"fill: #a9c6e3\"><path d=\"M 0 -10 L 13 0 L 0 10 Z\" transform=\"translate(-3)\"/></g></g><text x=\"784.0\" y=\"681.0\">PFK</text></g><g name=\"pgi\" style=\"stroke: #a9c6e3; stroke-width: 18.7;\"><path d=\"M 744.0 306.0 L 744.0 326.0\"/><path d=\"M 744.0 346.0 L 744.0 326.0\"/><path d=\"M 744.0 306.0 C 744.0 264.0 744.0 209.0 744.0 180.0\"/><g><path d=\"M 744.0 346.0 C 744.0 388.0 744.0 442.0 744.0 461.0\"/><g class=\"arrowhead\" transform=\"translate(744.0, 461.0) rotate(90) scale(1.9)\" style=\"fill: #a9c6e3\"><path d=\"M 0 -10 L 13 0 L 0 10 Z\" transform=\"translate(-3)\"/></g></g><text x=\"653.0\" y=\"339.0\">PGI</text></g><g name=\"r5pi\" style=\"stroke: #a9c6e3; stroke-width: 18.7;\"><path d=\"M 1646.0 332.0 L 1666.0 332.0\"/><path d=\"M 1686.0 332.0 L 1666.0 332.0\"/><path d=\"M 1646.0 332.0 C 1625.0 332.0 1628.0 332.0 1575.0 332.0\"/><g><path d=\"M 1686.0 332.0 C 1763.0 337.0 1795.0 367.0 1829.3 400.2\"/><g class=\"arrowhead\" transform=\"translate(1829.3, 400.2) rotate(44) scale(1.9)\" style=\"fill: #a9c6e3\"><path d=\"M 0 -10 L 13 0 L 0 10 Z\" transform=\"translate(-3)\"/></g></g><text x=\"1643.0\" y=\"382.0\">RPI</text></g><g name=\"pglase\" style=\"stroke: #a9c6e3; stroke-width: 18.7;\"><path d=\"M 1249.0 150.0 L 1269.0 150.0\"/><path d=\"M 1289.0 150.0 L 1269.0 150.0\"/><path d=\"M 1249.0 150.0 C 1207.0 150.0 1152.0 150.0 1124.0 150.0\"/><path d=\"M 1249.0 150.0 C 1203.0 150.0 1197.0 132.0 1174.3 89.4\"/><g><path d=\"M 1289.0 150.0 C 1331.0 150.0 1385.0 150.0 1404.0 150.0\"/><g class=\"arrowhead\" transform=\"translate(1404.0, 150.0) rotate(0) scale(1.9)\" style=\"fill: #a9c6e3\"><path d=\"M 0 -10 L 13 0 L 0 10 Z\" transform=\"translate(-3)\"/></g></g><text x=\"1219.0\" y=\"110.0\">PGLase</text></g><g name=\"g6pdh\" style=\"stroke: #a9c6e3; stroke-width: 18.7;\"><path d=\"M 899.0 150.0 L 919.0 150.0\"/><path d=\"M 939.0 150.0 L 919.0 150.0\"/><path d=\"M 899.0 150.0 C 857.0 150.0 804.0 150.0 774.0 150.0\"/><path d=\"M 899.0 150.0 C 853.0 150.0 847.0 132.0 824.3 89.4\"/><g><path d=\"M 939.0 150.0 C 981.0 150.0 1035.0 150.0 1054.0 150.0\"/><g class=\"arrowhead\" transform=\"translate(1054.0, 150.0) rotate(0) scale(1.9)\" style=\"fill: #a9c6e3\"><path d=\"M 0 -10 L 13 0 L 0 10 Z\" transform=\"translate(-3)\"/></g></g><g><path d=\"M 939.0 150.0 C 985.0 150.0 990.0 132.0 1008.6 98.1\"/><g class=\"arrowhead\" transform=\"translate(1008.6, 98.1) rotate(-61) scale(1.9)\" style=\"fill: #a9c6e3\"><path d=\"M 0 -10 L 13 0 L 0 10 Z\" transform=\"translate(-3)\"/></g></g><text x=\"869.0\" y=\"110.0\">G6PDH</text></g><g name=\"pgldh\" style=\"stroke: #a9c6e3; stroke-width: 18.7;\"><path d=\"M 1764.0 234.0 L 1778.0 248.0\"/><path d=\"M 1792.0 262.0 L 1778.0 248.0\"/><path d=\"M 1764.0 234.0 C 1735.0 203.0 1648.0 155.0 1474.0 150.7\"/><path d=\"M 1764.0 234.0 C 1756.0 220.0 1748.0 199.0 1751.0 164.9\"/><g><path d=\"M 1792.0 262.0 C 1824.0 295.0 1868.0 285.0 1878.0 276.2\"/><g class=\"arrowhead\" transform=\"translate(1878.0, 276.2) rotate(-41) scale(1.9)\" style=\"fill: #a9c6e3\"><path d=\"M 0 -10 L 13 0 L 0 10 Z\" transform=\"translate(-3)\"/></g></g><g><path d=\"M 1792.0 262.0 C 1821.0 293.0 1858.0 369.0 1858.0 388.0\"/><g class=\"arrowhead\" transform=\"translate(1858.0, 388.0) rotate(90) scale(1.9)\" style=\"fill: #a9c6e3\"><path d=\"M 0 -10 L 13 0 L 0 10 Z\" transform=\"translate(-3)\"/></g></g><g><path d=\"M 1792.0 262.0 C 1824.0 295.0 1854.0 307.0 1900.1 310.0\"/><g class=\"arrowhead\" transform=\"translate(1900.1, 310.0) rotate(4) scale(1.9)\" style=\"fill: #a9c6e3\"><path d=\"M 0 -10 L 13 0 L 0 10 Z\" transform=\"translate(-3)\"/></g></g><text x=\"1651.0\" y=\"266.0\">PGLDH</text></g><g name=\"rpe\" style=\"stroke: #a9c6e3; stroke-width: 18.7;\"><path d=\"M 1665.0 640.0 L 1645.0 640.0\"/><path d=\"M 1625.0 640.0 L 1645.0 640.0\"/><path d=\"M 1665.0 640.0 C 1833.0 644.0 1862.0 523.0 1859.3 458.0\"/><g><path d=\"M 1625.0 640.0 C 1583.0 640.0 1544.0 640.0 1525.0 640.0\"/><g class=\"arrowhead\" transform=\"translate(1525.0, 640.0) rotate(180) scale(1.9)\" style=\"fill: #a9c6e3\"><path d=\"M 0 -10 L 13 0 L 0 10 Z\" transform=\"translate(-3)\"/></g></g><text x=\"1644.0\" y=\"686.0\">RPE</text></g><g name=\"fbp\" style=\"stroke: #a9c6e3; stroke-width: 18.7;\"><path d=\"M 625.0 692.0 L 625.0 672.0\"/><path d=\"M 625.0 652.0 L 625.0 672.0\"/><path d=\"M 625.0 692.0 C 625.0 734.0 681.0 801.0 720.5 832.4\"/><path d=\"M 625.0 692.0 C 625.0 738.0 607.0 743.0 564.3 766.4\"/><g><path d=\"M 625.0 652.0 C 625.0 610.0 679.0 555.0 713.2 526.6\"/><g class=\"arrowhead\" transform=\"translate(713.2, 526.6) rotate(-40) scale(1.9)\" style=\"fill: #a9c6e3\"><path d=\"M 0 -10 L 13 0 L 0 10 Z\" transform=\"translate(-3)\"/></g></g><g><path d=\"M 625.0 652.0 C 625.0 606.0 607.0 601.0 573.1 582.4\"/><g class=\"arrowhead\" transform=\"translate(573.1, 582.4) rotate(-151) scale(1.9)\" style=\"fill: #a9c6e3\"><path d=\"M 0 -10 L 13 0 L 0 10 Z\" transform=\"translate(-3)\"/></g></g><text x=\"640.0\" y=\"682.0\">FBP</text></g><g name=\"pgldhat\"><path d=\"M 2153.0 375.0 L 2153.0 395.0\"/><path d=\"M 2153.0 415.0 L 2153.0 395.0\"/><g><path d=\"M 2153.0 375.0 C 2159.0 -66.0 1644.0 90.0 1482.3 138.5\"/><g class=\"arrowhead\" transform=\"translate(1482.3, 138.5) rotate(163)\"><path d=\"M 0 -10 L 13 0 L 0 10 Z\" transform=\"translate(-3)\"/></g></g><g><path d=\"M 2153.0 415.0 C 2153.0 457.0 2153.0 511.0 2153.0 530.0\"/><g class=\"arrowhead\" transform=\"translate(2153.0, 530.0) rotate(90)\"><path d=\"M 0 -10 L 13 0 L 0 10 Z\" transform=\"translate(-3)\"/></g></g><g><path d=\"M 2153.0 415.0 C 2158.0 453.0 2171.0 466.0 2204.9 484.6\"/><g class=\"arrowhead\" transform=\"translate(2204.9, 484.6) rotate(29)\"><path d=\"M 0 -10 L 13 0 L 0 10 Z\" transform=\"translate(-3)\"/></g></g><text x=\"2168.0\" y=\"405.0\">PGLDhat</text></g><g name=\"kdpga\"><path d=\"M 1581.0 1109.0 L 1566.0 1122.0\"/><path d=\"M 1551.0 1136.0 L 1566.0 1122.0\"/><g><path d=\"M 1581.0 1109.0 C 1633.0 1055.0 2150.0 782.0 2152.4 610.0\"/><g class=\"arrowhead\" transform=\"translate(2152.4, 610.0) rotate(-89)\"><path d=\"M 0 -10 L 13 0 L 0 10 Z\" transform=\"translate(-3)\"/></g></g><g><path d=\"M 1551.0 1136.0 C 1343.0 1219.0 1275.0 1103.0 1131.3 1180.1\"/><g class=\"arrowhead\" transform=\"translate(1131.3, 1180.1) rotate(152)\"><path d=\"M 0 -10 L 13 0 L 0 10 Z\" transform=\"translate(-3)\"/></g></g><g><path d=\"M 1551.0 1136.0 C 1225.0 1583.0 1842.0 2721.0 1134.0 2724.8\"/><g class=\"arrowhead\" transform=\"translate(1134.0, 2724.8) rotate(180)\"><path d=\"M 0 -10 L 13 0 L 0 10 Z\" transform=\"translate(-3)\"/></g></g><text x=\"1483.0\" y=\"1073.0\">KDPGA</text></g><g name=\"pts.glc\"><path d=\"M 276.0 150.0 L 296.0 150.0\"/><path d=\"M 316.0 150.0 L 296.0 150.0\"/><path d=\"M 276.0 150.0 C 188.0 150.0 231.0 150.0 130.0 150.0\"/><path d=\"M 276.0 150.0 C 152.0 151.0 129.0 2367.0 1064.0 2374.8\"/><g><path d=\"M 316.0 150.0 C 382.0 150.0 627.0 150.0 704.0 150.0\"/><g class=\"arrowhead\" transform=\"translate(704.0, 150.0) rotate(0)\"><path d=\"M 0 -10 L 13 0 L 0 10 Z\" transform=\"translate(-3)\"/></g></g><g><path d=\"M 316.0 150.0 C 418.0 150.0 3.0 2719.0 1054.0 2724.8\"/><g class=\"arrowhead\" transform=\"translate(1054.0, 2724.8) rotate(0)\"><path d=\"M 0 -10 L 13 0 L 0 10 Z\" transform=\"translate(-3)\"/></g></g><text x=\"285.0\" y=\"112.0\">GlcPTS</text></g><g name=\"pta\"><path d=\"M 1876.0 2922.0 L 1856.0 2922.0\"/><path d=\"M 1896.0 2922.0 L 1876.0 2922.0\"/><g><path d=\"M 1856.0 2922.0 C 1790.0 2922.0 1750.0 2922.0 1699.0 2922.0\"/><g class=\"arrowhead\" transform=\"translate(1699.0, 2922.0) rotate(180)\"><path d=\"M 0 -10 L 13 0 L 0 10 Z\" transform=\"translate(-3)\"/></g></g><g><path d=\"M 1856.0 2922.0 C 1800.0 2922.0 1780.0 2965.0 1773.2 2983.0\"/><g class=\"arrowhead\" transform=\"translate(1773.2, 2983.0) rotate(111)\"><path d=\"M 0 -10 L 13 0 L 0 10 Z\" transform=\"translate(-3)\"/></g></g><g><path d=\"M 1896.0 2922.0 C 1940.0 2922.0 1995.0 2922.0 2061.0 2922.0\"/><g class=\"arrowhead\" transform=\"translate(2061.0, 2922.0) rotate(0)\"><path d=\"M 0 -10 L 13 0 L 0 10 Z\" transform=\"translate(-3)\"/></g></g><g><path d=\"M 1896.0 2922.0 C 1940.0 2922.0 1955.0 2965.0 1968.9 2980.9\"/><g class=\"arrowhead\" transform=\"translate(1968.9, 2980.9) rotate(49)\"><path d=\"M 0 -10 L 13 0 L 0 10 Z\" transform=\"translate(-3)\"/></g></g><text x=\"1850.0\" y=\"3000.0\">PTA</text></g><g name=\"ack\"><path d=\"M 2276.0 2922.0 L 2296.0 2922.0\"/><path d=\"M 2256.0 2922.0 L 2276.0 2922.0\"/><g><path d=\"M 2296.0 2922.0 C 2392.0 2922.0 2455.0 2922.0 2528.0 2922.0\"/><g class=\"arrowhead\" transform=\"translate(2528.0, 2922.0) rotate(0)\"><path d=\"M 0 -10 L 13 0 L 0 10 Z\" transform=\"translate(-3)\"/></g></g><g><path d=\"M 2296.0 2922.0 C 2326.0 2922.0 2346.0 2950.0 2363.8 2978.0\"/><g class=\"arrowhead\" transform=\"translate(2363.8, 2978.0) rotate(58)\"><path d=\"M 0 -10 L 13 0 L 0 10 Z\" transform=\"translate(-3)\"/></g></g><g><path d=\"M 2256.0 2922.0 C 2210.0 2922.0 2160.0 2922.0 2141.0 2922.0\"/><g class=\"arrowhead\" transform=\"translate(2141.0, 2922.0) rotate(180)\"><path d=\"M 0 -10 L 13 0 L 0 10 Z\" transform=\"translate(-3)\"/></g></g><g><path d=\"M 2256.0 2922.0 C 2210.0 2922.0 2190.0 2950.0 2181.4 2974.8\"/><g class=\"arrowhead\" transform=\"translate(2181.4, 2974.8) rotate(109)\"><path d=\"M 0 -10 L 13 0 L 0 10 Z\" transform=\"translate(-3)\"/></g></g><text x=\"2240.0\" y=\"3000.0\">ACK</text></g><g name=\"aclig\"><path d=\"M 2094.0 2792.0 L 2114.0 2792.0\"/><path d=\"M 2074.0 2792.0 L 2094.0 2792.0\"/><g><path d=\"M 2114.0 2792.0 C 2300.0 2790.0 2500.0 2827.0 2544.7 2889.5\"/><g class=\"arrowhead\" transform=\"translate(2544.7, 2889.5) rotate(54)\"><path d=\"M 0 -10 L 13 0 L 0 10 Z\" transform=\"translate(-3)\"/></g></g><g><path d=\"M 2114.0 2792.0 C 2160.0 2790.0 2195.0 2760.0 2196.9 2730.9\"/><g class=\"arrowhead\" transform=\"translate(2196.9, 2730.9) rotate(-86)\"><path d=\"M 0 -10 L 13 0 L 0 10 Z\" transform=\"translate(-3)\"/></g></g><g><path d=\"M 2114.0 2792.0 C 2165.0 2790.0 2221.0 2790.0 2244.5 2743.5\"/><g class=\"arrowhead\" transform=\"translate(2244.5, 2743.5) rotate(-63)\"><path d=\"M 0 -10 L 13 0 L 0 10 Z\" transform=\"translate(-3)\"/></g></g><g><path d=\"M 2074.0 2792.0 C 1855.0 2795.0 1726.0 2840.0 1684.3 2891.0\"/><g class=\"arrowhead\" transform=\"translate(1684.3, 2891.0) rotate(129)\"><path d=\"M 0 -10 L 13 0 L 0 10 Z\" transform=\"translate(-3)\"/></g></g><g><path d=\"M 2074.0 2792.0 C 2032.0 2775.0 2015.0 2755.0 2011.3 2732.6\"/><g class=\"arrowhead\" transform=\"translate(2011.3, 2732.6) rotate(-99)\"><path d=\"M 0 -10 L 13 0 L 0 10 Z\" transform=\"translate(-3)\"/></g></g><g><path d=\"M 2074.0 2792.0 C 2017.0 2775.0 1964.0 2772.0 1944.0 2749.1\"/><g class=\"arrowhead\" transform=\"translate(1944.0, 2749.1) rotate(-131)\"><path d=\"M 0 -10 L 13 0 L 0 10 Z\" transform=\"translate(-3)\"/></g></g><text x=\"2030.0\" y=\"2840.0\">ACCOAlig</text></g><g name=\"tkt.c5c5\" style=\"stroke: #a9c6e3; stroke-width: 18.7;\"><path d=\"M 1370.0 332.0 L 1350.0 332.0\"/><path d=\"M 1390.0 332.0 L 1370.0 332.0\"/><path d=\"M 1350.0 332.0 C 1306.0 334.0 1260.0 346.0 1229.4 359.7\"/><path d=\"M 1350.0 332.0 C 1295.0 334.0 1260.0 309.0 1230.0 297.6\"/><g><path d=\"M 1390.0 332.0 C 1432.0 332.0 1486.0 332.0 1505.0 332.0\"/><g class=\"arrowhead\" transform=\"translate(1505.0, 332.0) rotate(0) scale(1.9)\" style=\"fill: #a9c6e3\"><path d=\"M 0 -10 L 13 0 L 0 10 Z\" transform=\"translate(-3)\"/></g></g><g><path d=\"M 1390.0 332.0 C 1518.0 331.0 1638.0 475.0 1512.2 610.7\"/><g class=\"arrowhead\" transform=\"translate(1512.2, 610.7) rotate(133) scale(1.9)\" style=\"fill: #a9c6e3\"><path d=\"M 0 -10 L 13 0 L 0 10 Z\" transform=\"translate(-3)\"/></g></g><text x=\"1320.0\" y=\"292.0\">TKT1</text></g><g name=\"tal\" style=\"stroke: #a9c6e3; stroke-width: 18.7;\"><path d=\"M 1020.0 332.0 L 1040.0 332.0\"/><path d=\"M 1000.0 332.0 L 1020.0 332.0\"/><path d=\"M 1040.0 332.0 C 1094.0 333.0 1143.0 344.0 1174.9 359.1\"/><path d=\"M 1040.0 332.0 C 1096.0 327.0 1147.0 309.0 1174.1 298.1\"/><g><path d=\"M 1000.0 332.0 C 892.0 332.0 805.0 432.0 770.5 471.0\"/><g class=\"arrowhead\" transform=\"translate(770.5, 471.0) rotate(131) scale(1.9)\" style=\"fill: #a9c6e3\"><path d=\"M 0 -10 L 13 0 L 0 10 Z\" transform=\"translate(-3)\"/></g></g><g><path d=\"M 1000.0 332.0 C 899.0 381.0 998.0 489.0 1162.0 488.2\"/><g class=\"arrowhead\" transform=\"translate(1162.0, 488.2) rotate(-0) scale(1.9)\" style=\"fill: #a9c6e3\"><path d=\"M 0 -10 L 13 0 L 0 10 Z\" transform=\"translate(-3)\"/></g></g><text x=\"970.0\" y=\"292.0\">TALA</text></g><g name=\"tkt.c5c4\" style=\"stroke: #a9c6e3; stroke-width: 18.7;\"><path d=\"M 1266.0 640.0 L 1286.0 640.0\"/><path d=\"M 1246.0 640.0 L 1266.0 640.0\"/><path d=\"M 1286.0 640.0 C 1370.0 640.0 1370.0 482.0 1232.0 486.9\"/><path d=\"M 1286.0 640.0 C 1335.0 640.0 1409.0 640.0 1455.0 640.0\"/><g><path d=\"M 1246.0 640.0 C 1204.0 640.0 967.0 497.0 784.0 500.3\"/><g class=\"arrowhead\" transform=\"translate(784.0, 500.3) rotate(179) scale(1.9)\" style=\"fill: #a9c6e3\"><path d=\"M 0 -10 L 13 0 L 0 10 Z\" transform=\"translate(-3)\"/></g></g><g><path d=\"M 1246.0 640.0 C 1061.0 644.0 1096.0 1083.0 1096.0 1159.0\"/><g class=\"arrowhead\" transform=\"translate(1096.0, 1159.0) rotate(90) scale(1.9)\" style=\"fill: #a9c6e3\"><path d=\"M 0 -10 L 13 0 L 0 10 Z\" transform=\"translate(-3)\"/></g></g><text x=\"1229.0\" y=\"701.0\">TKT2</text></g></g><g id=\"metabolites\"><g name=\"nad.ox\"><circle cx=\"1014.0\" cy=\"1313.0\" r=\"12.0\"/><text x=\"930.0\" y=\"1312.0\">NAD+</text></g><g name=\"pi\"><circle cx=\"1176.0\" cy=\"1309.0\" r=\"12.0\"/><text x=\"1215.0\" y=\"1318.0\">Pi</text></g><g name=\"dpg\"><circle cx=\"1094.0\" cy=\"1551.0\" r=\"20.0\"/><text x=\"1135.0\" y=\"1564.0\">DPG</text></g><g name=\"nad.red\"><circle cx=\"1014.0\" cy=\"1522.0\" r=\"12.0\"/><text x=\"925.0\" y=\"1526.0\">NADH</text></g><g name=\"3pg\"><circle cx=\"1094.0\" cy=\"1901.0\" r=\"20.0\"/><text x=\"1131.0\" y=\"1906.0\">3PG</text></g><g name=\"atp\"><circle cx=\"1014.0\" cy=\"1831.0\" r=\"12.0\"/><text x=\"945.0\" y=\"1840.0\">ATP</text></g><g name=\"adp\"><circle cx=\"1014.0\" cy=\"1621.0\" r=\"12.0\"/><text x=\"947.0\" y=\"1624.0\">ADP</text></g><g name=\"2pg\"><circle cx=\"1094.0\" cy=\"2102.0\" r=\"20.0\"/><text x=\"1135.0\" y=\"2109.0\">2PG</text></g><g name=\"h2o\"><circle cx=\"1014.0\" cy=\"2305.0\" r=\"12.0\"/><text x=\"936.0\" y=\"2310.0\">H2O</text></g><g name=\"pep\"><circle cx=\"1094.0\" cy=\"2375.0\" r=\"20.0\"/><text x=\"1126.0\" y=\"2342.0\">PEP</text></g><g name=\"atp\"><circle cx=\"896.0\" cy=\"2659.0\" r=\"12.0\"/><text x=\"845.0\" y=\"2656.0\">ATP</text></g><g name=\"h2o\"><circle cx=\"905.0\" cy=\"2576.0\" r=\"12.0\"/><text x=\"850.0\" y=\"2581.0\">H2O</text></g><g name=\"pyr\"><circle cx=\"1094.0\" cy=\"2725.0\" r=\"20.0\"/><text x=\"1026.0\" y=\"2778.0\">pyr</text></g><g name=\"amp\"><circle cx=\"896.0\" cy=\"2449.0\" r=\"12.0\"/><text x=\"840.0\" y=\"2446.0\">AMP</text></g><g name=\"pi\"><circle cx=\"840.0\" cy=\"2494.0\" r=\"12.0\"/><text x=\"810.0\" y=\"2520.0\">Pi</text></g><g name=\"coa\"><circle cx=\"1128.0\" cy=\"2967.0\" r=\"12.0\"/><text x=\"1056.0\" y=\"2999.0\">CoA</text></g><g name=\"nad.ox\"><circle cx=\"1205.0\" cy=\"2842.0\" r=\"12.0\"/><text x=\"1171.0\" y=\"2810.0\">NAD+</text></g><g name=\"accoa\"><circle cx=\"1659.0\" cy=\"2922.0\" r=\"20.0\"/><text x=\"1593.0\" y=\"2880.0\">acCoA</text></g><g name=\"co2\"><circle cx=\"1433.0\" cy=\"2842.0\" r=\"12.0\"/><text x=\"1442.0\" y=\"2821.0\">CO2</text></g><g name=\"nad.red\"><circle cx=\"1354.0\" cy=\"2839.0\" r=\"12.0\"/><text x=\"1321.0\" y=\"2815.0\">NADH</text></g><g name=\"atp\"><circle cx=\"1288.0\" cy=\"2658.0\" r=\"12.0\"/><text x=\"1303.0\" y=\"2658.0\">ATP</text></g><g name=\"adp\"><circle cx=\"1282.0\" cy=\"2452.0\" r=\"12.0\"/><text x=\"1294.0\" y=\"2447.0\">ADP</text></g><g name=\"dhap\"><circle cx=\"744.0\" cy=\"1201.0\" r=\"20.0\"/><text x=\"722.0\" y=\"1241.0\">DHAP</text></g><g name=\"Fru.D.bis16\"><circle cx=\"744.0\" cy=\"851.0\" r=\"20.0\"/><text x=\"660.0\" y=\"879.0\">FDP</text></g><g name=\"atp\"><circle cx=\"928.0\" cy=\"582.0\" r=\"12.0\"/><text x=\"952.0\" y=\"582.0\">ATP</text></g><g name=\"Fru.D.6P\"><circle cx=\"744.0\" cy=\"501.0\" r=\"20.0\"/><text x=\"661.0\" y=\"494.0\">F6P</text></g><g name=\"adp\"><circle cx=\"944.0\" cy=\"771.0\" r=\"12.0\"/><text x=\"966.0\" y=\"790.0\">ADP</text></g><g name=\"Glc.D.6P\"><circle cx=\"744.0\" cy=\"150.0\" r=\"20.0\"/><text x=\"682.0\" y=\"114.0\">G6P</text></g><g name=\"6pg\"><circle cx=\"1444.0\" cy=\"150.0\" r=\"20.0\"/><text x=\"1427.0\" y=\"190.0\">6PG</text></g><g name=\"Rul.D.5P\"><circle cx=\"1858.0\" cy=\"428.0\" r=\"20.0\"/><text x=\"1883.0\" y=\"428.0\">Ru5P</text></g><g name=\"Rib.D.5P\"><circle cx=\"1545.0\" cy=\"332.0\" r=\"20.0\"/><text x=\"1530.0\" y=\"292.0\">R5P</text></g><g name=\"6pgdl\"><circle cx=\"1094.0\" cy=\"150.0\" r=\"20.0\"/><text x=\"1067.0\" y=\"190.0\">6PGDL</text></g><g name=\"h2o\"><circle cx=\"1164.0\" cy=\"70.0\" r=\"12.0\"/><text x=\"1147.0\" y=\"50.0\">H2O</text></g><g name=\"nadp.ox\"><circle cx=\"814.0\" cy=\"70.0\" r=\"12.0\"/><text x=\"770.0\" y=\"50.0\">NADP+</text></g><g name=\"nadp.red\"><circle cx=\"1024.0\" cy=\"70.0\" r=\"12.0\"/><text x=\"997.0\" y=\"50.0\">NADPH</text></g><g name=\"nadp.ox\"><circle cx=\"1753.0\" cy=\"143.0\" r=\"12.0\"/><text x=\"1787.0\" y=\"144.0\">NADP+</text></g><g name=\"co2\"><circle cx=\"1902.0\" cy=\"255.0\" r=\"12.0\"/><text x=\"1936.0\" y=\"252.0\">CO2</text></g><g name=\"nadp.red\"><circle cx=\"1932.0\" cy=\"312.0\" r=\"12.0\"/><text x=\"1947.0\" y=\"312.0\">NADPH</text></g><g name=\"Xul.D.5P\"><circle cx=\"1485.0\" cy=\"640.0\" r=\"20.0\"/><text x=\"1463.0\" y=\"692.0\">Xu5P</text></g><g name=\"h2o\"><circle cx=\"545.0\" cy=\"777.0\" r=\"12.0\"/><text x=\"518.0\" y=\"807.0\">H2O</text></g><g name=\"pi\"><circle cx=\"545.0\" cy=\"567.0\" r=\"12.0\"/><text x=\"527.0\" y=\"597.0\">Pi</text></g><g name=\"kdpg\"><circle cx=\"2153.0\" cy=\"570.0\" r=\"20.0\"/><text x=\"2062.0\" y=\"578.0\">KDPG</text></g><g name=\"h2o\"><circle cx=\"2233.0\" cy=\"500.0\" r=\"12.0\"/><text x=\"2248.0\" y=\"500.0\">H2O</text></g><g name=\"gap\"><circle cx=\"1096.0\" cy=\"1199.0\" r=\"20.0\"/><text x=\"1139.0\" y=\"1225.0\">GAP</text></g><g name=\"Glc.D.ext\"><circle cx=\"100.0\" cy=\"150.0\" r=\"20.0\"/><text x=\"64.0\" y=\"106.0\">Glc[e]</text></g><g name=\"pi\"><circle cx=\"1762.0\" cy=\"3013.0\" r=\"12.0\"/><text x=\"1729.0\" y=\"3045.0\">Pi</text></g><g name=\"ac.P\"><circle cx=\"2101.0\" cy=\"2922.0\" r=\"20.0\"/><text x=\"2082.0\" y=\"2973.0\">acP</text></g><g name=\"coa\"><circle cx=\"1990.0\" cy=\"3005.0\" r=\"12.0\"/><text x=\"1966.0\" y=\"3045.0\">CoA</text></g><g name=\"ac\"><circle cx=\"2568.0\" cy=\"2922.0\" r=\"20.0\"/><text x=\"2612.0\" y=\"2947.0\">ac</text></g><g name=\"atp\"><circle cx=\"2381.0\" cy=\"3005.0\" r=\"12.0\"/><text x=\"2370.0\" y=\"3045.0\">ATP</text></g><g name=\"adp\"><circle cx=\"2171.0\" cy=\"3005.0\" r=\"12.0\"/><text x=\"2155.0\" y=\"3045.0\">ADP</text></g><g name=\"atp\"><circle cx=\"2199.0\" cy=\"2699.0\" r=\"12.0\"/><text x=\"2208.0\" y=\"2683.0\">ATP</text></g><g name=\"coa\"><circle cx=\"2259.0\" cy=\"2715.0\" r=\"12.0\"/><text x=\"2274.0\" y=\"2715.0\">CoA</text></g><g name=\"amp\"><circle cx=\"2006.0\" cy=\"2701.0\" r=\"12.0\"/><text x=\"1966.0\" y=\"2685.0\">AMP</text></g><g name=\"ppi\"><circle cx=\"1923.0\" cy=\"2725.0\" r=\"12.0\"/><text x=\"1875.0\" y=\"2706.0\">PPi</text></g><g name=\"Sed.D.7P\"><circle cx=\"1202.0\" cy=\"287.0\" r=\"20.0\"/><text x=\"1171.0\" y=\"251.0\">Sed7P</text></g><g name=\"Ery.D.4P\"><circle cx=\"1202.0\" cy=\"488.0\" r=\"20.0\"/><text x=\"1184.0\" y=\"537.0\">E4P</text></g><g name=\"gap\"><circle cx=\"1202.0\" cy=\"372.0\" r=\"20.0\"/><text x=\"1181.0\" y=\"422.0\">GAP</text></g></g></g></svg>"
      ],
      "text/plain": [
       "<IPython.core.display.SVG object>"
      ]
     },
     "execution_count": 2,
     "metadata": {},
     "output_type": "execute_result"
    }
   ],
   "source": [
    "# KB pathways and metabolites for convenience\n",
    "glycolysis_ppp_ov = KB('glycolysis_ppp_ov')\n",
    "\n",
    "g6p = KB('Glc.D.6P')\n",
    "pep = KB('pep')\n",
    "r5p = KB('Rib.D.5P')\n",
    "e4p = KB('Ery.D.4P')\n",
    "\n",
    "amp = KB('amp')\n",
    "adp = KB('adp')\n",
    "atp = KB('atp')\n",
    "nad = KB('nad.ox')\n",
    "nadh = KB('nad.red')\n",
    "nadp = KB('nadp.ox')\n",
    "nadph = KB('nadp.red')\n",
    "pi = KB('pi')\n",
    "h2o = KB('h2o')\n",
    "co2 = KB('co2')\n",
    "proton = KB('h+')\n",
    "\n",
    "# Build the pathway, but stop at PEP. We'll treat the PEP-pyruvate-acCoA system separately.\n",
    "exclude = ('pyk', 'pps', 'pdh', 'pta', 'ack', 'aclig', 'pts.glc', 'pgldhat', 'kdpga')\n",
    "pw = Pathway(\n",
    "    id='glyc_ppp',\n",
    "    reactions=[r for r in glycolysis_ppp_ov.reactions if r.id not in exclude],\n",
    "    diagram=glycolysis_ppp_ov.diagram\n",
    ")\n",
    "pw.data()\n",
    "\n",
    "# No specific reaction to consume R5P, just treat it as external. Also, we do not ignore water and protons.\n",
    "bounds = {r5p, co2, nadp, nadph, pep, nad, nadh, pi, amp, adp, atp, g6p, h2o, proton}\n",
    "\n",
    "scale = escher_map.Scale({0.: (\"#eeeeee\", 3), 6.: (\"#1f77cc\", 50)}, use_abs=True)\n",
    "diag = escher_map.EscherMap(pw.diagram, width=\"6in\", reaction_scale=scale)\n",
    "SVG(diag.draw(reaction_data={rxn.id: 2 for rxn in pw.reactions}))"
   ]
  },
  {
   "cell_type": "markdown",
   "id": "6cc8f160-a181-4cd0-a185-3bf593d7e150",
   "metadata": {},
   "source": [
    "## Approach 1\n",
    "\n",
    "- Filter S matrix to internal metabolites\n",
    "- No additional simplifications (e.g. collapsing linear reaction chains)\n",
    "- PFK and FBP are explicitly irreversible; all others are reversible\n",
    "- Take reactions as written, e.g. PGK and GPMM run the 'wrong' way, so e.g. their flux will be negative for textbook glycolysis\n",
    "\n",
    "The algorithm works over iterations, where iteration j ensures the first j metabolites are\n",
    "at steady state for all flux modes, and all flux modes are elemental at least with respect to those metabolites.\n"
   ]
  },
  {
   "cell_type": "code",
   "execution_count": 3,
   "id": "0b05b61d-2d39-41ef-8e64-822b046893ab",
   "metadata": {
    "jupyter": {
     "source_hidden": true
    },
    "tags": []
   },
   "outputs": [],
   "source": [
    "def build_internal_system(pw, bounds):\n",
    "    \"\"\"Returns S matrix with rows for internal (non-bounds) metabolites only.\"\"\"\n",
    "    intermediates = [met not in bounds for met in pw.molecules]\n",
    "    return pw.s_matrix[intermediates].astype(int)\n",
    "\n",
    "def sort_tableau(tableau, j):\n",
    "    # Existing modes that already satisfy steady state j will be part of the next tableau. Others will either be merged or dropped.\n",
    "    elementary = []\n",
    "    pending = []\n",
    "    for mode, reversible, zeros in tableau:\n",
    "        if mode[j] == 0:\n",
    "            elementary.append((mode, reversible, zeros))\n",
    "        else:\n",
    "            pending.append((mode, reversible, zeros))\n",
    "    return elementary, pending\n",
    "\n",
    "def generate_candidates(pending, j):\n",
    "    # All pending mode pairs are merge candidates, unless they violate irreversibility.\n",
    "    candidates = []\n",
    "    for i, (mode_i, reversible_i, zeros_i) in enumerate(pending):\n",
    "        for mode_m, reversible_m, zeros_m in pending[i+1:]:\n",
    "            # Put a reversible mode second if possible, so we can always multiply the first by a positive number\n",
    "            if reversible_m:\n",
    "                candidates.append((mode_i, mode_m, reversible_i and reversible_m, zeros_i & zeros_m))\n",
    "            elif reversible_i:\n",
    "                candidates.append((mode_m, mode_i, reversible_i and reversible_m, zeros_i & zeros_m))\n",
    "\n",
    "            # Otherwise we can still combine them, if they have opposite stoichiometry\n",
    "            elif mode_i[j] * mode_m[j] < 0:\n",
    "                candidates.append((mode_i, mode_m, False, zeros_i & zeros_m))\n",
    "    return candidates\n",
    "\n",
    "def merge_modes(mode_i, mode_m, reversible, j, num_rxns):\n",
    "    # All integer arithmetic. We want integer scaling in simplest form.\n",
    "    multiple = int(np.lcm(mode_i[j], mode_m[j]))\n",
    "    # scale_i is always positive\n",
    "    scale_i = int(multiple / abs(mode_i[j]))\n",
    "    # scale_m satisfies scale_i * mode_i[j] + scale_m * mode_m[j] = 0. \n",
    "    scale_m = -int(scale_i * mode_i[j] / mode_m[j])\n",
    "\n",
    "    # Combine modes, and reduce to simplest integers.\n",
    "    mode = scale_i * mode_i + scale_m * mode_m\n",
    "    mode = (mode / np.gcd.reduce(mode)).astype(int)\n",
    "    \n",
    "    # Determine the actual new zeros set on the moerged mode.\n",
    "    zeros = set(np.nonzero(mode[-num_rxns:] == 0)[0])\n",
    "    \n",
    "    # Mostly esthetic, but prefer original reaction direction for reversible modes\n",
    "    if reversible:\n",
    "        involved = num_rxns - len(zeros)\n",
    "        forward = np.nonzero(mode[-num_rxns:] > 0)[0].shape[0]\n",
    "        if forward * 2 < involved:\n",
    "            mode = -mode\n",
    "\n",
    "    return mode, reversible, zeros\n",
    "\n",
    "def process_candidates(candidates, modes, j, num_rxns):\n",
    "    # Compare candidates against all other elementary modes, based on the non-subset zeros test.\n",
    "    for i, (mode_i, mode_m, reversible, zeros) in enumerate(candidates):\n",
    "        passing = True\n",
    "        for _, _, other_zeros in modes:\n",
    "            if zeros <= other_zeros:  # subset or equal\n",
    "                # print(f'  {mode_i} + {mode_m} Fails because {zeros} <= {other_zeros}')\n",
    "                passing = False\n",
    "                break\n",
    "\n",
    "        # If the candidate survived, keep it. Other candidates must now compare against this new mode too.\n",
    "        if passing:\n",
    "            modes.append(merge_modes(mode_i, mode_m, reversible, j, num_rxns))\n",
    "    \n",
    "    return modes\n",
    "\n",
    "# def elementary_modes(pw, bounds):\n",
    "def elementary_modes(s_matrix, reversibilities):\n",
    "    # tableau = init_tableau(pw, bounds)\n",
    "    num_mets, num_rxns = s_matrix.shape\n",
    "    modes = list(np.concatenate([s_matrix, np.eye(num_rxns, dtype=int)]).T)\n",
    "    tableau = [(mode, reversible, set(np.nonzero(mode[-num_rxns:] == 0)[0]))\n",
    "                for mode, reversible in zip(modes, reversibilities)]\n",
    "\n",
    "    for j in range(num_mets):\n",
    "        modes, pending = sort_tableau(tableau, j)\n",
    "        candidates = generate_candidates(pending, j)\n",
    "        # TODO: optimization based on cardinality of merged zeros set, per Urbanczik & Wagner (2004)?\n",
    "        \n",
    "        tableau = process_candidates(candidates, modes, j, num_rxns)\n",
    "        \n",
    "    modes = []\n",
    "    rev = []\n",
    "    for mode, reversible, zeros in tableau:\n",
    "        modes.append(mode[-num_rxns:])\n",
    "        rev.append(reversible)\n",
    "    \n",
    "    return np.array(modes, dtype=int).T, rev"
   ]
  },
  {
   "cell_type": "code",
   "execution_count": 4,
   "id": "8f67b911-0b0e-4846-a2dc-743b5d9f0cb8",
   "metadata": {
    "tags": []
   },
   "outputs": [
    {
     "name": "stdout",
     "output_type": "stream",
     "text": [
      "CPU times: user 13.7 ms, sys: 85 μs, total: 13.7 ms\n",
      "Wall time: 12.7 ms\n"
     ]
    }
   ],
   "source": [
    "%%time\n",
    "modes, rev = elementary_modes(build_internal_system(pw, bounds), (reaction.reversible for reaction in pw.reactions))"
   ]
  },
  {
   "cell_type": "markdown",
   "id": "be438aa3-34dd-4a18-81ee-35cfa0e9c9a8",
   "metadata": {},
   "source": [
    "### Reaction usage and net reaction per elementary mode"
   ]
  },
  {
   "cell_type": "code",
   "execution_count": 5,
   "id": "d523a161-514b-43b4-8341-646d6abd5e5e",
   "metadata": {
    "jupyter": {
     "source_hidden": true
    },
    "tags": []
   },
   "outputs": [],
   "source": [
    "def show_modes(pw, modes, rev):\n",
    "    s_elementary = (pw.s_matrix.astype(int) @ modes)\n",
    "    net_reactions = []\n",
    "    for i, (mode, reversible) in enumerate(zip(s_elementary.T, rev)):\n",
    "        stoich = {}\n",
    "        for met, count in zip(pw.molecules, mode):\n",
    "            if count != 0:\n",
    "                stoich[met] = count\n",
    "\n",
    "        net_reaction = Reaction(id=f'mode{i}', name=f'Elementary Mode {i}', stoichiometry=stoich, reversible=reversible)\n",
    "        net_reactions.append(net_reaction)\n",
    "\n",
    "    w = f'{160 + modes.shape[1] * 8:d}px' if modes.shape[1] < 80 else '100%'\n",
    "    mode_select = widgets.IntSlider(\n",
    "        value=0,\n",
    "        min=0,\n",
    "        max=modes.shape[1] - 1,\n",
    "        description='Mode',\n",
    "        continuous_update=True,\n",
    "        readout=True,\n",
    "        layout={'width': w}\n",
    "    )\n",
    "    mode_fluxes = widgets.Text(description='flux ratios', layout={\"width\": \"99%\"})\n",
    "    mode_net = widgets.Text(description='net reaction', layout={\"width\": \"99%\"})\n",
    "    diag = escher_map.EscherMap(pw.diagram, width=\"100%\", reaction_scale=scale)\n",
    "    diag_canvas = widgets.Output()\n",
    "\n",
    "    def show_mode(change):\n",
    "        mode = mode_select.value\n",
    "        mode_fluxes.value = mode_formula(pw, modes.T[mode])\n",
    "        mode_net.value = net_reactions[mode].equation\n",
    "        # Update the pathway diagram\n",
    "        svg = diag.draw(reaction_data={r.id: v for r, v in zip(pw.reactions, modes.T[mode])})\n",
    "        diag_canvas.clear_output(wait=True)\n",
    "        with diag_canvas:\n",
    "            display(SVG(svg))\n",
    "\n",
    "    mode_select.observe(show_mode, names='value')\n",
    "    show_mode(None)\n",
    "\n",
    "    return widgets.VBox([mode_select, mode_fluxes, mode_net, diag_canvas], layout={\"width\": \"6in\"})"
   ]
  },
  {
   "cell_type": "code",
   "execution_count": 6,
   "id": "e0c93cc4-b823-403f-9be0-f47de67b7378",
   "metadata": {
    "tags": []
   },
   "outputs": [
    {
     "data": {
      "application/vnd.jupyter.widget-view+json": {
       "model_id": "f7a2e4832a834931ae252d23c777bd04",
       "version_major": 2,
       "version_minor": 0
      },
      "text/plain": [
       "VBox(children=(IntSlider(value=0, description='Mode', layout=Layout(width='256px'), max=11), Text(value='PFK +…"
      ]
     },
     "execution_count": 6,
     "metadata": {},
     "output_type": "execute_result"
    }
   ],
   "source": [
    "show_modes(pw, modes, rev)"
   ]
  },
  {
   "cell_type": "markdown",
   "id": "dfc0e93e-c7ef-4d4b-8a10-b66e6866ff0c",
   "metadata": {},
   "source": [
    "# Try to make the pw identical to Schuster et al (2000)"
   ]
  },
  {
   "cell_type": "code",
   "execution_count": 7,
   "id": "192cba52-b295-48f2-960b-a6a6c65f80e8",
   "metadata": {
    "tags": []
   },
   "outputs": [
    {
     "name": "stdout",
     "output_type": "stream",
     "text": [
      "schuster\n",
      "name: None\n",
      "shorthand: None\n",
      "aka: None\n",
      "description: None\n",
      "xrefs: None\n",
      "size: 19 reactions over 28 molecules.\n",
      "reactions: \n",
      "    [gapdh] GAP + NAD+ + Pi <=> DPG + H+ + NADH\n",
      "    [pgk] 3PG + ATP <=> DPG + ADP\n",
      "    [gpm] 2PG <=> 3PG\n",
      "    [eno] 2PG <=> H2O + PEP\n",
      "    [tpi] GAP <=> DHAP\n",
      "    [fba] FDP <=> GAP + DHAP\n",
      "    [pfk] ATP + F6P => ADP + FDP + H+\n",
      "    [pgi] G6P <=> F6P\n",
      "    [r5pi] R5P <=> Ru5P\n",
      "    [pglase] 6PGDL + H2O => 6PG + H+\n",
      "    [g6pdh] G6P + NADP+ <=> 6PGDL + H+ + NADPH\n",
      "    [pgldh] 6PG + NADP+ => CO2 + Ru5P + NADPH\n",
      "    [rpe] Ru5P <=> Xu5P\n",
      "    [fbp] FDP + H2O => F6P + Pi\n",
      "    [tkt.c5c5] GAP + Sed7P <=> R5P + Xu5P\n",
      "    [tal] GAP + Sed7P <=> F6P + E4P\n",
      "    [tkt.c5c4] E4P + Xu5P <=> F6P + GAP\n",
      "    [pyk] ADP + H+ + PEP => ATP + pyr\n",
      "    [prs_deob] R5P => R5Pex\n"
     ]
    }
   ],
   "source": [
    "# Extend to pyruvate and to R5Pex.\n",
    "r5p_ex = Molecule(id='r5p_ex', name='Incorporated R5P', shorthand='R5Pex')\n",
    "prs_deob = Reaction(\n",
    "    id='prs_deob',\n",
    "    name='R5P nucleotide incorporation',\n",
    "    stoichiometry={\n",
    "        r5p: -1,\n",
    "        r5p_ex: +1\n",
    "    },\n",
    "    reversible=False)\n",
    "\n",
    "#  *** Pyk is irreversible, but the wrong way! Semanitics of the name 'pyruvate *kinase*' aside, define the reaction as strictly PEP + ADP -> pyruvate + ATP ***\n",
    "pyk = KB('pyk')\n",
    "pyk_irr = Reaction(\n",
    "    id='pyk', # So it maps to the diagram correctly\n",
    "    name='Glycolytic PYK',\n",
    "    shorthand='PYK',\n",
    "    stoichiometry = {met: -count for met, count in pyk.stoichiometry.items()},\n",
    "    reversible=False,\n",
    ")\n",
    "\n",
    "exclude = ('pyk', 'pps', 'pdh', 'pta', 'ack', 'aclig', 'pts.glc', 'pgldhat', 'kdpga')\n",
    "pw = Pathway(\n",
    "    id='schuster',\n",
    "    reactions=[r for r in glycolysis_ppp_ov.reactions if r.id not in exclude],\n",
    "    diagram=glycolysis_ppp_ov.diagram,\n",
    ")\n",
    "pw.add_reaction(pyk_irr)\n",
    "pw.add_reaction(prs_deob)\n",
    "pw.data()"
   ]
  },
  {
   "cell_type": "code",
   "execution_count": 8,
   "id": "198150e1-6485-4cd7-83df-30c431750fbe",
   "metadata": {},
   "outputs": [
    {
     "data": {
      "application/vnd.jupyter.widget-view+json": {
       "model_id": "5464c96fdaf1456aa0e0a8b4de1848d9",
       "version_major": 2,
       "version_minor": 0
      },
      "text/plain": [
       "VBox(children=(IntSlider(value=0, description='Mode', layout=Layout(width='216px'), max=6), Text(value='PFK + …"
      ]
     },
     "execution_count": 8,
     "metadata": {},
     "output_type": "execute_result"
    }
   ],
   "source": [
    "# We still keep track of protons and water, where they do not. This *shouldn't* make a difference...\n",
    "pyr = KB('pyr')\n",
    "bounds = {g6p, pyr, r5p_ex, nad, nadh, nadp, nadph, amp, adp, atp, pi, co2, h2o, proton}\n",
    "\n",
    "modes, rev = elementary_modes(build_internal_system(pw, bounds), (reaction.reversible for reaction in pw.reactions))\n",
    "show_modes(pw, modes, rev)"
   ]
  },
  {
   "cell_type": "markdown",
   "id": "fd11a41b-055e-43fb-8c4b-57e3f7538155",
   "metadata": {
    "tags": []
   },
   "source": [
    "Most correspond to modes as in Schuster _et al_ (2000)\n",
    "- 0 = G = futile cycle\n",
    "- 1 = A = textbook glycolysis\n",
    "- 2 = D = G6P to R5P + CO2\n",
    "- 3 = E = 5 G6P to 6 R5P\n",
    "- 5 = F = burn G6P completely to CO2, generating NADPH\n",
    "- 6 = B = burn G6P half to CO2, half to pyruvate\n",
    "- 7 = C = burn G6p 1/6 to CO2, the rest to pyruvate\n",
    "\n",
    "Two extra modes:\n",
    "- 4 = pure carbon fixation 6 CO2 -> G6P, consuming ATP and NADPH.\n",
    "- 8 = lesser carbon fixation, G6P + 4 CO2 -> 2 R5P\n",
    "\n",
    "**Bingo:** the two extra modes use PGLDH (6-phosphogluconate dehydrogenase) in reverse, while Schuster _et al_ treat it as irreversible. eQuilibrator gives its standard ΔG as +10.7 kJ/mol, which is _uphill_, though at cellular concentrations I calculate it at more like -11. So we do expect it to run in the direction given, but it is not impossible that it could go the opposite way under the right conditions.\n",
    "\n",
    "### Either way, check that making it irreversible reproduces the published result:"
   ]
  },
  {
   "cell_type": "code",
   "execution_count": 9,
   "id": "ff1ca938-c3cd-4a59-a973-ae4598bf2938",
   "metadata": {
    "tags": []
   },
   "outputs": [
    {
     "name": "stdout",
     "output_type": "stream",
     "text": [
      "schuster\n",
      "name: None\n",
      "shorthand: None\n",
      "aka: None\n",
      "description: None\n",
      "xrefs: None\n",
      "size: 19 reactions over 28 molecules.\n",
      "reactions: \n",
      "    [gapdh] GAP + NAD+ + Pi <=> DPG + H+ + NADH\n",
      "    [pgk] 3PG + ATP <=> DPG + ADP\n",
      "    [gpm] 2PG <=> 3PG\n",
      "    [eno] 2PG <=> H2O + PEP\n",
      "    [tpi] GAP <=> DHAP\n",
      "    [fba] FDP <=> GAP + DHAP\n",
      "    [pfk] ATP + F6P => ADP + FDP + H+\n",
      "    [pgi] G6P <=> F6P\n",
      "    [r5pi] R5P <=> Ru5P\n",
      "    [pglase] 6PGDL + H2O => 6PG + H+\n",
      "    [g6pdh] G6P + NADP+ <=> 6PGDL + H+ + NADPH\n",
      "    [rpe] Ru5P <=> Xu5P\n",
      "    [fbp] FDP + H2O => F6P + Pi\n",
      "    [tkt.c5c5] GAP + Sed7P <=> R5P + Xu5P\n",
      "    [tal] GAP + Sed7P <=> F6P + E4P\n",
      "    [tkt.c5c4] E4P + Xu5P <=> F6P + GAP\n",
      "    [pyk] ADP + H+ + PEP => ATP + pyr\n",
      "    [pgldh] 6PG + NADP+ => CO2 + Ru5P + NADPH\n",
      "    [prs_deob] R5P => R5Pex\n"
     ]
    },
    {
     "data": {
      "application/vnd.jupyter.widget-view+json": {
       "model_id": "49e66af3f33c460380c6ba6485d1420b",
       "version_major": 2,
       "version_minor": 0
      },
      "text/plain": [
       "VBox(children=(IntSlider(value=0, description='Mode', layout=Layout(width='216px'), max=6), Text(value='PFK + …"
      ]
     },
     "execution_count": 9,
     "metadata": {},
     "output_type": "execute_result"
    }
   ],
   "source": [
    "#  Replace PGLDH with an irreversible copy.\n",
    "pgldh = KB('pgldh')\n",
    "pgldh_irr = Reaction(\n",
    "    id=pgldh.id,\n",
    "    name=pgldh.name,\n",
    "    shorthand=pgldh.shorthand,\n",
    "    stoichiometry = pgldh.stoichiometry,\n",
    "    reversible=False,\n",
    ")\n",
    "\n",
    "exclude = ('pyk', 'pps', 'pdh', 'pta', 'ack', 'aclig', 'pts.glc', 'pgldhat', 'kdpga', 'pgldh')\n",
    "pw = Pathway(\n",
    "    id='schuster',\n",
    "    reactions=[r for r in glycolysis_ppp_ov.reactions if r.id not in exclude],\n",
    "    diagram=glycolysis_ppp_ov.diagram,\n",
    ")\n",
    "pw.add_reaction(pyk_irr)\n",
    "pw.add_reaction(pgldh_irr)\n",
    "pw.add_reaction(prs_deob)\n",
    "pw.data()\n",
    "\n",
    "# Same bounds as above\n",
    "bounds = {g6p, pyr, r5p_ex, nad, nadh, nadp, nadph, amp, adp, atp, pi, co2, h2o, proton}\n",
    "modes, rev = elementary_modes(build_internal_system(pw, bounds), (reaction.reversible for reaction in pw.reactions))\n",
    "show_modes(pw, modes, rev)"
   ]
  },
  {
   "cell_type": "markdown",
   "id": "d5be5cd0-f09b-4af0-9383-66344847a9d3",
   "metadata": {},
   "source": [
    "Same 7 elementary modes as in Schuster _et al_ (2000). **Declare success**."
   ]
  },
  {
   "cell_type": "markdown",
   "id": "17ac6ff1-3dc6-483b-97d9-0273c7cdf452",
   "metadata": {},
   "source": [
    "### Reproducibility of elementary modes\n",
    "\n",
    "- Randomly permute reactions and metabolites, and collect the resulting elementary modes.\n",
    "- We do not expect the modes to be found in the same order. Instead, do a brute-force matching to the modes originally found"
   ]
  },
  {
   "cell_type": "code",
   "execution_count": 10,
   "id": "88a6bf7b-97dc-46c0-8c24-e1a663077aff",
   "metadata": {
    "tags": []
   },
   "outputs": [
    {
     "name": "stdout",
     "output_type": "stream",
     "text": [
      "Consistent\n",
      "CPU times: user 2.7 s, sys: 0 ns, total: 2.7 s\n",
      "Wall time: 2.69 s\n"
     ]
    }
   ],
   "source": [
    "%%time\n",
    "s_internal = build_internal_system(pw, bounds)\n",
    "reversibilities = np.array([reaction.reversible for reaction in pw.reactions])\n",
    "original_modes = {tuple(mode) for mode in modes.T}\n",
    "\n",
    "anomalies = collections.defaultdict(list)\n",
    "\n",
    "rng = np.random.default_rng()\n",
    "for i in range(1000):\n",
    "    met_perm = rng.permutation(s_internal.shape[0])\n",
    "    rxn_perm = rng.permutation(s_internal.shape[1])\n",
    "    \n",
    "    # Permute the input matrix by both row and column\n",
    "    modes, rev = elementary_modes(s_internal[met_perm][:, rxn_perm], reversibilities[rxn_perm])\n",
    "    \n",
    "    # Restore the original reaction ordering\n",
    "    modes = modes[np.argsort(rxn_perm)]\n",
    "\n",
    "    if modes.shape == (19, 7):\n",
    "        for mode in modes.T:\n",
    "            if tuple(mode) not in original_modes:\n",
    "                anomalies[i].append((met_perm, rxn_perm, f'novel mode={mode}'))\n",
    "    else:\n",
    "        anomalies[i].append((met_perm, rxn_perm, f'shape={modes.shape}'))\n",
    "\n",
    "if anomalies:\n",
    "    print(f'{len(anomalies)} anomalies')\n",
    "else:\n",
    "    print('Consistent')"
   ]
  },
  {
   "cell_type": "markdown",
   "id": "7671122a-41d7-446d-8453-38052d8a3bbb",
   "metadata": {},
   "source": [
    "## Approach 2 - Only a minor variation\n",
    "\n",
    "- Treat at least some of the boundaries as exchanges rather than external metabolites\n",
    "- _Should_ give the same result e.g. for FBA\n",
    "  - Unconstrained dM/dt is the same as an unconstrained exchange via a one-metabolite pseudo-reaction\n",
    "- But for elementary mode analysis it could matter\n",
    "  - Keeps the metabolite row of interest in the subsetted S matrix used for the elementary mode algorithm.\n",
    "    - This could make the difference for a given reaction being included in the analysis at all, e.g. between two metabolites that could both also exchange\n",
    "  - The exchange could be marked irreversible to restrict to a relevant subset of modes\n"
   ]
  },
  {
   "cell_type": "code",
   "execution_count": 11,
   "id": "7a008d61-b575-46a6-9239-e5e2dadd1f9b",
   "metadata": {
    "tags": []
   },
   "outputs": [],
   "source": [
    "def augmented_internal_system(pw, exchanges, bounds):\n",
    "    \"\"\"Returns S matrix with rows for internal and exchanged metabolites only.\"\"\"\n",
    "    \n",
    "    # Append columns ('reactions') with a single entry for each exchange\n",
    "    exchange_cols = np.zeros((pw.shape[0], len(exchanges)), dtype=int)\n",
    "    for j, met in enumerate(exchanges):\n",
    "        exchange_cols[pw.molecules.index_of(met), j] = 1\n",
    "\n",
    "    intermediates = [met not in bounds for met in pw.molecules]\n",
    "    s_matrix = np.concatenate([pw.s_matrix.astype(int), exchange_cols], axis=1)\n",
    "    return s_matrix[intermediates]\n"
   ]
  },
  {
   "cell_type": "code",
   "execution_count": 12,
   "id": "958fc94c-7020-48a8-b290-d5b9bc07d6c8",
   "metadata": {
    "tags": []
   },
   "outputs": [
    {
     "data": {
      "text/plain": [
       "(15, 19)"
      ]
     },
     "execution_count": 12,
     "metadata": {},
     "output_type": "execute_result"
    }
   ],
   "source": [
    "build_internal_system(pw, bounds).shape"
   ]
  },
  {
   "cell_type": "code",
   "execution_count": 13,
   "id": "74d0f2a2-7558-4a08-855b-e1c2dda6943b",
   "metadata": {
    "tags": []
   },
   "outputs": [
    {
     "data": {
      "text/plain": [
       "(17, 21)"
      ]
     },
     "execution_count": 13,
     "metadata": {},
     "output_type": "execute_result"
    }
   ],
   "source": [
    "augmented_internal_system(pw, {g6p, pyr}, bounds - {g6p, pyr}).shape"
   ]
  },
  {
   "cell_type": "code",
   "execution_count": 14,
   "id": "255d6196-46c1-46bc-b8f6-97d41fcd7771",
   "metadata": {
    "tags": []
   },
   "outputs": [],
   "source": [
    "modes, rev = elementary_modes(\n",
    "    augmented_internal_system(pw, {g6p, pyr}, bounds - {g6p, pyr}),\n",
    "    [reaction.reversible for reaction in pw.reactions] + [True, True])"
   ]
  },
  {
   "cell_type": "code",
   "execution_count": 15,
   "id": "f4767784-2cd8-4cfa-8287-5f73eb02ddf4",
   "metadata": {
    "tags": []
   },
   "outputs": [
    {
     "data": {
      "text/plain": [
       "(21, 7)"
      ]
     },
     "execution_count": 15,
     "metadata": {},
     "output_type": "execute_result"
    }
   ],
   "source": [
    "modes.shape"
   ]
  },
  {
   "cell_type": "code",
   "execution_count": 16,
   "id": "9ea5f4d5-2817-4f05-ac63-68392c2014df",
   "metadata": {},
   "outputs": [
    {
     "data": {
      "application/vnd.jupyter.widget-view+json": {
       "model_id": "96a67947872f46978198296272cb8ab7",
       "version_major": 2,
       "version_minor": 0
      },
      "text/plain": [
       "VBox(children=(IntSlider(value=0, description='Mode', layout=Layout(width='216px'), max=6), Text(value='PFK + …"
      ]
     },
     "execution_count": 16,
     "metadata": {},
     "output_type": "execute_result"
    }
   ],
   "source": [
    "show_modes(pw, modes[:pw.shape[1]], rev)"
   ]
  },
  {
   "cell_type": "markdown",
   "id": "f20c0ac1-a2e6-455c-8acf-84b427ba4e15",
   "metadata": {},
   "source": [
    "Same"
   ]
  }
 ],
 "metadata": {
  "kernelspec": {
   "display_name": "Python 3 (ipykernel)",
   "language": "python",
   "name": "python3"
  },
  "language_info": {
   "codemirror_mode": {
    "name": "ipython",
    "version": 3
   },
   "file_extension": ".py",
   "mimetype": "text/x-python",
   "name": "python",
   "nbconvert_exporter": "python",
   "pygments_lexer": "ipython3",
   "version": "3.11.2"
  }
 },
 "nbformat": 4,
 "nbformat_minor": 5
}
