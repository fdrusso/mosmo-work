{
 "cells": [
  {
   "cell_type": "code",
   "execution_count": 1,
   "id": "cc6486f1",
   "metadata": {
    "tags": []
   },
   "outputs": [],
   "source": [
    "import collections\n",
    "import gzip\n",
    "import json\n",
    "import pronto\n",
    "import pymongo\n",
    "import urllib.request\n",
    "import xml.etree.ElementTree as ET\n",
    "\n",
    "from mosmo.knowledge import kb\n",
    "from mosmo.model import DS, KbEntry, DbXref\n",
    "\n",
    "KB = kb.configure_kb()"
   ]
  },
  {
   "cell_type": "markdown",
   "id": "30168ff7",
   "metadata": {},
   "source": [
    "# EC (from https://www.enzyme-database.org/)\n",
    "\n",
    "Hardly pretty, but this seems to be the definitive source. Relatively minimal load: ID, name, aka."
   ]
  },
  {
   "cell_type": "code",
   "execution_count": 2,
   "id": "359d95d3-c309-46ec-bc2f-227605aa067b",
   "metadata": {},
   "outputs": [
    {
     "name": "stdout",
     "output_type": "stream",
     "text": [
      "CPU times: user 2.72 s, sys: 144 ms, total: 2.87 s\n",
      "Wall time: 3.99 s\n"
     ]
    }
   ],
   "source": [
    "%%time\n",
    "gzdata = urllib.request.urlopen('https://www.enzyme-database.org/downloads/enzyme-data.xml.gz')\n",
    "data = gzip.GzipFile(fileobj=gzdata)\n",
    "tree = ET.parse(data)"
   ]
  },
  {
   "cell_type": "code",
   "execution_count": 3,
   "id": "7ba84e0f",
   "metadata": {
    "tags": []
   },
   "outputs": [
    {
     "name": "stdout",
     "output_type": "stream",
     "text": [
      "8201 entries extracted from 8201 table rows\n",
      "CPU times: user 61.6 ms, sys: 4.1 ms, total: 65.7 ms\n",
      "Wall time: 64.5 ms\n"
     ]
    }
   ],
   "source": [
    "%%time\n",
    "entry_rows = tree.getroot().findall('./database/table_data[@name=\"entry\"]/row')\n",
    "entries = []\n",
    "for row in entry_rows:\n",
    "    entry = {}\n",
    "    for field in row.findall('field'):\n",
    "        if field.attrib['name'] in {'ec_num', 'accepted_name', 'sys_name', 'other_names', 'comments'}:\n",
    "            entry[field.attrib['name']] = field.text\n",
    "\n",
    "    if 'ec_num' in entry and 'accepted_name' in entry:\n",
    "        kb_entry = KbEntry(id = entry['ec_num'], db=DS.EC, name = entry['accepted_name'], aka=[])\n",
    "        if entry['sys_name']:\n",
    "            kb_entry.aka.append(entry['sys_name'])\n",
    "        if entry['other_names']:\n",
    "            kb_entry.aka.extend(entry['other_names'].split('; '))\n",
    "        if entry['comments']:\n",
    "            kb_entry.description = entry['comments']\n",
    "\n",
    "        entries.append(kb_entry)\n",
    "print(f\"{len(entries)} entries extracted from {len(entry_rows)} table rows\")"
   ]
  },
  {
   "cell_type": "code",
   "execution_count": 4,
   "id": "9a21a592-49d1-44fd-a339-4ae74a47e9bd",
   "metadata": {},
   "outputs": [
    {
     "data": {
      "text/plain": [
       "{'id': '1.1.1.3',\n",
       " 'db': Datasource(id='EC', name='Enzyme Commission', home='https://enzyme.expasy.org/', urlpat={<class 'mosmo.model.base.KbEntry'>: 'https://enzyme.expasy.org/EC/{id}'}),\n",
       " 'name': 'homoserine dehydrogenase',\n",
       " 'shorthand': None,\n",
       " 'description': 'The yeast enzyme acts most rapidly with NAD+; the Neurospora enzyme with NADP+. The enzyme from Escherichia coli is a multi-functional protein, which also catalyses the reaction of EC 2.7.2.4 (aspartate kinase).',\n",
       " 'aka': ['L-homoserine:NAD(P)+ oxidoreductase', 'HSDH', 'HSD'],\n",
       " 'xrefs': None}"
      ]
     },
     "execution_count": 4,
     "metadata": {},
     "output_type": "execute_result"
    }
   ],
   "source": [
    "entries[2].__dict__"
   ]
  },
  {
   "cell_type": "markdown",
   "id": "18e9a0d1-9bf3-4322-939c-94d687fc5a95",
   "metadata": {},
   "source": [
    "### Uncomment this cell to write to the db"
   ]
  },
  {
   "cell_type": "code",
   "execution_count": 6,
   "id": "00384e0c-de6c-4851-861b-42ed810350de",
   "metadata": {},
   "outputs": [
    {
     "name": "stdout",
     "output_type": "stream",
     "text": [
      "success\n",
      "CPU times: user 1.05 s, sys: 70.4 ms, total: 1.12 s\n",
      "Wall time: 1.87 s\n"
     ]
    }
   ],
   "source": [
    "# %%time\n",
    "# collection = KB.client[KB.EC.client_db][KB.EC.collection]\n",
    "# collection.drop()\n",
    "# for entry in entries:\n",
    "#     KB.put(KB.EC, entry, bypass_cache=True)\n",
    "# collection.create_index('name', name='name', collation=pymongo.collation.Collation(locale='en_US', strength=1))\n",
    "# collection.create_index('aka', name='aka', collation=pymongo.collation.Collation(locale='en_US', strength=1))\n",
    "# print(\"success\")"
   ]
  },
  {
   "cell_type": "markdown",
   "id": "a6366a9b",
   "metadata": {},
   "source": [
    "# GO (from https://purl.obolibrary.org/obo/go.obo)"
   ]
  },
  {
   "cell_type": "code",
   "execution_count": 7,
   "id": "4970d4e2",
   "metadata": {
    "tags": []
   },
   "outputs": [
    {
     "name": "stdout",
     "output_type": "stream",
     "text": [
      "This version of GO has 47904 terms.\n",
      "CPU times: user 5min 22s, sys: 40.2 s, total: 6min 3s\n",
      "Wall time: 50.4 s\n"
     ]
    }
   ],
   "source": [
    "%%time\n",
    "# pronto.Ontology has built-in functionality that takes care of all the details for us\n",
    "go = pronto.Ontology.from_obo_library('go.obo')\n",
    "print(f'This version of GO has {len(go.terms())} terms.')"
   ]
  },
  {
   "cell_type": "code",
   "execution_count": 8,
   "id": "bcfbabfc",
   "metadata": {
    "tags": []
   },
   "outputs": [
    {
     "name": "stdout",
     "output_type": "stream",
     "text": [
      "XRef usage\n",
      "      BIOCYC: 1\n",
      "       CORUM: 12\n",
      "          EC: 4845\n",
      "        FBBT: 1\n",
      "         FMA: 5\n",
      "        HTTP: 1\n",
      "       HTTPS: 2\n",
      "      INTACT: 3\n",
      "    INTERPRO: 1\n",
      "        KEGG: 1745\n",
      " KEGG.MODULE: 1\n",
      "     METACYC: 5149\n",
      "          MP: 1\n",
      "NIF_SUBCELLULAR: 223\n",
      "        PMID: 1\n",
      "          PO: 1\n",
      "       REACT: 6167\n",
      "       RESID: 139\n",
      "        RHEA: 4485\n",
      "    SABIO-RK: 2\n",
      "          SO: 3\n",
      "          TC: 52\n",
      "UM-BBD_ENZYMEID: 61\n",
      "UM-BBD_PATHWAYID: 123\n",
      "UM-BBD_REACTIONID: 273\n",
      "  UNIPATHWAY: 2\n",
      "UNIPROTKB-KW: 1\n",
      "          VZ: 139\n",
      "        WBBT: 2\n",
      "        WIKI: 758\n",
      "   WIKIPEDIA: 2\n",
      "CPU times: user 460 ms, sys: 7.96 ms, total: 468 ms\n",
      "Wall time: 468 ms\n"
     ]
    }
   ],
   "source": [
    "%%time\n",
    "source_name = {\n",
    "    'Reactome': 'REACT',\n",
    "    'Wikipedia': 'WIKI',\n",
    "    'KEGG_REACTION': 'KEGG',\n",
    "    'KEGG_PATHWAY': 'KEGG',\n",
    "}\n",
    "source_count = collections.defaultdict(int)\n",
    "\n",
    "def extract_xref(xref):\n",
    "    parts = xref.id.split(':')\n",
    "    if len(parts) == 2:\n",
    "        db = DS.get(source_name.get(parts[0], parts[0].upper()))\n",
    "        id = parts[1]\n",
    "        source_count[db] += 1\n",
    "        return DbXref(db=db, id=id)\n",
    "    else:\n",
    "        return DbXref(db=None, id=xref.id)\n",
    "\n",
    "go_entries = {}\n",
    "not_parsed = []\n",
    "for term in go.terms():\n",
    "    if term.obsolete:\n",
    "        continue\n",
    "\n",
    "    id_parts = term.id.split(':')\n",
    "    if len(id_parts) == 2 and id_parts[0] == 'GO':\n",
    "        go_entries[id_parts[1]] = KbEntry(\n",
    "            id = id_parts[1],\n",
    "            db = DS.GO,\n",
    "            name = term.name,\n",
    "            description = f'[{term.namespace}] {term.definition}',\n",
    "            aka = [synonym.description for synonym in term.synonyms] or None,\n",
    "            xrefs = {extract_xref(xref) for xref in term.xrefs} or None\n",
    "        )\n",
    "    else:\n",
    "        not_parsed.append(term)\n",
    "\n",
    "print(\"XRef usage\")\n",
    "for source in sorted(source_count.keys()):\n",
    "    print(f'{source.id:>12}: {source_count[source]}')\n"
   ]
  },
  {
   "cell_type": "code",
   "execution_count": 9,
   "id": "e8c3b389-1e4c-4c92-b388-50d082e8d9d8",
   "metadata": {},
   "outputs": [
    {
     "data": {
      "text/plain": [
       "{'id': '0000050',\n",
       " 'db': Datasource(id='GO', name='Gene Ontology', home='http://geneontology.org/', urlpat={<class 'mosmo.model.base.KbEntry'>: 'http://amigo.geneontology.org/amigo/term/GO:{id}'}),\n",
       " 'name': 'urea cycle',\n",
       " 'shorthand': None,\n",
       " 'description': '[biological_process] The sequence of reactions by which arginine is synthesized from ornithine, then cleaved to yield urea and regenerate ornithine. The overall reaction equation is NH3 + CO2 + aspartate + 3 ATP + 2 H2O = urea + fumarate + 2 ADP + 2 phosphate + AMP + diphosphate.',\n",
       " 'aka': ['urea biosynthetic process', 'urea biosynthesis', 'ornithine cycle'],\n",
       " 'xrefs': {WIKI:Urea_cycle}}"
      ]
     },
     "execution_count": 9,
     "metadata": {},
     "output_type": "execute_result"
    }
   ],
   "source": [
    "go_entries['0000050'].__dict__"
   ]
  },
  {
   "cell_type": "markdown",
   "id": "f03bf692-f5a1-46c5-893f-7c69eb3fc828",
   "metadata": {},
   "source": [
    "### Uncomment this cell to write GO entries to the db"
   ]
  },
  {
   "cell_type": "code",
   "execution_count": 10,
   "id": "9c732ca2-3335-4b27-bd83-33accbbb3e60",
   "metadata": {},
   "outputs": [
    {
     "name": "stdout",
     "output_type": "stream",
     "text": [
      "success\n",
      "CPU times: user 5.39 s, sys: 509 ms, total: 5.89 s\n",
      "Wall time: 9.68 s\n"
     ]
    }
   ],
   "source": [
    "# %%time\n",
    "# collection = KB.client[KB.GO.client_db][KB.GO.collection]\n",
    "# collection.drop()\n",
    "# for go_entry in go_entries.values():\n",
    "#     KB.put(KB.GO, go_entry, bypass_cache=True)\n",
    "# collection.create_index('name', name='name', collation=pymongo.collation.Collation(locale='en_US', strength=1))\n",
    "# collection.create_index('aka', name='aka', collation=pymongo.collation.Collation(locale='en_US', strength=1))\n",
    "# collection.create_index([('xrefs.id', pymongo.ASCENDING), ('xrefs.db', pymongo.ASCENDING)],\n",
    "#                         name='xrefs',\n",
    "#                         collation=pymongo.collation.Collation(locale='en_US', strength=1))\n",
    "# print(\"success\")"
   ]
  }
 ],
 "metadata": {
  "kernelspec": {
   "display_name": "Python 3 (ipykernel)",
   "language": "python",
   "name": "python3"
  },
  "language_info": {
   "codemirror_mode": {
    "name": "ipython",
    "version": 3
   },
   "file_extension": ".py",
   "mimetype": "text/x-python",
   "name": "python",
   "nbconvert_exporter": "python",
   "pygments_lexer": "ipython3",
   "version": "3.11.2"
  }
 },
 "nbformat": 4,
 "nbformat_minor": 5
}
