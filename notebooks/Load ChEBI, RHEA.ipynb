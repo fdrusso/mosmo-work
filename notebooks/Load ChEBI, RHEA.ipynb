{
 "cells": [
  {
   "cell_type": "code",
   "execution_count": 1,
   "id": "ccf12407",
   "metadata": {
    "tags": []
   },
   "outputs": [],
   "source": [
    "import collections\n",
    "import gzip\n",
    "import io\n",
    "import pymongo\n",
    "import rdflib\n",
    "import urllib.request\n",
    "\n",
    "from mosmo.knowledge import kb\n",
    "from mosmo.model import DS, Molecule, Reaction, KbEntry, DbXref\n",
    "\n",
    "KB = kb.configure_kb()"
   ]
  },
  {
   "cell_type": "markdown",
   "id": "701c2bd9",
   "metadata": {},
   "source": [
    "# Load ChEBI data verbatim\n",
    "- DB dump flat-files hosted at https://ftp.ebi.ac.uk/pub/databases/chebi/Flat_file_tab_delimited/\n",
    "- Some files are gzipped, some are not\n",
    "- Use TextIOWrapper to tolerate malformed utf-8, which has been a problem at times\n",
    "- Use the full set of compounds, not just 3-star. But, do skip obsolete and replaced entries."
   ]
  },
  {
   "cell_type": "code",
   "execution_count": 2,
   "id": "3676df35-2c87-442c-8604-7ddbc450fde3",
   "metadata": {
    "scrolled": true
   },
   "outputs": [],
   "source": [
    "def download_tsv(filename):\n",
    "    url = f'https://ftp.ebi.ac.uk/pub/databases/chebi/Flat_file_tab_delimited/{filename}.tsv'\n",
    "    request = urllib.request.urlopen(url)\n",
    "    return io.TextIOWrapper(request, errors='replace')\n",
    "\n",
    "def download_tsv_gz(filename):\n",
    "    url = f'https://ftp.ebi.ac.uk/pub/databases/chebi/Flat_file_tab_delimited/{filename}.tsv.gz'\n",
    "    request = urllib.request.urlopen(url)\n",
    "    gunz = gzip.GzipFile(fileobj=request, mode='rb')\n",
    "    return io.TextIOWrapper(gunz, errors='replace')\n",
    "\n",
    "def file_contents(f):\n",
    "    \"\"\"Assumes a tab-delimited text file with a single header row. Yields one dict per data row.\"\"\"\n",
    "    line = f.readline().strip()\n",
    "    header = line.split('\\t')\n",
    "    rownum = 0\n",
    "    while line:\n",
    "        line = f.readline().strip()\n",
    "        if line:\n",
    "            fields = line.split('\\t')\n",
    "            if len(fields) == len(header):\n",
    "                yield {k: v for k, v in zip(header, fields)}\n",
    "            else:\n",
    "                raise ValueError(f\"Malformed data at row {rownum}: '{line}'\")\n",
    "            rownum += 1"
   ]
  },
  {
   "cell_type": "markdown",
   "id": "0113001f-d810-4890-9d61-0c0f67f4931d",
   "metadata": {},
   "source": [
    "### Assemble each Molecule with name, synonyms, mass, charge, formula, and InChI string"
   ]
  },
  {
   "cell_type": "code",
   "execution_count": 3,
   "id": "c9a78c78",
   "metadata": {
    "tags": []
   },
   "outputs": [
    {
     "name": "stdout",
     "output_type": "stream",
     "text": [
      "  C: 79510\n",
      "  D: 1844\n",
      "  E: 61255\n",
      "  S: 84821\n",
      "146369 compounds extracted\n",
      "CPU times: user 2.44 s, sys: 40.9 ms, total: 2.48 s\n",
      "Wall time: 8.83 s\n"
     ]
    }
   ],
   "source": [
    "%%time\n",
    "compounds = {}\n",
    "status = collections.Counter()\n",
    "for row in file_contents(download_tsv_gz('compounds')):\n",
    "    status.update({row['STATUS']: 1})\n",
    "    if row['STATUS'] in ['C', 'S'] and row['PARENT_ID'] == 'null':\n",
    "        compounds[row['ID']] = Molecule(id=row['ID'], db=DS.CHEBI, name=row['NAME'])\n",
    "for s, count in status.items():\n",
    "    print(f'  {s}: {count}')\n",
    "print(f'{len(compounds)} compounds extracted')"
   ]
  },
  {
   "cell_type": "code",
   "execution_count": 4,
   "id": "22a3c793-34cd-46dc-8d85-b5daa79fdb86",
   "metadata": {},
   "outputs": [
    {
     "name": "stdout",
     "output_type": "stream",
     "text": [
      "141643 have additional names.\n",
      "CPU times: user 3.04 s, sys: 107 ms, total: 3.15 s\n",
      "Wall time: 11.1 s\n"
     ]
    }
   ],
   "source": [
    "%%time\n",
    "compound_names = collections.defaultdict(set)\n",
    "for row in file_contents(download_tsv_gz('names')):\n",
    "    if row['COMPOUND_ID'] in compounds:\n",
    "        compound_names[row['COMPOUND_ID']].add(row['NAME'])\n",
    "for compound_id, names in compound_names.items():\n",
    "    compound = compounds[compound_id]\n",
    "    compound.aka = list(names - {compound.name})\n",
    "print(f'{len(compound_names)} have additional names.')"
   ]
  },
  {
   "cell_type": "code",
   "execution_count": 5,
   "id": "4888fcb6-9c41-4155-86bc-055e11183f1c",
   "metadata": {},
   "outputs": [
    {
     "name": "stdout",
     "output_type": "stream",
     "text": [
      "Chemical data added to 138032 compounds:\n",
      " FORMULA: 138640\n",
      "    MASS: 137135\n",
      "  CHARGE: 137918\n",
      "MONOISOTOPIC MASS: 137134\n",
      "CPU times: user 4.66 s, sys: 102 ms, total: 4.76 s\n",
      "Wall time: 20.9 s\n"
     ]
    }
   ],
   "source": [
    "%%time\n",
    "dtypes = collections.Counter()\n",
    "updated = set()\n",
    "for row in file_contents(download_tsv('chemical_data')):\n",
    "    if row['COMPOUND_ID'] in compounds:\n",
    "        dtype = row['TYPE']\n",
    "        dtypes.update({dtype: 1})\n",
    "        if dtype == 'MASS':\n",
    "            compounds[row['COMPOUND_ID']].mass = float(row['CHEMICAL_DATA'])\n",
    "            updated.add(row['COMPOUND_ID'])\n",
    "        elif dtype == 'CHARGE':\n",
    "            compounds[row['COMPOUND_ID']].charge = int(row['CHEMICAL_DATA'])\n",
    "            updated.add(row['COMPOUND_ID'])\n",
    "        elif dtype == 'FORMULA':\n",
    "            compounds[row['COMPOUND_ID']].formula = row['CHEMICAL_DATA']\n",
    "            updated.add(row['COMPOUND_ID'])\n",
    "\n",
    "print(f'Chemical data added to {len(updated)} compounds:')\n",
    "for dtype, count in dtypes.items():\n",
    "    print(f'{dtype:>8s}: {count}')"
   ]
  },
  {
   "cell_type": "code",
   "execution_count": 6,
   "id": "ebaf5561-46bd-4415-9949-d24c3b88b521",
   "metadata": {},
   "outputs": [
    {
     "name": "stdout",
     "output_type": "stream",
     "text": [
      "126895 InChI strings\n",
      "CPU times: user 1.6 s, sys: 273 ms, total: 1.87 s\n",
      "Wall time: 1min 32s\n"
     ]
    }
   ],
   "source": [
    "%%time\n",
    "inchis = 0\n",
    "for row in file_contents(download_tsv('chebiId_inchi')):\n",
    "    if row['CHEBI_ID'] in compounds:\n",
    "        inchis += 1\n",
    "        compounds[row['CHEBI_ID']].inchi = row['InChI']\n",
    "        \n",
    "print(f'{inchis} InChI strings')"
   ]
  },
  {
   "cell_type": "markdown",
   "id": "abc317ee-94a5-4039-a6ff-ec1b9537bdb7",
   "metadata": {
    "tags": []
   },
   "source": [
    "### Take cross-references from key sources"
   ]
  },
  {
   "cell_type": "code",
   "execution_count": 7,
   "id": "527900ac",
   "metadata": {
    "tags": []
   },
   "outputs": [
    {
     "name": "stdout",
     "output_type": "stream",
     "text": [
      "XRef usage across 32484 compounds:\n",
      "         CAS: 32789\n",
      "        KEGG: 15970\n",
      "       LINCS: 1691\n",
      "     METACYC: 6683\n",
      "        WIKI: 6028\n",
      "CPU times: user 2.5 s, sys: 119 ms, total: 2.61 s\n",
      "Wall time: 23.9 s\n"
     ]
    }
   ],
   "source": [
    "%%time\n",
    "db_mapping = {\n",
    "    'CAS Registry Number': DS.CAS,\n",
    "    'KEGG COMPOUND accession': DS.KEGG,\n",
    "    'KEGG GLYCAN accession': DS.KEGG,\n",
    "    'KEGG DRUG accession': DS.KEGG,\n",
    "    'MetaCyc accession': DS.METACYC,\n",
    "    'LINCS accession': DS.LINCS,\n",
    "    'Wikipedia accession': DS.WIKI,\n",
    "}\n",
    "db_count = collections.defaultdict(int)\n",
    "\n",
    "compound_xrefs = collections.defaultdict(set)\n",
    "for row in file_contents(download_tsv('database_accession')):\n",
    "    if row['COMPOUND_ID'] in compounds and row['TYPE'] in db_mapping:\n",
    "        db = db_mapping[row['TYPE']]\n",
    "        db_count[db] += 1\n",
    "        compound_xrefs[row['COMPOUND_ID']].add(DbXref(id=row['ACCESSION_NUMBER'], db=db))\n",
    "\n",
    "for compound_id, xrefs in compound_xrefs.items():\n",
    "        compounds[compound_id].xrefs = xrefs\n",
    "\n",
    "print(f'XRef usage across {len(compound_xrefs)} compounds:')\n",
    "for db in sorted(db_count.keys()):\n",
    "    print(f'{db.id:>12}: {db_count[db]}')\n"
   ]
  },
  {
   "cell_type": "markdown",
   "id": "3eaa3cf4",
   "metadata": {},
   "source": [
    "## Uncomment this cell to write ChEBI to the DB"
   ]
  },
  {
   "cell_type": "code",
   "execution_count": 8,
   "id": "942d4f30",
   "metadata": {
    "tags": []
   },
   "outputs": [
    {
     "name": "stdout",
     "output_type": "stream",
     "text": [
      "success\n",
      "CPU times: user 30.2 s, sys: 2.35 s, total: 32.5 s\n",
      "Wall time: 52.2 s\n"
     ]
    }
   ],
   "source": [
    "# %%time\n",
    "# collection = KB.client[KB.CHEBI.client_db][KB.CHEBI.collection]\n",
    "# collection.drop()\n",
    "# for compound in compounds.values():\n",
    "#     KB.put(KB.CHEBI, compound, bypass_cache=True)\n",
    "# collection.create_index('name', name='name', collation=pymongo.collation.Collation(locale='en_US', strength=1))\n",
    "# collection.create_index('aka', name='aka', collation=pymongo.collation.Collation(locale='en_US', strength=1))\n",
    "# collection.create_index([('xrefs.id', pymongo.ASCENDING), ('xrefs.db', pymongo.ASCENDING)],\n",
    "#                         name='xrefs',\n",
    "#                         collation=pymongo.collation.Collation(locale='en_US', strength=1))\n",
    "# print(\"success\")"
   ]
  },
  {
   "cell_type": "code",
   "execution_count": 9,
   "id": "31958f4a",
   "metadata": {
    "tags": []
   },
   "outputs": [
    {
     "data": {
      "text/plain": [
       "[[33942] ribose,\n",
       " [27476] beta-D-ribopyranose,\n",
       " [45506] alpha-D-ribose,\n",
       " [47013] D-ribofuranose]"
      ]
     },
     "execution_count": 9,
     "metadata": {},
     "output_type": "execute_result"
    }
   ],
   "source": [
    "KB.find(KB.CHEBI, 'ribose')"
   ]
  },
  {
   "cell_type": "code",
   "execution_count": 10,
   "id": "ca73640a-268c-413a-a3b5-97f42bd498c1",
   "metadata": {},
   "outputs": [
    {
     "data": {
      "text/plain": [
       "{'id': '47013',\n",
       " 'db': Datasource(id='CHEBI', name='Chemical Entities of Biological Interest (ChEBI)', home='https://www.ebi.ac.uk/chebi/', urlpat={<class 'mosmo.model.core.Molecule'>: 'http://www.ebi.ac.uk/chebi/searchId.do?chebiId=CHEBI:{id}'}),\n",
       " 'name': 'D-ribofuranose',\n",
       " 'shorthand': None,\n",
       " 'description': None,\n",
       " 'aka': ['D-Ribose',\n",
       "  'D-ribose',\n",
       "  'ribose',\n",
       "  'WURCS=2.0/1,1,0/[a222h-1x_1-4]/1/',\n",
       "  '(3R,4S,5R)-5-(hydroxymethyl)tetrahydrofuran-2,3,4-triol'],\n",
       " 'xrefs': {CAS:50-69-1, CAS:613-83-2, KEGG:C00121},\n",
       " 'formula': 'C5H10O5',\n",
       " 'mass': 150.1299,\n",
       " 'charge': 0,\n",
       " 'inchi': 'InChI=1S/C5H10O5/c6-1-2-3(7)4(8)5(9)10-2/h2-9H,1H2/t2-,3-,4-,5?/m1/s1',\n",
       " 'variations': None,\n",
       " 'canonical_form': None,\n",
       " 'default_form': None}"
      ]
     },
     "execution_count": 10,
     "metadata": {},
     "output_type": "execute_result"
    }
   ],
   "source": [
    "KB.find(KB.CHEBI, 'ribose')[-1].__dict__"
   ]
  },
  {
   "cell_type": "markdown",
   "id": "742bab17",
   "metadata": {},
   "source": [
    "# Load RHEA master reactions verbatim\n",
    "\n",
    "RHEA is organized around 'quartets'\n",
    "- Master - indeterminate or unspecified direction\n",
    "- irreversible left -> right\n",
    "- irreversible right -> left\n",
    "- explicitly reversible\n",
    "\n",
    "Not clear what is gained by this representation vs say a reversibility attribute. Maybe it's all about the cross-references to other reaction DBs.\n",
    "\n",
    "## RHEA reaction definitions are in RDF\n",
    "- Hosted at [ftp.expasy.org](https://ftp.expasy.org/databases/rhea/rdf/rhea.rdf.gz) (see [rhea-db.org/help/download](https://www.rhea-db.org/help/download#Reactions))"
   ]
  },
  {
   "cell_type": "code",
   "execution_count": 11,
   "id": "7edd5929",
   "metadata": {
    "tags": []
   },
   "outputs": [
    {
     "name": "stdout",
     "output_type": "stream",
     "text": [
      "This version of RHEA has 17250 primary reactions.\n",
      "CPU times: user 1min 25s, sys: 968 ms, total: 1min 26s\n",
      "Wall time: 1min 31s\n"
     ]
    }
   ],
   "source": [
    "%%time\n",
    "request = urllib.request.urlopen(\"https://ftp.expasy.org/databases/rhea/rdf/rhea.rdf.gz\")\n",
    "rhea_rdf = rdflib.Graph().parse(gzip.GzipFile(fileobj=request), format=\"application/rdf+xml\")\n",
    "\n",
    "RDFS = rdflib.namespace.RDFS\n",
    "RH = rdflib.namespace.Namespace('http://rdf.rhea-db.org/')\n",
    "reaction_ids = list(rhea_rdf.subjects(RDFS.subClassOf, RH.Reaction))\n",
    "print(f\"This version of RHEA has {len(reaction_ids)} primary reactions.\")\n",
    "\n",
    "# Use built-in namespace manager for RDFS and rhea itself (mainly predicates)\n",
    "rhea_rdf.bind('RH', RH)\n",
    "rhea_rdf.bind('RDFS', RDFS)\n",
    "\n",
    "# For everything else, use namespaces to map terms directly to xrefs.\n",
    "nsmap = [\n",
    "    (rdflib.namespace.Namespace('http://purl.obolibrary.org/obo/CHEBI_'), DS.CHEBI),\n",
    "    (rdflib.namespace.Namespace('http://purl.uniprot.org/enzyme/'), DS.EC),\n",
    "    (rdflib.namespace.Namespace('http://purl.obolibrary.org/obo/GO_'), DS.GO),\n",
    "    (rdflib.namespace.Namespace('http://identifiers.org/kegg.reaction/'), DS.KEGG),\n",
    "    (rdflib.namespace.Namespace('http://identifiers.org/biocyc/ECOCYC:'), DS.ECOCYC),\n",
    "    (rdflib.namespace.Namespace('http://identifiers.org/biocyc/METACYC:'), DS.METACYC),\n",
    "    (rdflib.namespace.Namespace('http://purl.uniprot.org/core/'), DS.get(\"UNIPROT\")),\n",
    "    (rdflib.namespace.Namespace('http://identifiers.org/macie/'), DS.MACIE),\n",
    "    (rdflib.namespace.Namespace('http://rdf.ncbi.nlm.nih.gov/pubmed/'), DS.get(\"PUBMED\")),\n",
    "    (rdflib.namespace.Namespace('http://identifiers.org/reactome/'), DS.REACT),\n",
    "]\n",
    "\n",
    "def uri_to_xref(uri):\n",
    "    for ns, db in nsmap:\n",
    "        if uri in ns:\n",
    "            return DbXref(db=db, id=uri.removeprefix(ns))\n",
    "    return uri"
   ]
  },
  {
   "cell_type": "markdown",
   "id": "5626b11e",
   "metadata": {},
   "source": [
    "## Explore the structure a bit"
   ]
  },
  {
   "cell_type": "code",
   "execution_count": 12,
   "id": "bd226741-4b0a-4536-8ff5-ce9faf114206",
   "metadata": {},
   "outputs": [],
   "source": [
    "def show(s):\n",
    "    for p, o in rhea_rdf[s]:\n",
    "        if type(o) == rdflib.Literal:\n",
    "            print((p.n3(rhea_rdf.namespace_manager), o.toPython()))\n",
    "        elif o in rhea_rdf.namespace_manager:\n",
    "            print((p.n3(rhea_rdf.namespace_manager), o.n3(rhea_rdf.namespace_manager)))\n",
    "        else:\n",
    "            print((p.n3(rhea_rdf.namespace_manager), uri_to_xref(o)))"
   ]
  },
  {
   "cell_type": "code",
   "execution_count": 13,
   "id": "21bb22ef-7976-4acb-aa58-1aac455fd6e3",
   "metadata": {},
   "outputs": [
    {
     "name": "stdout",
     "output_type": "stream",
     "text": [
      "('RDFS:subClassOf', 'RH:Reaction')\n",
      "('RH:id', 16109)\n",
      "('RH:accession', 'RHEA:16109')\n",
      "('RDFS:label', 'ATP + beta-D-fructose 6-phosphate = ADP + beta-D-fructose 1,6-bisphosphate + H(+)')\n",
      "('RH:equation', 'ATP + beta-D-fructose 6-phosphate = ADP + beta-D-fructose 1,6-bisphosphate + H(+)')\n",
      "('RH:htmlEquation', 'ATP + &#946;-<small>D</small>-fructose 6-phosphate = ADP + &#946;-<small>D</small>-fructose 1,6-bisphosphate + H<small><sup>+</sup></small>')\n",
      "('RH:status', 'RH:Approved')\n",
      "('RH:directionalReaction', 'RH:16110')\n",
      "('RH:directionalReaction', 'RH:16111')\n",
      "('RH:bidirectionalReaction', 'RH:16112')\n",
      "('RH:isChemicallyBalanced', True)\n",
      "('RH:isTransport', False)\n",
      "('RH:ec', EC:2.7.1.11)\n",
      "('RDFS:seeAlso', GO:0003872)\n",
      "('RH:citation', PUBMED:4224472)\n",
      "('RH:citation', PUBMED:4248230)\n",
      "('RH:citation', PUBMED:12981037)\n",
      "('RH:citation', PUBMED:23729568)\n",
      "('RH:citation', PUBMED:26205495)\n",
      "('RH:citation', PUBMED:4237772)\n",
      "('RH:side', 'RH:16109_L')\n",
      "('RH:side', 'RH:16109_R')\n"
     ]
    }
   ],
   "source": [
    "show(RH[\"16109\"])"
   ]
  },
  {
   "cell_type": "code",
   "execution_count": 14,
   "id": "cde341e9-7e00-4be2-adb6-f625e0e49850",
   "metadata": {},
   "outputs": [
    {
     "name": "stdout",
     "output_type": "stream",
     "text": [
      "('RDFS:subClassOf', 'RH:ReactionSide')\n",
      "('RH:curatedOrder', 1)\n",
      "('RH:transformableTo', 'RH:16109_R')\n",
      "('RH:contains', 'RH:Participant_16109_compound_6372')\n",
      "('RH:contains', 'RH:Participant_16109_compound_5371')\n",
      "('RH:contains1', 'RH:Participant_16109_compound_6372')\n",
      "('RH:contains1', 'RH:Participant_16109_compound_5371')\n"
     ]
    }
   ],
   "source": [
    "show(RH[\"16109_L\"])"
   ]
  },
  {
   "cell_type": "code",
   "execution_count": 15,
   "id": "643ddd47-a3dd-429a-b90e-0e9f45164673",
   "metadata": {},
   "outputs": [
    {
     "name": "stdout",
     "output_type": "stream",
     "text": [
      "('RH:compound', 'RH:Compound_6372')\n",
      "('RDFS:subClassOf', 'RH:Compound_6372')\n",
      "('RDFS:subClassOf', 'RH:ReactionParticipant')\n"
     ]
    }
   ],
   "source": [
    "show(RH[\"Participant_16109_compound_6372\"])"
   ]
  },
  {
   "cell_type": "code",
   "execution_count": 16,
   "id": "82c2d662-5312-4903-9f75-104cb1e06f90",
   "metadata": {},
   "outputs": [
    {
     "name": "stdout",
     "output_type": "stream",
     "text": [
      "('RH:id', 6372)\n",
      "('RH:accession', 'CHEBI:30616')\n",
      "('RH:name', 'ATP')\n",
      "('RH:htmlName', 'ATP')\n",
      "('RH:formula', 'C10H12N5O13P3')\n",
      "('RH:charge', -4)\n",
      "('RDFS:subClassOf', 'RH:SmallMolecule')\n",
      "('RDFS:subClassOf', CHEBI:30616)\n",
      "('RH:chebi', CHEBI:30616)\n"
     ]
    }
   ],
   "source": [
    "show(RH[\"Compound_6372\"])"
   ]
  },
  {
   "cell_type": "markdown",
   "id": "cda11d65-b766-4e3f-b91f-2a902eadd98a",
   "metadata": {},
   "source": [
    "## Extract all Compounds to corresponding ChEBI entries\n",
    "- RH.SmallMolecule: RH.chebi predicate points to a CHEBI xref\n",
    "- RH.Polymer: RH.underlyingChebi predicate points to a CHEBI xref\n",
    "- RH.GenericCompound subclasses have 1 or more RH.reactivePart, each with an RH.chebi"
   ]
  },
  {
   "cell_type": "code",
   "execution_count": 17,
   "id": "492d798e-265d-458d-80d4-bd4869bb4a74",
   "metadata": {},
   "outputs": [
    {
     "name": "stdout",
     "output_type": "stream",
     "text": [
      "13962 Compound entries resloved (11891 CHEBI, 259 POLYMER, 1812 GENERIC)\n",
      "GENERIC molecule reactive part count:\n",
      "    1: 1732\n",
      "    2: 72\n",
      "    3: 6\n",
      "    5: 2\n",
      "\n",
      "10 referenced ChEBI entries were not found.\n",
      "CPU times: user 4.54 s, sys: 386 ms, total: 4.93 s\n",
      "Wall time: 7.46 s\n"
     ]
    }
   ],
   "source": [
    "%%time\n",
    "rhea_compound = {}  # key=compound_id, value={molecule: count}\n",
    "chebi_not_found = set()\n",
    "small_mols = 0\n",
    "for compound_id in rhea_rdf.subjects(RDFS.subClassOf, RH.SmallMolecule):\n",
    "    ref = uri_to_xref(rhea_rdf.value(compound_id, RH.chebi).toPython())\n",
    "    mol = KB.deref(ref)\n",
    "    if mol is not None:\n",
    "        rhea_compound[compound_id] = {mol: 1}\n",
    "        small_mols += 1\n",
    "    else:\n",
    "        chebi_not_found.add(ref)\n",
    "\n",
    "polymers = 0\n",
    "for compound_id in rhea_rdf.subjects(RDFS.subClassOf, RH.Polymer):\n",
    "    ref = uri_to_xref(rhea_rdf.value(compound_id, RH.underlyingChebi).toPython())\n",
    "    mol = KB.deref(ref)\n",
    "    if mol is not None:\n",
    "        rhea_compound[compound_id] = {mol: 1}\n",
    "        polymers += 1\n",
    "    else:\n",
    "        chebi_not_found.add(ref)\n",
    "\n",
    "generics = collections.Counter()\n",
    "generic_ids = []\n",
    "for gtype in rhea_rdf.subjects(RDFS.subClassOf, RH.GenericCompound):\n",
    "    generic_ids.extend(rhea_rdf.subjects(RDFS.subClassOf, gtype))\n",
    "for compound_id in generic_ids:\n",
    "    refs = []\n",
    "    for part in rhea_rdf.objects(compound_id, RH.reactivePart):\n",
    "        refs.append(uri_to_xref(rhea_rdf.value(part, RH.chebi).toPython()))\n",
    "            \n",
    "    mols = [KB.deref(ref) for ref in refs]\n",
    "    if all(mol is not None for mol in mols):\n",
    "        rhea_compound[compound_id] = dict(collections.Counter(mols))\n",
    "        generics.update({len(mols): 1})\n",
    "    else:\n",
    "        for ref, mol in zip(refs, mols):\n",
    "            if mol is None:\n",
    "                chebi_not_found.add(ref)\n",
    "\n",
    "print(f'{len(rhea_compound)} Compound entries resloved'\n",
    "      f' ({small_mols} CHEBI, {polymers} POLYMER, {sum(generics.values())} GENERIC)')\n",
    "print(f'GENERIC molecule reactive part count:')\n",
    "for k in sorted(generics.keys()):\n",
    "    print(f'    {k}: {generics[k]}')\n",
    "print()\n",
    "print(f'{len(chebi_not_found)} referenced ChEBI entries were not found.')\n"
   ]
  },
  {
   "cell_type": "markdown",
   "id": "a53ae2c2-c2e6-4659-bdb9-50052f61b735",
   "metadata": {},
   "source": [
    "The missing ChEBI entries all have a status of 'E', i.e. it exists but has not progressed beyond that. Given the small number, vs the large number of 'E' entries that would clutter up our KB, we will skip these."
   ]
  },
  {
   "cell_type": "markdown",
   "id": "17385ad1-f6d8-4a78-be9e-9c5007cbfd22",
   "metadata": {},
   "source": [
    "## Extract all Reactions"
   ]
  },
  {
   "cell_type": "code",
   "execution_count": 18,
   "id": "4cc3b3a6-eb54-4aa9-9a08-a0ad8aff2499",
   "metadata": {},
   "outputs": [],
   "source": [
    "# Simplify funky containsXXX predicates. But ignore N, 2n, etc\n",
    "contains_count = {}\n",
    "for verb in rhea_rdf.subjects(RDFS.subPropertyOf, RH.contains):\n",
    "    count = rhea_rdf.value(verb, RH.coefficient).toPython()\n",
    "    if count.isdigit():\n",
    "        contains_count[verb] = int(count)\n",
    "    else:\n",
    "        contains_count[verb] = None\n",
    "\n",
    "def extract_stoichiometry(rxn_id):\n",
    "    stoichiometry = collections.Counter()\n",
    "    for side_id in rhea_rdf.objects(rxn_id, RH.side):\n",
    "        multiplier = -1 if rhea_rdf.value(side_id, RH.curatedOrder).toPython() == 1 else 1\n",
    "        for p, o in rhea_rdf[side_id]:\n",
    "            if p in contains_count:\n",
    "                count = contains_count[p]\n",
    "                if count is None:\n",
    "                    raise ValueError(f\"<STOICH> {rxn_id.n3(rhea_rdf.namespace_manager)} has unsupported count\")\n",
    "\n",
    "                compound_id = rhea_rdf.value(o, RH.compound)\n",
    "                if compound_id in rhea_compound:\n",
    "                    stoichiometry.update({\n",
    "                        k: v * multiplier\n",
    "                        for k, v in rhea_compound[compound_id].items()\n",
    "                    })\n",
    "                else:\n",
    "                    raise ValueError(f\"<NOCHEBI> {rxn_id.n3(rhea_rdf.namespace_manager)} references missing ChEBI ids\")\n",
    "    return dict(stoichiometry)\n",
    "\n",
    "def rxn_xrefs(rxn_id):\n",
    "    if rxn_id is None:\n",
    "        return\n",
    "    for ec in rhea_rdf.objects(rxn_id, RH.ec):\n",
    "        xref = uri_to_xref(ec)\n",
    "        if type(xref) == DbXref:\n",
    "            yield xref\n",
    "        else:\n",
    "            raise ValueError(f\"<EC> {rxn_id} has unexpected EC value: {ec}\")\n",
    "    for seealso in rhea_rdf.objects(rxn_id, RDFS.seeAlso):\n",
    "        xref = uri_to_xref(seealso)\n",
    "        if type(xref) == DbXref:\n",
    "            yield xref\n",
    "        else:\n",
    "            raise ValueError(f\"<SEEALSO> {rxn_id} has unexpected seeAlso: {seealso}\")\n",
    "    \n",
    "def extract_reaction(rxn_id):\n",
    "    stoichiometry = extract_stoichiometry(rxn_id)\n",
    "\n",
    "    # Lump together all of the quartet's xrefs -- not rigorous by RHEA standards, but reasonable for us.\n",
    "    xrefs = set(rxn_xrefs(rxn_id))\n",
    "    for subrxn in rhea_rdf.objects(rxn_id, RH.directionalReaction):\n",
    "        xrefs.update(rxn_xrefs(subrxn))\n",
    "    xrefs.update(rxn_xrefs(rhea_rdf.value(rxn_id, RH.bidirectionalReaction)))\n",
    "\n",
    "    # RHEA does not provide nice names on its own; get the name from EC if possible\n",
    "    ec_nums = [xref for xref in xrefs if xref.db == DS.EC]\n",
    "    if ec_nums:\n",
    "        ec_entry = KB.deref(ec_nums[0])\n",
    "        if ec_entry is None:\n",
    "            raise ValueError(f\"<EC> EC entry {ec_nums[0]} is missing\")\n",
    "\n",
    "        name = ec_entry.name\n",
    "        # Mark names as ambiguous where there are multiple ECs.\n",
    "        if len(ec_nums) > 1:\n",
    "            name = '* ' + name\n",
    "    else:\n",
    "        # Fallback: use the RHEA-provided label, which is just the reaction formula.\n",
    "        name = rhea_rdf.value(rxn_id, RDFS.label).toPython()\n",
    "\n",
    "    # Heuristic: if the bidirectional reaction has a cross-ref, or both the directional ones do, we infer reversibility\n",
    "    reversible = (\n",
    "        (rhea_rdf.value(rhea_rdf.value(rxn_id, RH.bidirectionalReaction), RDFS.seeAlso) is not None) or\n",
    "        all(rhea_rdf.value(dir_id, RDFS.seeAlso) is not None\n",
    "            for dir_id in rhea_rdf.value(rxn_id, RH.directionalReaction))\n",
    "    )\n",
    "\n",
    "    return Reaction(\n",
    "        id = rxn_id.removeprefix(RH),\n",
    "        db = DS.RHEA,\n",
    "        name = name,\n",
    "        xrefs = xrefs or None,\n",
    "        stoichiometry = stoichiometry,\n",
    "        reversible = reversible,\n",
    "    )"
   ]
  },
  {
   "cell_type": "code",
   "execution_count": 19,
   "id": "3257078b-6549-433d-8f7b-d343079f12c2",
   "metadata": {},
   "outputs": [
    {
     "name": "stdout",
     "output_type": "stream",
     "text": [
      "16766 of 17250 reactions successfully extracted.\n",
      "Failures:\n",
      "  <STOICH>  :    75\n",
      "  <NOCHEBI> :    16\n",
      "\n",
      "Skipped:\n",
      "  RH:Obsolete: 280\n",
      "  RH:Preliminary: 113\n",
      "CPU times: user 6.66 s, sys: 125 ms, total: 6.78 s\n",
      "Wall time: 8.22 s\n"
     ]
    }
   ],
   "source": [
    "%%time\n",
    "rxns = {}\n",
    "skipped = collections.Counter()\n",
    "fail = collections.defaultdict(dict)\n",
    "\n",
    "for rxn_id in reaction_ids:\n",
    "    if rhea_rdf.value(rxn_id, RH.status) == RH.Approved:\n",
    "        try:\n",
    "            rxn = extract_reaction(rxn_id)\n",
    "            rxns[rxn.id] = rxn\n",
    "        except ValueError as e:\n",
    "            group, _ = e.args[0].split(maxsplit=1)\n",
    "            fail[group][rxn_id] = e\n",
    "    else:\n",
    "        skipped.update({rhea_rdf.value(rxn_id, RH.status).n3(rhea_rdf.namespace_manager): 1})\n",
    "\n",
    "print(f\"{len(rxns)} of {len(reaction_ids)} reactions successfully extracted.\")\n",
    "print(\"Failures:\")\n",
    "for group, fails in fail.items():\n",
    "    print(f\"  {group:10}: {len(fails):>5d}\")\n",
    "print()\n",
    "print(\"Skipped:\")\n",
    "for status, count in skipped.items():\n",
    "    print(f\"  {status}: {count}\")\n"
   ]
  },
  {
   "cell_type": "markdown",
   "id": "8f1240a5-f431-4b31-a3f4-1a02b6e64ab4",
   "metadata": {},
   "source": [
    "### Failure Summary:\n",
    "- \\<NOCHEBI>: Reactions referencing any of the missing ChEBI entries discussed above.\n",
    "- \\<STOICH>: Reactions using stoichiometries such as N, Nplus1, 2n, etc. These will likely be relevant for cases such as fatty-acid biosynthesis. Defer until we have a systematic way to represent them in the knowledge base.\n",
    "    - A pragmatic approach might be to set n=2 (so n, n-1, n+1, and 2n are all valid), and then mark in the description that we did this. Or n=100, which puts it outside the range of all the other 'contains' predicates.\n",
    "- Skipped: Working as intended.\n",
    "\n",
    "Acceptable."
   ]
  },
  {
   "cell_type": "markdown",
   "id": "1c1a483b",
   "metadata": {},
   "source": [
    "## Uncomment this cell to write RHEA to the DB"
   ]
  },
  {
   "cell_type": "code",
   "execution_count": 20,
   "id": "f3c0c4ca",
   "metadata": {
    "tags": []
   },
   "outputs": [
    {
     "name": "stdout",
     "output_type": "stream",
     "text": [
      "Success\n",
      "CPU times: user 4.33 s, sys: 338 ms, total: 4.67 s\n",
      "Wall time: 7.56 s\n"
     ]
    }
   ],
   "source": [
    "# %%time\n",
    "# collection = KB.client[KB.RHEA.client_db][KB.RHEA.collection]\n",
    "# collection.drop()\n",
    "# for reaction in rxns.values():\n",
    "#     KB.put(KB.RHEA, reaction, bypass_cache=True)\n",
    "# collection.create_index('name', name='name', collation=pymongo.collation.Collation(locale='en_US', strength=1))\n",
    "# collection.create_index([('xrefs.id', pymongo.ASCENDING), ('xrefs.db', pymongo.ASCENDING)],\n",
    "#                         name='xrefs',\n",
    "#                         collation=pymongo.collation.Collation(locale='en_US', strength=1))\n",
    "# print(\"Success\")"
   ]
  }
 ],
 "metadata": {
  "kernelspec": {
   "display_name": "Python 3 (ipykernel)",
   "language": "python",
   "name": "python3"
  },
  "language_info": {
   "codemirror_mode": {
    "name": "ipython",
    "version": 3
   },
   "file_extension": ".py",
   "mimetype": "text/x-python",
   "name": "python",
   "nbconvert_exporter": "python",
   "pygments_lexer": "ipython3",
   "version": "3.11.2"
  }
 },
 "nbformat": 4,
 "nbformat_minor": 5
}
