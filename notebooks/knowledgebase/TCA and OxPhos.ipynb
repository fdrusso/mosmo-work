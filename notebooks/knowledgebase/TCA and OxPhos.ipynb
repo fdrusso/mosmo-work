{
 "cells": [
  {
   "cell_type": "markdown",
   "id": "0eaa6b7a-2918-4a97-b2a7-438f21a47489",
   "metadata": {},
   "source": [
    "# Construct TCA and OxPhos Pathways and Diagrams\n",
    "__Notes__\n",
    "- We use ChEBI as the origin for most metabolite definitions\n",
    "  - No access or licensing restrictions\n",
    "  - The precision and granularity we need, e.g. in terms of protonation states, isomeric forms, etc\n",
    "- Likewise, RHEA is the origin for reaction definitions.\n",
    "- However, those sources themselves do not serve our overall goals. So we construct and refine canonical KB versions of all the relevant items. The path is\n",
    "> EC number -> RHEA reaction -> ChEBI compound -> KB compound -> KB reaction\n",
    "- Start with EC numbers pulled from reference sources.\n",
    "  - The starting lists are fairly inclusive, so we may be selective about what we include in any final pathways."
   ]
  },
  {
   "cell_type": "code",
   "execution_count": 1,
   "id": "ccf12407",
   "metadata": {
    "tags": []
   },
   "outputs": [],
   "source": [
    "import collections\n",
    "import copy\n",
    "from importlib.resources import files\n",
    "from ipydatagrid import DataGrid\n",
    "import json\n",
    "import pandas as pd\n",
    "from IPython.display import SVG, display\n",
    "\n",
    "from mosmo.knowledge import kb\n",
    "from mosmo.model import DS, DbXref, KbEntry, Molecule, Reaction, Pathway, Specialization, Variation\n",
    "from mosmo.preso.escher import escher_map, escher_model\n",
    "\n",
    "import edit_tasks\n",
    "\n",
    "# Data files are resources in the `data` package.\n",
    "import data\n",
    "def datafile(filename):\n",
    "    return files(data).joinpath(filename)\n",
    "\n",
    "KB = kb.configure_kb()"
   ]
  },
  {
   "cell_type": "markdown",
   "id": "53aff83a",
   "metadata": {},
   "source": [
    "## TCA"
   ]
  },
  {
   "cell_type": "markdown",
   "id": "83c2ffe4-47b9-44be-ae67-b9c48e175e1a",
   "metadata": {},
   "source": [
    "### Collect RHEA reactions cross-referenced to EC numbers"
   ]
  },
  {
   "cell_type": "code",
   "execution_count": 2,
   "id": "3e33fe40-919a-41a9-b588-778987904561",
   "metadata": {},
   "outputs": [
    {
     "name": "stdout",
     "output_type": "stream",
     "text": [
      "Collected 20 reactions on 32 molecules\n"
     ]
    }
   ],
   "source": [
    "tca_rhea, tca_chebi = edit_tasks.collect_reference_objects(datafile('tca.txt'), KB, KB.RHEA)\n",
    "print(f'Collected {len(tca_rhea)} reactions on {len(tca_chebi)} molecules')"
   ]
  },
  {
   "cell_type": "markdown",
   "id": "fc2ef250-1fd9-48bf-9c8d-278652672038",
   "metadata": {},
   "source": [
    "### Manually curate KB compounds\n",
    "- Assign or edit kbid, name, akas, shorthand, and xrefs\n",
    "- Generally, any new entry inherits anything it can from the ChEBI entry\n",
    "- Manually mark KB entries to be updated"
   ]
  },
  {
   "cell_type": "code",
   "execution_count": 3,
   "id": "9614d07d-379b-4409-9074-d8adf2992d09",
   "metadata": {},
   "outputs": [
    {
     "name": "stdout",
     "output_type": "stream",
     "text": [
      "32 molecules to edit, 30 mapped to existing KB molecules\n"
     ]
    },
    {
     "data": {
      "application/vnd.jupyter.widget-view+json": {
       "model_id": "1617e9d80d944b569ef9555b86e0dee9",
       "version_major": 2,
       "version_minor": 0
      },
      "text/plain": [
       "DataGrid(auto_fit_params={'area': 'all', 'padding': 30, 'numCols': None}, corner_renderer=None, default_render…"
      ]
     },
     "metadata": {},
     "output_type": "display_data"
    }
   ],
   "source": [
    "tasks = edit_tasks.build_mol_edit_tasks(tca_chebi, KB, KB.compounds)\n",
    "print(f'{len(tasks)} molecules to edit, {len([task for task in tasks if task.kb_mol.id])} mapped to existing KB molecules')\n",
    "mol_edit_grid = edit_tasks.MolEditGrid(tasks)\n",
    "display(mol_edit_grid.grid)"
   ]
  },
  {
   "cell_type": "code",
   "execution_count": 4,
   "id": "5e202962-a3c3-4392-ac73-b674b5a82281",
   "metadata": {},
   "outputs": [],
   "source": [
    "for task in mol_edit_grid.tasks:\n",
    "    if task.defunct_kb_id:\n",
    "        print(\"Defunct: \" + task.defunct_kb_id)\n",
    "    if task.dirty:\n",
    "        print(task.kb_mol)\n",
    "        KB.put(KB.compounds, task.kb_mol)\n",
    "        task.dirty = False\n",
    "\n",
    "tca_kb_mols = [task.kb_mol for task in mol_edit_grid.tasks if task.kb_mol.id]"
   ]
  },
  {
   "cell_type": "markdown",
   "id": "f8eaf8ff-7488-4332-a287-0587dd5983a6",
   "metadata": {},
   "source": [
    "### Build KB versions of all reactions"
   ]
  },
  {
   "cell_type": "code",
   "execution_count": 5,
   "id": "ee0195b0-c904-4e97-8312-12e1e1892131",
   "metadata": {},
   "outputs": [
    {
     "name": "stdout",
     "output_type": "stream",
     "text": [
      "19 reactions to edit, 18 mapped to existing KB reactions\n",
      "Skipped: [75711] succinate dehydrogenase\n"
     ]
    },
    {
     "data": {
      "application/vnd.jupyter.widget-view+json": {
       "model_id": "6defe0eac54347f7ba7bac4b2dfeb089",
       "version_major": 2,
       "version_minor": 0
      },
      "text/plain": [
       "DataGrid(auto_fit_params={'area': 'all', 'padding': 30, 'numCols': None}, corner_renderer=None, default_render…"
      ]
     },
     "metadata": {},
     "output_type": "display_data"
    }
   ],
   "source": [
    "tasks, skipped = edit_tasks.build_rxn_edit_tasks(tca_rhea, KB, KB.reactions, KB.compounds)\n",
    "print(f'{len(tasks)} reactions to edit, {len([task for task in tasks if task.kb_rxn.id])} mapped to existing KB reactions')\n",
    "for rhea_rxn in skipped:\n",
    "    print(f'Skipped: [{rhea_rxn.id}] {rhea_rxn.name}')\n",
    "\n",
    "rxn_edit_grid = edit_tasks.RxnEditGrid(tasks)\n",
    "display(rxn_edit_grid.grid)"
   ]
  },
  {
   "cell_type": "code",
   "execution_count": 6,
   "id": "d2641f39-a6af-4ed8-b0f4-0f95950b1f75",
   "metadata": {
    "tags": []
   },
   "outputs": [],
   "source": [
    "for task in rxn_edit_grid.tasks:\n",
    "    if task.defunct_kb_id:\n",
    "        print(\"Defunct: \" + task.defunct_kb_id)\n",
    "    if task.dirty:\n",
    "        print(task.kb_rxn)\n",
    "        KB.put(KB.reactions, task.kb_rxn)\n",
    "        task.dirty = False\n",
    "\n",
    "tca_kb_rxns = [task.kb_rxn for task in rxn_edit_grid.tasks if task.kb_rxn.id]"
   ]
  },
  {
   "cell_type": "markdown",
   "id": "4be72a92-7c42-4a1a-bfd8-c7b9ee61c4dd",
   "metadata": {},
   "source": [
    "## Oxidative Phosphorylation"
   ]
  },
  {
   "cell_type": "code",
   "execution_count": 7,
   "id": "3ce32c8c-cff9-4864-ba3c-26e506c50508",
   "metadata": {},
   "outputs": [
    {
     "name": "stdout",
     "output_type": "stream",
     "text": [
      "Collected 20 reactions on 32 molecules\n",
      "12 molecules to edit, 12 mapped to existing KB molecules\n"
     ]
    },
    {
     "data": {
      "application/vnd.jupyter.widget-view+json": {
       "model_id": "aa140d1eb74c445fb8328e65a23b6d2c",
       "version_major": 2,
       "version_minor": 0
      },
      "text/plain": [
       "DataGrid(auto_fit_params={'area': 'all', 'padding': 30, 'numCols': None}, corner_renderer=None, default_render…"
      ]
     },
     "metadata": {},
     "output_type": "display_data"
    }
   ],
   "source": [
    "oxphos_rhea, oxphos_chebi = edit_tasks.collect_reference_objects(datafile('etc_oxphos.txt'), KB, KB.RHEA)\n",
    "print(f'Collected {len(tca_rhea)} reactions on {len(tca_chebi)} molecules')\n",
    "\n",
    "tasks = edit_tasks.build_mol_edit_tasks(oxphos_chebi, KB, KB.compounds)\n",
    "print(f'{len(tasks)} molecules to edit, {len([task for task in tasks if task.kb_mol.id])} mapped to existing KB molecules')\n",
    "mol_edit_grid = edit_tasks.MolEditGrid(tasks)\n",
    "display(mol_edit_grid.grid)"
   ]
  },
  {
   "cell_type": "code",
   "execution_count": 8,
   "id": "6a158706-3242-4741-9430-cac548231cfc",
   "metadata": {},
   "outputs": [],
   "source": [
    "for task in mol_edit_grid.tasks:\n",
    "    if task.defunct_kb_id:\n",
    "        print(\"Defunct: \" + task.defunct_kb_id)\n",
    "    if task.dirty:\n",
    "        print(task.kb_mol)\n",
    "        KB.put(KB.compounds, task.kb_mol)\n",
    "        task.dirty = False\n",
    "\n",
    "oxphos_kb_mols = [task.kb_mol for task in mol_edit_grid.tasks if task.kb_mol.id]"
   ]
  },
  {
   "cell_type": "markdown",
   "id": "b12eeb67-f0e7-4660-8b4c-1560451cc8f0",
   "metadata": {},
   "source": [
    "*Curation Note:*\n",
    "\n",
    "ChEBI does not differentiate by compartment, _i.e._ there is no separate entry for H+[e]. RHEA resolves this with its own structure to define separate pools, but they map to the same ChEBI entries. As a result, the left and right sides of the reaction cancel out and the stoichiometry is incorrect.\n",
    "\n",
    "For the KB reactions below we have manually edited the stoichiometry to match the intent. This is not necessarily scalable though, so we will need a more systematic way to handle things if _e.g._ we want to import a large number of transport reactions. TBD."
   ]
  },
  {
   "cell_type": "code",
   "execution_count": 9,
   "id": "b751a0b1-a2a1-404f-bfb4-be51a81ff582",
   "metadata": {},
   "outputs": [
    {
     "name": "stdout",
     "output_type": "stream",
     "text": [
      "6 reactions to edit, 6 mapped to existing KB reactions\n"
     ]
    },
    {
     "data": {
      "application/vnd.jupyter.widget-view+json": {
       "model_id": "2f958d1ca1284157bcf36834a633649f",
       "version_major": 2,
       "version_minor": 0
      },
      "text/plain": [
       "DataGrid(auto_fit_params={'area': 'all', 'padding': 30, 'numCols': None}, corner_renderer=None, default_render…"
      ]
     },
     "metadata": {},
     "output_type": "display_data"
    }
   ],
   "source": [
    "tasks, skipped = edit_tasks.build_rxn_edit_tasks(oxphos_rhea, KB, KB.reactions, KB.compounds)\n",
    "print(f'{len(tasks)} reactions to edit, {len([task for task in tasks if task.kb_rxn.id])} mapped to existing KB reactions')\n",
    "for rhea_rxn in skipped:\n",
    "    print(f'Skipped: [{rhea_rxn.id}] {rhea_rxn.name}')\n",
    "\n",
    "rxn_edit_grid = edit_tasks.RxnEditGrid(tasks)\n",
    "display(rxn_edit_grid.grid)"
   ]
  },
  {
   "cell_type": "code",
   "execution_count": 10,
   "id": "c29c3161-8e5e-40b8-8323-46f284b15c86",
   "metadata": {},
   "outputs": [],
   "source": [
    "for task in rxn_edit_grid.tasks:\n",
    "    if task.defunct_kb_id:\n",
    "        print(\"Defunct: \" + task.defunct_kb_id)\n",
    "    if task.dirty:\n",
    "        print(task.kb_rxn)\n",
    "        KB.put(KB.reactions, task.kb_rxn)\n",
    "        task.dirty = False\n",
    "\n",
    "oxphos_kb_rxns = [task.kb_rxn for task in rxn_edit_grid.tasks if task.kb_rxn.id]"
   ]
  },
  {
   "cell_type": "markdown",
   "id": "ed6ec44c-c3af-45e1-9a10-6fd37271955d",
   "metadata": {},
   "source": [
    "### This writes the `model` file taken as input by escher.github.io\n",
    "- uncomment to run, of course"
   ]
  },
  {
   "cell_type": "code",
   "execution_count": 11,
   "id": "6bc62ffe-c8e5-41c8-8348-3f4f4e92cb2a",
   "metadata": {},
   "outputs": [],
   "source": [
    "# model = escher_model.escher_model('tca_oxphos', tca_kb_rxns + oxphos_kb_rxns)\n",
    "# with open('tca_oxphos.model.json', 'wt') as f:\n",
    "#     f.write(json.dumps(model))"
   ]
  },
  {
   "cell_type": "markdown",
   "id": "7ca4c83b-c7e6-4df2-b7b5-c81ed0b3ac2d",
   "metadata": {},
   "source": [
    "## Tie pathway definitions to Escher diagrams\n",
    "- Diagrams drawn using [Escher](https://escher.github.io)\n",
    "- That tool continues to work but is unfortunately not still maintained\n",
    "- To embed in notebooks we use mosmo.preso.escher.escher_map.EscherMap"
   ]
  },
  {
   "cell_type": "code",
   "execution_count": 12,
   "id": "0fc61bc6-2018-4c07-8098-4693d8c36d07",
   "metadata": {},
   "outputs": [],
   "source": [
    "def build_pathway(pwid, name=None):\n",
    "    map_json = json.loads(datafile(f'{pwid}.json').read_text())\n",
    "    diag = escher_map.EscherMap(map_json)\n",
    "\n",
    "    pw_reactions = []\n",
    "    for rnode in diag.reactions:\n",
    "        kb_rxn = KB.get(KB.reactions, rnode.reaction_id)\n",
    "        if kb_rxn:\n",
    "            pw_reactions.append(kb_rxn)\n",
    "        else:\n",
    "            print(f'{rnode.reaction_id} not found')\n",
    "\n",
    "    return Pathway(\n",
    "        id = pwid,\n",
    "        name = name or pwid,\n",
    "        reactions = pw_reactions,\n",
    "        diagram = map_json,\n",
    "    )"
   ]
  },
  {
   "cell_type": "code",
   "execution_count": 13,
   "id": "22f59ae8-a2d1-4ef5-8580-eb1d2854224e",
   "metadata": {},
   "outputs": [
    {
     "data": {
      "image/svg+xml": [
       "<svg width=\"20cm\" height=\"None\" viewBox=\"690.1 1598.4 3361.2 1854.3\"><defs><style type=\"text/css\">\n",
       "#canvas {\n",
       "  fill: #ffffff;\n",
       "  stroke: #cccccc;\n",
       "}\n",
       "text {\n",
       "  font-family: sans-serif;\n",
       "  font-style: italic;\n",
       "  font-weight: bold;\n",
       "  stroke: none;\n",
       "  text-rendering: optimizelegibility;\n",
       "}\n",
       "#reactions text {\n",
       "  font-size: 30px;\n",
       "  fill: #334e75;\n",
       "}\n",
       "#reactions text.stoich {\n",
       "  font-size: 12px;\n",
       "}\n",
       "#metabolites text {\n",
       "  font-size: 20px;\n",
       "  fill: black;\n",
       "}\n",
       "#reactions {\n",
       "  fill: none;\n",
       "  stroke: #334e75;\n",
       "  stroke-width: 10;\n",
       "}\n",
       "#reactions.data {\n",
       "  stroke: #eeeeee;  /* default overridden by reaction_scale */\n",
       "}\n",
       "#reactions .arrowhead {\n",
       "  fill: #334e75;\n",
       "  stroke: none;\n",
       "}\n",
       "#reactions.data .arrowhead {\n",
       "  fill: #eeeeee;  /* default overridden by reaction_scale */\n",
       "}\n",
       "#metabolites {\n",
       "  fill: #e0865b;\n",
       "  stroke: #a24510;\n",
       "  stroke-width: 2;\n",
       "}\n",
       "#metabolites.data {\n",
       "  fill: #eeeeee;  /* default overridden by metabolite_scale */\n",
       "  stroke: none;\n",
       "}\n",
       "</style></defs><g id=\"eschermap\"><rect id=\"canvas\" x=\"690.1\" y=\"1598.4\" width=\"3361.2\" height=\"1854.3\"/><g id=\"reactions\"><g name=\"pps\"><path d=\"M 977.0 2574.0 L 977.0 2554.0\"/><path d=\"M 977.0 2534.0 L 977.0 2554.0\"/><path d=\"M 977.0 2574.0 C 977.0 2620.0 961.0 2627.0 915.7 2649.3\"/><path d=\"M 977.0 2574.0 C 965.0 2607.0 937.0 2595.0 923.9 2587.2\"/><path d=\"M 977.0 2574.0 C 977.0 2632.0 1028.0 2670.0 1071.0 2705.8\"/><g><path d=\"M 977.0 2534.0 C 977.0 2488.0 962.0 2477.0 925.5 2461.5\"/><g class=\"arrowhead\" transform=\"translate(925.5, 2461.5) rotate(-157)\"><path d=\"M 0 -10 L 13 0 L 0 10 Z\" transform=\"translate(-3)\"/></g></g><g><path d=\"M 977.0 2534.0 C 972.0 2491.0 905.0 2480.0 871.3 2487.3\"/><g class=\"arrowhead\" transform=\"translate(871.3, 2487.3) rotate(168)\"><path d=\"M 0 -10 L 13 0 L 0 10 Z\" transform=\"translate(-3)\"/></g></g><g><path d=\"M 977.0 2534.0 C 978.0 2475.0 1027.0 2434.0 1064.0 2401.4\"/><g class=\"arrowhead\" transform=\"translate(1064.0, 2401.4) rotate(-41)\"><path d=\"M 0 -10 L 13 0 L 0 10 Z\" transform=\"translate(-3)\"/></g></g><text x=\"992.0\" y=\"2564.0\">PPS</text></g><g name=\"pdh\"><path d=\"M 1279.0 2922.0 L 1299.0 2922.0\"/><path d=\"M 1319.0 2922.0 L 1299.0 2922.0\"/><path d=\"M 1279.0 2922.0 C 1233.0 2921.0 1197.0 2941.0 1148.6 2959.2\"/><path d=\"M 1279.0 2922.0 C 1233.0 2921.0 1228.0 2891.0 1214.3 2861.9\"/><path d=\"M 1279.0 2922.0 C 1237.0 2921.0 1098.0 2924.0 1094.6 2755.0\"/><g><path d=\"M 1319.0 2922.0 C 1396.0 2922.0 1549.0 2922.0 1619.0 2922.0\"/><g class=\"arrowhead\" transform=\"translate(1619.0, 2922.0) rotate(0)\"><path d=\"M 0 -10 L 13 0 L 0 10 Z\" transform=\"translate(-3)\"/></g></g><g><path d=\"M 1319.0 2922.0 C 1371.0 2924.0 1404.0 2886.0 1415.4 2868.7\"/><g class=\"arrowhead\" transform=\"translate(1415.4, 2868.7) rotate(-57)\"><path d=\"M 0 -10 L 13 0 L 0 10 Z\" transform=\"translate(-3)\"/></g></g><g><path d=\"M 1319.0 2922.0 C 1339.0 2920.0 1356.0 2891.0 1355.2 2871.0\"/><g class=\"arrowhead\" transform=\"translate(1355.2, 2871.0) rotate(-92)\"><path d=\"M 0 -10 L 13 0 L 0 10 Z\" transform=\"translate(-3)\"/></g></g><text x=\"1270.0\" y=\"2984.0\">PDH</text></g><g name=\"pyk\"><path d=\"M 1208.0 2573.0 L 1208.0 2553.0\"/><path d=\"M 1208.0 2533.0 L 1208.0 2553.0\"/><g><path d=\"M 1208.0 2573.0 C 1208.0 2619.0 1226.0 2624.0 1259.9 2642.6\"/><g class=\"arrowhead\" transform=\"translate(1259.9, 2642.6) rotate(29)\"><path d=\"M 0 -10 L 13 0 L 0 10 Z\" transform=\"translate(-3)\"/></g></g><g><path d=\"M 1208.0 2573.0 C 1209.0 2630.0 1162.0 2668.0 1124.7 2699.3\"/><g class=\"arrowhead\" transform=\"translate(1124.7, 2699.3) rotate(140)\"><path d=\"M 0 -10 L 13 0 L 0 10 Z\" transform=\"translate(-3)\"/></g></g><g><path d=\"M 1208.0 2533.0 C 1208.0 2487.0 1225.0 2490.0 1255.4 2469.8\"/><g class=\"arrowhead\" transform=\"translate(1255.4, 2469.8) rotate(-34)\"><path d=\"M 0 -10 L 13 0 L 0 10 Z\" transform=\"translate(-3)\"/></g></g><g><path d=\"M 1208.0 2533.0 C 1208.0 2475.0 1161.0 2437.0 1123.4 2402.2\"/><g class=\"arrowhead\" transform=\"translate(1123.4, 2402.2) rotate(-137)\"><path d=\"M 0 -10 L 13 0 L 0 10 Z\" transform=\"translate(-3)\"/></g></g><text x=\"1131.0\" y=\"2563.0\">PYK</text></g><g name=\"icd\"><path d=\"M 3354.0 3097.0 L 3373.0 3089.0\"/><path d=\"M 3391.0 3081.0 L 3373.0 3089.0\"/><g><path d=\"M 3354.0 3097.0 C 3316.0 3115.0 3199.0 3143.0 3136.0 3144.2\"/><g class=\"arrowhead\" transform=\"translate(3136.0, 3144.2) rotate(179)\"><path d=\"M 0 -10 L 13 0 L 0 10 Z\" transform=\"translate(-3)\"/></g></g><g><path d=\"M 3354.0 3097.0 C 3313.0 3116.0 3294.0 3150.0 3288.5 3181.5\"/><g class=\"arrowhead\" transform=\"translate(3288.5, 3181.5) rotate(100)\"><path d=\"M 0 -10 L 13 0 L 0 10 Z\" transform=\"translate(-3)\"/></g></g><g><path d=\"M 3391.0 3081.0 C 3429.0 3064.0 3478.0 3022.0 3512.5 2988.1\"/><g class=\"arrowhead\" transform=\"translate(3512.5, 2988.1) rotate(-45)\"><path d=\"M 0 -10 L 13 0 L 0 10 Z\" transform=\"translate(-3)\"/></g></g><g><path d=\"M 3391.0 3081.0 C 3433.0 3062.0 3455.0 3055.0 3518.1 3051.0\"/><g class=\"arrowhead\" transform=\"translate(3518.1, 3051.0) rotate(-4)\"><path d=\"M 0 -10 L 13 0 L 0 10 Z\" transform=\"translate(-3)\"/></g></g><g><path d=\"M 3391.0 3081.0 C 3433.0 3062.0 3472.0 3075.0 3483.4 3092.3\"/><g class=\"arrowhead\" transform=\"translate(3483.4, 3092.3) rotate(57)\"><path d=\"M 0 -10 L 13 0 L 0 10 Z\" transform=\"translate(-3)\"/></g></g><text x=\"3359.0\" y=\"3160.0\">ICD</text></g><g name=\"akgdh\"><path d=\"M 3684.0 2750.0 L 3691.0 2732.0\"/><path d=\"M 3699.0 2713.0 L 3691.0 2732.0\"/><g><path d=\"M 3684.0 2750.0 C 3669.0 2789.0 3601.0 2884.0 3565.8 2928.6\"/><g class=\"arrowhead\" transform=\"translate(3565.8, 2928.6) rotate(128)\"><path d=\"M 0 -10 L 13 0 L 0 10 Z\" transform=\"translate(-3)\"/></g></g><g><path d=\"M 3684.0 2750.0 C 3667.0 2793.0 3676.0 2843.0 3694.1 2898.6\"/><g class=\"arrowhead\" transform=\"translate(3694.1, 2898.6) rotate(72)\"><path d=\"M 0 -10 L 13 0 L 0 10 Z\" transform=\"translate(-3)\"/></g></g><g><path d=\"M 3684.0 2750.0 C 3667.0 2793.0 3718.0 2827.0 3738.5 2833.4\"/><g class=\"arrowhead\" transform=\"translate(3738.5, 2833.4) rotate(17)\"><path d=\"M 0 -10 L 13 0 L 0 10 Z\" transform=\"translate(-3)\"/></g></g><g><path d=\"M 3699.0 2713.0 C 3715.0 2670.0 3766.0 2639.0 3838.2 2610.7\"/><g class=\"arrowhead\" transform=\"translate(3838.2, 2610.7) rotate(-21)\"><path d=\"M 0 -10 L 13 0 L 0 10 Z\" transform=\"translate(-3)\"/></g></g><g><path d=\"M 3699.0 2713.0 C 3715.0 2670.0 3747.0 2675.0 3774.4 2679.2\"/><g class=\"arrowhead\" transform=\"translate(3774.4, 2679.2) rotate(9)\"><path d=\"M 0 -10 L 13 0 L 0 10 Z\" transform=\"translate(-3)\"/></g></g><g><path d=\"M 3699.0 2713.0 C 3714.0 2674.0 3724.0 2599.0 3725.0 2555.0\"/><g class=\"arrowhead\" transform=\"translate(3725.0, 2555.0) rotate(-89)\"><path d=\"M 0 -10 L 13 0 L 0 10 Z\" transform=\"translate(-3)\"/></g></g><text x=\"3728.0\" y=\"2773.0\">AKGDH</text></g><g name=\"succoasyn\"><path d=\"M 3684.0 2257.0 L 3692.0 2276.0\"/><path d=\"M 3699.0 2294.0 L 3692.0 2276.0\"/><g><path d=\"M 3684.0 2257.0 C 3667.0 2214.0 3704.0 2184.0 3729.5 2173.3\"/><g class=\"arrowhead\" transform=\"translate(3729.5, 2173.3) rotate(-23)\"><path d=\"M 0 -10 L 13 0 L 0 10 Z\" transform=\"translate(-3)\"/></g></g><g><path d=\"M 3684.0 2257.0 C 3667.0 2214.0 3679.0 2157.0 3706.9 2113.0\"/><g class=\"arrowhead\" transform=\"translate(3706.9, 2113.0) rotate(-58)\"><path d=\"M 0 -10 L 13 0 L 0 10 Z\" transform=\"translate(-3)\"/></g></g><g><path d=\"M 3684.0 2257.0 C 3669.0 2218.0 3612.0 2126.0 3572.2 2094.0\"/><g class=\"arrowhead\" transform=\"translate(3572.2, 2094.0) rotate(-141)\"><path d=\"M 0 -10 L 13 0 L 0 10 Z\" transform=\"translate(-3)\"/></g></g><g><path d=\"M 3699.0 2294.0 C 3716.0 2337.0 3760.0 2365.0 3802.0 2363.3\"/><g class=\"arrowhead\" transform=\"translate(3802.0, 2363.3) rotate(-2)\"><path d=\"M 0 -10 L 13 0 L 0 10 Z\" transform=\"translate(-3)\"/></g></g><g><path d=\"M 3699.0 2294.0 C 3716.0 2337.0 3767.0 2335.0 3799.1 2306.3\"/><g class=\"arrowhead\" transform=\"translate(3799.1, 2306.3) rotate(-42)\"><path d=\"M 0 -10 L 13 0 L 0 10 Z\" transform=\"translate(-3)\"/></g></g><g><path d=\"M 3699.0 2294.0 C 3715.0 2333.0 3725.0 2417.0 3725.6 2475.0\"/><g class=\"arrowhead\" transform=\"translate(3725.6, 2475.0) rotate(89)\"><path d=\"M 0 -10 L 13 0 L 0 10 Z\" transform=\"translate(-3)\"/></g></g><text x=\"3727.0\" y=\"2268.0\">SCS</text></g><g name=\"sdh\"><path d=\"M 3382.0 1953.0 L 3364.0 1944.0\"/><path d=\"M 3346.0 1935.0 L 3364.0 1944.0\"/><g><path d=\"M 3382.0 1953.0 C 3423.0 1973.0 3436.0 1959.0 3467.2 1936.0\"/><g class=\"arrowhead\" transform=\"translate(3467.2, 1936.0) rotate(-36)\"><path d=\"M 0 -10 L 13 0 L 0 10 Z\" transform=\"translate(-3)\"/></g></g><g><path d=\"M 3382.0 1953.0 C 3420.0 1971.0 3476.0 2016.0 3510.0 2043.7\"/><g class=\"arrowhead\" transform=\"translate(3510.0, 2043.7) rotate(39)\"><path d=\"M 0 -10 L 13 0 L 0 10 Z\" transform=\"translate(-3)\"/></g></g><g><path d=\"M 3346.0 1935.0 C 3304.0 1916.0 3300.0 1876.0 3301.4 1858.9\"/><g class=\"arrowhead\" transform=\"translate(3301.4, 1858.9) rotate(-85)\"><path d=\"M 0 -10 L 13 0 L 0 10 Z\" transform=\"translate(-3)\"/></g></g><g><path d=\"M 3346.0 1935.0 C 3308.0 1917.0 3191.0 1884.0 3136.0 1884.6\"/><g class=\"arrowhead\" transform=\"translate(3136.0, 1884.6) rotate(179)\"><path d=\"M 0 -10 L 13 0 L 0 10 Z\" transform=\"translate(-3)\"/></g></g><text x=\"3356.0\" y=\"1913.0\">SDH</text></g><g name=\"fumhyd\"><path d=\"M 2857.0 1930.0 L 2876.0 1923.0\"/><path d=\"M 2894.0 1917.0 L 2876.0 1923.0\"/><g><path d=\"M 2857.0 1930.0 C 2817.0 1944.0 2720.0 1993.0 2677.1 2039.6\"/><g class=\"arrowhead\" transform=\"translate(2677.1, 2039.6) rotate(133)\"><path d=\"M 0 -10 L 13 0 L 0 10 Z\" transform=\"translate(-3)\"/></g></g><g><path d=\"M 2894.0 1917.0 C 2934.0 1903.0 2990.0 1889.0 3056.0 1886.5\"/><g class=\"arrowhead\" transform=\"translate(3056.0, 1886.5) rotate(-2)\"><path d=\"M 0 -10 L 13 0 L 0 10 Z\" transform=\"translate(-3)\"/></g></g><g><path d=\"M 2894.0 1917.0 C 2938.0 1902.0 2937.0 1883.0 2943.0 1844.6\"/><g class=\"arrowhead\" transform=\"translate(2943.0, 1844.6) rotate(-81)\"><path d=\"M 0 -10 L 13 0 L 0 10 Z\" transform=\"translate(-3)\"/></g></g><text x=\"2781.0\" y=\"1906.0\">FUM</text></g><g name=\"mdh\"><path d=\"M 2514.0 2263.0 L 2506.0 2281.0\"/><path d=\"M 2498.0 2300.0 L 2506.0 2281.0\"/><g><path d=\"M 2514.0 2263.0 C 2530.0 2224.0 2585.0 2135.0 2621.9 2097.5\"/><g class=\"arrowhead\" transform=\"translate(2621.9, 2097.5) rotate(-45)\"><path d=\"M 0 -10 L 13 0 L 0 10 Z\" transform=\"translate(-3)\"/></g></g><g><path d=\"M 2514.0 2263.0 C 2532.0 2220.0 2517.0 2186.0 2513.3 2178.6\"/><g class=\"arrowhead\" transform=\"translate(2513.3, 2178.6) rotate(-117)\"><path d=\"M 0 -10 L 13 0 L 0 10 Z\" transform=\"translate(-3)\"/></g></g><g><path d=\"M 2498.0 2300.0 C 2481.0 2342.0 2461.0 2355.0 2418.5 2368.4\"/><g class=\"arrowhead\" transform=\"translate(2418.5, 2368.4) rotate(163)\"><path d=\"M 0 -10 L 13 0 L 0 10 Z\" transform=\"translate(-3)\"/></g></g><g><path d=\"M 2498.0 2300.0 C 2482.0 2338.0 2465.0 2428.0 2465.5 2475.0\"/><g class=\"arrowhead\" transform=\"translate(2465.5, 2475.0) rotate(89)\"><path d=\"M 0 -10 L 13 0 L 0 10 Z\" transform=\"translate(-3)\"/></g></g><text x=\"2411.0\" y=\"2276.0\">MDH</text></g><g name=\"citsyn\"><path d=\"M 2500.0 2743.0 L 2508.0 2761.0\"/><path d=\"M 2517.0 2779.0 L 2508.0 2761.0\"/><g><path d=\"M 2500.0 2743.0 C 2468.0 2650.0 1834.0 2815.0 1693.1 2901.1\"/><g class=\"arrowhead\" transform=\"translate(1693.1, 2901.1) rotate(149)\"><path d=\"M 0 -10 L 13 0 L 0 10 Z\" transform=\"translate(-3)\"/></g></g><g><path d=\"M 2500.0 2743.0 C 2484.0 2693.0 2522.0 2646.0 2553.1 2649.0\"/><g class=\"arrowhead\" transform=\"translate(2553.1, 2649.0) rotate(5)\"><path d=\"M 0 -10 L 13 0 L 0 10 Z\" transform=\"translate(-3)\"/></g></g><g><path d=\"M 2500.0 2743.0 C 2475.0 2692.0 2462.0 2607.0 2464.3 2555.0\"/><g class=\"arrowhead\" transform=\"translate(2464.3, 2555.0) rotate(-88)\"><path d=\"M 0 -10 L 13 0 L 0 10 Z\" transform=\"translate(-3)\"/></g></g><g><path d=\"M 2517.0 2779.0 C 2535.0 2816.0 2591.0 2893.0 2623.6 2930.0\"/><g class=\"arrowhead\" transform=\"translate(2623.6, 2930.0) rotate(49)\"><path d=\"M 0 -10 L 13 0 L 0 10 Z\" transform=\"translate(-3)\"/></g></g><g><path d=\"M 2517.0 2779.0 C 2537.0 2820.0 2497.0 2853.0 2448.2 2827.0\"/><g class=\"arrowhead\" transform=\"translate(2448.2, 2827.0) rotate(-152)\"><path d=\"M 0 -10 L 13 0 L 0 10 Z\" transform=\"translate(-3)\"/></g></g><text x=\"2551.0\" y=\"2758.0\">CS</text></g><g name=\"msase\"><path d=\"M 2946.0 2482.0 L 2940.0 2463.0\"/><path d=\"M 2935.0 2444.0 L 2940.0 2463.0\"/><g><path d=\"M 2946.0 2482.0 C 3003.0 2617.0 2622.0 3032.0 1698.7 2926.5\"/><g class=\"arrowhead\" transform=\"translate(1698.7, 2926.5) rotate(-173)\"><path d=\"M 0 -10 L 13 0 L 0 10 Z\" transform=\"translate(-3)\"/></g></g><g><path d=\"M 2946.0 2482.0 C 2993.0 2588.0 3113.0 2567.0 3154.1 2490.3\"/><g class=\"arrowhead\" transform=\"translate(3154.1, 2490.3) rotate(-62)\"><path d=\"M 0 -10 L 13 0 L 0 10 Z\" transform=\"translate(-3)\"/></g></g><g><path d=\"M 2946.0 2482.0 C 2952.0 2531.0 2921.0 2556.0 2890.0 2557.0\"/><g class=\"arrowhead\" transform=\"translate(2890.0, 2557.0) rotate(178)\"><path d=\"M 0 -10 L 13 0 L 0 10 Z\" transform=\"translate(-3)\"/></g></g><g><path d=\"M 2935.0 2444.0 C 2923.0 2404.0 2900.0 2133.0 2688.8 2078.9\"/><g class=\"arrowhead\" transform=\"translate(2688.8, 2078.9) rotate(-166)\"><path d=\"M 0 -10 L 13 0 L 0 10 Z\" transform=\"translate(-3)\"/></g></g><g><path d=\"M 2935.0 2444.0 C 2921.0 2400.0 2894.0 2384.0 2873.5 2375.4\"/><g class=\"arrowhead\" transform=\"translate(2873.5, 2375.4) rotate(-157)\"><path d=\"M 0 -10 L 13 0 L 0 10 Z\" transform=\"translate(-3)\"/></g></g><text x=\"2817.0\" y=\"2482.0\">MALS</text></g><g name=\"iclase\"><path d=\"M 3414.0 2584.0 L 3425.0 2567.0\"/><path d=\"M 3436.0 2551.0 L 3425.0 2567.0\"/><g><path d=\"M 3414.0 2584.0 C 3391.0 2619.0 3133.0 2934.0 3102.9 3105.6\"/><g class=\"arrowhead\" transform=\"translate(3102.9, 3105.6) rotate(100)\"><path d=\"M 0 -10 L 13 0 L 0 10 Z\" transform=\"translate(-3)\"/></g></g><g><path d=\"M 3436.0 2551.0 C 3498.0 2436.0 3327.0 2262.0 3197.9 2423.7\"/><g class=\"arrowhead\" transform=\"translate(3197.9, 2423.7) rotate(129)\"><path d=\"M 0 -10 L 13 0 L 0 10 Z\" transform=\"translate(-3)\"/></g></g><g><path d=\"M 3436.0 2551.0 C 3512.0 2446.0 3577.0 2183.0 3553.0 2107.1\"/><g class=\"arrowhead\" transform=\"translate(3553.0, 2107.1) rotate(-108)\"><path d=\"M 0 -10 L 13 0 L 0 10 Z\" transform=\"translate(-3)\"/></g></g><text x=\"3364.0\" y=\"2534.0\">ICL</text></g><g name=\"mae.nad\"><path d=\"M 2171.0 2000.0 L 2151.0 2000.0\"/><path d=\"M 2131.0 2000.0 L 2151.0 2000.0\"/><path d=\"M 2171.0 2000.0 C 2281.0 1997.0 2497.0 2031.0 2620.9 2061.8\"/><path d=\"M 2171.0 2000.0 C 2219.0 1984.0 2222.0 1982.0 2245.4 1939.3\"/><g><path d=\"M 2131.0 2000.0 C 2085.0 2000.0 2049.0 1995.0 2030.4 1961.1\"/><g class=\"arrowhead\" transform=\"translate(2030.4, 1961.1) rotate(-119)\"><path d=\"M 0 -10 L 13 0 L 0 10 Z\" transform=\"translate(-3)\"/></g></g><g><path d=\"M 2131.0 2000.0 C 2085.0 2000.0 2079.0 1978.0 2075.4 1943.8\"/><g class=\"arrowhead\" transform=\"translate(2075.4, 1943.8) rotate(-96)\"><path d=\"M 0 -10 L 13 0 L 0 10 Z\" transform=\"translate(-3)\"/></g></g><g><path d=\"M 2131.0 2000.0 C 1779.0 1993.0 1670.0 2722.0 1134.0 2724.8\"/><g class=\"arrowhead\" transform=\"translate(1134.0, 2724.8) rotate(180)\"><path d=\"M 0 -10 L 13 0 L 0 10 Z\" transform=\"translate(-3)\"/></g></g><text x=\"2106.0\" y=\"1951.0\">MAE-A</text></g><g name=\"mae.nadp\"><path d=\"M 2173.0 2056.0 L 2153.0 2056.0\"/><path d=\"M 2133.0 2056.0 L 2153.0 2056.0\"/><path d=\"M 2173.0 2056.0 C 2309.0 2056.0 2512.0 2047.0 2620.4 2064.3\"/><path d=\"M 2173.0 2056.0 C 2209.0 2072.0 2233.0 2078.0 2243.3 2116.7\"/><g><path d=\"M 2133.0 2056.0 C 2087.0 2056.0 2074.0 2058.0 2033.0 2091.0\"/><g class=\"arrowhead\" transform=\"translate(2033.0, 2091.0) rotate(141)\"><path d=\"M 0 -10 L 13 0 L 0 10 Z\" transform=\"translate(-3)\"/></g></g><g><path d=\"M 2133.0 2056.0 C 2087.0 2056.0 2071.0 2060.0 2057.3 2105.4\"/><g class=\"arrowhead\" transform=\"translate(2057.3, 2105.4) rotate(107)\"><path d=\"M 0 -10 L 13 0 L 0 10 Z\" transform=\"translate(-3)\"/></g></g><g><path d=\"M 2133.0 2056.0 C 1767.0 2055.0 1642.0 2723.0 1134.0 2724.9\"/><g class=\"arrowhead\" transform=\"translate(1134.0, 2724.9) rotate(180)\"><path d=\"M 0 -10 L 13 0 L 0 10 Z\" transform=\"translate(-3)\"/></g></g><text x=\"2097.0\" y=\"2123.0\">MAE-B</text></g><g name=\"ppck\"><path d=\"M 1984.0 2391.0 L 1964.0 2391.0\"/><path d=\"M 1944.0 2391.0 L 1964.0 2391.0\"/><path d=\"M 1984.0 2391.0 C 2030.0 2391.0 2035.0 2373.0 2058.4 2330.3\"/><path d=\"M 1984.0 2391.0 C 2185.0 2395.0 2353.0 2479.0 2437.4 2505.9\"/><g><path d=\"M 1944.0 2391.0 C 1898.0 2391.0 1892.0 2378.0 1886.0 2340.6\"/><g class=\"arrowhead\" transform=\"translate(1886.0, 2340.6) rotate(-99)\"><path d=\"M 0 -10 L 13 0 L 0 10 Z\" transform=\"translate(-3)\"/></g></g><g><path d=\"M 1944.0 2391.0 C 1898.0 2391.0 1878.0 2392.0 1859.4 2358.1\"/><g class=\"arrowhead\" transform=\"translate(1859.4, 2358.1) rotate(-119)\"><path d=\"M 0 -10 L 13 0 L 0 10 Z\" transform=\"translate(-3)\"/></g></g><g><path d=\"M 1944.0 2391.0 C 1764.0 2395.0 1329.0 2375.0 1134.0 2375.0\"/><g class=\"arrowhead\" transform=\"translate(1134.0, 2375.0) rotate(180)\"><path d=\"M 0 -10 L 13 0 L 0 10 Z\" transform=\"translate(-3)\"/></g></g><text x=\"1926.0\" y=\"2346.0\">PPCK</text></g><g name=\"ppc\"><path d=\"M 1984.0 2508.0 L 1964.0 2508.0\"/><path d=\"M 1944.0 2508.0 L 1964.0 2508.0\"/><g><path d=\"M 1984.0 2508.0 C 2030.0 2508.0 2046.0 2538.0 2045.3 2554.0\"/><g class=\"arrowhead\" transform=\"translate(2045.3, 2554.0) rotate(92)\"><path d=\"M 0 -10 L 13 0 L 0 10 Z\" transform=\"translate(-3)\"/></g></g><g><path d=\"M 1984.0 2508.0 C 2026.0 2508.0 2345.0 2514.0 2426.0 2514.7\"/><g class=\"arrowhead\" transform=\"translate(2426.0, 2514.7) rotate(0)\"><path d=\"M 0 -10 L 13 0 L 0 10 Z\" transform=\"translate(-3)\"/></g></g><g><path d=\"M 1984.0 2508.0 C 2030.0 2508.0 2073.0 2526.0 2098.9 2567.0\"/><g class=\"arrowhead\" transform=\"translate(2098.9, 2567.0) rotate(58)\"><path d=\"M 0 -10 L 13 0 L 0 10 Z\" transform=\"translate(-3)\"/></g></g><g><path d=\"M 1944.0 2508.0 C 1898.0 2508.0 1854.0 2529.0 1827.9 2556.7\"/><g class=\"arrowhead\" transform=\"translate(1827.9, 2556.7) rotate(133)\"><path d=\"M 0 -10 L 13 0 L 0 10 Z\" transform=\"translate(-3)\"/></g></g><g><path d=\"M 1944.0 2508.0 C 1898.0 2508.0 1889.0 2544.0 1888.2 2556.1\"/><g class=\"arrowhead\" transform=\"translate(1888.2, 2556.1) rotate(94)\"><path d=\"M 0 -10 L 13 0 L 0 10 Z\" transform=\"translate(-3)\"/></g></g><g><path d=\"M 1944.0 2508.0 C 1751.0 2506.0 1436.0 2379.0 1134.0 2375.5\"/><g class=\"arrowhead\" transform=\"translate(1134.0, 2375.5) rotate(-179)\"><path d=\"M 0 -10 L 13 0 L 0 10 Z\" transform=\"translate(-3)\"/></g></g><text x=\"1936.0\" y=\"2564.0\">PPC</text></g><g name=\"acnh\"><path d=\"M 2847.0 3098.0 L 2828.0 3091.0\"/><path d=\"M 2865.0 3106.0 L 2847.0 3098.0\"/><g><path d=\"M 2828.0 3091.0 C 2776.0 3069.0 2720.0 3027.0 2678.9 2987.7\"/><g class=\"arrowhead\" transform=\"translate(2678.9, 2987.7) rotate(-136)\"><path d=\"M 0 -10 L 13 0 L 0 10 Z\" transform=\"translate(-3)\"/></g></g><g><path d=\"M 2865.0 3106.0 C 2909.0 3125.0 2992.0 3149.0 3056.0 3146.5\"/><g class=\"arrowhead\" transform=\"translate(3056.0, 3146.5) rotate(-2)\"><path d=\"M 0 -10 L 13 0 L 0 10 Z\" transform=\"translate(-3)\"/></g></g><text x=\"2764.0\" y=\"3150.0\">ACN</text></g></g><g id=\"metabolites\"><g name=\"pep\"><circle cx=\"1094.0\" cy=\"2375.0\" r=\"20.0\"/><text x=\"1126.0\" y=\"2342.0\">PEP</text></g><g name=\"atp\"><circle cx=\"896.0\" cy=\"2659.0\" r=\"12.0\"/><text x=\"845.0\" y=\"2656.0\">ATP</text></g><g name=\"h2o\"><circle cx=\"905.0\" cy=\"2576.0\" r=\"12.0\"/><text x=\"850.0\" y=\"2581.0\">H2O</text></g><g name=\"pyr\"><circle cx=\"1094.0\" cy=\"2725.0\" r=\"20.0\"/><text x=\"1026.0\" y=\"2778.0\">pyr</text></g><g name=\"amp\"><circle cx=\"896.0\" cy=\"2449.0\" r=\"12.0\"/><text x=\"840.0\" y=\"2446.0\">AMP</text></g><g name=\"pi\"><circle cx=\"840.0\" cy=\"2494.0\" r=\"12.0\"/><text x=\"810.0\" y=\"2520.0\">Pi</text></g><g name=\"coa\"><circle cx=\"1128.0\" cy=\"2967.0\" r=\"12.0\"/><text x=\"1056.0\" y=\"2999.0\">CoA</text></g><g name=\"nad.ox\"><circle cx=\"1205.0\" cy=\"2842.0\" r=\"12.0\"/><text x=\"1171.0\" y=\"2810.0\">NAD+</text></g><g name=\"accoa\"><circle cx=\"1659.0\" cy=\"2922.0\" r=\"20.0\"/><text x=\"1593.0\" y=\"2879.0\">acCoA</text></g><g name=\"co2\"><circle cx=\"1433.0\" cy=\"2842.0\" r=\"12.0\"/><text x=\"1442.0\" y=\"2821.0\">CO2</text></g><g name=\"nad.red\"><circle cx=\"1354.0\" cy=\"2839.0\" r=\"12.0\"/><text x=\"1321.0\" y=\"2815.0\">NADH</text></g><g name=\"atp\"><circle cx=\"1288.0\" cy=\"2658.0\" r=\"12.0\"/><text x=\"1303.0\" y=\"2658.0\">ATP</text></g><g name=\"adp\"><circle cx=\"1282.0\" cy=\"2452.0\" r=\"12.0\"/><text x=\"1294.0\" y=\"2447.0\">ADP</text></g><g name=\"cit\"><circle cx=\"2650.0\" cy=\"2960.0\" r=\"20.0\"/><text x=\"2595.0\" y=\"3000.0\">cit</text></g><g name=\"oaa\"><circle cx=\"2466.0\" cy=\"2515.0\" r=\"20.0\"/><text x=\"2513.0\" y=\"2523.0\">OAA</text></g><g name=\"mal.L\"><circle cx=\"2650.0\" cy=\"2069.0\" r=\"20.0\"/><text x=\"2604.0\" y=\"2030.0\">mal</text></g><g name=\"fum\"><circle cx=\"3096.0\" cy=\"1885.0\" r=\"20.0\"/><text x=\"3082.0\" y=\"1845.0\">fum</text></g><g name=\"succ\"><circle cx=\"3541.0\" cy=\"2069.0\" r=\"20.0\"/><text x=\"3561.0\" y=\"2041.0\">succ</text></g><g name=\"succcoa\"><circle cx=\"3726.0\" cy=\"2515.0\" r=\"20.0\"/><text x=\"3774.0\" y=\"2517.0\">succCoA</text></g><g name=\"akg\"><circle cx=\"3541.0\" cy=\"2960.0\" r=\"20.0\"/><text x=\"3571.0\" y=\"2990.0\">αkg</text></g><g name=\"icit\"><circle cx=\"3096.0\" cy=\"3145.0\" r=\"20.0\"/><text x=\"3082.0\" y=\"3200.0\">icit</text></g><g name=\"glx\"><circle cx=\"3173.0\" cy=\"2455.0\" r=\"20.0\"/><text x=\"3174.0\" y=\"2502.0\">glx</text></g><g name=\"nadp.ox\"><circle cx=\"3283.0\" cy=\"3213.0\" r=\"12.0\"/><text x=\"3261.0\" y=\"3253.0\">NADP+</text></g><g name=\"co2\"><circle cx=\"3550.0\" cy=\"3049.0\" r=\"12.0\"/><text x=\"3579.0\" y=\"3083.0\">CO2</text></g><g name=\"nadp.red\"><circle cx=\"3501.0\" cy=\"3119.0\" r=\"12.0\"/><text x=\"3516.0\" y=\"3157.0\">NADPH</text></g><g name=\"coa\"><circle cx=\"3704.0\" cy=\"2929.0\" r=\"12.0\"/><text x=\"3701.0\" y=\"2976.0\">CoA</text></g><g name=\"nad.ox\"><circle cx=\"3750.0\" cy=\"2837.0\" r=\"12.0\"/><text x=\"3761.0\" y=\"2883.0\">NAD+</text></g><g name=\"co2\"><circle cx=\"3868.0\" cy=\"2599.0\" r=\"12.0\"/><text x=\"3907.0\" y=\"2607.0\">CO2</text></g><g name=\"nad.red\"><circle cx=\"3806.0\" cy=\"2684.0\" r=\"12.0\"/><text x=\"3849.0\" y=\"2705.0\">NADH</text></g><g name=\"atp\"><circle cx=\"3759.0\" cy=\"2161.0\" r=\"12.0\"/><text x=\"3794.0\" y=\"2163.0\">ATP</text></g><g name=\"coa\"><circle cx=\"3724.0\" cy=\"2086.0\" r=\"12.0\"/><text x=\"3751.0\" y=\"2084.0\">CoA</text></g><g name=\"adp\"><circle cx=\"3834.0\" cy=\"2362.0\" r=\"12.0\"/><text x=\"3855.0\" y=\"2394.0\">ADP</text></g><g name=\"pi\"><circle cx=\"3823.0\" cy=\"2285.0\" r=\"12.0\"/><text x=\"3853.0\" y=\"2288.0\">Pi</text></g><g name=\"q.ox\"><circle cx=\"3493.0\" cy=\"1917.0\" r=\"12.0\"/><text x=\"3523.0\" y=\"1911.0\">Q</text></g><g name=\"q.red\"><circle cx=\"3304.0\" cy=\"1827.0\" r=\"12.0\"/><text x=\"3333.0\" y=\"1820.0\">QH2</text></g><g name=\"h2o\"><circle cx=\"2948.0\" cy=\"1813.0\" r=\"12.0\"/><text x=\"2968.0\" y=\"1800.0\">H2O</text></g><g name=\"nad.ox\"><circle cx=\"2499.0\" cy=\"2150.0\" r=\"12.0\"/><text x=\"2418.0\" y=\"2139.0\">NAD+</text></g><g name=\"nad.red\"><circle cx=\"2388.0\" cy=\"2378.0\" r=\"12.0\"/><text x=\"2300.0\" y=\"2386.0\">NADH</text></g><g name=\"h2o\"><circle cx=\"2585.0\" cy=\"2652.0\" r=\"12.0\"/><text x=\"2585.0\" y=\"2691.0\">H2O</text></g><g name=\"coa\"><circle cx=\"2420.0\" cy=\"2812.0\" r=\"12.0\"/><text x=\"2344.0\" y=\"2810.0\">CoA</text></g><g name=\"h2o\"><circle cx=\"2858.0\" cy=\"2558.0\" r=\"12.0\"/><text x=\"2791.0\" y=\"2553.0\">H2O</text></g><g name=\"coa\"><circle cx=\"2844.0\" cy=\"2363.0\" r=\"12.0\"/><text x=\"2773.0\" y=\"2357.0\">CoA</text></g><g name=\"nad.ox\"><circle cx=\"2256.0\" cy=\"1920.0\" r=\"12.0\"/><text x=\"2239.0\" y=\"1900.0\">NAD+</text></g><g name=\"co2\"><circle cx=\"2015.0\" cy=\"1933.0\" r=\"12.0\"/><text x=\"1999.0\" y=\"1913.0\">CO2</text></g><g name=\"nad.red\"><circle cx=\"2072.0\" cy=\"1912.0\" r=\"12.0\"/><text x=\"2052.0\" y=\"1892.0\">NADH</text></g><g name=\"nadp.ox\"><circle cx=\"2249.0\" cy=\"2138.0\" r=\"12.0\"/><text x=\"2227.0\" y=\"2178.0\">NADP+</text></g><g name=\"co2\"><circle cx=\"2008.0\" cy=\"2111.0\" r=\"12.0\"/><text x=\"1976.0\" y=\"2151.0\">CO2</text></g><g name=\"nadp.red\"><circle cx=\"2048.0\" cy=\"2136.0\" r=\"12.0\"/><text x=\"2032.0\" y=\"2176.0\">NADPH</text></g><g name=\"atp\"><circle cx=\"2069.0\" cy=\"2311.0\" r=\"12.0\"/><text x=\"2052.0\" y=\"2291.0\">ATP</text></g><g name=\"adp\"><circle cx=\"1881.0\" cy=\"2309.0\" r=\"12.0\"/><text x=\"1844.0\" y=\"2284.0\">ADP</text></g><g name=\"co2\"><circle cx=\"1844.0\" cy=\"2330.0\" r=\"12.0\"/><text x=\"1797.0\" y=\"2316.0\">CO2</text></g><g name=\"h+\"><circle cx=\"2044.0\" cy=\"2586.0\" r=\"12.0\"/><text x=\"2030.0\" y=\"2621.0\">H+</text></g><g name=\"pi\"><circle cx=\"2116.0\" cy=\"2594.0\" r=\"12.0\"/><text x=\"2100.0\" y=\"2634.0\">Pi</text></g><g name=\"co2\"><circle cx=\"1806.0\" cy=\"2580.0\" r=\"12.0\"/><text x=\"1789.0\" y=\"2620.0\">CO2</text></g><g name=\"h2o\"><circle cx=\"1886.0\" cy=\"2588.0\" r=\"12.0\"/><text x=\"1867.0\" y=\"2620.0\">H2O</text></g></g></g></svg>"
      ],
      "text/plain": [
       "<IPython.core.display.SVG object>"
      ]
     },
     "execution_count": 13,
     "metadata": {},
     "output_type": "execute_result"
    }
   ],
   "source": [
    "tca = build_pathway('tca_cycle', 'TCA cycle')\n",
    "SVG(escher_map.EscherMap(tca.diagram, width='20cm').draw())"
   ]
  },
  {
   "cell_type": "code",
   "execution_count": 14,
   "id": "03925983-c411-4576-bc05-7ab88b989ebf",
   "metadata": {},
   "outputs": [
    {
     "data": {
      "image/svg+xml": [
       "<svg width=\"10cm\" height=\"None\" viewBox=\"2410.0 160.0 1540.0 990.0\"><defs><style type=\"text/css\">\n",
       "#canvas {\n",
       "  fill: #ffffff;\n",
       "  stroke: #cccccc;\n",
       "}\n",
       "text {\n",
       "  font-family: sans-serif;\n",
       "  font-style: italic;\n",
       "  font-weight: bold;\n",
       "  stroke: none;\n",
       "  text-rendering: optimizelegibility;\n",
       "}\n",
       "#reactions text {\n",
       "  font-size: 30px;\n",
       "  fill: #334e75;\n",
       "}\n",
       "#reactions text.stoich {\n",
       "  font-size: 12px;\n",
       "}\n",
       "#metabolites text {\n",
       "  font-size: 20px;\n",
       "  fill: black;\n",
       "}\n",
       "#reactions {\n",
       "  fill: none;\n",
       "  stroke: #334e75;\n",
       "  stroke-width: 10;\n",
       "}\n",
       "#reactions.data {\n",
       "  stroke: #eeeeee;  /* default overridden by reaction_scale */\n",
       "}\n",
       "#reactions .arrowhead {\n",
       "  fill: #334e75;\n",
       "  stroke: none;\n",
       "}\n",
       "#reactions.data .arrowhead {\n",
       "  fill: #eeeeee;  /* default overridden by reaction_scale */\n",
       "}\n",
       "#metabolites {\n",
       "  fill: #e0865b;\n",
       "  stroke: #a24510;\n",
       "  stroke-width: 2;\n",
       "}\n",
       "#metabolites.data {\n",
       "  fill: #eeeeee;  /* default overridden by metabolite_scale */\n",
       "  stroke: none;\n",
       "}\n",
       "</style></defs><g id=\"eschermap\"><rect id=\"canvas\" x=\"2410.0\" y=\"160.0\" width=\"1540.0\" height=\"990.0\"/><g id=\"reactions\"><g name=\"atpsyn\"><path d=\"M 3608.0 655.0 L 3608.0 675.0\"/><path d=\"M 3608.0 635.0 L 3608.0 655.0\"/><g><path d=\"M 3608.0 675.0 C 3606.0 701.0 3608.0 716.0 3556.8 741.0\"/><g class=\"arrowhead\" transform=\"translate(3556.8, 741.0) rotate(154)\"><path d=\"M 0 -10 L 13 0 L 0 10 Z\" transform=\"translate(-3)\"/></g></g><g><path d=\"M 3608.0 675.0 C 3609.0 726.0 3636.0 729.0 3659.4 740.7\"/><g class=\"arrowhead\" transform=\"translate(3659.4, 740.7) rotate(27)\"><path d=\"M 0 -10 L 13 0 L 0 10 Z\" transform=\"translate(-3)\"/></g></g><g><g><path d=\"M 3608.0 675.0 C 3606.0 748.0 3609.0 812.0 3609.6 871.0\"/><g class=\"arrowhead\" transform=\"translate(3609.6, 871.0) rotate(89)\"><path d=\"M 0 -10 L 13 0 L 0 10 Z\" transform=\"translate(-3)\"/></g></g><text class=\"stoich\" x=\"3633.6\" y=\"870.7\">4</text></g><g><path d=\"M 3608.0 635.0 C 3608.0 589.0 3592.0 577.0 3558.1 558.4\"/><g class=\"arrowhead\" transform=\"translate(3558.1, 558.4) rotate(-151)\"><path d=\"M 0 -10 L 13 0 L 0 10 Z\" transform=\"translate(-3)\"/></g></g><g><path d=\"M 3608.0 635.0 C 3608.0 589.0 3643.0 567.0 3661.3 558.1\"/><g class=\"arrowhead\" transform=\"translate(3661.3, 558.1) rotate(-26)\"><path d=\"M 0 -10 L 13 0 L 0 10 Z\" transform=\"translate(-3)\"/></g></g><g><g><path d=\"M 3608.0 635.0 C 3608.0 593.0 3606.0 410.0 3606.0 384.0\"/><g class=\"arrowhead\" transform=\"translate(3606.0, 384.0) rotate(-90)\"><path d=\"M 0 -10 L 13 0 L 0 10 Z\" transform=\"translate(-3)\"/></g></g><text class=\"stoich\" x=\"3582.0\" y=\"384.0\">4</text></g><text x=\"3642.0\" y=\"665.0\">ATPsyn</text></g><g name=\"cytbo3\"><path d=\"M 2997.0 654.0 L 2997.0 674.0\"/><path d=\"M 2997.0 634.0 L 2997.0 654.0\"/><g><path d=\"M 2997.0 674.0 C 3003.0 742.0 2922.0 835.0 2861.0 835.7\"/><text class=\"stoich\" x=\"2861.3\" y=\"859.7\">2</text></g><g><path d=\"M 2997.0 674.0 C 2998.0 764.0 2999.0 813.0 2999.0 880.0\"/><text class=\"stoich\" x=\"3023.0\" y=\"880.0\">8</text></g><path d=\"M 2997.0 674.0 C 3007.0 720.0 3030.0 727.0 3052.6 741.9\"/><g><g><path d=\"M 2997.0 634.0 C 2998.0 568.0 2939.0 471.0 2872.0 469.6\"/><g class=\"arrowhead\" transform=\"translate(2872.0, 469.6) rotate(-179)\"><path d=\"M 0 -10 L 13 0 L 0 10 Z\" transform=\"translate(-3)\"/></g></g><text class=\"stoich\" x=\"2871.5\" y=\"493.6\">2</text></g><g><g><path d=\"M 2997.0 634.0 C 2997.0 573.0 2995.0 409.0 2995.0 382.0\"/><g class=\"arrowhead\" transform=\"translate(2995.0, 382.0) rotate(-90)\"><path d=\"M 0 -10 L 13 0 L 0 10 Z\" transform=\"translate(-3)\"/></g></g><text class=\"stoich\" x=\"2971.0\" y=\"382.0\">8</text></g><g><g><path d=\"M 2997.0 634.0 C 2997.0 601.0 3016.0 568.0 3039.7 553.6\"/><g class=\"arrowhead\" transform=\"translate(3039.7, 553.6) rotate(-31)\"><path d=\"M 0 -10 L 13 0 L 0 10 Z\" transform=\"translate(-3)\"/></g></g><text class=\"stoich\" x=\"3027.2\" y=\"533.1\">2</text></g><text x=\"3018.0\" y=\"665.0\">CYTbo3</text></g><g name=\"cytbd1\"><path d=\"M 3248.0 652.0 L 3248.0 672.0\"/><path d=\"M 3248.0 632.0 L 3248.0 652.0\"/><g><path d=\"M 3248.0 672.0 C 3249.0 769.0 3117.0 829.0 2861.0 835.4\"/><text class=\"stoich\" x=\"2861.6\" y=\"859.4\">2</text></g><g><path d=\"M 3248.0 672.0 C 3248.0 755.0 3249.0 825.0 3249.7 879.0\"/><text class=\"stoich\" x=\"3273.7\" y=\"878.7\">4</text></g><path d=\"M 3248.0 672.0 C 3249.0 707.0 3297.0 735.0 3316.8 746.2\"/><g><g><path d=\"M 3248.0 632.0 C 3245.0 540.0 3104.0 470.0 2872.0 469.1\"/><g class=\"arrowhead\" transform=\"translate(2872.0, 469.1) rotate(-180)\"><path d=\"M 0 -10 L 13 0 L 0 10 Z\" transform=\"translate(-3)\"/></g></g><text class=\"stoich\" x=\"2871.9\" y=\"493.1\">2</text></g><g><g><path d=\"M 3248.0 632.0 C 3247.0 568.0 3246.0 408.0 3246.0 381.0\"/><g class=\"arrowhead\" transform=\"translate(3246.0, 381.0) rotate(-90)\"><path d=\"M 0 -10 L 13 0 L 0 10 Z\" transform=\"translate(-3)\"/></g></g><text class=\"stoich\" x=\"3222.0\" y=\"381.0\">4</text></g><g><g><path d=\"M 3248.0 632.0 C 3248.0 592.0 3290.0 569.0 3308.1 558.7\"/><g class=\"arrowhead\" transform=\"translate(3308.1, 558.7) rotate(-29)\"><path d=\"M 0 -10 L 13 0 L 0 10 Z\" transform=\"translate(-3)\"/></g></g><text class=\"stoich\" x=\"3296.3\" y=\"537.9\">2</text></g><text x=\"3276.0\" y=\"666.0\">CYTbd1</text></g><g name=\"ndh1\"><path d=\"M 2740.0 654.0 L 2740.0 674.0\"/><path d=\"M 2740.0 634.0 L 2740.0 654.0\"/><path d=\"M 2740.0 674.0 C 2730.0 711.0 2712.0 721.0 2681.1 742.5\"/><path d=\"M 2740.0 674.0 C 2742.0 720.0 2827.0 724.0 2838.9 491.0\"/><g><path d=\"M 2740.0 674.0 C 2740.0 770.0 2744.0 814.0 2742.5 880.0\"/><text class=\"stoich\" x=\"2766.5\" y=\"880.6\">5</text></g><g><path d=\"M 2740.0 634.0 C 2740.0 588.0 2708.0 577.0 2682.8 560.5\"/><g class=\"arrowhead\" transform=\"translate(2682.8, 560.5) rotate(-147)\"><path d=\"M 0 -10 L 13 0 L 0 10 Z\" transform=\"translate(-3)\"/></g></g><g><path d=\"M 2740.0 634.0 C 2739.0 566.0 2820.0 566.0 2836.8 804.1\"/><g class=\"arrowhead\" transform=\"translate(2836.8, 804.1) rotate(86)\"><path d=\"M 0 -10 L 13 0 L 0 10 Z\" transform=\"translate(-3)\"/></g></g><g><g><path d=\"M 2740.0 634.0 C 2740.0 592.0 2738.0 409.0 2738.0 383.0\"/><g class=\"arrowhead\" transform=\"translate(2738.0, 383.0) rotate(-90)\"><path d=\"M 0 -10 L 13 0 L 0 10 Z\" transform=\"translate(-3)\"/></g></g><text class=\"stoich\" x=\"2714.0\" y=\"383.0\">4</text></g><text x=\"2623.0\" y=\"658.0\">NDH</text></g></g><g id=\"metabolites\"><g name=\"atp\"><circle cx=\"3528.0\" cy=\"755.0\" r=\"12.0\"/><text x=\"3448.0\" y=\"763.0\">ATP</text></g><g name=\"h2o\"><circle cx=\"3688.0\" cy=\"755.0\" r=\"12.0\"/><text x=\"3730.0\" y=\"763.0\">H2O</text></g><g name=\"h+\"><circle cx=\"3610.0\" cy=\"903.0\" r=\"12.0\"/><text x=\"3655.0\" y=\"911.0\">H+</text></g><g name=\"adp\"><circle cx=\"3530.0\" cy=\"543.0\" r=\"12.0\"/><text x=\"3450.0\" y=\"547.0\">ADP</text></g><g name=\"pi\"><circle cx=\"3690.0\" cy=\"544.0\" r=\"12.0\"/><text x=\"3724.0\" y=\"552.0\">Pi</text></g><g name=\"h+.ext\"><circle cx=\"3606.0\" cy=\"352.0\" r=\"12.0\"/><text x=\"3650.0\" y=\"356.0\">H+[e]</text></g><g name=\"q.red\"><circle cx=\"2839.0\" cy=\"836.0\" r=\"12.0\"/><text x=\"2833.0\" y=\"894.0\">QH2</text></g><g name=\"h+\"><circle cx=\"2999.0\" cy=\"902.0\" r=\"12.0\"/><text x=\"3038.0\" y=\"908.0\">H+</text></g><g name=\"o2\"><circle cx=\"3071.0\" cy=\"754.0\" r=\"12.0\"/><text x=\"3101.0\" y=\"759.0\">O2</text></g><g name=\"q.ox\"><circle cx=\"2840.0\" cy=\"469.0\" r=\"12.0\"/><text x=\"2828.0\" y=\"430.0\">Q</text></g><g name=\"h+.ext\"><circle cx=\"2995.0\" cy=\"350.0\" r=\"12.0\"/><text x=\"3039.0\" y=\"357.0\">H+[e]</text></g><g name=\"h2o\"><circle cx=\"3067.0\" cy=\"537.0\" r=\"12.0\"/><text x=\"3091.0\" y=\"553.0\">H2O</text></g><g name=\"h+\"><circle cx=\"3250.0\" cy=\"901.0\" r=\"12.0\"/><text x=\"3290.0\" y=\"909.0\">H+</text></g><g name=\"o2\"><circle cx=\"3336.0\" cy=\"757.0\" r=\"12.0\"/><text x=\"3364.0\" y=\"761.0\">O2</text></g><g name=\"h+.ext\"><circle cx=\"3246.0\" cy=\"349.0\" r=\"12.0\"/><text x=\"3288.0\" y=\"352.0\">H+[e]</text></g><g name=\"h2o\"><circle cx=\"3336.0\" cy=\"543.0\" r=\"12.0\"/><text x=\"3363.0\" y=\"558.0\">H2O</text></g><g name=\"nad.red\"><circle cx=\"2663.0\" cy=\"755.0\" r=\"12.0\"/><text x=\"2565.0\" y=\"763.0\">NADH</text></g><g name=\"h+\"><circle cx=\"2742.0\" cy=\"902.0\" r=\"12.0\"/><text x=\"2780.0\" y=\"912.0\">H+</text></g><g name=\"nad.ox\"><circle cx=\"2656.0\" cy=\"543.0\" r=\"12.0\"/><text x=\"2558.0\" y=\"551.0\">NAD+</text></g><g name=\"h+.ext\"><circle cx=\"2738.0\" cy=\"351.0\" r=\"12.0\"/><text x=\"2774.0\" y=\"356.0\">H+[e]</text></g></g></g></svg>"
      ],
      "text/plain": [
       "<IPython.core.display.SVG object>"
      ]
     },
     "execution_count": 14,
     "metadata": {},
     "output_type": "execute_result"
    }
   ],
   "source": [
    "oxphos = build_pathway('oxphos', 'Oxidative Phosporylation')\n",
    "SVG(escher_map.EscherMap(oxphos.diagram, width='10cm').draw())"
   ]
  },
  {
   "cell_type": "code",
   "execution_count": 15,
   "id": "372fa01e-93cc-426a-a421-f60000c4d828",
   "metadata": {},
   "outputs": [
    {
     "data": {
      "image/svg+xml": [
       "<svg width=\"10cm\" height=\"None\" viewBox=\"1980.0 160.0 1570.0 930.0\"><defs><style type=\"text/css\">\n",
       "#canvas {\n",
       "  fill: #ffffff;\n",
       "  stroke: #cccccc;\n",
       "}\n",
       "text {\n",
       "  font-family: sans-serif;\n",
       "  font-style: italic;\n",
       "  font-weight: bold;\n",
       "  stroke: none;\n",
       "  text-rendering: optimizelegibility;\n",
       "}\n",
       "#reactions text {\n",
       "  font-size: 30px;\n",
       "  fill: #334e75;\n",
       "}\n",
       "#reactions text.stoich {\n",
       "  font-size: 12px;\n",
       "}\n",
       "#metabolites text {\n",
       "  font-size: 20px;\n",
       "  fill: black;\n",
       "}\n",
       "#reactions {\n",
       "  fill: none;\n",
       "  stroke: #334e75;\n",
       "  stroke-width: 10;\n",
       "}\n",
       "#reactions.data {\n",
       "  stroke: #eeeeee;  /* default overridden by reaction_scale */\n",
       "}\n",
       "#reactions .arrowhead {\n",
       "  fill: #334e75;\n",
       "  stroke: none;\n",
       "}\n",
       "#reactions.data .arrowhead {\n",
       "  fill: #eeeeee;  /* default overridden by reaction_scale */\n",
       "}\n",
       "#metabolites {\n",
       "  fill: #e0865b;\n",
       "  stroke: #a24510;\n",
       "  stroke-width: 2;\n",
       "}\n",
       "#metabolites.data {\n",
       "  fill: #eeeeee;  /* default overridden by metabolite_scale */\n",
       "  stroke: none;\n",
       "}\n",
       "</style></defs><g id=\"eschermap\"><rect id=\"canvas\" x=\"1980.0\" y=\"160.0\" width=\"1570.0\" height=\"930.0\"/><g id=\"reactions\"><g name=\"cytbo3\"><path d=\"M 3000.0 650.0 L 3000.0 670.0\"/><path d=\"M 3000.0 630.0 L 3000.0 650.0\"/><g><path d=\"M 3000.0 670.0 C 3000.0 750.0 2950.0 800.0 2872.0 800.0\"/><text class=\"stoich\" x=\"2872.0\" y=\"824.0\">2</text></g><g><path d=\"M 3000.0 670.0 C 3000.0 690.0 3000.0 860.0 3000.0 878.0\"/><text class=\"stoich\" x=\"3024.0\" y=\"878.0\">8</text></g><path d=\"M 3000.0 670.0 C 3000.0 700.0 3050.0 720.0 3059.1 723.0\"/><g><g><path d=\"M 3000.0 630.0 C 3000.0 550.0 2950.0 500.0 2882.0 500.0\"/><g class=\"arrowhead\" transform=\"translate(2882.0, 500.0) rotate(180)\"><path d=\"M 0 -10 L 13 0 L 0 10 Z\" transform=\"translate(-3)\"/></g></g><text class=\"stoich\" x=\"2882.0\" y=\"524.0\">2</text></g><g><g><path d=\"M 3000.0 630.0 C 3000.0 610.0 3000.0 390.0 3000.0 382.0\"/><g class=\"arrowhead\" transform=\"translate(3000.0, 382.0) rotate(-90)\"><path d=\"M 0 -10 L 13 0 L 0 10 Z\" transform=\"translate(-3)\"/></g></g><text class=\"stoich\" x=\"2976.0\" y=\"382.0\">8</text></g><g><g><path d=\"M 3000.0 630.0 C 3000.0 600.0 3050.0 580.0 3068.6 573.8\"/><g class=\"arrowhead\" transform=\"translate(3068.6, 573.8) rotate(-18)\"><path d=\"M 0 -10 L 13 0 L 0 10 Z\" transform=\"translate(-3)\"/></g></g><text class=\"stoich\" x=\"3061.0\" y=\"551.0\">2</text></g><text x=\"3018.0\" y=\"665.0\">CYTbo3</text></g><g name=\"cytbd1\"><path d=\"M 3250.0 650.0 L 3250.0 670.0\"/><path d=\"M 3250.0 630.0 L 3250.0 650.0\"/><g><path d=\"M 3250.0 670.0 C 3250.0 750.0 3100.0 800.0 2872.0 800.0\"/><text class=\"stoich\" x=\"2872.0\" y=\"824.0\">2</text></g><g><path d=\"M 3250.0 670.0 C 3250.0 690.0 3250.0 860.0 3250.0 878.0\"/><text class=\"stoich\" x=\"3274.0\" y=\"878.0\">4</text></g><path d=\"M 3250.0 670.0 C 3250.0 700.0 3300.0 720.0 3309.1 723.0\"/><g><g><path d=\"M 3250.0 630.0 C 3250.0 550.0 3100.0 500.0 2882.0 500.0\"/><g class=\"arrowhead\" transform=\"translate(2882.0, 500.0) rotate(180)\"><path d=\"M 0 -10 L 13 0 L 0 10 Z\" transform=\"translate(-3)\"/></g></g><text class=\"stoich\" x=\"2882.0\" y=\"524.0\">2</text></g><g><g><path d=\"M 3250.0 630.0 C 3250.0 610.0 3250.0 390.0 3250.0 382.0\"/><g class=\"arrowhead\" transform=\"translate(3250.0, 382.0) rotate(-90)\"><path d=\"M 0 -10 L 13 0 L 0 10 Z\" transform=\"translate(-3)\"/></g></g><text class=\"stoich\" x=\"3226.0\" y=\"382.0\">4</text></g><g><g><path d=\"M 3250.0 630.0 C 3250.0 600.0 3300.0 580.0 3318.6 573.8\"/><g class=\"arrowhead\" transform=\"translate(3318.6, 573.8) rotate(-18)\"><path d=\"M 0 -10 L 13 0 L 0 10 Z\" transform=\"translate(-3)\"/></g></g><text class=\"stoich\" x=\"3311.0\" y=\"551.0\">2</text></g><text x=\"3276.0\" y=\"666.0\">CYTbd1</text></g><g name=\"ndh1\"><path d=\"M 2750.0 650.0 L 2750.0 670.0\"/><path d=\"M 2750.0 630.0 L 2750.0 650.0\"/><path d=\"M 2750.0 670.0 C 2750.0 800.0 2575.0 575.0 2515.6 515.6\"/><path d=\"M 2750.0 670.0 C 2750.0 750.0 2850.0 710.0 2850.0 522.0\"/><g><path d=\"M 2750.0 670.0 C 2750.0 690.0 2750.0 860.0 2750.0 878.0\"/><text class=\"stoich\" x=\"2774.0\" y=\"878.0\">5</text></g><g><path d=\"M 2750.0 630.0 C 2750.0 500.0 2575.0 725.0 2522.6 777.4\"/><g class=\"arrowhead\" transform=\"translate(2522.6, 777.4) rotate(135)\"><path d=\"M 0 -10 L 13 0 L 0 10 Z\" transform=\"translate(-3)\"/></g></g><g><path d=\"M 2750.0 630.0 C 2750.0 550.0 2850.0 590.0 2850.0 768.0\"/><g class=\"arrowhead\" transform=\"translate(2850.0, 768.0) rotate(90)\"><path d=\"M 0 -10 L 13 0 L 0 10 Z\" transform=\"translate(-3)\"/></g></g><g><g><path d=\"M 2750.0 630.0 C 2750.0 610.0 2750.0 390.0 2750.0 382.0\"/><g class=\"arrowhead\" transform=\"translate(2750.0, 382.0) rotate(-90)\"><path d=\"M 0 -10 L 13 0 L 0 10 Z\" transform=\"translate(-3)\"/></g></g><text class=\"stoich\" x=\"2726.0\" y=\"382.0\">4</text></g><text x=\"2660.0\" y=\"560.0\">NDH</text></g><g name=\"pntab\"><path d=\"M 2350.0 650.0 L 2350.0 630.0\"/><path d=\"M 2350.0 670.0 L 2350.0 650.0\"/><g><path d=\"M 2350.0 630.0 C 2350.0 590.0 2400.0 500.0 2468.0 500.0\"/><g class=\"arrowhead\" transform=\"translate(2468.0, 500.0) rotate(0)\"><path d=\"M 0 -10 L 13 0 L 0 10 Z\" transform=\"translate(-3)\"/></g></g><g><path d=\"M 2350.0 630.0 C 2350.0 570.0 2260.0 500.0 2182.0 500.0\"/><g class=\"arrowhead\" transform=\"translate(2182.0, 500.0) rotate(180)\"><path d=\"M 0 -10 L 13 0 L 0 10 Z\" transform=\"translate(-3)\"/></g></g><g><path d=\"M 2350.0 630.0 C 2350.0 610.0 2350.0 390.0 2350.0 382.0\"/><g class=\"arrowhead\" transform=\"translate(2350.0, 382.0) rotate(-90)\"><path d=\"M 0 -10 L 13 0 L 0 10 Z\" transform=\"translate(-3)\"/></g></g><g><path d=\"M 2350.0 670.0 C 2350.0 710.0 2400.0 800.0 2468.0 800.0\"/><g class=\"arrowhead\" transform=\"translate(2468.0, 800.0) rotate(0)\"><path d=\"M 0 -10 L 13 0 L 0 10 Z\" transform=\"translate(-3)\"/></g></g><g><path d=\"M 2350.0 670.0 C 2350.0 730.0 2260.0 800.0 2182.0 800.0\"/><g class=\"arrowhead\" transform=\"translate(2182.0, 800.0) rotate(180)\"><path d=\"M 0 -10 L 13 0 L 0 10 Z\" transform=\"translate(-3)\"/></g></g><g><path d=\"M 2350.0 670.0 C 2350.0 690.0 2350.0 860.0 2350.0 868.0\"/><g class=\"arrowhead\" transform=\"translate(2350.0, 868.0) rotate(90)\"><path d=\"M 0 -10 L 13 0 L 0 10 Z\" transform=\"translate(-3)\"/></g></g><text x=\"2370.0\" y=\"660.0\">NADtr-PMF</text></g><g name=\"udha\"><path d=\"M 2250.0 650.0 L 2250.0 630.0\"/><path d=\"M 2250.0 670.0 L 2250.0 650.0\"/><g><path d=\"M 2250.0 630.0 C 2250.0 570.0 2350.0 500.0 2468.0 500.0\"/><g class=\"arrowhead\" transform=\"translate(2468.0, 500.0) rotate(0)\"><path d=\"M 0 -10 L 13 0 L 0 10 Z\" transform=\"translate(-3)\"/></g></g><g><path d=\"M 2250.0 630.0 C 2250.0 590.0 2220.0 500.0 2182.0 500.0\"/><g class=\"arrowhead\" transform=\"translate(2182.0, 500.0) rotate(180)\"><path d=\"M 0 -10 L 13 0 L 0 10 Z\" transform=\"translate(-3)\"/></g></g><g><path d=\"M 2250.0 670.0 C 2250.0 730.0 2350.0 800.0 2468.0 800.0\"/><g class=\"arrowhead\" transform=\"translate(2468.0, 800.0) rotate(0)\"><path d=\"M 0 -10 L 13 0 L 0 10 Z\" transform=\"translate(-3)\"/></g></g><g><path d=\"M 2250.0 670.0 C 2250.0 710.0 2220.0 800.0 2182.0 800.0\"/><g class=\"arrowhead\" transform=\"translate(2182.0, 800.0) rotate(180)\"><path d=\"M 0 -10 L 13 0 L 0 10 Z\" transform=\"translate(-3)\"/></g></g><text x=\"2130.0\" y=\"660.0\">NADtr</text></g></g><g id=\"metabolites\"><g name=\"q.red\"><circle cx=\"2850.0\" cy=\"800.0\" r=\"12.0\"/><text x=\"2820.0\" y=\"835.0\">QH2</text></g><g name=\"h+\"><circle cx=\"3000.0\" cy=\"900.0\" r=\"12.0\"/><text x=\"3025.0\" y=\"905.0\">H+</text></g><g name=\"o2\"><circle cx=\"3080.0\" cy=\"730.0\" r=\"12.0\"/><text x=\"3100.0\" y=\"745.0\">O2</text></g><g name=\"q.ox\"><circle cx=\"2850.0\" cy=\"500.0\" r=\"12.0\"/><text x=\"2830.0\" y=\"475.0\">Q</text></g><g name=\"h+.ext\"><circle cx=\"3000.0\" cy=\"350.0\" r=\"12.0\"/><text x=\"3025.0\" y=\"355.0\">H+[e]</text></g><g name=\"h2o\"><circle cx=\"3080.0\" cy=\"570.0\" r=\"12.0\"/><text x=\"3100.0\" y=\"570.0\">H2O</text></g><g name=\"h+\"><circle cx=\"3250.0\" cy=\"900.0\" r=\"12.0\"/><text x=\"3275.0\" y=\"905.0\">H+</text></g><g name=\"o2\"><circle cx=\"3330.0\" cy=\"730.0\" r=\"12.0\"/><text x=\"3350.0\" y=\"745.0\">O2</text></g><g name=\"h+.ext\"><circle cx=\"3250.0\" cy=\"350.0\" r=\"12.0\"/><text x=\"3275.0\" y=\"355.0\">H+[e]</text></g><g name=\"h2o\"><circle cx=\"3330.0\" cy=\"570.0\" r=\"12.0\"/><text x=\"3350.0\" y=\"570.0\">H2O</text></g><g name=\"nad.red\"><circle cx=\"2500.0\" cy=\"500.0\" r=\"12.0\"/><text x=\"2465.0\" y=\"475.0\">NADH</text></g><g name=\"h+\"><circle cx=\"2750.0\" cy=\"900.0\" r=\"12.0\"/><text x=\"2775.0\" y=\"905.0\">H+</text></g><g name=\"nad.ox\"><circle cx=\"2500.0\" cy=\"800.0\" r=\"12.0\"/><text x=\"2475.0\" y=\"845.0\">NAD+</text></g><g name=\"h+.ext\"><circle cx=\"2750.0\" cy=\"350.0\" r=\"12.0\"/><text x=\"2775.0\" y=\"355.0\">H+[e]</text></g><g name=\"nadp.ox\"><circle cx=\"2150.0\" cy=\"500.0\" r=\"12.0\"/><text x=\"2110.0\" y=\"475.0\">NADP+</text></g><g name=\"h+.ext\"><circle cx=\"2350.0\" cy=\"350.0\" r=\"12.0\"/><text x=\"2375.0\" y=\"355.0\">H+[e]</text></g><g name=\"nadp.red\"><circle cx=\"2150.0\" cy=\"800.0\" r=\"12.0\"/><text x=\"2110.0\" y=\"845.0\">NADPH</text></g><g name=\"h+\"><circle cx=\"2350.0\" cy=\"900.0\" r=\"12.0\"/><text x=\"2375.0\" y=\"905.0\">H+</text></g></g></g></svg>"
      ],
      "text/plain": [
       "<IPython.core.display.SVG object>"
      ]
     },
     "execution_count": 15,
     "metadata": {},
     "output_type": "execute_result"
    }
   ],
   "source": [
    "redox_etc = build_pathway('redox_etc', 'Redox Carriers and Electron Transport')\n",
    "SVG(escher_map.EscherMap(redox_etc.diagram, width='10cm').draw())"
   ]
  },
  {
   "cell_type": "markdown",
   "id": "54700096-48c9-4fbf-aa98-9e7d4f001f35",
   "metadata": {},
   "source": [
    "## Save the pathways"
   ]
  },
  {
   "cell_type": "code",
   "execution_count": 16,
   "id": "3c3d2c81-ab81-4196-9a3b-946946eac5c0",
   "metadata": {},
   "outputs": [],
   "source": [
    "KB.put(KB.pathways, tca)\n",
    "KB.put(KB.pathways, oxphos)\n",
    "KB.put(KB.pathways, redox_etc)"
   ]
  }
 ],
 "metadata": {
  "kernelspec": {
   "display_name": "Python 3 (ipykernel)",
   "language": "python",
   "name": "python3"
  },
  "language_info": {
   "codemirror_mode": {
    "name": "ipython",
    "version": 3
   },
   "file_extension": ".py",
   "mimetype": "text/x-python",
   "name": "python",
   "nbconvert_exporter": "python",
   "pygments_lexer": "ipython3",
   "version": "3.11.2"
  }
 },
 "nbformat": 4,
 "nbformat_minor": 5
}
