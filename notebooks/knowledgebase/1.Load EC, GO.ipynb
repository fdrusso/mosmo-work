{
 "cells": [
  {
   "cell_type": "code",
   "execution_count": 1,
   "id": "cc6486f1",
   "metadata": {
    "tags": []
   },
   "outputs": [],
   "source": [
    "import collections\n",
    "import gzip\n",
    "import json\n",
    "import pronto\n",
    "import pymongo\n",
    "import rdflib\n",
    "import urllib.request\n",
    "\n",
    "from mosmo.knowledge import kb\n",
    "from mosmo.model import DS, KbEntry, DbXref\n",
    "\n",
    "KB = kb.configure_kb()"
   ]
  },
  {
   "cell_type": "markdown",
   "id": "30168ff7",
   "metadata": {},
   "source": [
    "# EC (from https://ftp.expasy.org/databases/enzyme/)"
   ]
  },
  {
   "cell_type": "code",
   "execution_count": 2,
   "id": "359d95d3-c309-46ec-bc2f-227605aa067b",
   "metadata": {},
   "outputs": [
    {
     "name": "stdout",
     "output_type": "stream",
     "text": [
      "CPU times: user 14.2 s, sys: 200 ms, total: 14.4 s\n",
      "Wall time: 30.1 s\n"
     ]
    }
   ],
   "source": [
    "%%time\n",
    "# Get the data fresh from the download site\n",
    "request = urllib.request.urlopen(\"https://ftp.expasy.org/databases/enzyme/enzyme.rdf\")\n",
    "ec_rdf = rdflib.Graph().parse(request, format=\"application/rdf+xml\")\n",
    "\n",
    "# Set up the namespaces we need to navigate the structure\n",
    "ec = rdflib.namespace.Namespace('http://purl.uniprot.org/enzyme/')\n",
    "ec_rdf.bind('ec', ec)\n",
    "\n",
    "namespaces = {k: v for k, v in ec_rdf.namespaces()}\n",
    "core = rdflib.namespace.Namespace(namespaces[''])\n",
    "rdf = rdflib.namespace.Namespace(namespaces['rdf'])\n",
    "rdfs = rdflib.namespace.Namespace(namespaces['rdfs'])\n",
    "skos = rdflib.namespace.Namespace(namespaces['skos'])"
   ]
  },
  {
   "cell_type": "code",
   "execution_count": 3,
   "id": "7ba84e0f",
   "metadata": {
    "tags": []
   },
   "outputs": [
    {
     "name": "stdout",
     "output_type": "stream",
     "text": [
      "7251 entries extracted\n"
     ]
    }
   ],
   "source": [
    "entries = {}\n",
    "for ecnum in ec_rdf.subjects(rdf.type, core.Enzyme):\n",
    "    if ec_rdf.value(ecnum, core.obsolete):\n",
    "        continue\n",
    "\n",
    "    id = ecnum.removeprefix(ec)\n",
    "    entries[id] = KbEntry(\n",
    "        id = id,\n",
    "        db = DS.EC,\n",
    "        name = ec_rdf.value(ecnum, skos.prefLabel).toPython(),\n",
    "        aka = [altname.toPython() for altname in ec_rdf.objects(ecnum, skos.altLabel)] or None,\n",
    "        description = '\\n'.join(comment.toPython() for comment in ec_rdf.objects(ecnum, rdfs.comment)) or None,\n",
    "    )\n",
    "\n",
    "print(f\"{len(entries)} entries extracted\")"
   ]
  },
  {
   "cell_type": "code",
   "execution_count": 15,
   "id": "8a03deea-be93-44f0-b48f-d34ccd22df96",
   "metadata": {},
   "outputs": [
    {
     "name": "stdout",
     "output_type": "stream",
     "text": [
      "EC:1.1.1.4\n",
      "name: (R,R)-butanediol dehydrogenase\n",
      "shorthand: None\n",
      "aka: \n",
      "    (R)-2,3-butanediol dehydrogenase\n",
      "    (R)-diacetyl reductase\n",
      "    1-amino-2-propanol dehydrogenase\n",
      "    1-amino-2-propanol oxidoreductase\n",
      "    2,3-butanediol dehydrogenase\n",
      "    aminopropanol oxidoreductase\n",
      "    butyleneglycol dehydrogenase\n",
      "    butylene glycol dehydrogenase\n",
      "    D-(-)-butanediol dehydrogenase\n",
      "    D-1-amino-2-propanol:NAD(2) oxidoreductase\n",
      "    D-1-amino-2-propanol dehydrogenase\n",
      "    D-aminopropanol dehydrogenase\n",
      "    D-butanediol dehydrogenase\n",
      "    diacetyl (acetoin) reductase\n",
      "description: \n",
      "    Also converts diacetyl into acetoin with NADH as\n",
      "    reductant.\n",
      "xrefs: None\n"
     ]
    }
   ],
   "source": [
    "entries['1.1.1.4'].data()"
   ]
  },
  {
   "cell_type": "markdown",
   "id": "18e9a0d1-9bf3-4322-939c-94d687fc5a95",
   "metadata": {},
   "source": [
    "### Uncomment this cell to write to the db"
   ]
  },
  {
   "cell_type": "code",
   "execution_count": 4,
   "id": "00384e0c-de6c-4851-861b-42ed810350de",
   "metadata": {},
   "outputs": [],
   "source": [
    "# %%time\n",
    "# collection = KB.client[KB.EC.client_db][KB.EC.collection]\n",
    "# collection.drop()\n",
    "# for entry in entries.values():\n",
    "#     KB.put(KB.EC, entry, bypass_cache=True)\n",
    "# collection.create_index('name', name='name', collation=pymongo.collation.Collation(locale='en_US', strength=1))\n",
    "# collection.create_index('aka', name='aka', collation=pymongo.collation.Collation(locale='en_US', strength=1))\n",
    "# print(\"success\")"
   ]
  },
  {
   "cell_type": "markdown",
   "id": "a6366a9b",
   "metadata": {},
   "source": [
    "# GO (from https://purl.obolibrary.org/obo/go.obo)"
   ]
  },
  {
   "cell_type": "code",
   "execution_count": 8,
   "id": "4970d4e2",
   "metadata": {
    "tags": []
   },
   "outputs": [
    {
     "name": "stdout",
     "output_type": "stream",
     "text": [
      "This version of GO has 47921 terms.\n",
      "CPU times: user 6min 20s, sys: 1min 48s, total: 8min 8s\n",
      "Wall time: 1min 5s\n"
     ]
    }
   ],
   "source": [
    "%%time\n",
    "# pronto.Ontology has built-in functionality that takes care of all the details for us\n",
    "go = pronto.Ontology.from_obo_library('go.obo')\n",
    "print(f'This version of GO has {len(go.terms())} terms.')"
   ]
  },
  {
   "cell_type": "code",
   "execution_count": 9,
   "id": "bcfbabfc",
   "metadata": {
    "tags": []
   },
   "outputs": [
    {
     "name": "stdout",
     "output_type": "stream",
     "text": [
      "XRef usage\n",
      "      BIOCYC: 1\n",
      "       CORUM: 12\n",
      "          EC: 4547\n",
      "        FBBT: 1\n",
      "         FMA: 5\n",
      "        HTTP: 1\n",
      "       HTTPS: 2\n",
      "      INTACT: 3\n",
      "    INTERPRO: 1\n",
      "        KEGG: 1733\n",
      " KEGG.MODULE: 1\n",
      "     METACYC: 4853\n",
      "          MP: 1\n",
      "NIF_SUBCELLULAR: 223\n",
      "        PMID: 1\n",
      "          PO: 1\n",
      "       REACT: 6350\n",
      "       RESID: 139\n",
      "        RHEA: 4360\n",
      "    SABIO-RK: 2\n",
      "          SO: 3\n",
      "          TC: 52\n",
      "UM-BBD_ENZYMEID: 61\n",
      "UM-BBD_PATHWAYID: 123\n",
      "UM-BBD_REACTIONID: 273\n",
      "  UNIPATHWAY: 2\n",
      "UNIPROTKB-KW: 1\n",
      "          VZ: 142\n",
      "        WBBT: 2\n",
      "        WIKI: 758\n",
      "   WIKIPEDIA: 2\n",
      "CPU times: user 946 ms, sys: 15 ms, total: 961 ms\n",
      "Wall time: 956 ms\n"
     ]
    }
   ],
   "source": [
    "%%time\n",
    "source_name = {\n",
    "    'Reactome': 'REACT',\n",
    "    'Wikipedia': 'WIKI',\n",
    "    'KEGG_REACTION': 'KEGG',\n",
    "    'KEGG_PATHWAY': 'KEGG',\n",
    "}\n",
    "source_count = collections.defaultdict(int)\n",
    "\n",
    "def extract_xref(xref):\n",
    "    parts = xref.id.split(':')\n",
    "    if len(parts) == 2:\n",
    "        db = DS.get(source_name.get(parts[0], parts[0].upper()))\n",
    "        id = parts[1]\n",
    "        source_count[db] += 1\n",
    "        return DbXref(db=db, id=id)\n",
    "    else:\n",
    "        return DbXref(db=None, id=xref.id)\n",
    "\n",
    "go_entries = {}\n",
    "not_parsed = []\n",
    "for term in go.terms():\n",
    "    if term.obsolete:\n",
    "        continue\n",
    "\n",
    "    id_parts = term.id.split(':')\n",
    "    if len(id_parts) == 2 and id_parts[0] == 'GO':\n",
    "        go_entries[id_parts[1]] = KbEntry(\n",
    "            id = id_parts[1],\n",
    "            db = DS.GO,\n",
    "            name = term.name,\n",
    "            description = f'[{term.namespace}] {term.definition}',\n",
    "            aka = [synonym.description for synonym in term.synonyms] or None,\n",
    "            xrefs = {extract_xref(xref) for xref in term.xrefs} or None\n",
    "        )\n",
    "    else:\n",
    "        not_parsed.append(term)\n",
    "\n",
    "print(\"XRef usage\")\n",
    "for source in sorted(source_count.keys()):\n",
    "    print(f'{source.id:>12}: {source_count[source]}')\n"
   ]
  },
  {
   "cell_type": "code",
   "execution_count": 11,
   "id": "e8c3b389-1e4c-4c92-b388-50d082e8d9d8",
   "metadata": {},
   "outputs": [
    {
     "name": "stdout",
     "output_type": "stream",
     "text": [
      "GO:0000050\n",
      "name: urea cycle\n",
      "shorthand: None\n",
      "aka: \n",
      "    urea biosynthesis\n",
      "    ornithine cycle\n",
      "    urea biosynthetic process\n",
      "description: \n",
      "    [biological_process] The sequence of reactions by which\n",
      "    arginine is synthesized from ornithine, then cleaved to\n",
      "    yield urea and regenerate ornithine. The overall\n",
      "    reaction equation is NH3 + CO2 + aspartate + 3 ATP + 2\n",
      "    H2O = urea + fumarate + 2 ADP + 2 phosphate + AMP +\n",
      "    diphosphate.\n",
      "xrefs: \n",
      "    WIKI:Urea_cycle\n"
     ]
    }
   ],
   "source": [
    "go_entries['0000050'].data()"
   ]
  },
  {
   "cell_type": "markdown",
   "id": "f03bf692-f5a1-46c5-893f-7c69eb3fc828",
   "metadata": {},
   "source": [
    "### Uncomment this cell to write GO entries to the db"
   ]
  },
  {
   "cell_type": "code",
   "execution_count": null,
   "id": "9c732ca2-3335-4b27-bd83-33accbbb3e60",
   "metadata": {},
   "outputs": [],
   "source": [
    "# %%time\n",
    "# collection = KB.client[KB.GO.client_db][KB.GO.collection]\n",
    "# collection.drop()\n",
    "# for go_entry in go_entries.values():\n",
    "#     KB.put(KB.GO, go_entry, bypass_cache=True)\n",
    "# collection.create_index('name', name='name', collation=pymongo.collation.Collation(locale='en_US', strength=1))\n",
    "# collection.create_index('aka', name='aka', collation=pymongo.collation.Collation(locale='en_US', strength=1))\n",
    "# collection.create_index([('xrefs.id', pymongo.ASCENDING), ('xrefs.db', pymongo.ASCENDING)],\n",
    "#                         name='xrefs',\n",
    "#                         collation=pymongo.collation.Collation(locale='en_US', strength=1))\n",
    "# print(\"success\")"
   ]
  }
 ],
 "metadata": {
  "kernelspec": {
   "display_name": "Python 3 (ipykernel)",
   "language": "python",
   "name": "python3"
  },
  "language_info": {
   "codemirror_mode": {
    "name": "ipython",
    "version": 3
   },
   "file_extension": ".py",
   "mimetype": "text/x-python",
   "name": "python",
   "nbconvert_exporter": "python",
   "pygments_lexer": "ipython3",
   "version": "3.11.2"
  }
 },
 "nbformat": 4,
 "nbformat_minor": 5
}
