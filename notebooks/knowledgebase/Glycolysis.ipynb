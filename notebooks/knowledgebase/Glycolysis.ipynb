{
 "cells": [
  {
   "cell_type": "markdown",
   "id": "0eaa6b7a-2918-4a97-b2a7-438f21a47489",
   "metadata": {},
   "source": [
    "# Construct Glycolysis+ Pathways and Diagrams\n",
    "__Notes__\n",
    "- We assume that most of the sugars already exist in the KnowledgeBase as a result of the notebook `Sugar Forms and Variations`, as well as the core nucleotides and deoxynucleotides, via `Nucleotides in the KB`.\n",
    "- This notebook builds up the reactions of glycolysis, pentose-phophate, entner-doudoroff, and overflow metabolism, as well as the remaining metabolites not covered by the systematic approaches above.\n",
    "- We use ChEBI as the origin for most metabolite definitions\n",
    "  - No access or licensing restrictions\n",
    "  - The precision and granularity we need, e.g. in terms of protonation states, isomeric forms, etc\n",
    "- Likewise, RHEA is the origin for reaction definitions.\n",
    "- However, those sources themselves do not serve our overall goals. So we construct and refine canonical KB versions of all the relevant items. The path is\n",
    "> EC number -> RHEA reaction -> ChEBI compound -> KB compound -> KB reaction\n",
    "- Start with EC numbers pulled from reference sources.\n",
    "  - The starting lists are fairly inclusive, so we may be selective about what we include in any final pathways."
   ]
  },
  {
   "cell_type": "code",
   "execution_count": 1,
   "id": "ccf12407",
   "metadata": {
    "tags": []
   },
   "outputs": [],
   "source": [
    "import collections\n",
    "import copy\n",
    "from ipydatagrid import DataGrid\n",
    "import ipywidgets as widgets\n",
    "import json\n",
    "import pandas as pd\n",
    "from IPython.display import SVG, display\n",
    "\n",
    "from mosmo.knowledge import kb\n",
    "from mosmo.model import DS, DbXref, KbEntry, Molecule, Reaction, Pathway, Specialization, Variation\n",
    "from mosmo.preso.escher import escher_map, escher_model\n",
    "\n",
    "# Data files are resources in the `data` package. Pathway diagrams are in `pw`\n",
    "from importlib.resources import files\n",
    "import mosmo.preso.escher.pw as pw_files\n",
    "import data\n",
    "\n",
    "def datafile(filename):\n",
    "    return files(data).joinpath(filename)\n",
    "\n",
    "KB = kb.configure_kb()"
   ]
  },
  {
   "cell_type": "markdown",
   "id": "53aff83a",
   "metadata": {},
   "source": [
    "## Glycolysis"
   ]
  },
  {
   "cell_type": "markdown",
   "id": "83c2ffe4-47b9-44be-ae67-b9c48e175e1a",
   "metadata": {},
   "source": [
    "### Collect RHEA reactions cross-referenced to these EC numbers"
   ]
  },
  {
   "cell_type": "code",
   "execution_count": 2,
   "id": "3e33fe40-919a-41a9-b588-778987904561",
   "metadata": {},
   "outputs": [],
   "source": [
    "glycolysis_rhea = set()\n",
    "with open(datafile('glycolysis.txt'), 'r') as f:\n",
    "    for line in f.readlines():\n",
    "        line = line.strip()\n",
    "        if not line or line.startswith('#'):\n",
    "            continue\n",
    "        ec_ref = DbXref(db=DS.EC, id=line)\n",
    "        rhea_rxns = KB.xref(KB.RHEA, ec_ref)\n",
    "        if rhea_rxns:\n",
    "            glycolysis_rhea.update(rhea_rxns)\n",
    "        else:\n",
    "            print(f'{ec_ref} has no corresponding reactions in RHEA')"
   ]
  },
  {
   "cell_type": "markdown",
   "id": "6d04879e-9eb3-4cbf-9d5d-b5fd9df40794",
   "metadata": {},
   "source": [
    "### Collect associated ChEBI entries, and cross-reference into existing KB molecules\n",
    "- Where available, navigate up to the canonical form of each KB molecule"
   ]
  },
  {
   "cell_type": "code",
   "execution_count": 3,
   "id": "91079f65-debe-439e-a06c-41c9ef5d22ea",
   "metadata": {},
   "outputs": [],
   "source": [
    "chebi_to_kb = {}\n",
    "for rxn in glycolysis_rhea:\n",
    "    for chebi_mol in rxn.stoichiometry:\n",
    "        if chebi_mol not in chebi_to_kb:\n",
    "            kb_mols = KB.xref(KB.compounds, chebi_mol.ref())\n",
    "            if len(kb_mols) > 1:\n",
    "                print(f'{chebi_mol} maps to multiple KB entries.')\n",
    "            if kb_mols:\n",
    "                kb_mol = kb_mols[0]\n",
    "                if kb_mol.canonical_form is not None:\n",
    "                    kb_mol = KB.get(KB.compounds, kb_mol.canonical_form.parent_id)\n",
    "            else:\n",
    "                kb_mol = None\n",
    "            chebi_to_kb[chebi_mol] = kb_mol"
   ]
  },
  {
   "cell_type": "markdown",
   "id": "fc2ef250-1fd9-48bf-9c8d-278652672038",
   "metadata": {},
   "source": [
    "### Manually curate KB compounds\n",
    "- Assign or edit kbid, name, akas, shorthand, and xrefs\n",
    "- Generally, any new entry inherits anything it can from the ChEBI entry\n",
    "- Manually mark KB entries to be updated"
   ]
  },
  {
   "cell_type": "code",
   "execution_count": 4,
   "id": "19c64404-13dd-4570-a065-72fd58abba50",
   "metadata": {},
   "outputs": [],
   "source": [
    "class MolEditTask:\n",
    "    FOCUS_DBS = [DS.KEGG, DS.METACYC, DS.CHEBI, DS.BIGG]\n",
    "    \n",
    "    def __init__(self, chebi_mol, kb_mol):\n",
    "        self.chebi_mols = [chebi_mol]\n",
    "        self.kb_mol = kb_mol\n",
    "        self.dirty = False\n",
    "        self.defunct_kb_id = None\n",
    "\n",
    "    def data(self):\n",
    "        data = {\n",
    "            'chebi_id': ', '.join(chebi_mol.id for chebi_mol in self.chebi_mols),\n",
    "            'kb_id': self.kb_mol.id if self.kb_mol else '',\n",
    "        }\n",
    "        data_mol = self.kb_mol or self.chebi_mols[0]\n",
    "        data['name'] = data_mol.name\n",
    "        data['shorthand'] = data_mol.shorthand or ''\n",
    "\n",
    "        xrefs = {xref.db: xref.id for xref in (data_mol.xrefs or [])}\n",
    "        for db in MolEditTask.FOCUS_DBS:\n",
    "            if db in xrefs:\n",
    "                data[db.id] = xrefs.pop(db)\n",
    "            else:\n",
    "                data[db.id] = ''\n",
    "        if self.kb_mol is None:\n",
    "            data['CHEBI'] = self.chebi_mols[0].id\n",
    "\n",
    "        data['others'] = ', '.join(f'{db.id}:{id}' for db, id in sorted(xrefs.items(), key=lambda kv: kv[0].id))\n",
    "\n",
    "        return data\n",
    "\n",
    "    def make_kb_entry(self):\n",
    "        if self.kb_mol is None:\n",
    "            # New KB molecule is modeled on the first reference molecule, and cross-referenced to it.\n",
    "            self.kb_mol = copy.deepcopy(self.chebi_mols[0])\n",
    "            self.kb_mol.id = None  # Must be assigned to save it.\n",
    "            self.kb_mol.db = None  # Assigned by KB on save\n",
    "            \n",
    "            xref = self.chebi_mols[0].ref()\n",
    "            if self.kb_mol.xrefs:\n",
    "                self.kb_mol.xrefs.add(xref)\n",
    "            else:\n",
    "                self.kb_mol.xrefs = {xref}\n",
    "\n",
    "            self.dirty = True\n",
    "\n",
    "    def update_kb_id(self, id):\n",
    "        if not id:\n",
    "            return\n",
    "        if id != self.kb_mol.id:\n",
    "            if self.kb_mol.id is not None:\n",
    "                self.defunct_kb_id = self.kb_mol.id\n",
    "            self.kb_mol.id = id\n",
    "            self.dirty = True\n",
    "\n",
    "    def update_name(self, name):\n",
    "        if not name:\n",
    "            return\n",
    "        if name != self.kb_mol.name:\n",
    "            # Preserve the old name as an aka, and remove the new one if it was an aka.\n",
    "            if self.kb_mol.aka is not None:\n",
    "                self.kb_mol.aka.insert(0, self.kb_mol.name)\n",
    "                try:\n",
    "                    self.kb_mol.aka.remove(name)\n",
    "                except ValueError:\n",
    "                    pass\n",
    "            else:\n",
    "                self.kb_mol.aka = [self.kb_mol.name]\n",
    "\n",
    "            self.kb_mol.name = name\n",
    "            self.dirty = True\n",
    "        \n",
    "    def update_shorthand(self, shorthand):\n",
    "        shorthand = shorthand or None\n",
    "        if shorthand != self.kb_mol.shorthand:\n",
    "            self.kb_mol.shorthand = shorthand\n",
    "            self.dirty = True\n",
    "\n",
    "    def update_xref(self, db, id):\n",
    "        if self.kb_mol.xrefs is None:\n",
    "            self.kb_mol.xrefs = set()\n",
    "\n",
    "        existing = None\n",
    "        for xref in self.kb_mol.xrefs:\n",
    "            if xref.db == db:\n",
    "                existing = xref\n",
    "                break\n",
    "        if existing is not None and existing.id == id:\n",
    "            return\n",
    "\n",
    "        if existing is not None:\n",
    "            self.kb_mol.xrefs.remove(existing)\n",
    "            self.dirty = True\n",
    "        if id:\n",
    "            self.kb_mol.xrefs.add(DbXref(db=db, id=id))\n",
    "            self.dirty = True\n",
    "\n",
    "    def update_other_xrefs(self, xrefs_str):\n",
    "        xrefs = set()\n",
    "        if xrefs_str:\n",
    "            for xref_str in xrefs_str.split(','):\n",
    "                db, id = xref_str.strip().split(':')\n",
    "                xrefs.add(DbXref(db=DS.get(db), id=id))\n",
    "        for xref in xrefs:\n",
    "            if xref not in self.kb_mol.xrefs:\n",
    "                self.dirty = True\n",
    "        for xref in self.kb_mol.xrefs:\n",
    "            if xref.db in MolEditTask.FOCUS_DBS:\n",
    "                xrefs.add(xref)\n",
    "            elif xref not in xrefs:\n",
    "                self.dirty = True\n",
    "        self.kb_mol.xrefs = xrefs"
   ]
  },
  {
   "cell_type": "code",
   "execution_count": 5,
   "id": "aa493d8f-053e-4a3a-8c42-463e6bc6b67a",
   "metadata": {},
   "outputs": [],
   "source": [
    "class MolEditGrid:\n",
    "    def __init__(self, tasks):\n",
    "        self.tasks = sorted(tasks, key=lambda task: (task.kb_mol or task.chebi_mols[0]).name)\n",
    "        df = pd.DataFrame([task.data() for task in self.tasks]).set_index('chebi_id')\n",
    "        self.grid = DataGrid(df, editable=True)\n",
    "        self.grid.on_cell_change(self.on_cell_change)\n",
    "\n",
    "    def on_cell_change(self, cell):\n",
    "        # The most robust way to do this is to apply the entire row's data every time\n",
    "        task = self.tasks[cell['row']]\n",
    "        row = self.grid.data.iloc[cell['row']]\n",
    "        \n",
    "        if task.kb_mol is None:\n",
    "            task.make_kb_entry()\n",
    "\n",
    "        task.update_kb_id(row['kb_id'])\n",
    "        task.update_name(row['name'])\n",
    "        task.update_shorthand(row['shorthand'])\n",
    "        for db in task.FOCUS_DBS:\n",
    "            task.update_xref(db, row[db.id])\n",
    "        task.update_other_xrefs(row['others'])\n",
    "\n",
    "    def display(self):\n",
    "        display(self.grid)"
   ]
  },
  {
   "cell_type": "code",
   "execution_count": 6,
   "id": "9614d07d-379b-4409-9074-d8adf2992d09",
   "metadata": {},
   "outputs": [
    {
     "data": {
      "application/vnd.jupyter.widget-view+json": {
       "model_id": "8cb8d7da77d647cc881178626999e7af",
       "version_major": 2,
       "version_minor": 0
      },
      "text/plain": [
       "DataGrid(auto_fit_params={'area': 'all', 'padding': 30, 'numCols': None}, corner_renderer=None, default_render…"
      ]
     },
     "metadata": {},
     "output_type": "display_data"
    }
   ],
   "source": [
    "tasks = []\n",
    "covered = {}\n",
    "for chebi_mol, kb_mol in chebi_to_kb.items():\n",
    "    if kb_mol is not None and kb_mol in covered:\n",
    "        covered[kb_mol].chebi_mols.append(chebi_mol)\n",
    "    else:\n",
    "        task = MolEditTask(chebi_mol, kb_mol)\n",
    "        tasks.append(task)\n",
    "        if kb_mol is not None:\n",
    "            covered[kb_mol] = task\n",
    "\n",
    "mol_edit_grid = MolEditGrid(tasks)\n",
    "mol_edit_grid.display()"
   ]
  },
  {
   "cell_type": "code",
   "execution_count": 7,
   "id": "5e202962-a3c3-4392-ac73-b674b5a82281",
   "metadata": {},
   "outputs": [],
   "source": [
    "for task in mol_edit_grid.tasks:\n",
    "    if task.defunct_kb_id:\n",
    "        print(\"Defunct: \" + task.defunct_kb_id)\n",
    "    if task.dirty:\n",
    "        print(task.kb_mol)\n",
    "        KB.put(KB.compounds, task.kb_mol)\n",
    "        task.dirty = False\n",
    "\n",
    "glycolysis_kb_mols = [task.kb_mol for task in mol_edit_grid.tasks if task.kb_mol and task.kb_mol.id]\n",
    "\n",
    "# Manually add Glc[e], used by PTS (to be added later)\n",
    "glycolysis_kb_mols.append(KB('Glc.D.ext'))"
   ]
  },
  {
   "cell_type": "markdown",
   "id": "f8eaf8ff-7488-4332-a287-0587dd5983a6",
   "metadata": {},
   "source": [
    "### Build KB versions of all reactions"
   ]
  },
  {
   "cell_type": "code",
   "execution_count": 8,
   "id": "f90570f0-8314-4399-b3dd-60969e45b4e9",
   "metadata": {},
   "outputs": [],
   "source": [
    "class RxnEditTask:\n",
    "    FOCUS_DBS = [DS.EC, DS.KEGG, DS.METACYC, DS.RHEA, DS.BIGG]\n",
    "    \n",
    "    def __init__(self, rhea_rxn, kb_rxn):\n",
    "        self.rhea_rxn = rhea_rxn\n",
    "        self.kb_rxn = kb_rxn\n",
    "        self.dirty = False\n",
    "        self.defunct_kb_id = None\n",
    "\n",
    "    def data(self):\n",
    "        data = {\n",
    "            'rhea_id': self.rhea_rxn.id,\n",
    "            'kb_id': self.kb_rxn.id or '',\n",
    "        }\n",
    "        data['name'] = self.kb_rxn.name\n",
    "        data['shorthand'] = self.kb_rxn.shorthand or ''\n",
    "        data['catalyst'] = self.kb_rxn.catalyst.id if self.kb_rxn.catalyst else ''\n",
    "        data['rev'] = self.kb_rxn.reversible\n",
    "        data['equation'] = self.kb_rxn.equation,\n",
    "\n",
    "        xrefs = {xref.db: xref.id for xref in (self.kb_rxn.xrefs or [])}\n",
    "        for db in RxnEditTask.FOCUS_DBS:\n",
    "            if db in xrefs:\n",
    "                data[db.id] = xrefs.pop(db)\n",
    "            else:\n",
    "                data[db.id] = ''\n",
    "\n",
    "        data['others'] = ', '.join(f'{db.id}:{id}' for db, id in sorted(xrefs.items(), key=lambda kv: kv[0].id))\n",
    "\n",
    "        return data\n",
    "\n",
    "    def update_kb_id(self, id):\n",
    "        if not id:\n",
    "            return\n",
    "        if id != self.kb_rxn.id:\n",
    "            if self.kb_rxn.id is not None:\n",
    "                self.defunct_kb_id = self.kb_rxn.id\n",
    "            self.kb_rxn.id = id\n",
    "            self.dirty = True\n",
    "\n",
    "    def update_name(self, name):\n",
    "        if not name:\n",
    "            return\n",
    "        if name != self.kb_rxn.name:\n",
    "            # Preserve the old name as an aka, and remove the new one if it was an aka.\n",
    "            if self.kb_rxn.aka is not None:\n",
    "                self.kb_rxn.aka.insert(0, self.kb_rxn.name)\n",
    "                try:\n",
    "                    self.kb_rxn.aka.remove(name)\n",
    "                except ValueError:\n",
    "                    pass\n",
    "            else:\n",
    "                self.kb_rxn.aka = [self.kb_rxn.name]\n",
    "\n",
    "            self.kb_rxn.name = name\n",
    "            self.dirty = True\n",
    "        \n",
    "    def update_shorthand(self, shorthand):\n",
    "        shorthand = shorthand or None\n",
    "        if shorthand != self.kb_rxn.shorthand:\n",
    "            self.kb_rxn.shorthand = shorthand\n",
    "            self.dirty = True\n",
    "        \n",
    "    def update_catalyst(self, catalyst_id):\n",
    "        if self.kb_rxn.catalyst:\n",
    "            if self.kb_rxn.catalyst.id == id:\n",
    "                return\n",
    "            else:\n",
    "                self.kb_rxn.catalyst = None\n",
    "                self.dirty = True\n",
    "\n",
    "        if catalyst_id:\n",
    "            self.kb_rxn.catalyst = Molecule(id=catalyst_id)\n",
    "            self.dirty = True\n",
    "\n",
    "    def update_reversible(self, reversible):\n",
    "        if reversible != self.kb_rxn.reversible:\n",
    "            self.kb_rxn.reversible = reversible\n",
    "            self.dirty = True\n",
    "        \n",
    "    def update_xref(self, db, id):\n",
    "        if self.kb_rxn.xrefs is None:\n",
    "            self.kb_rxn.xrefs = set()\n",
    "\n",
    "        existing = None\n",
    "        for xref in self.kb_rxn.xrefs:\n",
    "            if xref.db == db:\n",
    "                existing = xref\n",
    "                break\n",
    "        if existing is not None and existing.id == id:\n",
    "            return\n",
    "\n",
    "        if existing is not None:\n",
    "            self.kb_rxn.xrefs.remove(existing)\n",
    "            self.dirty = True\n",
    "        if id:\n",
    "            self.kb_rxn.xrefs.add(DbXref(db=db, id=id))\n",
    "            self.dirty = True\n",
    "\n",
    "    def update_other_xrefs(self, xrefs_str):\n",
    "        xrefs = set()\n",
    "        if xrefs_str:\n",
    "            for xref_str in xrefs_str.split(','):\n",
    "                db, id = xref_str.strip().split(':')\n",
    "                xrefs.add(DbXref(db=DS.get(db), id=id))\n",
    "        for xref in self.kb_rxn.xrefs:\n",
    "            if xref.db in RxnEditTask.FOCUS_DBS:\n",
    "                xrefs.add(xref)\n",
    "\n",
    "        if xrefs != self.kb_rxn.xrefs:\n",
    "            self.dirty = True\n",
    "            self.kb_rxn.xrefs = xrefs"
   ]
  },
  {
   "cell_type": "code",
   "execution_count": 9,
   "id": "2c3f77fc-8cf2-441f-816a-e21cc0fec671",
   "metadata": {},
   "outputs": [],
   "source": [
    "class RxnEditGrid:\n",
    "    def __init__(self, tasks):\n",
    "        self.tasks = sorted(tasks, key=lambda task: task.kb_rxn.name)\n",
    "        df = pd.DataFrame([task.data() for task in self.tasks]).set_index('rhea_id')\n",
    "        self.grid = DataGrid(df, editable=True)\n",
    "        self.grid.on_cell_change(self.on_cell_change)\n",
    "\n",
    "    def on_cell_change(self, cell):\n",
    "        # The most robust way to do this is to apply the entire row's data every time\n",
    "        task = self.tasks[cell['row']]\n",
    "        row = self.grid.data.iloc[cell['row']]\n",
    "        \n",
    "        task.update_kb_id(row['kb_id'])\n",
    "        task.update_name(row['name'])\n",
    "        task.update_shorthand(row['shorthand'])\n",
    "        task.update_catalyst(row['catalyst'])\n",
    "        task.update_reversible(row['rev'])\n",
    "        for db in task.FOCUS_DBS:\n",
    "            task.update_xref(db, row[db.id])\n",
    "        task.update_other_xrefs(row['others'])\n",
    "\n",
    "    def display(self):\n",
    "        display(self.grid)"
   ]
  },
  {
   "cell_type": "code",
   "execution_count": 10,
   "id": "ee0195b0-c904-4e97-8312-12e1e1892131",
   "metadata": {},
   "outputs": [
    {
     "data": {
      "application/vnd.jupyter.widget-view+json": {
       "model_id": "a310ccb6ead545dbbce9cfa4e931aa48",
       "version_major": 2,
       "version_minor": 0
      },
      "text/plain": [
       "DataGrid(auto_fit_params={'area': 'all', 'padding': 30, 'numCols': None}, corner_renderer=None, default_render…"
      ]
     },
     "metadata": {},
     "output_type": "display_data"
    }
   ],
   "source": [
    "def build_kb_rxn(rhea_rxn):\n",
    "    # Preemptively build the corresponding KB reaction, but only if we can map all the reactants\n",
    "    stoichiometry = {}\n",
    "    for chebi_mol, count in rhea_rxn.stoichiometry.items():\n",
    "        kb_mols = KB.xref(KB.compounds, chebi_mol.ref())\n",
    "        if len(kb_mols) == 1:\n",
    "            kb_mol = kb_mols[0]\n",
    "            if kb_mol.canonical_form is not None:\n",
    "                kb_mol = KB.get(KB.compounds, kb_mol.canonical_form.parent_id) \n",
    "            stoichiometry[kb_mol] = count\n",
    "        else:\n",
    "            # Abort\n",
    "            return None\n",
    "\n",
    "    kb_rxn = copy.deepcopy(rhea_rxn)\n",
    "    kb_rxn.id = None  # Must be assigned to save it.\n",
    "    kb_rxn.db = None  # Assigned by KB on save\n",
    "    kb_rxn.stoichiometry = stoichiometry\n",
    "    if kb_rxn.xrefs is not None:\n",
    "        kb_rxn.xrefs.add(rhea_rxn.ref())\n",
    "    else:\n",
    "        kb_rxn.xrefs = {rhea_rxn.ref()}\n",
    "    return kb_rxn\n",
    "\n",
    "\n",
    "tasks = []\n",
    "skipped_rhea = []\n",
    "for rhea_rxn in glycolysis_rhea:\n",
    "    kb_rxns = KB.xref(KB.reactions, rhea_rxn.ref())\n",
    "    if len(kb_rxns) > 1:\n",
    "        print(f'{rhea_rxn.ref()} maps to multiple KB entries.')\n",
    "    if kb_rxns:\n",
    "        kb_rxn = kb_rxns[0]\n",
    "    else:\n",
    "        kb_rxn = build_kb_rxn(rhea_rxn)\n",
    "\n",
    "    if kb_rxn:\n",
    "        tasks.append(RxnEditTask(rhea_rxn, kb_rxn))\n",
    "    else:\n",
    "        skipped_rhea.append(rhea_rxn)\n",
    "\n",
    "rxn_edit_grid = RxnEditGrid(tasks)\n",
    "rxn_edit_grid.display()"
   ]
  },
  {
   "cell_type": "code",
   "execution_count": 11,
   "id": "c81ece55-16fe-4408-9169-3fd0948e861c",
   "metadata": {},
   "outputs": [
    {
     "name": "stdout",
     "output_type": "stream",
     "text": [
      "[10736] * alcohol dehydrogenase\n",
      "[10740] alcohol dehydrogenase\n"
     ]
    }
   ],
   "source": [
    "for rhea_rxn in skipped_rhea:\n",
    "    print(f'[{rhea_rxn.id}] {rhea_rxn.name}')"
   ]
  },
  {
   "cell_type": "code",
   "execution_count": 12,
   "id": "d2641f39-a6af-4ed8-b0f4-0f95950b1f75",
   "metadata": {
    "tags": []
   },
   "outputs": [],
   "source": [
    "for task in rxn_edit_grid.tasks:\n",
    "    if task.defunct_kb_id:\n",
    "        print(\"Defunct: \" + task.defunct_kb_id)\n",
    "    if task.dirty:\n",
    "        print(task.kb_rxn)\n",
    "        KB.put(KB.reactions, task.kb_rxn)\n",
    "        task.dirty = False\n",
    "\n",
    "glycolysis_kb_rxns = [task.kb_rxn for task in rxn_edit_grid.tasks if task.kb_rxn and task.kb_rxn.id]\n",
    "\n",
    "# Manually add PTS, which does not have a single EC number\n",
    "glycolysis_kb_rxns.append(KB('pts.glc'))"
   ]
  },
  {
   "cell_type": "markdown",
   "id": "4be72a92-7c42-4a1a-bfd8-c7b9ee61c4dd",
   "metadata": {},
   "source": [
    "## Pentose Phosphate and Entner-Doudoroff\n",
    "- Same approach as for Glycolysis above"
   ]
  },
  {
   "cell_type": "code",
   "execution_count": 13,
   "id": "3ce32c8c-cff9-4864-ba3c-26e506c50508",
   "metadata": {},
   "outputs": [],
   "source": [
    "ppp_rhea = set()\n",
    "with open(datafile('ppp.txt'), 'r') as f:\n",
    "    for line in f.readlines():\n",
    "        line = line.strip()\n",
    "        if not line or line.startswith('#'):\n",
    "            continue\n",
    "        ec_ref = DbXref(db=DS.EC, id=line)\n",
    "        rhea_rxns = KB.xref(KB.RHEA, ec_ref)\n",
    "        if rhea_rxns:\n",
    "            ppp_rhea.update(rhea_rxns)\n",
    "        else:\n",
    "            print(f'{ec_ref} has no corresponding reactions in RHEA')\n",
    "\n",
    "ppp_chebi = set()\n",
    "for rxn in ppp_rhea:\n",
    "    ppp_chebi.update(rxn.stoichiometry.keys())\n",
    "\n",
    "tasks = []\n",
    "covered = {}\n",
    "for chebi_mol in ppp_chebi:\n",
    "    kb_mols = KB.xref(KB.compounds, chebi_mol.ref())\n",
    "    if kb_mols:\n",
    "        if len(kb_mols) > 1:\n",
    "            print(f'{chebi_mol} maps to multiple KB entries.')\n",
    "        kb_mol = kb_mols[0]\n",
    "        if kb_mol.canonical_form is not None:\n",
    "            kb_mol = KB.get(KB.compounds, kb_mol.canonical_form.parent_id)\n",
    "\n",
    "        if kb_mol in covered:\n",
    "            covered[kb_mol].chebi_mols.append(chebi_mol)\n",
    "        else:\n",
    "            task = MolEditTask(chebi_mol, kb_mol)\n",
    "            tasks.append(task)\n",
    "            covered[kb_mol] = task\n",
    "    else:\n",
    "        tasks.append(MolEditTask(chebi_mol, None))"
   ]
  },
  {
   "cell_type": "markdown",
   "id": "2ed6d709-9e9c-45fd-89d8-1d904d6c0953",
   "metadata": {},
   "source": [
    "### Recurring KB issue\n",
    "- PRPP is in ChEBI as CHEBI:17111 (α-furanose, fully protonated) CHEBI:58017 (α-furanose, 5- anion, used in the reaction), CHEBI:48955 (β-furanose, fully protonated) and CHEBI:48956 (ontology parent to all of these)\n",
    "- The pattern established for sugars is to use 48956 as the canonical form, with 58017 its default form\n",
    "- The canonical form should have xrefs to 48956, plus MetaCyc and KEGG\n",
    "- Other forms should have xrefs to corresponding ChEBI forms, but not KEGG or MetCyc\n",
    "- Best option right now is to manually add these ChEBI entries to our tasks, and hook up the `Variation`s and `Specialization`s appropriately as in `Sugar Forms and Variations`\n",
    "- May or may not be a graceful way to handle similar cases for other molecules with multiple forms in ChEBI"
   ]
  },
  {
   "cell_type": "code",
   "execution_count": 14,
   "id": "e37956dc-29ff-4caf-bb06-93bfb1b337db",
   "metadata": {},
   "outputs": [],
   "source": [
    "prpp_forms = ('17111', '58017', '48955', '48956')\n",
    "for chebi_id in prpp_forms:\n",
    "    chebi_mol = KB.get(KB.CHEBI, chebi_id)\n",
    "    if chebi_mol not in ppp_chebi:\n",
    "        tasks.append(MolEditTask(chebi_mol, None))\n",
    "for task in tasks:\n",
    "    if task.chebi_mols[0].id in prpp_forms:\n",
    "        task.kb_mol = KB.xref_one(KB.compounds, task.chebi_mols[0].ref())"
   ]
  },
  {
   "cell_type": "code",
   "execution_count": 15,
   "id": "5edc46b2-94fe-49d3-b63e-bfd13ab4371c",
   "metadata": {
    "scrolled": true
   },
   "outputs": [
    {
     "data": {
      "application/vnd.jupyter.widget-view+json": {
       "model_id": "63e9eb83d54041f6ac933285f23fafa0",
       "version_major": 2,
       "version_minor": 0
      },
      "text/plain": [
       "DataGrid(auto_fit_params={'area': 'all', 'padding': 30, 'numCols': None}, corner_renderer=None, default_render…"
      ]
     },
     "metadata": {},
     "output_type": "display_data"
    }
   ],
   "source": [
    "mol_edit_grid = MolEditGrid(tasks)\n",
    "mol_edit_grid.display()"
   ]
  },
  {
   "cell_type": "code",
   "execution_count": 16,
   "id": "6a158706-3242-4741-9430-cac548231cfc",
   "metadata": {},
   "outputs": [],
   "source": [
    "for task in mol_edit_grid.tasks:\n",
    "    if task.dirty:\n",
    "        print(task.kb_mol)\n",
    "        KB.put(KB.compounds, task.kb_mol)\n",
    "        task.dirty = False\n",
    "\n",
    "ppp_kb_mols = [task.kb_mol for task in mol_edit_grid.tasks if task.kb_mol and task.kb_mol.id]"
   ]
  },
  {
   "cell_type": "markdown",
   "id": "283075ba-98e9-4fc9-81d2-6d1ab47d0ed1",
   "metadata": {},
   "source": [
    "### Now the reactions"
   ]
  },
  {
   "cell_type": "code",
   "execution_count": 17,
   "id": "b751a0b1-a2a1-404f-bfb4-be51a81ff582",
   "metadata": {},
   "outputs": [
    {
     "data": {
      "application/vnd.jupyter.widget-view+json": {
       "model_id": "50595a9d1b934dd895aa0215bac301a5",
       "version_major": 2,
       "version_minor": 0
      },
      "text/plain": [
       "DataGrid(auto_fit_params={'area': 'all', 'padding': 30, 'numCols': None}, corner_renderer=None, default_render…"
      ]
     },
     "metadata": {},
     "output_type": "display_data"
    }
   ],
   "source": [
    "tasks = []\n",
    "skipped_rhea = []\n",
    "for rhea_rxn in ppp_rhea:\n",
    "    kb_rxns = KB.xref(KB.reactions, rhea_rxn.ref())\n",
    "    if len(kb_rxns) > 1:\n",
    "        print(f'{rhea_rxn.ref()} maps to multiple KB entries.')\n",
    "    if kb_rxns:\n",
    "        kb_rxn = kb_rxns[0]\n",
    "    else:\n",
    "        kb_rxn = build_kb_rxn(rhea_rxn)\n",
    "\n",
    "    if kb_rxn:\n",
    "        tasks.append(RxnEditTask(rhea_rxn, kb_rxn))\n",
    "    else:\n",
    "        skipped_rhea.append(rhea_rxn)\n",
    "        print(\"Skipped: \" + rhea_rxn)\n",
    "\n",
    "rxn_edit_grid = RxnEditGrid(tasks)\n",
    "rxn_edit_grid.display()"
   ]
  },
  {
   "cell_type": "code",
   "execution_count": 18,
   "id": "c29c3161-8e5e-40b8-8323-46f284b15c86",
   "metadata": {},
   "outputs": [],
   "source": [
    "for task in rxn_edit_grid.tasks:\n",
    "    if task.defunct_kb_id:\n",
    "        print(\"Defunct: \" + task.defunct_kb_id)\n",
    "    if task.dirty:\n",
    "        print(task.kb_rxn)\n",
    "        KB.put(KB.reactions, task.kb_rxn)\n",
    "        task.dirty = False\n",
    "\n",
    "ppp_kb_rxns = [task.kb_rxn for task in rxn_edit_grid.tasks if task.kb_rxn and task.kb_rxn.id]"
   ]
  },
  {
   "cell_type": "markdown",
   "id": "7ca4c83b-c7e6-4df2-b7b5-c81ed0b3ac2d",
   "metadata": {},
   "source": [
    "## Tie pathway definitions to Escher diagrams\n",
    "- Diagrams drawn using [Escher](escher.github.io)\n",
    "- That tool continues to work but is unfortunately not still maintained\n",
    "- To embed in notebooks we use mosmo.preso.escher.escher_map.EscherMap"
   ]
  },
  {
   "cell_type": "code",
   "execution_count": 19,
   "id": "0fc61bc6-2018-4c07-8098-4693d8c36d07",
   "metadata": {},
   "outputs": [],
   "source": [
    "def build_pathway(pwid, name=None):\n",
    "    map_json = json.loads(datafile(f'{pwid}.json').read_text())\n",
    "    diag = escher_map.EscherMap(map_json)\n",
    "\n",
    "    pw_labels = {rnode.reaction_id for rnode in diag.reactions}\n",
    "    pw_reactions = []\n",
    "    for reaction in glycolysis_kb_rxns + ppp_kb_rxns:\n",
    "        if reaction.label in pw_labels:\n",
    "            pw_reactions.append(reaction)\n",
    "    print(f'{len(pw_reactions)} of {len(pw_labels)} pathway reactions covered.')\n",
    "    \n",
    "    missing = pw_labels - {reaction.label for reaction in pw_reactions}\n",
    "    if missing:\n",
    "        print(f\"Missing: {', '.join(missing)}\")\n",
    "\n",
    "    return Pathway(\n",
    "        id = pwid,\n",
    "        name = name,\n",
    "        reactions = pw_reactions,\n",
    "        diagram = map_json,\n",
    "    )"
   ]
  },
  {
   "cell_type": "code",
   "execution_count": 20,
   "id": "1f21afde-a5a1-4ffe-acd1-fd8fad77299d",
   "metadata": {},
   "outputs": [
    {
     "name": "stdout",
     "output_type": "stream",
     "text": [
      "26 of 26 pathway reactions covered.\n"
     ]
    },
    {
     "data": {
      "image/svg+xml": [
       "<svg width=\"12cm\" height=\"None\" viewBox=\"-1150.6 -229.2 2985.7 3443.2\"><defs><style type=\"text/css\">\n",
       "#canvas {\n",
       "  fill: #ffffff;\n",
       "  stroke: #cccccc;\n",
       "}\n",
       "text {\n",
       "  font-family: sans-serif;\n",
       "  font-style: italic;\n",
       "  font-weight: bold;\n",
       "  stroke: none;\n",
       "  text-rendering: optimizelegibility;\n",
       "}\n",
       "#reactions text {\n",
       "  font-size: 30px;\n",
       "  fill: #334e75;\n",
       "}\n",
       "#reactions text.stoich {\n",
       "  font-size: 12px;\n",
       "}\n",
       "#metabolites text {\n",
       "  font-size: 20px;\n",
       "  fill: black;\n",
       "}\n",
       "#reactions {\n",
       "  fill: none;\n",
       "  stroke: #334e75;\n",
       "  stroke-width: 10;\n",
       "}\n",
       "#reactions.data {\n",
       "  stroke: #eeeeee;  /* default overridden by reaction_scale */\n",
       "}\n",
       "#reactions .arrowhead {\n",
       "  fill: #334e75;\n",
       "  stroke: none;\n",
       "}\n",
       "#reactions.data .arrowhead {\n",
       "  fill: #eeeeee;  /* default overridden by reaction_scale */\n",
       "}\n",
       "#metabolites {\n",
       "  fill: #e0865b;\n",
       "  stroke: #a24510;\n",
       "  stroke-width: 2;\n",
       "}\n",
       "#metabolites.data {\n",
       "  fill: #eeeeee;  /* default overridden by metabolite_scale */\n",
       "  stroke: none;\n",
       "}\n",
       "</style></defs><g id=\"eschermap\"><rect id=\"canvas\" x=\"-1150.6\" y=\"-229.2\" width=\"2985.7\" height=\"3443.2\"/><g id=\"reactions\" class=\"data\"><g name=\"GAPDH\" style=\"stroke: #841f27; stroke-width: 15.0;\"><path d=\"M 117.9 1386.1 L 117.9 1406.1\"/><path d=\"M 117.9 1426.1 L 117.9 1406.1\"/><path d=\"M 117.9 1386.1 C 117.9 1344.1 117.9 1255.2 117.9 1224.2\"/><path d=\"M 117.9 1386.1 C 117.9 1340.1 99.4 1335.4 57.0 1312.2\"/><path d=\"M 117.9 1386.1 C 117.9 1340.1 139.7 1336.0 181.0 1309.9\"/><path d=\"M 117.9 1426.1 C 117.9 1468.1 117.9 1487.7 117.9 1516.5\"/><path d=\"M 117.9 1426.1 C 117.9 1472.1 99.8 1477.3 57.1 1500.5\"/><text x=\"132.9\" y=\"1416.1\">GAPDH</text></g><g name=\"PGK\" style=\"stroke: #841f27; stroke-width: 15.0;\"><path d=\"M 117.9 1741.5 L 117.9 1721.5\"/><path d=\"M 117.9 1701.5 L 117.9 1721.5\"/><path d=\"M 117.9 1741.5 C 117.9 1783.5 117.9 1837.7 117.9 1866.5\"/><path d=\"M 117.9 1741.5 C 117.9 1787.5 99.8 1792.7 57.1 1816.0\"/><path d=\"M 117.9 1701.5 C 117.9 1659.5 117.9 1605.2 117.9 1576.5\"/><path d=\"M 117.9 1701.5 C 117.9 1655.5 99.8 1650.2 57.1 1627.0\"/><text x=\"132.9\" y=\"1731.5\">PGK</text></g><g name=\"GPM\" style=\"stroke: #841f27; stroke-width: 15.0;\"><path d=\"M 117.9 2020.0 L 117.9 2000.0\"/><path d=\"M 117.9 1980.0 L 117.9 2000.0\"/><path d=\"M 117.9 2020.0 C 117.9 2062.0 117.9 2038.9 117.9 2067.7\"/><path d=\"M 117.9 1980.0 C 117.9 1938.0 117.9 1955.2 117.9 1926.5\"/><text x=\"132.9\" y=\"2010.0\">GPM</text></g><g name=\"ENO\" style=\"stroke: #841f27; stroke-width: 15.0;\"><path d=\"M 117.9 2175.3 L 117.9 2195.3\"/><path d=\"M 117.9 2215.3 L 117.9 2195.3\"/><path d=\"M 117.9 2175.3 C 117.9 2133.3 117.9 2156.4 117.9 2127.7\"/><path d=\"M 117.9 2215.3 C 117.9 2261.3 99.8 2266.5 57.1 2289.7\"/><path d=\"M 117.9 2215.3 C 117.9 2257.3 117.9 2311.5 117.9 2340.3\"/><text x=\"132.9\" y=\"2240.8\">ENO</text></g><g name=\"PPS\" style=\"stroke: #841f27; stroke-width: 15.0;\"><path d=\"M 0.7 2569.2 L 0.7 2549.2\"/><path d=\"M 0.7 2529.2 L 0.7 2549.2\"/><path d=\"M 0.7 2569.2 C 0.7 2615.2 -14.8 2622.8 -60.0 2644.7\"/><path d=\"M 0.7 2569.2 C -11.1 2602.9 -38.5 2590.5 -51.6 2582.6\"/><path d=\"M 0.7 2569.2 C 0.7 2627.7 51.9 2665.0 94.8 2701.0\"/><path d=\"M 0.7 2529.2 C 0.7 2483.2 -13.6 2472.1 -59.5 2453.2\"/><path d=\"M 0.7 2529.2 C -3.4 2486.2 -71.4 2475.0 -114.3 2484.7\"/><path d=\"M 0.7 2529.2 C 1.9 2470.8 50.9 2429.6 95.4 2390.1\"/><text x=\"15.7\" y=\"2559.2\">PPS</text></g><g name=\"PDH\" style=\"stroke: #841f27; stroke-width: 15.0;\"><path d=\"M 303.6 2917.8 L 323.6 2917.8\"/><path d=\"M 343.6 2917.8 L 323.6 2917.8\"/><path d=\"M 303.6 2917.8 C 257.6 2917.5 221.1 2936.7 173.0 2954.5\"/><path d=\"M 303.6 2917.8 C 257.6 2917.5 252.2 2886.8 238.3 2857.1\"/><path d=\"M 303.6 2917.8 C 261.6 2917.5 122.6 2919.1 118.5 2750.3\"/><path d=\"M 343.6 2917.8 C 419.8 2917.8 572.9 2917.8 652.9 2917.8\"/><path d=\"M 343.6 2917.8 C 395.0 2919.9 428.1 2881.9 445.1 2855.6\"/><path d=\"M 343.6 2917.8 C 363.4 2916.3 380.2 2886.1 379.3 2856.9\"/><text x=\"294.1\" y=\"2980.2\">PDH</text></g><g name=\"PYK\" style=\"stroke: #841f27; stroke-width: 15.0;\"><path d=\"M 232.2 2568.4 L 232.2 2548.4\"/><path d=\"M 232.2 2528.4 L 232.2 2548.4\"/><path d=\"M 232.2 2568.4 C 232.2 2614.4 250.2 2619.7 292.9 2642.9\"/><path d=\"M 232.2 2568.4 C 232.8 2625.1 186.6 2663.3 140.9 2701.1\"/><path d=\"M 232.2 2528.4 C 232.2 2482.4 249.5 2485.4 287.4 2459.8\"/><path d=\"M 232.2 2528.4 C 232.2 2470.0 184.9 2432.0 140.0 2390.6\"/><text x=\"154.9\" y=\"2558.4\">PYK</text></g><g name=\"TPI\" style=\"stroke: #841f27; stroke-width: 15.0;\"><path d=\"M -37.2 1196.5 L -57.2 1196.5\"/><path d=\"M -77.2 1196.5 L -57.2 1196.5\"/><path d=\"M -37.2 1196.5 C 4.8 1196.5 54.6 1196.5 87.9 1195.3\"/><path d=\"M -77.2 1196.5 C -119.2 1196.5 -173.5 1196.5 -202.2 1196.5\"/><text x=\"-83.6\" y=\"1236.6\">TPI</text></g><g name=\"FBA\" style=\"stroke: #841f27; stroke-width: 15.0;\"><path d=\"M -232.2 1001.5 L -232.2 1021.5\"/><path d=\"M -232.2 1041.5 L -232.2 1021.5\"/><path d=\"M -232.2 1001.5 C -232.2 959.5 -232.2 905.2 -232.2 876.5\"/><path d=\"M -232.2 1041.5 C -232.2 1087.5 -75.4 1057.3 93.4 1176.9\"/><path d=\"M -232.2 1041.5 C -232.2 1083.5 -232.2 1137.7 -232.2 1166.5\"/><text x=\"-314.4\" y=\"1031.5\">FBA</text></g><g name=\"PFK\" style=\"stroke: #841f27; stroke-width: 15.0;\"><path d=\"M -111.1 640.9 L -111.1 660.9\"/><path d=\"M -111.1 680.9 L -111.1 660.9\"/><path d=\"M -111.1 640.9 C -111.1 594.9 -76.7 584.7 -69.4 582.8\"/><path d=\"M -111.1 640.9 C -111.1 598.9 -171.7 554.1 -210.5 517.2\"/><path d=\"M -111.1 680.9 C -111.1 726.9 -82.2 747.2 -52.2 758.7\"/><path d=\"M -111.1 680.9 C -111.1 722.9 -172.3 795.3 -209.4 827.0\"/><text x=\"-192.2\" y=\"676.2\">PFK</text></g><g name=\"PGI\" style=\"stroke: #841f27; stroke-width: 15.0;\"><path d=\"M -232.2 301.5 L -232.2 321.5\"/><path d=\"M -232.2 341.5 L -232.2 321.5\"/><path d=\"M -232.2 301.5 C -232.2 259.5 -232.2 204.2 -232.2 175.4\"/><path d=\"M -232.2 341.5 C -232.2 383.5 -232.2 437.7 -232.2 466.5\"/><text x=\"-322.9\" y=\"334.4\">PGI</text></g><g name=\"RPI\" style=\"stroke: #355e3b; stroke-width: 15.0;\"><path d=\"M 670.4 327.2 L 690.4 327.2\"/><path d=\"M 710.4 327.2 L 690.4 327.2\"/><path d=\"M 670.4 327.2 C 649.3 327.2 652.5 327.2 599.3 327.2\"/><g><path d=\"M 710.4 327.2 C 787.1 332.0 819.1 362.1 853.7 395.4\"/><g class=\"arrowhead\" transform=\"translate(853.7, 395.4) rotate(44) scale(1.5)\" style=\"fill: #355e3b\"><path d=\"M 0 -10 L 13 0 L 0 10 Z\" transform=\"translate(-3)\"/></g></g><text x=\"667.1\" y=\"377.9\">RPI</text></g><g name=\"PGLase\" style=\"stroke: #355e3b; stroke-width: 15.0;\"><path d=\"M 272.8 145.4 L 292.8 145.4\"/><path d=\"M 312.8 145.4 L 292.8 145.4\"/><path d=\"M 272.8 145.4 C 230.8 145.4 176.5 145.4 147.8 145.4\"/><path d=\"M 272.8 145.4 C 226.8 145.4 221.5 127.2 198.3 84.5\"/><g><path d=\"M 312.8 145.4 C 354.8 145.4 409.0 145.4 427.8 145.4\"/><g class=\"arrowhead\" transform=\"translate(427.8, 145.4) rotate(0) scale(1.5)\" style=\"fill: #355e3b\"><path d=\"M 0 -10 L 13 0 L 0 10 Z\" transform=\"translate(-3)\"/></g></g><text x=\"242.8\" y=\"105.4\">PGLase</text></g><g name=\"G6PDH\" style=\"stroke: #355e3b; stroke-width: 15.0;\"><path d=\"M -77.2 145.4 L -57.2 145.4\"/><path d=\"M -37.2 145.4 L -57.2 145.4\"/><path d=\"M -77.2 145.4 C -119.2 145.4 -172.2 145.4 -202.2 145.4\"/><path d=\"M -77.2 145.4 C -123.2 145.4 -128.5 127.2 -151.7 84.5\"/><g><path d=\"M -37.2 145.4 C 4.8 145.4 59.0 145.4 77.8 145.4\"/><g class=\"arrowhead\" transform=\"translate(77.8, 145.4) rotate(0) scale(1.5)\" style=\"fill: #355e3b\"><path d=\"M 0 -10 L 13 0 L 0 10 Z\" transform=\"translate(-3)\"/></g></g><g><path d=\"M -37.2 145.4 C 8.8 145.4 14.0 127.2 32.5 93.3\"/><g class=\"arrowhead\" transform=\"translate(32.5, 93.3) rotate(-61) scale(1.5)\" style=\"fill: #355e3b\"><path d=\"M 0 -10 L 13 0 L 0 10 Z\" transform=\"translate(-3)\"/></g></g><text x=\"-107.2\" y=\"105.4\">G6PDH</text></g><g name=\"PGLDH\" style=\"stroke: #355e3b; stroke-width: 15.0;\"><path d=\"M 788.2 229.0 L 802.0 243.4\"/><path d=\"M 815.9 257.8 L 802.0 243.4\"/><path d=\"M 788.2 229.0 C 759.0 198.7 671.9 150.2 497.8 146.1\"/><path d=\"M 788.2 229.0 C 780.2 215.0 771.7 194.1 775.1 159.9\"/><g><path d=\"M 815.9 257.8 C 847.8 290.9 892.4 280.2 902.6 271.2\"/><g class=\"arrowhead\" transform=\"translate(902.6, 271.2) rotate(-42) scale(1.5)\" style=\"fill: #355e3b\"><path d=\"M 0 -10 L 13 0 L 0 10 Z\" transform=\"translate(-3)\"/></g></g><g><path d=\"M 815.9 257.8 C 845.1 288.0 882.6 364.3 882.6 383.1\"/><g class=\"arrowhead\" transform=\"translate(882.6, 383.1) rotate(90) scale(1.5)\" style=\"fill: #355e3b\"><path d=\"M 0 -10 L 13 0 L 0 10 Z\" transform=\"translate(-3)\"/></g></g><g><path d=\"M 815.9 257.8 C 847.8 290.9 877.6 302.5 924.5 305.6\"/><g class=\"arrowhead\" transform=\"translate(924.5, 305.6) rotate(4) scale(1.5)\" style=\"fill: #355e3b\"><path d=\"M 0 -10 L 13 0 L 0 10 Z\" transform=\"translate(-3)\"/></g></g><text x=\"674.9\" y=\"261.3\">PGLDH</text></g><g name=\"RPE\" style=\"stroke: #355e3b; stroke-width: 15.0;\"><path d=\"M 689.1 635.0 L 669.1 635.0\"/><path d=\"M 649.1 635.0 L 669.1 635.0\"/><path d=\"M 689.1 635.0 C 856.8 639.8 885.9 518.3 883.6 453.1\"/><g><path d=\"M 649.1 635.0 C 607.1 635.0 567.8 635.0 549.0 635.0\"/><g class=\"arrowhead\" transform=\"translate(549.0, 635.0) rotate(180) scale(1.5)\" style=\"fill: #355e3b\"><path d=\"M 0 -10 L 13 0 L 0 10 Z\" transform=\"translate(-3)\"/></g></g><text x=\"668.2\" y=\"681.8\">RPE</text></g><g name=\"FBP\" style=\"stroke: #841f27; stroke-width: 15.0;\"><path d=\"M -350.7 687.5 L -350.7 667.5\"/><path d=\"M -350.7 647.5 L -350.7 667.5\"/><path d=\"M -350.7 687.5 C -350.7 729.5 -294.5 796.5 -255.6 827.7\"/><path d=\"M -350.7 687.5 C -350.7 733.5 -368.7 738.8 -411.4 762.0\"/><path d=\"M -350.7 647.5 C -350.7 605.5 -297.4 550.0 -255.4 515.5\"/><path d=\"M -350.7 647.5 C -350.7 601.5 -368.7 596.3 -411.4 573.0\"/><text x=\"-335.7\" y=\"677.5\">FBP</text></g><g name=\"PGLDhat\" style=\"stroke: #355e3b; stroke-width: 15.0;\"><path d=\"M 1177.3 370.0 L 1177.3 390.0\"/><path d=\"M 1177.3 410.0 L 1177.3 390.0\"/><path d=\"M 1177.3 370.0 C 1183.5 -70.9 668.2 85.1 496.5 136.8\"/><g><path d=\"M 1177.3 410.0 C 1177.3 452.0 1177.3 506.2 1177.3 525.0\"/><g class=\"arrowhead\" transform=\"translate(1177.3, 525.0) rotate(90) scale(1.5)\" style=\"fill: #355e3b\"><path d=\"M 0 -10 L 13 0 L 0 10 Z\" transform=\"translate(-3)\"/></g></g><g><path d=\"M 1177.3 410.0 C 1182.5 448.1 1195.3 461.2 1229.2 479.7\"/><g class=\"arrowhead\" transform=\"translate(1229.2, 479.7) rotate(29) scale(1.5)\" style=\"fill: #355e3b\"><path d=\"M 0 -10 L 13 0 L 0 10 Z\" transform=\"translate(-3)\"/></g></g><text x=\"1192.3\" y=\"400.0\">PGLDhat</text></g><g name=\"KDPGA\" style=\"stroke: #355e3b; stroke-width: 15.0;\"><path d=\"M 605.1 1104.3 L 590.2 1117.7\"/><path d=\"M 575.3 1131.0 L 590.2 1117.7\"/><path d=\"M 605.1 1104.3 C 657.1 1050.8 1174.1 777.4 1176.8 595.0\"/><g><path d=\"M 575.3 1131.0 C 367.0 1214.8 296.9 1097.9 153.1 1175.3\"/><g class=\"arrowhead\" transform=\"translate(153.1, 1175.3) rotate(152) scale(1.5)\" style=\"fill: #355e3b\"><path d=\"M 0 -10 L 13 0 L 0 10 Z\" transform=\"translate(-3)\"/></g></g><g><path d=\"M 575.3 1131.0 C 249.0 1577.9 866.2 2716.1 157.8 2720.0\"/><g class=\"arrowhead\" transform=\"translate(157.8, 2720.0) rotate(180) scale(1.5)\" style=\"fill: #355e3b\"><path d=\"M 0 -10 L 13 0 L 0 10 Z\" transform=\"translate(-3)\"/></g></g><text x=\"506.9\" y=\"1068.5\">KDPGA</text></g><g name=\"GlcPTS\" style=\"stroke: #841f27; stroke-width: 15.0;\"><path d=\"M -700.0 145.4 L -680.0 145.4\"/><path d=\"M -660.0 145.4 L -680.0 145.4\"/><path d=\"M -700.0 145.4 C -787.5 145.4 -745.2 145.4 -845.9 145.4\"/><path d=\"M -700.0 145.4 C -823.8 146.5 -846.8 2362.0 87.9 2370.0\"/><path d=\"M -660.0 145.4 C -593.7 145.4 -348.5 145.4 -262.2 145.4\"/><path d=\"M -660.0 145.4 C -557.6 145.9 -973.1 2714.7 87.8 2720.1\"/><text x=\"-690.9\" y=\"107.8\">GlcPTS</text></g><g name=\"PTA\" style=\"stroke: #841f27; stroke-width: 15.0;\"><path d=\"M 916.2 2917.8 L 896.2 2917.8\"/><path d=\"M 936.2 2917.8 L 916.2 2917.8\"/><path d=\"M 896.2 2917.8 C 828.4 2917.8 762.0 2917.8 712.9 2917.8\"/><path d=\"M 896.2 2917.8 C 842.9 2921.5 823.8 2956.8 810.6 2985.3\"/><path d=\"M 936.2 2917.8 C 978.2 2917.8 1031.1 2917.8 1099.8 2917.8\"/><path d=\"M 936.2 2917.8 C 982.2 2917.0 995.8 2947.5 1017.2 2978.3\"/><text x=\"875.5\" y=\"2981.6\">PTA</text></g><g name=\"ACK\" style=\"stroke: #841f27; stroke-width: 15.0;\"><path d=\"M 1351.5 2917.8 L 1371.5 2917.8\"/><path d=\"M 1331.5 2917.8 L 1351.5 2917.8\"/><path d=\"M 1371.5 2917.8 C 1467.8 2917.8 1483.5 2917.8 1566.5 2917.8\"/><path d=\"M 1371.5 2917.8 C 1402.0 2922.2 1421.5 2947.9 1444.6 2983.8\"/><path d=\"M 1331.5 2917.8 C 1289.5 2917.8 1188.6 2917.8 1159.8 2917.8\"/><path d=\"M 1331.5 2917.8 C 1285.5 2917.8 1265.1 2954.7 1254.5 2981.9\"/><text x=\"1314.1\" y=\"2990.9\">ACK</text></g><g name=\"ACCOAlig\" style=\"stroke: #841f27; stroke-width: 15.0;\"><path d=\"M 1127.1 2780.8 L 1147.1 2780.6\"/><path d=\"M 1107.1 2781.0 L 1127.1 2780.8\"/><path d=\"M 1147.1 2780.6 C 1336.3 2781.7 1529.3 2823.3 1579.1 2893.3\"/><path d=\"M 1147.1 2780.6 C 1192.2 2779.8 1228.4 2751.3 1230.9 2710.8\"/><path d=\"M 1147.1 2780.6 C 1199.0 2775.7 1254.5 2785.4 1283.3 2724.9\"/><path d=\"M 1107.1 2781.0 C 888.8 2782.1 760.2 2833.6 703.2 2895.7\"/><path d=\"M 1107.1 2781.0 C 1065.7 2763.2 1048.1 2742.9 1043.1 2712.1\"/><path d=\"M 1107.1 2781.0 C 1050.9 2767.3 997.4 2762.0 971.0 2731.3\"/><text x=\"1064.3\" y=\"2832.0\">ACCOAlig</text></g><g name=\"TKT1\" style=\"stroke: #355e3b; stroke-width: 15.0;\"><path d=\"M 394.3 327.2 L 374.3 327.2\"/><path d=\"M 414.3 327.2 L 394.3 327.2\"/><path d=\"M 374.3 327.2 C 330.3 329.5 284.5 341.5 253.2 355.5\"/><path d=\"M 374.3 327.2 C 318.8 329.6 283.7 304.4 253.9 293.3\"/><g><path d=\"M 414.3 327.2 C 456.3 327.2 510.6 327.2 529.3 327.2\"/><g class=\"arrowhead\" transform=\"translate(529.3, 327.2) rotate(0) scale(1.5)\" style=\"fill: #355e3b\"><path d=\"M 0 -10 L 13 0 L 0 10 Z\" transform=\"translate(-3)\"/></g></g><g><path d=\"M 414.3 327.2 C 541.8 326.0 662.0 470.8 536.3 605.8\"/><g class=\"arrowhead\" transform=\"translate(536.3, 605.8) rotate(133) scale(1.5)\" style=\"fill: #355e3b\"><path d=\"M 0 -10 L 13 0 L 0 10 Z\" transform=\"translate(-3)\"/></g></g><text x=\"344.3\" y=\"287.2\">TKT1</text></g><g name=\"TALA\" style=\"stroke: #355e3b; stroke-width: 15.0;\"><path d=\"M 44.3 327.2 L 64.3 327.2\"/><path d=\"M 24.3 327.2 L 44.3 327.2\"/><path d=\"M 64.3 327.2 C 118.0 328.3 167.0 339.1 198.8 354.6\"/><path d=\"M 64.3 327.2 C 119.9 322.4 171.5 304.4 197.9 293.9\"/><g><path d=\"M 24.3 327.2 C -83.5 327.2 -171.3 427.8 -205.7 466.5\"/><g class=\"arrowhead\" transform=\"translate(-205.7, 466.5) rotate(132) scale(1.5)\" style=\"fill: #355e3b\"><path d=\"M 0 -10 L 13 0 L 0 10 Z\" transform=\"translate(-3)\"/></g></g><g><path d=\"M 24.3 327.2 C -76.8 376.3 22.5 484.0 185.8 483.3\"/><g class=\"arrowhead\" transform=\"translate(185.8, 483.3) rotate(-0) scale(1.5)\" style=\"fill: #355e3b\"><path d=\"M 0 -10 L 13 0 L 0 10 Z\" transform=\"translate(-3)\"/></g></g><text x=\"-5.7\" y=\"287.2\">TALA</text></g><g name=\"TKT2\" style=\"stroke: #355e3b; stroke-width: 15.0;\"><path d=\"M 289.7 635.0 L 309.7 635.0\"/><path d=\"M 269.7 635.0 L 289.7 635.0\"/><path d=\"M 309.7 635.0 C 394.5 635.0 394.3 477.0 255.8 482.0\"/><path d=\"M 309.7 635.0 C 359.3 635.0 433.2 635.0 479.0 635.0\"/><g><path d=\"M 269.7 635.0 C 227.7 635.0 -8.5 492.6 -192.2 495.8\"/><g class=\"arrowhead\" transform=\"translate(-192.2, 495.8) rotate(179) scale(1.5)\" style=\"fill: #355e3b\"><path d=\"M 0 -10 L 13 0 L 0 10 Z\" transform=\"translate(-3)\"/></g></g><g><path d=\"M 269.7 635.0 C 84.8 639.8 118.5 1078.1 118.1 1154.2\"/><g class=\"arrowhead\" transform=\"translate(118.1, 1154.2) rotate(90) scale(1.5)\" style=\"fill: #355e3b\"><path d=\"M 0 -10 L 13 0 L 0 10 Z\" transform=\"translate(-3)\"/></g></g><text x=\"252.9\" y=\"696.8\">TKT2</text></g></g><g id=\"metabolites\" class=\"data\"><g name=\"NAD+\"><circle cx=\"37.7\" cy=\"1301.6\" r=\"20.0\" style=\"fill: #841f27;\"/><text x=\"-53.3\" y=\"1301.7\">NAD+</text></g><g name=\"Pi\"><circle cx=\"199.7\" cy=\"1298.1\" r=\"20.0\" style=\"fill: #841f27;\"/><text x=\"238.9\" y=\"1307.7\">Pi</text></g><g name=\"DPG\"><circle cx=\"117.9\" cy=\"1546.5\" r=\"20.0\" style=\"fill: #841f27;\"/><text x=\"159.1\" y=\"1559.1\">DPG</text></g><g name=\"NADH\"><circle cx=\"37.8\" cy=\"1511.1\" r=\"20.0\" style=\"fill: #841f27;\"/><text x=\"-52.1\" y=\"1517.6\">NADH</text></g><g name=\"3PG\"><circle cx=\"117.9\" cy=\"1896.5\" r=\"20.0\" style=\"fill: #841f27;\"/><text x=\"155.5\" y=\"1901.9\">3PG</text></g><g name=\"ATP\"><circle cx=\"37.8\" cy=\"1826.5\" r=\"20.0\" style=\"fill: #355e3b;\"/><text x=\"-30.5\" y=\"1834.9\">ATP</text></g><g name=\"ADP\"><circle cx=\"37.8\" cy=\"1616.5\" r=\"20.0\" style=\"fill: #841f27;\"/><text x=\"-28.7\" y=\"1619.5\">ADP</text></g><g name=\"2PG\"><circle cx=\"117.9\" cy=\"2097.7\" r=\"20.0\" style=\"fill: #841f27;\"/><text x=\"159.1\" y=\"2104.8\">2PG</text></g><g name=\"H2O\"><circle cx=\"37.8\" cy=\"2300.3\" r=\"20.0\" style=\"fill: #355e3b;\"/><text x=\"-41.8\" y=\"2308.3\">H2O</text></g><g name=\"PEP\"><circle cx=\"117.9\" cy=\"2370.3\" r=\"20.0\" style=\"fill: #841f27;\"/><text x=\"149.8\" y=\"2337.3\">PEP</text></g><g name=\"ATP\"><circle cx=\"-79.8\" cy=\"2654.2\" r=\"20.0\" style=\"fill: #355e3b;\"/><text x=\"-131.2\" y=\"2651.9\">ATP</text></g><g name=\"H2O\"><circle cx=\"-70.5\" cy=\"2571.3\" r=\"20.0\" style=\"fill: #355e3b;\"/><text x=\"-125.7\" y=\"2576.6\">H2O</text></g><g name=\"pyr\"><circle cx=\"117.8\" cy=\"2720.3\" r=\"20.0\" style=\"fill: #355e3b;\"/><text x=\"49.9\" y=\"2773.7\">pyr</text></g><g name=\"AMP\"><circle cx=\"-79.8\" cy=\"2444.8\" r=\"20.0\" style=\"fill: #355e3b;\"/><text x=\"-135.9\" y=\"2441.3\">AMP</text></g><g name=\"Pi\"><circle cx=\"-135.7\" cy=\"2489.5\" r=\"20.0\" style=\"fill: #841f27;\"/><text x=\"-165.5\" y=\"2515.4\">Pi</text></g><g name=\"CoA\"><circle cx=\"152.4\" cy=\"2962.2\" r=\"20.0\" style=\"fill: #841f27;\"/><text x=\"80.0\" y=\"2994.5\">CoA</text></g><g name=\"NAD+\"><circle cx=\"228.9\" cy=\"2837.2\" r=\"20.0\" style=\"fill: #841f27;\"/><text x=\"195.1\" y=\"2805.8\">NAD+</text></g><g name=\"acCoA\"><circle cx=\"682.9\" cy=\"2917.8\" r=\"20.0\" style=\"fill: #841f27;\"/><text x=\"597.2\" y=\"2873.7\">acCoA</text></g><g name=\"CO2\"><circle cx=\"457.1\" cy=\"2837.1\" r=\"20.0\" style=\"fill: #355e3b;\"/><text x=\"466.1\" y=\"2816.0\">CO2</text></g><g name=\"NADH\"><circle cx=\"378.6\" cy=\"2834.9\" r=\"20.0\" style=\"fill: #841f27;\"/><text x=\"344.9\" y=\"2810.5\">NADH</text></g><g name=\"ATP\"><circle cx=\"312.2\" cy=\"2653.4\" r=\"20.0\" style=\"fill: #355e3b;\"/><text x=\"327.2\" y=\"2653.4\">ATP</text></g><g name=\"ADP\"><circle cx=\"305.7\" cy=\"2447.5\" r=\"20.0\" style=\"fill: #841f27;\"/><text x=\"318.2\" y=\"2442.9\">ADP</text></g><g name=\"DHAP\"><circle cx=\"-232.2\" cy=\"1196.5\" r=\"20.0\" style=\"fill: #841f27;\"/><text x=\"-253.8\" y=\"1236.5\">DHAP</text></g><g name=\"FDP\"><circle cx=\"-232.2\" cy=\"846.5\" r=\"20.0\" style=\"fill: #841f27;\"/><text x=\"-316.2\" y=\"874.5\">FDP</text></g><g name=\"ATP\"><circle cx=\"-48.2\" cy=\"577.2\" r=\"20.0\" style=\"fill: #355e3b;\"/><text x=\"-23.6\" y=\"577.2\">ATP</text></g><g name=\"F6P\"><circle cx=\"-232.2\" cy=\"496.5\" r=\"20.0\" style=\"fill: #355e3b;\"/><text x=\"-315.0\" y=\"489.9\">F6P</text></g><g name=\"ADP\"><circle cx=\"-31.6\" cy=\"766.5\" r=\"20.0\" style=\"fill: #841f27;\"/><text x=\"-9.6\" y=\"785.4\">ADP</text></g><g name=\"G6P\"><circle cx=\"-232.2\" cy=\"145.4\" r=\"20.0\" style=\"fill: #355e3b;\"/><text x=\"-294.3\" y=\"109.7\">G6P</text></g><g name=\"6PG\"><circle cx=\"467.8\" cy=\"145.4\" r=\"20.0\" style=\"fill: #355e3b;\"/><text x=\"451.6\" y=\"185.4\">6PG</text></g><g name=\"Ru5P\"><circle cx=\"882.6\" cy=\"423.1\" r=\"20.0\" style=\"fill: #355e3b;\"/><text x=\"907.6\" y=\"423.1\">Ru5P</text></g><g name=\"R5P\"><circle cx=\"569.3\" cy=\"327.2\" r=\"20.0\" style=\"fill: #355e3b;\"/><text x=\"553.7\" y=\"287.6\">R5P</text></g><g name=\"6PGDL\"><circle cx=\"117.8\" cy=\"145.4\" r=\"20.0\" style=\"fill: #355e3b;\"/><text x=\"90.8\" y=\"185.4\">6PGDL</text></g><g name=\"H2O\"><circle cx=\"187.8\" cy=\"65.2\" r=\"20.0\" style=\"fill: #355e3b;\"/><text x=\"171.6\" y=\"45.2\">H2O</text></g><g name=\"NADP+\"><circle cx=\"-162.2\" cy=\"65.2\" r=\"20.0\" style=\"fill: #355e3b;\"/><text x=\"-205.4\" y=\"45.2\">NADP+</text></g><g name=\"NADPH\"><circle cx=\"47.8\" cy=\"65.2\" r=\"20.0\" style=\"fill: #355e3b;\"/><text x=\"20.8\" y=\"45.2\">NADPH</text></g><g name=\"NADP+\"><circle cx=\"777.3\" cy=\"138.1\" r=\"20.0\" style=\"fill: #355e3b;\"/><text x=\"811.4\" y=\"139.3\">NADP+</text></g><g name=\"CO2\"><circle cx=\"926.5\" cy=\"250.0\" r=\"20.0\" style=\"fill: #355e3b;\"/><text x=\"960.2\" y=\"247.9\">CO2</text></g><g name=\"NADPH\"><circle cx=\"956.5\" cy=\"307.7\" r=\"20.0\" style=\"fill: #355e3b;\"/><text x=\"971.5\" y=\"307.7\">NADPH</text></g><g name=\"Xu5P\"><circle cx=\"509.0\" cy=\"635.0\" r=\"20.0\" style=\"fill: #355e3b;\"/><text x=\"487.4\" y=\"687.0\">Xu5P</text></g><g name=\"H2O\"><circle cx=\"-430.7\" cy=\"772.5\" r=\"20.0\" style=\"fill: #355e3b;\"/><text x=\"-457.7\" y=\"802.5\">H2O</text></g><g name=\"Pi\"><circle cx=\"-430.7\" cy=\"562.5\" r=\"20.0\" style=\"fill: #841f27;\"/><text x=\"-448.7\" y=\"592.5\">Pi</text></g><g name=\"KDPG\"><circle cx=\"1177.3\" cy=\"565.0\" r=\"20.0\" style=\"fill: #355e3b;\"/><text x=\"1086.1\" y=\"573.5\">KDPG</text></g><g name=\"H2O\"><circle cx=\"1257.3\" cy=\"495.0\" r=\"20.0\" style=\"fill: #355e3b;\"/><text x=\"1272.3\" y=\"495.0\">H2O</text></g><g name=\"GAP\"><circle cx=\"117.9\" cy=\"1194.2\" r=\"20.0\" style=\"fill: #355e3b;\"/><text x=\"161.0\" y=\"1220.7\">GAP</text></g><g name=\"Glc[e]\"><circle cx=\"-875.9\" cy=\"145.4\" r=\"20.0\" style=\"fill: #841f27;\"/><text x=\"-912.3\" y=\"101.7\">Glc[e]</text></g><g name=\"Pi\"><circle cx=\"801.3\" cy=\"3005.2\" r=\"20.0\" style=\"fill: #841f27;\"/><text x=\"772.6\" y=\"3044.2\">Pi</text></g><g name=\"acP\"><circle cx=\"1129.8\" cy=\"2917.8\" r=\"20.0\" style=\"fill: #841f27;\"/><text x=\"1099.1\" y=\"2966.2\">acP</text></g><g name=\"CoA\"><circle cx=\"1029.7\" cy=\"2996.3\" r=\"20.0\" style=\"fill: #841f27;\"/><text x=\"1024.3\" y=\"3042.5\">CoA</text></g><g name=\"ac\"><circle cx=\"1596.5\" cy=\"2917.8\" r=\"20.0\" style=\"fill: #841f27;\"/><text x=\"1641.4\" y=\"2943.4\">ac</text></g><g name=\"ATP\"><circle cx=\"1456.5\" cy=\"3002.4\" r=\"20.0\" style=\"fill: #355e3b;\"/><text x=\"1445.7\" y=\"3042.4\">ATP</text></g><g name=\"ADP\"><circle cx=\"1246.5\" cy=\"3002.4\" r=\"20.0\" style=\"fill: #841f27;\"/><text x=\"1230.3\" y=\"3042.4\">ADP</text></g><g name=\"ATP\"><circle cx=\"1232.3\" cy=\"2688.8\" r=\"20.0\" style=\"fill: #355e3b;\"/><text x=\"1241.2\" y=\"2672.6\">ATP</text></g><g name=\"CoA\"><circle cx=\"1292.7\" cy=\"2705.0\" r=\"20.0\" style=\"fill: #841f27;\"/><text x=\"1307.7\" y=\"2705.0\">CoA</text></g><g name=\"AMP\"><circle cx=\"1039.7\" cy=\"2690.3\" r=\"20.0\" style=\"fill: #355e3b;\"/><text x=\"999.1\" y=\"2674.9\">AMP</text></g><g name=\"PPi\"><circle cx=\"956.7\" cy=\"2714.7\" r=\"20.0\" style=\"fill: #841f27;\"/><text x=\"908.7\" y=\"2695.5\">PPi</text></g><g name=\"Sed7P\"><circle cx=\"225.8\" cy=\"282.9\" r=\"20.0\" style=\"fill: #355e3b;\"/><text x=\"195.2\" y=\"246.2\">Sed7P</text></g><g name=\"E4P\"><circle cx=\"225.8\" cy=\"483.1\" r=\"20.0\" style=\"fill: #355e3b;\"/><text x=\"208.4\" y=\"532.5\">E4P</text></g><g name=\"GAP\"><circle cx=\"225.8\" cy=\"367.7\" r=\"20.0\" style=\"fill: #355e3b;\"/><text x=\"205.4\" y=\"417.7\">GAP</text></g></g></g></svg>"
      ],
      "text/plain": [
       "<IPython.core.display.SVG object>"
      ]
     },
     "execution_count": 20,
     "metadata": {},
     "output_type": "execute_result"
    }
   ],
   "source": [
    "# Color both the metabolites and the rxns by group\n",
    "# Of course some metabolites are reused, but that's ok\n",
    "mol_group = {}\n",
    "for i, molset in enumerate([glycolysis_kb_mols, ppp_kb_mols]):\n",
    "    for mol in molset:\n",
    "        mol_group[mol.label] = i\n",
    "mol_group_scale = escher_map.Scale({0: (\"#841f27\", 20), 1: (\"#355e3b\", 20)})\n",
    "\n",
    "rxn_group = {}\n",
    "for i, rxnset in enumerate([glycolysis_kb_rxns, ppp_kb_rxns]):\n",
    "    for rxn in rxnset:\n",
    "        rxn_group[rxn.label] = i\n",
    "rxn_group_scale = escher_map.Scale({0: (\"#841f27\", 15), 1: (\"#355e3b\", 15)})\n",
    "\n",
    "# Build the glycolysis_ppp_ov pathway with diagram, and then display color-coded\n",
    "glycolysis_ppp_ov = build_pathway('glycolysis_ppp_ov', 'Glycolysis + PPP + Overflow')\n",
    "diag = escher_map.EscherMap(\n",
    "    glycolysis_ppp_ov.diagram,\n",
    "    width=\"12cm\",\n",
    "    metabolite_scale=mol_group_scale,\n",
    "    reaction_scale=rxn_group_scale)\n",
    "SVG(diag.draw(metabolite_data=mol_group, reaction_data=rxn_group))"
   ]
  },
  {
   "cell_type": "code",
   "execution_count": 21,
   "id": "ee399cd5-f2fd-4123-bc09-755efd007cb2",
   "metadata": {},
   "outputs": [
    {
     "name": "stdout",
     "output_type": "stream",
     "text": [
      "21 of 21 pathway reactions covered.\n"
     ]
    },
    {
     "data": {
      "image/svg+xml": [
       "<svg width=\"12cm\" height=\"None\" viewBox=\"-1150.6 -229.2 2985.7 3443.2\"><defs><style type=\"text/css\">\n",
       "#canvas {\n",
       "  fill: #ffffff;\n",
       "  stroke: #cccccc;\n",
       "}\n",
       "text {\n",
       "  font-family: sans-serif;\n",
       "  font-style: italic;\n",
       "  font-weight: bold;\n",
       "  stroke: none;\n",
       "  text-rendering: optimizelegibility;\n",
       "}\n",
       "#reactions text {\n",
       "  font-size: 30px;\n",
       "  fill: #334e75;\n",
       "}\n",
       "#reactions text.stoich {\n",
       "  font-size: 12px;\n",
       "}\n",
       "#metabolites text {\n",
       "  font-size: 20px;\n",
       "  fill: black;\n",
       "}\n",
       "#reactions {\n",
       "  fill: none;\n",
       "  stroke: #334e75;\n",
       "  stroke-width: 10;\n",
       "}\n",
       "#reactions.data {\n",
       "  stroke: #eeeeee;  /* default overridden by reaction_scale */\n",
       "}\n",
       "#reactions .arrowhead {\n",
       "  fill: #334e75;\n",
       "  stroke: none;\n",
       "}\n",
       "#reactions.data .arrowhead {\n",
       "  fill: #eeeeee;  /* default overridden by reaction_scale */\n",
       "}\n",
       "#metabolites {\n",
       "  fill: #e0865b;\n",
       "  stroke: #a24510;\n",
       "  stroke-width: 2;\n",
       "}\n",
       "#metabolites.data {\n",
       "  fill: #eeeeee;  /* default overridden by metabolite_scale */\n",
       "  stroke: none;\n",
       "}\n",
       "</style></defs><g id=\"eschermap\"><rect id=\"canvas\" x=\"-1150.6\" y=\"-229.2\" width=\"2985.7\" height=\"3443.2\"/><g id=\"reactions\" class=\"data\"><g name=\"GAPDH\" style=\"stroke: #841f27; stroke-width: 15.0;\"><path d=\"M 117.5 1371.0 L 117.5 1391.0\"/><path d=\"M 117.5 1411.0 L 117.5 1391.0\"/><path d=\"M 117.5 1371.0 C 117.5 1329.0 117.5 1255.2 117.5 1224.2\"/><path d=\"M 117.5 1371.0 C 117.5 1325.0 99.4 1320.4 57.0 1297.2\"/><path d=\"M 117.5 1371.0 C 117.5 1325.0 139.7 1320.9 181.0 1294.8\"/><path d=\"M 117.5 1411.0 C 117.5 1453.0 117.5 1487.7 117.5 1516.5\"/><path d=\"M 117.5 1411.0 C 117.5 1457.0 99.8 1462.3 57.1 1485.5\"/><text x=\"132.5\" y=\"1401.0\">GAPDH</text></g><g name=\"PGK\" style=\"stroke: #841f27; stroke-width: 15.0;\"><path d=\"M 117.5 1741.5 L 117.5 1721.5\"/><path d=\"M 117.5 1701.5 L 117.5 1721.5\"/><path d=\"M 117.5 1741.5 C 117.5 1783.5 117.5 1837.7 117.5 1866.5\"/><path d=\"M 117.5 1741.5 C 117.5 1787.5 99.8 1792.7 57.1 1816.0\"/><path d=\"M 117.5 1701.5 C 117.5 1659.5 117.5 1605.2 117.5 1576.5\"/><path d=\"M 117.5 1701.5 C 117.5 1655.5 99.8 1650.2 57.1 1627.0\"/><text x=\"132.5\" y=\"1731.5\">PGK</text></g><g name=\"GPM\" style=\"stroke: #841f27; stroke-width: 15.0;\"><path d=\"M 117.5 2020.0 L 117.5 2000.0\"/><path d=\"M 117.5 1980.0 L 117.5 2000.0\"/><path d=\"M 117.5 2020.0 C 117.5 2062.0 117.5 2038.9 117.5 2067.7\"/><path d=\"M 117.5 1980.0 C 117.5 1938.0 117.5 1955.2 117.5 1926.5\"/><text x=\"132.5\" y=\"2010.0\">GPM</text></g><g name=\"ENO\" style=\"stroke: #841f27; stroke-width: 15.0;\"><path d=\"M 117.5 2175.3 L 117.5 2195.3\"/><path d=\"M 117.5 2215.3 L 117.5 2195.3\"/><path d=\"M 117.5 2175.3 C 117.5 2133.3 117.5 2156.4 117.5 2127.7\"/><path d=\"M 117.5 2215.3 C 117.5 2261.3 99.8 2266.5 57.1 2289.7\"/><path d=\"M 117.5 2215.3 C 117.5 2257.3 117.5 2311.5 117.5 2340.3\"/><text x=\"132.5\" y=\"2240.8\">ENO</text></g><g name=\"PDH\" style=\"stroke: #841f27; stroke-width: 15.0;\"><path d=\"M 303.6 2917.8 L 323.6 2917.8\"/><path d=\"M 343.6 2917.8 L 323.6 2917.8\"/><path d=\"M 303.6 2917.8 C 257.6 2917.5 221.1 2936.7 173.0 2954.5\"/><path d=\"M 303.6 2917.8 C 257.6 2917.5 252.2 2886.8 238.3 2857.1\"/><path d=\"M 303.6 2917.8 C 261.6 2917.5 122.3 2919.1 118.3 2750.3\"/><path d=\"M 343.6 2917.8 C 419.8 2917.8 572.9 2917.8 652.9 2917.8\"/><path d=\"M 343.6 2917.8 C 395.0 2919.9 428.1 2881.9 445.1 2855.6\"/><path d=\"M 343.6 2917.8 C 363.4 2916.3 380.2 2886.1 379.3 2856.9\"/><text x=\"294.1\" y=\"2980.2\">PDH</text></g><g name=\"PYK\" style=\"stroke: #841f27; stroke-width: 15.0;\"><path d=\"M 117.5 2573.8 L 117.5 2553.8\"/><path d=\"M 117.5 2533.8 L 117.5 2553.8\"/><path d=\"M 117.5 2573.8 C 117.5 2619.8 133.5 2625.1 176.1 2648.3\"/><path d=\"M 117.5 2573.8 C 117.5 2630.5 117.5 2652.5 117.5 2690.3\"/><path d=\"M 117.5 2533.8 C 117.5 2487.8 132.7 2490.8 170.7 2465.2\"/><path d=\"M 117.5 2533.8 C 117.5 2475.3 117.5 2444.5 117.5 2400.3\"/><text x=\"151.6\" y=\"2567.4\">PYK</text></g><g name=\"TPI\" style=\"stroke: #841f27; stroke-width: 15.0;\"><path d=\"M -37.2 1196.5 L -57.2 1196.5\"/><path d=\"M -77.2 1196.5 L -57.2 1196.5\"/><path d=\"M -37.2 1196.5 C 4.8 1196.5 54.3 1196.5 87.6 1195.3\"/><path d=\"M -77.2 1196.5 C -119.2 1196.5 -173.2 1196.5 -201.9 1196.5\"/><text x=\"-83.6\" y=\"1236.6\">TPI</text></g><g name=\"FBA\" style=\"stroke: #841f27; stroke-width: 15.0;\"><path d=\"M -231.9 1001.5 L -231.9 1021.5\"/><path d=\"M -231.9 1041.5 L -231.9 1021.5\"/><path d=\"M -231.9 1001.5 C -231.9 959.5 -231.9 905.2 -231.9 876.5\"/><path d=\"M -231.9 1041.5 C -231.9 1087.5 -75.8 1057.3 93.1 1176.9\"/><path d=\"M -231.9 1041.5 C -231.9 1083.5 -231.9 1137.7 -231.9 1166.5\"/><text x=\"-314.1\" y=\"1031.5\">FBA</text></g><g name=\"PFK\" style=\"stroke: #841f27; stroke-width: 15.0;\"><path d=\"M -231.9 651.7 L -231.9 671.7\"/><path d=\"M -231.9 691.7 L -231.9 671.7\"/><path d=\"M -231.9 651.7 C -231.9 605.7 -196.5 595.5 -189.3 593.6\"/><path d=\"M -231.9 651.7 C -231.9 609.7 -231.9 564.8 -231.9 526.5\"/><path d=\"M -231.9 691.7 C -231.9 737.7 -202.1 758.0 -172.1 769.5\"/><path d=\"M -231.9 691.7 C -231.9 733.7 -231.9 788.1 -231.9 816.5\"/><text x=\"-313.1\" y=\"687.0\">PFK</text></g><g name=\"PGI\" style=\"stroke: #841f27; stroke-width: 15.0;\"><path d=\"M -231.9 301.5 L -231.9 321.5\"/><path d=\"M -231.9 341.5 L -231.9 321.5\"/><path d=\"M -231.9 301.5 C -231.9 259.5 -231.9 204.2 -231.9 175.4\"/><path d=\"M -231.9 341.5 C -231.9 383.5 -231.9 437.7 -231.9 466.5\"/><text x=\"-322.6\" y=\"334.4\">PGI</text></g><g name=\"RPI\" style=\"stroke: #355e3b; stroke-width: 15.0;\"><path d=\"M 670.4 327.2 L 690.4 327.2\"/><path d=\"M 710.4 327.2 L 690.4 327.2\"/><path d=\"M 670.4 327.2 C 649.3 327.2 652.5 327.2 599.3 327.2\"/><g><path d=\"M 710.4 327.2 C 787.1 332.0 819.1 362.1 853.7 395.4\"/><g class=\"arrowhead\" transform=\"translate(853.7, 395.4) rotate(44) scale(1.5)\" style=\"fill: #355e3b\"><path d=\"M 0 -10 L 13 0 L 0 10 Z\" transform=\"translate(-3)\"/></g></g><text x=\"667.1\" y=\"377.9\">RPI</text></g><g name=\"PGLase\" style=\"stroke: #355e3b; stroke-width: 15.0;\"><path d=\"M 272.8 145.4 L 292.8 145.4\"/><path d=\"M 312.8 145.4 L 292.8 145.4\"/><path d=\"M 272.8 145.4 C 230.8 145.4 176.5 145.4 147.8 145.4\"/><path d=\"M 272.8 145.4 C 226.8 145.4 221.5 127.2 198.3 84.5\"/><g><path d=\"M 312.8 145.4 C 354.8 145.4 409.0 145.4 427.8 145.4\"/><g class=\"arrowhead\" transform=\"translate(427.8, 145.4) rotate(0) scale(1.5)\" style=\"fill: #355e3b\"><path d=\"M 0 -10 L 13 0 L 0 10 Z\" transform=\"translate(-3)\"/></g></g><text x=\"242.8\" y=\"105.4\">PGLase</text></g><g name=\"G6PDH\" style=\"stroke: #355e3b; stroke-width: 15.0;\"><path d=\"M -77.2 145.4 L -57.2 145.4\"/><path d=\"M -37.2 145.4 L -57.2 145.4\"/><path d=\"M -77.2 145.4 C -119.2 145.4 -171.9 145.4 -201.9 145.4\"/><path d=\"M -77.2 145.4 C -123.2 145.4 -128.5 127.2 -151.7 84.5\"/><g><path d=\"M -37.2 145.4 C 4.8 145.4 59.0 145.4 77.8 145.4\"/><g class=\"arrowhead\" transform=\"translate(77.8, 145.4) rotate(0) scale(1.5)\" style=\"fill: #355e3b\"><path d=\"M 0 -10 L 13 0 L 0 10 Z\" transform=\"translate(-3)\"/></g></g><g><path d=\"M -37.2 145.4 C 8.8 145.4 14.0 127.2 32.5 93.3\"/><g class=\"arrowhead\" transform=\"translate(32.5, 93.3) rotate(-61) scale(1.5)\" style=\"fill: #355e3b\"><path d=\"M 0 -10 L 13 0 L 0 10 Z\" transform=\"translate(-3)\"/></g></g><text x=\"-107.2\" y=\"105.4\">G6PDH</text></g><g name=\"PGLDH\" style=\"stroke: #355e3b; stroke-width: 15.0;\"><path d=\"M 788.2 229.0 L 802.0 243.4\"/><path d=\"M 815.9 257.8 L 802.0 243.4\"/><path d=\"M 788.2 229.0 C 759.0 198.7 671.9 150.2 497.8 146.1\"/><path d=\"M 788.2 229.0 C 780.2 215.0 771.7 194.1 775.1 159.9\"/><g><path d=\"M 815.9 257.8 C 847.8 290.9 892.4 280.2 902.6 271.2\"/><g class=\"arrowhead\" transform=\"translate(902.6, 271.2) rotate(-42) scale(1.5)\" style=\"fill: #355e3b\"><path d=\"M 0 -10 L 13 0 L 0 10 Z\" transform=\"translate(-3)\"/></g></g><g><path d=\"M 815.9 257.8 C 845.1 288.0 882.6 364.3 882.6 383.1\"/><g class=\"arrowhead\" transform=\"translate(882.6, 383.1) rotate(90) scale(1.5)\" style=\"fill: #355e3b\"><path d=\"M 0 -10 L 13 0 L 0 10 Z\" transform=\"translate(-3)\"/></g></g><g><path d=\"M 815.9 257.8 C 847.8 290.9 877.6 302.5 924.5 305.6\"/><g class=\"arrowhead\" transform=\"translate(924.5, 305.6) rotate(4) scale(1.5)\" style=\"fill: #355e3b\"><path d=\"M 0 -10 L 13 0 L 0 10 Z\" transform=\"translate(-3)\"/></g></g><text x=\"674.9\" y=\"261.3\">PGLDH</text></g><g name=\"RPE\" style=\"stroke: #355e3b; stroke-width: 15.0;\"><path d=\"M 689.1 635.0 L 669.1 635.0\"/><path d=\"M 649.1 635.0 L 669.1 635.0\"/><path d=\"M 689.1 635.0 C 856.8 639.8 885.9 518.3 883.6 453.1\"/><g><path d=\"M 649.1 635.0 C 607.1 635.0 567.8 635.0 549.0 635.0\"/><g class=\"arrowhead\" transform=\"translate(549.0, 635.0) rotate(180) scale(1.5)\" style=\"fill: #355e3b\"><path d=\"M 0 -10 L 13 0 L 0 10 Z\" transform=\"translate(-3)\"/></g></g><text x=\"668.2\" y=\"681.8\">RPE</text></g><g name=\"GlcPTS\" style=\"stroke: #841f27; stroke-width: 15.0;\"><path d=\"M -700.0 145.4 L -680.0 145.4\"/><path d=\"M -660.0 145.4 L -680.0 145.4\"/><path d=\"M -700.0 145.4 C -787.5 145.4 -745.2 145.4 -845.9 145.4\"/><path d=\"M -700.0 145.4 C -823.8 146.5 -847.1 2362.0 87.5 2370.0\"/><path d=\"M -660.0 145.4 C -593.7 145.4 -348.2 145.4 -261.9 145.4\"/><path d=\"M -660.0 145.4 C -557.6 145.9 -973.3 2714.7 87.5 2720.1\"/><text x=\"-690.9\" y=\"107.8\">GlcPTS</text></g><g name=\"PTA\" style=\"stroke: #841f27; stroke-width: 15.0;\"><path d=\"M 916.2 2917.8 L 896.2 2917.8\"/><path d=\"M 936.2 2917.8 L 916.2 2917.8\"/><path d=\"M 896.2 2917.8 C 828.4 2917.8 762.0 2917.8 712.9 2917.8\"/><path d=\"M 896.2 2917.8 C 842.9 2921.5 823.8 2956.8 810.6 2985.3\"/><path d=\"M 936.2 2917.8 C 978.2 2917.8 1031.1 2917.8 1099.8 2917.8\"/><path d=\"M 936.2 2917.8 C 982.2 2917.0 995.8 2947.5 1017.2 2978.3\"/><text x=\"875.5\" y=\"2981.6\">PTA</text></g><g name=\"ACK\" style=\"stroke: #841f27; stroke-width: 15.0;\"><path d=\"M 1351.5 2917.8 L 1371.5 2917.8\"/><path d=\"M 1331.5 2917.8 L 1351.5 2917.8\"/><path d=\"M 1371.5 2917.8 C 1467.8 2917.8 1483.5 2917.8 1566.5 2917.8\"/><path d=\"M 1371.5 2917.8 C 1402.0 2922.2 1421.5 2947.9 1444.6 2983.8\"/><path d=\"M 1331.5 2917.8 C 1289.5 2917.8 1188.6 2917.8 1159.8 2917.8\"/><path d=\"M 1331.5 2917.8 C 1285.5 2917.8 1265.1 2954.7 1254.5 2981.9\"/><text x=\"1314.1\" y=\"2990.9\">ACK</text></g><g name=\"TKT1\" style=\"stroke: #355e3b; stroke-width: 15.0;\"><path d=\"M 394.3 327.2 L 374.3 327.2\"/><path d=\"M 414.3 327.2 L 394.3 327.2\"/><path d=\"M 374.3 327.2 C 330.3 329.5 284.5 341.5 253.2 355.5\"/><path d=\"M 374.3 327.2 C 318.8 329.6 283.7 304.4 253.9 293.3\"/><g><path d=\"M 414.3 327.2 C 456.3 327.2 510.6 327.2 529.3 327.2\"/><g class=\"arrowhead\" transform=\"translate(529.3, 327.2) rotate(0) scale(1.5)\" style=\"fill: #355e3b\"><path d=\"M 0 -10 L 13 0 L 0 10 Z\" transform=\"translate(-3)\"/></g></g><g><path d=\"M 414.3 327.2 C 541.8 326.0 662.0 470.8 536.3 605.8\"/><g class=\"arrowhead\" transform=\"translate(536.3, 605.8) rotate(133) scale(1.5)\" style=\"fill: #355e3b\"><path d=\"M 0 -10 L 13 0 L 0 10 Z\" transform=\"translate(-3)\"/></g></g><text x=\"344.3\" y=\"287.2\">TKT1</text></g><g name=\"TALA\" style=\"stroke: #355e3b; stroke-width: 15.0;\"><path d=\"M 44.3 327.2 L 64.3 327.2\"/><path d=\"M 24.3 327.2 L 44.3 327.2\"/><path d=\"M 64.3 327.2 C 118.0 328.3 167.0 339.1 198.8 354.6\"/><path d=\"M 64.3 327.2 C 119.9 322.4 171.5 304.4 197.9 293.9\"/><g><path d=\"M 24.3 327.2 C -83.5 327.2 -171.0 427.8 -205.4 466.5\"/><g class=\"arrowhead\" transform=\"translate(-205.4, 466.5) rotate(132) scale(1.5)\" style=\"fill: #355e3b\"><path d=\"M 0 -10 L 13 0 L 0 10 Z\" transform=\"translate(-3)\"/></g></g><g><path d=\"M 24.3 327.2 C -76.8 376.3 22.5 484.0 185.8 483.3\"/><g class=\"arrowhead\" transform=\"translate(185.8, 483.3) rotate(-0) scale(1.5)\" style=\"fill: #355e3b\"><path d=\"M 0 -10 L 13 0 L 0 10 Z\" transform=\"translate(-3)\"/></g></g><text x=\"-5.7\" y=\"287.2\">TALA</text></g><g name=\"TKT2\" style=\"stroke: #355e3b; stroke-width: 15.0;\"><path d=\"M 289.7 635.0 L 309.7 635.0\"/><path d=\"M 269.7 635.0 L 289.7 635.0\"/><path d=\"M 309.7 635.0 C 394.5 635.0 394.3 477.0 255.8 482.0\"/><path d=\"M 309.7 635.0 C 359.3 635.0 433.2 635.0 479.0 635.0\"/><g><path d=\"M 269.7 635.0 C 227.7 635.0 -8.2 492.6 -191.9 495.8\"/><g class=\"arrowhead\" transform=\"translate(-191.9, 495.8) rotate(179) scale(1.5)\" style=\"fill: #355e3b\"><path d=\"M 0 -10 L 13 0 L 0 10 Z\" transform=\"translate(-3)\"/></g></g><g><path d=\"M 269.7 635.0 C 84.8 639.8 118.2 1078.1 117.8 1154.2\"/><g class=\"arrowhead\" transform=\"translate(117.8, 1154.2) rotate(90) scale(1.5)\" style=\"fill: #355e3b\"><path d=\"M 0 -10 L 13 0 L 0 10 Z\" transform=\"translate(-3)\"/></g></g><text x=\"252.9\" y=\"696.8\">TKT2</text></g></g><g id=\"metabolites\" class=\"data\"><g name=\"NAD+\"><circle cx=\"37.7\" cy=\"1286.6\" r=\"20.0\" style=\"fill: #841f27;\"/><text x=\"-45.8\" y=\"1295.7\">NAD+</text></g><g name=\"Pi\"><circle cx=\"199.7\" cy=\"1283.1\" r=\"20.0\" style=\"fill: #841f27;\"/><text x=\"228.4\" y=\"1289.6\">Pi</text></g><g name=\"DPG\"><circle cx=\"117.5\" cy=\"1546.5\" r=\"20.0\" style=\"fill: #841f27;\"/><text x=\"158.7\" y=\"1559.1\">DPG</text></g><g name=\"NADH\"><circle cx=\"37.8\" cy=\"1496.0\" r=\"20.0\" style=\"fill: #841f27;\"/><text x=\"-47.6\" y=\"1499.6\">NADH</text></g><g name=\"3PG\"><circle cx=\"117.5\" cy=\"1896.5\" r=\"20.0\" style=\"fill: #841f27;\"/><text x=\"155.1\" y=\"1901.9\">3PG</text></g><g name=\"ATP\"><circle cx=\"37.8\" cy=\"1826.5\" r=\"20.0\" style=\"fill: #355e3b;\"/><text x=\"-30.5\" y=\"1834.9\">ATP</text></g><g name=\"ADP\"><circle cx=\"37.8\" cy=\"1616.5\" r=\"20.0\" style=\"fill: #841f27;\"/><text x=\"-28.7\" y=\"1619.5\">ADP</text></g><g name=\"2PG\"><circle cx=\"117.5\" cy=\"2097.7\" r=\"20.0\" style=\"fill: #841f27;\"/><text x=\"158.7\" y=\"2104.8\">2PG</text></g><g name=\"H2O\"><circle cx=\"37.8\" cy=\"2300.3\" r=\"20.0\" style=\"fill: #355e3b;\"/><text x=\"-32.8\" y=\"2301.6\">H2O</text></g><g name=\"PEP\"><circle cx=\"117.5\" cy=\"2370.3\" r=\"20.0\" style=\"fill: #841f27;\"/><text x=\"149.5\" y=\"2337.3\">PEP</text></g><g name=\"pyr\"><circle cx=\"117.5\" cy=\"2720.3\" r=\"20.0\" style=\"fill: #355e3b;\"/><text x=\"49.6\" y=\"2773.7\">pyr</text></g><g name=\"CoA\"><circle cx=\"152.4\" cy=\"2962.2\" r=\"20.0\" style=\"fill: #841f27;\"/><text x=\"80.0\" y=\"2994.5\">CoA</text></g><g name=\"NAD+\"><circle cx=\"228.9\" cy=\"2837.2\" r=\"20.0\" style=\"fill: #841f27;\"/><text x=\"195.1\" y=\"2805.8\">NAD+</text></g><g name=\"acCoA\"><circle cx=\"682.9\" cy=\"2917.8\" r=\"20.0\" style=\"fill: #841f27;\"/><text x=\"597.2\" y=\"2873.7\">acCoA</text></g><g name=\"CO2\"><circle cx=\"457.1\" cy=\"2837.1\" r=\"20.0\" style=\"fill: #355e3b;\"/><text x=\"466.1\" y=\"2816.0\">CO2</text></g><g name=\"NADH\"><circle cx=\"378.6\" cy=\"2834.9\" r=\"20.0\" style=\"fill: #841f27;\"/><text x=\"344.9\" y=\"2810.5\">NADH</text></g><g name=\"ATP\"><circle cx=\"195.5\" cy=\"2658.8\" r=\"20.0\" style=\"fill: #355e3b;\"/><text x=\"210.5\" y=\"2658.8\">ATP</text></g><g name=\"ADP\"><circle cx=\"188.9\" cy=\"2452.9\" r=\"20.0\" style=\"fill: #841f27;\"/><text x=\"201.5\" y=\"2448.2\">ADP</text></g><g name=\"DHAP\"><circle cx=\"-231.9\" cy=\"1196.5\" r=\"20.0\" style=\"fill: #841f27;\"/><text x=\"-253.5\" y=\"1236.5\">DHAP</text></g><g name=\"FDP\"><circle cx=\"-231.9\" cy=\"846.5\" r=\"20.0\" style=\"fill: #841f27;\"/><text x=\"-315.9\" y=\"874.5\">FDP</text></g><g name=\"ATP\"><circle cx=\"-168.1\" cy=\"587.9\" r=\"20.0\" style=\"fill: #355e3b;\"/><text x=\"-143.5\" y=\"587.9\">ATP</text></g><g name=\"F6P\"><circle cx=\"-231.9\" cy=\"496.5\" r=\"20.0\" style=\"fill: #355e3b;\"/><text x=\"-314.7\" y=\"489.9\">F6P</text></g><g name=\"ADP\"><circle cx=\"-151.5\" cy=\"777.3\" r=\"20.0\" style=\"fill: #841f27;\"/><text x=\"-129.5\" y=\"796.2\">ADP</text></g><g name=\"G6P\"><circle cx=\"-231.9\" cy=\"145.4\" r=\"20.0\" style=\"fill: #355e3b;\"/><text x=\"-294.0\" y=\"109.7\">G6P</text></g><g name=\"6PG\"><circle cx=\"467.8\" cy=\"145.4\" r=\"20.0\" style=\"fill: #355e3b;\"/><text x=\"451.6\" y=\"185.4\">6PG</text></g><g name=\"Ru5P\"><circle cx=\"882.6\" cy=\"423.1\" r=\"20.0\" style=\"fill: #355e3b;\"/><text x=\"907.6\" y=\"423.1\">Ru5P</text></g><g name=\"R5P\"><circle cx=\"569.3\" cy=\"327.2\" r=\"20.0\" style=\"fill: #355e3b;\"/><text x=\"553.7\" y=\"287.6\">R5P</text></g><g name=\"6PGDL\"><circle cx=\"117.8\" cy=\"145.4\" r=\"20.0\" style=\"fill: #355e3b;\"/><text x=\"90.8\" y=\"185.4\">6PGDL</text></g><g name=\"H2O\"><circle cx=\"187.8\" cy=\"65.2\" r=\"20.0\" style=\"fill: #355e3b;\"/><text x=\"171.6\" y=\"45.2\">H2O</text></g><g name=\"NADP+\"><circle cx=\"-162.2\" cy=\"65.2\" r=\"20.0\" style=\"fill: #355e3b;\"/><text x=\"-205.4\" y=\"45.2\">NADP+</text></g><g name=\"NADPH\"><circle cx=\"47.8\" cy=\"65.2\" r=\"20.0\" style=\"fill: #355e3b;\"/><text x=\"20.8\" y=\"45.2\">NADPH</text></g><g name=\"NADP+\"><circle cx=\"777.3\" cy=\"138.1\" r=\"20.0\" style=\"fill: #355e3b;\"/><text x=\"811.4\" y=\"139.3\">NADP+</text></g><g name=\"CO2\"><circle cx=\"926.5\" cy=\"250.0\" r=\"20.0\" style=\"fill: #355e3b;\"/><text x=\"960.2\" y=\"247.9\">CO2</text></g><g name=\"NADPH\"><circle cx=\"956.5\" cy=\"307.7\" r=\"20.0\" style=\"fill: #355e3b;\"/><text x=\"971.5\" y=\"307.7\">NADPH</text></g><g name=\"Xu5P\"><circle cx=\"509.0\" cy=\"635.0\" r=\"20.0\" style=\"fill: #355e3b;\"/><text x=\"487.4\" y=\"687.0\">Xu5P</text></g><g name=\"GAP\"><circle cx=\"117.5\" cy=\"1194.2\" r=\"20.0\" style=\"fill: #355e3b;\"/><text x=\"160.6\" y=\"1220.7\">GAP</text></g><g name=\"Glc[e]\"><circle cx=\"-875.9\" cy=\"145.4\" r=\"20.0\" style=\"fill: #841f27;\"/><text x=\"-912.3\" y=\"101.7\">Glc[e]</text></g><g name=\"Pi\"><circle cx=\"801.3\" cy=\"3005.2\" r=\"20.0\" style=\"fill: #841f27;\"/><text x=\"772.6\" y=\"3044.2\">Pi</text></g><g name=\"acP\"><circle cx=\"1129.8\" cy=\"2917.8\" r=\"20.0\" style=\"fill: #841f27;\"/><text x=\"1099.1\" y=\"2966.2\">acP</text></g><g name=\"CoA\"><circle cx=\"1029.7\" cy=\"2996.3\" r=\"20.0\" style=\"fill: #841f27;\"/><text x=\"1024.3\" y=\"3042.5\">CoA</text></g><g name=\"ac\"><circle cx=\"1596.5\" cy=\"2917.8\" r=\"20.0\" style=\"fill: #841f27;\"/><text x=\"1641.4\" y=\"2943.4\">ac</text></g><g name=\"ATP\"><circle cx=\"1456.5\" cy=\"3002.4\" r=\"20.0\" style=\"fill: #355e3b;\"/><text x=\"1445.7\" y=\"3042.4\">ATP</text></g><g name=\"ADP\"><circle cx=\"1246.5\" cy=\"3002.4\" r=\"20.0\" style=\"fill: #841f27;\"/><text x=\"1230.3\" y=\"3042.4\">ADP</text></g><g name=\"Sed7P\"><circle cx=\"225.8\" cy=\"282.9\" r=\"20.0\" style=\"fill: #355e3b;\"/><text x=\"195.2\" y=\"246.2\">Sed7P</text></g><g name=\"E4P\"><circle cx=\"225.8\" cy=\"483.1\" r=\"20.0\" style=\"fill: #355e3b;\"/><text x=\"208.4\" y=\"532.5\">E4P</text></g><g name=\"GAP\"><circle cx=\"225.8\" cy=\"367.7\" r=\"20.0\" style=\"fill: #355e3b;\"/><text x=\"205.4\" y=\"417.7\">GAP</text></g></g></g></svg>"
      ],
      "text/plain": [
       "<IPython.core.display.SVG object>"
      ]
     },
     "execution_count": 21,
     "metadata": {},
     "output_type": "execute_result"
    }
   ],
   "source": [
    "# Build the glycolysis_ppp_ov_simplified pathway with diagram, and then display color-coded\n",
    "glycolysis_ppp_ov_simplified = build_pathway('glycolysis_ppp_ov_simplified', 'Glycolysis + PPP + Overflow (simplified)')\n",
    "diag = escher_map.EscherMap(\n",
    "    glycolysis_ppp_ov_simplified.diagram,\n",
    "    width=\"12cm\",\n",
    "    metabolite_scale=mol_group_scale,\n",
    "    reaction_scale=rxn_group_scale)\n",
    "SVG(diag.draw(metabolite_data=mol_group, reaction_data=rxn_group))"
   ]
  },
  {
   "cell_type": "markdown",
   "id": "54700096-48c9-4fbf-aa98-9e7d4f001f35",
   "metadata": {},
   "source": [
    "## Save the pathways"
   ]
  },
  {
   "cell_type": "code",
   "execution_count": 22,
   "id": "3c3d2c81-ab81-4196-9a3b-946946eac5c0",
   "metadata": {},
   "outputs": [],
   "source": [
    "KB.put(KB.pathways, glycolysis_ppp_ov)\n",
    "KB.put(KB.pathways, glycolysis_ppp_ov_simplified)"
   ]
  }
 ],
 "metadata": {
  "kernelspec": {
   "display_name": "Python 3 (ipykernel)",
   "language": "python",
   "name": "python3"
  },
  "language_info": {
   "codemirror_mode": {
    "name": "ipython",
    "version": 3
   },
   "file_extension": ".py",
   "mimetype": "text/x-python",
   "name": "python",
   "nbconvert_exporter": "python",
   "pygments_lexer": "ipython3",
   "version": "3.11.2"
  }
 },
 "nbformat": 4,
 "nbformat_minor": 5
}
