{
 "cells": [
  {
   "cell_type": "markdown",
   "id": "0eaa6b7a-2918-4a97-b2a7-438f21a47489",
   "metadata": {},
   "source": [
    "# Construct Glycolysis+ Pathways and Diagrams\n",
    "__Notes__\n",
    "- We assume that most of the sugars already exist in the KnowledgeBase as a result of the notebook `Sugar Forms and Variations`, as well as the core nucleotides and deoxynucleotides, via `Nucleotides in the KB`.\n",
    "- This notebook builds up the reactions of glycolysis, pentose-phophate, entner-doudoroff, and overflow metabolism, as well as the remaining metabolites not covered by the systematic approaches above.\n",
    "- We use ChEBI as the origin for most metabolite definitions\n",
    "  - No access or licensing restrictions\n",
    "  - The precision and granularity we need, e.g. in terms of protonation states, isomeric forms, etc\n",
    "- Likewise, RHEA is the origin for reaction definitions.\n",
    "- However, those sources themselves do not serve our overall goals. So we construct and refine canonical KB versions of all the relevant items. The path is\n",
    "> EC number -> RHEA reaction -> ChEBI compound -> KB compound -> KB reaction\n",
    "- Start with EC numbers pulled from reference sources.\n",
    "  - The starting lists are fairly inclusive, so we may be selective about what we include in any final pathways."
   ]
  },
  {
   "cell_type": "code",
   "execution_count": 1,
   "id": "ccf12407",
   "metadata": {
    "tags": []
   },
   "outputs": [],
   "source": [
    "import collections\n",
    "import copy\n",
    "from importlib.resources import files\n",
    "from ipydatagrid import DataGrid\n",
    "import ipywidgets as widgets\n",
    "import json\n",
    "import pandas as pd\n",
    "from IPython.display import SVG, display\n",
    "\n",
    "from mosmo.knowledge import kb\n",
    "from mosmo.model import DS, DbXref, KbEntry, Molecule, Reaction, Pathway, Specialization, Variation\n",
    "from mosmo.preso.escher import escher_map, escher_model\n",
    "\n",
    "import edit_tasks\n",
    "\n",
    "# Data files are resources in the `data` package\n",
    "import data\n",
    "def datafile(filename):\n",
    "    return files(data).joinpath(filename)\n",
    "\n",
    "KB = kb.configure_kb()"
   ]
  },
  {
   "cell_type": "markdown",
   "id": "53aff83a",
   "metadata": {},
   "source": [
    "## Glycolysis"
   ]
  },
  {
   "cell_type": "markdown",
   "id": "83c2ffe4-47b9-44be-ae67-b9c48e175e1a",
   "metadata": {},
   "source": [
    "### Collect RHEA reactions cross-referenced to these EC numbers"
   ]
  },
  {
   "cell_type": "code",
   "execution_count": 2,
   "id": "3e33fe40-919a-41a9-b588-778987904561",
   "metadata": {},
   "outputs": [
    {
     "name": "stdout",
     "output_type": "stream",
     "text": [
      "Collected 28 reactions on 45 molecules\n"
     ]
    }
   ],
   "source": [
    "glycolysis_rhea, glycolysis_chebi = edit_tasks.collect_reference_objects(datafile('glycolysis.txt'), KB, KB.RHEA)\n",
    "print(f'Collected {len(glycolysis_rhea)} reactions on {len(glycolysis_chebi)} molecules')"
   ]
  },
  {
   "cell_type": "markdown",
   "id": "fc2ef250-1fd9-48bf-9c8d-278652672038",
   "metadata": {},
   "source": [
    "### Manually curate KB compounds\n",
    "- Assign or edit kbid, name, akas, shorthand, and xrefs\n",
    "- Generally, any new entry inherits anything it can from the ChEBI entry\n",
    "- Manually mark KB entries to be updated"
   ]
  },
  {
   "cell_type": "code",
   "execution_count": 3,
   "id": "9614d07d-379b-4409-9074-d8adf2992d09",
   "metadata": {},
   "outputs": [
    {
     "name": "stdout",
     "output_type": "stream",
     "text": [
      "44 molecules to edit, 40 mapped to existing KB molecules\n"
     ]
    },
    {
     "data": {
      "application/vnd.jupyter.widget-view+json": {
       "model_id": "09e51a4aa1434d1a98bcf94977b7366d",
       "version_major": 2,
       "version_minor": 0
      },
      "text/plain": [
       "DataGrid(auto_fit_params={'area': 'all', 'padding': 30, 'numCols': None}, corner_renderer=None, default_render…"
      ]
     },
     "metadata": {},
     "output_type": "display_data"
    }
   ],
   "source": [
    "tasks = edit_tasks.build_mol_edit_tasks(glycolysis_chebi, KB, KB.compounds)\n",
    "print(f'{len(tasks)} molecules to edit, {len([task for task in tasks if task.kb_mol.id])} mapped to existing KB molecules')\n",
    "mol_edit_grid = edit_tasks.MolEditGrid(tasks)\n",
    "display(mol_edit_grid.grid)"
   ]
  },
  {
   "cell_type": "code",
   "execution_count": 4,
   "id": "5e202962-a3c3-4392-ac73-b674b5a82281",
   "metadata": {},
   "outputs": [],
   "source": [
    "for task in mol_edit_grid.tasks:\n",
    "    if task.defunct_kb_id:\n",
    "        print(\"Defunct: \" + task.defunct_kb_id)\n",
    "    if task.dirty:\n",
    "        print(task.kb_mol)\n",
    "        KB.put(KB.compounds, task.kb_mol)\n",
    "        task.dirty = False\n",
    "\n",
    "glycolysis_kb_mols = [task.kb_mol for task in mol_edit_grid.tasks if task.kb_mol.id]\n",
    "\n",
    "# Manually add Glc[e], used by PTS (to be added later)\n",
    "glycolysis_kb_mols.append(KB('Glc.D.ext'))"
   ]
  },
  {
   "cell_type": "markdown",
   "id": "f8eaf8ff-7488-4332-a287-0587dd5983a6",
   "metadata": {},
   "source": [
    "### Build KB versions of all reactions"
   ]
  },
  {
   "cell_type": "code",
   "execution_count": 5,
   "id": "ee0195b0-c904-4e97-8312-12e1e1892131",
   "metadata": {},
   "outputs": [
    {
     "name": "stdout",
     "output_type": "stream",
     "text": [
      "26 reactions to edit, 21 mapped to existing KB reactions\n",
      "Skipped: [10740] alcohol dehydrogenase\n",
      "Skipped: [10736] * alcohol dehydrogenase\n"
     ]
    },
    {
     "data": {
      "application/vnd.jupyter.widget-view+json": {
       "model_id": "d59d96dec3c649d8b20810d45851f63d",
       "version_major": 2,
       "version_minor": 0
      },
      "text/plain": [
       "DataGrid(auto_fit_params={'area': 'all', 'padding': 30, 'numCols': None}, corner_renderer=None, default_render…"
      ]
     },
     "metadata": {},
     "output_type": "display_data"
    }
   ],
   "source": [
    "tasks, skipped = edit_tasks.build_rxn_edit_tasks(glycolysis_rhea, KB, KB.reactions, KB.compounds)\n",
    "print(f'{len(tasks)} reactions to edit, {len([task for task in tasks if task.kb_rxn.id])} mapped to existing KB reactions')\n",
    "for rhea_rxn in skipped:\n",
    "    print(f'Skipped: [{rhea_rxn.id}] {rhea_rxn.name}')\n",
    "\n",
    "rxn_edit_grid = edit_tasks.RxnEditGrid(tasks)\n",
    "display(rxn_edit_grid.grid)"
   ]
  },
  {
   "cell_type": "code",
   "execution_count": 6,
   "id": "d2641f39-a6af-4ed8-b0f4-0f95950b1f75",
   "metadata": {
    "tags": []
   },
   "outputs": [],
   "source": [
    "for task in rxn_edit_grid.tasks:\n",
    "    if task.defunct_kb_id:\n",
    "        print(\"Defunct: \" + task.defunct_kb_id)\n",
    "    if task.dirty:\n",
    "        print(task.kb_rxn)\n",
    "        KB.put(KB.reactions, task.kb_rxn)\n",
    "        task.dirty = False\n",
    "\n",
    "glycolysis_kb_rxns = [task.kb_rxn for task in rxn_edit_grid.tasks if task.kb_rxn.id]\n",
    "\n",
    "# Manually add PTS, which does not have a single EC number\n",
    "glycolysis_kb_rxns.append(KB('pts.glc'))"
   ]
  },
  {
   "cell_type": "markdown",
   "id": "4be72a92-7c42-4a1a-bfd8-c7b9ee61c4dd",
   "metadata": {},
   "source": [
    "## Pentose Phosphate and Entner-Doudoroff\n",
    "- Same approach as for Glycolysis above"
   ]
  },
  {
   "cell_type": "code",
   "execution_count": 7,
   "id": "3ce32c8c-cff9-4864-ba3c-26e506c50508",
   "metadata": {},
   "outputs": [
    {
     "name": "stdout",
     "output_type": "stream",
     "text": [
      "Collected 10 reactions on 17 molecules\n",
      "17 molecules to edit, 17 mapped to existing KB molecules\n"
     ]
    },
    {
     "data": {
      "application/vnd.jupyter.widget-view+json": {
       "model_id": "08b0c5d8d2cf479c8e0b3978395fac75",
       "version_major": 2,
       "version_minor": 0
      },
      "text/plain": [
       "DataGrid(auto_fit_params={'area': 'all', 'padding': 30, 'numCols': None}, corner_renderer=None, default_render…"
      ]
     },
     "metadata": {},
     "output_type": "display_data"
    }
   ],
   "source": [
    "ppp_rhea, ppp_chebi = edit_tasks.collect_reference_objects(datafile('ppp.txt'), KB, KB.RHEA)\n",
    "print(f'Collected {len(ppp_rhea)} reactions on {len(ppp_chebi)} molecules')\n",
    "\n",
    "tasks = edit_tasks.build_mol_edit_tasks(ppp_chebi, KB, KB.compounds)\n",
    "print(f'{len(tasks)} molecules to edit, {len([task for task in tasks if task.kb_mol.id])} mapped to existing KB molecules')\n",
    "mol_edit_grid = edit_tasks.MolEditGrid(tasks)\n",
    "display(mol_edit_grid.grid)"
   ]
  },
  {
   "cell_type": "code",
   "execution_count": 8,
   "id": "6a158706-3242-4741-9430-cac548231cfc",
   "metadata": {},
   "outputs": [],
   "source": [
    "for task in mol_edit_grid.tasks:\n",
    "    if task.dirty:\n",
    "        print(task.kb_mol)\n",
    "        KB.put(KB.compounds, task.kb_mol)\n",
    "        task.dirty = False\n",
    "\n",
    "ppp_kb_mols = [task.kb_mol for task in mol_edit_grid.tasks if task.kb_mol and task.kb_mol.id]"
   ]
  },
  {
   "cell_type": "code",
   "execution_count": 9,
   "id": "b751a0b1-a2a1-404f-bfb4-be51a81ff582",
   "metadata": {},
   "outputs": [
    {
     "name": "stdout",
     "output_type": "stream",
     "text": [
      "10 reactions to edit, 10 mapped to existing KB reactions\n"
     ]
    },
    {
     "data": {
      "application/vnd.jupyter.widget-view+json": {
       "model_id": "3a9c7d0789ff464d82d5c37382f4e05d",
       "version_major": 2,
       "version_minor": 0
      },
      "text/plain": [
       "DataGrid(auto_fit_params={'area': 'all', 'padding': 30, 'numCols': None}, corner_renderer=None, default_render…"
      ]
     },
     "metadata": {},
     "output_type": "display_data"
    }
   ],
   "source": [
    "tasks, skipped = edit_tasks.build_rxn_edit_tasks(ppp_rhea, KB, KB.reactions, KB.compounds)\n",
    "print(f'{len(tasks)} reactions to edit, {len([task for task in tasks if task.kb_rxn.id])} mapped to existing KB reactions')\n",
    "for rhea_rxn in skipped:\n",
    "    print(f'Skipped: [{rhea_rxn.id}] {rhea_rxn.name}')\n",
    "\n",
    "rxn_edit_grid = edit_tasks.RxnEditGrid(tasks)\n",
    "display(rxn_edit_grid.grid)"
   ]
  },
  {
   "cell_type": "code",
   "execution_count": 10,
   "id": "c29c3161-8e5e-40b8-8323-46f284b15c86",
   "metadata": {},
   "outputs": [],
   "source": [
    "for task in rxn_edit_grid.tasks:\n",
    "    if task.defunct_kb_id:\n",
    "        print(\"Defunct: \" + task.defunct_kb_id)\n",
    "    if task.dirty:\n",
    "        print(task.kb_rxn)\n",
    "        KB.put(KB.reactions, task.kb_rxn)\n",
    "        task.dirty = False\n",
    "\n",
    "ppp_kb_rxns = [task.kb_rxn for task in rxn_edit_grid.tasks if task.kb_rxn.id]"
   ]
  },
  {
   "cell_type": "markdown",
   "id": "ed6ec44c-c3af-45e1-9a10-6fd37271955d",
   "metadata": {},
   "source": [
    "### This writes the `model` file taken as input by escher.github.io\n",
    "- uncomment to run, of course"
   ]
  },
  {
   "cell_type": "code",
   "execution_count": 11,
   "id": "6bc62ffe-c8e5-41c8-8348-3f4f4e92cb2a",
   "metadata": {},
   "outputs": [],
   "source": [
    "# model = escher_model.escher_model('glycolysis_ppp_ov', glycolysis_kb_rxns + ppp_kb_rxns)\n",
    "# with open('glycolysis_ppp_ov.model.json', 'wt') as f:\n",
    "#     f.write(json.dumps(model))"
   ]
  },
  {
   "cell_type": "markdown",
   "id": "7ca4c83b-c7e6-4df2-b7b5-c81ed0b3ac2d",
   "metadata": {},
   "source": [
    "## Tie pathway definitions to Escher diagrams\n",
    "- Diagrams drawn using [Escher](https://escher.github.io)\n",
    "- That tool continues to work but is unfortunately not still maintained\n",
    "- To embed in notebooks we use mosmo.preso.escher.escher_map.EscherMap"
   ]
  },
  {
   "cell_type": "code",
   "execution_count": 12,
   "id": "0fc61bc6-2018-4c07-8098-4693d8c36d07",
   "metadata": {},
   "outputs": [],
   "source": [
    "def build_pathway(pwid, name=None):\n",
    "    map_json = json.loads(datafile(f'{pwid}.json').read_text())\n",
    "    diag = escher_map.EscherMap(map_json)\n",
    "\n",
    "    pw_reactions = []\n",
    "    for rnode in diag.reactions:\n",
    "        kb_rxn = KB.get(KB.reactions, rnode.reaction_id)\n",
    "        if kb_rxn:\n",
    "            pw_reactions.append(kb_rxn)\n",
    "        else:\n",
    "            print(f'{rnode.reaction_id} not found')\n",
    "\n",
    "    return Pathway(\n",
    "        id = pwid,\n",
    "        name = name or pwid,\n",
    "        reactions = pw_reactions,\n",
    "        diagram = map_json,\n",
    "    )"
   ]
  },
  {
   "cell_type": "code",
   "execution_count": 13,
   "id": "d74fed78-a64e-40da-b189-4be743b58b65",
   "metadata": {},
   "outputs": [
    {
     "data": {
      "image/svg+xml": [
       "<svg width=\"10cm\" height=\"None\" viewBox=\"271.2 -3.1 1589.8 3094.8\"><defs><style type=\"text/css\">\n",
       "#canvas {\n",
       "  fill: #ffffff;\n",
       "  stroke: #cccccc;\n",
       "}\n",
       "text {\n",
       "  font-family: sans-serif;\n",
       "  font-style: italic;\n",
       "  font-weight: bold;\n",
       "  stroke: none;\n",
       "  text-rendering: optimizelegibility;\n",
       "}\n",
       "#reactions text {\n",
       "  font-size: 30px;\n",
       "  fill: #334e75;\n",
       "}\n",
       "#reactions text.stoich {\n",
       "  font-size: 12px;\n",
       "}\n",
       "#metabolites text {\n",
       "  font-size: 20px;\n",
       "  fill: black;\n",
       "}\n",
       "#reactions {\n",
       "  fill: none;\n",
       "  stroke: #334e75;\n",
       "  stroke-width: 10;\n",
       "}\n",
       "#reactions.data {\n",
       "  stroke: #eeeeee;  /* default overridden by reaction_scale */\n",
       "}\n",
       "#reactions .arrowhead {\n",
       "  fill: #334e75;\n",
       "  stroke: none;\n",
       "}\n",
       "#reactions.data .arrowhead {\n",
       "  fill: #eeeeee;  /* default overridden by reaction_scale */\n",
       "}\n",
       "#metabolites {\n",
       "  fill: #e0865b;\n",
       "  stroke: #a24510;\n",
       "  stroke-width: 2;\n",
       "}\n",
       "#metabolites.data {\n",
       "  fill: #eeeeee;  /* default overridden by metabolite_scale */\n",
       "  stroke: none;\n",
       "}\n",
       "</style></defs><g id=\"eschermap\"><rect id=\"canvas\" x=\"271.2\" y=\"-3.1\" width=\"1589.8\" height=\"3094.8\"/><g id=\"reactions\"><g name=\"gapdh\"><path d=\"M 1094.0 1397.0 L 1094.0 1417.0\"/><path d=\"M 1094.0 1437.0 L 1094.0 1417.0\"/><g><path d=\"M 1094.0 1397.0 C 1094.0 1355.0 1091.0 1260.0 1092.7 1238.9\"/><g class=\"arrowhead\" transform=\"translate(1092.7, 1238.9) rotate(-85)\"><path d=\"M 0 -10 L 13 0 L 0 10 Z\" transform=\"translate(-3)\"/></g></g><g><path d=\"M 1094.0 1397.0 C 1094.0 1351.0 1075.0 1347.0 1042.0 1328.6\"/><g class=\"arrowhead\" transform=\"translate(1042.0, 1328.6) rotate(-151)\"><path d=\"M 0 -10 L 13 0 L 0 10 Z\" transform=\"translate(-3)\"/></g></g><g><path d=\"M 1094.0 1397.0 C 1094.0 1351.0 1116.0 1347.0 1149.0 1326.1\"/><g class=\"arrowhead\" transform=\"translate(1149.0, 1326.1) rotate(-32)\"><path d=\"M 0 -10 L 13 0 L 0 10 Z\" transform=\"translate(-3)\"/></g></g><g><path d=\"M 1094.0 1437.0 C 1094.0 1479.0 1094.0 1492.0 1094.0 1511.0\"/><g class=\"arrowhead\" transform=\"translate(1094.0, 1511.0) rotate(90)\"><path d=\"M 0 -10 L 13 0 L 0 10 Z\" transform=\"translate(-3)\"/></g></g><g><path d=\"M 1094.0 1437.0 C 1094.0 1483.0 1076.0 1489.0 1042.2 1507.0\"/><g class=\"arrowhead\" transform=\"translate(1042.2, 1507.0) rotate(152)\"><path d=\"M 0 -10 L 13 0 L 0 10 Z\" transform=\"translate(-3)\"/></g></g><text x=\"1109.0\" y=\"1427.0\">GAPDH</text></g><g name=\"pgk\"><path d=\"M 1094.0 1746.0 L 1094.0 1726.0\"/><path d=\"M 1094.0 1706.0 L 1094.0 1726.0\"/><g><path d=\"M 1094.0 1746.0 C 1094.0 1788.0 1094.0 1842.0 1094.0 1861.0\"/><g class=\"arrowhead\" transform=\"translate(1094.0, 1861.0) rotate(90)\"><path d=\"M 0 -10 L 13 0 L 0 10 Z\" transform=\"translate(-3)\"/></g></g><g><path d=\"M 1094.0 1746.0 C 1094.0 1792.0 1076.0 1797.0 1042.1 1815.6\"/><g class=\"arrowhead\" transform=\"translate(1042.1, 1815.6) rotate(151)\"><path d=\"M 0 -10 L 13 0 L 0 10 Z\" transform=\"translate(-3)\"/></g></g><g><path d=\"M 1094.0 1706.0 C 1094.0 1664.0 1094.0 1610.0 1094.0 1591.0\"/><g class=\"arrowhead\" transform=\"translate(1094.0, 1591.0) rotate(-90)\"><path d=\"M 0 -10 L 13 0 L 0 10 Z\" transform=\"translate(-3)\"/></g></g><g><path d=\"M 1094.0 1706.0 C 1094.0 1660.0 1076.0 1655.0 1042.1 1636.4\"/><g class=\"arrowhead\" transform=\"translate(1042.1, 1636.4) rotate(-151)\"><path d=\"M 0 -10 L 13 0 L 0 10 Z\" transform=\"translate(-3)\"/></g></g><text x=\"1109.0\" y=\"1736.0\">PGK</text></g><g name=\"gpm\"><path d=\"M 1094.0 2025.0 L 1094.0 2005.0\"/><path d=\"M 1094.0 1985.0 L 1094.0 2005.0\"/><g><path d=\"M 1094.0 2025.0 C 1094.0 2067.0 1094.0 2043.0 1094.0 2062.0\"/><g class=\"arrowhead\" transform=\"translate(1094.0, 2062.0) rotate(90)\"><path d=\"M 0 -10 L 13 0 L 0 10 Z\" transform=\"translate(-3)\"/></g></g><g><path d=\"M 1094.0 1985.0 C 1094.0 1943.0 1094.0 1960.0 1094.0 1941.0\"/><g class=\"arrowhead\" transform=\"translate(1094.0, 1941.0) rotate(-90)\"><path d=\"M 0 -10 L 13 0 L 0 10 Z\" transform=\"translate(-3)\"/></g></g><text x=\"1109.0\" y=\"2015.0\">GPM</text></g><g name=\"eno\"><path d=\"M 1094.0 2180.0 L 1094.0 2200.0\"/><path d=\"M 1094.0 2220.0 L 1094.0 2200.0\"/><g><path d=\"M 1094.0 2180.0 C 1094.0 2138.0 1094.0 2161.0 1094.0 2142.0\"/><g class=\"arrowhead\" transform=\"translate(1094.0, 2142.0) rotate(-90)\"><path d=\"M 0 -10 L 13 0 L 0 10 Z\" transform=\"translate(-3)\"/></g></g><g><path d=\"M 1094.0 2220.0 C 1094.0 2266.0 1076.0 2271.0 1042.1 2289.6\"/><g class=\"arrowhead\" transform=\"translate(1042.1, 2289.6) rotate(151)\"><path d=\"M 0 -10 L 13 0 L 0 10 Z\" transform=\"translate(-3)\"/></g></g><g><path d=\"M 1094.0 2220.0 C 1094.0 2262.0 1094.0 2316.0 1094.0 2335.0\"/><g class=\"arrowhead\" transform=\"translate(1094.0, 2335.0) rotate(90)\"><path d=\"M 0 -10 L 13 0 L 0 10 Z\" transform=\"translate(-3)\"/></g></g><text x=\"1109.0\" y=\"2245.0\">ENO</text></g><g name=\"pps\"><path d=\"M 977.0 2574.0 L 977.0 2554.0\"/><path d=\"M 977.0 2534.0 L 977.0 2554.0\"/><path d=\"M 977.0 2574.0 C 977.0 2620.0 961.0 2627.0 915.7 2649.3\"/><path d=\"M 977.0 2574.0 C 965.0 2607.0 937.0 2595.0 923.9 2587.2\"/><path d=\"M 977.0 2574.0 C 977.0 2632.0 1028.0 2670.0 1071.0 2705.8\"/><g><path d=\"M 977.0 2534.0 C 977.0 2488.0 962.0 2477.0 925.5 2461.5\"/><g class=\"arrowhead\" transform=\"translate(925.5, 2461.5) rotate(-157)\"><path d=\"M 0 -10 L 13 0 L 0 10 Z\" transform=\"translate(-3)\"/></g></g><g><path d=\"M 977.0 2534.0 C 972.0 2491.0 905.0 2480.0 871.3 2487.3\"/><g class=\"arrowhead\" transform=\"translate(871.3, 2487.3) rotate(168)\"><path d=\"M 0 -10 L 13 0 L 0 10 Z\" transform=\"translate(-3)\"/></g></g><g><path d=\"M 977.0 2534.0 C 978.0 2475.0 1027.0 2434.0 1064.0 2401.4\"/><g class=\"arrowhead\" transform=\"translate(1064.0, 2401.4) rotate(-41)\"><path d=\"M 0 -10 L 13 0 L 0 10 Z\" transform=\"translate(-3)\"/></g></g><text x=\"992.0\" y=\"2564.0\">PPS</text></g><g name=\"pdh\"><path d=\"M 1279.0 2922.0 L 1299.0 2922.0\"/><path d=\"M 1319.0 2922.0 L 1299.0 2922.0\"/><path d=\"M 1279.0 2922.0 C 1233.0 2922.0 1197.0 2941.0 1148.6 2959.2\"/><path d=\"M 1279.0 2922.0 C 1233.0 2922.0 1228.0 2891.0 1214.3 2861.9\"/><path d=\"M 1279.0 2922.0 C 1237.0 2922.0 1098.0 2924.0 1094.6 2755.0\"/><g><path d=\"M 1319.0 2922.0 C 1396.0 2922.0 1549.0 2922.0 1619.0 2922.0\"/><g class=\"arrowhead\" transform=\"translate(1619.0, 2922.0) rotate(0)\"><path d=\"M 0 -10 L 13 0 L 0 10 Z\" transform=\"translate(-3)\"/></g></g><g><path d=\"M 1319.0 2922.0 C 1371.0 2922.0 1404.0 2886.0 1415.4 2868.7\"/><g class=\"arrowhead\" transform=\"translate(1415.4, 2868.7) rotate(-57)\"><path d=\"M 0 -10 L 13 0 L 0 10 Z\" transform=\"translate(-3)\"/></g></g><g><path d=\"M 1319.0 2922.0 C 1339.0 2922.0 1356.0 2891.0 1355.2 2871.0\"/><g class=\"arrowhead\" transform=\"translate(1355.2, 2871.0) rotate(-92)\"><path d=\"M 0 -10 L 13 0 L 0 10 Z\" transform=\"translate(-3)\"/></g></g><text x=\"1270.0\" y=\"2985.0\">PDH</text></g><g name=\"pyk\"><path d=\"M 1208.0 2573.0 L 1208.0 2553.0\"/><path d=\"M 1208.0 2533.0 L 1208.0 2553.0\"/><g><path d=\"M 1208.0 2573.0 C 1208.0 2619.0 1226.0 2624.0 1259.9 2642.6\"/><g class=\"arrowhead\" transform=\"translate(1259.9, 2642.6) rotate(29)\"><path d=\"M 0 -10 L 13 0 L 0 10 Z\" transform=\"translate(-3)\"/></g></g><g><path d=\"M 1208.0 2573.0 C 1209.0 2630.0 1162.0 2668.0 1124.7 2699.3\"/><g class=\"arrowhead\" transform=\"translate(1124.7, 2699.3) rotate(140)\"><path d=\"M 0 -10 L 13 0 L 0 10 Z\" transform=\"translate(-3)\"/></g></g><g><path d=\"M 1208.0 2533.0 C 1208.0 2487.0 1225.0 2490.0 1255.4 2469.8\"/><g class=\"arrowhead\" transform=\"translate(1255.4, 2469.8) rotate(-34)\"><path d=\"M 0 -10 L 13 0 L 0 10 Z\" transform=\"translate(-3)\"/></g></g><g><path d=\"M 1208.0 2533.0 C 1208.0 2475.0 1161.0 2437.0 1123.4 2402.2\"/><g class=\"arrowhead\" transform=\"translate(1123.4, 2402.2) rotate(-137)\"><path d=\"M 0 -10 L 13 0 L 0 10 Z\" transform=\"translate(-3)\"/></g></g><text x=\"1131.0\" y=\"2563.0\">PYK</text></g><g name=\"tpi\"><path d=\"M 939.0 1201.0 L 919.0 1201.0\"/><path d=\"M 899.0 1201.0 L 919.0 1201.0\"/><g><path d=\"M 939.0 1201.0 C 981.0 1201.0 1032.0 1201.0 1056.0 1200.2\"/><g class=\"arrowhead\" transform=\"translate(1056.0, 1200.2) rotate(-2)\"><path d=\"M 0 -10 L 13 0 L 0 10 Z\" transform=\"translate(-3)\"/></g></g><g><path d=\"M 899.0 1201.0 C 857.0 1201.0 802.0 1201.0 784.0 1201.0\"/><g class=\"arrowhead\" transform=\"translate(784.0, 1201.0) rotate(180)\"><path d=\"M 0 -10 L 13 0 L 0 10 Z\" transform=\"translate(-3)\"/></g></g><text x=\"892.0\" y=\"1241.0\">TPI</text></g><g name=\"fba\"><path d=\"M 744.0 1006.0 L 744.0 1026.0\"/><path d=\"M 744.0 1046.0 L 744.0 1026.0\"/><g><path d=\"M 744.0 1006.0 C 744.0 964.0 744.0 910.0 744.0 891.0\"/><g class=\"arrowhead\" transform=\"translate(744.0, 891.0) rotate(-90)\"><path d=\"M 0 -10 L 13 0 L 0 10 Z\" transform=\"translate(-3)\"/></g></g><g><path d=\"M 744.0 1046.0 C 744.0 1092.0 902.0 1062.0 1063.3 1175.9\"/><g class=\"arrowhead\" transform=\"translate(1063.3, 1175.9) rotate(35)\"><path d=\"M 0 -10 L 13 0 L 0 10 Z\" transform=\"translate(-3)\"/></g></g><g><path d=\"M 744.0 1046.0 C 744.0 1088.0 744.0 1142.0 744.0 1161.0\"/><g class=\"arrowhead\" transform=\"translate(744.0, 1161.0) rotate(90)\"><path d=\"M 0 -10 L 13 0 L 0 10 Z\" transform=\"translate(-3)\"/></g></g><text x=\"661.0\" y=\"1036.0\">FBA</text></g><g name=\"pfk\"><path d=\"M 865.0 646.0 L 865.0 666.0\"/><path d=\"M 865.0 686.0 L 865.0 666.0\"/><path d=\"M 865.0 646.0 C 865.0 600.0 899.0 589.0 906.6 587.2\"/><path d=\"M 865.0 646.0 C 865.0 604.0 804.0 559.0 765.6 521.9\"/><g><path d=\"M 865.0 686.0 C 865.0 732.0 894.0 752.0 914.1 759.6\"/><g class=\"arrowhead\" transform=\"translate(914.1, 759.6) rotate(21)\"><path d=\"M 0 -10 L 13 0 L 0 10 Z\" transform=\"translate(-3)\"/></g></g><g><path d=\"M 865.0 686.0 C 865.0 728.0 804.0 800.0 774.5 825.1\"/><g class=\"arrowhead\" transform=\"translate(774.5, 825.1) rotate(140)\"><path d=\"M 0 -10 L 13 0 L 0 10 Z\" transform=\"translate(-3)\"/></g></g><text x=\"784.0\" y=\"681.0\">PFK</text></g><g name=\"pgi\"><path d=\"M 744.0 306.0 L 744.0 326.0\"/><path d=\"M 744.0 346.0 L 744.0 326.0\"/><g><path d=\"M 744.0 306.0 C 744.0 264.0 744.0 209.0 744.0 190.0\"/><g class=\"arrowhead\" transform=\"translate(744.0, 190.0) rotate(-90)\"><path d=\"M 0 -10 L 13 0 L 0 10 Z\" transform=\"translate(-3)\"/></g></g><g><path d=\"M 744.0 346.0 C 744.0 388.0 744.0 442.0 744.0 461.0\"/><g class=\"arrowhead\" transform=\"translate(744.0, 461.0) rotate(90)\"><path d=\"M 0 -10 L 13 0 L 0 10 Z\" transform=\"translate(-3)\"/></g></g><text x=\"653.0\" y=\"339.0\">PGI</text></g><g name=\"fbp\"><path d=\"M 625.0 692.0 L 625.0 672.0\"/><path d=\"M 625.0 652.0 L 625.0 672.0\"/><path d=\"M 625.0 692.0 C 625.0 734.0 681.0 801.0 720.5 832.4\"/><path d=\"M 625.0 692.0 C 625.0 738.0 607.0 743.0 564.3 766.4\"/><g><path d=\"M 625.0 652.0 C 625.0 610.0 679.0 555.0 713.2 526.6\"/><g class=\"arrowhead\" transform=\"translate(713.2, 526.6) rotate(-40)\"><path d=\"M 0 -10 L 13 0 L 0 10 Z\" transform=\"translate(-3)\"/></g></g><g><path d=\"M 625.0 652.0 C 625.0 606.0 607.0 601.0 573.1 582.4\"/><g class=\"arrowhead\" transform=\"translate(573.1, 582.4) rotate(-151)\"><path d=\"M 0 -10 L 13 0 L 0 10 Z\" transform=\"translate(-3)\"/></g></g><text x=\"640.0\" y=\"682.0\">FBP</text></g></g><g id=\"metabolites\"><g name=\"nad.ox\"><circle cx=\"1014.0\" cy=\"1313.0\" r=\"12.0\"/><text x=\"930.0\" y=\"1312.0\">NAD+</text></g><g name=\"pi\"><circle cx=\"1176.0\" cy=\"1309.0\" r=\"12.0\"/><text x=\"1215.0\" y=\"1318.0\">Pi</text></g><g name=\"dpg\"><circle cx=\"1094.0\" cy=\"1551.0\" r=\"20.0\"/><text x=\"1135.0\" y=\"1564.0\">DPG</text></g><g name=\"nad.red\"><circle cx=\"1014.0\" cy=\"1522.0\" r=\"12.0\"/><text x=\"925.0\" y=\"1526.0\">NADH</text></g><g name=\"3pg\"><circle cx=\"1094.0\" cy=\"1901.0\" r=\"20.0\"/><text x=\"1131.0\" y=\"1906.0\">3PG</text></g><g name=\"atp\"><circle cx=\"1014.0\" cy=\"1831.0\" r=\"12.0\"/><text x=\"945.0\" y=\"1840.0\">ATP</text></g><g name=\"adp\"><circle cx=\"1014.0\" cy=\"1621.0\" r=\"12.0\"/><text x=\"947.0\" y=\"1624.0\">ADP</text></g><g name=\"2pg\"><circle cx=\"1094.0\" cy=\"2102.0\" r=\"20.0\"/><text x=\"1135.0\" y=\"2109.0\">2PG</text></g><g name=\"h2o\"><circle cx=\"1014.0\" cy=\"2305.0\" r=\"12.0\"/><text x=\"936.0\" y=\"2310.0\">H2O</text></g><g name=\"pep\"><circle cx=\"1094.0\" cy=\"2375.0\" r=\"20.0\"/><text x=\"1126.0\" y=\"2342.0\">PEP</text></g><g name=\"atp\"><circle cx=\"896.0\" cy=\"2659.0\" r=\"12.0\"/><text x=\"845.0\" y=\"2656.0\">ATP</text></g><g name=\"h2o\"><circle cx=\"905.0\" cy=\"2576.0\" r=\"12.0\"/><text x=\"850.0\" y=\"2581.0\">H2O</text></g><g name=\"pyr\"><circle cx=\"1094.0\" cy=\"2725.0\" r=\"20.0\"/><text x=\"1026.0\" y=\"2778.0\">pyr</text></g><g name=\"amp\"><circle cx=\"896.0\" cy=\"2449.0\" r=\"12.0\"/><text x=\"840.0\" y=\"2446.0\">AMP</text></g><g name=\"pi\"><circle cx=\"840.0\" cy=\"2494.0\" r=\"12.0\"/><text x=\"810.0\" y=\"2520.0\">Pi</text></g><g name=\"coa\"><circle cx=\"1128.0\" cy=\"2967.0\" r=\"12.0\"/><text x=\"1056.0\" y=\"2999.0\">CoA</text></g><g name=\"nad.ox\"><circle cx=\"1205.0\" cy=\"2842.0\" r=\"12.0\"/><text x=\"1171.0\" y=\"2810.0\">NAD+</text></g><g name=\"accoa\"><circle cx=\"1659.0\" cy=\"2922.0\" r=\"20.0\"/><text x=\"1593.0\" y=\"2880.0\">acCoA</text></g><g name=\"co2\"><circle cx=\"1433.0\" cy=\"2842.0\" r=\"12.0\"/><text x=\"1442.0\" y=\"2821.0\">CO2</text></g><g name=\"nad.red\"><circle cx=\"1354.0\" cy=\"2839.0\" r=\"12.0\"/><text x=\"1321.0\" y=\"2815.0\">NADH</text></g><g name=\"atp\"><circle cx=\"1288.0\" cy=\"2658.0\" r=\"12.0\"/><text x=\"1303.0\" y=\"2658.0\">ATP</text></g><g name=\"adp\"><circle cx=\"1282.0\" cy=\"2452.0\" r=\"12.0\"/><text x=\"1294.0\" y=\"2447.0\">ADP</text></g><g name=\"dhap\"><circle cx=\"744.0\" cy=\"1201.0\" r=\"20.0\"/><text x=\"722.0\" y=\"1241.0\">DHAP</text></g><g name=\"Fru.D.bis16\"><circle cx=\"744.0\" cy=\"851.0\" r=\"20.0\"/><text x=\"660.0\" y=\"879.0\">FDP</text></g><g name=\"atp\"><circle cx=\"928.0\" cy=\"582.0\" r=\"12.0\"/><text x=\"952.0\" y=\"582.0\">ATP</text></g><g name=\"Fru.D.6P\"><circle cx=\"744.0\" cy=\"501.0\" r=\"20.0\"/><text x=\"661.0\" y=\"494.0\">F6P</text></g><g name=\"adp\"><circle cx=\"944.0\" cy=\"771.0\" r=\"12.0\"/><text x=\"966.0\" y=\"790.0\">ADP</text></g><g name=\"Glc.D.6P\"><circle cx=\"744.0\" cy=\"150.0\" r=\"20.0\"/><text x=\"682.0\" y=\"114.0\">G6P</text></g><g name=\"h2o\"><circle cx=\"545.0\" cy=\"777.0\" r=\"12.0\"/><text x=\"518.0\" y=\"807.0\">H2O</text></g><g name=\"pi\"><circle cx=\"545.0\" cy=\"567.0\" r=\"12.0\"/><text x=\"527.0\" y=\"597.0\">Pi</text></g><g name=\"gap\"><circle cx=\"1096.0\" cy=\"1199.0\" r=\"20.0\"/><text x=\"1139.0\" y=\"1225.0\">GAP</text></g></g></g></svg>"
      ],
      "text/plain": [
       "<IPython.core.display.SVG object>"
      ]
     },
     "execution_count": 13,
     "metadata": {},
     "output_type": "execute_result"
    }
   ],
   "source": [
    "glycolysis = build_pathway('glycolysis', 'Glycolysis')\n",
    "SVG(escher_map.EscherMap(glycolysis.diagram, width=\"10cm\").draw())"
   ]
  },
  {
   "cell_type": "code",
   "execution_count": 14,
   "id": "1f21afde-a5a1-4ffe-acd1-fd8fad77299d",
   "metadata": {},
   "outputs": [
    {
     "data": {
      "image/svg+xml": [
       "<svg width=\"12cm\" height=\"None\" viewBox=\"-163.0 -136.0 2899.0 3299.0\"><defs><style type=\"text/css\">\n",
       "#canvas {\n",
       "  fill: #ffffff;\n",
       "  stroke: #cccccc;\n",
       "}\n",
       "text {\n",
       "  font-family: sans-serif;\n",
       "  font-style: italic;\n",
       "  font-weight: bold;\n",
       "  stroke: none;\n",
       "  text-rendering: optimizelegibility;\n",
       "}\n",
       "#reactions text {\n",
       "  font-size: 30px;\n",
       "  fill: #334e75;\n",
       "}\n",
       "#reactions text.stoich {\n",
       "  font-size: 12px;\n",
       "}\n",
       "#metabolites text {\n",
       "  font-size: 20px;\n",
       "  fill: black;\n",
       "}\n",
       "#reactions {\n",
       "  fill: none;\n",
       "  stroke: #334e75;\n",
       "  stroke-width: 10;\n",
       "}\n",
       "#reactions.data {\n",
       "  stroke: #eeeeee;  /* default overridden by reaction_scale */\n",
       "}\n",
       "#reactions .arrowhead {\n",
       "  fill: #334e75;\n",
       "  stroke: none;\n",
       "}\n",
       "#reactions.data .arrowhead {\n",
       "  fill: #eeeeee;  /* default overridden by reaction_scale */\n",
       "}\n",
       "#metabolites {\n",
       "  fill: #e0865b;\n",
       "  stroke: #a24510;\n",
       "  stroke-width: 2;\n",
       "}\n",
       "#metabolites.data {\n",
       "  fill: #eeeeee;  /* default overridden by metabolite_scale */\n",
       "  stroke: none;\n",
       "}\n",
       "</style></defs><g id=\"eschermap\"><rect id=\"canvas\" x=\"-163.0\" y=\"-136.0\" width=\"2899.0\" height=\"3299.0\"/><g id=\"reactions\"><g name=\"gapdh\"><path d=\"M 1094.0 1397.0 L 1094.0 1417.0\"/><path d=\"M 1094.0 1437.0 L 1094.0 1417.0\"/><g><path d=\"M 1094.0 1397.0 C 1094.0 1355.0 1091.0 1260.0 1092.7 1238.9\"/><g class=\"arrowhead\" transform=\"translate(1092.7, 1238.9) rotate(-85)\"><path d=\"M 0 -10 L 13 0 L 0 10 Z\" transform=\"translate(-3)\"/></g></g><g><path d=\"M 1094.0 1397.0 C 1094.0 1351.0 1075.0 1347.0 1042.0 1328.6\"/><g class=\"arrowhead\" transform=\"translate(1042.0, 1328.6) rotate(-151)\"><path d=\"M 0 -10 L 13 0 L 0 10 Z\" transform=\"translate(-3)\"/></g></g><g><path d=\"M 1094.0 1397.0 C 1094.0 1351.0 1116.0 1347.0 1149.0 1326.1\"/><g class=\"arrowhead\" transform=\"translate(1149.0, 1326.1) rotate(-32)\"><path d=\"M 0 -10 L 13 0 L 0 10 Z\" transform=\"translate(-3)\"/></g></g><g><path d=\"M 1094.0 1437.0 C 1094.0 1479.0 1094.0 1492.0 1094.0 1511.0\"/><g class=\"arrowhead\" transform=\"translate(1094.0, 1511.0) rotate(90)\"><path d=\"M 0 -10 L 13 0 L 0 10 Z\" transform=\"translate(-3)\"/></g></g><g><path d=\"M 1094.0 1437.0 C 1094.0 1483.0 1076.0 1489.0 1042.2 1507.0\"/><g class=\"arrowhead\" transform=\"translate(1042.2, 1507.0) rotate(152)\"><path d=\"M 0 -10 L 13 0 L 0 10 Z\" transform=\"translate(-3)\"/></g></g><text x=\"1109.0\" y=\"1427.0\">GAPDH</text></g><g name=\"pgk\"><path d=\"M 1094.0 1746.0 L 1094.0 1726.0\"/><path d=\"M 1094.0 1706.0 L 1094.0 1726.0\"/><g><path d=\"M 1094.0 1746.0 C 1094.0 1788.0 1094.0 1842.0 1094.0 1861.0\"/><g class=\"arrowhead\" transform=\"translate(1094.0, 1861.0) rotate(90)\"><path d=\"M 0 -10 L 13 0 L 0 10 Z\" transform=\"translate(-3)\"/></g></g><g><path d=\"M 1094.0 1746.0 C 1094.0 1792.0 1076.0 1797.0 1042.1 1815.6\"/><g class=\"arrowhead\" transform=\"translate(1042.1, 1815.6) rotate(151)\"><path d=\"M 0 -10 L 13 0 L 0 10 Z\" transform=\"translate(-3)\"/></g></g><g><path d=\"M 1094.0 1706.0 C 1094.0 1664.0 1094.0 1610.0 1094.0 1591.0\"/><g class=\"arrowhead\" transform=\"translate(1094.0, 1591.0) rotate(-90)\"><path d=\"M 0 -10 L 13 0 L 0 10 Z\" transform=\"translate(-3)\"/></g></g><g><path d=\"M 1094.0 1706.0 C 1094.0 1660.0 1076.0 1655.0 1042.1 1636.4\"/><g class=\"arrowhead\" transform=\"translate(1042.1, 1636.4) rotate(-151)\"><path d=\"M 0 -10 L 13 0 L 0 10 Z\" transform=\"translate(-3)\"/></g></g><text x=\"1109.0\" y=\"1736.0\">PGK</text></g><g name=\"gpm\"><path d=\"M 1094.0 2025.0 L 1094.0 2005.0\"/><path d=\"M 1094.0 1985.0 L 1094.0 2005.0\"/><g><path d=\"M 1094.0 2025.0 C 1094.0 2067.0 1094.0 2043.0 1094.0 2062.0\"/><g class=\"arrowhead\" transform=\"translate(1094.0, 2062.0) rotate(90)\"><path d=\"M 0 -10 L 13 0 L 0 10 Z\" transform=\"translate(-3)\"/></g></g><g><path d=\"M 1094.0 1985.0 C 1094.0 1943.0 1094.0 1960.0 1094.0 1941.0\"/><g class=\"arrowhead\" transform=\"translate(1094.0, 1941.0) rotate(-90)\"><path d=\"M 0 -10 L 13 0 L 0 10 Z\" transform=\"translate(-3)\"/></g></g><text x=\"1109.0\" y=\"2015.0\">GPM</text></g><g name=\"eno\"><path d=\"M 1094.0 2180.0 L 1094.0 2200.0\"/><path d=\"M 1094.0 2220.0 L 1094.0 2200.0\"/><g><path d=\"M 1094.0 2180.0 C 1094.0 2138.0 1094.0 2161.0 1094.0 2142.0\"/><g class=\"arrowhead\" transform=\"translate(1094.0, 2142.0) rotate(-90)\"><path d=\"M 0 -10 L 13 0 L 0 10 Z\" transform=\"translate(-3)\"/></g></g><g><path d=\"M 1094.0 2220.0 C 1094.0 2266.0 1076.0 2271.0 1042.1 2289.6\"/><g class=\"arrowhead\" transform=\"translate(1042.1, 2289.6) rotate(151)\"><path d=\"M 0 -10 L 13 0 L 0 10 Z\" transform=\"translate(-3)\"/></g></g><g><path d=\"M 1094.0 2220.0 C 1094.0 2262.0 1094.0 2316.0 1094.0 2335.0\"/><g class=\"arrowhead\" transform=\"translate(1094.0, 2335.0) rotate(90)\"><path d=\"M 0 -10 L 13 0 L 0 10 Z\" transform=\"translate(-3)\"/></g></g><text x=\"1109.0\" y=\"2245.0\">ENO</text></g><g name=\"pps\"><path d=\"M 977.0 2574.0 L 977.0 2554.0\"/><path d=\"M 977.0 2534.0 L 977.0 2554.0\"/><path d=\"M 977.0 2574.0 C 977.0 2620.0 961.0 2627.0 915.7 2649.3\"/><path d=\"M 977.0 2574.0 C 965.0 2607.0 937.0 2595.0 923.9 2587.2\"/><path d=\"M 977.0 2574.0 C 977.0 2632.0 1028.0 2670.0 1071.0 2705.8\"/><g><path d=\"M 977.0 2534.0 C 977.0 2488.0 962.0 2477.0 925.5 2461.5\"/><g class=\"arrowhead\" transform=\"translate(925.5, 2461.5) rotate(-157)\"><path d=\"M 0 -10 L 13 0 L 0 10 Z\" transform=\"translate(-3)\"/></g></g><g><path d=\"M 977.0 2534.0 C 972.0 2491.0 905.0 2480.0 871.3 2487.3\"/><g class=\"arrowhead\" transform=\"translate(871.3, 2487.3) rotate(168)\"><path d=\"M 0 -10 L 13 0 L 0 10 Z\" transform=\"translate(-3)\"/></g></g><g><path d=\"M 977.0 2534.0 C 978.0 2475.0 1027.0 2434.0 1064.0 2401.4\"/><g class=\"arrowhead\" transform=\"translate(1064.0, 2401.4) rotate(-41)\"><path d=\"M 0 -10 L 13 0 L 0 10 Z\" transform=\"translate(-3)\"/></g></g><text x=\"992.0\" y=\"2564.0\">PPS</text></g><g name=\"pdh\"><path d=\"M 1279.0 2922.0 L 1299.0 2922.0\"/><path d=\"M 1319.0 2922.0 L 1299.0 2922.0\"/><path d=\"M 1279.0 2922.0 C 1233.0 2922.0 1197.0 2941.0 1148.6 2959.2\"/><path d=\"M 1279.0 2922.0 C 1233.0 2922.0 1228.0 2891.0 1214.3 2861.9\"/><path d=\"M 1279.0 2922.0 C 1237.0 2922.0 1098.0 2924.0 1094.6 2755.0\"/><g><path d=\"M 1319.0 2922.0 C 1396.0 2922.0 1549.0 2922.0 1619.0 2922.0\"/><g class=\"arrowhead\" transform=\"translate(1619.0, 2922.0) rotate(0)\"><path d=\"M 0 -10 L 13 0 L 0 10 Z\" transform=\"translate(-3)\"/></g></g><g><path d=\"M 1319.0 2922.0 C 1371.0 2922.0 1404.0 2886.0 1415.4 2868.7\"/><g class=\"arrowhead\" transform=\"translate(1415.4, 2868.7) rotate(-57)\"><path d=\"M 0 -10 L 13 0 L 0 10 Z\" transform=\"translate(-3)\"/></g></g><g><path d=\"M 1319.0 2922.0 C 1339.0 2922.0 1356.0 2891.0 1355.2 2871.0\"/><g class=\"arrowhead\" transform=\"translate(1355.2, 2871.0) rotate(-92)\"><path d=\"M 0 -10 L 13 0 L 0 10 Z\" transform=\"translate(-3)\"/></g></g><text x=\"1270.0\" y=\"2985.0\">PDH</text></g><g name=\"pyk\"><path d=\"M 1208.0 2573.0 L 1208.0 2553.0\"/><path d=\"M 1208.0 2533.0 L 1208.0 2553.0\"/><g><path d=\"M 1208.0 2573.0 C 1208.0 2619.0 1226.0 2624.0 1259.9 2642.6\"/><g class=\"arrowhead\" transform=\"translate(1259.9, 2642.6) rotate(29)\"><path d=\"M 0 -10 L 13 0 L 0 10 Z\" transform=\"translate(-3)\"/></g></g><g><path d=\"M 1208.0 2573.0 C 1209.0 2630.0 1162.0 2668.0 1124.7 2699.3\"/><g class=\"arrowhead\" transform=\"translate(1124.7, 2699.3) rotate(140)\"><path d=\"M 0 -10 L 13 0 L 0 10 Z\" transform=\"translate(-3)\"/></g></g><g><path d=\"M 1208.0 2533.0 C 1208.0 2487.0 1225.0 2490.0 1255.4 2469.8\"/><g class=\"arrowhead\" transform=\"translate(1255.4, 2469.8) rotate(-34)\"><path d=\"M 0 -10 L 13 0 L 0 10 Z\" transform=\"translate(-3)\"/></g></g><g><path d=\"M 1208.0 2533.0 C 1208.0 2475.0 1161.0 2437.0 1123.4 2402.2\"/><g class=\"arrowhead\" transform=\"translate(1123.4, 2402.2) rotate(-137)\"><path d=\"M 0 -10 L 13 0 L 0 10 Z\" transform=\"translate(-3)\"/></g></g><text x=\"1131.0\" y=\"2563.0\">PYK</text></g><g name=\"tpi\"><path d=\"M 939.0 1201.0 L 919.0 1201.0\"/><path d=\"M 899.0 1201.0 L 919.0 1201.0\"/><g><path d=\"M 939.0 1201.0 C 981.0 1201.0 1032.0 1201.0 1056.0 1200.2\"/><g class=\"arrowhead\" transform=\"translate(1056.0, 1200.2) rotate(-2)\"><path d=\"M 0 -10 L 13 0 L 0 10 Z\" transform=\"translate(-3)\"/></g></g><g><path d=\"M 899.0 1201.0 C 857.0 1201.0 802.0 1201.0 784.0 1201.0\"/><g class=\"arrowhead\" transform=\"translate(784.0, 1201.0) rotate(180)\"><path d=\"M 0 -10 L 13 0 L 0 10 Z\" transform=\"translate(-3)\"/></g></g><text x=\"892.0\" y=\"1241.0\">TPI</text></g><g name=\"fba\"><path d=\"M 744.0 1006.0 L 744.0 1026.0\"/><path d=\"M 744.0 1046.0 L 744.0 1026.0\"/><g><path d=\"M 744.0 1006.0 C 744.0 964.0 744.0 910.0 744.0 891.0\"/><g class=\"arrowhead\" transform=\"translate(744.0, 891.0) rotate(-90)\"><path d=\"M 0 -10 L 13 0 L 0 10 Z\" transform=\"translate(-3)\"/></g></g><g><path d=\"M 744.0 1046.0 C 744.0 1092.0 902.0 1062.0 1063.3 1175.9\"/><g class=\"arrowhead\" transform=\"translate(1063.3, 1175.9) rotate(35)\"><path d=\"M 0 -10 L 13 0 L 0 10 Z\" transform=\"translate(-3)\"/></g></g><g><path d=\"M 744.0 1046.0 C 744.0 1088.0 744.0 1142.0 744.0 1161.0\"/><g class=\"arrowhead\" transform=\"translate(744.0, 1161.0) rotate(90)\"><path d=\"M 0 -10 L 13 0 L 0 10 Z\" transform=\"translate(-3)\"/></g></g><text x=\"661.0\" y=\"1036.0\">FBA</text></g><g name=\"pfk\"><path d=\"M 865.0 646.0 L 865.0 666.0\"/><path d=\"M 865.0 686.0 L 865.0 666.0\"/><path d=\"M 865.0 646.0 C 865.0 600.0 899.0 589.0 906.6 587.2\"/><path d=\"M 865.0 646.0 C 865.0 604.0 804.0 559.0 765.6 521.9\"/><g><path d=\"M 865.0 686.0 C 865.0 732.0 894.0 752.0 914.1 759.6\"/><g class=\"arrowhead\" transform=\"translate(914.1, 759.6) rotate(21)\"><path d=\"M 0 -10 L 13 0 L 0 10 Z\" transform=\"translate(-3)\"/></g></g><g><path d=\"M 865.0 686.0 C 865.0 728.0 804.0 800.0 774.5 825.1\"/><g class=\"arrowhead\" transform=\"translate(774.5, 825.1) rotate(140)\"><path d=\"M 0 -10 L 13 0 L 0 10 Z\" transform=\"translate(-3)\"/></g></g><text x=\"784.0\" y=\"681.0\">PFK</text></g><g name=\"pgi\"><path d=\"M 744.0 306.0 L 744.0 326.0\"/><path d=\"M 744.0 346.0 L 744.0 326.0\"/><g><path d=\"M 744.0 306.0 C 744.0 264.0 744.0 209.0 744.0 190.0\"/><g class=\"arrowhead\" transform=\"translate(744.0, 190.0) rotate(-90)\"><path d=\"M 0 -10 L 13 0 L 0 10 Z\" transform=\"translate(-3)\"/></g></g><g><path d=\"M 744.0 346.0 C 744.0 388.0 744.0 442.0 744.0 461.0\"/><g class=\"arrowhead\" transform=\"translate(744.0, 461.0) rotate(90)\"><path d=\"M 0 -10 L 13 0 L 0 10 Z\" transform=\"translate(-3)\"/></g></g><text x=\"653.0\" y=\"339.0\">PGI</text></g><g name=\"r5pi\"><path d=\"M 1646.0 332.0 L 1666.0 332.0\"/><path d=\"M 1686.0 332.0 L 1666.0 332.0\"/><g><path d=\"M 1646.0 332.0 C 1625.0 332.0 1628.0 332.0 1585.0 332.0\"/><g class=\"arrowhead\" transform=\"translate(1585.0, 332.0) rotate(180)\"><path d=\"M 0 -10 L 13 0 L 0 10 Z\" transform=\"translate(-3)\"/></g></g><g><path d=\"M 1686.0 332.0 C 1763.0 337.0 1795.0 367.0 1829.3 400.2\"/><g class=\"arrowhead\" transform=\"translate(1829.3, 400.2) rotate(44)\"><path d=\"M 0 -10 L 13 0 L 0 10 Z\" transform=\"translate(-3)\"/></g></g><text x=\"1643.0\" y=\"382.0\">RPI</text></g><g name=\"pglase\"><path d=\"M 1249.0 150.0 L 1269.0 150.0\"/><path d=\"M 1289.0 150.0 L 1269.0 150.0\"/><g><path d=\"M 1249.0 150.0 C 1207.0 150.0 1152.0 150.0 1134.0 150.0\"/><g class=\"arrowhead\" transform=\"translate(1134.0, 150.0) rotate(180)\"><path d=\"M 0 -10 L 13 0 L 0 10 Z\" transform=\"translate(-3)\"/></g></g><g><path d=\"M 1249.0 150.0 C 1203.0 150.0 1197.0 132.0 1179.0 98.2\"/><g class=\"arrowhead\" transform=\"translate(1179.0, 98.2) rotate(-118)\"><path d=\"M 0 -10 L 13 0 L 0 10 Z\" transform=\"translate(-3)\"/></g></g><g><path d=\"M 1289.0 150.0 C 1331.0 150.0 1385.0 150.0 1404.0 150.0\"/><g class=\"arrowhead\" transform=\"translate(1404.0, 150.0) rotate(0)\"><path d=\"M 0 -10 L 13 0 L 0 10 Z\" transform=\"translate(-3)\"/></g></g><text x=\"1219.0\" y=\"110.0\">PGLase</text></g><g name=\"g6pdh\"><path d=\"M 899.0 150.0 L 919.0 150.0\"/><path d=\"M 939.0 150.0 L 919.0 150.0\"/><g><path d=\"M 899.0 150.0 C 857.0 150.0 804.0 150.0 784.0 150.0\"/><g class=\"arrowhead\" transform=\"translate(784.0, 150.0) rotate(180)\"><path d=\"M 0 -10 L 13 0 L 0 10 Z\" transform=\"translate(-3)\"/></g></g><g><path d=\"M 899.0 150.0 C 853.0 150.0 847.0 132.0 829.0 98.2\"/><g class=\"arrowhead\" transform=\"translate(829.0, 98.2) rotate(-118)\"><path d=\"M 0 -10 L 13 0 L 0 10 Z\" transform=\"translate(-3)\"/></g></g><g><path d=\"M 939.0 150.0 C 981.0 150.0 1035.0 150.0 1054.0 150.0\"/><g class=\"arrowhead\" transform=\"translate(1054.0, 150.0) rotate(0)\"><path d=\"M 0 -10 L 13 0 L 0 10 Z\" transform=\"translate(-3)\"/></g></g><g><path d=\"M 939.0 150.0 C 985.0 150.0 990.0 132.0 1008.6 98.1\"/><g class=\"arrowhead\" transform=\"translate(1008.6, 98.1) rotate(-61)\"><path d=\"M 0 -10 L 13 0 L 0 10 Z\" transform=\"translate(-3)\"/></g></g><text x=\"869.0\" y=\"110.0\">G6PDH</text></g><g name=\"pgldh\"><path d=\"M 1764.0 234.0 L 1778.0 248.0\"/><path d=\"M 1792.0 262.0 L 1778.0 248.0\"/><g><path d=\"M 1764.0 234.0 C 1735.0 203.0 1648.0 155.0 1484.0 151.0\"/><g class=\"arrowhead\" transform=\"translate(1484.0, 151.0) rotate(-179)\"><path d=\"M 0 -10 L 13 0 L 0 10 Z\" transform=\"translate(-3)\"/></g></g><g><path d=\"M 1764.0 234.0 C 1756.0 220.0 1748.0 199.0 1750.2 174.9\"/><g class=\"arrowhead\" transform=\"translate(1750.2, 174.9) rotate(-85)\"><path d=\"M 0 -10 L 13 0 L 0 10 Z\" transform=\"translate(-3)\"/></g></g><g><path d=\"M 1792.0 262.0 C 1824.0 295.0 1868.0 285.0 1878.0 276.2\"/><g class=\"arrowhead\" transform=\"translate(1878.0, 276.2) rotate(-41)\"><path d=\"M 0 -10 L 13 0 L 0 10 Z\" transform=\"translate(-3)\"/></g></g><g><path d=\"M 1792.0 262.0 C 1821.0 293.0 1858.0 369.0 1858.0 388.0\"/><g class=\"arrowhead\" transform=\"translate(1858.0, 388.0) rotate(90)\"><path d=\"M 0 -10 L 13 0 L 0 10 Z\" transform=\"translate(-3)\"/></g></g><g><path d=\"M 1792.0 262.0 C 1824.0 295.0 1854.0 307.0 1900.1 310.0\"/><g class=\"arrowhead\" transform=\"translate(1900.1, 310.0) rotate(4)\"><path d=\"M 0 -10 L 13 0 L 0 10 Z\" transform=\"translate(-3)\"/></g></g><text x=\"1651.0\" y=\"266.0\">PGLDH</text></g><g name=\"rpe\"><path d=\"M 1665.0 640.0 L 1645.0 640.0\"/><path d=\"M 1625.0 640.0 L 1645.0 640.0\"/><g><path d=\"M 1665.0 640.0 C 1833.0 644.0 1862.0 523.0 1859.7 468.0\"/><g class=\"arrowhead\" transform=\"translate(1859.7, 468.0) rotate(-92)\"><path d=\"M 0 -10 L 13 0 L 0 10 Z\" transform=\"translate(-3)\"/></g></g><g><path d=\"M 1625.0 640.0 C 1583.0 640.0 1544.0 640.0 1525.0 640.0\"/><g class=\"arrowhead\" transform=\"translate(1525.0, 640.0) rotate(180)\"><path d=\"M 0 -10 L 13 0 L 0 10 Z\" transform=\"translate(-3)\"/></g></g><text x=\"1644.0\" y=\"686.0\">RPE</text></g><g name=\"fbp\"><path d=\"M 625.0 692.0 L 625.0 672.0\"/><path d=\"M 625.0 652.0 L 625.0 672.0\"/><path d=\"M 625.0 692.0 C 625.0 734.0 681.0 801.0 720.5 832.4\"/><path d=\"M 625.0 692.0 C 625.0 738.0 607.0 743.0 564.3 766.4\"/><g><path d=\"M 625.0 652.0 C 625.0 610.0 679.0 555.0 713.2 526.6\"/><g class=\"arrowhead\" transform=\"translate(713.2, 526.6) rotate(-40)\"><path d=\"M 0 -10 L 13 0 L 0 10 Z\" transform=\"translate(-3)\"/></g></g><g><path d=\"M 625.0 652.0 C 625.0 606.0 607.0 601.0 573.1 582.4\"/><g class=\"arrowhead\" transform=\"translate(573.1, 582.4) rotate(-151)\"><path d=\"M 0 -10 L 13 0 L 0 10 Z\" transform=\"translate(-3)\"/></g></g><text x=\"640.0\" y=\"682.0\">FBP</text></g><g name=\"pgldhat\"><path d=\"M 2153.0 375.0 L 2153.0 395.0\"/><path d=\"M 2153.0 415.0 L 2153.0 395.0\"/><g><path d=\"M 2153.0 375.0 C 2159.0 -66.0 1644.0 90.0 1482.3 138.5\"/><g class=\"arrowhead\" transform=\"translate(1482.3, 138.5) rotate(163)\"><path d=\"M 0 -10 L 13 0 L 0 10 Z\" transform=\"translate(-3)\"/></g></g><g><path d=\"M 2153.0 415.0 C 2153.0 457.0 2153.0 511.0 2153.0 530.0\"/><g class=\"arrowhead\" transform=\"translate(2153.0, 530.0) rotate(90)\"><path d=\"M 0 -10 L 13 0 L 0 10 Z\" transform=\"translate(-3)\"/></g></g><g><path d=\"M 2153.0 415.0 C 2158.0 453.0 2171.0 466.0 2204.9 484.6\"/><g class=\"arrowhead\" transform=\"translate(2204.9, 484.6) rotate(29)\"><path d=\"M 0 -10 L 13 0 L 0 10 Z\" transform=\"translate(-3)\"/></g></g><text x=\"2168.0\" y=\"405.0\">PGLDhat</text></g><g name=\"kdpga\"><path d=\"M 1581.0 1109.0 L 1566.0 1122.0\"/><path d=\"M 1551.0 1136.0 L 1566.0 1122.0\"/><g><path d=\"M 1581.0 1109.0 C 1633.0 1055.0 2150.0 782.0 2152.4 610.0\"/><g class=\"arrowhead\" transform=\"translate(2152.4, 610.0) rotate(-89)\"><path d=\"M 0 -10 L 13 0 L 0 10 Z\" transform=\"translate(-3)\"/></g></g><g><path d=\"M 1551.0 1136.0 C 1343.0 1219.0 1275.0 1103.0 1131.3 1180.1\"/><g class=\"arrowhead\" transform=\"translate(1131.3, 1180.1) rotate(152)\"><path d=\"M 0 -10 L 13 0 L 0 10 Z\" transform=\"translate(-3)\"/></g></g><g><path d=\"M 1551.0 1136.0 C 1225.0 1583.0 1842.0 2721.0 1134.0 2724.8\"/><g class=\"arrowhead\" transform=\"translate(1134.0, 2724.8) rotate(180)\"><path d=\"M 0 -10 L 13 0 L 0 10 Z\" transform=\"translate(-3)\"/></g></g><text x=\"1483.0\" y=\"1073.0\">KDPGA</text></g><g name=\"pts.glc\"><path d=\"M 276.0 150.0 L 296.0 150.0\"/><path d=\"M 316.0 150.0 L 296.0 150.0\"/><path d=\"M 276.0 150.0 C 188.0 150.0 231.0 150.0 130.0 150.0\"/><path d=\"M 276.0 150.0 C 152.0 151.0 129.0 2367.0 1064.0 2374.8\"/><g><path d=\"M 316.0 150.0 C 382.0 150.0 627.0 150.0 704.0 150.0\"/><g class=\"arrowhead\" transform=\"translate(704.0, 150.0) rotate(0)\"><path d=\"M 0 -10 L 13 0 L 0 10 Z\" transform=\"translate(-3)\"/></g></g><g><path d=\"M 316.0 150.0 C 418.0 150.0 3.0 2719.0 1054.0 2724.8\"/><g class=\"arrowhead\" transform=\"translate(1054.0, 2724.8) rotate(0)\"><path d=\"M 0 -10 L 13 0 L 0 10 Z\" transform=\"translate(-3)\"/></g></g><text x=\"285.0\" y=\"112.0\">GlcPTS</text></g><g name=\"pta\"><path d=\"M 1876.0 2922.0 L 1856.0 2922.0\"/><path d=\"M 1896.0 2922.0 L 1876.0 2922.0\"/><g><path d=\"M 1856.0 2922.0 C 1790.0 2922.0 1750.0 2922.0 1699.0 2922.0\"/><g class=\"arrowhead\" transform=\"translate(1699.0, 2922.0) rotate(180)\"><path d=\"M 0 -10 L 13 0 L 0 10 Z\" transform=\"translate(-3)\"/></g></g><g><path d=\"M 1856.0 2922.0 C 1800.0 2922.0 1780.0 2965.0 1773.2 2983.0\"/><g class=\"arrowhead\" transform=\"translate(1773.2, 2983.0) rotate(111)\"><path d=\"M 0 -10 L 13 0 L 0 10 Z\" transform=\"translate(-3)\"/></g></g><g><path d=\"M 1896.0 2922.0 C 1940.0 2922.0 1995.0 2922.0 2061.0 2922.0\"/><g class=\"arrowhead\" transform=\"translate(2061.0, 2922.0) rotate(0)\"><path d=\"M 0 -10 L 13 0 L 0 10 Z\" transform=\"translate(-3)\"/></g></g><g><path d=\"M 1896.0 2922.0 C 1940.0 2922.0 1955.0 2965.0 1968.9 2980.9\"/><g class=\"arrowhead\" transform=\"translate(1968.9, 2980.9) rotate(49)\"><path d=\"M 0 -10 L 13 0 L 0 10 Z\" transform=\"translate(-3)\"/></g></g><text x=\"1850.0\" y=\"3000.0\">PTA</text></g><g name=\"ack\"><path d=\"M 2276.0 2922.0 L 2296.0 2922.0\"/><path d=\"M 2256.0 2922.0 L 2276.0 2922.0\"/><g><path d=\"M 2296.0 2922.0 C 2392.0 2922.0 2455.0 2922.0 2528.0 2922.0\"/><g class=\"arrowhead\" transform=\"translate(2528.0, 2922.0) rotate(0)\"><path d=\"M 0 -10 L 13 0 L 0 10 Z\" transform=\"translate(-3)\"/></g></g><g><path d=\"M 2296.0 2922.0 C 2326.0 2922.0 2346.0 2950.0 2363.8 2978.0\"/><g class=\"arrowhead\" transform=\"translate(2363.8, 2978.0) rotate(58)\"><path d=\"M 0 -10 L 13 0 L 0 10 Z\" transform=\"translate(-3)\"/></g></g><g><path d=\"M 2256.0 2922.0 C 2210.0 2922.0 2160.0 2922.0 2141.0 2922.0\"/><g class=\"arrowhead\" transform=\"translate(2141.0, 2922.0) rotate(180)\"><path d=\"M 0 -10 L 13 0 L 0 10 Z\" transform=\"translate(-3)\"/></g></g><g><path d=\"M 2256.0 2922.0 C 2210.0 2922.0 2190.0 2950.0 2181.4 2974.8\"/><g class=\"arrowhead\" transform=\"translate(2181.4, 2974.8) rotate(109)\"><path d=\"M 0 -10 L 13 0 L 0 10 Z\" transform=\"translate(-3)\"/></g></g><text x=\"2240.0\" y=\"3000.0\">ACK</text></g><g name=\"aclig\"><path d=\"M 2094.0 2792.0 L 2114.0 2792.0\"/><path d=\"M 2074.0 2792.0 L 2094.0 2792.0\"/><g><path d=\"M 2114.0 2792.0 C 2300.0 2790.0 2500.0 2827.0 2544.7 2889.5\"/><g class=\"arrowhead\" transform=\"translate(2544.7, 2889.5) rotate(54)\"><path d=\"M 0 -10 L 13 0 L 0 10 Z\" transform=\"translate(-3)\"/></g></g><g><path d=\"M 2114.0 2792.0 C 2160.0 2790.0 2195.0 2760.0 2196.9 2730.9\"/><g class=\"arrowhead\" transform=\"translate(2196.9, 2730.9) rotate(-86)\"><path d=\"M 0 -10 L 13 0 L 0 10 Z\" transform=\"translate(-3)\"/></g></g><g><path d=\"M 2114.0 2792.0 C 2165.0 2790.0 2221.0 2790.0 2244.5 2743.5\"/><g class=\"arrowhead\" transform=\"translate(2244.5, 2743.5) rotate(-63)\"><path d=\"M 0 -10 L 13 0 L 0 10 Z\" transform=\"translate(-3)\"/></g></g><g><path d=\"M 2074.0 2792.0 C 1855.0 2795.0 1726.0 2840.0 1684.3 2891.0\"/><g class=\"arrowhead\" transform=\"translate(1684.3, 2891.0) rotate(129)\"><path d=\"M 0 -10 L 13 0 L 0 10 Z\" transform=\"translate(-3)\"/></g></g><g><path d=\"M 2074.0 2792.0 C 2032.0 2775.0 2015.0 2755.0 2011.3 2732.6\"/><g class=\"arrowhead\" transform=\"translate(2011.3, 2732.6) rotate(-99)\"><path d=\"M 0 -10 L 13 0 L 0 10 Z\" transform=\"translate(-3)\"/></g></g><g><path d=\"M 2074.0 2792.0 C 2017.0 2775.0 1964.0 2772.0 1944.0 2749.1\"/><g class=\"arrowhead\" transform=\"translate(1944.0, 2749.1) rotate(-131)\"><path d=\"M 0 -10 L 13 0 L 0 10 Z\" transform=\"translate(-3)\"/></g></g><text x=\"2030.0\" y=\"2840.0\">ACCOAlig</text></g><g name=\"tkt.c5c5\"><path d=\"M 1370.0 332.0 L 1350.0 332.0\"/><path d=\"M 1390.0 332.0 L 1370.0 332.0\"/><g><path d=\"M 1350.0 332.0 C 1306.0 334.0 1260.0 346.0 1238.5 355.6\"/><g class=\"arrowhead\" transform=\"translate(1238.5, 355.6) rotate(156)\"><path d=\"M 0 -10 L 13 0 L 0 10 Z\" transform=\"translate(-3)\"/></g></g><g><path d=\"M 1350.0 332.0 C 1295.0 334.0 1260.0 309.0 1239.4 301.2\"/><g class=\"arrowhead\" transform=\"translate(1239.4, 301.2) rotate(-159)\"><path d=\"M 0 -10 L 13 0 L 0 10 Z\" transform=\"translate(-3)\"/></g></g><g><path d=\"M 1390.0 332.0 C 1432.0 332.0 1486.0 332.0 1505.0 332.0\"/><g class=\"arrowhead\" transform=\"translate(1505.0, 332.0) rotate(0)\"><path d=\"M 0 -10 L 13 0 L 0 10 Z\" transform=\"translate(-3)\"/></g></g><g><path d=\"M 1390.0 332.0 C 1518.0 331.0 1638.0 475.0 1512.2 610.7\"/><g class=\"arrowhead\" transform=\"translate(1512.2, 610.7) rotate(133)\"><path d=\"M 0 -10 L 13 0 L 0 10 Z\" transform=\"translate(-3)\"/></g></g><text x=\"1320.0\" y=\"292.0\">TKT1</text></g><g name=\"tal\"><path d=\"M 1020.0 332.0 L 1040.0 332.0\"/><path d=\"M 1000.0 332.0 L 1020.0 332.0\"/><g><path d=\"M 1040.0 332.0 C 1094.0 333.0 1143.0 344.0 1165.9 354.9\"/><g class=\"arrowhead\" transform=\"translate(1165.9, 354.9) rotate(25)\"><path d=\"M 0 -10 L 13 0 L 0 10 Z\" transform=\"translate(-3)\"/></g></g><g><path d=\"M 1040.0 332.0 C 1096.0 327.0 1147.0 309.0 1164.9 301.9\"/><g class=\"arrowhead\" transform=\"translate(1164.9, 301.9) rotate(-22)\"><path d=\"M 0 -10 L 13 0 L 0 10 Z\" transform=\"translate(-3)\"/></g></g><g><path d=\"M 1000.0 332.0 C 892.0 332.0 805.0 432.0 770.5 471.0\"/><g class=\"arrowhead\" transform=\"translate(770.5, 471.0) rotate(131)\"><path d=\"M 0 -10 L 13 0 L 0 10 Z\" transform=\"translate(-3)\"/></g></g><g><path d=\"M 1000.0 332.0 C 899.0 381.0 998.0 489.0 1162.0 488.2\"/><g class=\"arrowhead\" transform=\"translate(1162.0, 488.2) rotate(-0)\"><path d=\"M 0 -10 L 13 0 L 0 10 Z\" transform=\"translate(-3)\"/></g></g><text x=\"970.0\" y=\"292.0\">TALA</text></g><g name=\"tkt.c5c4\"><path d=\"M 1266.0 640.0 L 1286.0 640.0\"/><path d=\"M 1246.0 640.0 L 1266.0 640.0\"/><g><path d=\"M 1286.0 640.0 C 1370.0 640.0 1370.0 482.0 1242.0 486.6\"/><g class=\"arrowhead\" transform=\"translate(1242.0, 486.6) rotate(178)\"><path d=\"M 0 -10 L 13 0 L 0 10 Z\" transform=\"translate(-3)\"/></g></g><g><path d=\"M 1286.0 640.0 C 1335.0 640.0 1409.0 640.0 1445.0 640.0\"/><g class=\"arrowhead\" transform=\"translate(1445.0, 640.0) rotate(0)\"><path d=\"M 0 -10 L 13 0 L 0 10 Z\" transform=\"translate(-3)\"/></g></g><g><path d=\"M 1246.0 640.0 C 1204.0 640.0 967.0 497.0 784.0 500.3\"/><g class=\"arrowhead\" transform=\"translate(784.0, 500.3) rotate(179)\"><path d=\"M 0 -10 L 13 0 L 0 10 Z\" transform=\"translate(-3)\"/></g></g><g><path d=\"M 1246.0 640.0 C 1061.0 644.0 1096.0 1083.0 1096.0 1159.0\"/><g class=\"arrowhead\" transform=\"translate(1096.0, 1159.0) rotate(90)\"><path d=\"M 0 -10 L 13 0 L 0 10 Z\" transform=\"translate(-3)\"/></g></g><text x=\"1229.0\" y=\"701.0\">TKT2</text></g></g><g id=\"metabolites\"><g name=\"nad.ox\"><circle cx=\"1014.0\" cy=\"1313.0\" r=\"12.0\"/><text x=\"930.0\" y=\"1312.0\">NAD+</text></g><g name=\"pi\"><circle cx=\"1176.0\" cy=\"1309.0\" r=\"12.0\"/><text x=\"1215.0\" y=\"1318.0\">Pi</text></g><g name=\"dpg\"><circle cx=\"1094.0\" cy=\"1551.0\" r=\"20.0\"/><text x=\"1135.0\" y=\"1564.0\">DPG</text></g><g name=\"nad.red\"><circle cx=\"1014.0\" cy=\"1522.0\" r=\"12.0\"/><text x=\"925.0\" y=\"1526.0\">NADH</text></g><g name=\"3pg\"><circle cx=\"1094.0\" cy=\"1901.0\" r=\"20.0\"/><text x=\"1131.0\" y=\"1906.0\">3PG</text></g><g name=\"atp\"><circle cx=\"1014.0\" cy=\"1831.0\" r=\"12.0\"/><text x=\"945.0\" y=\"1840.0\">ATP</text></g><g name=\"adp\"><circle cx=\"1014.0\" cy=\"1621.0\" r=\"12.0\"/><text x=\"947.0\" y=\"1624.0\">ADP</text></g><g name=\"2pg\"><circle cx=\"1094.0\" cy=\"2102.0\" r=\"20.0\"/><text x=\"1135.0\" y=\"2109.0\">2PG</text></g><g name=\"h2o\"><circle cx=\"1014.0\" cy=\"2305.0\" r=\"12.0\"/><text x=\"936.0\" y=\"2310.0\">H2O</text></g><g name=\"pep\"><circle cx=\"1094.0\" cy=\"2375.0\" r=\"20.0\"/><text x=\"1126.0\" y=\"2342.0\">PEP</text></g><g name=\"atp\"><circle cx=\"896.0\" cy=\"2659.0\" r=\"12.0\"/><text x=\"845.0\" y=\"2656.0\">ATP</text></g><g name=\"h2o\"><circle cx=\"905.0\" cy=\"2576.0\" r=\"12.0\"/><text x=\"850.0\" y=\"2581.0\">H2O</text></g><g name=\"pyr\"><circle cx=\"1094.0\" cy=\"2725.0\" r=\"20.0\"/><text x=\"1026.0\" y=\"2778.0\">pyr</text></g><g name=\"amp\"><circle cx=\"896.0\" cy=\"2449.0\" r=\"12.0\"/><text x=\"840.0\" y=\"2446.0\">AMP</text></g><g name=\"pi\"><circle cx=\"840.0\" cy=\"2494.0\" r=\"12.0\"/><text x=\"810.0\" y=\"2520.0\">Pi</text></g><g name=\"coa\"><circle cx=\"1128.0\" cy=\"2967.0\" r=\"12.0\"/><text x=\"1056.0\" y=\"2999.0\">CoA</text></g><g name=\"nad.ox\"><circle cx=\"1205.0\" cy=\"2842.0\" r=\"12.0\"/><text x=\"1171.0\" y=\"2810.0\">NAD+</text></g><g name=\"accoa\"><circle cx=\"1659.0\" cy=\"2922.0\" r=\"20.0\"/><text x=\"1593.0\" y=\"2880.0\">acCoA</text></g><g name=\"co2\"><circle cx=\"1433.0\" cy=\"2842.0\" r=\"12.0\"/><text x=\"1442.0\" y=\"2821.0\">CO2</text></g><g name=\"nad.red\"><circle cx=\"1354.0\" cy=\"2839.0\" r=\"12.0\"/><text x=\"1321.0\" y=\"2815.0\">NADH</text></g><g name=\"atp\"><circle cx=\"1288.0\" cy=\"2658.0\" r=\"12.0\"/><text x=\"1303.0\" y=\"2658.0\">ATP</text></g><g name=\"adp\"><circle cx=\"1282.0\" cy=\"2452.0\" r=\"12.0\"/><text x=\"1294.0\" y=\"2447.0\">ADP</text></g><g name=\"dhap\"><circle cx=\"744.0\" cy=\"1201.0\" r=\"20.0\"/><text x=\"722.0\" y=\"1241.0\">DHAP</text></g><g name=\"Fru.D.bis16\"><circle cx=\"744.0\" cy=\"851.0\" r=\"20.0\"/><text x=\"660.0\" y=\"879.0\">FDP</text></g><g name=\"atp\"><circle cx=\"928.0\" cy=\"582.0\" r=\"12.0\"/><text x=\"952.0\" y=\"582.0\">ATP</text></g><g name=\"Fru.D.6P\"><circle cx=\"744.0\" cy=\"501.0\" r=\"20.0\"/><text x=\"661.0\" y=\"494.0\">F6P</text></g><g name=\"adp\"><circle cx=\"944.0\" cy=\"771.0\" r=\"12.0\"/><text x=\"966.0\" y=\"790.0\">ADP</text></g><g name=\"Glc.D.6P\"><circle cx=\"744.0\" cy=\"150.0\" r=\"20.0\"/><text x=\"682.0\" y=\"114.0\">G6P</text></g><g name=\"6pg\"><circle cx=\"1444.0\" cy=\"150.0\" r=\"20.0\"/><text x=\"1427.0\" y=\"190.0\">6PG</text></g><g name=\"Rul.D.5P\"><circle cx=\"1858.0\" cy=\"428.0\" r=\"20.0\"/><text x=\"1883.0\" y=\"428.0\">Ru5P</text></g><g name=\"Rib.D.5P\"><circle cx=\"1545.0\" cy=\"332.0\" r=\"20.0\"/><text x=\"1530.0\" y=\"292.0\">R5P</text></g><g name=\"6pgdl\"><circle cx=\"1094.0\" cy=\"150.0\" r=\"20.0\"/><text x=\"1067.0\" y=\"190.0\">6PGDL</text></g><g name=\"h2o\"><circle cx=\"1164.0\" cy=\"70.0\" r=\"12.0\"/><text x=\"1147.0\" y=\"50.0\">H2O</text></g><g name=\"nadp.ox\"><circle cx=\"814.0\" cy=\"70.0\" r=\"12.0\"/><text x=\"770.0\" y=\"50.0\">NADP+</text></g><g name=\"nadp.red\"><circle cx=\"1024.0\" cy=\"70.0\" r=\"12.0\"/><text x=\"997.0\" y=\"50.0\">NADPH</text></g><g name=\"nadp.ox\"><circle cx=\"1753.0\" cy=\"143.0\" r=\"12.0\"/><text x=\"1787.0\" y=\"144.0\">NADP+</text></g><g name=\"co2\"><circle cx=\"1902.0\" cy=\"255.0\" r=\"12.0\"/><text x=\"1936.0\" y=\"252.0\">CO2</text></g><g name=\"nadp.red\"><circle cx=\"1932.0\" cy=\"312.0\" r=\"12.0\"/><text x=\"1947.0\" y=\"312.0\">NADPH</text></g><g name=\"Xul.D.5P\"><circle cx=\"1485.0\" cy=\"640.0\" r=\"20.0\"/><text x=\"1463.0\" y=\"692.0\">Xu5P</text></g><g name=\"h2o\"><circle cx=\"545.0\" cy=\"777.0\" r=\"12.0\"/><text x=\"518.0\" y=\"807.0\">H2O</text></g><g name=\"pi\"><circle cx=\"545.0\" cy=\"567.0\" r=\"12.0\"/><text x=\"527.0\" y=\"597.0\">Pi</text></g><g name=\"kdpg\"><circle cx=\"2153.0\" cy=\"570.0\" r=\"20.0\"/><text x=\"2062.0\" y=\"578.0\">KDPG</text></g><g name=\"h2o\"><circle cx=\"2233.0\" cy=\"500.0\" r=\"12.0\"/><text x=\"2248.0\" y=\"500.0\">H2O</text></g><g name=\"gap\"><circle cx=\"1096.0\" cy=\"1199.0\" r=\"20.0\"/><text x=\"1139.0\" y=\"1225.0\">GAP</text></g><g name=\"Glc.D.ext\"><circle cx=\"100.0\" cy=\"150.0\" r=\"20.0\"/><text x=\"64.0\" y=\"106.0\">Glc[e]</text></g><g name=\"pi\"><circle cx=\"1762.0\" cy=\"3013.0\" r=\"12.0\"/><text x=\"1729.0\" y=\"3045.0\">Pi</text></g><g name=\"ac.P\"><circle cx=\"2101.0\" cy=\"2922.0\" r=\"20.0\"/><text x=\"2082.0\" y=\"2973.0\">acP</text></g><g name=\"coa\"><circle cx=\"1990.0\" cy=\"3005.0\" r=\"12.0\"/><text x=\"1966.0\" y=\"3045.0\">CoA</text></g><g name=\"ac\"><circle cx=\"2568.0\" cy=\"2922.0\" r=\"20.0\"/><text x=\"2612.0\" y=\"2947.0\">ac</text></g><g name=\"atp\"><circle cx=\"2381.0\" cy=\"3005.0\" r=\"12.0\"/><text x=\"2370.0\" y=\"3045.0\">ATP</text></g><g name=\"adp\"><circle cx=\"2171.0\" cy=\"3005.0\" r=\"12.0\"/><text x=\"2155.0\" y=\"3045.0\">ADP</text></g><g name=\"atp\"><circle cx=\"2199.0\" cy=\"2699.0\" r=\"12.0\"/><text x=\"2208.0\" y=\"2683.0\">ATP</text></g><g name=\"coa\"><circle cx=\"2259.0\" cy=\"2715.0\" r=\"12.0\"/><text x=\"2274.0\" y=\"2715.0\">CoA</text></g><g name=\"amp\"><circle cx=\"2006.0\" cy=\"2701.0\" r=\"12.0\"/><text x=\"1966.0\" y=\"2685.0\">AMP</text></g><g name=\"ppi\"><circle cx=\"1923.0\" cy=\"2725.0\" r=\"12.0\"/><text x=\"1875.0\" y=\"2706.0\">PPi</text></g><g name=\"Sed.D.7P\"><circle cx=\"1202.0\" cy=\"287.0\" r=\"20.0\"/><text x=\"1171.0\" y=\"251.0\">Sed7P</text></g><g name=\"Ery.D.4P\"><circle cx=\"1202.0\" cy=\"488.0\" r=\"20.0\"/><text x=\"1184.0\" y=\"537.0\">E4P</text></g><g name=\"gap\"><circle cx=\"1202.0\" cy=\"372.0\" r=\"20.0\"/><text x=\"1181.0\" y=\"422.0\">GAP</text></g></g></g></svg>"
      ],
      "text/plain": [
       "<IPython.core.display.SVG object>"
      ]
     },
     "execution_count": 14,
     "metadata": {},
     "output_type": "execute_result"
    }
   ],
   "source": [
    "glycolysis_ppp_ov = build_pathway('glycolysis_ppp_ov', 'Glycolysis + PPP + Overflow')\n",
    "SVG(escher_map.EscherMap(glycolysis_ppp_ov.diagram, width=\"12cm\").draw())"
   ]
  },
  {
   "cell_type": "code",
   "execution_count": 15,
   "id": "ee399cd5-f2fd-4123-bc09-755efd007cb2",
   "metadata": {},
   "outputs": [
    {
     "data": {
      "image/svg+xml": [
       "<svg width=\"12cm\" height=\"None\" viewBox=\"-163.0 -136.0 2900.0 3300.0\"><defs><style type=\"text/css\">\n",
       "#canvas {\n",
       "  fill: #ffffff;\n",
       "  stroke: #cccccc;\n",
       "}\n",
       "text {\n",
       "  font-family: sans-serif;\n",
       "  font-style: italic;\n",
       "  font-weight: bold;\n",
       "  stroke: none;\n",
       "  text-rendering: optimizelegibility;\n",
       "}\n",
       "#reactions text {\n",
       "  font-size: 30px;\n",
       "  fill: #334e75;\n",
       "}\n",
       "#reactions text.stoich {\n",
       "  font-size: 12px;\n",
       "}\n",
       "#metabolites text {\n",
       "  font-size: 20px;\n",
       "  fill: black;\n",
       "}\n",
       "#reactions {\n",
       "  fill: none;\n",
       "  stroke: #334e75;\n",
       "  stroke-width: 10;\n",
       "}\n",
       "#reactions.data {\n",
       "  stroke: #eeeeee;  /* default overridden by reaction_scale */\n",
       "}\n",
       "#reactions .arrowhead {\n",
       "  fill: #334e75;\n",
       "  stroke: none;\n",
       "}\n",
       "#reactions.data .arrowhead {\n",
       "  fill: #eeeeee;  /* default overridden by reaction_scale */\n",
       "}\n",
       "#metabolites {\n",
       "  fill: #e0865b;\n",
       "  stroke: #a24510;\n",
       "  stroke-width: 2;\n",
       "}\n",
       "#metabolites.data {\n",
       "  fill: #eeeeee;  /* default overridden by metabolite_scale */\n",
       "  stroke: none;\n",
       "}\n",
       "</style></defs><g id=\"eschermap\"><rect id=\"canvas\" x=\"-163.0\" y=\"-136.0\" width=\"2900.0\" height=\"3300.0\"/><g id=\"reactions\"><g name=\"gapdh\"><path d=\"M 1094.0 1397.0 L 1094.0 1417.0\"/><path d=\"M 1094.0 1437.0 L 1094.0 1417.0\"/><g><path d=\"M 1094.0 1397.0 C 1094.0 1355.0 1091.0 1260.0 1092.7 1238.9\"/><g class=\"arrowhead\" transform=\"translate(1092.7, 1238.9) rotate(-85)\"><path d=\"M 0 -10 L 13 0 L 0 10 Z\" transform=\"translate(-3)\"/></g></g><g><path d=\"M 1094.0 1397.0 C 1094.0 1351.0 1075.0 1347.0 1042.0 1328.6\"/><g class=\"arrowhead\" transform=\"translate(1042.0, 1328.6) rotate(-151)\"><path d=\"M 0 -10 L 13 0 L 0 10 Z\" transform=\"translate(-3)\"/></g></g><g><path d=\"M 1094.0 1397.0 C 1094.0 1351.0 1116.0 1347.0 1149.0 1326.1\"/><g class=\"arrowhead\" transform=\"translate(1149.0, 1326.1) rotate(-32)\"><path d=\"M 0 -10 L 13 0 L 0 10 Z\" transform=\"translate(-3)\"/></g></g><g><path d=\"M 1094.0 1437.0 C 1094.0 1479.0 1094.0 1492.0 1094.0 1511.0\"/><g class=\"arrowhead\" transform=\"translate(1094.0, 1511.0) rotate(90)\"><path d=\"M 0 -10 L 13 0 L 0 10 Z\" transform=\"translate(-3)\"/></g></g><g><path d=\"M 1094.0 1437.0 C 1094.0 1483.0 1076.0 1489.0 1042.2 1507.0\"/><g class=\"arrowhead\" transform=\"translate(1042.2, 1507.0) rotate(152)\"><path d=\"M 0 -10 L 13 0 L 0 10 Z\" transform=\"translate(-3)\"/></g></g><text x=\"1109.0\" y=\"1427.0\">GAPDH</text></g><g name=\"pgk\"><path d=\"M 1094.0 1746.0 L 1094.0 1726.0\"/><path d=\"M 1094.0 1706.0 L 1094.0 1726.0\"/><g><path d=\"M 1094.0 1746.0 C 1094.0 1788.0 1094.0 1842.0 1094.0 1861.0\"/><g class=\"arrowhead\" transform=\"translate(1094.0, 1861.0) rotate(90)\"><path d=\"M 0 -10 L 13 0 L 0 10 Z\" transform=\"translate(-3)\"/></g></g><g><path d=\"M 1094.0 1746.0 C 1094.0 1792.0 1076.0 1797.0 1042.1 1815.6\"/><g class=\"arrowhead\" transform=\"translate(1042.1, 1815.6) rotate(151)\"><path d=\"M 0 -10 L 13 0 L 0 10 Z\" transform=\"translate(-3)\"/></g></g><g><path d=\"M 1094.0 1706.0 C 1094.0 1664.0 1094.0 1610.0 1094.0 1591.0\"/><g class=\"arrowhead\" transform=\"translate(1094.0, 1591.0) rotate(-90)\"><path d=\"M 0 -10 L 13 0 L 0 10 Z\" transform=\"translate(-3)\"/></g></g><g><path d=\"M 1094.0 1706.0 C 1094.0 1660.0 1076.0 1655.0 1042.1 1636.4\"/><g class=\"arrowhead\" transform=\"translate(1042.1, 1636.4) rotate(-151)\"><path d=\"M 0 -10 L 13 0 L 0 10 Z\" transform=\"translate(-3)\"/></g></g><text x=\"1109.0\" y=\"1736.0\">PGK</text></g><g name=\"gpm\"><path d=\"M 1094.0 2025.0 L 1094.0 2005.0\"/><path d=\"M 1094.0 1985.0 L 1094.0 2005.0\"/><g><path d=\"M 1094.0 2025.0 C 1094.0 2067.0 1094.0 2043.0 1094.0 2062.0\"/><g class=\"arrowhead\" transform=\"translate(1094.0, 2062.0) rotate(90)\"><path d=\"M 0 -10 L 13 0 L 0 10 Z\" transform=\"translate(-3)\"/></g></g><g><path d=\"M 1094.0 1985.0 C 1094.0 1943.0 1094.0 1960.0 1094.0 1941.0\"/><g class=\"arrowhead\" transform=\"translate(1094.0, 1941.0) rotate(-90)\"><path d=\"M 0 -10 L 13 0 L 0 10 Z\" transform=\"translate(-3)\"/></g></g><text x=\"1109.0\" y=\"2015.0\">GPM</text></g><g name=\"eno\"><path d=\"M 1094.0 2180.0 L 1094.0 2200.0\"/><path d=\"M 1094.0 2220.0 L 1094.0 2200.0\"/><g><path d=\"M 1094.0 2180.0 C 1094.0 2138.0 1094.0 2161.0 1094.0 2142.0\"/><g class=\"arrowhead\" transform=\"translate(1094.0, 2142.0) rotate(-90)\"><path d=\"M 0 -10 L 13 0 L 0 10 Z\" transform=\"translate(-3)\"/></g></g><g><path d=\"M 1094.0 2220.0 C 1094.0 2266.0 1076.0 2271.0 1042.1 2289.6\"/><g class=\"arrowhead\" transform=\"translate(1042.1, 2289.6) rotate(151)\"><path d=\"M 0 -10 L 13 0 L 0 10 Z\" transform=\"translate(-3)\"/></g></g><g><path d=\"M 1094.0 2220.0 C 1094.0 2262.0 1094.0 2316.0 1094.0 2335.0\"/><g class=\"arrowhead\" transform=\"translate(1094.0, 2335.0) rotate(90)\"><path d=\"M 0 -10 L 13 0 L 0 10 Z\" transform=\"translate(-3)\"/></g></g><text x=\"1109.0\" y=\"2245.0\">ENO</text></g><g name=\"pdh\"><path d=\"M 1279.0 2922.0 L 1299.0 2922.0\"/><path d=\"M 1319.0 2922.0 L 1299.0 2922.0\"/><path d=\"M 1279.0 2922.0 C 1233.0 2922.0 1197.0 2941.0 1148.6 2959.2\"/><path d=\"M 1279.0 2922.0 C 1233.0 2922.0 1228.0 2891.0 1214.3 2861.9\"/><path d=\"M 1279.0 2922.0 C 1237.0 2922.0 1098.0 2924.0 1094.6 2755.0\"/><g><path d=\"M 1319.0 2922.0 C 1396.0 2922.0 1549.0 2922.0 1619.0 2922.0\"/><g class=\"arrowhead\" transform=\"translate(1619.0, 2922.0) rotate(0)\"><path d=\"M 0 -10 L 13 0 L 0 10 Z\" transform=\"translate(-3)\"/></g></g><g><path d=\"M 1319.0 2922.0 C 1371.0 2922.0 1404.0 2886.0 1415.4 2868.7\"/><g class=\"arrowhead\" transform=\"translate(1415.4, 2868.7) rotate(-57)\"><path d=\"M 0 -10 L 13 0 L 0 10 Z\" transform=\"translate(-3)\"/></g></g><g><path d=\"M 1319.0 2922.0 C 1339.0 2922.0 1356.0 2891.0 1355.2 2871.0\"/><g class=\"arrowhead\" transform=\"translate(1355.2, 2871.0) rotate(-92)\"><path d=\"M 0 -10 L 13 0 L 0 10 Z\" transform=\"translate(-3)\"/></g></g><text x=\"1270.0\" y=\"2985.0\">PDH</text></g><g name=\"pyk\"><path d=\"M 1093.0 2572.0 L 1093.0 2552.0\"/><path d=\"M 1093.0 2532.0 L 1093.0 2552.0\"/><g><path d=\"M 1093.0 2572.0 C 1093.0 2617.0 1110.0 2622.0 1145.0 2641.5\"/><g class=\"arrowhead\" transform=\"translate(1145.0, 2641.5) rotate(29)\"><path d=\"M 0 -10 L 13 0 L 0 10 Z\" transform=\"translate(-3)\"/></g></g><g><path d=\"M 1093.0 2572.0 C 1093.0 2628.0 1093.0 2645.0 1093.5 2685.0\"/><g class=\"arrowhead\" transform=\"translate(1093.5, 2685.0) rotate(89)\"><path d=\"M 0 -10 L 13 0 L 0 10 Z\" transform=\"translate(-3)\"/></g></g><g><path d=\"M 1093.0 2532.0 C 1093.0 2485.0 1110.0 2488.0 1140.2 2468.4\"/><g class=\"arrowhead\" transform=\"translate(1140.2, 2468.4) rotate(-33)\"><path d=\"M 0 -10 L 13 0 L 0 10 Z\" transform=\"translate(-3)\"/></g></g><g><path d=\"M 1093.0 2532.0 C 1093.0 2475.0 1093.0 2467.0 1093.6 2415.0\"/><g class=\"arrowhead\" transform=\"translate(1093.6, 2415.0) rotate(-89)\"><path d=\"M 0 -10 L 13 0 L 0 10 Z\" transform=\"translate(-3)\"/></g></g><text x=\"1115.0\" y=\"2560.0\">PYK</text></g><g name=\"tpi\"><path d=\"M 939.0 1201.0 L 919.0 1201.0\"/><path d=\"M 899.0 1201.0 L 919.0 1201.0\"/><g><path d=\"M 939.0 1201.0 C 981.0 1201.0 1032.0 1201.0 1056.0 1200.2\"/><g class=\"arrowhead\" transform=\"translate(1056.0, 1200.2) rotate(-2)\"><path d=\"M 0 -10 L 13 0 L 0 10 Z\" transform=\"translate(-3)\"/></g></g><g><path d=\"M 899.0 1201.0 C 857.0 1201.0 802.0 1201.0 784.0 1201.0\"/><g class=\"arrowhead\" transform=\"translate(784.0, 1201.0) rotate(180)\"><path d=\"M 0 -10 L 13 0 L 0 10 Z\" transform=\"translate(-3)\"/></g></g><text x=\"892.0\" y=\"1241.0\">TPI</text></g><g name=\"fba\"><path d=\"M 744.0 1006.0 L 744.0 1026.0\"/><path d=\"M 744.0 1046.0 L 744.0 1026.0\"/><g><path d=\"M 744.0 1006.0 C 744.0 964.0 744.0 910.0 744.0 891.0\"/><g class=\"arrowhead\" transform=\"translate(744.0, 891.0) rotate(-90)\"><path d=\"M 0 -10 L 13 0 L 0 10 Z\" transform=\"translate(-3)\"/></g></g><g><path d=\"M 744.0 1046.0 C 744.0 1092.0 902.0 1062.0 1063.3 1175.9\"/><g class=\"arrowhead\" transform=\"translate(1063.3, 1175.9) rotate(35)\"><path d=\"M 0 -10 L 13 0 L 0 10 Z\" transform=\"translate(-3)\"/></g></g><g><path d=\"M 744.0 1046.0 C 744.0 1088.0 744.0 1142.0 744.0 1161.0\"/><g class=\"arrowhead\" transform=\"translate(744.0, 1161.0) rotate(90)\"><path d=\"M 0 -10 L 13 0 L 0 10 Z\" transform=\"translate(-3)\"/></g></g><text x=\"661.0\" y=\"1036.0\">FBA</text></g><g name=\"pfk\"><path d=\"M 744.0 655.0 L 744.0 675.0\"/><path d=\"M 744.0 695.0 L 744.0 675.0\"/><path d=\"M 744.0 655.0 C 744.0 609.0 786.0 598.0 793.6 596.2\"/><path d=\"M 744.0 655.0 C 744.0 613.0 744.0 583.0 744.0 531.0\"/><g><path d=\"M 744.0 695.0 C 744.0 741.0 765.0 761.0 785.1 768.6\"/><g class=\"arrowhead\" transform=\"translate(785.1, 768.6) rotate(21)\"><path d=\"M 0 -10 L 13 0 L 0 10 Z\" transform=\"translate(-3)\"/></g></g><g><path d=\"M 744.0 695.0 C 744.0 737.0 744.0 773.0 744.0 811.0\"/><g class=\"arrowhead\" transform=\"translate(744.0, 811.0) rotate(90)\"><path d=\"M 0 -10 L 13 0 L 0 10 Z\" transform=\"translate(-3)\"/></g></g><text x=\"663.0\" y=\"690.0\">PFK</text></g><g name=\"pgi\"><path d=\"M 744.0 306.0 L 744.0 326.0\"/><path d=\"M 744.0 346.0 L 744.0 326.0\"/><g><path d=\"M 744.0 306.0 C 744.0 264.0 744.0 209.0 744.0 190.0\"/><g class=\"arrowhead\" transform=\"translate(744.0, 190.0) rotate(-90)\"><path d=\"M 0 -10 L 13 0 L 0 10 Z\" transform=\"translate(-3)\"/></g></g><g><path d=\"M 744.0 346.0 C 744.0 388.0 744.0 442.0 744.0 461.0\"/><g class=\"arrowhead\" transform=\"translate(744.0, 461.0) rotate(90)\"><path d=\"M 0 -10 L 13 0 L 0 10 Z\" transform=\"translate(-3)\"/></g></g><text x=\"653.0\" y=\"339.0\">PGI</text></g><g name=\"r5pi\"><path d=\"M 1646.0 332.0 L 1666.0 332.0\"/><path d=\"M 1686.0 332.0 L 1666.0 332.0\"/><g><path d=\"M 1646.0 332.0 C 1625.0 332.0 1628.0 332.0 1585.0 332.0\"/><g class=\"arrowhead\" transform=\"translate(1585.0, 332.0) rotate(180)\"><path d=\"M 0 -10 L 13 0 L 0 10 Z\" transform=\"translate(-3)\"/></g></g><g><path d=\"M 1686.0 332.0 C 1763.0 337.0 1795.0 367.0 1829.3 400.2\"/><g class=\"arrowhead\" transform=\"translate(1829.3, 400.2) rotate(44)\"><path d=\"M 0 -10 L 13 0 L 0 10 Z\" transform=\"translate(-3)\"/></g></g><text x=\"1643.0\" y=\"382.0\">RPI</text></g><g name=\"pglase\"><path d=\"M 1249.0 150.0 L 1269.0 150.0\"/><path d=\"M 1289.0 150.0 L 1269.0 150.0\"/><g><path d=\"M 1249.0 150.0 C 1207.0 150.0 1152.0 150.0 1134.0 150.0\"/><g class=\"arrowhead\" transform=\"translate(1134.0, 150.0) rotate(180)\"><path d=\"M 0 -10 L 13 0 L 0 10 Z\" transform=\"translate(-3)\"/></g></g><g><path d=\"M 1249.0 150.0 C 1203.0 150.0 1197.0 132.0 1179.0 98.2\"/><g class=\"arrowhead\" transform=\"translate(1179.0, 98.2) rotate(-118)\"><path d=\"M 0 -10 L 13 0 L 0 10 Z\" transform=\"translate(-3)\"/></g></g><g><path d=\"M 1289.0 150.0 C 1331.0 150.0 1385.0 150.0 1404.0 150.0\"/><g class=\"arrowhead\" transform=\"translate(1404.0, 150.0) rotate(0)\"><path d=\"M 0 -10 L 13 0 L 0 10 Z\" transform=\"translate(-3)\"/></g></g><text x=\"1219.0\" y=\"110.0\">PGLase</text></g><g name=\"g6pdh\"><path d=\"M 899.0 150.0 L 919.0 150.0\"/><path d=\"M 939.0 150.0 L 919.0 150.0\"/><g><path d=\"M 899.0 150.0 C 857.0 150.0 804.0 150.0 784.0 150.0\"/><g class=\"arrowhead\" transform=\"translate(784.0, 150.0) rotate(180)\"><path d=\"M 0 -10 L 13 0 L 0 10 Z\" transform=\"translate(-3)\"/></g></g><g><path d=\"M 899.0 150.0 C 853.0 150.0 847.0 132.0 829.0 98.2\"/><g class=\"arrowhead\" transform=\"translate(829.0, 98.2) rotate(-118)\"><path d=\"M 0 -10 L 13 0 L 0 10 Z\" transform=\"translate(-3)\"/></g></g><g><path d=\"M 939.0 150.0 C 981.0 150.0 1035.0 150.0 1054.0 150.0\"/><g class=\"arrowhead\" transform=\"translate(1054.0, 150.0) rotate(0)\"><path d=\"M 0 -10 L 13 0 L 0 10 Z\" transform=\"translate(-3)\"/></g></g><g><path d=\"M 939.0 150.0 C 985.0 150.0 990.0 132.0 1008.6 98.1\"/><g class=\"arrowhead\" transform=\"translate(1008.6, 98.1) rotate(-61)\"><path d=\"M 0 -10 L 13 0 L 0 10 Z\" transform=\"translate(-3)\"/></g></g><text x=\"869.0\" y=\"110.0\">G6PDH</text></g><g name=\"pgldh\"><path d=\"M 1764.0 234.0 L 1778.0 248.0\"/><path d=\"M 1792.0 262.0 L 1778.0 248.0\"/><g><path d=\"M 1764.0 234.0 C 1735.0 203.0 1648.0 155.0 1484.0 151.0\"/><g class=\"arrowhead\" transform=\"translate(1484.0, 151.0) rotate(-179)\"><path d=\"M 0 -10 L 13 0 L 0 10 Z\" transform=\"translate(-3)\"/></g></g><g><path d=\"M 1764.0 234.0 C 1756.0 220.0 1748.0 199.0 1750.2 174.9\"/><g class=\"arrowhead\" transform=\"translate(1750.2, 174.9) rotate(-85)\"><path d=\"M 0 -10 L 13 0 L 0 10 Z\" transform=\"translate(-3)\"/></g></g><g><path d=\"M 1792.0 262.0 C 1824.0 295.0 1868.0 285.0 1878.0 276.2\"/><g class=\"arrowhead\" transform=\"translate(1878.0, 276.2) rotate(-41)\"><path d=\"M 0 -10 L 13 0 L 0 10 Z\" transform=\"translate(-3)\"/></g></g><g><path d=\"M 1792.0 262.0 C 1821.0 293.0 1858.0 369.0 1858.0 388.0\"/><g class=\"arrowhead\" transform=\"translate(1858.0, 388.0) rotate(90)\"><path d=\"M 0 -10 L 13 0 L 0 10 Z\" transform=\"translate(-3)\"/></g></g><g><path d=\"M 1792.0 262.0 C 1824.0 295.0 1854.0 307.0 1900.1 310.0\"/><g class=\"arrowhead\" transform=\"translate(1900.1, 310.0) rotate(4)\"><path d=\"M 0 -10 L 13 0 L 0 10 Z\" transform=\"translate(-3)\"/></g></g><text x=\"1651.0\" y=\"266.0\">PGLDH</text></g><g name=\"rpe\"><path d=\"M 1665.0 640.0 L 1645.0 640.0\"/><path d=\"M 1625.0 640.0 L 1645.0 640.0\"/><g><path d=\"M 1665.0 640.0 C 1833.0 644.0 1862.0 523.0 1859.7 468.0\"/><g class=\"arrowhead\" transform=\"translate(1859.7, 468.0) rotate(-92)\"><path d=\"M 0 -10 L 13 0 L 0 10 Z\" transform=\"translate(-3)\"/></g></g><g><path d=\"M 1625.0 640.0 C 1583.0 640.0 1544.0 640.0 1525.0 640.0\"/><g class=\"arrowhead\" transform=\"translate(1525.0, 640.0) rotate(180)\"><path d=\"M 0 -10 L 13 0 L 0 10 Z\" transform=\"translate(-3)\"/></g></g><text x=\"1644.0\" y=\"686.0\">RPE</text></g><g name=\"pts.glc\"><path d=\"M 276.0 150.0 L 296.0 150.0\"/><path d=\"M 316.0 150.0 L 296.0 150.0\"/><path d=\"M 276.0 150.0 C 188.0 150.0 231.0 150.0 130.0 150.0\"/><path d=\"M 276.0 150.0 C 152.0 151.0 129.0 2367.0 1064.0 2374.8\"/><g><path d=\"M 316.0 150.0 C 382.0 150.0 627.0 150.0 704.0 150.0\"/><g class=\"arrowhead\" transform=\"translate(704.0, 150.0) rotate(0)\"><path d=\"M 0 -10 L 13 0 L 0 10 Z\" transform=\"translate(-3)\"/></g></g><g><path d=\"M 316.0 150.0 C 418.0 150.0 3.0 2719.0 1054.0 2724.8\"/><g class=\"arrowhead\" transform=\"translate(1054.0, 2724.8) rotate(0)\"><path d=\"M 0 -10 L 13 0 L 0 10 Z\" transform=\"translate(-3)\"/></g></g><text x=\"285.0\" y=\"112.0\">GlcPTS</text></g><g name=\"pta\"><path d=\"M 1876.0 2922.0 L 1856.0 2922.0\"/><path d=\"M 1896.0 2922.0 L 1876.0 2922.0\"/><g><path d=\"M 1856.0 2922.0 C 1789.0 2922.0 1750.0 2922.0 1699.0 2922.0\"/><g class=\"arrowhead\" transform=\"translate(1699.0, 2922.0) rotate(180)\"><path d=\"M 0 -10 L 13 0 L 0 10 Z\" transform=\"translate(-3)\"/></g></g><g><path d=\"M 1856.0 2922.0 C 1803.0 2922.0 1784.0 2965.0 1774.8 2984.1\"/><g class=\"arrowhead\" transform=\"translate(1774.8, 2984.1) rotate(116)\"><path d=\"M 0 -10 L 13 0 L 0 10 Z\" transform=\"translate(-3)\"/></g></g><g><path d=\"M 1896.0 2922.0 C 1938.0 2922.0 1996.0 2922.0 2061.0 2922.0\"/><g class=\"arrowhead\" transform=\"translate(2061.0, 2922.0) rotate(0)\"><path d=\"M 0 -10 L 13 0 L 0 10 Z\" transform=\"translate(-3)\"/></g></g><g><path d=\"M 1896.0 2922.0 C 1942.0 2922.0 1956.0 2956.0 1971.8 2978.7\"/><g class=\"arrowhead\" transform=\"translate(1971.8, 2978.7) rotate(55)\"><path d=\"M 0 -10 L 13 0 L 0 10 Z\" transform=\"translate(-3)\"/></g></g><text x=\"1850.0\" y=\"3000.0\">PTA</text></g><g name=\"ack\"><path d=\"M 2276.0 2922.0 L 2296.0 2922.0\"/><path d=\"M 2256.0 2922.0 L 2276.0 2922.0\"/><g><path d=\"M 2296.0 2922.0 C 2392.0 2922.0 2455.0 2922.0 2526.0 2922.0\"/><g class=\"arrowhead\" transform=\"translate(2526.0, 2922.0) rotate(0)\"><path d=\"M 0 -10 L 13 0 L 0 10 Z\" transform=\"translate(-3)\"/></g></g><g><path d=\"M 2296.0 2922.0 C 2326.0 2928.0 2346.0 2950.0 2363.6 2977.1\"/><g class=\"arrowhead\" transform=\"translate(2363.6, 2977.1) rotate(57)\"><path d=\"M 0 -10 L 13 0 L 0 10 Z\" transform=\"translate(-3)\"/></g></g><g><path d=\"M 2256.0 2922.0 C 2214.0 2922.0 2160.0 2922.0 2141.0 2922.0\"/><g class=\"arrowhead\" transform=\"translate(2141.0, 2922.0) rotate(180)\"><path d=\"M 0 -10 L 13 0 L 0 10 Z\" transform=\"translate(-3)\"/></g></g><g><path d=\"M 2256.0 2922.0 C 2210.0 2922.0 2189.0 2957.0 2182.4 2974.1\"/><g class=\"arrowhead\" transform=\"translate(2182.4, 2974.1) rotate(111)\"><path d=\"M 0 -10 L 13 0 L 0 10 Z\" transform=\"translate(-3)\"/></g></g><text x=\"2238.0\" y=\"2997.0\">ACK</text></g><g name=\"tkt.c5c5\"><path d=\"M 1370.0 332.0 L 1350.0 332.0\"/><path d=\"M 1390.0 332.0 L 1370.0 332.0\"/><g><path d=\"M 1350.0 332.0 C 1306.0 334.0 1260.0 346.0 1238.5 355.6\"/><g class=\"arrowhead\" transform=\"translate(1238.5, 355.6) rotate(156)\"><path d=\"M 0 -10 L 13 0 L 0 10 Z\" transform=\"translate(-3)\"/></g></g><g><path d=\"M 1350.0 332.0 C 1295.0 334.0 1260.0 309.0 1239.4 301.2\"/><g class=\"arrowhead\" transform=\"translate(1239.4, 301.2) rotate(-159)\"><path d=\"M 0 -10 L 13 0 L 0 10 Z\" transform=\"translate(-3)\"/></g></g><g><path d=\"M 1390.0 332.0 C 1432.0 332.0 1486.0 332.0 1505.0 332.0\"/><g class=\"arrowhead\" transform=\"translate(1505.0, 332.0) rotate(0)\"><path d=\"M 0 -10 L 13 0 L 0 10 Z\" transform=\"translate(-3)\"/></g></g><g><path d=\"M 1390.0 332.0 C 1518.0 331.0 1638.0 475.0 1512.2 610.7\"/><g class=\"arrowhead\" transform=\"translate(1512.2, 610.7) rotate(133)\"><path d=\"M 0 -10 L 13 0 L 0 10 Z\" transform=\"translate(-3)\"/></g></g><text x=\"1320.0\" y=\"292.0\">TKT1</text></g><g name=\"tal\"><path d=\"M 1020.0 332.0 L 1040.0 332.0\"/><path d=\"M 1000.0 332.0 L 1020.0 332.0\"/><g><path d=\"M 1040.0 332.0 C 1094.0 333.0 1143.0 344.0 1165.9 354.9\"/><g class=\"arrowhead\" transform=\"translate(1165.9, 354.9) rotate(25)\"><path d=\"M 0 -10 L 13 0 L 0 10 Z\" transform=\"translate(-3)\"/></g></g><g><path d=\"M 1040.0 332.0 C 1096.0 327.0 1147.0 309.0 1164.9 301.9\"/><g class=\"arrowhead\" transform=\"translate(1164.9, 301.9) rotate(-22)\"><path d=\"M 0 -10 L 13 0 L 0 10 Z\" transform=\"translate(-3)\"/></g></g><g><path d=\"M 1000.0 332.0 C 892.0 332.0 805.0 432.0 770.5 471.0\"/><g class=\"arrowhead\" transform=\"translate(770.5, 471.0) rotate(131)\"><path d=\"M 0 -10 L 13 0 L 0 10 Z\" transform=\"translate(-3)\"/></g></g><g><path d=\"M 1000.0 332.0 C 899.0 381.0 998.0 489.0 1162.0 488.2\"/><g class=\"arrowhead\" transform=\"translate(1162.0, 488.2) rotate(-0)\"><path d=\"M 0 -10 L 13 0 L 0 10 Z\" transform=\"translate(-3)\"/></g></g><text x=\"970.0\" y=\"292.0\">TALA</text></g><g name=\"tkt.c5c4\"><path d=\"M 1266.0 640.0 L 1286.0 640.0\"/><path d=\"M 1246.0 640.0 L 1266.0 640.0\"/><g><path d=\"M 1286.0 640.0 C 1370.0 640.0 1370.0 482.0 1242.0 486.6\"/><g class=\"arrowhead\" transform=\"translate(1242.0, 486.6) rotate(178)\"><path d=\"M 0 -10 L 13 0 L 0 10 Z\" transform=\"translate(-3)\"/></g></g><g><path d=\"M 1286.0 640.0 C 1335.0 640.0 1409.0 640.0 1445.0 640.0\"/><g class=\"arrowhead\" transform=\"translate(1445.0, 640.0) rotate(0)\"><path d=\"M 0 -10 L 13 0 L 0 10 Z\" transform=\"translate(-3)\"/></g></g><g><path d=\"M 1246.0 640.0 C 1204.0 640.0 967.0 497.0 784.0 500.3\"/><g class=\"arrowhead\" transform=\"translate(784.0, 500.3) rotate(179)\"><path d=\"M 0 -10 L 13 0 L 0 10 Z\" transform=\"translate(-3)\"/></g></g><g><path d=\"M 1246.0 640.0 C 1061.0 644.0 1096.0 1083.0 1096.0 1159.0\"/><g class=\"arrowhead\" transform=\"translate(1096.0, 1159.0) rotate(90)\"><path d=\"M 0 -10 L 13 0 L 0 10 Z\" transform=\"translate(-3)\"/></g></g><text x=\"1229.0\" y=\"701.0\">TKT2</text></g></g><g id=\"metabolites\"><g name=\"nad.ox\"><circle cx=\"1014.0\" cy=\"1313.0\" r=\"12.0\"/><text x=\"930.0\" y=\"1312.0\">NAD+</text></g><g name=\"pi\"><circle cx=\"1176.0\" cy=\"1309.0\" r=\"12.0\"/><text x=\"1215.0\" y=\"1318.0\">Pi</text></g><g name=\"dpg\"><circle cx=\"1094.0\" cy=\"1551.0\" r=\"20.0\"/><text x=\"1135.0\" y=\"1564.0\">DPG</text></g><g name=\"nad.red\"><circle cx=\"1014.0\" cy=\"1522.0\" r=\"12.0\"/><text x=\"925.0\" y=\"1526.0\">NADH</text></g><g name=\"3pg\"><circle cx=\"1094.0\" cy=\"1901.0\" r=\"20.0\"/><text x=\"1131.0\" y=\"1906.0\">3PG</text></g><g name=\"atp\"><circle cx=\"1014.0\" cy=\"1831.0\" r=\"12.0\"/><text x=\"945.0\" y=\"1840.0\">ATP</text></g><g name=\"adp\"><circle cx=\"1014.0\" cy=\"1621.0\" r=\"12.0\"/><text x=\"947.0\" y=\"1624.0\">ADP</text></g><g name=\"2pg\"><circle cx=\"1094.0\" cy=\"2102.0\" r=\"20.0\"/><text x=\"1135.0\" y=\"2109.0\">2PG</text></g><g name=\"h2o\"><circle cx=\"1014.0\" cy=\"2305.0\" r=\"12.0\"/><text x=\"936.0\" y=\"2310.0\">H2O</text></g><g name=\"pep\"><circle cx=\"1094.0\" cy=\"2375.0\" r=\"20.0\"/><text x=\"1126.0\" y=\"2342.0\">PEP</text></g><g name=\"pyr\"><circle cx=\"1094.0\" cy=\"2725.0\" r=\"20.0\"/><text x=\"1026.0\" y=\"2778.0\">pyr</text></g><g name=\"coa\"><circle cx=\"1128.0\" cy=\"2967.0\" r=\"12.0\"/><text x=\"1056.0\" y=\"2999.0\">CoA</text></g><g name=\"nad.ox\"><circle cx=\"1205.0\" cy=\"2842.0\" r=\"12.0\"/><text x=\"1171.0\" y=\"2810.0\">NAD+</text></g><g name=\"accoa\"><circle cx=\"1659.0\" cy=\"2922.0\" r=\"20.0\"/><text x=\"1593.0\" y=\"2880.0\">acCoA</text></g><g name=\"co2\"><circle cx=\"1433.0\" cy=\"2842.0\" r=\"12.0\"/><text x=\"1442.0\" y=\"2821.0\">CO2</text></g><g name=\"nad.red\"><circle cx=\"1354.0\" cy=\"2839.0\" r=\"12.0\"/><text x=\"1321.0\" y=\"2815.0\">NADH</text></g><g name=\"atp\"><circle cx=\"1173.0\" cy=\"2657.0\" r=\"12.0\"/><text x=\"1187.0\" y=\"2657.0\">ATP</text></g><g name=\"adp\"><circle cx=\"1167.0\" cy=\"2451.0\" r=\"12.0\"/><text x=\"1177.0\" y=\"2446.0\">ADP</text></g><g name=\"dhap\"><circle cx=\"744.0\" cy=\"1201.0\" r=\"20.0\"/><text x=\"722.0\" y=\"1241.0\">DHAP</text></g><g name=\"Fru.D.bis16\"><circle cx=\"744.0\" cy=\"851.0\" r=\"20.0\"/><text x=\"660.0\" y=\"879.0\">FDP</text></g><g name=\"atp\"><circle cx=\"815.0\" cy=\"591.0\" r=\"12.0\"/><text x=\"839.0\" y=\"591.0\">ATP</text></g><g name=\"Fru.D.6P\"><circle cx=\"744.0\" cy=\"501.0\" r=\"20.0\"/><text x=\"661.0\" y=\"494.0\">F6P</text></g><g name=\"adp\"><circle cx=\"815.0\" cy=\"780.0\" r=\"12.0\"/><text x=\"837.0\" y=\"799.0\">ADP</text></g><g name=\"Glc.D.6P\"><circle cx=\"744.0\" cy=\"150.0\" r=\"20.0\"/><text x=\"682.0\" y=\"114.0\">G6P</text></g><g name=\"6pg\"><circle cx=\"1444.0\" cy=\"150.0\" r=\"20.0\"/><text x=\"1427.0\" y=\"190.0\">6PG</text></g><g name=\"Rul.D.5P\"><circle cx=\"1858.0\" cy=\"428.0\" r=\"20.0\"/><text x=\"1883.0\" y=\"428.0\">Ru5P</text></g><g name=\"Rib.D.5P\"><circle cx=\"1545.0\" cy=\"332.0\" r=\"20.0\"/><text x=\"1530.0\" y=\"292.0\">R5P</text></g><g name=\"6pgdl\"><circle cx=\"1094.0\" cy=\"150.0\" r=\"20.0\"/><text x=\"1067.0\" y=\"190.0\">6PGDL</text></g><g name=\"h2o\"><circle cx=\"1164.0\" cy=\"70.0\" r=\"12.0\"/><text x=\"1147.0\" y=\"50.0\">H2O</text></g><g name=\"nadp.ox\"><circle cx=\"814.0\" cy=\"70.0\" r=\"12.0\"/><text x=\"770.0\" y=\"50.0\">NADP+</text></g><g name=\"nadp.red\"><circle cx=\"1024.0\" cy=\"70.0\" r=\"12.0\"/><text x=\"997.0\" y=\"50.0\">NADPH</text></g><g name=\"nadp.ox\"><circle cx=\"1753.0\" cy=\"143.0\" r=\"12.0\"/><text x=\"1787.0\" y=\"144.0\">NADP+</text></g><g name=\"co2\"><circle cx=\"1902.0\" cy=\"255.0\" r=\"12.0\"/><text x=\"1936.0\" y=\"252.0\">CO2</text></g><g name=\"nadp.red\"><circle cx=\"1932.0\" cy=\"312.0\" r=\"12.0\"/><text x=\"1947.0\" y=\"312.0\">NADPH</text></g><g name=\"Xul.D.5P\"><circle cx=\"1485.0\" cy=\"640.0\" r=\"20.0\"/><text x=\"1463.0\" y=\"692.0\">Xu5P</text></g><g name=\"gap\"><circle cx=\"1096.0\" cy=\"1199.0\" r=\"20.0\"/><text x=\"1139.0\" y=\"1225.0\">GAP</text></g><g name=\"Glc.D.ext\"><circle cx=\"100.0\" cy=\"150.0\" r=\"20.0\"/><text x=\"64.0\" y=\"106.0\">Glc[e]</text></g><g name=\"pi\"><circle cx=\"1761.0\" cy=\"3013.0\" r=\"12.0\"/><text x=\"1729.0\" y=\"3045.0\">Pi</text></g><g name=\"ac.P\"><circle cx=\"2101.0\" cy=\"2922.0\" r=\"20.0\"/><text x=\"2082.0\" y=\"2973.0\">acP</text></g><g name=\"coa\"><circle cx=\"1990.0\" cy=\"3005.0\" r=\"12.0\"/><text x=\"1966.0\" y=\"3045.0\">CoA</text></g><g name=\"ac\"><circle cx=\"2566.0\" cy=\"2922.0\" r=\"20.0\"/><text x=\"2611.0\" y=\"2948.0\">ac</text></g><g name=\"atp\"><circle cx=\"2381.0\" cy=\"3004.0\" r=\"12.0\"/><text x=\"2371.0\" y=\"3044.0\">ATP</text></g><g name=\"adp\"><circle cx=\"2171.0\" cy=\"3004.0\" r=\"12.0\"/><text x=\"2155.0\" y=\"3044.0\">ADP</text></g><g name=\"Sed.D.7P\"><circle cx=\"1202.0\" cy=\"287.0\" r=\"20.0\"/><text x=\"1171.0\" y=\"251.0\">Sed7P</text></g><g name=\"Ery.D.4P\"><circle cx=\"1202.0\" cy=\"488.0\" r=\"20.0\"/><text x=\"1184.0\" y=\"537.0\">E4P</text></g><g name=\"gap\"><circle cx=\"1202.0\" cy=\"372.0\" r=\"20.0\"/><text x=\"1181.0\" y=\"422.0\">GAP</text></g></g></g></svg>"
      ],
      "text/plain": [
       "<IPython.core.display.SVG object>"
      ]
     },
     "execution_count": 15,
     "metadata": {},
     "output_type": "execute_result"
    }
   ],
   "source": [
    "glycolysis_ppp_ov_simplified = build_pathway('glycolysis_ppp_ov_simplified', 'Glycolysis + PPP + Overflow (simplified)')\n",
    "SVG(escher_map.EscherMap(glycolysis_ppp_ov_simplified.diagram, width=\"12cm\").draw())"
   ]
  },
  {
   "cell_type": "markdown",
   "id": "54700096-48c9-4fbf-aa98-9e7d4f001f35",
   "metadata": {},
   "source": [
    "## Save the pathways"
   ]
  },
  {
   "cell_type": "code",
   "execution_count": 16,
   "id": "3c3d2c81-ab81-4196-9a3b-946946eac5c0",
   "metadata": {},
   "outputs": [],
   "source": [
    "KB.put(KB.pathways, glycolysis)\n",
    "KB.put(KB.pathways, glycolysis_ppp_ov)\n",
    "KB.put(KB.pathways, glycolysis_ppp_ov_simplified)"
   ]
  }
 ],
 "metadata": {
  "kernelspec": {
   "display_name": "Python 3 (ipykernel)",
   "language": "python",
   "name": "python3"
  },
  "language_info": {
   "codemirror_mode": {
    "name": "ipython",
    "version": 3
   },
   "file_extension": ".py",
   "mimetype": "text/x-python",
   "name": "python",
   "nbconvert_exporter": "python",
   "pygments_lexer": "ipython3",
   "version": "3.11.2"
  }
 },
 "nbformat": 4,
 "nbformat_minor": 5
}
