{
 "cells": [
  {
   "cell_type": "markdown",
   "id": "e52c55cf-aae1-4af8-8514-4188cdb972cf",
   "metadata": {},
   "source": [
    "# FBA-GD, LP, Biomass, Thermo"
   ]
  },
  {
   "cell_type": "code",
   "execution_count": 1,
   "id": "1f9b353e-6fae-4aae-8bf1-a7c968a0a8fb",
   "metadata": {
    "tags": []
   },
   "outputs": [],
   "source": [
    "import ipywidgets as widgets\n",
    "import jax\n",
    "import jax.numpy as jnp\n",
    "import matplotlib.pyplot as plt\n",
    "import numpy as np\n",
    "import pandas as pd\n",
    "import scipy\n",
    "import time\n",
    "from IPython.display import SVG, display\n",
    "\n",
    "from mosmo.calc import fba_gd, elementary_modes, convenience_kinetics\n",
    "from mosmo.knowledge import kb\n",
    "from mosmo.model import DS, DbXref, KbEntry, Molecule, Reaction, Pathway\n",
    "from mosmo.preso.escher import escher_map\n",
    "\n",
    "jax.config.update('jax_enable_x64', True)\n",
    "prng = jax.random.PRNGKey(int(time.time() * 1000))\n",
    "%matplotlib widget\n",
    "plt.ioff()\n",
    "\n",
    "KB = kb.configure_kb()"
   ]
  },
  {
   "cell_type": "markdown",
   "id": "dc771629-668f-4c81-b11c-18e0568d322e",
   "metadata": {},
   "source": [
    "## The Pathway: Glycolysis + Pentose Phosphate Pathway, with recycling pseudoreactions for the energy/redox carriers"
   ]
  },
  {
   "cell_type": "code",
   "execution_count": 2,
   "id": "6c587f71-6284-43d2-bdfe-ba9a7381e385",
   "metadata": {
    "tags": []
   },
   "outputs": [
    {
     "name": "stdout",
     "output_type": "stream",
     "text": [
      "Pathway consists of 24 reactions on 33 metabolites (21 intermediates + 12 exchanges)\n"
     ]
    }
   ],
   "source": [
    "pw = KB('glycolysis_ppp_ov_simplified')\n",
    "\n",
    "# Recycling reactions: ATPase, ADPase, NADred, NADPred\n",
    "recyclers = [KB(rxnid) for rxnid in [\"atpase\", \"nad_ox\", \"nadp_ox\"]]\n",
    "for rxn in recyclers:\n",
    "    pw.add_reaction(rxn)\n",
    "\n",
    "# Given the recycling reactions, the cofactors can be treated as intermediates. Pi, water, protons, and electrons are still boundaries\n",
    "boundaries=[KB(mol_id) for mol_id in [\"Glc.D.ext\", \"Glc.D.6P\", \"Rib.D.5P\", \"Ery.D.4P\", \"pyr\", \"accoa\", \"coa\", \"co2\", \"pi\", \"h2o\", \"h+\", \"e-\"]]\n",
    "intermediates = [mol for mol in pw.molecules if mol not in boundaries]\n",
    "\n",
    "print(f\"Pathway consists of {len(pw.reactions)} reactions on {len(pw.molecules)} metabolites ({len(intermediates)} intermediates + {len(boundaries)} exchanges)\")"
   ]
  },
  {
   "cell_type": "markdown",
   "id": "84c71f0f-bd67-4fe7-b90e-c2e1acb44d80",
   "metadata": {},
   "source": [
    "## Maximal growth rate, given a biomass composition"
   ]
  },
  {
   "cell_type": "markdown",
   "id": "644371f5-3caf-4f78-b35f-09e2a44b5a27",
   "metadata": {},
   "source": [
    "Biomass, from cobrapy core metabolism:\n",
    "- [g6p_c] D-Glucose 6-phosphate: 0.205,\n",
    "- [f6p_c] D-Fructose 6-phosphate: 0.0709,\n",
    "- [e4p_c] D-Erythrose 4-phosphate: 0.361,\n",
    "- [g3p_c] Glyceraldehyde 3-phosphate: 0.129,\n",
    "- [r5p_c] Alpha-D-Ribose 5-phosphate: 0.8977,\n",
    "- [3pg_c] 3-Phospho-D-glycerate: 1.496,\n",
    "- [pep_c] Phosphoenolpyruvate: 0.5191,\n",
    "- [pyr_c] Pyruvate: 2.8328,\n",
    "- [coa_c] Coenzyme A: -3.7478,\n",
    "- [accoa_c] Acetyl-CoA: 3.7478,\n",
    "- [gln__L_c] L-Glutamine: 0.2557,\n",
    "- [glu__L_c] L-Glutamate: 4.9414,\n",
    "- [oaa_c] Oxaloacetate: 1.7867,\n",
    "- [akg_c] 2-Oxoglutarate: -4.1182,\n",
    "- [nadh_c] Nicotinamide adenine dinucleotide - reduced: -3.547,\n",
    "- [nad_c] Nicotinamide adenine dinucleotide: 3.547,\n",
    "- [nadph_c] Nicotinamide adenine dinucleotide phosphate - reduced: 13.0279,\n",
    "- [nadp_c] Nicotinamide adenine dinucleotide phosphate: -13.0279,\n",
    "- [atp_c] ATP C10H12N5O13P3: 59.81,\n",
    "- [adp_c] ADP C10H12N5O10P2: -59.81,\n",
    "- [pi_c] Phosphate: -59.81\n",
    "- [h_c] H+: -59.81,\n",
    "- [h2o_c] H2O H2O: 59.81,\n",
    "\n",
    "Simplified:\n",
    "- Lump upper and lower glycolysis products into G6P and pyr, respectively\n",
    "- Lump TCA products into acCoA\n",
    "- Deal with energy/redox carriers separately (or, via $P_i$ and $e^-$ requirements). Probably need to add into acCoA also to represent TCA"
   ]
  },
  {
   "cell_type": "code",
   "execution_count": 3,
   "id": "74370fdf-e9c4-4c84-82bc-bf48855a5558",
   "metadata": {
    "tags": []
   },
   "outputs": [],
   "source": [
    "biomass_components = {\n",
    "    KB(\"Glc.D.6P\"): 0.212,\n",
    "    KB(\"Ery.D.4P\"): 0.361,\n",
    "    KB(\"Rib.D.5P\"): 0.898,\n",
    "    KB(\"pyr\"): 5.02,\n",
    "    KB(\"accoa\"): 10.75,\n",
    "}\n",
    "\n",
    "class BiomassObjective(fba_gd.Objective):\n",
    "    def __init__(self, pw, biomass_components, growth_rate, weight=1.0):\n",
    "        super().__init__(weight)\n",
    "        self.pw = pw\n",
    "        self.indices = np.array([pw.molecules.index_of(component) for component in biomass_components.keys()], dtype=np.int32)\n",
    "        self.fractions = pw.molecules.pack(biomass_components)[self.indices]\n",
    "        self.growth_rate = growth_rate\n",
    "    \n",
    "    def params(self):\n",
    "        return self.fractions, self.growth_rate\n",
    "    \n",
    "    def update_params(self, biomass_components=None, growth_rate=None):\n",
    "        if biomass_components is not None:\n",
    "            self.fractions = self.pw.molecules.pack(biomass_components)\n",
    "        if growth_rate is not None:\n",
    "            self.growth_rate = growth_rate\n",
    "\n",
    "    def residual(self, velocities, dmdt, params):\n",
    "        fractions, growth_rate = params\n",
    "        expected = growth_rate * fractions\n",
    "        actual = dmdt[self.indices]\n",
    "        return actual - expected\n",
    "\n",
    "def report(growth_rate, fluxv, dmdtv):\n",
    "    # uses pw, boundaries, intermediates, recyclers\n",
    "\n",
    "    fluxes = pw.reactions.unpack(fluxv)\n",
    "    dmdt = pw.molecules.unpack(dmdtv)\n",
    "    \n",
    "    fig, ax = plt.subplots(2, 1, figsize=(3, 5), height_ratios=[3, 1], layout='constrained', sharex=True)\n",
    "    fig.canvas.header_visible = False\n",
    "    fig.canvas.footer_visible = False\n",
    "    fig.canvas.toolbar_visible = False\n",
    "    fig.canvas.resizable = False\n",
    "\n",
    "    y = np.arange(len(boundaries))\n",
    "    ax[0].set_title(\"Boundary Fluxes\")\n",
    "    ax[0].set_yticks(y, labels=[b.label for b in boundaries])\n",
    "    ax[0].invert_yaxis()\n",
    "    ax[0].grid(True)\n",
    "    ax[0].axvline(0)\n",
    "    ax[0].barh(y, [dmdt[mol] for mol in boundaries])\n",
    "\n",
    "    y = np.arange(len(recyclers))\n",
    "    ax[1].set_title(\"Net Production\")\n",
    "    ax[1].set_xlabel('Rate')\n",
    "    ax[1].set_yticks(y, labels=[\"ATP\", \"NADH\", \"NADPH\"])\n",
    "    ax[1].invert_yaxis()\n",
    "    ax[1].grid(True)\n",
    "    ax[1].axvline(0)\n",
    "    ax[1].barh(y, [fluxes[r] for r in recyclers])\n",
    "\n",
    "    diag = escher_map.EscherMap(pw.diagram, width=\"15cm\", reaction_scale=escher_map.Scale({0: (\"#eeeeee\", 5), 10: (\"#1f77b4\", 40)}, use_abs=True))\n",
    "    diag_canvas = widgets.Output()\n",
    "    with diag_canvas:\n",
    "        display(SVG(diag.draw(reaction_data={rxn.id: flux for rxn, flux in fluxes.items()})))\n",
    "    \n",
    "\n",
    "    # Lay it all and return\n",
    "    i_intermediate = np.array(list(pw.molecules.index_of(mol) for mol in intermediates))\n",
    "    return widgets.HBox([\n",
    "        widgets.VBox([\n",
    "            widgets.Label(f\"Growth rate: {growth_rate:.2e}\"),\n",
    "            widgets.Label(f\"Steady state (RMS): {np.sqrt(np.mean(np.square(dmdtv[i_intermediate]))):.2e}\"),\n",
    "            fig.canvas,\n",
    "        ], layout=widgets.Layout(width=\"4in\", padding=\"10px\")),\n",
    "        diag_canvas,\n",
    "    ], layout = widgets.Layout(width='1000px', border='1px solid green'))"
   ]
  },
  {
   "cell_type": "code",
   "execution_count": 4,
   "id": "1ce3b1b0-8895-49de-9752-b8d8b70d95ac",
   "metadata": {
    "tags": []
   },
   "outputs": [
    {
     "data": {
      "application/vnd.jupyter.widget-view+json": {
       "model_id": "eb7b6f4770de42898b20cd5aeeda5d69",
       "version_major": 2,
       "version_minor": 0
      },
      "text/plain": [
       "HBox(children=(VBox(children=(Label(value='Growth rate: 1.00e+00'), Label(value='Steady state (RMS): 1.62e-08'…"
      ]
     },
     "execution_count": 4,
     "metadata": {},
     "output_type": "execute_result"
    }
   ],
   "source": [
    "fba = fba_gd.FbaGd(pw, intermediates=intermediates, objectives={\n",
    "    \"growth\": BiomassObjective(pw, biomass_components, 1.0)\n",
    "})\n",
    "fba_soln = fba.solve()\n",
    "\n",
    "report(fba.objectives['growth'].growth_rate, fba_soln.velocities, fba_soln.dmdt)"
   ]
  },
  {
   "cell_type": "markdown",
   "id": "86984b14-afcf-4f03-91e9-fe8b82594ee8",
   "metadata": {},
   "source": [
    "## Maximize growth via LP"
   ]
  },
  {
   "cell_type": "code",
   "execution_count": 5,
   "id": "78c68083-825f-4e5c-88c7-fc93cf7bc304",
   "metadata": {
    "tags": []
   },
   "outputs": [
    {
     "data": {
      "application/vnd.jupyter.widget-view+json": {
       "model_id": "e3e45307476b45f782b59a1b2f3b3b24",
       "version_major": 2,
       "version_minor": 0
      },
      "text/plain": [
       "HBox(children=(VBox(children=(Label(value='Growth rate: 1.10e+00'), Label(value='Steady state (RMS): 4.36e-16'…"
      ]
     },
     "execution_count": 5,
     "metadata": {},
     "output_type": "execute_result"
    }
   ],
   "source": [
    "# Augment S and v with additional column + variable for growth\n",
    "s_aug = np.hstack([-pw.molecules.pack(biomass_components)[:, np.newaxis], pw.s_matrix])\n",
    "\n",
    "# Following the form of scipy.optimize.linprog\n",
    "# - minimize c @ x: c is coefficients of the flux vector to optimize, i.e. [-1, 0, ...]\n",
    "c = np.insert(np.zeros(pw.shape[1]), 0, -1.0)\n",
    "\n",
    "# - A_eq @ x = b_eq: A_eq is the subset of s_aug for rows that are steady-state; b_eq = 0\n",
    "i_intermediates = np.array([i for i, mol in enumerate(pw.molecules) if mol in intermediates or mol in biomass_components])\n",
    "A_eq = s_aug[i_intermediates]\n",
    "b_eq = np.zeros(A_eq.shape[0])\n",
    "\n",
    "# - A_ub @ x <= b_ub: A_ub is a transformed subset of s_aug that constrains non steady-state boundary dm/dt; b_ub sets the bounds\n",
    "# In this case the only thing bounded is Glc[e], -10 <= x_glce <= 0, so -x_glce <= 10\n",
    "A_ub = np.atleast_2d(-s_aug[pw.molecules.index_of(KB(\"Glc.D.ext\"))])\n",
    "b_ub = np.array([10.0])\n",
    "\n",
    "# - lb <= x <= ub: constraints on the fluxes themselves, mainly reversibility (including growth)\n",
    "bounds = [(0, None)] + [(None, None) if rxn.reversible else (0, None) for rxn in pw.reactions]\n",
    "\n",
    "lp_soln = scipy.optimize.linprog(c, A_ub, b_ub, A_eq, b_eq, bounds)\n",
    "report(lp_soln.x[0], lp_soln.x[1:], pw.s_matrix @ lp_soln.x[1:])"
   ]
  },
  {
   "cell_type": "markdown",
   "id": "f6c928c3-9bb7-42c6-80fa-f123934e9037",
   "metadata": {},
   "source": [
    "## Same thing with minimize() and LinearConstraint"
   ]
  },
  {
   "cell_type": "code",
   "execution_count": 6,
   "id": "83a5197d-cbdc-4107-bf11-ab674aa6a725",
   "metadata": {
    "tags": []
   },
   "outputs": [
    {
     "name": "stderr",
     "output_type": "stream",
     "text": [
      "/home/fdrusso/.pyenv/versions/3.11.2/envs/mosmo-work/lib/python3.11/site-packages/scipy/optimize/_trustregion_constr/equality_constrained_sqp.py:81: UserWarning: Singular Jacobian matrix. Using SVD decomposition to perform the factorizations.\n",
      "  Z, LS, Y = projections(A, factorization_method)\n",
      "/home/fdrusso/.pyenv/versions/3.11.2/envs/mosmo-work/lib/python3.11/site-packages/scipy/optimize/_trustregion_constr/equality_constrained_sqp.py:217: UserWarning: Singular Jacobian matrix. Using SVD decomposition to perform the factorizations.\n",
      "  Z, LS, Y = projections(A, factorization_method)\n"
     ]
    },
    {
     "data": {
      "application/vnd.jupyter.widget-view+json": {
       "model_id": "3119bde504eb43098b1c0b6b2f4c1c3a",
       "version_major": 2,
       "version_minor": 0
      },
      "text/plain": [
       "HBox(children=(VBox(children=(Label(value='Growth rate: 4.94e-02'), Label(value='Steady state (RMS): 1.84e-17'…"
      ]
     },
     "execution_count": 6,
     "metadata": {},
     "output_type": "execute_result"
    }
   ],
   "source": [
    "# fun, jac, hess all apply to the growth function, i.e. -x[0]. Since it's linear, jac=c and hess=0\n",
    "def fun(x):\n",
    "    return c @ x\n",
    "\n",
    "hess = np.zeros(shape=(c.shape[0], c.shape[0]))\n",
    "\n",
    "# constraints do the same thing as A_eq @ x = 0 and A_ub @ x <= b_eq\n",
    "constraints = [\n",
    "    scipy.optimize.LinearConstraint(A=A_eq, lb=0, ub=0),\n",
    "    scipy.optimize.LinearConstraint(A=A_ub, lb=0, ub=b_ub),\n",
    "]\n",
    "\n",
    "# variable (flux) bounds same as above\n",
    "\n",
    "lmin_soln = scipy.optimize.minimize(\n",
    "    method='trust-constr',\n",
    "    fun=fun,\n",
    "    x0=np.zeros_like(c),\n",
    "    jac=lambda x: c, \n",
    "    hess=lambda x: hess, \n",
    "    bounds=bounds, \n",
    "    constraints=constraints\n",
    ")\n",
    "report(lmin_soln.x[0], lmin_soln.x[1:], pw.s_matrix @ lmin_soln.x[1:])"
   ]
  },
  {
   "cell_type": "markdown",
   "id": "716e76e1-4c23-468e-b2ff-df5fb31ce7f0",
   "metadata": {
    "tags": []
   },
   "source": [
    "## Define it _exactly_ as a standard FBA problem\n",
    "- S matrix augmented with exchanges and biomass\n",
    "- v vector \\[\\<fluxes\\> \\<exchanges\\> \\<growth\\>\\]"
   ]
  },
  {
   "cell_type": "code",
   "execution_count": 7,
   "id": "83eae732-38c4-4211-90a5-c0c44766a5a3",
   "metadata": {
    "tags": []
   },
   "outputs": [
    {
     "data": {
      "application/vnd.jupyter.widget-view+json": {
       "model_id": "7086135f2b344642b78336298416a836",
       "version_major": 2,
       "version_minor": 0
      },
      "text/plain": [
       "HBox(children=(VBox(children=(Label(value='Growth rate: 1.10e+00'), Label(value='Steady state (RMS): 3.88e-16'…"
      ]
     },
     "execution_count": 7,
     "metadata": {},
     "output_type": "execute_result"
    }
   ],
   "source": [
    "exchanges = {}\n",
    "for mol in boundaries:\n",
    "    if mol not in biomass_components:\n",
    "        ex = np.zeros(pw.shape[0])\n",
    "        ex[pw.molecules.index_of(mol)] = -1\n",
    "        exchanges[mol] = ex\n",
    "\n",
    "s_aug = np.hstack([\n",
    "    pw.s_matrix,\n",
    "    np.array(list(exchanges.values())).T,\n",
    "    -pw.molecules.pack(biomass_components)[:, np.newaxis],\n",
    "])\n",
    "\n",
    "# Following the form of scipy.optimize.linprog\n",
    "# - minimize c @ x: c is coefficients of the flux vector to optimize, i.e. [-1, 0, ...]\n",
    "c = np.zeros(pw.shape[1] + len(exchanges) + 1)\n",
    "c[-1] = -1\n",
    "\n",
    "# A_eq is s_aug; b_eq = 0. No A_ub or b_ub\n",
    "\n",
    "# - lb <= x <= ub: constraints on the fluxes themselves.\n",
    "bounds = []\n",
    "# reaction reversibility\n",
    "for rxn in pw.reactions:\n",
    "    if rxn.reversible:\n",
    "        bounds.append((None, None))\n",
    "    else:\n",
    "        bounds.append((0, None))\n",
    "# exchanges unbounded except for Glc[e]\n",
    "glc_e = KB(\"Glc.D.ext\")\n",
    "for mol in exchanges:\n",
    "    if mol == glc_e:\n",
    "        bounds.append((-10, -10))\n",
    "    else:\n",
    "        bounds.append((None, None))\n",
    "# growth is nonnegative\n",
    "bounds.append((0, None))\n",
    "\n",
    "lp_soln = scipy.optimize.linprog(c=c, A_eq=s_aug, b_eq=np.zeros(s_aug.shape[0]), bounds=bounds)\n",
    "fluxv = lp_soln.x[:pw.shape[1]]\n",
    "report(lp_soln.x[-1], fluxv, pw.s_matrix @ fluxv)"
   ]
  },
  {
   "cell_type": "markdown",
   "id": "2a7c2fe7-ea68-423d-bbd1-9664b2d42633",
   "metadata": {
    "tags": []
   },
   "source": [
    "## Convert that to constrained minimization"
   ]
  },
  {
   "cell_type": "code",
   "execution_count": 8,
   "id": "80ad4b72-a10b-4ee3-88c0-76b0264997c6",
   "metadata": {
    "tags": []
   },
   "outputs": [
    {
     "name": "stderr",
     "output_type": "stream",
     "text": [
      "/home/fdrusso/.pyenv/versions/3.11.2/envs/mosmo-work/lib/python3.11/site-packages/scipy/optimize/_trustregion_constr/equality_constrained_sqp.py:81: UserWarning: Singular Jacobian matrix. Using SVD decomposition to perform the factorizations.\n",
      "  Z, LS, Y = projections(A, factorization_method)\n",
      "/home/fdrusso/.pyenv/versions/3.11.2/envs/mosmo-work/lib/python3.11/site-packages/scipy/optimize/_trustregion_constr/equality_constrained_sqp.py:217: UserWarning: Singular Jacobian matrix. Using SVD decomposition to perform the factorizations.\n",
      "  Z, LS, Y = projections(A, factorization_method)\n"
     ]
    },
    {
     "data": {
      "application/vnd.jupyter.widget-view+json": {
       "model_id": "214410408e8c4be189aefcaf3e6675ca",
       "version_major": 2,
       "version_minor": 0
      },
      "text/plain": [
       "HBox(children=(VBox(children=(Label(value='Growth rate: 1.10e+00'), Label(value='Steady state (RMS): 1.12e-15'…"
      ]
     },
     "execution_count": 8,
     "metadata": {},
     "output_type": "execute_result"
    }
   ],
   "source": [
    "# fun, jac, hess all apply to the growth function, i.e. -x[0]. Since it's linear, jac=c and hess=0\n",
    "def fun(x):\n",
    "    return c @ x\n",
    "\n",
    "hess = np.zeros(shape=(c.shape[0], c.shape[0]))\n",
    "\n",
    "# constraints do the same thing as A_eq @ x = 0\n",
    "constraints = [\n",
    "    scipy.optimize.LinearConstraint(A=s_aug, lb=0, ub=0),\n",
    "]\n",
    "\n",
    "# variable (flux) bounds same as above\n",
    "\n",
    "lmin_soln = scipy.optimize.minimize(\n",
    "    method='trust-constr',\n",
    "    fun=fun,\n",
    "    x0=np.zeros_like(c),\n",
    "    jac=lambda x: c, \n",
    "    hess=lambda x: hess, \n",
    "    bounds=bounds, \n",
    "    constraints=constraints\n",
    ")\n",
    "fluxv = lmin_soln.x[:pw.shape[1]]\n",
    "report(lmin_soln.x[-1], fluxv, pw.s_matrix @ fluxv)"
   ]
  },
  {
   "cell_type": "markdown",
   "id": "f37a871a-be3a-4e45-b314-11962cfaf089",
   "metadata": {},
   "source": [
    "**OK** looks like by using Glc[e] == -10 instead of >= -10, we force the system to the right answer using minimize() directly.\n",
    "\n",
    "Not really a great endorsement in terms of efficiency, but it opens up using this approach with different objectives"
   ]
  },
  {
   "cell_type": "markdown",
   "id": "ff149f93-3717-4750-9389-82d67881f1b8",
   "metadata": {},
   "source": [
    "## Recast using JAX-friendly Objectives\n",
    "### First, same problem not as constrained minimization but simply least squares with Glc[e] == -10. Explore range of solutions\n",
    "- Avoid FbaGd.solve() to keep flexibility; need to rethink that interface anyway"
   ]
  },
  {
   "cell_type": "code",
   "execution_count": 9,
   "id": "e0513c60-0046-443f-8cc8-815c66111a2f",
   "metadata": {
    "tags": []
   },
   "outputs": [
    {
     "data": {
      "application/vnd.jupyter.widget-view+json": {
       "model_id": "1ee3b5e21df243938dd717428da6ab0f",
       "version_major": 2,
       "version_minor": 0
      },
      "text/plain": [
       "HBox(children=(VBox(children=(Label(value='Growth rate: 1.10e+00'), Label(value='Steady state (RMS): 5.27e-15'…"
      ]
     },
     "execution_count": 9,
     "metadata": {},
     "output_type": "execute_result"
    }
   ],
   "source": [
    "ss_objective = fba_gd.SteadyStateObjective(pw, intermediates)\n",
    "irrev_objective = fba_gd.IrreversibilityObjective(pw)\n",
    "growth_objective = BiomassObjective(pw, biomass_components, lp_soln.x[-1])\n",
    "uptake_objective = fba_gd.ProductionObjective(pw, {KB(\"Glc.D.ext\"): -10})\n",
    "\n",
    "# Borrowed from FbaGd pretty much as-is\n",
    "objectives = {\n",
    "    'steady-state': ss_objective,\n",
    "    'irreversibility': irrev_objective,\n",
    "    'growth': growth_objective,\n",
    "    'uptake': uptake_objective\n",
    "}\n",
    "\n",
    "# Generalized residual combining the objectives\n",
    "def residual(v, *params):\n",
    "    dmdt = pw.s_matrix @ v\n",
    "    return jnp.concatenate([objective.residual(v, dmdt, p) for objective, p in zip(objectives.values(), params)])\n",
    "\n",
    "# Cache the jitted loss and jacobian functions\n",
    "_residual_jit = jax.jit(residual)\n",
    "_residual_jac = jax.jit(jax.jacfwd(residual))\n",
    "\n",
    "# Solve least squares on combined residual\n",
    "seed = jax.random.PRNGKey(int(time.time() * 1000))\n",
    "v0 = jax.random.normal(seed, pw.shape[1:])\n",
    "\n",
    "params = tuple(objective.params() for objective in objectives.values())\n",
    "soln = scipy.optimize.least_squares(fun=_residual_jit, args=params, x0=v0, jac=_residual_jac)\n",
    "dmdt = pw.s_matrix @ soln.x\n",
    "fit_residual = np.concatenate([objectives[name].residual(soln.x, dmdt, None) for name in ['steady-state', 'irreversibility']])\n",
    "fba_result = fba_gd.FbaResult(v0=np.asarray(v0), velocities=np.asarray(soln.x), dmdt=np.asarray(dmdt), fit=float(np.sum(np.square(fit_residual))))\n",
    "report(growth_objective.growth_rate, fba_result.velocities, fba_result.dmdt)"
   ]
  },
  {
   "cell_type": "markdown",
   "id": "5ba60869-d337-495e-a828-87669daa79a1",
   "metadata": {},
   "source": [
    "### Vary v0 with current contraints"
   ]
  },
  {
   "cell_type": "code",
   "execution_count": 10,
   "id": "6a3e4c9a-6b88-4f76-914e-f38bdf47116c",
   "metadata": {
    "tags": []
   },
   "outputs": [],
   "source": [
    "results = []\n",
    "params = tuple(objective.params() for objective in objectives.values())\n",
    "for i in range(100):\n",
    "    seed, _seed = jax.random.split(seed)\n",
    "    v0 = jax.random.normal(_seed, pw.shape[1:])\n",
    "    soln = scipy.optimize.least_squares(fun=_residual_jit, args=params, x0=v0, jac=_residual_jac)\n",
    "    dmdt = pw.s_matrix @ soln.x\n",
    "    fit_residual = np.concatenate([objectives[name].residual(soln.x, dmdt, None) for name in ['steady-state', 'irreversibility']])\n",
    "    results.append(fba_gd.FbaResult(v0=np.asarray(v0), velocities=np.asarray(soln.x), dmdt=np.asarray(dmdt), fit=float(np.sum(np.square(fit_residual)))))"
   ]
  },
  {
   "cell_type": "code",
   "execution_count": 11,
   "id": "fc07072c-8e48-44ee-924a-55c9903b07f5",
   "metadata": {
    "tags": []
   },
   "outputs": [],
   "source": [
    "fluxes_df = pd.DataFrame([{rxn.label: flux for rxn, flux in pw.reactions.unpack(soln.velocities).items()} for soln in results])"
   ]
  },
  {
   "cell_type": "code",
   "execution_count": 12,
   "id": "69e82ade-1536-4f7d-84ce-b70b5c4fbf1f",
   "metadata": {
    "tags": []
   },
   "outputs": [
    {
     "data": {
      "text/html": [
       "<div>\n",
       "<style scoped>\n",
       "    .dataframe tbody tr th:only-of-type {\n",
       "        vertical-align: middle;\n",
       "    }\n",
       "\n",
       "    .dataframe tbody tr th {\n",
       "        vertical-align: top;\n",
       "    }\n",
       "\n",
       "    .dataframe thead th {\n",
       "        text-align: right;\n",
       "    }\n",
       "</style>\n",
       "<table border=\"1\" class=\"dataframe\">\n",
       "  <thead>\n",
       "    <tr style=\"text-align: right;\">\n",
       "      <th></th>\n",
       "      <th>GAPDH</th>\n",
       "      <th>PGK</th>\n",
       "      <th>GPM</th>\n",
       "      <th>ENO</th>\n",
       "      <th>PDH</th>\n",
       "      <th>PYK</th>\n",
       "      <th>TPI</th>\n",
       "      <th>FBA</th>\n",
       "      <th>PFK</th>\n",
       "      <th>PGI</th>\n",
       "      <th>...</th>\n",
       "      <th>RPE</th>\n",
       "      <th>GlcPTS</th>\n",
       "      <th>PTA</th>\n",
       "      <th>ACK</th>\n",
       "      <th>TKT1</th>\n",
       "      <th>TALA</th>\n",
       "      <th>TKT2</th>\n",
       "      <th>ATPase</th>\n",
       "      <th>NADHox</th>\n",
       "      <th>NADPHox</th>\n",
       "    </tr>\n",
       "  </thead>\n",
       "  <tbody>\n",
       "    <tr>\n",
       "      <th>count</th>\n",
       "      <td>1.000000e+02</td>\n",
       "      <td>1.000000e+02</td>\n",
       "      <td>1.000000e+02</td>\n",
       "      <td>1.000000e+02</td>\n",
       "      <td>1.000000e+02</td>\n",
       "      <td>1.000000e+02</td>\n",
       "      <td>1.000000e+02</td>\n",
       "      <td>1.000000e+02</td>\n",
       "      <td>1.000000e+02</td>\n",
       "      <td>1.000000e+02</td>\n",
       "      <td>...</td>\n",
       "      <td>1.000000e+02</td>\n",
       "      <td>1.000000e+02</td>\n",
       "      <td>1.000000e+02</td>\n",
       "      <td>1.000000e+02</td>\n",
       "      <td>1.000000e+02</td>\n",
       "      <td>1.000000e+02</td>\n",
       "      <td>1.000000e+02</td>\n",
       "      <td>1.000000e+02</td>\n",
       "      <td>1.000000e+02</td>\n",
       "      <td>1.000000e+02</td>\n",
       "    </tr>\n",
       "    <tr>\n",
       "      <th>mean</th>\n",
       "      <td>1.735637e+01</td>\n",
       "      <td>-1.735637e+01</td>\n",
       "      <td>-1.735637e+01</td>\n",
       "      <td>1.735637e+01</td>\n",
       "      <td>1.183139e+01</td>\n",
       "      <td>-7.356372e+00</td>\n",
       "      <td>-8.975347e+00</td>\n",
       "      <td>8.975347e+00</td>\n",
       "      <td>8.975347e+00</td>\n",
       "      <td>9.766674e+00</td>\n",
       "      <td>...</td>\n",
       "      <td>-7.913273e-01</td>\n",
       "      <td>1.000000e+01</td>\n",
       "      <td>4.449774e-15</td>\n",
       "      <td>-5.555868e-15</td>\n",
       "      <td>1.970064e-01</td>\n",
       "      <td>-1.970064e-01</td>\n",
       "      <td>-5.943209e-01</td>\n",
       "      <td>1.573740e+01</td>\n",
       "      <td>2.918776e+01</td>\n",
       "      <td>-4.991452e-14</td>\n",
       "    </tr>\n",
       "    <tr>\n",
       "      <th>std</th>\n",
       "      <td>2.082006e-15</td>\n",
       "      <td>3.050732e-15</td>\n",
       "      <td>7.773772e-15</td>\n",
       "      <td>6.466653e-15</td>\n",
       "      <td>3.628170e-15</td>\n",
       "      <td>3.322060e-15</td>\n",
       "      <td>1.749235e-15</td>\n",
       "      <td>2.043376e-15</td>\n",
       "      <td>3.163570e-15</td>\n",
       "      <td>8.146161e-15</td>\n",
       "      <td>...</td>\n",
       "      <td>6.260464e-15</td>\n",
       "      <td>3.267646e-15</td>\n",
       "      <td>1.860788e-15</td>\n",
       "      <td>2.388521e-15</td>\n",
       "      <td>3.714091e-15</td>\n",
       "      <td>3.560947e-15</td>\n",
       "      <td>3.222565e-15</td>\n",
       "      <td>6.800586e-15</td>\n",
       "      <td>3.291941e-15</td>\n",
       "      <td>1.866339e-14</td>\n",
       "    </tr>\n",
       "    <tr>\n",
       "      <th>min</th>\n",
       "      <td>1.735637e+01</td>\n",
       "      <td>-1.735637e+01</td>\n",
       "      <td>-1.735637e+01</td>\n",
       "      <td>1.735637e+01</td>\n",
       "      <td>1.183139e+01</td>\n",
       "      <td>-7.356372e+00</td>\n",
       "      <td>-8.975347e+00</td>\n",
       "      <td>8.975347e+00</td>\n",
       "      <td>8.975347e+00</td>\n",
       "      <td>9.766674e+00</td>\n",
       "      <td>...</td>\n",
       "      <td>-7.913273e-01</td>\n",
       "      <td>1.000000e+01</td>\n",
       "      <td>-8.326673e-17</td>\n",
       "      <td>-8.881784e-15</td>\n",
       "      <td>1.970064e-01</td>\n",
       "      <td>-1.970064e-01</td>\n",
       "      <td>-5.943209e-01</td>\n",
       "      <td>1.573740e+01</td>\n",
       "      <td>2.918776e+01</td>\n",
       "      <td>-8.126833e-14</td>\n",
       "    </tr>\n",
       "    <tr>\n",
       "      <th>25%</th>\n",
       "      <td>1.735637e+01</td>\n",
       "      <td>-1.735637e+01</td>\n",
       "      <td>-1.735637e+01</td>\n",
       "      <td>1.735637e+01</td>\n",
       "      <td>1.183139e+01</td>\n",
       "      <td>-7.356372e+00</td>\n",
       "      <td>-8.975347e+00</td>\n",
       "      <td>8.975347e+00</td>\n",
       "      <td>8.975347e+00</td>\n",
       "      <td>9.766674e+00</td>\n",
       "      <td>...</td>\n",
       "      <td>-7.913273e-01</td>\n",
       "      <td>1.000000e+01</td>\n",
       "      <td>3.885781e-15</td>\n",
       "      <td>-7.105427e-15</td>\n",
       "      <td>1.970064e-01</td>\n",
       "      <td>-1.970064e-01</td>\n",
       "      <td>-5.943209e-01</td>\n",
       "      <td>1.573740e+01</td>\n",
       "      <td>2.918776e+01</td>\n",
       "      <td>-6.317169e-14</td>\n",
       "    </tr>\n",
       "    <tr>\n",
       "      <th>50%</th>\n",
       "      <td>1.735637e+01</td>\n",
       "      <td>-1.735637e+01</td>\n",
       "      <td>-1.735637e+01</td>\n",
       "      <td>1.735637e+01</td>\n",
       "      <td>1.183139e+01</td>\n",
       "      <td>-7.356372e+00</td>\n",
       "      <td>-8.975347e+00</td>\n",
       "      <td>8.975347e+00</td>\n",
       "      <td>8.975347e+00</td>\n",
       "      <td>9.766674e+00</td>\n",
       "      <td>...</td>\n",
       "      <td>-7.913273e-01</td>\n",
       "      <td>1.000000e+01</td>\n",
       "      <td>4.884981e-15</td>\n",
       "      <td>-6.217249e-15</td>\n",
       "      <td>1.970064e-01</td>\n",
       "      <td>-1.970064e-01</td>\n",
       "      <td>-5.943209e-01</td>\n",
       "      <td>1.573740e+01</td>\n",
       "      <td>2.918776e+01</td>\n",
       "      <td>-5.384582e-14</td>\n",
       "    </tr>\n",
       "    <tr>\n",
       "      <th>75%</th>\n",
       "      <td>1.735637e+01</td>\n",
       "      <td>-1.735637e+01</td>\n",
       "      <td>-1.735637e+01</td>\n",
       "      <td>1.735637e+01</td>\n",
       "      <td>1.183139e+01</td>\n",
       "      <td>-7.356372e+00</td>\n",
       "      <td>-8.975347e+00</td>\n",
       "      <td>8.975347e+00</td>\n",
       "      <td>8.975347e+00</td>\n",
       "      <td>9.766674e+00</td>\n",
       "      <td>...</td>\n",
       "      <td>-7.913273e-01</td>\n",
       "      <td>1.000000e+01</td>\n",
       "      <td>5.773160e-15</td>\n",
       "      <td>-4.662937e-15</td>\n",
       "      <td>1.970064e-01</td>\n",
       "      <td>-1.970064e-01</td>\n",
       "      <td>-5.943209e-01</td>\n",
       "      <td>1.573740e+01</td>\n",
       "      <td>2.918776e+01</td>\n",
       "      <td>-4.074519e-14</td>\n",
       "    </tr>\n",
       "    <tr>\n",
       "      <th>max</th>\n",
       "      <td>1.735637e+01</td>\n",
       "      <td>-1.735637e+01</td>\n",
       "      <td>-1.735637e+01</td>\n",
       "      <td>1.735637e+01</td>\n",
       "      <td>1.183139e+01</td>\n",
       "      <td>-7.356372e+00</td>\n",
       "      <td>-8.975347e+00</td>\n",
       "      <td>8.975347e+00</td>\n",
       "      <td>8.975347e+00</td>\n",
       "      <td>9.766674e+00</td>\n",
       "      <td>...</td>\n",
       "      <td>-7.913273e-01</td>\n",
       "      <td>1.000000e+01</td>\n",
       "      <td>7.105427e-15</td>\n",
       "      <td>2.636780e-16</td>\n",
       "      <td>1.970064e-01</td>\n",
       "      <td>-1.970064e-01</td>\n",
       "      <td>-5.943209e-01</td>\n",
       "      <td>1.573740e+01</td>\n",
       "      <td>2.918776e+01</td>\n",
       "      <td>1.598721e-14</td>\n",
       "    </tr>\n",
       "  </tbody>\n",
       "</table>\n",
       "<p>8 rows × 24 columns</p>\n",
       "</div>"
      ],
      "text/plain": [
       "              GAPDH           PGK           GPM           ENO           PDH  \\\n",
       "count  1.000000e+02  1.000000e+02  1.000000e+02  1.000000e+02  1.000000e+02   \n",
       "mean   1.735637e+01 -1.735637e+01 -1.735637e+01  1.735637e+01  1.183139e+01   \n",
       "std    2.082006e-15  3.050732e-15  7.773772e-15  6.466653e-15  3.628170e-15   \n",
       "min    1.735637e+01 -1.735637e+01 -1.735637e+01  1.735637e+01  1.183139e+01   \n",
       "25%    1.735637e+01 -1.735637e+01 -1.735637e+01  1.735637e+01  1.183139e+01   \n",
       "50%    1.735637e+01 -1.735637e+01 -1.735637e+01  1.735637e+01  1.183139e+01   \n",
       "75%    1.735637e+01 -1.735637e+01 -1.735637e+01  1.735637e+01  1.183139e+01   \n",
       "max    1.735637e+01 -1.735637e+01 -1.735637e+01  1.735637e+01  1.183139e+01   \n",
       "\n",
       "                PYK           TPI           FBA           PFK           PGI  \\\n",
       "count  1.000000e+02  1.000000e+02  1.000000e+02  1.000000e+02  1.000000e+02   \n",
       "mean  -7.356372e+00 -8.975347e+00  8.975347e+00  8.975347e+00  9.766674e+00   \n",
       "std    3.322060e-15  1.749235e-15  2.043376e-15  3.163570e-15  8.146161e-15   \n",
       "min   -7.356372e+00 -8.975347e+00  8.975347e+00  8.975347e+00  9.766674e+00   \n",
       "25%   -7.356372e+00 -8.975347e+00  8.975347e+00  8.975347e+00  9.766674e+00   \n",
       "50%   -7.356372e+00 -8.975347e+00  8.975347e+00  8.975347e+00  9.766674e+00   \n",
       "75%   -7.356372e+00 -8.975347e+00  8.975347e+00  8.975347e+00  9.766674e+00   \n",
       "max   -7.356372e+00 -8.975347e+00  8.975347e+00  8.975347e+00  9.766674e+00   \n",
       "\n",
       "       ...           RPE        GlcPTS           PTA           ACK  \\\n",
       "count  ...  1.000000e+02  1.000000e+02  1.000000e+02  1.000000e+02   \n",
       "mean   ... -7.913273e-01  1.000000e+01  4.449774e-15 -5.555868e-15   \n",
       "std    ...  6.260464e-15  3.267646e-15  1.860788e-15  2.388521e-15   \n",
       "min    ... -7.913273e-01  1.000000e+01 -8.326673e-17 -8.881784e-15   \n",
       "25%    ... -7.913273e-01  1.000000e+01  3.885781e-15 -7.105427e-15   \n",
       "50%    ... -7.913273e-01  1.000000e+01  4.884981e-15 -6.217249e-15   \n",
       "75%    ... -7.913273e-01  1.000000e+01  5.773160e-15 -4.662937e-15   \n",
       "max    ... -7.913273e-01  1.000000e+01  7.105427e-15  2.636780e-16   \n",
       "\n",
       "               TKT1          TALA          TKT2        ATPase        NADHox  \\\n",
       "count  1.000000e+02  1.000000e+02  1.000000e+02  1.000000e+02  1.000000e+02   \n",
       "mean   1.970064e-01 -1.970064e-01 -5.943209e-01  1.573740e+01  2.918776e+01   \n",
       "std    3.714091e-15  3.560947e-15  3.222565e-15  6.800586e-15  3.291941e-15   \n",
       "min    1.970064e-01 -1.970064e-01 -5.943209e-01  1.573740e+01  2.918776e+01   \n",
       "25%    1.970064e-01 -1.970064e-01 -5.943209e-01  1.573740e+01  2.918776e+01   \n",
       "50%    1.970064e-01 -1.970064e-01 -5.943209e-01  1.573740e+01  2.918776e+01   \n",
       "75%    1.970064e-01 -1.970064e-01 -5.943209e-01  1.573740e+01  2.918776e+01   \n",
       "max    1.970064e-01 -1.970064e-01 -5.943209e-01  1.573740e+01  2.918776e+01   \n",
       "\n",
       "            NADPHox  \n",
       "count  1.000000e+02  \n",
       "mean  -4.991452e-14  \n",
       "std    1.866339e-14  \n",
       "min   -8.126833e-14  \n",
       "25%   -6.317169e-14  \n",
       "50%   -5.384582e-14  \n",
       "75%   -4.074519e-14  \n",
       "max    1.598721e-14  \n",
       "\n",
       "[8 rows x 24 columns]"
      ]
     },
     "execution_count": 12,
     "metadata": {},
     "output_type": "execute_result"
    }
   ],
   "source": [
    "fluxes_df.describe()"
   ]
  },
  {
   "cell_type": "markdown",
   "id": "2b015eda-3d8d-4c56-ae07-c8c8fe14e94d",
   "metadata": {
    "tags": []
   },
   "source": [
    "## What LP can't do: Fit the demand (biomass) distribution\n",
    "- Same objective components: steady-state, irreversibility, biomass, uptake(?)\n",
    "- But for biomass, the growth rate is set, while the biomass fractions are variables\n",
    "- Flux vector is also variable. and optimized together with biomass fractions\n",
    "- Regression is against observables\n",
    "  - CO2, Pi\n",
    "  - Glc uptake, growth rate can be set parameters or observables, try both ways (?)\n",
    "  - ATP/NADH/NADPH production/demand\n",
    "  - Open question: how many other \"observables\" need to be included to narrow the outcome"
   ]
  },
  {
   "cell_type": "code",
   "execution_count": 13,
   "id": "b8212f13-cf9a-4e5d-b771-0d5d05af66d7",
   "metadata": {
    "tags": []
   },
   "outputs": [
    {
     "name": "stdout",
     "output_type": "stream",
     "text": [
      "8.136468532332978e-28\n"
     ]
    }
   ],
   "source": [
    "# Put these here so they are static in fun(). Maybe work out how to do this nicely in jax. Maybe not.\n",
    "growth_rate = growth_objective.growth_rate\n",
    "objectives = {\n",
    "    'steady-state': ss_objective,\n",
    "    # 'irreversibility': irrev_objective,  # use bounds\n",
    "    'growth': growth_objective,\n",
    "    'demands': fba_gd.VelocityObjective(\n",
    "        pw, {rxn: flux for rxn, flux in pw.reactions.unpack(fba_result.velocities).items() if rxn in recyclers}),\n",
    "    'profile': fba_gd.ProductionObjective(\n",
    "        pw, {mol: rate for mol, rate in pw.molecules.unpack(fba_result.dmdt).items() if mol.id in {\"Glc.D.ext\", \"co2\", \"pi\"}}),\n",
    "}\n",
    "\n",
    "# We need bounds for the biomass fractions, so set it up for irreversibility too\n",
    "bounds = [(-np.inf, np.inf) if rxn.reversible else (0, np.inf) for rxn in pw.reactions] + [(0, np.inf)] * len(biomass_components)\n",
    "lb, ub = np.array(bounds).T\n",
    "\n",
    "parms = {name: objective.params() for name, objective in objectives.items()}\n",
    "# Input vector x structured as <fluxes><biomass-fraction>\n",
    "def fun(x):\n",
    "    fluxes = x[:pw.shape[1]]\n",
    "    dmdt = pw.s_matrix @ fluxes\n",
    "    parms['growth'] = (x[pw.shape[1]:], growth_rate)\n",
    "    residuals = [objective.residual(fluxes, dmdt, parms[name]) for name, objective in objectives.items()]\n",
    "    return jnp.concatenate(residuals)\n",
    "\n",
    "_jit = jax.jit(fun)\n",
    "_jac = jax.jit(jax.jacfwd(fun))\n",
    "\n",
    "# Validate using past solution\n",
    "x = jnp.concatenate([fba_result.velocities, jnp.array(list(biomass_components.values()))])\n",
    "print(jnp.sum(jnp.square(fun(x))))"
   ]
  },
  {
   "cell_type": "code",
   "execution_count": 14,
   "id": "d3dde82b-2270-401f-92d0-ab1666c9545b",
   "metadata": {
    "tags": []
   },
   "outputs": [],
   "source": [
    "seed, _seed = jax.random.split(seed)\n",
    "x0 = jax.random.uniform(_seed, (pw.shape[1] + len(biomass_components), ))\n",
    "soln = scipy.optimize.least_squares(fun=_jit, x0=x0, jac=_jac, bounds=(lb, ub))"
   ]
  },
  {
   "cell_type": "code",
   "execution_count": 15,
   "id": "ce1387dd-f04b-412b-aeca-25ad5f710df1",
   "metadata": {
    "tags": []
   },
   "outputs": [
    {
     "data": {
      "text/plain": [
       "     message: `gtol` termination condition is satisfied.\n",
       "     success: True\n",
       "      status: 1\n",
       "         fun: [ 0.000e+00  1.823e-06 ...  3.646e-06  0.000e+00]\n",
       "           x: [ 1.736e+01 -1.736e+01 ...  5.020e+00  1.075e+01]\n",
       "        cost: 2.200024706566356e-09\n",
       "         jac: [[-1.000e+00  0.000e+00 ...  0.000e+00  0.000e+00]\n",
       "               [-1.000e+00  0.000e+00 ...  0.000e+00  0.000e+00]\n",
       "               ...\n",
       "               [ 0.000e+00  0.000e+00 ...  0.000e+00  0.000e+00]\n",
       "               [ 0.000e+00  0.000e+00 ...  0.000e+00  0.000e+00]]\n",
       "        grad: [ 5.329e-15  0.000e+00 ... -1.938e-15  5.708e-17]\n",
       "  optimality: 4.400049411130945e-09\n",
       " active_mask: [0 0 ... 0 0]\n",
       "        nfev: 17\n",
       "        njev: 17"
      ]
     },
     "execution_count": 15,
     "metadata": {},
     "output_type": "execute_result"
    }
   ],
   "source": [
    "soln"
   ]
  },
  {
   "cell_type": "code",
   "execution_count": 16,
   "id": "1bb62e17-412e-491f-8758-573e1cedcc84",
   "metadata": {
    "tags": []
   },
   "outputs": [
    {
     "name": "stdout",
     "output_type": "stream",
     "text": [
      "G6P:  0.212 => 0.650879722585749\n",
      "E4P:  0.361 => 0.7999774402516485\n",
      "R5P:  0.898 => 0.020146149625847768\n",
      "pyr:  5.02 => 5.020031468400914\n",
      "acCoA:  10.75 => 10.749988406378607\n"
     ]
    },
    {
     "data": {
      "application/vnd.jupyter.widget-view+json": {
       "model_id": "15f69797309a44e5a9216b8a7cacc38b",
       "version_major": 2,
       "version_minor": 0
      },
      "text/plain": [
       "HBox(children=(VBox(children=(Label(value='Growth rate: 1.10e+00'), Label(value='Steady state (RMS): 1.23e-05'…"
      ]
     },
     "execution_count": 16,
     "metadata": {},
     "output_type": "execute_result"
    }
   ],
   "source": [
    "for (mol, old_frac), new_frac in zip(biomass_components.items(), soln.x[pw.shape[1]:]):\n",
    "    print(f\"{mol.label}:  {old_frac} => {new_frac}\")\n",
    "report(growth_rate, soln.x[:pw.shape[1]], pw.s_matrix @ soln.x[:pw.shape[1]])"
   ]
  },
  {
   "cell_type": "code",
   "execution_count": 17,
   "id": "2a78105d-1042-4b1d-97d1-3d5811013e1c",
   "metadata": {
    "tags": []
   },
   "outputs": [
    {
     "name": "stdout",
     "output_type": "stream",
     "text": [
      "CPU times: user 844 ms, sys: 0 ns, total: 844 ms\n",
      "Wall time: 843 ms\n"
     ]
    }
   ],
   "source": [
    "%%time\n",
    "results = []\n",
    "for i in range(100):\n",
    "    seed, _seed = jax.random.split(seed)\n",
    "    x0 = jax.random.uniform(_seed, (pw.shape[1] + len(biomass_components), ))\n",
    "    soln = scipy.optimize.least_squares(fun=_jit, x0=x0, jac=_jac, bounds=(lb, ub))\n",
    "    results.append((x0, soln))"
   ]
  },
  {
   "cell_type": "code",
   "execution_count": 18,
   "id": "0e39b19d-0507-49eb-bdad-f1dea8cbfb5f",
   "metadata": {
    "tags": []
   },
   "outputs": [],
   "source": [
    "fluxes = []\n",
    "fractions = []\n",
    "for result in results:\n",
    "    soln = result[1]\n",
    "    fluxes.append(soln.x[:pw.shape[1]])\n",
    "    fractions.append(soln.x[pw.shape[1]:])\n",
    "fluxes_df = pd.DataFrame(fluxes, columns=[rxn.label for rxn in pw.reactions])\n",
    "fractions_df = pd.DataFrame(fractions, columns=[mol.label for mol in biomass_components])"
   ]
  },
  {
   "cell_type": "code",
   "execution_count": 19,
   "id": "872b95ff-0846-44a1-a125-205319e407c5",
   "metadata": {
    "tags": []
   },
   "outputs": [
    {
     "data": {
      "text/html": [
       "<div>\n",
       "<style scoped>\n",
       "    .dataframe tbody tr th:only-of-type {\n",
       "        vertical-align: middle;\n",
       "    }\n",
       "\n",
       "    .dataframe tbody tr th {\n",
       "        vertical-align: top;\n",
       "    }\n",
       "\n",
       "    .dataframe thead th {\n",
       "        text-align: right;\n",
       "    }\n",
       "</style>\n",
       "<table border=\"1\" class=\"dataframe\">\n",
       "  <thead>\n",
       "    <tr style=\"text-align: right;\">\n",
       "      <th></th>\n",
       "      <th>GAPDH</th>\n",
       "      <th>PGK</th>\n",
       "      <th>GPM</th>\n",
       "      <th>ENO</th>\n",
       "      <th>PDH</th>\n",
       "      <th>PYK</th>\n",
       "      <th>TPI</th>\n",
       "      <th>FBA</th>\n",
       "      <th>PFK</th>\n",
       "      <th>PGI</th>\n",
       "      <th>...</th>\n",
       "      <th>RPE</th>\n",
       "      <th>GlcPTS</th>\n",
       "      <th>PTA</th>\n",
       "      <th>ACK</th>\n",
       "      <th>TKT1</th>\n",
       "      <th>TALA</th>\n",
       "      <th>TKT2</th>\n",
       "      <th>ATPase</th>\n",
       "      <th>NADHox</th>\n",
       "      <th>NADPHox</th>\n",
       "    </tr>\n",
       "  </thead>\n",
       "  <tbody>\n",
       "    <tr>\n",
       "      <th>count</th>\n",
       "      <td>100.000000</td>\n",
       "      <td>100.000000</td>\n",
       "      <td>100.000000</td>\n",
       "      <td>100.000000</td>\n",
       "      <td>100.000000</td>\n",
       "      <td>100.000000</td>\n",
       "      <td>100.000000</td>\n",
       "      <td>100.000000</td>\n",
       "      <td>100.000000</td>\n",
       "      <td>100.000000</td>\n",
       "      <td>...</td>\n",
       "      <td>100.000000</td>\n",
       "      <td>1.000000e+02</td>\n",
       "      <td>100.000000</td>\n",
       "      <td>100.000000</td>\n",
       "      <td>100.000000</td>\n",
       "      <td>100.000000</td>\n",
       "      <td>100.000000</td>\n",
       "      <td>100.000000</td>\n",
       "      <td>100.000000</td>\n",
       "      <td>100.000000</td>\n",
       "    </tr>\n",
       "    <tr>\n",
       "      <th>mean</th>\n",
       "      <td>17.356406</td>\n",
       "      <td>-17.356406</td>\n",
       "      <td>-17.356406</td>\n",
       "      <td>17.356406</td>\n",
       "      <td>11.831342</td>\n",
       "      <td>-7.356406</td>\n",
       "      <td>-8.975397</td>\n",
       "      <td>8.975397</td>\n",
       "      <td>8.975397</td>\n",
       "      <td>9.406929</td>\n",
       "      <td>...</td>\n",
       "      <td>-0.431532</td>\n",
       "      <td>1.000000e+01</td>\n",
       "      <td>-0.000017</td>\n",
       "      <td>0.000008</td>\n",
       "      <td>-0.162857</td>\n",
       "      <td>0.162857</td>\n",
       "      <td>-0.594389</td>\n",
       "      <td>15.737407</td>\n",
       "      <td>29.187753</td>\n",
       "      <td>0.000042</td>\n",
       "    </tr>\n",
       "    <tr>\n",
       "      <th>std</th>\n",
       "      <td>0.000013</td>\n",
       "      <td>0.000013</td>\n",
       "      <td>0.000013</td>\n",
       "      <td>0.000013</td>\n",
       "      <td>0.000018</td>\n",
       "      <td>0.000013</td>\n",
       "      <td>0.000020</td>\n",
       "      <td>0.000020</td>\n",
       "      <td>0.000020</td>\n",
       "      <td>0.265847</td>\n",
       "      <td>...</td>\n",
       "      <td>0.265845</td>\n",
       "      <td>2.224814e-10</td>\n",
       "      <td>0.000007</td>\n",
       "      <td>0.000003</td>\n",
       "      <td>0.265843</td>\n",
       "      <td>0.265843</td>\n",
       "      <td>0.000026</td>\n",
       "      <td>0.000003</td>\n",
       "      <td>0.000003</td>\n",
       "      <td>0.000012</td>\n",
       "    </tr>\n",
       "    <tr>\n",
       "      <th>min</th>\n",
       "      <td>17.356382</td>\n",
       "      <td>-17.356433</td>\n",
       "      <td>-17.356433</td>\n",
       "      <td>17.356382</td>\n",
       "      <td>11.831306</td>\n",
       "      <td>-7.356433</td>\n",
       "      <td>-8.975437</td>\n",
       "      <td>8.975361</td>\n",
       "      <td>8.975361</td>\n",
       "      <td>9.272531</td>\n",
       "      <td>...</td>\n",
       "      <td>-1.024218</td>\n",
       "      <td>1.000000e+01</td>\n",
       "      <td>-0.000030</td>\n",
       "      <td>0.000002</td>\n",
       "      <td>-0.297246</td>\n",
       "      <td>-0.429834</td>\n",
       "      <td>-0.594441</td>\n",
       "      <td>15.737401</td>\n",
       "      <td>29.187746</td>\n",
       "      <td>0.000014</td>\n",
       "    </tr>\n",
       "    <tr>\n",
       "      <th>25%</th>\n",
       "      <td>17.356396</td>\n",
       "      <td>-17.356415</td>\n",
       "      <td>-17.356415</td>\n",
       "      <td>17.356396</td>\n",
       "      <td>11.831331</td>\n",
       "      <td>-7.356415</td>\n",
       "      <td>-8.975410</td>\n",
       "      <td>8.975382</td>\n",
       "      <td>8.975382</td>\n",
       "      <td>9.273927</td>\n",
       "      <td>...</td>\n",
       "      <td>-0.341339</td>\n",
       "      <td>1.000000e+01</td>\n",
       "      <td>-0.000021</td>\n",
       "      <td>0.000006</td>\n",
       "      <td>-0.295878</td>\n",
       "      <td>0.253051</td>\n",
       "      <td>-0.594406</td>\n",
       "      <td>15.737404</td>\n",
       "      <td>29.187751</td>\n",
       "      <td>0.000033</td>\n",
       "    </tr>\n",
       "    <tr>\n",
       "      <th>50%</th>\n",
       "      <td>17.356409</td>\n",
       "      <td>-17.356409</td>\n",
       "      <td>-17.356409</td>\n",
       "      <td>17.356409</td>\n",
       "      <td>11.831339</td>\n",
       "      <td>-7.356409</td>\n",
       "      <td>-8.975401</td>\n",
       "      <td>8.975401</td>\n",
       "      <td>8.975401</td>\n",
       "      <td>9.275057</td>\n",
       "      <td>...</td>\n",
       "      <td>-0.299663</td>\n",
       "      <td>1.000000e+01</td>\n",
       "      <td>-0.000018</td>\n",
       "      <td>0.000009</td>\n",
       "      <td>-0.294722</td>\n",
       "      <td>0.294722</td>\n",
       "      <td>-0.594393</td>\n",
       "      <td>15.737407</td>\n",
       "      <td>29.187752</td>\n",
       "      <td>0.000040</td>\n",
       "    </tr>\n",
       "    <tr>\n",
       "      <th>75%</th>\n",
       "      <td>17.356415</td>\n",
       "      <td>-17.356396</td>\n",
       "      <td>-17.356396</td>\n",
       "      <td>17.356415</td>\n",
       "      <td>11.831356</td>\n",
       "      <td>-7.356396</td>\n",
       "      <td>-8.975382</td>\n",
       "      <td>8.975410</td>\n",
       "      <td>8.975410</td>\n",
       "      <td>9.316738</td>\n",
       "      <td>...</td>\n",
       "      <td>-0.298521</td>\n",
       "      <td>1.000000e+01</td>\n",
       "      <td>-0.000012</td>\n",
       "      <td>0.000011</td>\n",
       "      <td>-0.253051</td>\n",
       "      <td>0.295878</td>\n",
       "      <td>-0.594369</td>\n",
       "      <td>15.737409</td>\n",
       "      <td>29.187755</td>\n",
       "      <td>0.000049</td>\n",
       "    </tr>\n",
       "    <tr>\n",
       "      <th>max</th>\n",
       "      <td>17.356433</td>\n",
       "      <td>-17.356382</td>\n",
       "      <td>-17.356382</td>\n",
       "      <td>17.356433</td>\n",
       "      <td>11.831376</td>\n",
       "      <td>-7.356382</td>\n",
       "      <td>-8.975361</td>\n",
       "      <td>8.975437</td>\n",
       "      <td>8.975437</td>\n",
       "      <td>9.999613</td>\n",
       "      <td>...</td>\n",
       "      <td>-0.297163</td>\n",
       "      <td>1.000000e+01</td>\n",
       "      <td>-0.000005</td>\n",
       "      <td>0.000015</td>\n",
       "      <td>0.429834</td>\n",
       "      <td>0.297246</td>\n",
       "      <td>-0.594340</td>\n",
       "      <td>15.737413</td>\n",
       "      <td>29.187759</td>\n",
       "      <td>0.000074</td>\n",
       "    </tr>\n",
       "  </tbody>\n",
       "</table>\n",
       "<p>8 rows × 24 columns</p>\n",
       "</div>"
      ],
      "text/plain": [
       "            GAPDH         PGK         GPM         ENO         PDH         PYK  \\\n",
       "count  100.000000  100.000000  100.000000  100.000000  100.000000  100.000000   \n",
       "mean    17.356406  -17.356406  -17.356406   17.356406   11.831342   -7.356406   \n",
       "std      0.000013    0.000013    0.000013    0.000013    0.000018    0.000013   \n",
       "min     17.356382  -17.356433  -17.356433   17.356382   11.831306   -7.356433   \n",
       "25%     17.356396  -17.356415  -17.356415   17.356396   11.831331   -7.356415   \n",
       "50%     17.356409  -17.356409  -17.356409   17.356409   11.831339   -7.356409   \n",
       "75%     17.356415  -17.356396  -17.356396   17.356415   11.831356   -7.356396   \n",
       "max     17.356433  -17.356382  -17.356382   17.356433   11.831376   -7.356382   \n",
       "\n",
       "              TPI         FBA         PFK         PGI  ...         RPE  \\\n",
       "count  100.000000  100.000000  100.000000  100.000000  ...  100.000000   \n",
       "mean    -8.975397    8.975397    8.975397    9.406929  ...   -0.431532   \n",
       "std      0.000020    0.000020    0.000020    0.265847  ...    0.265845   \n",
       "min     -8.975437    8.975361    8.975361    9.272531  ...   -1.024218   \n",
       "25%     -8.975410    8.975382    8.975382    9.273927  ...   -0.341339   \n",
       "50%     -8.975401    8.975401    8.975401    9.275057  ...   -0.299663   \n",
       "75%     -8.975382    8.975410    8.975410    9.316738  ...   -0.298521   \n",
       "max     -8.975361    8.975437    8.975437    9.999613  ...   -0.297163   \n",
       "\n",
       "             GlcPTS         PTA         ACK        TKT1        TALA  \\\n",
       "count  1.000000e+02  100.000000  100.000000  100.000000  100.000000   \n",
       "mean   1.000000e+01   -0.000017    0.000008   -0.162857    0.162857   \n",
       "std    2.224814e-10    0.000007    0.000003    0.265843    0.265843   \n",
       "min    1.000000e+01   -0.000030    0.000002   -0.297246   -0.429834   \n",
       "25%    1.000000e+01   -0.000021    0.000006   -0.295878    0.253051   \n",
       "50%    1.000000e+01   -0.000018    0.000009   -0.294722    0.294722   \n",
       "75%    1.000000e+01   -0.000012    0.000011   -0.253051    0.295878   \n",
       "max    1.000000e+01   -0.000005    0.000015    0.429834    0.297246   \n",
       "\n",
       "             TKT2      ATPase      NADHox     NADPHox  \n",
       "count  100.000000  100.000000  100.000000  100.000000  \n",
       "mean    -0.594389   15.737407   29.187753    0.000042  \n",
       "std      0.000026    0.000003    0.000003    0.000012  \n",
       "min     -0.594441   15.737401   29.187746    0.000014  \n",
       "25%     -0.594406   15.737404   29.187751    0.000033  \n",
       "50%     -0.594393   15.737407   29.187752    0.000040  \n",
       "75%     -0.594369   15.737409   29.187755    0.000049  \n",
       "max     -0.594340   15.737413   29.187759    0.000074  \n",
       "\n",
       "[8 rows x 24 columns]"
      ]
     },
     "execution_count": 19,
     "metadata": {},
     "output_type": "execute_result"
    }
   ],
   "source": [
    "fluxes_df.describe()"
   ]
  },
  {
   "cell_type": "code",
   "execution_count": 20,
   "id": "e02df0cb-44ca-498b-a5f5-fbf0e052f20c",
   "metadata": {
    "tags": []
   },
   "outputs": [
    {
     "data": {
      "text/html": [
       "<div>\n",
       "<style scoped>\n",
       "    .dataframe tbody tr th:only-of-type {\n",
       "        vertical-align: middle;\n",
       "    }\n",
       "\n",
       "    .dataframe tbody tr th {\n",
       "        vertical-align: top;\n",
       "    }\n",
       "\n",
       "    .dataframe thead th {\n",
       "        text-align: right;\n",
       "    }\n",
       "</style>\n",
       "<table border=\"1\" class=\"dataframe\">\n",
       "  <thead>\n",
       "    <tr style=\"text-align: right;\">\n",
       "      <th></th>\n",
       "      <th>G6P</th>\n",
       "      <th>E4P</th>\n",
       "      <th>R5P</th>\n",
       "      <th>pyr</th>\n",
       "      <th>acCoA</th>\n",
       "    </tr>\n",
       "  </thead>\n",
       "  <tbody>\n",
       "    <tr>\n",
       "      <th>count</th>\n",
       "      <td>100.000000</td>\n",
       "      <td>100.000000</td>\n",
       "      <td>1.000000e+02</td>\n",
       "      <td>100.000000</td>\n",
       "      <td>100.000000</td>\n",
       "    </tr>\n",
       "    <tr>\n",
       "      <th>mean</th>\n",
       "      <td>0.538857</td>\n",
       "      <td>0.688033</td>\n",
       "      <td>2.441676e-01</td>\n",
       "      <td>5.020073</td>\n",
       "      <td>10.749973</td>\n",
       "    </tr>\n",
       "    <tr>\n",
       "      <th>std</th>\n",
       "      <td>0.241547</td>\n",
       "      <td>0.241543</td>\n",
       "      <td>4.830939e-01</td>\n",
       "      <td>0.000028</td>\n",
       "      <td>0.000010</td>\n",
       "    </tr>\n",
       "    <tr>\n",
       "      <th>min</th>\n",
       "      <td>0.000346</td>\n",
       "      <td>0.149510</td>\n",
       "      <td>3.146486e-07</td>\n",
       "      <td>5.020021</td>\n",
       "      <td>10.749952</td>\n",
       "    </tr>\n",
       "    <tr>\n",
       "      <th>25%</th>\n",
       "      <td>0.620811</td>\n",
       "      <td>0.769984</td>\n",
       "      <td>2.459244e-03</td>\n",
       "      <td>5.020051</td>\n",
       "      <td>10.749966</td>\n",
       "    </tr>\n",
       "    <tr>\n",
       "      <th>50%</th>\n",
       "      <td>0.658663</td>\n",
       "      <td>0.807822</td>\n",
       "      <td>4.535965e-03</td>\n",
       "      <td>5.020078</td>\n",
       "      <td>10.749971</td>\n",
       "    </tr>\n",
       "    <tr>\n",
       "      <th>75%</th>\n",
       "      <td>0.659699</td>\n",
       "      <td>0.808906</td>\n",
       "      <td>8.026996e-02</td>\n",
       "      <td>5.020091</td>\n",
       "      <td>10.749981</td>\n",
       "    </tr>\n",
       "    <tr>\n",
       "      <th>max</th>\n",
       "      <td>0.660973</td>\n",
       "      <td>0.810175</td>\n",
       "      <td>1.321199e+00</td>\n",
       "      <td>5.020130</td>\n",
       "      <td>10.749992</td>\n",
       "    </tr>\n",
       "  </tbody>\n",
       "</table>\n",
       "</div>"
      ],
      "text/plain": [
       "              G6P         E4P           R5P         pyr       acCoA\n",
       "count  100.000000  100.000000  1.000000e+02  100.000000  100.000000\n",
       "mean     0.538857    0.688033  2.441676e-01    5.020073   10.749973\n",
       "std      0.241547    0.241543  4.830939e-01    0.000028    0.000010\n",
       "min      0.000346    0.149510  3.146486e-07    5.020021   10.749952\n",
       "25%      0.620811    0.769984  2.459244e-03    5.020051   10.749966\n",
       "50%      0.658663    0.807822  4.535965e-03    5.020078   10.749971\n",
       "75%      0.659699    0.808906  8.026996e-02    5.020091   10.749981\n",
       "max      0.660973    0.810175  1.321199e+00    5.020130   10.749992"
      ]
     },
     "execution_count": 20,
     "metadata": {},
     "output_type": "execute_result"
    }
   ],
   "source": [
    "fractions_df.describe()"
   ]
  },
  {
   "cell_type": "markdown",
   "id": "1b4f1481-fd5d-4496-93ac-b970c47522b7",
   "metadata": {},
   "source": [
    "!!!"
   ]
  },
  {
   "cell_type": "code",
   "execution_count": 21,
   "id": "ca56d928-a8eb-4c43-b879-b78b7c770e17",
   "metadata": {
    "tags": []
   },
   "outputs": [
    {
     "data": {
      "image/png": "[encoded data removed]",
      "text/plain": [
       "<Figure size 640x480 with 1 Axes>"
      ]
     },
     "metadata": {},
     "output_type": "display_data"
    }
   ],
   "source": [
    "fig, ax = plt.subplots()\n",
    "fractions_df.boxplot(ax=ax)\n",
    "ax.set_yscale('log')\n",
    "ax.set_ylabel('Biomass demand')\n",
    "display(fig)\n",
    "plt.close(fig)"
   ]
  },
  {
   "cell_type": "markdown",
   "id": "1d20b1af-ac11-4541-af43-27bc8308d8fd",
   "metadata": {},
   "source": [
    "### Bonus: use thermodynamics to determine reaction direction\n",
    "- ΔG0 by reaction\n",
    "- Metabolite concentrations from Rabinowitz, as ln\n",
    "- ΔG = ΔG0 + RT ln Q = ΔG0 + RT * s_matrix.T @ ln_concs\n",
    "- Penalize (flux * ΔG) > 0; also penalize changes to ln_conc (proportional to uncertainty?)\n",
    "- Optimize \\<flux\\>\\<ln_conc\\>"
   ]
  },
  {
   "cell_type": "code",
   "execution_count": 22,
   "id": "7afde9f3-04d5-4247-b90e-71f11b481001",
   "metadata": {
    "tags": []
   },
   "outputs": [],
   "source": [
    "from mosmo.knowledge.thermo import Thermodynamics\n",
    "thermo = Thermodynamics(p_h=7.3, p_mg=1.5, ionic_strength=0.25, temperature=298.15)\n",
    "\n",
    "# Concentrations in mM, taken (mostly) from Rabinowitz (2016)\n",
    "concs = {KB(met_id): conc/1000 for met_id, conc in [\n",
    "    ('2pg', 9.18e-02),\n",
    "    ('6pg', 3.77),\n",
    "    ('6pgdl', 1.), # Not provided; reasonable guess\n",
    "    ('Ery.D.4P', 4.90e-02),\n",
    "    ('Fru.D.6P', 2.52),\n",
    "    ('Fru.D.bis16', 15.2),\n",
    "    ('Glc.D.ext', 10.),  # Arbitrary; environment\n",
    "    ('Glc.D.6P', 7.88),\n",
    "    ('Rib.D.5P', 7.87e-01),\n",
    "    ('Sed.D.7P', 8.82e-01),\n",
    "    ('Xul.D.5P', 1.81e-01),\n",
    "    ('ac', 1e-2),\n",
    "    ('ac.P', 1.07E-03),\n",
    "    ('accoa', 6.06e-01),\n",
    "    ('adp', 5.55e-01),\n",
    "    ('amp', 2.81e-01),\n",
    "    ('atp', 9.63),\n",
    "    ('co2', 7.52e-02),\n",
    "    ('coa', 1.37),\n",
    "    ('dpg', 1.65e-02),\n",
    "    ('nad.ox', 2.55),\n",
    "    ('nad.red', 8.36e-02),\n",
    "    ('nadp.ox', 2.08e-03),\n",
    "    ('nadp.red', 1.21e-01),\n",
    "    ('pep', 1.84e-01),\n",
    "    ('pi', 23.9),\n",
    "    ('pyr', 3.66),\n",
    "\n",
    "    # Forcing H+ and water to activity = 1.0 excludes them from reaction quotient, to make calculations consistent with eQuilibrator.\n",
    "    # ('h+', pow(10, -7.3)),\n",
    "    ('h+', 1000),\n",
    "    ('h2o', 1000),\n",
    "    ('e-', 1000),\n",
    "\n",
    "    # Reported values, though they lead to inconsistent thermodynamic reaction directions\n",
    "    ('3pg', 1.54),\n",
    "    ('dhap', 3.06),\n",
    "    ('gap', 2.71e-01),\n",
    "    ('Rul.D.5P', 1.12e-01),\n",
    "]}\n",
    "\n",
    "dgr0 = pw.reactions.pack({rxn: thermo.reaction_delta_g(rxn) for rxn in pw.reactions})\n",
    "dgr_ref = pw.reactions.pack({rxn: thermo.reaction_delta_g(rxn, concs) for rxn in pw.reactions})\n",
    "ln_conc_ref = np.log(pw.molecules.pack(concs))\n",
    "RT = thermo.cc.RT.magnitude"
   ]
  },
  {
   "cell_type": "code",
   "execution_count": 23,
   "id": "b2c12034-11ad-4785-aa88-62dd040e0ecc",
   "metadata": {},
   "outputs": [],
   "source": [
    "ignore = {KB('h+'), KB('h2o'), KB('e-')}\n",
    "qmask = jnp.array([0 if reactant in ignore else 1 for reactant in pw.molecules])\n",
    "qmatrix = pw.s_matrix.T * qmask\n",
    "\n",
    "def calc_dgr(ln_conc):\n",
    "    return dgr0 + RT * (qmatrix @ ln_conc)\n",
    "\n",
    "def thermo_violation(fluxv, ln_conc):\n",
    "    return jnp.maximum(0, fluxv * calc_dgr(ln_conc))"
   ]
  },
  {
   "cell_type": "markdown",
   "id": "825db537-060a-45f3-9cbc-5b2ec445b5f2",
   "metadata": {},
   "source": [
    "### Start by _just_ optimizing metabolite concentrations given invariant flux vector"
   ]
  },
  {
   "cell_type": "code",
   "execution_count": 24,
   "id": "5e10d29c-d78c-4c0d-85ad-af152f6f8e33",
   "metadata": {
    "tags": []
   },
   "outputs": [],
   "source": [
    "def observed_concs(ln_conc):\n",
    "    return ln_conc - ln_conc_ref\n",
    "\n",
    "fluxv = fba_soln.velocities\n",
    "def fun(x, conc_weight=1.0):\n",
    "    return jnp.concatenate([thermo_violation(fluxv, x), conc_weight * observed_concs(x)])\n",
    "\n",
    "_jit = jax.jit(fun, static_argnums=(1,))\n",
    "_jac = jax.jit(jax.jacfwd(fun), static_argnums=(1,))"
   ]
  },
  {
   "cell_type": "code",
   "execution_count": 25,
   "id": "7536b5e2-f033-4bb3-a907-1314abef6bd6",
   "metadata": {
    "tags": []
   },
   "outputs": [
    {
     "data": {
      "text/plain": [
       "     message: `gtol` termination condition is satisfied.\n",
       "     success: True\n",
       "      status: 1\n",
       "         fun: [ 0.000e+00  4.131e-04 ... -5.381e-02  0.000e+00]\n",
       "           x: [-8.830e+00 -5.972e+00 ... -9.977e+00  0.000e+00]\n",
       "        cost: 0.5588118249993124\n",
       "         jac: [[-0.000e+00 -0.000e+00 ...  0.000e+00  0.000e+00]\n",
       "               [-0.000e+00 -0.000e+00 ... -0.000e+00 -0.000e+00]\n",
       "               ...\n",
       "               [ 0.000e+00  0.000e+00 ...  1.000e+00  0.000e+00]\n",
       "               [ 0.000e+00  0.000e+00 ...  0.000e+00  1.000e+00]]\n",
       "        grad: [-6.911e-13  0.000e+00 ...  7.841e-16  0.000e+00]\n",
       "  optimality: 6.911138328291599e-13\n",
       " active_mask: [ 0.000e+00  0.000e+00 ...  0.000e+00  0.000e+00]\n",
       "        nfev: 2\n",
       "        njev: 2"
      ]
     },
     "execution_count": 25,
     "metadata": {},
     "output_type": "execute_result"
    }
   ],
   "source": [
    "dg_soln = scipy.optimize.least_squares(fun=_jit, x0=ln_conc_ref, jac=_jac)\n",
    "dg_soln"
   ]
  },
  {
   "cell_type": "code",
   "execution_count": 26,
   "id": "ff72a968-ac3a-4645-91d2-454cd067911d",
   "metadata": {
    "tags": []
   },
   "outputs": [
    {
     "name": "stdout",
     "output_type": "stream",
     "text": [
      "2.71e-04 => 1.46e-04   D-glyceraldehyde 3-phosphate\n",
      "2.55e-03 => 2.55e-03   NAD+\n",
      "2.39e-02 => 2.39e-02   phosphate\n",
      "1.65e-05 => 1.68e-05   1,3-bisphospho-D-glycerate\n",
      "1.00e+00 => 1.00e+00   proton\n",
      "8.36e-05 => 8.36e-05   NADH\n",
      "1.54e-03 => 1.52e-03   3-phospho-D-glycerate\n",
      "9.63e-03 => 9.48e-03   adenosine triphosphate\n",
      "5.55e-04 => 5.64e-04   adenosine diphosphate\n",
      "9.18e-05 => 9.18e-05   2-phospho-D-glycerate\n",
      "1.00e+00 => 1.00e+00   water\n",
      "1.84e-04 => 1.84e-04   phosphoenolpyruvate\n",
      "1.37e-03 => 1.37e-03   coenzyme A\n",
      "3.66e-03 => 3.66e-03   pyruvate\n",
      "6.06e-04 => 6.06e-04   acetyl-CoA\n",
      "7.52e-05 => 7.52e-05   carbon dioxide\n",
      "3.06e-03 => 2.08e-03   glycerone phosphate\n",
      "1.52e-02 => 2.58e-02   D-fructose 1,6-bisphosphate\n",
      "2.52e-03 => 2.66e-03   D-fructose 6-phosphate\n",
      "7.88e-03 => 7.88e-03   D-glucose 6-phosphate\n",
      "7.87e-04 => 5.76e-04   D-ribose 5-phosphate\n",
      "1.12e-04 => 1.53e-04   D-ribulose 5-phosphate\n",
      "1.00e-03 => 1.00e-03   6-phosphogluconolactone\n",
      "3.77e-03 => 3.77e-03   6-phosphogluconate\n",
      "2.08e-06 => 2.08e-06   NADP+\n",
      "1.21e-04 => 1.21e-04   NADPH\n",
      "1.81e-04 => 1.72e-04   D-xylulose 5-phosphate\n",
      "1.00e-02 => 1.00e-02   D-glucose (external)\n",
      "1.07e-06 => 1.07e-06   acetyl phosphate\n",
      "1.00e-05 => 1.00e-05   acetate\n",
      "8.82e-04 => 8.82e-04   D-sedoheptulose 7-phosphate\n",
      "4.90e-05 => 4.64e-05   D-erythrose 4-phosphate\n",
      "1.00e+00 => 1.00e+00   electron\n"
     ]
    }
   ],
   "source": [
    "for mol, old_conc, new_conc in zip(pw.molecules, np.exp(ln_conc_ref), np.exp(dg_soln.x)):\n",
    "    print(f\"{old_conc:.2e} => {new_conc:.2e}   {mol.name}\")"
   ]
  },
  {
   "cell_type": "markdown",
   "id": "5bd77ae5-89b6-46ca-a2e0-d93e360db620",
   "metadata": {},
   "source": [
    "### Next, optimize flux and concentrations together given the original constraints\n",
    "- variable vector is \\<fluxes\\>\\<ln_conc\\>"
   ]
  },
  {
   "cell_type": "code",
   "execution_count": 27,
   "id": "a013d5e6-9af6-4700-8171-b9aacf6a8a9f",
   "metadata": {
    "tags": []
   },
   "outputs": [],
   "source": [
    "# Don't get too clever on regeneralizing just yet.\n",
    "objectives = {\n",
    "    'steady-state': ss_objective,\n",
    "    'growth': growth_objective,\n",
    "    'uptake': uptake_objective,\n",
    "}\n",
    "\n",
    "def fun(x):\n",
    "    v = x[:pw.shape[1]]\n",
    "    ln_conc = x[-pw.shape[0]:]\n",
    "    dmdt = pw.s_matrix @ v\n",
    "    residuals = []\n",
    "    for objective in objectives.values():\n",
    "        residuals.append(objective.residual(v, dmdt, objective.params()))\n",
    "    residuals.append(thermo_violation(v, ln_conc))\n",
    "    residuals.append(observed_concs(ln_conc))\n",
    "    \n",
    "    return jnp.concatenate(residuals)\n",
    "                         \n",
    "_jit = jax.jit(fun)\n",
    "_jac = jax.jit(jax.jacfwd(fun))\n",
    "\n",
    "\n",
    "# Solve least squares on combined residual\n",
    "seed, _seed = jax.random.split(seed)\n",
    "x0 = jax.random.normal(_seed, (pw.shape[1] + pw.shape[0],))\n",
    "\n",
    "soln = scipy.optimize.least_squares(fun=_jit, x0=x0, jac=_jac)\n"
   ]
  },
  {
   "cell_type": "code",
   "execution_count": 28,
   "id": "fee930ef-5c54-41e9-95da-145c4ce6297c",
   "metadata": {
    "tags": []
   },
   "outputs": [
    {
     "name": "stdout",
     "output_type": "stream",
     "text": [
      "2.71e-04 => 1.45e-04   D-glyceraldehyde 3-phosphate\n",
      "2.55e-03 => 2.55e-03   NAD+\n",
      "2.39e-02 => 2.39e-02   phosphate\n",
      "1.65e-05 => 1.68e-05   1,3-bisphospho-D-glycerate\n",
      "1.00e+00 => 1.00e+00   proton\n",
      "8.36e-05 => 8.36e-05   NADH\n",
      "1.54e-03 => 1.52e-03   3-phospho-D-glycerate\n",
      "9.63e-03 => 9.48e-03   adenosine triphosphate\n",
      "5.55e-04 => 5.64e-04   adenosine diphosphate\n",
      "9.18e-05 => 9.18e-05   2-phospho-D-glycerate\n",
      "1.00e+00 => 1.00e+00   water\n",
      "1.84e-04 => 1.84e-04   phosphoenolpyruvate\n",
      "1.37e-03 => 1.37e-03   coenzyme A\n",
      "3.66e-03 => 3.66e-03   pyruvate\n",
      "6.06e-04 => 6.06e-04   acetyl-CoA\n",
      "7.52e-05 => 7.52e-05   carbon dioxide\n",
      "3.06e-03 => 2.06e-03   glycerone phosphate\n",
      "1.52e-02 => 2.53e-02   D-fructose 1,6-bisphosphate\n",
      "2.52e-03 => 2.52e-03   D-fructose 6-phosphate\n",
      "7.88e-03 => 7.88e-03   D-glucose 6-phosphate\n",
      "7.87e-04 => 5.75e-04   D-ribose 5-phosphate\n",
      "1.12e-04 => 1.53e-04   D-ribulose 5-phosphate\n",
      "1.00e-03 => 1.00e-03   6-phosphogluconolactone\n",
      "3.77e-03 => 3.77e-03   6-phosphogluconate\n",
      "2.08e-06 => 2.08e-06   NADP+\n",
      "1.21e-04 => 1.21e-04   NADPH\n",
      "1.81e-04 => 1.81e-04   D-xylulose 5-phosphate\n",
      "1.00e-02 => 1.00e-02   D-glucose (external)\n",
      "1.07e-06 => 1.07e-06   acetyl phosphate\n",
      "1.00e-05 => 1.00e-05   acetate\n",
      "8.82e-04 => 8.82e-04   D-sedoheptulose 7-phosphate\n",
      "4.90e-05 => 4.90e-05   D-erythrose 4-phosphate\n",
      "1.00e+00 => 1.00e+00   electron\n",
      "\n"
     ]
    },
    {
     "data": {
      "application/vnd.jupyter.widget-view+json": {
       "model_id": "0049611e3fbb4e53b6b033578d7f2284",
       "version_major": 2,
       "version_minor": 0
      },
      "text/plain": [
       "HBox(children=(VBox(children=(Label(value='Growth rate: 1.10e+00'), Label(value='Steady state (RMS): 1.38e-02'…"
      ]
     },
     "execution_count": 28,
     "metadata": {},
     "output_type": "execute_result"
    }
   ],
   "source": [
    "for mol, old_conc, new_conc in zip(pw.molecules, np.exp(ln_conc_ref), np.exp(soln.x[pw.shape[1]:])):\n",
    "    print(f\"{old_conc:.2e} => {new_conc:.2e}   {mol.name}\")\n",
    "print()\n",
    "report(growth_objective.growth_rate, soln.x[:pw.shape[1]], pw.s_matrix @ soln.x[:pw.shape[1]])"
   ]
  }
 ],
 "metadata": {
  "kernelspec": {
   "display_name": "Python 3 (ipykernel)",
   "language": "python",
   "name": "python3"
  },
  "language_info": {
   "codemirror_mode": {
    "name": "ipython",
    "version": 3
   },
   "file_extension": ".py",
   "mimetype": "text/x-python",
   "name": "python",
   "nbconvert_exporter": "python",
   "pygments_lexer": "ipython3",
   "version": "3.11.2"
  }
 },
 "nbformat": 4,
 "nbformat_minor": 5
}
