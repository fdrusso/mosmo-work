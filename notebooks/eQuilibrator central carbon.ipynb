{
 "cells": [
  {
   "cell_type": "code",
   "execution_count": 1,
   "id": "17934b08-6cba-410f-962f-846178b310b1",
   "metadata": {
    "jupyter": {
     "source_hidden": true
    },
    "tags": []
   },
   "outputs": [],
   "source": [
    "import collections\n",
    "import copy\n",
    "from importlib.resources import files\n",
    "\n",
    "import equilibrator_api\n",
    "import ipywidgets as widgets\n",
    "import json\n",
    "import matplotlib.pyplot as plt\n",
    "import numpy as np\n",
    "import pandas as pd\n",
    "from IPython.display import HTML, JSON, SVG, display\n",
    "\n",
    "from mosmo.knowledge import kb\n",
    "from mosmo.model import DS, KbEntry, DbXref, Molecule, Reaction, ReactionNetwork\n",
    "from mosmo.preso.escher import escher_map, escher_model, pw as pw_files\n",
    "\n",
    "KB = kb.configure_kb()\n",
    "\n",
    "def kbm(mol_id):\n",
    "    return KB.get(KB.compounds, mol_id)\n",
    "\n",
    "def kbr(rxn_id):\n",
    "    return KB.get(KB.reactions, rxn_id)\n",
    "\n",
    "def reaction_formula(reaction):\n",
    "    def reactant_term(reactant, count):\n",
    "        label = reactant.label\n",
    "        count = abs(count)\n",
    "        if count == 1:\n",
    "            return label\n",
    "        else:\n",
    "            return f'{count} {label}'\n",
    "    \n",
    "    lhs = [reactant_term(reactant, count) for reactant, count in reaction.stoichiometry.items() if count < 0]\n",
    "    rhs = [reactant_term(reactant, count) for reactant, count in reaction.stoichiometry.items() if count > 0]\n",
    "    \n",
    "    arrow = ' <=> ' if reaction.reversible else ' => '\n",
    "    \n",
    "    return ' + '.join(lhs) + arrow + ' + '.join(rhs)\n",
    "\n",
    "def mode_formula(network, mode):\n",
    "    parts = []\n",
    "    for reaction, coeff in zip(network.reactions.labels(), mode):\n",
    "        if coeff == -1:\n",
    "            parts.append('-')\n",
    "        elif coeff < 0:\n",
    "            parts.append(f'- {-coeff}')\n",
    "        elif coeff == 1:\n",
    "            if parts:\n",
    "                parts.append('+')\n",
    "        elif coeff > 0:\n",
    "            if parts:\n",
    "                parts.append(f'+ {coeff}')\n",
    "            else:\n",
    "                parts.append(f'{coeff}')\n",
    "        \n",
    "        if coeff:\n",
    "            parts.append(reaction)\n",
    "    \n",
    "    return ' '.join(parts)\n",
    "\n",
    "cc = equilibrator_api.ComponentContribution()\n",
    "Q_ = equilibrator_api.Q_\n",
    "cc.p_h = Q_(7.3)\n",
    "cc.p_mg = Q_(1.5)\n",
    "cc.ionic_strength = Q_(\"0.25M\")\n",
    "cc.temperature = Q_(\"298.15K\")\n",
    "\n",
    "def find_cc_met(met):\n",
    "    if met.xrefs:\n",
    "        for xref in met.xrefs:\n",
    "            if xref.db == DS.KEGG:\n",
    "                return cc.get_compound(f'KEGG:{xref.id}')\n",
    "    return None\n"
   ]
  },
  {
   "cell_type": "code",
   "execution_count": 2,
   "id": "27f1a320-29ce-4318-b27b-cf6986dc664c",
   "metadata": {
    "tags": []
   },
   "outputs": [],
   "source": [
    "glycolysis = KB.find(KB.pathways, 'glycolysis')[0]\n",
    "tca = KB.find(KB.pathways, 'TCA')[0]\n",
    "ppp = KB.find(KB.pathways, 'pentose phosphate')[0]\n",
    "glx_shunt = KB.find(KB.pathways, 'glyoxylate shunt')[0]\n",
    "ent_dou = KB.find(KB.pathways, 'entner-doudoroff')[0]"
   ]
  },
  {
   "cell_type": "markdown",
   "id": "8460f44b-f5cf-44d7-9c78-02a73c02486a",
   "metadata": {},
   "source": [
    "## Compare reaction $\\Delta{G}^{\\circ}_r$ values to eQuilibrator site"
   ]
  },
  {
   "cell_type": "code",
   "execution_count": 3,
   "id": "a29e4904-9102-4eec-b3b9-8574149a5755",
   "metadata": {
    "tags": []
   },
   "outputs": [
    {
     "name": "stdout",
     "output_type": "stream",
     "text": [
      "[pgi] Glucose-6-phosphate Isomerase\n",
      "ΔG = (-0.0 +/- 0.4) kilojoule / mole\n",
      "    -1 -1763.82 [   152] [Glc.D.6P] D-glucose 6-phosphate\n",
      "    +1 -1760.88 [125172] [Fru.D.6P] D-fructose 6-phosphate\n",
      "\n",
      "[pfk] 6-phosphofructokinase\n",
      "ΔG = (-16.2 +/- 0.7) kilojoule / mole\n",
      "    -1 -2811.58 [     6] [atp] adenosine 5'-triphosphate\n",
      "    -1 -1760.88 [125172] [Fru.D.6P] D-fructose 6-phosphate\n",
      "    +1 -1945.43 [    10] [adp] adenosine 5'-diphosphate\n",
      "    +1 -2598.86 [   396] [Fru.D.bis16] D-fructose 1,6-bisphosphate\n",
      "    +1     0.00 [     4] [h+] proton\n",
      "\n",
      "[fbp] Fuctose-bisphosphatase\n",
      "ΔG = (-14.0 +/- 0.7) kilojoule / mole\n",
      "    -1 -2598.86 [   396] [Fru.D.bis16] D-fructose 1,6-bisphosphate\n",
      "    -1  -238.14 [     5] [h2o] water\n",
      "    +1 -1760.88 [125172] [Fru.D.6P] D-fructose 6-phosphate\n",
      "    +1 -1095.21 [    12] [pi] phosphate\n",
      "\n",
      "[fba] Fructose-bisphosphate Aldolase\n",
      "ΔG = (28.1 +/- 0.5) kilojoule / mole\n",
      "    -1 -2598.86 [   396] [Fru.D.bis16] D-fructose 1,6-bisphosphate\n",
      "    +1 -1289.12 [    71] [gap] D-glyceraldehyde 3-phosphate\n",
      "    +1 -1294.71 [    74] [dhap] glycerone phosphate\n",
      "\n",
      "[tpi] Triose-phosphate Isomerase\n",
      "ΔG = (-6.6 +/- 0.5) kilojoule / mole\n",
      "    -1 -1289.12 [    71] [gap] D-glyceraldehyde 3-phosphate\n",
      "    +1 -1294.71 [    74] [dhap] glycerone phosphate\n",
      "\n",
      "[gapdh] Glyceraldehyde-3-phosphate Dehydrogenase\n",
      "ΔG = (1.8 +/- 0.4) kilojoule / mole\n",
      "    -1 -1289.12 [    71] [gap] D-glyceraldehyde 3-phosphate\n",
      "    -1 -2261.38 [    11] [nad.ox] NAD+\n",
      "    -1 -1095.21 [    12] [pi] phosphate\n",
      "    +1 -2354.62 [   248] [dpg] 1,3-bisphospho-D-glycerate\n",
      "    +1     0.00 [     4] [h+] proton\n",
      "    +1 -2236.55 [    13] [nad.red] NADH\n",
      "\n",
      "[pgk] Phosphoglycerate Kinase\n",
      "ΔG = (18.1 +/- 0.4) kilojoule / mole\n",
      "    -1 -1506.49 [   118] [3pg] 3-phospho-D-glycerate\n",
      "    -1 -2811.58 [     6] [atp] adenosine 5'-triphosphate\n",
      "    +1 -2354.62 [   248] [dpg] 1,3-bisphospho-D-glycerate\n",
      "    +1 -1945.43 [    10] [adp] adenosine 5'-diphosphate\n",
      "\n",
      "[gpm] Phosphoglycerate Mutase\n",
      "ΔG = (-3.0 +/- 0.4) kilojoule / mole\n",
      "    -1 -1501.82 [   261] [2pg] 2-phospho-D-glycerate\n",
      "    +1 -1506.49 [   118] [3pg] 3-phospho-D-glycerate\n",
      "\n",
      "[eno] Enolase\n",
      "ΔG = (-4.29 +/- 0.30) kilojoule / mole\n",
      "    -1 -1501.82 [   261] [2pg] 2-phospho-D-glycerate\n",
      "    +1  -238.14 [     5] [h2o] water\n",
      "    +1 -1267.38 [    70] [pep] phosphoenolpyruvate\n",
      "\n",
      "[pyk] Pyruvate Kinase\n",
      "ΔG = (27.2 +/- 0.4) kilojoule / mole\n",
      "    -1 -2811.58 [     6] [atp] adenosine 5'-triphosphate\n",
      "    -1  -467.91 [    25] [pyr] pyruvate\n",
      "    +1 -1945.43 [    10] [adp] adenosine 5'-diphosphate\n",
      "    +1     0.00 [     4] [h+] proton\n",
      "    +1 -1267.38 [    70] [pep] phosphoenolpyruvate\n",
      "\n",
      "[pps] Phosphoenolpyruvate Synthetase\n",
      "ΔG = (-0.8 +/- 0.5) kilojoule / mole\n",
      "    -1 -2811.58 [     6] [atp] adenosine 5'-triphosphate\n",
      "    -1  -238.14 [     5] [h2o] water\n",
      "    -1  -467.91 [    25] [pyr] pyruvate\n",
      "    +1 -1033.96 [    17] [amp] adenosine 5'-monophosphate\n",
      "    +1 -1095.21 [    12] [pi] phosphate\n",
      "    +1 -1267.38 [    70] [pep] phosphoenolpyruvate\n",
      "    +2     0.00 [     4] [h+] proton\n",
      "\n",
      "[pdh] Pyruvate Dehydrogenase\n",
      "ΔG = (-32.6 +/- 3.2) kilojoule / mole\n",
      "    -1 -3091.77 [    15] [coa] coenzyme A\n",
      "    -1 -2261.38 [    11] [nad.ox] NAD+\n",
      "    -1  -467.91 [    25] [pyr] pyruvate\n",
      "    +1 -3231.06 [    23] [accoa] acetyl-CoA\n",
      "    +1  -386.00 [    16] [co2] carbon dioxide\n",
      "    +1 -2236.55 [    13] [nad.red] NADH\n",
      "\n"
     ]
    }
   ],
   "source": [
    "cc.p_h = Q_(7.3)\n",
    "cc.p_mg = Q_(1.5)\n",
    "cc.ionic_strength = Q_(\"0.25M\")\n",
    "cc.temperature = Q_(\"298.15K\")\n",
    "\n",
    "for reaction in glycolysis.steps:\n",
    "    cc_mets = {}\n",
    "    for met, count in reaction.stoichiometry.items():\n",
    "        cc_met = find_cc_met(met)\n",
    "        cc_mets[met] = (cc_met, count)\n",
    "    \n",
    "    cc_rxn = equilibrator_api.Reaction({k: v for k, v in cc_mets.values()})\n",
    "    \n",
    "    print(f'[{reaction.id}] {reaction.name}')\n",
    "    print(f'ΔG = {cc.standard_dg_prime(cc_rxn)}')\n",
    "    for met, (cc_met, count) in cc_mets.items():\n",
    "        print(f'    {count:+2d} {(cc.standard_dg_formation(cc_met)[0] or 0.0):8.2f} [{cc_met.id:6d}] [{met.id}] {met.name}')\n",
    "    print()"
   ]
  },
  {
   "cell_type": "markdown",
   "id": "593848d9-e0bc-4983-95cd-f36967ef58cc",
   "metadata": {},
   "source": [
    "### TBD\n",
    "- CO2 vs CO2[tot], i.e. CO2 + HCO3- etc\n",
    "  - Could just add the reaction CO2 + H2O <=> CO2[tot]"
   ]
  },
  {
   "cell_type": "markdown",
   "id": "0e297e8c-232b-41b9-88c9-97f0d2976578",
   "metadata": {},
   "source": [
    "## State-dependent $\\Delta{G} = \\Delta{G^{\\circ}} + R T ln{Q}$"
   ]
  },
  {
   "cell_type": "code",
   "execution_count": 4,
   "id": "4ccfd4cf-14c1-4c24-8e35-429e447b2c10",
   "metadata": {
    "tags": []
   },
   "outputs": [],
   "source": [
    "# All taken from https://www.ncbi.nlm.nih.gov/pmc/articles/PMC4912430/, except where starred\n",
    "POOLS = {KB.get(KB.compounds, met_id): conc for met_id, conc in [\n",
    "    ('2pg', 9.18e-02),\n",
    "    ('3pg', 1.54),\n",
    "    ('6pg', 3.77),\n",
    "    ('6pgdl', 1.), # ************\n",
    "    ('Ery.D.4P', 4.90e-02),\n",
    "    ('Fru.D.6P', 2.52),\n",
    "    ('Fru.D.bis16', 15.2),\n",
    "    ('Glc.D.6P', 7.88),\n",
    "    ('Rib.D.5P', 7.87e-01),\n",
    "    ('Rul.D.5P', 1.12e-01),\n",
    "    ('Sed.D.7P', 8.82e-01),\n",
    "    ('Xul.D.5P', 1.81e-01),\n",
    "    ('accoa', 6.06e-01),\n",
    "    ('acon', 1.61e-02),\n",
    "    ('adp', 5.55e-01),\n",
    "    ('akg', 4.43e-01),\n",
    "    ('amp', 2.81e-01),\n",
    "    ('atp', 9.63),\n",
    "    ('cit', 1.96),\n",
    "    ('co2', 7.52e-02),\n",
    "    ('coa', 1.37),\n",
    "    ('dhap', 3.06),\n",
    "    ('dpg', 1.65e-02),\n",
    "    ('fum', 2.88e-01),\n",
    "    ('gap', 2.71e-01),\n",
    "    ('glx', 0.1),  # **********\n",
    "\n",
    "    # Exclude water and protons from ΔG calculations (justification??)\n",
    "    # ('h+', 1e-7),\n",
    "    # ('h2o', 55500),\n",
    "\n",
    "    ('icit', 3.67e-02),\n",
    "    ('kdpg', 0.01),  # **********\n",
    "    ('mal.L', 1.68),\n",
    "    ('nad.ox', 2.55),\n",
    "    ('nad.red', 8.36e-02),\n",
    "    ('nadp.ox', 2.08e-03),\n",
    "    ('nadp.red', 1.21e-01),\n",
    "    ('oaa', 4.87e-04),\n",
    "    ('pep', 1.84e-01),\n",
    "    ('pi', 23.9),\n",
    "    ('pyr', 3.66),\n",
    "    ('q.ox', 0.01),  # **********\n",
    "    ('q.red', 0.01),  # **********\n",
    "    ('succ', 5.69e-01),\n",
    "    ('succcoa', 2.33e-01),\n",
    "]}\n"
   ]
  },
  {
   "cell_type": "code",
   "execution_count": 5,
   "id": "7f9fc176-c5d2-4049-9a4f-9b494a42e29b",
   "metadata": {
    "tags": []
   },
   "outputs": [
    {
     "data": {
      "text/plain": [
       "{[Glc.D.6P] D-glucose 6-phosphate: -1,\n",
       " [atp] adenosine 5'-triphosphate: 1,\n",
       " [adp] adenosine 5'-diphosphate: -1,\n",
       " [h+] proton: 3,\n",
       " [nad.ox] NAD+: -2,\n",
       " [pi] phosphate: -2,\n",
       " [nad.red] NADH: 2,\n",
       " [h2o] water: 2,\n",
       " [pep] phosphoenolpyruvate: 2}"
      ]
     },
     "execution_count": 5,
     "metadata": {},
     "output_type": "execute_result"
    }
   ],
   "source": [
    "class NetReaction:\n",
    "    def __init__(self, reactions=None):\n",
    "        self.reactions = collections.defaultdict(int)\n",
    "        self._stoichiometry = collections.defaultdict(int)\n",
    "        if reactions is not None:\n",
    "            for reaction, multiplier in reactions:\n",
    "                self.add_reaction(reaction, multiplier)\n",
    "    \n",
    "    def add_reaction(self, reaction, multiplier):\n",
    "        for reactant, count in reaction.stoichiometry.items():\n",
    "            self._stoichiometry[reactant] += count * multiplier\n",
    "        self.reactions[reaction] += multiplier\n",
    "    \n",
    "    @property\n",
    "    def stoichiometry(self):\n",
    "        return {met: count for met, count in self._stoichiometry.items() if count != 0}\n",
    "\n",
    "\n",
    "glyco_mode = [\n",
    "    (KB.get(KB.reactions, 'pgi'), 1),\n",
    "    (KB.get(KB.reactions, 'pfk'), 1),\n",
    "    (KB.get(KB.reactions, 'fba'), 1),\n",
    "    (KB.get(KB.reactions, 'tpi'), -1),\n",
    "    (KB.get(KB.reactions, 'gapdh'), 2),\n",
    "    (KB.get(KB.reactions, 'pgk'), -2),\n",
    "    (KB.get(KB.reactions, 'gpm'), -2),\n",
    "    (KB.get(KB.reactions, 'eno'), 2),\n",
    "]\n",
    "\n",
    "glyco_net = NetReaction(glyco_mode)\n",
    "glyco_net.stoichiometry"
   ]
  },
  {
   "cell_type": "code",
   "execution_count": 6,
   "id": "1a17fd51-c789-4bdf-9df8-72a6202e1a3b",
   "metadata": {
    "tags": []
   },
   "outputs": [],
   "source": [
    "def calculate_dg(reaction, concs):\n",
    "    cc_stoich = {}\n",
    "    rxn_q = 1.0\n",
    "    for met, count in reaction.stoichiometry.items():\n",
    "        cc_stoich[find_cc_met(met)] = count\n",
    "        if met in concs:\n",
    "            # Concentrations are in mM, but ΔG is standardized on M\n",
    "            rxn_q = rxn_q * (concs[met] * 1e-3)**count\n",
    "\n",
    "    cc_rxn = equilibrator_api.Reaction(cc_stoich)\n",
    "    dg0 = cc.standard_dg_prime(cc_rxn)\n",
    "    dg = dg0 + cc.RT * np.log(rxn_q)\n",
    "    return dg0, dg\n",
    "\n",
    "coeffs = []\n",
    "dg0s = []\n",
    "dgs = []\n",
    "for reaction, coeff in glyco_mode:\n",
    "    coeffs.append(coeff)\n",
    "    dg0, dg = calculate_dg(reaction, POOLS)\n",
    "    # TODO: figure out pint (units) and uncertainties. For now, jump straight to the value\n",
    "    dg0s.append(dg0.magnitude.nominal_value)\n",
    "    dgs.append(dg.magnitude.nominal_value)\n",
    "\n",
    "coeffs = np.array(coeffs)\n",
    "dg0s = np.array(dg0s)\n",
    "dgs = np.array(dgs)"
   ]
  },
  {
   "cell_type": "markdown",
   "id": "44dd0672-f320-4434-9404-039985a895b8",
   "metadata": {},
   "source": [
    "**TODO**: figure out [pint](https://pint.readthedocs.io/en/stable/) (_i.e._ units) and [uncertainties](https://pythonhosted.org/uncertainties/) packages"
   ]
  },
  {
   "cell_type": "code",
   "execution_count": 7,
   "id": "dfc6d145-9dd7-4591-a007-f8e3e5f53b1e",
   "metadata": {
    "tags": []
   },
   "outputs": [
    {
     "data": {
      "image/png": "[encoded data removed]",
      "text/plain": [
       "<Figure size 800x400 with 1 Axes>"
      ]
     },
     "metadata": {},
     "output_type": "display_data"
    }
   ],
   "source": [
    "path0 = np.insert(np.cumsum(dg0s * coeffs), 0, 0)\n",
    "path = np.insert(np.cumsum(dgs * coeffs), 0, 0)\n",
    "\n",
    "fig, ax = plt.subplots(figsize=(8,4))\n",
    "ax.plot(path0, label='cumulative $\\Delta{G}^{\\circ}$')\n",
    "ax.plot(path, label='cumulative $\\Delta{G}$')\n",
    "ax.set_xticks(np.arange(len(glyco_mode)) + 0.5, (rxn.label for rxn, coeff in glyco_mode), rotation=45)\n",
    "ax.set_title('Thermodynamics of Textbook Glycolysis')\n",
    "ax.set_ylabel('kJ/mol')\n",
    "ax.legend()\n",
    "plt.show()"
   ]
  },
  {
   "cell_type": "markdown",
   "id": "00c3fe1b-9218-4134-b76d-2418d84856ec",
   "metadata": {},
   "source": [
    "- In isolation, FBA looks irreversible in the wrong direction, and PGK in the right one.\n",
    "- But considering metabolite concentrations, each is pretty close to equilibrium\n",
    "- Overall path is substantially downhill _under these conditions_\n"
   ]
  },
  {
   "cell_type": "markdown",
   "id": "3003ac00-2f39-4e37-8bd8-4a80bac00682",
   "metadata": {},
   "source": [
    "# Systematic Calculations (Glycolysis + PPP)"
   ]
  },
  {
   "cell_type": "code",
   "execution_count": 8,
   "id": "46052fea-4d42-44e9-a35b-0eb24101ab60",
   "metadata": {
    "tags": []
   },
   "outputs": [],
   "source": [
    "std_dg_r = {}\n",
    "for rxn in glycolysis.steps + tca.steps + ppp.steps + glx_shunt.steps + ent_dou.steps + [kbr(rxn_id) for rxn_id in ('ppc', 'ppck', 'mae.nad', 'mae.nadp')]:\n",
    "    cc_rxn = equilibrator_api.Reaction({find_cc_met(met): count for met, count in rxn.stoichiometry.items()})\n",
    "    std_dg_r[rxn] = cc.standard_dg_prime(cc_rxn)"
   ]
  },
  {
   "cell_type": "markdown",
   "id": "c1208b51-4061-47f6-bf70-9625038a5850",
   "metadata": {},
   "source": [
    "### Using matrix math:\n",
    "\n",
    "$\\Delta{G}_r = \\Delta{G}_r^\\circ + RT \\cdot ln{(\\frac{\\prod{c_p}}{\\prod{c_s}})}$\n",
    "\n",
    "$ = \\Delta{G}_r^\\circ + RT \\cdot (ln(\\prod{c_p})- ln(\\prod{c_s}))$\n",
    "\n",
    "$ = \\Delta{G}_r^\\circ + RT \\cdot \\sum\\limits_i{S_{i,r} ln (c_i)}$\n",
    "\n",
    "$\\vec{\\Delta{G}_r} = \\vec{\\Delta{G}^\\circ} + RT \\cdot (\\mathbf{S} \\cdot ln (\\vec{c}))$\n"
   ]
  },
  {
   "cell_type": "code",
   "execution_count": 9,
   "id": "0276bd22-c351-4057-9bda-d691a71b8365",
   "metadata": {
    "tags": []
   },
   "outputs": [
    {
     "name": "stdout",
     "output_type": "stream",
     "text": [
      "(26, 17)\n"
     ]
    },
    {
     "data": {
      "text/plain": [
       "PGI       -2.874524\n",
       "PFK      -18.795882\n",
       "FBP      -27.654230\n",
       "FBA        3.795067\n",
       "TPI       -0.574578\n",
       "GAPDH     -4.371253\n",
       "PGK       -0.159990\n",
       "GPM        4.000982\n",
       "ENO       -2.567201\n",
       "R5PI      -1.633633\n",
       "TKT1       1.166628\n",
       "RPE       -2.273729\n",
       "PGLase   -22.528238\n",
       "PGLDH    -11.504466\n",
       "TALA      -6.467252\n",
       "TKT2      -3.183528\n",
       "G6PDH     -0.952827\n",
       "dtype: float64"
      ]
     },
     "execution_count": 9,
     "metadata": {},
     "output_type": "execute_result"
    }
   ],
   "source": [
    "network = ReactionNetwork(r for r in glycolysis.steps + ppp.steps if r.id not in ('pyk', 'pps', 'pdh'))\n",
    "print(network.s_matrix.shape)\n",
    "\n",
    "dg0 = np.array([std_dg_r[rxn].magnitude.nominal_value for rxn in network.reactions])\n",
    "ln_conc = np.log(np.array([POOLS.get(met, 1e3) * 1e-3 for met in network.reactants]))\n",
    "dg = dg0 + cc.RT.magnitude * network.s_matrix.T @ ln_conc\n",
    "\n",
    "pd.Series(dg, index=network.reactions.labels())"
   ]
  },
  {
   "cell_type": "markdown",
   "id": "16664a77-01f9-4694-9ad7-97a14e94d125",
   "metadata": {},
   "source": [
    "## Thermodynamics of Elementary Modes"
   ]
  },
  {
   "cell_type": "code",
   "execution_count": 10,
   "id": "38513108-ed9a-4bb9-a738-b343ea4972b4",
   "metadata": {
    "jupyter": {
     "source_hidden": true
    },
    "tags": []
   },
   "outputs": [],
   "source": [
    "def build_internal_system(network, bounds):\n",
    "    \"\"\"Returns S matrix with rows for internal (non-bounds) metabolites only.\"\"\"\n",
    "    intermediates = [met not in bounds for met in network.reactants]\n",
    "    return network.s_matrix[intermediates].astype(int)\n",
    "\n",
    "def sort_tableau(tableau, j):\n",
    "    # Existing modes that already satisfy steady state j will be part of the next tableau. Others will either be merged or dropped.\n",
    "    elementary = []\n",
    "    pending = []\n",
    "    for mode, reversible, zeros in tableau:\n",
    "        if mode[j] == 0:\n",
    "            elementary.append((mode, reversible, zeros))\n",
    "        else:\n",
    "            pending.append((mode, reversible, zeros))\n",
    "    return elementary, pending\n",
    "\n",
    "def generate_candidates(pending, j):\n",
    "    # All pending mode pairs are merge candidates, unless they violate irreversibility.\n",
    "    candidates = []\n",
    "    for i, (mode_i, reversible_i, zeros_i) in enumerate(pending):\n",
    "        for mode_m, reversible_m, zeros_m in pending[i+1:]:\n",
    "            # Put a reversible mode second if possible, so we can always multiply the first by a positive number\n",
    "            if reversible_m:\n",
    "                candidates.append((mode_i, mode_m, reversible_i and reversible_m, zeros_i & zeros_m))\n",
    "            elif reversible_i:\n",
    "                candidates.append((mode_m, mode_i, reversible_i and reversible_m, zeros_i & zeros_m))\n",
    "\n",
    "            # Otherwise we can still combine them, if they have opposite stoichiometry\n",
    "            elif mode_i[j] * mode_m[j] < 0:\n",
    "                candidates.append((mode_i, mode_m, False, zeros_i & zeros_m))\n",
    "    return candidates\n",
    "\n",
    "def merge_modes(mode_i, mode_m, reversible, j, num_rxns):\n",
    "    # All integer arithmetic. We want integer scaling in simplest form.\n",
    "    multiple = int(np.lcm(mode_i[j], mode_m[j]))\n",
    "    # scale_i is always positive\n",
    "    scale_i = int(multiple / abs(mode_i[j]))\n",
    "    # scale_m satisfies scale_i * mode_i[j] + scale_m * mode_m[j] = 0. \n",
    "    scale_m = -int(scale_i * mode_i[j] / mode_m[j])\n",
    "\n",
    "    # Combine modes, and reduce to simplest integers.\n",
    "    mode = scale_i * mode_i + scale_m * mode_m\n",
    "    mode = (mode / np.gcd.reduce(mode)).astype(int)\n",
    "    \n",
    "    # Determine the actual new zeros set on the moerged mode.\n",
    "    zeros = set(np.nonzero(mode[-num_rxns:] == 0)[0])\n",
    "    \n",
    "    # Mostly esthetic, but prefer original reaction direction for reversible modes\n",
    "    if reversible:\n",
    "        involved = num_rxns - len(zeros)\n",
    "        forward = np.nonzero(mode[-num_rxns:] > 0)[0].shape[0]\n",
    "        if forward * 2 < involved:\n",
    "            mode = -mode\n",
    "\n",
    "    return mode, reversible, zeros\n",
    "\n",
    "def process_candidates(candidates, modes, j, num_rxns):\n",
    "    # Compare candidates against all other elementary modes, based on the non-subset zeros test.\n",
    "    for i, (mode_i, mode_m, reversible, zeros) in enumerate(candidates):\n",
    "        passing = True\n",
    "        for _, _, other_zeros in modes:\n",
    "            if zeros <= other_zeros:  # subset or equal\n",
    "                # print(f'  {mode_i} + {mode_m} Fails because {zeros} <= {other_zeros}')\n",
    "                passing = False\n",
    "                break\n",
    "\n",
    "        # If the candidate survived, keep it. Other candidates must now compare against this new mode too.\n",
    "        if passing:\n",
    "            modes.append(merge_modes(mode_i, mode_m, reversible, j, num_rxns))\n",
    "    \n",
    "    return modes\n",
    "\n",
    "# def elementary_modes(network, bounds):\n",
    "def elementary_modes(s_matrix, reversibilities):\n",
    "    # tableau = init_tableau(network, bounds)\n",
    "    num_mets, num_rxns = s_matrix.shape\n",
    "    modes = list(np.concatenate([s_matrix, np.eye(num_rxns, dtype=int)]).T)\n",
    "    tableau = [(mode, reversible, set(np.nonzero(mode[-num_rxns:] == 0)[0]))\n",
    "                for mode, reversible in zip(modes, reversibilities)]\n",
    "\n",
    "    for j in range(num_mets):\n",
    "        modes, pending = sort_tableau(tableau, j)\n",
    "        candidates = generate_candidates(pending, j)\n",
    "        # TODO: optimization based on cardinality of merged zeros set, per Urbanczik & Wagner (2004)?\n",
    "        \n",
    "        tableau = process_candidates(candidates, modes, j, num_rxns)\n",
    "        \n",
    "    modes = []\n",
    "    rev = []\n",
    "    for mode, reversible, zeros in tableau:\n",
    "        modes.append(mode[-num_rxns:])\n",
    "        rev.append(reversible)\n",
    "    \n",
    "    return np.array(modes, dtype=int).T, rev\n",
    "\n",
    "\n",
    "def show_modes(network, modes, rev, map_json='central_carbon.json'):\n",
    "    s_elementary = (network.s_matrix.astype(int) @ modes)\n",
    "    net_reactions = []\n",
    "    for i, (mode, reversible) in enumerate(zip(s_elementary.T, rev)):\n",
    "        stoich = {}\n",
    "        for met, count in zip(network.reactants, mode):\n",
    "            if count != 0:\n",
    "                stoich[met] = count\n",
    "\n",
    "        net_reaction = Reaction(id=f'mode{i}', name=f'Elementary Mode {i}', stoichiometry=stoich, reversible=reversible)\n",
    "        net_reactions.append(net_reaction)\n",
    "\n",
    "    w = f'{160 + modes.shape[1] * 8:d}px' if modes.shape[1] < 80 else '100%'\n",
    "    mode_select = widgets.IntSlider(\n",
    "        value=0,\n",
    "        min=0,\n",
    "        max=modes.shape[1] - 1,\n",
    "        description='Mode',\n",
    "        continuous_update=True,\n",
    "        readout=True,\n",
    "        layout={'width': w}\n",
    "    )\n",
    "    mode_fluxes = widgets.Text(description='flux ratios', layout={'width': '100%'})\n",
    "    mode_net = widgets.Text(description='net reaction', layout={'width': '100%'})\n",
    "    diag = escher_map.EscherMap(\n",
    "        json.loads(files(pw_files).joinpath(map_json).read_text()),\n",
    "        width=\"100%\",\n",
    "        reaction_scale=escher_map.Scale({0.: (\"#eeeeee\", 3), 6.: (\"#1f77cc\", 50)}, use_abs=True))\n",
    "    diag_canvas = widgets.Output()\n",
    "\n",
    "    def show_mode(change):\n",
    "        mode = mode_select.value\n",
    "        mode_fluxes.value = mode_formula(network, modes.T[mode])\n",
    "        mode_net.value = net_reactions[mode].formula\n",
    "        diag_canvas.clear_output(wait=True)\n",
    "        with diag_canvas:\n",
    "            display(SVG(diag.draw(reaction_data={r.label: v for r, v in zip(network.reactions, modes.T[mode])})))\n",
    "\n",
    "    mode_select.observe(show_mode, names='value')\n",
    "    show_mode(None)\n",
    "\n",
    "    return widgets.VBox([\n",
    "        mode_select,\n",
    "        widgets.HBox([\n",
    "            widgets.VBox([\n",
    "                mode_fluxes,\n",
    "                mode_net\n",
    "            ], layout={\"width\": \"40%\"}),\n",
    "            widgets.VBox([\n",
    "                diag_canvas\n",
    "            ], layout={\"width\": \"60%\"}),\n",
    "        ])\n",
    "    ], layout={\"width\": \"1000px\", \"border\": \"1px solid green\"})"
   ]
  },
  {
   "cell_type": "code",
   "execution_count": 11,
   "id": "92ad8cf7-be4d-40db-ad9a-228b1c1b9ac9",
   "metadata": {
    "tags": []
   },
   "outputs": [
    {
     "data": {
      "text/html": [
       "<div>\n",
       "<style scoped>\n",
       "    .dataframe tbody tr th:only-of-type {\n",
       "        vertical-align: middle;\n",
       "    }\n",
       "\n",
       "    .dataframe tbody tr th {\n",
       "        vertical-align: top;\n",
       "    }\n",
       "\n",
       "    .dataframe thead th {\n",
       "        text-align: right;\n",
       "    }\n",
       "</style>\n",
       "<table border=\"1\" class=\"dataframe\">\n",
       "  <thead>\n",
       "    <tr style=\"text-align: right;\">\n",
       "      <th></th>\n",
       "      <th>0</th>\n",
       "      <th>1</th>\n",
       "      <th>2</th>\n",
       "      <th>3</th>\n",
       "      <th>4</th>\n",
       "      <th>5</th>\n",
       "      <th>6</th>\n",
       "      <th>7</th>\n",
       "      <th>8</th>\n",
       "      <th>9</th>\n",
       "      <th>10</th>\n",
       "      <th>11</th>\n",
       "    </tr>\n",
       "  </thead>\n",
       "  <tbody>\n",
       "    <tr>\n",
       "      <th>PGI</th>\n",
       "      <td>0</td>\n",
       "      <td>1</td>\n",
       "      <td>-1</td>\n",
       "      <td>0</td>\n",
       "      <td>-2</td>\n",
       "      <td>0</td>\n",
       "      <td>0</td>\n",
       "      <td>-2</td>\n",
       "      <td>0</td>\n",
       "      <td>5</td>\n",
       "      <td>-5</td>\n",
       "      <td>-5</td>\n",
       "    </tr>\n",
       "    <tr>\n",
       "      <th>PFK</th>\n",
       "      <td>1</td>\n",
       "      <td>1</td>\n",
       "      <td>0</td>\n",
       "      <td>0</td>\n",
       "      <td>0</td>\n",
       "      <td>2</td>\n",
       "      <td>0</td>\n",
       "      <td>0</td>\n",
       "      <td>2</td>\n",
       "      <td>1</td>\n",
       "      <td>0</td>\n",
       "      <td>0</td>\n",
       "    </tr>\n",
       "    <tr>\n",
       "      <th>FBP</th>\n",
       "      <td>1</td>\n",
       "      <td>0</td>\n",
       "      <td>1</td>\n",
       "      <td>0</td>\n",
       "      <td>0</td>\n",
       "      <td>0</td>\n",
       "      <td>2</td>\n",
       "      <td>0</td>\n",
       "      <td>0</td>\n",
       "      <td>0</td>\n",
       "      <td>1</td>\n",
       "      <td>1</td>\n",
       "    </tr>\n",
       "    <tr>\n",
       "      <th>FBA</th>\n",
       "      <td>0</td>\n",
       "      <td>1</td>\n",
       "      <td>-1</td>\n",
       "      <td>0</td>\n",
       "      <td>0</td>\n",
       "      <td>2</td>\n",
       "      <td>-2</td>\n",
       "      <td>0</td>\n",
       "      <td>2</td>\n",
       "      <td>1</td>\n",
       "      <td>-1</td>\n",
       "      <td>-1</td>\n",
       "    </tr>\n",
       "    <tr>\n",
       "      <th>TPI</th>\n",
       "      <td>0</td>\n",
       "      <td>-1</td>\n",
       "      <td>1</td>\n",
       "      <td>0</td>\n",
       "      <td>0</td>\n",
       "      <td>-2</td>\n",
       "      <td>2</td>\n",
       "      <td>0</td>\n",
       "      <td>-2</td>\n",
       "      <td>-1</td>\n",
       "      <td>1</td>\n",
       "      <td>1</td>\n",
       "    </tr>\n",
       "    <tr>\n",
       "      <th>GAPDH</th>\n",
       "      <td>0</td>\n",
       "      <td>2</td>\n",
       "      <td>-2</td>\n",
       "      <td>0</td>\n",
       "      <td>1</td>\n",
       "      <td>5</td>\n",
       "      <td>-5</td>\n",
       "      <td>1</td>\n",
       "      <td>5</td>\n",
       "      <td>0</td>\n",
       "      <td>0</td>\n",
       "      <td>0</td>\n",
       "    </tr>\n",
       "    <tr>\n",
       "      <th>PGK</th>\n",
       "      <td>0</td>\n",
       "      <td>-2</td>\n",
       "      <td>2</td>\n",
       "      <td>0</td>\n",
       "      <td>-1</td>\n",
       "      <td>-5</td>\n",
       "      <td>5</td>\n",
       "      <td>-1</td>\n",
       "      <td>-5</td>\n",
       "      <td>0</td>\n",
       "      <td>0</td>\n",
       "      <td>0</td>\n",
       "    </tr>\n",
       "    <tr>\n",
       "      <th>GPM</th>\n",
       "      <td>0</td>\n",
       "      <td>-2</td>\n",
       "      <td>2</td>\n",
       "      <td>0</td>\n",
       "      <td>-1</td>\n",
       "      <td>-5</td>\n",
       "      <td>5</td>\n",
       "      <td>-1</td>\n",
       "      <td>-5</td>\n",
       "      <td>0</td>\n",
       "      <td>0</td>\n",
       "      <td>0</td>\n",
       "    </tr>\n",
       "    <tr>\n",
       "      <th>ENO</th>\n",
       "      <td>0</td>\n",
       "      <td>2</td>\n",
       "      <td>-2</td>\n",
       "      <td>0</td>\n",
       "      <td>1</td>\n",
       "      <td>5</td>\n",
       "      <td>-5</td>\n",
       "      <td>1</td>\n",
       "      <td>5</td>\n",
       "      <td>0</td>\n",
       "      <td>0</td>\n",
       "      <td>0</td>\n",
       "    </tr>\n",
       "    <tr>\n",
       "      <th>R5PI</th>\n",
       "      <td>0</td>\n",
       "      <td>0</td>\n",
       "      <td>0</td>\n",
       "      <td>-1</td>\n",
       "      <td>2</td>\n",
       "      <td>2</td>\n",
       "      <td>-2</td>\n",
       "      <td>0</td>\n",
       "      <td>0</td>\n",
       "      <td>-4</td>\n",
       "      <td>4</td>\n",
       "      <td>0</td>\n",
       "    </tr>\n",
       "    <tr>\n",
       "      <th>TKT1</th>\n",
       "      <td>0</td>\n",
       "      <td>0</td>\n",
       "      <td>0</td>\n",
       "      <td>0</td>\n",
       "      <td>-1</td>\n",
       "      <td>-1</td>\n",
       "      <td>1</td>\n",
       "      <td>-1</td>\n",
       "      <td>-1</td>\n",
       "      <td>2</td>\n",
       "      <td>-2</td>\n",
       "      <td>-2</td>\n",
       "    </tr>\n",
       "    <tr>\n",
       "      <th>RPE</th>\n",
       "      <td>0</td>\n",
       "      <td>0</td>\n",
       "      <td>0</td>\n",
       "      <td>0</td>\n",
       "      <td>2</td>\n",
       "      <td>2</td>\n",
       "      <td>-2</td>\n",
       "      <td>2</td>\n",
       "      <td>2</td>\n",
       "      <td>-4</td>\n",
       "      <td>4</td>\n",
       "      <td>4</td>\n",
       "    </tr>\n",
       "    <tr>\n",
       "      <th>PGLase</th>\n",
       "      <td>0</td>\n",
       "      <td>0</td>\n",
       "      <td>0</td>\n",
       "      <td>1</td>\n",
       "      <td>0</td>\n",
       "      <td>0</td>\n",
       "      <td>0</td>\n",
       "      <td>2</td>\n",
       "      <td>2</td>\n",
       "      <td>0</td>\n",
       "      <td>0</td>\n",
       "      <td>4</td>\n",
       "    </tr>\n",
       "    <tr>\n",
       "      <th>PGLDH</th>\n",
       "      <td>0</td>\n",
       "      <td>0</td>\n",
       "      <td>0</td>\n",
       "      <td>1</td>\n",
       "      <td>0</td>\n",
       "      <td>0</td>\n",
       "      <td>0</td>\n",
       "      <td>2</td>\n",
       "      <td>2</td>\n",
       "      <td>0</td>\n",
       "      <td>0</td>\n",
       "      <td>4</td>\n",
       "    </tr>\n",
       "    <tr>\n",
       "      <th>TALA</th>\n",
       "      <td>0</td>\n",
       "      <td>0</td>\n",
       "      <td>0</td>\n",
       "      <td>0</td>\n",
       "      <td>1</td>\n",
       "      <td>1</td>\n",
       "      <td>-1</td>\n",
       "      <td>1</td>\n",
       "      <td>1</td>\n",
       "      <td>-2</td>\n",
       "      <td>2</td>\n",
       "      <td>2</td>\n",
       "    </tr>\n",
       "    <tr>\n",
       "      <th>TKT2</th>\n",
       "      <td>0</td>\n",
       "      <td>0</td>\n",
       "      <td>0</td>\n",
       "      <td>0</td>\n",
       "      <td>1</td>\n",
       "      <td>1</td>\n",
       "      <td>-1</td>\n",
       "      <td>1</td>\n",
       "      <td>1</td>\n",
       "      <td>-2</td>\n",
       "      <td>2</td>\n",
       "      <td>2</td>\n",
       "    </tr>\n",
       "    <tr>\n",
       "      <th>G6PDH</th>\n",
       "      <td>0</td>\n",
       "      <td>0</td>\n",
       "      <td>0</td>\n",
       "      <td>1</td>\n",
       "      <td>0</td>\n",
       "      <td>0</td>\n",
       "      <td>0</td>\n",
       "      <td>2</td>\n",
       "      <td>2</td>\n",
       "      <td>0</td>\n",
       "      <td>0</td>\n",
       "      <td>4</td>\n",
       "    </tr>\n",
       "  </tbody>\n",
       "</table>\n",
       "</div>"
      ],
      "text/plain": [
       "        0   1   2   3   4   5   6   7   8   9   10  11\n",
       "PGI      0   1  -1   0  -2   0   0  -2   0   5  -5  -5\n",
       "PFK      1   1   0   0   0   2   0   0   2   1   0   0\n",
       "FBP      1   0   1   0   0   0   2   0   0   0   1   1\n",
       "FBA      0   1  -1   0   0   2  -2   0   2   1  -1  -1\n",
       "TPI      0  -1   1   0   0  -2   2   0  -2  -1   1   1\n",
       "GAPDH    0   2  -2   0   1   5  -5   1   5   0   0   0\n",
       "PGK      0  -2   2   0  -1  -5   5  -1  -5   0   0   0\n",
       "GPM      0  -2   2   0  -1  -5   5  -1  -5   0   0   0\n",
       "ENO      0   2  -2   0   1   5  -5   1   5   0   0   0\n",
       "R5PI     0   0   0  -1   2   2  -2   0   0  -4   4   0\n",
       "TKT1     0   0   0   0  -1  -1   1  -1  -1   2  -2  -2\n",
       "RPE      0   0   0   0   2   2  -2   2   2  -4   4   4\n",
       "PGLase   0   0   0   1   0   0   0   2   2   0   0   4\n",
       "PGLDH    0   0   0   1   0   0   0   2   2   0   0   4\n",
       "TALA     0   0   0   0   1   1  -1   1   1  -2   2   2\n",
       "TKT2     0   0   0   0   1   1  -1   1   1  -2   2   2\n",
       "G6PDH    0   0   0   1   0   0   0   2   2   0   0   4"
      ]
     },
     "execution_count": 11,
     "metadata": {},
     "output_type": "execute_result"
    }
   ],
   "source": [
    "bounds = {KB.get(KB.compounds, met_id) for met_id in [\n",
    "    'Glc.D.6P',\n",
    "    'Rib.D.5P',\n",
    "    'pep',\n",
    "    'co2',\n",
    "    'amp',\n",
    "    'adp',\n",
    "    'atp',\n",
    "    'nad.ox',\n",
    "    'nad.red',\n",
    "    'nadp.ox',\n",
    "    'nadp.red',\n",
    "    'pi',\n",
    "    'h2o',\n",
    "    'h+',\n",
    "]}\n",
    "\n",
    "modes, rev = elementary_modes(build_internal_system(network, bounds), [rxn.reversible for rxn in network.reactions])\n",
    "pd.DataFrame(modes, index=network.reactions.labels())"
   ]
  },
  {
   "cell_type": "markdown",
   "id": "21fd6b61-d517-4ae6-b108-825c25c19ea1",
   "metadata": {},
   "source": [
    "$\\Delta{G}_m = \\sum\\limits_r {m_r \\Delta{G}_r}$\n",
    "\n",
    "$\\vec{\\Delta{G}_m} = \\mathbf{M^T} \\cdot \\vec{\\Delta{G}}_r$"
   ]
  },
  {
   "cell_type": "code",
   "execution_count": 12,
   "id": "aacb650f-e6ce-4d6c-89e4-c2315905d59d",
   "metadata": {
    "tags": []
   },
   "outputs": [
    {
     "data": {
      "text/plain": [
       "array([ -46.45011234,  -38.85965562,   -7.59045672,  -33.35189808,\n",
       "        -23.66252952, -101.38184076,    8.48161608,  -90.36632569,\n",
       "       -168.08563693,    8.46540343,  -54.91551577, -188.3231081 ])"
      ]
     },
     "execution_count": 12,
     "metadata": {},
     "output_type": "execute_result"
    }
   ],
   "source": [
    "modes.T @ dg"
   ]
  },
  {
   "cell_type": "code",
   "execution_count": 13,
   "id": "2e14b6d1-0011-449b-8c41-ad2b0775aca7",
   "metadata": {
    "tags": []
   },
   "outputs": [
    {
     "data": {
      "application/vnd.jupyter.widget-view+json": {
       "model_id": "9fc347e35d2a42b1ac035dded45bd6c4",
       "version_major": 2,
       "version_minor": 0
      },
      "text/plain": [
       "VBox(children=(IntSlider(value=0, description='Mode', layout=Layout(width='256px'), max=11), HBox(children=(VB…"
      ]
     },
     "execution_count": 13,
     "metadata": {},
     "output_type": "execute_result"
    }
   ],
   "source": [
    "show_modes(network, modes, rev, map_json='glycolysis_ppp.json')"
   ]
  },
  {
   "cell_type": "markdown",
   "id": "3e2e4e19-3b9a-4b3d-8777-9bb7e3e0e76b",
   "metadata": {},
   "source": [
    "# Elementary Modes of TCA (+ anaplerosis)"
   ]
  },
  {
   "cell_type": "code",
   "execution_count": 14,
   "id": "7d7d56ac-29a6-4b91-8999-5f3c9bb697cd",
   "metadata": {},
   "outputs": [
    {
     "data": {
      "text/plain": [
       "[[Glc.D.6P] D-glucose 6-phosphate,\n",
       " [Fru.D.6P] D-fructose 6-phosphate,\n",
       " [atp] adenosine 5'-triphosphate,\n",
       " [adp] adenosine 5'-diphosphate,\n",
       " [Fru.D.bis16] D-fructose 1,6-bisphosphate,\n",
       " [h+] proton,\n",
       " [h2o] water,\n",
       " [pi] phosphate,\n",
       " [gap] D-glyceraldehyde 3-phosphate,\n",
       " [dhap] glycerone phosphate,\n",
       " [nad.ox] NAD+,\n",
       " [dpg] 1,3-bisphospho-D-glycerate,\n",
       " [nad.red] NADH,\n",
       " [3pg] 3-phospho-D-glycerate,\n",
       " [2pg] 2-phospho-D-glycerate,\n",
       " [pep] phosphoenolpyruvate,\n",
       " [Rib.D.5P] D-ribose 5-phosphate,\n",
       " [Rul.D.5P] D-ribulose 5-phosphate,\n",
       " [Sed.D.7P] D-sedoheptulose 7-phosphate,\n",
       " [Xul.D.5P] D-xylulose 5-phosphate,\n",
       " [6pgdl] 6-phosphogluconolactone,\n",
       " [6pg] 6-phosphogluconate,\n",
       " [nadp.ox] NADP+,\n",
       " [co2] carbon dioxide,\n",
       " [nadp.red] NADPH,\n",
       " [Ery.D.4P] D-erythrose 4-phosphate]"
      ]
     },
     "execution_count": 14,
     "metadata": {},
     "output_type": "execute_result"
    }
   ],
   "source": [
    "list(network.reactants)"
   ]
  },
  {
   "cell_type": "code",
   "execution_count": 15,
   "id": "cd566e74-bef8-4ec0-b63a-638a149db6e2",
   "metadata": {
    "tags": []
   },
   "outputs": [
    {
     "name": "stdout",
     "output_type": "stream",
     "text": [
      "(27, 18)\n"
     ]
    },
    {
     "data": {
      "image/svg+xml": [
       "<svg width=\"10in\" height=\"None\" viewBox=\"-1279.9 -500.0 4384.0 4114.0\"><defs><style type=\"text/css\">\n",
       "#canvas {\n",
       "  fill: #ffffff;\n",
       "  stroke: #cccccc;\n",
       "}\n",
       "text {\n",
       "  font-family: sans-serif;\n",
       "  font-style: italic;\n",
       "  font-weight: bold;\n",
       "  stroke: none;\n",
       "  text-rendering: optimizelegibility;\n",
       "}\n",
       "#reactions text {\n",
       "  font-size: 30px;\n",
       "  fill: #334e75;\n",
       "}\n",
       "#reactions text.stoich {\n",
       "  font-size: 12px;\n",
       "}\n",
       "#metabolites text {\n",
       "  font-size: 20px;\n",
       "  fill: black;\n",
       "}\n",
       "#reactions {\n",
       "  fill: none;\n",
       "  stroke: #334e75;\n",
       "  stroke-width: 10;\n",
       "}\n",
       "#reactions.data {\n",
       "  stroke: #eeeeee;  /* default overridden by reaction_scale */\n",
       "}\n",
       "#reactions .arrowhead {\n",
       "  fill: #334e75;\n",
       "  stroke: none;\n",
       "}\n",
       "#reactions.data .arrowhead {\n",
       "  fill: #eeeeee;  /* default overridden by reaction_scale */\n",
       "}\n",
       "#metabolites {\n",
       "  fill: #e0865b;\n",
       "  stroke: #a24510;\n",
       "  stroke-width: 2;\n",
       "}\n",
       "#metabolites.data {\n",
       "  fill: #eeeeee;  /* default overridden by metabolite_scale */\n",
       "  stroke: none;\n",
       "}\n",
       "</style></defs><g id=\"eschermap\"><rect id=\"canvas\" x=\"-1279.9\" y=\"-500.0\" width=\"4384.0\" height=\"4114.0\"/><g id=\"reactions\" class=\"data\"><g name=\"GAPDH\"><path d=\"M 117.8 1351.5 L 117.8 1371.5\"/><path d=\"M 117.8 1391.5 L 117.8 1371.5\"/><g><path d=\"M 117.8 1351.5 C 117.8 1309.5 115.2 1255.2 116.7 1234.1\"/><g class=\"arrowhead\" transform=\"translate(116.7, 1234.1) rotate(-86)\"><path d=\"M 0 -10 L 13 0 L 0 10 Z\" transform=\"translate(-3)\"/></g></g><g><path d=\"M 117.8 1351.5 C 117.8 1305.5 99.4 1300.8 65.7 1282.4\"/><g class=\"arrowhead\" transform=\"translate(65.7, 1282.4) rotate(-151)\"><path d=\"M 0 -10 L 13 0 L 0 10 Z\" transform=\"translate(-3)\"/></g></g><g><path d=\"M 117.8 1351.5 C 117.8 1305.5 139.7 1301.4 172.6 1280.6\"/><g class=\"arrowhead\" transform=\"translate(172.6, 1280.6) rotate(-32)\"><path d=\"M 0 -10 L 13 0 L 0 10 Z\" transform=\"translate(-3)\"/></g></g><g><path d=\"M 117.8 1391.5 C 117.8 1433.5 117.8 1487.7 117.8 1506.5\"/><g class=\"arrowhead\" transform=\"translate(117.8, 1506.5) rotate(90)\"><path d=\"M 0 -10 L 13 0 L 0 10 Z\" transform=\"translate(-3)\"/></g></g><g><path d=\"M 117.8 1391.5 C 117.8 1437.5 99.8 1442.7 65.9 1461.2\"/><g class=\"arrowhead\" transform=\"translate(65.9, 1461.2) rotate(151)\"><path d=\"M 0 -10 L 13 0 L 0 10 Z\" transform=\"translate(-3)\"/></g></g><text x=\"132.8\" y=\"1381.5\">GAPDH</text></g><g name=\"PGK\"><path d=\"M 117.8 1741.5 L 117.8 1721.5\"/><path d=\"M 117.8 1701.5 L 117.8 1721.5\"/><g><path d=\"M 117.8 1741.5 C 117.8 1783.5 117.8 1837.7 117.8 1856.5\"/><g class=\"arrowhead\" transform=\"translate(117.8, 1856.5) rotate(90)\"><path d=\"M 0 -10 L 13 0 L 0 10 Z\" transform=\"translate(-3)\"/></g></g><g><path d=\"M 117.8 1741.5 C 117.8 1787.5 99.8 1792.7 65.9 1811.2\"/><g class=\"arrowhead\" transform=\"translate(65.9, 1811.2) rotate(151)\"><path d=\"M 0 -10 L 13 0 L 0 10 Z\" transform=\"translate(-3)\"/></g></g><g><path d=\"M 117.8 1701.5 C 117.8 1659.5 117.8 1605.2 117.8 1586.5\"/><g class=\"arrowhead\" transform=\"translate(117.8, 1586.5) rotate(-90)\"><path d=\"M 0 -10 L 13 0 L 0 10 Z\" transform=\"translate(-3)\"/></g></g><g><path d=\"M 117.8 1701.5 C 117.8 1655.5 99.8 1650.2 65.9 1631.8\"/><g class=\"arrowhead\" transform=\"translate(65.9, 1631.8) rotate(-151)\"><path d=\"M 0 -10 L 13 0 L 0 10 Z\" transform=\"translate(-3)\"/></g></g><text x=\"132.8\" y=\"1731.5\">PGK</text></g><g name=\"GPMM\"><path d=\"M 117.8 2020.0 L 117.8 2000.0\"/><path d=\"M 117.8 1980.0 L 117.8 2000.0\"/><g><path d=\"M 117.8 2020.0 C 117.8 2062.0 117.8 2038.9 117.8 2057.7\"/><g class=\"arrowhead\" transform=\"translate(117.8, 2057.7) rotate(90)\"><path d=\"M 0 -10 L 13 0 L 0 10 Z\" transform=\"translate(-3)\"/></g></g><g><path d=\"M 117.8 1980.0 C 117.8 1938.0 117.8 1955.2 117.8 1936.5\"/><g class=\"arrowhead\" transform=\"translate(117.8, 1936.5) rotate(-90)\"><path d=\"M 0 -10 L 13 0 L 0 10 Z\" transform=\"translate(-3)\"/></g></g><text x=\"132.8\" y=\"2010.0\">GPMM</text></g><g name=\"ENO\"><path d=\"M 117.8 2175.3 L 117.8 2195.3\"/><path d=\"M 117.8 2215.3 L 117.8 2195.3\"/><g><path d=\"M 117.8 2175.3 C 117.8 2133.3 117.8 2156.4 117.8 2137.7\"/><g class=\"arrowhead\" transform=\"translate(117.8, 2137.7) rotate(-90)\"><path d=\"M 0 -10 L 13 0 L 0 10 Z\" transform=\"translate(-3)\"/></g></g><g><path d=\"M 117.8 2215.3 C 117.8 2261.3 99.8 2266.5 65.9 2285.0\"/><g class=\"arrowhead\" transform=\"translate(65.9, 2285.0) rotate(151)\"><path d=\"M 0 -10 L 13 0 L 0 10 Z\" transform=\"translate(-3)\"/></g></g><g><path d=\"M 117.8 2215.3 C 117.8 2257.3 117.8 2311.5 117.8 2330.3\"/><g class=\"arrowhead\" transform=\"translate(117.8, 2330.3) rotate(90)\"><path d=\"M 0 -10 L 13 0 L 0 10 Z\" transform=\"translate(-3)\"/></g></g><text x=\"132.8\" y=\"2240.8\">ENO</text></g><g name=\"PPS\" style=\"stroke: #1f77cc; stroke-width: 20.0;\"><path d=\"M 0.7 2569.2 L 0.7 2549.2\"/><path d=\"M 0.7 2529.2 L 0.7 2549.2\"/><path d=\"M 0.7 2569.2 C 0.7 2615.2 -14.8 2622.8 -60.0 2644.7\"/><path d=\"M 0.7 2569.2 C -11.1 2602.9 -38.5 2590.5 -51.6 2582.6\"/><path d=\"M 0.7 2569.2 C 0.7 2627.7 51.9 2665.0 94.8 2701.0\"/><g><path d=\"M 0.7 2529.2 C 0.7 2483.2 -13.6 2472.1 -50.2 2457.0\"/><g class=\"arrowhead\" transform=\"translate(-50.2, 2457.0) rotate(-158) scale(2.0)\" style=\"fill: #1f77cc\"><path d=\"M 0 -10 L 13 0 L 0 10 Z\" transform=\"translate(-3)\"/></g></g><g><path d=\"M 0.7 2529.2 C -3.4 2486.2 -71.4 2475.0 -104.5 2482.5\"/><g class=\"arrowhead\" transform=\"translate(-104.5, 2482.5) rotate(167) scale(2.0)\" style=\"fill: #1f77cc\"><path d=\"M 0 -10 L 13 0 L 0 10 Z\" transform=\"translate(-3)\"/></g></g><g><path d=\"M 0.7 2529.2 C 1.9 2470.8 50.8 2429.6 87.8 2396.8\"/><g class=\"arrowhead\" transform=\"translate(87.8, 2396.8) rotate(-42) scale(2.0)\" style=\"fill: #1f77cc\"><path d=\"M 0 -10 L 13 0 L 0 10 Z\" transform=\"translate(-3)\"/></g></g><text x=\"15.7\" y=\"2559.2\">PPS</text></g><g name=\"PDH\" style=\"stroke: #1f77cc; stroke-width: 20.0;\"><path d=\"M 117.8 2875.3 L 117.8 2895.3\"/><path d=\"M 117.8 2915.3 L 117.8 2895.3\"/><path d=\"M 117.8 2875.3 C 117.8 2829.3 187.5 2810.3 244.2 2812.3\"/><path d=\"M 117.8 2875.3 C 117.8 2829.3 99.8 2824.0 57.1 2800.8\"/><path d=\"M 117.8 2875.3 C 117.8 2833.3 117.8 2779.0 117.8 2750.3\"/><g><path d=\"M 117.8 2915.3 C 160.3 2993.7 277.1 3027.3 446.6 3023.4\"/><g class=\"arrowhead\" transform=\"translate(446.6, 3023.4) rotate(-1) scale(2.0)\" style=\"fill: #1f77cc\"><path d=\"M 0 -10 L 13 0 L 0 10 Z\" transform=\"translate(-3)\"/></g></g><g><path d=\"M 117.8 2915.3 C 114.7 2964.3 84.1 3000.0 42.8 3024.8\"/><g class=\"arrowhead\" transform=\"translate(42.8, 3024.8) rotate(149) scale(2.0)\" style=\"fill: #1f77cc\"><path d=\"M 0 -10 L 13 0 L 0 10 Z\" transform=\"translate(-3)\"/></g></g><g><path d=\"M 117.8 2915.3 C 114.7 2960.3 55.7 2955.9 44.0 2952.2\"/><g class=\"arrowhead\" transform=\"translate(44.0, 2952.2) rotate(-162) scale(2.0)\" style=\"fill: #1f77cc\"><path d=\"M 0 -10 L 13 0 L 0 10 Z\" transform=\"translate(-3)\"/></g></g><text x=\"148.2\" y=\"2901.4\">PDH</text></g><g name=\"PYK\" style=\"stroke: #1f77cc; stroke-width: 20.0;\"><path d=\"M 232.2 2568.4 L 232.2 2548.4\"/><path d=\"M 232.2 2528.4 L 232.2 2548.4\"/><path d=\"M 232.2 2568.4 C 232.2 2614.4 250.2 2619.7 292.9 2642.9\"/><path d=\"M 232.2 2568.4 C 232.8 2625.1 186.6 2663.3 140.9 2701.1\"/><g><path d=\"M 232.2 2528.4 C 232.2 2482.4 249.5 2485.4 279.1 2465.4\"/><g class=\"arrowhead\" transform=\"translate(279.1, 2465.4) rotate(-34) scale(2.0)\" style=\"fill: #1f77cc\"><path d=\"M 0 -10 L 13 0 L 0 10 Z\" transform=\"translate(-3)\"/></g></g><g><path d=\"M 232.2 2528.4 C 232.2 2470.0 184.8 2432.0 147.2 2397.4\"/><g class=\"arrowhead\" transform=\"translate(147.2, 2397.4) rotate(-137) scale(2.0)\" style=\"fill: #1f77cc\"><path d=\"M 0 -10 L 13 0 L 0 10 Z\" transform=\"translate(-3)\"/></g></g><text x=\"154.9\" y=\"2558.4\">PYK</text></g><g name=\"TPI\"><path d=\"M -37.2 1196.5 L -57.2 1196.5\"/><path d=\"M -77.2 1196.5 L -57.2 1196.5\"/><g><path d=\"M -37.2 1196.5 C 4.8 1196.5 56.4 1196.5 79.7 1195.6\"/><g class=\"arrowhead\" transform=\"translate(79.7, 1195.6) rotate(-2)\"><path d=\"M 0 -10 L 13 0 L 0 10 Z\" transform=\"translate(-3)\"/></g></g><g><path d=\"M -77.2 1196.5 C -119.2 1196.5 -173.5 1196.5 -192.2 1196.5\"/><g class=\"arrowhead\" transform=\"translate(-192.2, 1196.5) rotate(180)\"><path d=\"M 0 -10 L 13 0 L 0 10 Z\" transform=\"translate(-3)\"/></g></g><text x=\"-83.6\" y=\"1236.6\">TPI</text></g><g name=\"FBA\"><path d=\"M -232.2 1001.5 L -232.2 1021.5\"/><path d=\"M -232.2 1041.5 L -232.2 1021.5\"/><g><path d=\"M -232.2 1001.5 C -232.2 959.5 -232.2 905.2 -232.2 886.5\"/><g class=\"arrowhead\" transform=\"translate(-232.2, 886.5) rotate(-90)\"><path d=\"M 0 -10 L 13 0 L 0 10 Z\" transform=\"translate(-3)\"/></g></g><g><path d=\"M -232.2 1041.5 C -232.2 1087.5 -73.7 1057.3 87.0 1171.1\"/><g class=\"arrowhead\" transform=\"translate(87.0, 1171.1) rotate(35)\"><path d=\"M 0 -10 L 13 0 L 0 10 Z\" transform=\"translate(-3)\"/></g></g><g><path d=\"M -232.2 1041.5 C -232.2 1083.5 -232.2 1137.7 -232.2 1156.5\"/><g class=\"arrowhead\" transform=\"translate(-232.2, 1156.5) rotate(90)\"><path d=\"M 0 -10 L 13 0 L 0 10 Z\" transform=\"translate(-3)\"/></g></g><text x=\"-314.4\" y=\"1031.5\">FBA</text></g><g name=\"PFK\"><path d=\"M -111.1 640.9 L -111.1 660.9\"/><path d=\"M -111.1 680.9 L -111.1 660.9\"/><path d=\"M -111.1 640.9 C -111.1 594.9 -81.4 558.3 -57.7 575.2\"/><path d=\"M -111.1 640.9 C -111.1 598.9 -171.7 554.1 -210.5 517.2\"/><g><path d=\"M -111.1 680.9 C -111.1 726.9 -102.6 748.4 -62.6 758.6\"/><g class=\"arrowhead\" transform=\"translate(-62.6, 758.6) rotate(14)\"><path d=\"M 0 -10 L 13 0 L 0 10 Z\" transform=\"translate(-3)\"/></g></g><g><path d=\"M -111.1 680.9 C -111.1 722.9 -172.3 795.3 -201.8 820.5\"/><g class=\"arrowhead\" transform=\"translate(-201.8, 820.5) rotate(139)\"><path d=\"M 0 -10 L 13 0 L 0 10 Z\" transform=\"translate(-3)\"/></g></g><text x=\"-192.2\" y=\"676.2\">PFK</text></g><g name=\"PGI\"><path d=\"M -232.2 301.5 L -232.2 321.5\"/><path d=\"M -232.2 341.5 L -232.2 321.5\"/><g><path d=\"M -232.2 301.5 C -232.2 259.5 -232.2 205.2 -232.2 186.5\"/><g class=\"arrowhead\" transform=\"translate(-232.2, 186.5) rotate(-90)\"><path d=\"M 0 -10 L 13 0 L 0 10 Z\" transform=\"translate(-3)\"/></g></g><g><path d=\"M -232.2 341.5 C -232.2 383.5 -232.2 437.7 -232.2 456.5\"/><g class=\"arrowhead\" transform=\"translate(-232.2, 456.5) rotate(90)\"><path d=\"M 0 -10 L 13 0 L 0 10 Z\" transform=\"translate(-3)\"/></g></g><text x=\"-322.9\" y=\"334.4\">PGI</text></g><g name=\"R5PI\"><path d=\"M 882.6 564.1 L 882.6 544.1\"/><path d=\"M 882.6 524.1 L 882.6 544.1\"/><g><path d=\"M 882.6 564.1 C 882.6 606.1 881.3 606.4 881.3 625.1\"/><g class=\"arrowhead\" transform=\"translate(881.3, 625.1) rotate(90)\"><path d=\"M 0 -10 L 13 0 L 0 10 Z\" transform=\"translate(-3)\"/></g></g><g><path d=\"M 882.6 524.1 C 882.6 482.1 882.6 481.8 882.6 463.1\"/><g class=\"arrowhead\" transform=\"translate(882.6, 463.1) rotate(-90)\"><path d=\"M 0 -10 L 13 0 L 0 10 Z\" transform=\"translate(-3)\"/></g></g><text x=\"897.6\" y=\"554.1\">R5PI</text></g><g name=\"PGLase\"><path d=\"M 272.8 145.2 L 292.8 145.2\"/><path d=\"M 312.8 145.2 L 292.8 145.2\"/><g><path d=\"M 272.8 145.2 C 230.8 145.2 176.5 145.2 157.8 145.2\"/><g class=\"arrowhead\" transform=\"translate(157.8, 145.2) rotate(180)\"><path d=\"M 0 -10 L 13 0 L 0 10 Z\" transform=\"translate(-3)\"/></g></g><g><path d=\"M 272.8 145.2 C 226.8 145.2 221.5 127.2 203.1 93.3\"/><g class=\"arrowhead\" transform=\"translate(203.1, 93.3) rotate(-119)\"><path d=\"M 0 -10 L 13 0 L 0 10 Z\" transform=\"translate(-3)\"/></g></g><g><path d=\"M 312.8 145.2 C 354.8 145.2 409.0 145.2 427.8 145.2\"/><g class=\"arrowhead\" transform=\"translate(427.8, 145.2) rotate(0)\"><path d=\"M 0 -10 L 13 0 L 0 10 Z\" transform=\"translate(-3)\"/></g></g><text x=\"242.8\" y=\"105.2\">PGLase</text></g><g name=\"G6PDH\"><path d=\"M -77.2 145.2 L -57.2 145.2\"/><path d=\"M -37.2 145.2 L -57.2 145.2\"/><g><path d=\"M -77.2 145.2 C -119.2 145.2 -172.2 142.5 -192.3 143.9\"/><g class=\"arrowhead\" transform=\"translate(-192.3, 143.9) rotate(176)\"><path d=\"M 0 -10 L 13 0 L 0 10 Z\" transform=\"translate(-3)\"/></g></g><g><path d=\"M -77.2 145.2 C -123.2 145.2 -128.5 127.2 -146.9 93.3\"/><g class=\"arrowhead\" transform=\"translate(-146.9, 93.3) rotate(-119)\"><path d=\"M 0 -10 L 13 0 L 0 10 Z\" transform=\"translate(-3)\"/></g></g><g><path d=\"M -37.2 145.2 C 4.8 145.2 59.0 145.2 77.8 145.2\"/><g class=\"arrowhead\" transform=\"translate(77.8, 145.2) rotate(0)\"><path d=\"M 0 -10 L 13 0 L 0 10 Z\" transform=\"translate(-3)\"/></g></g><g><path d=\"M -37.2 145.2 C 8.8 145.2 14.0 127.2 32.5 93.3\"/><g class=\"arrowhead\" transform=\"translate(32.5, 93.3) rotate(-61)\"><path d=\"M 0 -10 L 13 0 L 0 10 Z\" transform=\"translate(-3)\"/></g></g><text x=\"-107.2\" y=\"105.2\">G6PDH</text></g><g name=\"PGLDH\"><path d=\"M 788.2 229.0 L 802.0 243.4\"/><path d=\"M 815.9 257.8 L 802.0 243.4\"/><g><path d=\"M 788.2 229.0 C 759.0 198.7 671.9 149.9 507.8 146.1\"/><g class=\"arrowhead\" transform=\"translate(507.8, 146.1) rotate(-179)\"><path d=\"M 0 -10 L 13 0 L 0 10 Z\" transform=\"translate(-3)\"/></g></g><g><path d=\"M 788.2 229.0 C 756.2 195.8 740.6 154.6 795.6 157.8\"/><g class=\"arrowhead\" transform=\"translate(795.6, 157.8) rotate(3)\"><path d=\"M 0 -10 L 13 0 L 0 10 Z\" transform=\"translate(-3)\"/></g></g><g><path d=\"M 815.9 257.8 C 847.8 290.9 884.1 275.5 898.9 243.2\"/><g class=\"arrowhead\" transform=\"translate(898.9, 243.2) rotate(-65)\"><path d=\"M 0 -10 L 13 0 L 0 10 Z\" transform=\"translate(-3)\"/></g></g><g><path d=\"M 815.9 257.8 C 845.1 288.0 882.6 364.3 882.6 383.1\"/><g class=\"arrowhead\" transform=\"translate(882.6, 383.1) rotate(90)\"><path d=\"M 0 -10 L 13 0 L 0 10 Z\" transform=\"translate(-3)\"/></g></g><g><path d=\"M 815.9 257.8 C 847.8 290.9 864.4 282.2 901.7 271.9\"/><g class=\"arrowhead\" transform=\"translate(901.7, 271.9) rotate(-15)\"><path d=\"M 0 -10 L 13 0 L 0 10 Z\" transform=\"translate(-3)\"/></g></g><text x=\"674.9\" y=\"261.3\">PGLDH</text></g><g name=\"RPE\"><path d=\"M 678.9 347.7 L 658.9 347.7\"/><path d=\"M 638.9 347.7 L 658.9 347.7\"/><g><path d=\"M 678.9 347.7 C 720.9 347.7 781.7 363.8 848.1 402.8\"/><g class=\"arrowhead\" transform=\"translate(848.1, 402.8) rotate(30)\"><path d=\"M 0 -10 L 13 0 L 0 10 Z\" transform=\"translate(-3)\"/></g></g><g><path d=\"M 638.9 347.7 C 596.9 347.7 542.6 347.7 523.9 347.7\"/><g class=\"arrowhead\" transform=\"translate(523.9, 347.7) rotate(180)\"><path d=\"M 0 -10 L 13 0 L 0 10 Z\" transform=\"translate(-3)\"/></g></g><text x=\"622.1\" y=\"327.4\">RPE</text></g><g name=\"TKT2\"><path d=\"M 328.9 347.7 L 308.9 347.7\"/><path d=\"M 288.9 347.7 L 308.9 347.7\"/><g><path d=\"M 328.9 347.7 C 374.9 347.7 428.9 448.2 362.8 495.6\"/><g class=\"arrowhead\" transform=\"translate(362.8, 495.6) rotate(144)\"><path d=\"M 0 -10 L 13 0 L 0 10 Z\" transform=\"translate(-3)\"/></g></g><g><path d=\"M 328.9 347.7 C 370.9 347.7 425.1 347.7 443.9 347.7\"/><g class=\"arrowhead\" transform=\"translate(443.9, 347.7) rotate(0)\"><path d=\"M 0 -10 L 13 0 L 0 10 Z\" transform=\"translate(-3)\"/></g></g><g><path d=\"M 288.9 347.7 C 246.9 347.7 -170.8 491.2 -192.4 493.1\"/><g class=\"arrowhead\" transform=\"translate(-192.4, 493.1) rotate(175)\"><path d=\"M 0 -10 L 13 0 L 0 10 Z\" transform=\"translate(-3)\"/></g></g><g><path d=\"M 288.9 347.7 C 38.0 384.4 203.5 906.4 130.8 1155.8\"/><g class=\"arrowhead\" transform=\"translate(130.8, 1155.8) rotate(106)\"><path d=\"M 0 -10 L 13 0 L 0 10 Z\" transform=\"translate(-3)\"/></g></g><text x=\"235.4\" y=\"322.4\">TKT2</text></g><g name=\"FBP\"><path d=\"M -350.7 687.5 L -350.7 667.5\"/><path d=\"M -350.7 647.5 L -350.7 667.5\"/><path d=\"M -350.7 687.5 C -350.7 729.5 -294.5 796.5 -255.6 827.7\"/><path d=\"M -350.7 687.5 C -350.7 733.5 -368.7 738.8 -411.4 762.0\"/><g><path d=\"M -350.7 647.5 C -350.7 605.5 -297.4 550.0 -263.1 521.9\"/><g class=\"arrowhead\" transform=\"translate(-263.1, 521.9) rotate(-39)\"><path d=\"M 0 -10 L 13 0 L 0 10 Z\" transform=\"translate(-3)\"/></g></g><g><path d=\"M -350.7 647.5 C -350.7 601.5 -368.7 596.3 -402.6 577.8\"/><g class=\"arrowhead\" transform=\"translate(-402.6, 577.8) rotate(-151)\"><path d=\"M 0 -10 L 13 0 L 0 10 Z\" transform=\"translate(-3)\"/></g></g><text x=\"-335.7\" y=\"677.5\">FBP</text></g><g name=\"TKT1\"><path d=\"M 638.9 697.7 L 658.9 697.7\"/><path d=\"M 678.9 697.7 L 658.9 697.7\"/><g><path d=\"M 638.9 697.7 C 514.2 700.3 245.1 1014.9 142.6 1161.4\"/><g class=\"arrowhead\" transform=\"translate(142.6, 1161.4) rotate(125)\"><path d=\"M 0 -10 L 13 0 L 0 10 Z\" transform=\"translate(-3)\"/></g></g><g><path d=\"M 638.9 697.7 C 596.9 697.7 542.6 697.7 523.9 697.7\"/><g class=\"arrowhead\" transform=\"translate(523.9, 697.7) rotate(180)\"><path d=\"M 0 -10 L 13 0 L 0 10 Z\" transform=\"translate(-3)\"/></g></g><g><path d=\"M 678.9 697.7 C 720.9 697.7 787.0 698.0 843.5 678.3\"/><g class=\"arrowhead\" transform=\"translate(843.5, 678.3) rotate(-19)\"><path d=\"M 0 -10 L 13 0 L 0 10 Z\" transform=\"translate(-3)\"/></g></g><g><path d=\"M 678.9 697.7 C 811.8 676.6 809.2 422.0 522.9 356.6\"/><g class=\"arrowhead\" transform=\"translate(522.9, 356.6) rotate(-167)\"><path d=\"M 0 -10 L 13 0 L 0 10 Z\" transform=\"translate(-3)\"/></g></g><text x=\"601.0\" y=\"672.1\">TKT1</text></g><g name=\"TALA\"><path d=\"M 328.9 697.7 L 308.9 697.7\"/><path d=\"M 288.9 697.7 L 308.9 697.7\"/><g><path d=\"M 328.9 697.7 C 435.4 697.7 376.7 852.8 143.7 1162.2\"/><g class=\"arrowhead\" transform=\"translate(143.7, 1162.2) rotate(127)\"><path d=\"M 0 -10 L 13 0 L 0 10 Z\" transform=\"translate(-3)\"/></g></g><g><path d=\"M 328.9 697.7 C 370.9 697.7 425.1 697.7 443.9 697.7\"/><g class=\"arrowhead\" transform=\"translate(443.9, 697.7) rotate(0)\"><path d=\"M 0 -10 L 13 0 L 0 10 Z\" transform=\"translate(-3)\"/></g></g><g><path d=\"M 288.9 697.7 C 162.6 699.0 182.1 497.5 -192.2 496.6\"/><g class=\"arrowhead\" transform=\"translate(-192.2, 496.6) rotate(-180)\"><path d=\"M 0 -10 L 13 0 L 0 10 Z\" transform=\"translate(-3)\"/></g></g><g><path d=\"M 288.9 697.7 C 227.1 696.3 228.4 580.9 296.2 539.7\"/><g class=\"arrowhead\" transform=\"translate(296.2, 539.7) rotate(-31)\"><path d=\"M 0 -10 L 13 0 L 0 10 Z\" transform=\"translate(-3)\"/></g></g><text x=\"273.3\" y=\"673.4\">TALA</text></g><g name=\"PGLDhat\"><path d=\"M 1177.3 370.0 L 1177.3 390.0\"/><path d=\"M 1177.3 410.0 L 1177.3 390.0\"/><g><path d=\"M 1177.3 370.0 C 1183.5 -70.9 668.2 84.9 506.1 133.6\"/><g class=\"arrowhead\" transform=\"translate(506.1, 133.6) rotate(163)\"><path d=\"M 0 -10 L 13 0 L 0 10 Z\" transform=\"translate(-3)\"/></g></g><g><path d=\"M 1177.3 410.0 C 1177.3 452.0 1177.3 506.2 1177.3 525.0\"/><g class=\"arrowhead\" transform=\"translate(1177.3, 525.0) rotate(90)\"><path d=\"M 0 -10 L 13 0 L 0 10 Z\" transform=\"translate(-3)\"/></g></g><g><path d=\"M 1177.3 410.0 C 1182.5 448.1 1195.3 461.2 1229.2 479.7\"/><g class=\"arrowhead\" transform=\"translate(1229.2, 479.7) rotate(29)\"><path d=\"M 0 -10 L 13 0 L 0 10 Z\" transform=\"translate(-3)\"/></g></g><text x=\"1192.3\" y=\"400.0\">PGLDhat</text></g><g name=\"KDPGA\"><path d=\"M 605.1 1104.3 L 590.2 1117.7\"/><path d=\"M 575.3 1131.0 L 590.2 1117.7\"/><g><path d=\"M 605.1 1104.3 C 657.1 1050.8 1174.1 777.4 1176.7 605.0\"/><g class=\"arrowhead\" transform=\"translate(1176.7, 605.0) rotate(-89)\"><path d=\"M 0 -10 L 13 0 L 0 10 Z\" transform=\"translate(-3)\"/></g></g><g><path d=\"M 575.3 1131.0 C 367.0 1214.8 298.7 1097.9 154.9 1175.3\"/><g class=\"arrowhead\" transform=\"translate(154.9, 1175.3) rotate(152)\"><path d=\"M 0 -10 L 13 0 L 0 10 Z\" transform=\"translate(-3)\"/></g></g><g><path d=\"M 575.3 1131.0 C 249.0 1577.9 924.8 2706.5 157.8 2719.6\"/><g class=\"arrowhead\" transform=\"translate(157.8, 2719.6) rotate(179)\"><path d=\"M 0 -10 L 13 0 L 0 10 Z\" transform=\"translate(-3)\"/></g></g><text x=\"506.9\" y=\"1068.5\">KDPGA</text></g><g name=\"ACN1\" style=\"stroke: #1f77cc; stroke-width: 20.0;\"><path d=\"M 1298.6 2694.1 L 1306.6 2712.5\"/><path d=\"M 1314.6 2730.8 L 1306.6 2712.5\"/><path d=\"M 1298.6 2694.1 C 1281.8 2655.6 1269.1 2620.5 1256.2 2513.7\"/><g><path d=\"M 1314.6 2730.8 C 1331.4 2769.3 1359.9 2809.4 1417.7 2860.1\"/><g class=\"arrowhead\" transform=\"translate(1417.7, 2860.1) rotate(41) scale(2.0)\" style=\"fill: #1f77cc\"><path d=\"M 0 -10 L 13 0 L 0 10 Z\" transform=\"translate(-3)\"/></g></g><g><path d=\"M 1314.6 2730.8 C 1333.0 2772.9 1432.8 2816.9 1463.7 2838.4\"/><g class=\"arrowhead\" transform=\"translate(1463.7, 2838.4) rotate(35) scale(2.0)\" style=\"fill: #1f77cc\"><path d=\"M 0 -10 L 13 0 L 0 10 Z\" transform=\"translate(-3)\"/></g></g><text x=\"1225.3\" y=\"2817.8\">ACN1</text></g><g name=\"ACN2\" style=\"stroke: #1f77cc; stroke-width: 20.0;\"><path d=\"M 1594.5 2988.2 L 1612.2 2997.6\"/><path d=\"M 1629.8 3006.9 L 1612.2 2997.6\"/><path d=\"M 1594.5 2988.2 C 1557.3 2968.7 1541.6 2961.0 1471.3 2905.1\"/><path d=\"M 1594.5 2988.2 C 1553.8 2966.8 1509.7 2892.1 1500.7 2875.9\"/><g><path d=\"M 1629.8 3006.9 C 1667.0 3026.5 1705.0 3046.3 1811.4 3064.5\"/><g class=\"arrowhead\" transform=\"translate(1811.4, 3064.5) rotate(10) scale(2.0)\" style=\"fill: #1f77cc\"><path d=\"M 0 -10 L 13 0 L 0 10 Z\" transform=\"translate(-3)\"/></g></g><text x=\"1538.1\" y=\"3066.9\">ACN2</text></g><g name=\"ICD\" style=\"stroke: #1f77cc; stroke-width: 20.0;\"><path d=\"M 2081.8 3058.5 L 2101.3 3053.9\"/><path d=\"M 2120.8 3049.3 L 2101.3 3053.9\"/><path d=\"M 2081.8 3058.5 C 2040.9 3068.1 2022.2 3073.3 1880.8 3071.7\"/><path d=\"M 2081.8 3058.5 C 2037.0 3069.0 2033.8 3099.1 2023.5 3134.7\"/><g><path d=\"M 2120.8 3049.3 C 2161.6 3039.6 2182.4 3027.2 2243.8 2983.1\"/><g class=\"arrowhead\" transform=\"translate(2243.8, 2983.1) rotate(-36) scale(2.0)\" style=\"fill: #1f77cc\"><path d=\"M 0 -10 L 13 0 L 0 10 Z\" transform=\"translate(-3)\"/></g></g><g><path d=\"M 2120.8 3049.3 C 2165.5 3038.7 2189.0 3035.8 2251.3 3044.2\"/><g class=\"arrowhead\" transform=\"translate(2251.3, 3044.2) rotate(8) scale(2.0)\" style=\"fill: #1f77cc\"><path d=\"M 0 -10 L 13 0 L 0 10 Z\" transform=\"translate(-3)\"/></g></g><g><path d=\"M 2120.8 3049.3 C 2165.5 3038.7 2201.3 3058.4 2209.5 3078.1\"/><g class=\"arrowhead\" transform=\"translate(2209.5, 3078.1) rotate(67) scale(2.0)\" style=\"fill: #1f77cc\"><path d=\"M 0 -10 L 13 0 L 0 10 Z\" transform=\"translate(-3)\"/></g></g><text x=\"2074.1\" y=\"3116.6\">ICD</text></g><g name=\"AKGDH\" style=\"stroke: #1f77cc; stroke-width: 20.0;\"><path d=\"M 2413.8 2831.6 L 2426.2 2815.9\"/><path d=\"M 2438.6 2800.2 L 2426.2 2815.9\"/><path d=\"M 2413.8 2831.6 C 2387.8 2864.6 2367.5 2893.8 2300.6 2942.2\"/><path d=\"M 2413.8 2831.6 C 2385.4 2867.8 2379.4 2917.8 2380.3 2986.7\"/><path d=\"M 2413.8 2831.6 C 2385.4 2867.8 2423.6 2915.0 2433.4 2921.7\"/><g><path d=\"M 2438.6 2800.2 C 2467.0 2764.1 2524.7 2748.8 2601.9 2743.3\"/><g class=\"arrowhead\" transform=\"translate(2601.9, 2743.3) rotate(-4) scale(2.0)\" style=\"fill: #1f77cc\"><path d=\"M 0 -10 L 13 0 L 0 10 Z\" transform=\"translate(-3)\"/></g></g><g><path d=\"M 2438.6 2800.2 C 2467.0 2764.1 2495.8 2777.9 2520.6 2789.7\"/><g class=\"arrowhead\" transform=\"translate(2520.6, 2789.7) rotate(25) scale(2.0)\" style=\"fill: #1f77cc\"><path d=\"M 0 -10 L 13 0 L 0 10 Z\" transform=\"translate(-3)\"/></g></g><g><path d=\"M 2438.6 2800.2 C 2464.6 2767.2 2471.7 2740.6 2492.3 2696.0\"/><g class=\"arrowhead\" transform=\"translate(2492.3, 2696.0) rotate(-65) scale(2.0)\" style=\"fill: #1f77cc\"><path d=\"M 0 -10 L 13 0 L 0 10 Z\" transform=\"translate(-3)\"/></g></g><text x=\"2437.8\" y=\"2869.5\">AKGDH</text></g><g name=\"SCS\" style=\"stroke: #1f77cc; stroke-width: 20.0;\"><path d=\"M 2536.6 2389.4 L 2536.6 2409.4\"/><path d=\"M 2536.6 2429.4 L 2536.6 2409.4\"/><path d=\"M 2536.6 2389.4 C 2536.6 2343.4 2582.0 2329.0 2619.7 2327.9\"/><path d=\"M 2536.6 2389.4 C 2536.6 2343.4 2568.8 2294.8 2619.2 2258.0\"/><path d=\"M 2536.6 2389.4 C 2536.6 2347.4 2529.5 2305.8 2497.4 2224.9\"/><g><path d=\"M 2536.6 2429.4 C 2536.6 2475.4 2566.5 2517.2 2606.8 2531.2\"/><g class=\"arrowhead\" transform=\"translate(2606.8, 2531.2) rotate(19) scale(2.0)\" style=\"fill: #1f77cc\"><path d=\"M 0 -10 L 13 0 L 0 10 Z\" transform=\"translate(-3)\"/></g></g><g><path d=\"M 2536.6 2429.4 C 2536.6 2475.4 2584.3 2492.1 2625.3 2477.3\"/><g class=\"arrowhead\" transform=\"translate(2625.3, 2477.3) rotate(-20) scale(2.0)\" style=\"fill: #1f77cc\"><path d=\"M 0 -10 L 13 0 L 0 10 Z\" transform=\"translate(-3)\"/></g></g><g><path d=\"M 2536.6 2429.4 C 2536.6 2471.4 2533.8 2549.2 2517.9 2620.7\"/><g class=\"arrowhead\" transform=\"translate(2517.9, 2620.7) rotate(103) scale(2.0)\" style=\"fill: #1f77cc\"><path d=\"M 0 -10 L 13 0 L 0 10 Z\" transform=\"translate(-3)\"/></g></g><text x=\"2565.3\" y=\"2426.2\">SCS</text></g><g name=\"SDH\" style=\"stroke: #1f77cc; stroke-width: 20.0;\"><path d=\"M 2391.4 2045.6 L 2376.3 2032.4\"/><path d=\"M 2361.3 2019.3 L 2376.3 2032.4\"/><path d=\"M 2391.4 2045.6 C 2426.0 2075.9 2441.8 2065.8 2487.4 2049.0\"/><path d=\"M 2391.4 2045.6 C 2423.0 2073.3 2435.7 2100.3 2472.5 2170.5\"/><g><path d=\"M 2361.3 2019.3 C 2326.6 1989.0 2334.5 1972.0 2343.0 1934.3\"/><g class=\"arrowhead\" transform=\"translate(2343.0, 1934.3) rotate(-77) scale(2.0)\" style=\"fill: #1f77cc\"><path d=\"M 0 -10 L 13 0 L 0 10 Z\" transform=\"translate(-3)\"/></g></g><g><path d=\"M 2361.3 2019.3 C 2329.6 1991.6 2309.1 1974.6 2241.6 1941.3\"/><g class=\"arrowhead\" transform=\"translate(2241.6, 1941.3) rotate(-154) scale(2.0)\" style=\"fill: #1f77cc\"><path d=\"M 0 -10 L 13 0 L 0 10 Z\" transform=\"translate(-3)\"/></g></g><text x=\"2384.5\" y=\"2008.2\">SDH</text></g><g name=\"FH\" style=\"stroke: #1f77cc; stroke-width: 20.0;\"><path d=\"M 2005.5 1859.9 L 2025.1 1863.6\"/><path d=\"M 2044.8 1867.3 L 2025.1 1863.6\"/><path d=\"M 2005.5 1859.9 C 1964.2 1852.0 1893.1 1847.8 1790.7 1860.2\"/><g><path d=\"M 2044.8 1867.3 C 2086.1 1875.1 2103.6 1882.3 2168.6 1908.6\"/><g class=\"arrowhead\" transform=\"translate(2168.6, 1908.6) rotate(22) scale(2.0)\" style=\"fill: #1f77cc\"><path d=\"M 0 -10 L 13 0 L 0 10 Z\" transform=\"translate(-3)\"/></g></g><g><path d=\"M 2044.8 1867.3 C 2090.0 1875.9 2098.5 1859.2 2122.9 1829.3\"/><g class=\"arrowhead\" transform=\"translate(2122.9, 1829.3) rotate(-51) scale(2.0)\" style=\"fill: #1f77cc\"><path d=\"M 0 -10 L 13 0 L 0 10 Z\" transform=\"translate(-3)\"/></g></g><text x=\"1972.9\" y=\"1825.9\">FH</text></g><g name=\"MDH\" style=\"stroke: #1f77cc; stroke-width: 20.0;\"><path d=\"M 1564.0 1949.6 L 1546.7 1959.6\"/><path d=\"M 1529.3 1969.6 L 1546.7 1959.6\"/><path d=\"M 1564.0 1949.6 C 1600.4 1928.7 1620.5 1915.8 1732.8 1874.2\"/><path d=\"M 1564.0 1949.6 C 1603.9 1926.7 1599.5 1908.5 1598.4 1859.9\"/><g><path d=\"M 1529.3 1969.6 C 1489.4 1992.5 1451.4 1985.4 1409.6 1970.0\"/><g class=\"arrowhead\" transform=\"translate(1409.6, 1970.0) rotate(-160) scale(2.0)\" style=\"fill: #1f77cc\"><path d=\"M 0 -10 L 13 0 L 0 10 Z\" transform=\"translate(-3)\"/></g></g><g><path d=\"M 1529.3 1969.6 C 1492.9 1990.5 1469.7 2011.5 1417.1 2067.3\"/><g class=\"arrowhead\" transform=\"translate(1417.1, 2067.3) rotate(133) scale(2.0)\" style=\"fill: #1f77cc\"><path d=\"M 0 -10 L 13 0 L 0 10 Z\" transform=\"translate(-3)\"/></g></g><text x=\"1480.7\" y=\"1928.7\">MDH</text></g><g name=\"CS\" style=\"stroke: #1f77cc; stroke-width: 20.0;\"><path d=\"M 1299.7 2233.4 L 1294.0 2252.6\"/><path d=\"M 1288.4 2271.8 L 1294.0 2252.6\"/><path d=\"M 1299.7 2233.4 C 1223.6 1918.3 759.7 2842.8 511.6 3006.0\"/><path d=\"M 1299.7 2233.4 C 1332.2 2169.9 1381.1 2176.8 1409.2 2208.1\"/><path d=\"M 1299.7 2233.4 C 1324.7 2183.2 1326.4 2190.0 1372.9 2121.3\"/><g><path d=\"M 1288.4 2271.8 C 1276.5 2312.1 1252.9 2361.5 1252.7 2443.9\"/><g class=\"arrowhead\" transform=\"translate(1252.7, 2443.9) rotate(90) scale(2.0)\" style=\"fill: #1f77cc\"><path d=\"M 0 -10 L 13 0 L 0 10 Z\" transform=\"translate(-3)\"/></g></g><g><path d=\"M 1288.4 2271.8 C 1275.4 2315.9 1256.6 2315.9 1218.9 2324.0\"/><g class=\"arrowhead\" transform=\"translate(1218.9, 2324.0) rotate(168) scale(2.0)\" style=\"fill: #1f77cc\"><path d=\"M 0 -10 L 13 0 L 0 10 Z\" transform=\"translate(-3)\"/></g></g><text x=\"1191.5\" y=\"2260.6\">CS</text></g><g name=\"MS\" style=\"stroke: #1f77cc; stroke-width: 20.0;\"><path d=\"M 1746.5 2357.9 L 1756.6 2340.6\"/><path d=\"M 1766.7 2323.4 L 1756.6 2340.6\"/><path d=\"M 1746.5 2357.9 C 1498.4 2618.0 986.5 2946.3 516.2 3017.9\"/><path d=\"M 1746.5 2357.9 C 1718.6 2435.1 1781.0 2555.5 1960.5 2530.1\"/><path d=\"M 1746.5 2357.9 C 1714.3 2395.4 1658.6 2415.9 1612.1 2413.4\"/><g><path d=\"M 1766.7 2323.4 C 1787.8 2287.1 2015.0 1902.8 1800.5 1869.9\"/><g class=\"arrowhead\" transform=\"translate(1800.5, 1869.9) rotate(-171) scale(2.0)\" style=\"fill: #1f77cc\"><path d=\"M 0 -10 L 13 0 L 0 10 Z\" transform=\"translate(-3)\"/></g></g><g><path d=\"M 1766.7 2323.4 C 1789.8 2283.6 1776.9 2270.0 1756.9 2237.0\"/><g class=\"arrowhead\" transform=\"translate(1756.9, 2237.0) rotate(-121) scale(2.0)\" style=\"fill: #1f77cc\"><path d=\"M 0 -10 L 13 0 L 0 10 Z\" transform=\"translate(-3)\"/></g></g><text x=\"1699.8\" y=\"2325.8\">MS</text></g><g name=\"ICL\" style=\"stroke: #1f77cc; stroke-width: 20.0;\"><path d=\"M 2186.5 2781.2 L 2198.9 2765.5\"/><path d=\"M 2211.3 2749.8 L 2198.9 2765.5\"/><path d=\"M 2186.5 2781.2 C 2160.5 2814.2 2023.1 2964.2 1876.3 3055.5\"/><g><path d=\"M 2211.3 2749.8 C 2232.8 2708.9 2206.2 2505.3 2030.0 2522.1\"/><g class=\"arrowhead\" transform=\"translate(2030.0, 2522.1) rotate(175) scale(2.0)\" style=\"fill: #1f77cc\"><path d=\"M 0 -10 L 13 0 L 0 10 Z\" transform=\"translate(-3)\"/></g></g><g><path d=\"M 2211.3 2749.8 C 2280.3 2665.0 2459.4 2382.8 2480.6 2236.6\"/><g class=\"arrowhead\" transform=\"translate(2480.6, 2236.6) rotate(-82) scale(2.0)\" style=\"fill: #1f77cc\"><path d=\"M 0 -10 L 13 0 L 0 10 Z\" transform=\"translate(-3)\"/></g></g><text x=\"2080.8\" y=\"2764.1\">ICL</text></g><g name=\"GlcPTS\"><path d=\"M -747.3 1732.8 L -747.3 1712.8\"/><path d=\"M -747.3 1692.8 L -747.3 1712.8\"/><path d=\"M -747.3 1732.8 C -747.3 1774.8 -858.0 1761.5 -925.4 1761.7\"/><path d=\"M -747.3 1732.8 C -747.3 1778.8 -746.3 2351.2 87.8 2369.6\"/><g><path d=\"M -747.3 1692.8 C -742.4 1032.6 -518.5 145.9 -272.2 146.4\"/><g class=\"arrowhead\" transform=\"translate(-272.2, 146.4) rotate(0)\"><path d=\"M 0 -10 L 13 0 L 0 10 Z\" transform=\"translate(-3)\"/></g></g><g><path d=\"M -747.3 1692.8 C -520.9 1274.4 -597.9 2734.5 77.8 2721.1\"/><g class=\"arrowhead\" transform=\"translate(77.8, 2721.1) rotate(-1)\"><path d=\"M 0 -10 L 13 0 L 0 10 Z\" transform=\"translate(-3)\"/></g></g><text x=\"-732.3\" y=\"1722.8\">GlcPTS</text></g><g name=\"ME1\" style=\"stroke: #1f77cc; stroke-width: 20.0;\"><path d=\"M 1273.2 1627.7 L 1253.2 1627.7\"/><path d=\"M 1233.2 1627.7 L 1253.2 1627.7\"/><path d=\"M 1273.2 1627.7 C 1315.2 1627.7 1639.0 1616.9 1747.6 1836.9\"/><path d=\"M 1273.2 1627.7 C 1319.2 1627.7 1324.5 1609.7 1347.7 1567.0\"/><g><path d=\"M 1233.2 1627.7 C 1187.2 1627.7 1151.2 1623.1 1132.7 1589.2\"/><g class=\"arrowhead\" transform=\"translate(1132.7, 1589.2) rotate(-119) scale(2.0)\" style=\"fill: #1f77cc\"><path d=\"M 0 -10 L 13 0 L 0 10 Z\" transform=\"translate(-3)\"/></g></g><g><path d=\"M 1233.2 1627.7 C 1187.2 1627.7 1182.0 1605.4 1178.4 1571.9\"/><g class=\"arrowhead\" transform=\"translate(1178.4, 1571.9) rotate(-96) scale(2.0)\" style=\"fill: #1f77cc\"><path d=\"M 0 -10 L 13 0 L 0 10 Z\" transform=\"translate(-3)\"/></g></g><g><path d=\"M 1233.2 1627.7 C 599.2 1682.6 819.5 2715.4 157.8 2720.0\"/><g class=\"arrowhead\" transform=\"translate(157.8, 2720.0) rotate(180) scale(2.0)\" style=\"fill: #1f77cc\"><path d=\"M 0 -10 L 13 0 L 0 10 Z\" transform=\"translate(-3)\"/></g></g><text x=\"1218.0\" y=\"1598.4\">ME1</text></g><g name=\"ME2\" style=\"stroke: #1f77cc; stroke-width: 20.0;\"><path d=\"M 1275.9 1683.3 L 1255.9 1683.3\"/><path d=\"M 1235.9 1683.3 L 1255.9 1683.3\"/><path d=\"M 1275.9 1683.3 C 1317.9 1683.3 1648.4 1692.7 1744.4 1838.8\"/><path d=\"M 1275.9 1683.3 C 1321.9 1683.3 1335.2 1705.5 1345.8 1744.3\"/><g><path d=\"M 1235.9 1683.3 C 1189.9 1683.3 1176.6 1685.4 1135.6 1718.6\"/><g class=\"arrowhead\" transform=\"translate(1135.6, 1718.6) rotate(141) scale(2.0)\" style=\"fill: #1f77cc\"><path d=\"M 0 -10 L 13 0 L 0 10 Z\" transform=\"translate(-3)\"/></g></g><g><path d=\"M 1235.9 1683.3 C 1189.9 1683.3 1173.9 1687.9 1160.3 1732.7\"/><g class=\"arrowhead\" transform=\"translate(1160.3, 1732.7) rotate(107) scale(2.0)\" style=\"fill: #1f77cc\"><path d=\"M 0 -10 L 13 0 L 0 10 Z\" transform=\"translate(-3)\"/></g></g><g><path d=\"M 1235.9 1683.3 C 609.9 1736.9 810.1 2704.0 157.8 2719.3\"/><g class=\"arrowhead\" transform=\"translate(157.8, 2719.3) rotate(179) scale(2.0)\" style=\"fill: #1f77cc\"><path d=\"M 0 -10 L 13 0 L 0 10 Z\" transform=\"translate(-3)\"/></g></g><text x=\"1218.0\" y=\"1734.5\">ME2</text></g><g name=\"PPCK\" style=\"stroke: #1f77cc; stroke-width: 20.0;\"><path d=\"M 1033.7 2058.8 L 1013.7 2058.8\"/><path d=\"M 993.7 2058.8 L 1013.7 2058.8\"/><path d=\"M 1033.7 2058.8 C 1079.7 2058.8 1085.0 2040.8 1108.2 1998.1\"/><path d=\"M 1033.7 2058.8 C 1075.7 2058.8 1313.8 2091.6 1359.7 2094.5\"/><g><path d=\"M 993.7 2058.8 C 947.7 2058.8 942.5 2046.0 936.5 2008.2\"/><g class=\"arrowhead\" transform=\"translate(936.5, 2008.2) rotate(-99) scale(2.0)\" style=\"fill: #1f77cc\"><path d=\"M 0 -10 L 13 0 L 0 10 Z\" transform=\"translate(-3)\"/></g></g><g><path d=\"M 993.7 2058.8 C 947.7 2058.8 927.7 2059.6 909.3 2025.7\"/><g class=\"arrowhead\" transform=\"translate(909.3, 2025.7) rotate(-119) scale(2.0)\" style=\"fill: #1f77cc\"><path d=\"M 0 -10 L 13 0 L 0 10 Z\" transform=\"translate(-3)\"/></g></g><g><path d=\"M 993.7 2058.8 C 781.6 2066.8 342.5 2201.6 149.8 2346.2\"/><g class=\"arrowhead\" transform=\"translate(149.8, 2346.2) rotate(143) scale(2.0)\" style=\"fill: #1f77cc\"><path d=\"M 0 -10 L 13 0 L 0 10 Z\" transform=\"translate(-3)\"/></g></g><text x=\"963.7\" y=\"2018.8\">PPCK</text></g><g name=\"PPC\" style=\"stroke: #1f77cc; stroke-width: 20.0;\"><path d=\"M 1040.4 2102.4 L 1020.4 2102.4\"/><path d=\"M 1000.4 2102.4 L 1020.4 2102.4\"/><path d=\"M 1040.4 2102.4 C 1086.4 2102.4 1093.0 2128.6 1067.4 2158.5\"/><path d=\"M 1040.4 2102.4 C 1082.4 2102.4 1328.6 2093.6 1359.7 2095.0\"/><path d=\"M 1040.4 2102.4 C 1086.4 2102.4 1091.7 2120.4 1114.9 2163.1\"/><g><path d=\"M 1000.4 2102.4 C 954.4 2102.4 933.1 2112.3 914.6 2146.2\"/><g class=\"arrowhead\" transform=\"translate(914.6, 2146.2) rotate(119) scale(2.0)\" style=\"fill: #1f77cc\"><path d=\"M 0 -10 L 13 0 L 0 10 Z\" transform=\"translate(-3)\"/></g></g><g><path d=\"M 1000.4 2102.4 C 954.4 2102.4 951.9 2138.0 962.6 2154.9\"/><g class=\"arrowhead\" transform=\"translate(962.6, 2154.9) rotate(58) scale(2.0)\" style=\"fill: #1f77cc\"><path d=\"M 0 -10 L 13 0 L 0 10 Z\" transform=\"translate(-3)\"/></g></g><g><path d=\"M 1000.4 2102.4 C 807.1 2099.7 424.3 2170.0 151.3 2348.4\"/><g class=\"arrowhead\" transform=\"translate(151.3, 2348.4) rotate(147) scale(2.0)\" style=\"fill: #1f77cc\"><path d=\"M 0 -10 L 13 0 L 0 10 Z\" transform=\"translate(-3)\"/></g></g><text x=\"985.2\" y=\"2141.5\">PPC</text></g></g><g id=\"metabolites\"><g name=\"NAD\"><circle cx=\"37.7\" cy=\"1267.1\" r=\"12.0\"/><text x=\"-0.7\" y=\"1298.7\">NAD</text></g><g name=\"Pi\"><circle cx=\"199.7\" cy=\"1263.5\" r=\"12.0\"/><text x=\"199.8\" y=\"1294.1\">Pi</text></g><g name=\"DPG\"><circle cx=\"117.8\" cy=\"1546.5\" r=\"20.0\"/><text x=\"142.8\" y=\"1546.5\">DPG</text></g><g name=\"NADH\"><circle cx=\"37.8\" cy=\"1476.5\" r=\"12.0\"/><text x=\"-13.1\" y=\"1459.0\">NADH</text></g><g name=\"3PG\"><circle cx=\"117.8\" cy=\"1896.5\" r=\"20.0\"/><text x=\"142.8\" y=\"1896.5\">3PG</text></g><g name=\"ATP\"><circle cx=\"37.8\" cy=\"1826.5\" r=\"12.0\"/><text x=\"10.8\" y=\"1856.5\">ATP</text></g><g name=\"ADP\"><circle cx=\"37.8\" cy=\"1616.5\" r=\"12.0\"/><text x=\"10.8\" y=\"1646.5\">ADP</text></g><g name=\"2PG\"><circle cx=\"117.8\" cy=\"2097.7\" r=\"20.0\"/><text x=\"142.8\" y=\"2097.7\">2PG</text></g><g name=\"H2O\"><circle cx=\"37.8\" cy=\"2300.3\" r=\"12.0\"/><text x=\"10.8\" y=\"2330.3\">H2O</text></g><g name=\"PEP\"><circle cx=\"117.8\" cy=\"2370.3\" r=\"20.0\"/><text x=\"95.8\" y=\"2419.9\">PEP</text></g><g name=\"ATP\"><circle cx=\"-79.8\" cy=\"2654.2\" r=\"12.0\"/><text x=\"-131.2\" y=\"2651.9\">ATP</text></g><g name=\"H2O\"><circle cx=\"-70.5\" cy=\"2571.3\" r=\"12.0\"/><text x=\"-125.7\" y=\"2576.6\">H2O</text></g><g name=\"pyr\"><circle cx=\"117.8\" cy=\"2720.3\" r=\"20.0\"/><text x=\"140.9\" y=\"2754.0\">pyr</text></g><g name=\"AMP\"><circle cx=\"-79.8\" cy=\"2444.8\" r=\"12.0\"/><text x=\"-135.9\" y=\"2441.3\">AMP</text></g><g name=\"Pi\"><circle cx=\"-135.7\" cy=\"2489.5\" r=\"12.0\"/><text x=\"-165.5\" y=\"2515.4\">Pi</text></g><g name=\"CoA\"><circle cx=\"266.2\" cy=\"2813.1\" r=\"12.0\"/><text x=\"281.2\" y=\"2813.1\">CoA</text></g><g name=\"NAD\"><circle cx=\"37.8\" cy=\"2790.3\" r=\"12.0\"/><text x=\"-40.3\" y=\"2794.7\">NAD</text></g><g name=\"acCoA\"><circle cx=\"486.6\" cy=\"3022.5\" r=\"20.0\"/><text x=\"458.9\" y=\"3074.2\">acCoA</text></g><g name=\"CO2\"><circle cx=\"15.4\" cy=\"3041.3\" r=\"12.0\"/><text x=\"-48.7\" y=\"3071.7\">CO2</text></g><g name=\"NADH\"><circle cx=\"13.5\" cy=\"2942.5\" r=\"12.0\"/><text x=\"-68.1\" y=\"2958.8\">NADH</text></g><g name=\"ATP\"><circle cx=\"312.2\" cy=\"2653.4\" r=\"12.0\"/><text x=\"327.2\" y=\"2653.4\">ATP</text></g><g name=\"ADP\"><circle cx=\"305.7\" cy=\"2447.5\" r=\"12.0\"/><text x=\"318.2\" y=\"2442.9\">ADP</text></g><g name=\"DHAP\"><circle cx=\"-232.2\" cy=\"1196.5\" r=\"20.0\"/><text x=\"-253.8\" y=\"1236.5\">DHAP</text></g><g name=\"F16bP\"><circle cx=\"-232.2\" cy=\"846.5\" r=\"20.0\"/><text x=\"-371.9\" y=\"870.9\">F16bP</text></g><g name=\"ATP\"><circle cx=\"-39.8\" cy=\"587.9\" r=\"12.0\"/><text x=\"-24.8\" y=\"587.9\">ATP</text></g><g name=\"F6P\"><circle cx=\"-232.2\" cy=\"496.5\" r=\"20.0\"/><text x=\"-343.7\" y=\"498.9\">F6P</text></g><g name=\"ADP\"><circle cx=\"-31.6\" cy=\"766.5\" r=\"12.0\"/><text x=\"-16.8\" y=\"766.3\">ADP</text></g><g name=\"G6P\"><circle cx=\"-232.2\" cy=\"146.5\" r=\"20.0\"/><text x=\"-355.4\" y=\"128.7\">G6P</text></g><g name=\"6PG\"><circle cx=\"467.8\" cy=\"145.2\" r=\"20.0\"/><text x=\"451.6\" y=\"185.2\">6PG</text></g><g name=\"Ru5P\"><circle cx=\"882.6\" cy=\"423.1\" r=\"20.0\"/><text x=\"907.6\" y=\"423.1\">Ru5P</text></g><g name=\"R5P\"><circle cx=\"881.3\" cy=\"665.1\" r=\"20.0\"/><text x=\"907.6\" y=\"704.6\">R5P</text></g><g name=\"Sed7P\"><circle cx=\"483.9\" cy=\"697.7\" r=\"20.0\"/><text x=\"440.7\" y=\"737.7\">Sed7P</text></g><g name=\"6PGDL\"><circle cx=\"117.8\" cy=\"145.2\" r=\"20.0\"/><text x=\"90.8\" y=\"185.2\">6PGDL</text></g><g name=\"H2O\"><circle cx=\"187.8\" cy=\"65.2\" r=\"12.0\"/><text x=\"171.6\" y=\"45.2\">H2O</text></g><g name=\"NADP\"><circle cx=\"-162.2\" cy=\"65.2\" r=\"12.0\"/><text x=\"-205.4\" y=\"45.2\">NADP</text></g><g name=\"NADPH\"><circle cx=\"47.8\" cy=\"65.2\" r=\"12.0\"/><text x=\"20.8\" y=\"45.2\">NADPH</text></g><g name=\"NADP\"><circle cx=\"827.5\" cy=\"159.6\" r=\"12.0\"/><text x=\"842.5\" y=\"159.6\">NADP</text></g><g name=\"CO2\"><circle cx=\"912.2\" cy=\"214.1\" r=\"12.0\"/><text x=\"933.9\" y=\"207.2\">CO2</text></g><g name=\"NADPH\"><circle cx=\"932.5\" cy=\"263.4\" r=\"12.0\"/><text x=\"947.5\" y=\"263.4\">NADPH</text></g><g name=\"Xu5P\"><circle cx=\"483.9\" cy=\"347.7\" r=\"20.0\"/><text x=\"440.7\" y=\"387.7\">Xu5P</text></g><g name=\"H2O\"><circle cx=\"-430.7\" cy=\"772.5\" r=\"12.0\"/><text x=\"-457.7\" y=\"802.5\">H2O</text></g><g name=\"Pi\"><circle cx=\"-430.7\" cy=\"562.5\" r=\"12.0\"/><text x=\"-448.7\" y=\"592.5\">Pi</text></g><g name=\"E4P\"><circle cx=\"330.3\" cy=\"518.9\" r=\"20.0\"/><text x=\"221.3\" y=\"505.5\">E4P</text></g><g name=\"KDPG\"><circle cx=\"1177.3\" cy=\"565.0\" r=\"20.0\"/><text x=\"1086.1\" y=\"573.5\">KDPG</text></g><g name=\"H2O\"><circle cx=\"1257.3\" cy=\"495.0\" r=\"12.0\"/><text x=\"1272.3\" y=\"495.0\">H2O</text></g><g name=\"GAP\"><circle cx=\"119.7\" cy=\"1194.2\" r=\"20.0\"/><text x=\"141.2\" y=\"1219.0\">GAP</text></g><g name=\"cit\"><circle cx=\"1252.6\" cy=\"2483.9\" r=\"20.0\"/><text x=\"1181.1\" y=\"2493.7\">cit</text></g><g name=\"OAA\"><circle cx=\"1389.7\" cy=\"2096.4\" r=\"20.0\"/><text x=\"1300.5\" y=\"2071.3\">OAA</text></g><g name=\"mal\"><circle cx=\"1760.9\" cy=\"1863.8\" r=\"20.0\"/><text x=\"1755.5\" y=\"1823.1\">mal</text></g><g name=\"fum\"><circle cx=\"2205.7\" cy=\"1923.6\" r=\"20.0\"/><text x=\"2214.6\" y=\"1881.4\">fum</text></g><g name=\"succ\"><circle cx=\"2486.4\" cy=\"2197.1\" r=\"20.0\"/><text x=\"2535.8\" y=\"2198.2\">succ</text></g><g name=\"succCoA\"><circle cx=\"2509.2\" cy=\"2659.7\" r=\"20.0\"/><text x=\"2551.9\" y=\"2667.1\">succCoA</text></g><g name=\"αkg\"><circle cx=\"2276.3\" cy=\"2959.8\" r=\"20.0\"/><text x=\"2301.3\" y=\"2959.8\">αkg</text></g><g name=\"icit\"><circle cx=\"1850.8\" cy=\"3071.3\" r=\"20.0\"/><text x=\"1821.0\" y=\"3126.1\">icit</text></g><g name=\"acon\"><circle cx=\"1447.7\" cy=\"2886.5\" r=\"20.0\"/><text x=\"1385.0\" y=\"2921.9\">acon</text></g><g name=\"glx\"><circle cx=\"1990.2\" cy=\"2525.9\" r=\"20.0\"/><text x=\"1963.2\" y=\"2565.9\">glx</text></g><g name=\"H2O\"><circle cx=\"1490.0\" cy=\"2856.7\" r=\"12.0\"/><text x=\"1497.2\" y=\"2838.7\">H2O</text></g><g name=\"NADP\"><circle cx=\"2017.4\" cy=\"3155.8\" r=\"12.0\"/><text x=\"1995.8\" y=\"3195.8\">NADP</text></g><g name=\"CO2\"><circle cx=\"2283.0\" cy=\"3048.5\" r=\"12.0\"/><text x=\"2291.9\" y=\"3085.6\">CO2</text></g><g name=\"NADPH\"><circle cx=\"2221.8\" cy=\"3107.7\" r=\"12.0\"/><text x=\"2205.6\" y=\"3147.7\">NADPH</text></g><g name=\"CoA\"><circle cx=\"2380.6\" cy=\"3008.7\" r=\"12.0\"/><text x=\"2359.8\" y=\"3055.0\">CoA</text></g><g name=\"NAD\"><circle cx=\"2451.5\" cy=\"2934.2\" r=\"12.0\"/><text x=\"2435.3\" y=\"2974.2\">NAD</text></g><g name=\"CO2\"><circle cx=\"2633.8\" cy=\"2741.0\" r=\"12.0\"/><text x=\"2647.3\" y=\"2782.7\">CO2</text></g><g name=\"NADH\"><circle cx=\"2549.5\" cy=\"2803.5\" r=\"12.0\"/><text x=\"2571.2\" y=\"2832.1\">NADH</text></g><g name=\"ATP\"><circle cx=\"2641.7\" cy=\"2327.2\" r=\"12.0\"/><text x=\"2663.6\" y=\"2322.7\">ATP</text></g><g name=\"CoA\"><circle cx=\"2637.0\" cy=\"2245.0\" r=\"12.0\"/><text x=\"2673.9\" y=\"2236.2\">CoA</text></g><g name=\"ADP\"><circle cx=\"2637.0\" cy=\"2541.8\" r=\"12.0\"/><text x=\"2657.9\" y=\"2574.1\">ADP</text></g><g name=\"Pi\"><circle cx=\"2655.4\" cy=\"2466.4\" r=\"12.0\"/><text x=\"2670.4\" y=\"2466.4\">Pi</text></g><g name=\"Q\"><circle cx=\"2508.0\" cy=\"2041.4\" r=\"12.0\"/><text x=\"2541.3\" y=\"2039.1\">Q</text></g><g name=\"QH2\"><circle cx=\"2350.0\" cy=\"1903.1\" r=\"12.0\"/><text x=\"2349.0\" y=\"1882.5\">QH2</text></g><g name=\"H2O\"><circle cx=\"2143.2\" cy=\"1804.6\" r=\"12.0\"/><text x=\"2127.0\" y=\"1784.6\">H2O</text></g><g name=\"NAD\"><circle cx=\"1597.9\" cy=\"1837.9\" r=\"12.0\"/><text x=\"1570.3\" y=\"1806.5\">NAD</text></g><g name=\"NADH\"><circle cx=\"1379.6\" cy=\"1959.0\" r=\"12.0\"/><text x=\"1302.6\" y=\"1939.7\">NADH</text></g><g name=\"H2O\"><circle cx=\"1423.9\" cy=\"2224.5\" r=\"12.0\"/><text x=\"1396.2\" y=\"2277.5\">H2O</text></g><g name=\"CoA\"><circle cx=\"1187.6\" cy=\"2330.7\" r=\"12.0\"/><text x=\"1115.5\" y=\"2341.4\">CoA</text></g><g name=\"H2O\"><circle cx=\"1590.2\" cy=\"2412.3\" r=\"12.0\"/><text x=\"1533.1\" y=\"2403.6\">H2O</text></g><g name=\"CoA\"><circle cx=\"1740.4\" cy=\"2209.6\" r=\"12.0\"/><text x=\"1658.5\" y=\"2192.1\">CoA</text></g><g name=\"Glc.D.ext\"><circle cx=\"-955.4\" cy=\"1761.8\" r=\"20.0\"/><text x=\"-1027.8\" y=\"1725.3\">Glc.D.ext</text></g><g name=\"NAD\"><circle cx=\"1358.2\" cy=\"1547.7\" r=\"12.0\"/><text x=\"1342.0\" y=\"1527.7\">NAD</text></g><g name=\"CO2\"><circle cx=\"1117.4\" cy=\"1561.1\" r=\"12.0\"/><text x=\"1101.2\" y=\"1541.1\">CO2</text></g><g name=\"NADH\"><circle cx=\"1175.1\" cy=\"1540.1\" r=\"12.0\"/><text x=\"1154.8\" y=\"1519.7\">NADH</text></g><g name=\"NADP\"><circle cx=\"1351.5\" cy=\"1765.6\" r=\"12.0\"/><text x=\"1329.9\" y=\"1805.9\">NADP</text></g><g name=\"CO2\"><circle cx=\"1110.7\" cy=\"1738.7\" r=\"12.0\"/><text x=\"1078.4\" y=\"1779.1\">CO2</text></g><g name=\"NADPH\"><circle cx=\"1150.9\" cy=\"1763.3\" r=\"12.0\"/><text x=\"1134.7\" y=\"1803.3\">NADPH</text></g><g name=\"ATP\"><circle cx=\"1118.7\" cy=\"1978.8\" r=\"12.0\"/><text x=\"1102.5\" y=\"1958.8\">ATP</text></g><g name=\"ADP\"><circle cx=\"931.5\" cy=\"1976.5\" r=\"12.0\"/><text x=\"893.9\" y=\"1952.2\">ADP</text></g><g name=\"CO2\"><circle cx=\"894.0\" cy=\"1997.6\" r=\"12.0\"/><text x=\"846.9\" y=\"1984.3\">CO2</text></g><g name=\"H+\"><circle cx=\"1053.0\" cy=\"2175.2\" r=\"12.0\"/><text x=\"1039.5\" y=\"2210.2\">H+</text></g><g name=\"Pi\"><circle cx=\"1125.4\" cy=\"2182.4\" r=\"12.0\"/><text x=\"1109.2\" y=\"2222.4\">Pi</text></g><g name=\"CO2\"><circle cx=\"899.3\" cy=\"2174.3\" r=\"12.0\"/><text x=\"883.1\" y=\"2214.3\">CO2</text></g><g name=\"H2O\"><circle cx=\"979.8\" cy=\"2181.9\" r=\"12.0\"/><text x=\"960.9\" y=\"2214.2\">H2O</text></g></g></g></svg>"
      ],
      "text/plain": [
       "<IPython.core.display.SVG object>"
      ]
     },
     "execution_count": 15,
     "metadata": {},
     "output_type": "execute_result"
    }
   ],
   "source": [
    "network = ReactionNetwork(r for r in tca.steps + glx_shunt.steps + [kbr(rxn_id) for rxn_id in ('pyk', 'pps', 'pdh', 'ppc', 'ppck', 'mae.nad', 'mae.nadp')])\n",
    "print(network.s_matrix.shape)\n",
    "\n",
    "map_json = json.loads(files(pw_files).joinpath('central_carbon.json').read_text())\n",
    "diag = escher_map.EscherMap(map_json, width=\"10in\", reaction_scale=escher_map.Scale({0.: (\"#eeeeee\", 3), 1.: (\"#1f77cc\", 20)}, use_abs=True))\n",
    "SVG(diag.draw(reaction_data={r: 1 for r in network.reactions.labels()}))"
   ]
  },
  {
   "cell_type": "code",
   "execution_count": 16,
   "id": "1cebeb56-6e1f-44fa-b308-e31e6ecf4707",
   "metadata": {
    "tags": []
   },
   "outputs": [
    {
     "name": "stdout",
     "output_type": "stream",
     "text": [
      "(13, 23) 23\n",
      "113 elementary modes\n"
     ]
    },
    {
     "data": {
      "application/vnd.jupyter.widget-view+json": {
       "model_id": "ca0fe6567f02456b828467389799742f",
       "version_major": 2,
       "version_minor": 0
      },
      "text/plain": [
       "VBox(children=(IntSlider(value=0, description='Mode', layout=Layout(width='100%'), max=112), HBox(children=(VB…"
      ]
     },
     "execution_count": 16,
     "metadata": {},
     "output_type": "execute_result"
    }
   ],
   "source": [
    "boundaries = {\n",
    "    kbm('pep'), kbm('pyr'), kbm('accoa'), kbm('oaa'), kbm('akg'),\n",
    "    kbm('amp'), kbm('adp'), kbm('atp'), kbm('pi'),\n",
    "    kbm('nad.ox'), kbm('nad.red'), kbm('nadp.ox'), kbm('nadp.red'), kbm('q.ox'), kbm('q.red'),    \n",
    "    kbm('coa'),    \n",
    "    kbm('h+'), kbm('h2o'), kbm('co2')\n",
    "}\n",
    "# Possibly treat a subset of the boundaries as exchanges\n",
    "exchanges = {\n",
    "    kbm('pep'): 0,\n",
    "    kbm('pyr'): 0,\n",
    "    kbm('accoa'): -1,\n",
    "    kbm('oaa'): -1,\n",
    "    kbm('akg'): -1,\n",
    "}\n",
    "\n",
    "def augmented_internal_system(network, bounds, exchanges):\n",
    "    \"\"\"Returns S matrix with rows for internal and exchanged metabolites only.\"\"\"\n",
    "    \n",
    "    # Append columns ('reactions') with a single entry for each exchange\n",
    "    exchange_cols = np.zeros((network.shape[0], len(exchanges)), dtype=int)\n",
    "    for j, (met, direction) in enumerate(exchanges.items()):\n",
    "        exchange_cols[network.reactants.index_of(met), j] = direction or 1\n",
    "\n",
    "    intermediates = [met not in bounds for met in network.reactants]\n",
    "    s_matrix = np.concatenate([network.s_matrix.astype(int), exchange_cols], axis=1)\n",
    "    reversibility = [reaction.reversible for reaction in network.reactions]\n",
    "    reversibility.extend(direction == 0 for met, direction in exchanges.items())\n",
    "    return s_matrix[intermediates],  reversibility\n",
    "\n",
    "internal_system, reversibility = augmented_internal_system(network, boundaries - exchanges.keys(), exchanges)\n",
    "print(internal_system.shape, len(reversibility))\n",
    "modes, mrev = elementary_modes(internal_system, reversibility)\n",
    "modes = modes[:network.shape[1]]\n",
    "print(f'{modes.shape[1]} elementary modes')\n",
    "\n",
    "show_modes(network, modes, mrev, map_json='central_carbon.json')"
   ]
  },
  {
   "cell_type": "markdown",
   "id": "6556aca1-4a60-4152-9d37-5b856a41135a",
   "metadata": {},
   "source": [
    "## Use current $\\Delta{G}_r$ to constrain reaction direction "
   ]
  },
  {
   "cell_type": "code",
   "execution_count": 17,
   "id": "7e26d8ca-110b-441e-8e30-e83d9cb705be",
   "metadata": {
    "tags": []
   },
   "outputs": [
    {
     "data": {
      "image/png": "[encoded data removed]",
      "text/plain": [
       "<Figure size 640x480 with 1 Axes>"
      ]
     },
     "metadata": {},
     "output_type": "display_data"
    },
    {
     "data": {
      "text/plain": [
       "ICD      -3.372707\n",
       "AKGDH   -48.229917\n",
       "SCS      -9.620471\n",
       "ACN2      3.285738\n",
       "FH       -0.903246\n",
       "CS      -17.524282\n",
       "SDH     -25.277125\n",
       "ACN1     -0.033476\n",
       "MDH      -0.372701\n",
       "MS      -25.828589\n",
       "ICL      -6.727101\n",
       "PYK      12.755788\n",
       "PPS     -26.237576\n",
       "PDH     -52.686754\n",
       "PPC      40.831996\n",
       "PPCK     -5.618116\n",
       "ME1     -18.746605\n",
       "ME2      -3.189822\n",
       "dtype: float64"
      ]
     },
     "execution_count": 17,
     "metadata": {},
     "output_type": "execute_result"
    }
   ],
   "source": [
    "dg0 = np.array([std_dg_r[rxn].magnitude.nominal_value for rxn in network.reactions])\n",
    "ln_conc = np.log(np.array([POOLS.get(met, 1e3) * 1e-3 for met in network.reactants]))\n",
    "dg = dg0 + cc.RT.magnitude * network.s_matrix.T @ ln_conc\n",
    "\n",
    "plt.hist(dg)\n",
    "plt.show()\n",
    "\n",
    "pd.Series(dg, index=network.reactions.labels())"
   ]
  },
  {
   "cell_type": "markdown",
   "id": "6749e563-2faf-4e83-92f8-464f6dc39b52",
   "metadata": {
    "tags": []
   },
   "source": [
    "### Strategy:\n",
    "- Use a vector of +1 & -1 to set thermodynamic direction of each reaction\n",
    "    - Operates directly on the S matrix, leaves `network` unchanged, requires no changes to Reaction objects\n",
    "- Reversibility based on |ΔG| < threshold, _overriding_ any preset reversibility on the Reaction.\n",
    "    - Strictly speaking, threshold should 0, but positive threshold allows for uncertainty in ΔG° and/or Q\n",
    "    - Eventually, use uncertainty directly instead of a threshold parameter?"
   ]
  },
  {
   "cell_type": "code",
   "execution_count": 18,
   "id": "0c38747c-ab55-4099-bed3-27c2d8fee8b7",
   "metadata": {
    "tags": []
   },
   "outputs": [
    {
     "name": "stdout",
     "output_type": "stream",
     "text": [
      "[-3.37270737e+00 -4.82299172e+01 -9.62047124e+00  3.28573788e+00\n",
      " -9.03246123e-01 -1.75242821e+01 -2.52771252e+01 -3.34760646e-02\n",
      " -3.72700919e-01 -2.58285888e+01 -6.72710142e+00  1.27557881e+01\n",
      " -2.62375757e+01 -5.26867536e+01  4.08319961e+01 -5.61811623e+00\n",
      " -1.87466053e+01 -3.18982175e+00]\n",
      "[ 1  1  1 -1  1  1  1  1  1  1  1 -1  1  1 -1  1  1  1]\n",
      "[ True False False  True  True False False  True  True False False False\n",
      " False False False False False  True]\n"
     ]
    }
   ],
   "source": [
    "print(dg)\n",
    "\n",
    "direction = (-dg / np.abs(dg)).astype(int)\n",
    "print(direction)\n",
    "\n",
    "threshold = 5.0\n",
    "reversibility = np.abs(dg) < threshold\n",
    "print(reversibility)\n"
   ]
  },
  {
   "cell_type": "code",
   "execution_count": 19,
   "id": "7ef29f54-40a7-4338-aae7-bd1a55076527",
   "metadata": {
    "tags": []
   },
   "outputs": [
    {
     "name": "stdout",
     "output_type": "stream",
     "text": [
      "(13, 23) (23,) (23,)\n",
      "41 elementary modes\n"
     ]
    },
    {
     "data": {
      "application/vnd.jupyter.widget-view+json": {
       "model_id": "96bc0bc14d194e42921e9d4c96120103",
       "version_major": 2,
       "version_minor": 0
      },
      "text/plain": [
       "VBox(children=(IntSlider(value=0, description='Mode', layout=Layout(width='488px'), max=40), HBox(children=(VB…"
      ]
     },
     "execution_count": 19,
     "metadata": {},
     "output_type": "execute_result"
    }
   ],
   "source": [
    "# Interaction between augmented system and thermo-reversibility. Need to clean this up in the final API, but just muddle through for now\n",
    "\n",
    "threshold = 5.0\n",
    "internal_system, raw_rev = augmented_internal_system(network, boundaries - exchanges.keys(), exchanges)\n",
    "augments = len(exchanges)\n",
    "direction = np.append(-dg / np.abs(dg), np.ones(augments)).astype(int)\n",
    "reversibility = np.append(np.abs(dg) < threshold, raw_rev[-augments:])\n",
    "print(internal_system.shape, direction.shape, reversibility.shape)\n",
    "\n",
    "modes, mrev = elementary_modes(internal_system * direction, reversibility)\n",
    "modes = (modes.T * direction).T[:network.shape[1]]\n",
    "print(f'{modes.shape[1]} elementary modes')\n",
    "\n",
    "show_modes(network, modes, mrev, map_json='central_carbon.json')"
   ]
  },
  {
   "cell_type": "markdown",
   "id": "33e0aa40-2645-4786-b350-50a734a9ed17",
   "metadata": {},
   "source": [
    "Interesting. Not one of the thermodynamic modes includes the textbook TCA cycle.\n",
    "- The culprit is Succinyl CoA synthetase, which is thermodynamically irreversible in the wrong direction to allow cyclic flux\n",
    "    - If I set the threshold >= 9.7 the cycle appears as a mode. But that's a pretty big miss.\n",
    "- Is the reported concentration of succCoA too low? Or does biosynthesis consume enough succCoA to keep it low (and disallow the cycle)?"
   ]
  }
 ],
 "metadata": {
  "kernelspec": {
   "display_name": "Python 3 (ipykernel)",
   "language": "python",
   "name": "python3"
  },
  "language_info": {
   "codemirror_mode": {
    "name": "ipython",
    "version": 3
   },
   "file_extension": ".py",
   "mimetype": "text/x-python",
   "name": "python",
   "nbconvert_exporter": "python",
   "pygments_lexer": "ipython3",
   "version": "3.11.2"
  }
 },
 "nbformat": 4,
 "nbformat_minor": 5
}
