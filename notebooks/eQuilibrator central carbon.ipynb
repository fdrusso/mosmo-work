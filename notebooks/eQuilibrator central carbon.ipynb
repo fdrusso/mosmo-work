{
 "cells": [
  {
   "cell_type": "code",
   "execution_count": 1,
   "id": "17934b08-6cba-410f-962f-846178b310b1",
   "metadata": {
    "tags": []
   },
   "outputs": [],
   "source": [
    "import collections\n",
    "import copy\n",
    "\n",
    "import equilibrator_api\n",
    "import ipywidgets as widgets\n",
    "import json\n",
    "import matplotlib.pyplot as plt\n",
    "import numpy as np\n",
    "import pandas as pd\n",
    "from IPython.display import HTML, JSON, SVG, display\n",
    "\n",
    "from mosmo.knowledge import kb\n",
    "from mosmo.model import DS, KbEntry, DbXref, Molecule, Reaction, Pathway\n",
    "from mosmo.preso.escher import escher_map\n",
    "\n",
    "KB = kb.configure_kb()\n",
    "\n",
    "def mode_formula(pw, mode):\n",
    "    parts = []\n",
    "    for reaction, coeff in zip(pw.reactions.labels(), mode):\n",
    "        if coeff == -1:\n",
    "            parts.append('-')\n",
    "        elif coeff < 0:\n",
    "            parts.append(f'- {-coeff}')\n",
    "        elif coeff == 1:\n",
    "            if parts:\n",
    "                parts.append('+')\n",
    "        elif coeff > 0:\n",
    "            if parts:\n",
    "                parts.append(f'+ {coeff}')\n",
    "            else:\n",
    "                parts.append(f'{coeff}')\n",
    "        \n",
    "        if coeff:\n",
    "            parts.append(reaction)\n",
    "    \n",
    "    return ' '.join(parts)\n",
    "\n",
    "cc = equilibrator_api.ComponentContribution()\n",
    "Q_ = equilibrator_api.Q_\n",
    "cc.p_h = Q_(7.3)\n",
    "cc.p_mg = Q_(1.5)\n",
    "cc.ionic_strength = Q_(\"0.25M\")\n",
    "cc.temperature = Q_(\"298.15K\")\n",
    "\n",
    "def find_cc_met(met):\n",
    "    if met.xrefs:\n",
    "        for xref in met.xrefs:\n",
    "            if xref.db == DS.KEGG:\n",
    "                return cc.get_compound(f'KEGG:{xref.id}')\n",
    "    return None\n"
   ]
  },
  {
   "cell_type": "code",
   "execution_count": 2,
   "id": "27f1a320-29ce-4318-b27b-cf6986dc664c",
   "metadata": {
    "tags": []
   },
   "outputs": [],
   "source": [
    "glycolysis = KB('glycolysis')\n",
    "glycolysis_plus = KB('glycolysis_ppp_ov')\n",
    "tca = KB('tca_cycle')\n",
    "central_carbon = KB('central_carbon')"
   ]
  },
  {
   "cell_type": "markdown",
   "id": "8460f44b-f5cf-44d7-9c78-02a73c02486a",
   "metadata": {},
   "source": [
    "## Compare reaction $\\Delta{G}^{\\circ}_r$ values to eQuilibrator site"
   ]
  },
  {
   "cell_type": "code",
   "execution_count": 3,
   "id": "a29e4904-9102-4eec-b3b9-8574149a5755",
   "metadata": {
    "tags": []
   },
   "outputs": [
    {
     "name": "stdout",
     "output_type": "stream",
     "text": [
      "[pgi] Glucose-6-phosphate Isomerase\n",
      "ΔG = (-0.0 +/- 0.4) kilojoule / mole\n",
      "    -1 -1763.82 [   152] [Glc.D.6P] D-glucose 6-phosphate\n",
      "    +1 -1760.88 [125172] [Fru.D.6P] D-fructose 6-phosphate\n",
      "\n",
      "[pfk] 6-phosphofructokinase\n",
      "ΔG = (-16.2 +/- 0.7) kilojoule / mole\n",
      "    -1 -2811.58 [     6] [atp] adenosine triphosphate\n",
      "    -1 -1760.88 [125172] [Fru.D.6P] D-fructose 6-phosphate\n",
      "    +1 -1945.43 [    10] [adp] adenosine diphosphate\n",
      "    +1 -2598.86 [   396] [Fru.D.bis16] D-fructose 1,6-bisphosphate\n",
      "    +1     0.00 [     4] [h+] proton\n",
      "\n",
      "[fbp] Fuctose-bisphosphatase\n",
      "ΔG = (-14.0 +/- 0.7) kilojoule / mole\n",
      "    -1 -2598.86 [   396] [Fru.D.bis16] D-fructose 1,6-bisphosphate\n",
      "    -1  -238.14 [     5] [h2o] water\n",
      "    +1 -1760.88 [125172] [Fru.D.6P] D-fructose 6-phosphate\n",
      "    +1 -1095.21 [    12] [pi] phosphate\n",
      "\n",
      "[fba] Fructose-bisphosphate Aldolase\n",
      "ΔG = (28.1 +/- 0.5) kilojoule / mole\n",
      "    -1 -2598.86 [   396] [Fru.D.bis16] D-fructose 1,6-bisphosphate\n",
      "    +1 -1289.12 [    71] [gap] D-glyceraldehyde 3-phosphate\n",
      "    +1 -1294.71 [    74] [dhap] glycerone phosphate\n",
      "\n",
      "[tpi] Triose-phosphate Isomerase\n",
      "ΔG = (-6.6 +/- 0.5) kilojoule / mole\n",
      "    -1 -1289.12 [    71] [gap] D-glyceraldehyde 3-phosphate\n",
      "    +1 -1294.71 [    74] [dhap] glycerone phosphate\n",
      "\n",
      "[gapdh] Glyceraldehyde-3-phosphate Dehydrogenase\n",
      "ΔG = (1.8 +/- 0.4) kilojoule / mole\n",
      "    -1 -1289.12 [    71] [gap] D-glyceraldehyde 3-phosphate\n",
      "    -1 -2261.38 [    11] [nad.ox] NAD+\n",
      "    -1 -1095.21 [    12] [pi] phosphate\n",
      "    +1 -2354.62 [   248] [dpg] 1,3-bisphospho-D-glycerate\n",
      "    +1     0.00 [     4] [h+] proton\n",
      "    +1 -2236.55 [    13] [nad.red] NADH\n",
      "\n",
      "[pgk] Phosphoglycerate Kinase\n",
      "ΔG = (18.1 +/- 0.4) kilojoule / mole\n",
      "    -1 -1506.49 [   118] [3pg] 3-phospho-D-glycerate\n",
      "    -1 -2811.58 [     6] [atp] adenosine triphosphate\n",
      "    +1 -2354.62 [   248] [dpg] 1,3-bisphospho-D-glycerate\n",
      "    +1 -1945.43 [    10] [adp] adenosine diphosphate\n",
      "\n",
      "[gpm] Phosphoglycerate Mutase\n",
      "ΔG = (-3.0 +/- 0.4) kilojoule / mole\n",
      "    -1 -1501.82 [   261] [2pg] 2-phospho-D-glycerate\n",
      "    +1 -1506.49 [   118] [3pg] 3-phospho-D-glycerate\n",
      "\n",
      "[eno] Enolase\n",
      "ΔG = (-4.29 +/- 0.30) kilojoule / mole\n",
      "    -1 -1501.82 [   261] [2pg] 2-phospho-D-glycerate\n",
      "    +1  -238.14 [     5] [h2o] water\n",
      "    +1 -1267.38 [    70] [pep] phosphoenolpyruvate\n",
      "\n",
      "[pyk] Pyruvate Kinase\n",
      "ΔG = (27.2 +/- 0.4) kilojoule / mole\n",
      "    -1 -2811.58 [     6] [atp] adenosine triphosphate\n",
      "    -1  -467.91 [    25] [pyr] pyruvate\n",
      "    +1 -1945.43 [    10] [adp] adenosine diphosphate\n",
      "    +1     0.00 [     4] [h+] proton\n",
      "    +1 -1267.38 [    70] [pep] phosphoenolpyruvate\n",
      "\n",
      "[pps] Phosphoenolpyruvate Synthetase\n",
      "ΔG = (-0.8 +/- 0.5) kilojoule / mole\n",
      "    -1 -2811.58 [     6] [atp] adenosine triphosphate\n",
      "    -1  -238.14 [     5] [h2o] water\n",
      "    -1  -467.91 [    25] [pyr] pyruvate\n",
      "    +1 -1033.96 [    17] [amp] adenosine monophosphate\n",
      "    +1 -1095.21 [    12] [pi] phosphate\n",
      "    +1 -1267.38 [    70] [pep] phosphoenolpyruvate\n",
      "    +2     0.00 [     4] [h+] proton\n",
      "\n",
      "[pdh] Pyruvate Dehydrogenase\n",
      "ΔG = (-32.6 +/- 3.2) kilojoule / mole\n",
      "    -1 -3091.77 [    15] [coa] coenzyme A\n",
      "    -1 -2261.38 [    11] [nad.ox] NAD+\n",
      "    -1  -467.91 [    25] [pyr] pyruvate\n",
      "    +1 -3231.06 [    23] [accoa] acetyl-CoA\n",
      "    +1  -386.00 [    16] [co2] carbon dioxide\n",
      "    +1 -2236.55 [    13] [nad.red] NADH\n",
      "\n"
     ]
    }
   ],
   "source": [
    "cc.p_h = Q_(7.3)\n",
    "cc.p_mg = Q_(1.5)\n",
    "cc.ionic_strength = Q_(\"0.25M\")\n",
    "cc.temperature = Q_(\"298.15K\")\n",
    "\n",
    "for reaction in glycolysis.reactions:\n",
    "    cc_mets = {}\n",
    "    for met, count in reaction.stoichiometry.items():\n",
    "        cc_met = find_cc_met(met)\n",
    "        cc_mets[met] = (cc_met, count)\n",
    "    \n",
    "    cc_rxn = equilibrator_api.Reaction({k: v for k, v in cc_mets.values()})\n",
    "    \n",
    "    print(f'[{reaction.id}] {reaction.name}')\n",
    "    print(f'ΔG = {cc.standard_dg_prime(cc_rxn)}')\n",
    "    for met, (cc_met, count) in cc_mets.items():\n",
    "        print(f'    {count:+2d} {(cc.standard_dg_formation(cc_met)[0] or 0.0):8.2f} [{cc_met.id:6d}] [{met.id}] {met.name}')\n",
    "    print()"
   ]
  },
  {
   "cell_type": "markdown",
   "id": "593848d9-e0bc-4983-95cd-f36967ef58cc",
   "metadata": {},
   "source": [
    "### TBD\n",
    "- CO2 vs CO2[tot], i.e. CO2 + HCO3- etc\n",
    "  - Could just add the reaction CO2 + H2O <=> CO2[tot]"
   ]
  },
  {
   "cell_type": "markdown",
   "id": "0e297e8c-232b-41b9-88c9-97f0d2976578",
   "metadata": {},
   "source": [
    "## State-dependent $\\Delta{G} = \\Delta{G^{\\circ}} + R T ln{Q}$"
   ]
  },
  {
   "cell_type": "code",
   "execution_count": 4,
   "id": "4ccfd4cf-14c1-4c24-8e35-429e447b2c10",
   "metadata": {
    "tags": []
   },
   "outputs": [],
   "source": [
    "# All taken from https://www.ncbi.nlm.nih.gov/pmc/articles/PMC4912430/, except where starred\n",
    "POOLS = {KB(met_id): conc for met_id, conc in [\n",
    "    ('2pg', 9.18e-02),\n",
    "    ('3pg', 1.54),\n",
    "    ('6pg', 3.77),\n",
    "    ('6pgdl', 1.), # ************\n",
    "    ('Ery.D.4P', 4.90e-02),\n",
    "    ('Fru.D.6P', 2.52),\n",
    "    ('Fru.D.bis16', 15.2),\n",
    "    ('Glc.D.6P', 7.88),\n",
    "    ('Rib.D.5P', 7.87e-01),\n",
    "    ('Rul.D.5P', 1.12e-01),\n",
    "    ('Sed.D.7P', 8.82e-01),\n",
    "    ('Xul.D.5P', 1.81e-01),\n",
    "    ('accoa', 6.06e-01),\n",
    "    ('acon', 1.61e-02),\n",
    "    ('adp', 5.55e-01),\n",
    "    ('akg', 4.43e-01),\n",
    "    ('amp', 2.81e-01),\n",
    "    ('atp', 9.63),\n",
    "    ('cit', 1.96),\n",
    "    ('co2', 7.52e-02),\n",
    "    ('coa', 1.37),\n",
    "    ('dhap', 3.06),\n",
    "    ('dpg', 1.65e-02),\n",
    "    ('fum', 2.88e-01),\n",
    "    ('gap', 2.71e-01),\n",
    "    ('glx', 0.1),  # **********\n",
    "\n",
    "    # Exclude water and protons from ΔG calculations (justification??)\n",
    "    # ('h+', 1e-7),\n",
    "    # ('h2o', 55500),\n",
    "\n",
    "    ('icit', 3.67e-02),\n",
    "    ('kdpg', 0.01),  # **********\n",
    "    ('mal.L', 1.68),\n",
    "    ('nad.ox', 2.55),\n",
    "    ('nad.red', 8.36e-02),\n",
    "    ('nadp.ox', 2.08e-03),\n",
    "    ('nadp.red', 1.21e-01),\n",
    "    ('oaa', 4.87e-04),\n",
    "    ('pep', 1.84e-01),\n",
    "    ('pi', 23.9),\n",
    "    ('pyr', 3.66),\n",
    "    ('q.ox', 0.01),  # **********\n",
    "    ('q.red', 0.01),  # **********\n",
    "    ('succ', 5.69e-01),\n",
    "    ('succcoa', 2.33e-01),\n",
    "]}\n"
   ]
  },
  {
   "cell_type": "code",
   "execution_count": 5,
   "id": "7f9fc176-c5d2-4049-9a4f-9b494a42e29b",
   "metadata": {
    "tags": []
   },
   "outputs": [
    {
     "name": "stdout",
     "output_type": "stream",
     "text": [
      "1*pgi+1*pfk+1*fba+-1*tpi+2*gapdh+-2*pgk+-2*gpm+2*eno\n",
      "name: None\n",
      "shorthand: None\n",
      "aka: None\n",
      "description: None\n",
      "xrefs: None\n",
      "equation: \n",
      "    G6P + ADP + 2 NAD+ + 2 Pi <=> ATP + 3 H+ + 2 NADH + 2\n",
      "    H2O + 2 PEP\n",
      "reversible: True\n",
      "catalyst: None\n"
     ]
    }
   ],
   "source": [
    "glyco_mode = [\n",
    "    (KB('pgi'), 1),\n",
    "    (KB('pfk'), 1),\n",
    "    (KB('fba'), 1),\n",
    "    (KB('tpi'), -1),\n",
    "    (KB('gapdh'), 2),\n",
    "    (KB('pgk'), -2),\n",
    "    (KB('gpm'), -2),\n",
    "    (KB('eno'), 2),\n",
    "]\n",
    "\n",
    "net_rxn = sum(rxn * factor for rxn, factor in glyco_mode)\n",
    "net_rxn.data()"
   ]
  },
  {
   "cell_type": "code",
   "execution_count": 6,
   "id": "1a17fd51-c789-4bdf-9df8-72a6202e1a3b",
   "metadata": {
    "tags": []
   },
   "outputs": [],
   "source": [
    "def calculate_dg(reaction, concs):\n",
    "    cc_stoich = {}\n",
    "    rxn_q = 1.0\n",
    "    for met, count in reaction.stoichiometry.items():\n",
    "        cc_stoich[find_cc_met(met)] = count\n",
    "        if met in concs:\n",
    "            # Concentrations are in mM, but ΔG is standardized on M\n",
    "            rxn_q = rxn_q * (concs[met] * 1e-3)**count\n",
    "\n",
    "    cc_rxn = equilibrator_api.Reaction(cc_stoich)\n",
    "    dg0 = cc.standard_dg_prime(cc_rxn)\n",
    "    dg = dg0 + cc.RT * np.log(rxn_q)\n",
    "    return dg0, dg\n",
    "\n",
    "coeffs = []\n",
    "dg0s = []\n",
    "dgs = []\n",
    "for reaction, coeff in glyco_mode:\n",
    "    coeffs.append(coeff)\n",
    "    dg0, dg = calculate_dg(reaction, POOLS)\n",
    "    # TODO: figure out pint (units) and uncertainties. For now, jump straight to the value\n",
    "    dg0s.append(dg0.magnitude.nominal_value)\n",
    "    dgs.append(dg.magnitude.nominal_value)\n",
    "\n",
    "coeffs = np.array(coeffs)\n",
    "dg0s = np.array(dg0s)\n",
    "dgs = np.array(dgs)"
   ]
  },
  {
   "cell_type": "markdown",
   "id": "44dd0672-f320-4434-9404-039985a895b8",
   "metadata": {},
   "source": [
    "**TODO**: figure out [pint](https://pint.readthedocs.io/en/stable/) (_i.e._ units) and [uncertainties](https://pythonhosted.org/uncertainties/) packages"
   ]
  },
  {
   "cell_type": "code",
   "execution_count": 7,
   "id": "dfc6d145-9dd7-4591-a007-f8e3e5f53b1e",
   "metadata": {
    "tags": []
   },
   "outputs": [
    {
     "data": {
      "image/png": "[encoded data removed]",
      "text/plain": [
       "<Figure size 800x400 with 1 Axes>"
      ]
     },
     "metadata": {},
     "output_type": "display_data"
    }
   ],
   "source": [
    "path0 = np.insert(np.cumsum(dg0s * coeffs), 0, 0)\n",
    "path = np.insert(np.cumsum(dgs * coeffs), 0, 0)\n",
    "\n",
    "fig, ax = plt.subplots(figsize=(8,4))\n",
    "ax.plot(path0, label='cumulative $\\Delta{G}^{\\circ}$')\n",
    "ax.plot(path, label='cumulative $\\Delta{G}$')\n",
    "ax.set_xticks(np.arange(len(glyco_mode)) + 0.5, (rxn.label for rxn, coeff in glyco_mode), rotation=45)\n",
    "ax.set_title('Thermodynamics of Textbook Glycolysis')\n",
    "ax.set_ylabel('kJ/mol')\n",
    "ax.legend()\n",
    "plt.show()"
   ]
  },
  {
   "cell_type": "markdown",
   "id": "00c3fe1b-9218-4134-b76d-2418d84856ec",
   "metadata": {},
   "source": [
    "- In isolation, FBA looks irreversible in the wrong direction, and PGK in the right one.\n",
    "- But considering metabolite concentrations, each is pretty close to equilibrium\n",
    "- Overall path is substantially downhill _under these conditions_\n"
   ]
  },
  {
   "cell_type": "markdown",
   "id": "3003ac00-2f39-4e37-8bd8-4a80bac00682",
   "metadata": {},
   "source": [
    "# Systematic Calculations (Glycolysis + PPP)"
   ]
  },
  {
   "cell_type": "code",
   "execution_count": 8,
   "id": "46052fea-4d42-44e9-a35b-0eb24101ab60",
   "metadata": {
    "tags": []
   },
   "outputs": [],
   "source": [
    "std_dg_r = {}\n",
    "for rxn in central_carbon.reactions:\n",
    "    cc_rxn = equilibrator_api.Reaction({find_cc_met(met): count for met, count in rxn.stoichiometry.items()})\n",
    "    std_dg_r[rxn] = cc.standard_dg_prime(cc_rxn)"
   ]
  },
  {
   "cell_type": "markdown",
   "id": "c1208b51-4061-47f6-bf70-9625038a5850",
   "metadata": {},
   "source": [
    "### Using matrix math:\n",
    "\n",
    "$\\Delta{G}_r = \\Delta{G}_r^\\circ + RT \\cdot ln{(\\frac{\\prod{c_p}}{\\prod{c_s}})}$\n",
    "\n",
    "$ = \\Delta{G}_r^\\circ + RT \\cdot (ln(\\prod{c_p})- ln(\\prod{c_s}))$\n",
    "\n",
    "$ = \\Delta{G}_r^\\circ + RT \\cdot \\sum\\limits_i{S_{i,r} ln (c_i)}$\n",
    "\n",
    "$\\vec{\\Delta{G}_r} = \\vec{\\Delta{G}^\\circ} + RT \\cdot (\\mathbf{S} \\cdot ln (\\vec{c}))$\n"
   ]
  },
  {
   "cell_type": "markdown",
   "id": "6ecb3bfe-0504-440a-a386-260c4858c739",
   "metadata": {},
   "source": [
    "### Work with Glycolysis + PPP, from G6P to pyruvate"
   ]
  },
  {
   "cell_type": "code",
   "execution_count": 9,
   "id": "09c8041b-3c0b-474a-a6e6-678dfcb1272a",
   "metadata": {},
   "outputs": [
    {
     "name": "stdout",
     "output_type": "stream",
     "text": [
      "CANON:glycolysis_ppp_ov\n",
      "name: Glycolysis + PPP + Overflow\n",
      "shorthand: None\n",
      "aka: None\n",
      "description: None\n",
      "xrefs: None\n",
      "size: 26 reactions over 35 molecules.\n",
      "reactions: \n",
      "    [pts.glc] Glc[e] + PEP => G6P + pyr\n",
      "    [pgi] G6P <=> F6P\n",
      "    [pfk] ATP + F6P => ADP + FDP + H+\n",
      "    [fbp] FDP + H2O => F6P + Pi\n",
      "    [fba] FDP <=> GAP + DHAP\n",
      "    [tpi] GAP <=> DHAP\n",
      "    [gapdh] GAP + NAD+ + Pi <=> DPG + H+ + NADH\n",
      "    [pgk] 3PG + ATP <=> DPG + ADP\n",
      "    [gpm] 2PG <=> 3PG\n",
      "    [eno] 2PG <=> H2O + PEP\n",
      "    [pyk] ATP + pyr <=> ADP + H+ + PEP\n",
      "    [pps] ATP + H2O + pyr => AMP + Pi + PEP + 2 H+\n",
      "    [pdh] CoA + NAD+ + pyr => acCoA + CO2 + NADH\n",
      "    [pta] acCoA + Pi <=> acP + CoA\n",
      "    [ack] ac + ATP <=> acP + ADP\n",
      "    [aclig] ac + ATP + CoA <=> acCoA + AMP + PPi\n",
      "    [g6pdh] G6P + NADP+ <=> 6PGDL + H+ + NADPH\n",
      "    [pglase] 6PGDL + H2O => 6PG + H+\n",
      "    [pgldh] 6PG + NADP+ => CO2 + Ru5P + NADPH\n",
      "    [r5pi] R5P <=> Ru5P\n",
      "    [rpe] Ru5P <=> Xu5P\n",
      "    [tkt.c5c5] GAP + Sed7P <=> R5P + Xu5P\n",
      "    [tkt.c5c4] E4P + Xu5P <=> F6P + GAP\n",
      "    [tal] GAP + Sed7P <=> F6P + E4P\n",
      "    [pgldhat] 6PG <=> KDPG + H2O\n",
      "    [kdpga] KDPG => GAP + pyr\n"
     ]
    }
   ],
   "source": [
    "glycolysis_plus.data()"
   ]
  },
  {
   "cell_type": "code",
   "execution_count": 10,
   "id": "0276bd22-c351-4057-9bda-d691a71b8365",
   "metadata": {
    "tags": []
   },
   "outputs": [
    {
     "name": "stdout",
     "output_type": "stream",
     "text": [
      "pw\n",
      "name: None\n",
      "shorthand: None\n",
      "aka: None\n",
      "description: None\n",
      "xrefs: None\n",
      "size: 17 reactions over 26 molecules.\n",
      "reactions: \n",
      "    [pgi] G6P <=> F6P\n",
      "    [pfk] ATP + F6P => ADP + FDP + H+\n",
      "    [fbp] FDP + H2O => F6P + Pi\n",
      "    [fba] FDP <=> GAP + DHAP\n",
      "    [tpi] GAP <=> DHAP\n",
      "    [gapdh] GAP + NAD+ + Pi <=> DPG + H+ + NADH\n",
      "    [pgk] 3PG + ATP <=> DPG + ADP\n",
      "    [gpm] 2PG <=> 3PG\n",
      "    [eno] 2PG <=> H2O + PEP\n",
      "    [g6pdh] G6P + NADP+ <=> 6PGDL + H+ + NADPH\n",
      "    [pglase] 6PGDL + H2O => 6PG + H+\n",
      "    [pgldh] 6PG + NADP+ => CO2 + Ru5P + NADPH\n",
      "    [r5pi] R5P <=> Ru5P\n",
      "    [rpe] Ru5P <=> Xu5P\n",
      "    [tkt.c5c5] GAP + Sed7P <=> R5P + Xu5P\n",
      "    [tkt.c5c4] E4P + Xu5P <=> F6P + GAP\n",
      "    [tal] GAP + Sed7P <=> F6P + E4P\n",
      "\n"
     ]
    },
    {
     "data": {
      "text/plain": [
       "PGI       -2.874524\n",
       "PFK      -18.795882\n",
       "FBP      -27.654230\n",
       "FBA        3.795067\n",
       "TPI       -0.574578\n",
       "GAPDH     -4.371253\n",
       "PGK       -0.159990\n",
       "GPM        4.000982\n",
       "ENO       -2.567201\n",
       "G6PDH     -0.952827\n",
       "PGLase   -22.528238\n",
       "PGLDH    -11.504466\n",
       "RPI       -1.633633\n",
       "RPE       -2.273729\n",
       "TKT1       1.166628\n",
       "TKT2      -3.183528\n",
       "TALA      -6.467252\n",
       "dtype: float64"
      ]
     },
     "execution_count": 10,
     "metadata": {},
     "output_type": "execute_result"
    }
   ],
   "source": [
    "pw = Pathway(\n",
    "    id='pw',\n",
    "    reactions=[\n",
    "        r for r in glycolysis_plus.reactions \n",
    "        if r.id not in ('pyk', 'pps', 'pdh', 'pta', 'ack', 'aclig', 'pts.glc', 'pgldhat', 'kdpga')\n",
    "    ],\n",
    "    diagram=glycolysis_plus.diagram)\n",
    "pw.data()\n",
    "print()\n",
    "\n",
    "dg0 = np.array([std_dg_r[rxn].magnitude.nominal_value for rxn in pw.reactions])\n",
    "ln_conc = np.log(np.array([POOLS.get(met, 1e3) * 1e-3 for met in pw.molecules]))\n",
    "dg = dg0 + cc.RT.magnitude * pw.s_matrix.T @ ln_conc\n",
    "\n",
    "pd.Series(dg, index=pw.reactions.labels())"
   ]
  },
  {
   "cell_type": "markdown",
   "id": "16664a77-01f9-4694-9ad7-97a14e94d125",
   "metadata": {},
   "source": [
    "## Thermodynamics of Elementary Modes"
   ]
  },
  {
   "cell_type": "markdown",
   "id": "000c788f-bb7e-4029-bc36-3b43aabecb57",
   "metadata": {},
   "source": [
    "#### Elementary Modes code, mostly now migrated to mosmo.calc.elementary_modes"
   ]
  },
  {
   "cell_type": "code",
   "execution_count": 11,
   "id": "38513108-ed9a-4bb9-a738-b343ea4972b4",
   "metadata": {
    "tags": []
   },
   "outputs": [],
   "source": [
    "def build_internal_system(pw, bounds):\n",
    "    \"\"\"Returns S matrix with rows for internal (non-bounds) metabolites only.\"\"\"\n",
    "    intermediates = [met not in bounds for met in pw.molecules]\n",
    "    return pw.s_matrix[intermediates].astype(int)\n",
    "\n",
    "def sort_tableau(tableau, j):\n",
    "    # Existing modes that already satisfy steady state j will be part of the next tableau. \n",
    "    # Others will either be merged or dropped.\n",
    "    elementary = []\n",
    "    pending = []\n",
    "    for mode, reversible, zeros in tableau:\n",
    "        if mode[j] == 0:\n",
    "            elementary.append((mode, reversible, zeros))\n",
    "        else:\n",
    "            pending.append((mode, reversible, zeros))\n",
    "    return elementary, pending\n",
    "\n",
    "def generate_candidates(pending, j):\n",
    "    # All pending mode pairs are merge candidates, unless they violate irreversibility.\n",
    "    candidates = []\n",
    "    for i, (mode_i, reversible_i, zeros_i) in enumerate(pending):\n",
    "        for mode_m, reversible_m, zeros_m in pending[i+1:]:\n",
    "            # Put a reversible mode second if possible, so we can always multiply the first by a positive number\n",
    "            if reversible_m:\n",
    "                candidates.append((mode_i, mode_m, reversible_i and reversible_m, zeros_i & zeros_m))\n",
    "            elif reversible_i:\n",
    "                candidates.append((mode_m, mode_i, reversible_i and reversible_m, zeros_i & zeros_m))\n",
    "\n",
    "            # Otherwise we can still combine them, if they have opposite stoichiometry\n",
    "            elif mode_i[j] * mode_m[j] < 0:\n",
    "                candidates.append((mode_i, mode_m, False, zeros_i & zeros_m))\n",
    "    return candidates\n",
    "\n",
    "def merge_modes(mode_i, mode_m, reversible, j, num_rxns):\n",
    "    # All integer arithmetic. We want integer scaling in simplest form.\n",
    "    multiple = int(np.lcm(mode_i[j], mode_m[j]))\n",
    "    # scale_i is always positive\n",
    "    scale_i = int(multiple / abs(mode_i[j]))\n",
    "    # scale_m satisfies scale_i * mode_i[j] + scale_m * mode_m[j] = 0. \n",
    "    scale_m = -int(scale_i * mode_i[j] / mode_m[j])\n",
    "\n",
    "    # Combine modes, and reduce to simplest integers.\n",
    "    mode = scale_i * mode_i + scale_m * mode_m\n",
    "    mode = (mode / np.gcd.reduce(mode)).astype(int)\n",
    "    \n",
    "    # Determine the actual new zeros set on the moerged mode.\n",
    "    zeros = set(np.nonzero(mode[-num_rxns:] == 0)[0])\n",
    "    \n",
    "    # Mostly esthetic, but prefer original reaction direction for reversible modes\n",
    "    if reversible:\n",
    "        involved = num_rxns - len(zeros)\n",
    "        forward = np.nonzero(mode[-num_rxns:] > 0)[0].shape[0]\n",
    "        if forward * 2 < involved:\n",
    "            mode = -mode\n",
    "\n",
    "    return mode, reversible, zeros\n",
    "\n",
    "def process_candidates(candidates, modes, j, num_rxns):\n",
    "    # Compare candidates against all other elementary modes, based on the non-subset zeros test.\n",
    "    for i, (mode_i, mode_m, reversible, zeros) in enumerate(candidates):\n",
    "        passing = True\n",
    "        for _, _, other_zeros in modes:\n",
    "            if zeros <= other_zeros:  # subset or equal\n",
    "                # print(f'  {mode_i} + {mode_m} Fails because {zeros} <= {other_zeros}')\n",
    "                passing = False\n",
    "                break\n",
    "\n",
    "        # If the candidate survived, keep it. Other candidates must now compare against this new mode too.\n",
    "        if passing:\n",
    "            modes.append(merge_modes(mode_i, mode_m, reversible, j, num_rxns))\n",
    "    \n",
    "    return modes\n",
    "\n",
    "# def elementary_modes(pw, bounds):\n",
    "def elementary_modes(s_matrix, reversibilities):\n",
    "    # tableau = init_tableau(pw, bounds)\n",
    "    num_mets, num_rxns = s_matrix.shape\n",
    "    modes = list(np.concatenate([s_matrix, np.eye(num_rxns, dtype=int)]).T)\n",
    "    tableau = [(mode, reversible, set(np.nonzero(mode[-num_rxns:] == 0)[0]))\n",
    "                for mode, reversible in zip(modes, reversibilities)]\n",
    "\n",
    "    for j in range(num_mets):\n",
    "        modes, pending = sort_tableau(tableau, j)\n",
    "        candidates = generate_candidates(pending, j)\n",
    "        # TODO: optimization based on cardinality of merged zeros set, per Urbanczik & Wagner (2004)?\n",
    "        \n",
    "        tableau = process_candidates(candidates, modes, j, num_rxns)\n",
    "        \n",
    "    modes = []\n",
    "    rev = []\n",
    "    for mode, reversible, zeros in tableau:\n",
    "        modes.append(mode[-num_rxns:])\n",
    "        rev.append(reversible)\n",
    "    \n",
    "    return np.array(modes, dtype=int).T, rev\n",
    "\n",
    "\n",
    "def show_modes(pw, modes, rev):\n",
    "    s_elementary = (pw.s_matrix.astype(int) @ modes)\n",
    "    net_reactions = []\n",
    "    for i, (mode, reversible) in enumerate(zip(s_elementary.T, rev)):\n",
    "        stoich = {}\n",
    "        for met, count in zip(pw.molecules, mode):\n",
    "            if count != 0:\n",
    "                stoich[met] = count\n",
    "\n",
    "        net_reaction = Reaction(id=f'mode{i}', name=f'Elementary Mode {i}', stoichiometry=stoich, reversible=reversible)\n",
    "        net_reactions.append(net_reaction)\n",
    "\n",
    "    w = f'{160 + modes.shape[1] * 8:d}px' if modes.shape[1] < 80 else '100%'\n",
    "    mode_select = widgets.IntSlider(\n",
    "        value=0,\n",
    "        min=0,\n",
    "        max=modes.shape[1] - 1,\n",
    "        description='Mode',\n",
    "        continuous_update=True,\n",
    "        readout=True,\n",
    "        layout={'width': w}\n",
    "    )\n",
    "    mode_fluxes = widgets.Text(description='flux ratios', layout={'width': '100%'})\n",
    "    mode_net = widgets.Text(description='net reaction', layout={'width': '100%'})\n",
    "    diag = escher_map.EscherMap(\n",
    "        pw.diagram,\n",
    "        height=\"600px\",\n",
    "        reaction_scale=escher_map.Scale({0.: (\"#eeeeee\", 3), 6.: (\"#1f77cc\", 50)}, use_abs=True))\n",
    "    diag_canvas = widgets.Output()\n",
    "\n",
    "    def show_mode(change):\n",
    "        mode = mode_select.value\n",
    "        mode_fluxes.value = mode_formula(pw, modes.T[mode])\n",
    "        mode_net.value = net_reactions[mode].equation\n",
    "        diag_canvas.clear_output(wait=True)\n",
    "        with diag_canvas:\n",
    "            display(SVG(\n",
    "                diag.draw(\n",
    "                    reaction_data={r.id: v for r, v in zip(pw.reactions, modes.T[mode])}\n",
    "                )\n",
    "            ))\n",
    "\n",
    "    mode_select.observe(show_mode, names='value')\n",
    "    show_mode(None)\n",
    "\n",
    "    return widgets.VBox([\n",
    "        mode_select,\n",
    "        mode_fluxes,\n",
    "        mode_net,\n",
    "        diag_canvas,\n",
    "    ], layout={\"width\": \"1000px\", \"border\": \"1px solid green\"})"
   ]
  },
  {
   "cell_type": "code",
   "execution_count": 12,
   "id": "92ad8cf7-be4d-40db-ad9a-228b1c1b9ac9",
   "metadata": {
    "tags": []
   },
   "outputs": [
    {
     "data": {
      "text/html": [
       "<div>\n",
       "<style scoped>\n",
       "    .dataframe tbody tr th:only-of-type {\n",
       "        vertical-align: middle;\n",
       "    }\n",
       "\n",
       "    .dataframe tbody tr th {\n",
       "        vertical-align: top;\n",
       "    }\n",
       "\n",
       "    .dataframe thead th {\n",
       "        text-align: right;\n",
       "    }\n",
       "</style>\n",
       "<table border=\"1\" class=\"dataframe\">\n",
       "  <thead>\n",
       "    <tr style=\"text-align: right;\">\n",
       "      <th></th>\n",
       "      <th>0</th>\n",
       "      <th>1</th>\n",
       "      <th>2</th>\n",
       "      <th>3</th>\n",
       "      <th>4</th>\n",
       "      <th>5</th>\n",
       "      <th>6</th>\n",
       "      <th>7</th>\n",
       "      <th>8</th>\n",
       "      <th>9</th>\n",
       "      <th>10</th>\n",
       "      <th>11</th>\n",
       "    </tr>\n",
       "  </thead>\n",
       "  <tbody>\n",
       "    <tr>\n",
       "      <th>PGI</th>\n",
       "      <td>0</td>\n",
       "      <td>1</td>\n",
       "      <td>-1</td>\n",
       "      <td>0</td>\n",
       "      <td>-2</td>\n",
       "      <td>5</td>\n",
       "      <td>-5</td>\n",
       "      <td>-2</td>\n",
       "      <td>-5</td>\n",
       "      <td>0</td>\n",
       "      <td>0</td>\n",
       "      <td>0</td>\n",
       "    </tr>\n",
       "    <tr>\n",
       "      <th>PFK</th>\n",
       "      <td>1</td>\n",
       "      <td>1</td>\n",
       "      <td>0</td>\n",
       "      <td>0</td>\n",
       "      <td>0</td>\n",
       "      <td>1</td>\n",
       "      <td>0</td>\n",
       "      <td>0</td>\n",
       "      <td>0</td>\n",
       "      <td>2</td>\n",
       "      <td>2</td>\n",
       "      <td>0</td>\n",
       "    </tr>\n",
       "    <tr>\n",
       "      <th>FBP</th>\n",
       "      <td>1</td>\n",
       "      <td>0</td>\n",
       "      <td>1</td>\n",
       "      <td>0</td>\n",
       "      <td>0</td>\n",
       "      <td>0</td>\n",
       "      <td>1</td>\n",
       "      <td>0</td>\n",
       "      <td>1</td>\n",
       "      <td>0</td>\n",
       "      <td>0</td>\n",
       "      <td>2</td>\n",
       "    </tr>\n",
       "    <tr>\n",
       "      <th>FBA</th>\n",
       "      <td>0</td>\n",
       "      <td>1</td>\n",
       "      <td>-1</td>\n",
       "      <td>0</td>\n",
       "      <td>0</td>\n",
       "      <td>1</td>\n",
       "      <td>-1</td>\n",
       "      <td>0</td>\n",
       "      <td>-1</td>\n",
       "      <td>2</td>\n",
       "      <td>2</td>\n",
       "      <td>-2</td>\n",
       "    </tr>\n",
       "    <tr>\n",
       "      <th>TPI</th>\n",
       "      <td>0</td>\n",
       "      <td>-1</td>\n",
       "      <td>1</td>\n",
       "      <td>0</td>\n",
       "      <td>0</td>\n",
       "      <td>-1</td>\n",
       "      <td>1</td>\n",
       "      <td>0</td>\n",
       "      <td>1</td>\n",
       "      <td>-2</td>\n",
       "      <td>-2</td>\n",
       "      <td>2</td>\n",
       "    </tr>\n",
       "    <tr>\n",
       "      <th>GAPDH</th>\n",
       "      <td>0</td>\n",
       "      <td>2</td>\n",
       "      <td>-2</td>\n",
       "      <td>0</td>\n",
       "      <td>1</td>\n",
       "      <td>0</td>\n",
       "      <td>0</td>\n",
       "      <td>1</td>\n",
       "      <td>0</td>\n",
       "      <td>5</td>\n",
       "      <td>5</td>\n",
       "      <td>-5</td>\n",
       "    </tr>\n",
       "    <tr>\n",
       "      <th>PGK</th>\n",
       "      <td>0</td>\n",
       "      <td>-2</td>\n",
       "      <td>2</td>\n",
       "      <td>0</td>\n",
       "      <td>-1</td>\n",
       "      <td>0</td>\n",
       "      <td>0</td>\n",
       "      <td>-1</td>\n",
       "      <td>0</td>\n",
       "      <td>-5</td>\n",
       "      <td>-5</td>\n",
       "      <td>5</td>\n",
       "    </tr>\n",
       "    <tr>\n",
       "      <th>GPM</th>\n",
       "      <td>0</td>\n",
       "      <td>-2</td>\n",
       "      <td>2</td>\n",
       "      <td>0</td>\n",
       "      <td>-1</td>\n",
       "      <td>0</td>\n",
       "      <td>0</td>\n",
       "      <td>-1</td>\n",
       "      <td>0</td>\n",
       "      <td>-5</td>\n",
       "      <td>-5</td>\n",
       "      <td>5</td>\n",
       "    </tr>\n",
       "    <tr>\n",
       "      <th>ENO</th>\n",
       "      <td>0</td>\n",
       "      <td>2</td>\n",
       "      <td>-2</td>\n",
       "      <td>0</td>\n",
       "      <td>1</td>\n",
       "      <td>0</td>\n",
       "      <td>0</td>\n",
       "      <td>1</td>\n",
       "      <td>0</td>\n",
       "      <td>5</td>\n",
       "      <td>5</td>\n",
       "      <td>-5</td>\n",
       "    </tr>\n",
       "    <tr>\n",
       "      <th>G6PDH</th>\n",
       "      <td>0</td>\n",
       "      <td>0</td>\n",
       "      <td>0</td>\n",
       "      <td>1</td>\n",
       "      <td>0</td>\n",
       "      <td>0</td>\n",
       "      <td>0</td>\n",
       "      <td>2</td>\n",
       "      <td>4</td>\n",
       "      <td>0</td>\n",
       "      <td>2</td>\n",
       "      <td>0</td>\n",
       "    </tr>\n",
       "    <tr>\n",
       "      <th>PGLase</th>\n",
       "      <td>0</td>\n",
       "      <td>0</td>\n",
       "      <td>0</td>\n",
       "      <td>1</td>\n",
       "      <td>0</td>\n",
       "      <td>0</td>\n",
       "      <td>0</td>\n",
       "      <td>2</td>\n",
       "      <td>4</td>\n",
       "      <td>0</td>\n",
       "      <td>2</td>\n",
       "      <td>0</td>\n",
       "    </tr>\n",
       "    <tr>\n",
       "      <th>PGLDH</th>\n",
       "      <td>0</td>\n",
       "      <td>0</td>\n",
       "      <td>0</td>\n",
       "      <td>1</td>\n",
       "      <td>0</td>\n",
       "      <td>0</td>\n",
       "      <td>0</td>\n",
       "      <td>2</td>\n",
       "      <td>4</td>\n",
       "      <td>0</td>\n",
       "      <td>2</td>\n",
       "      <td>0</td>\n",
       "    </tr>\n",
       "    <tr>\n",
       "      <th>RPI</th>\n",
       "      <td>0</td>\n",
       "      <td>0</td>\n",
       "      <td>0</td>\n",
       "      <td>-1</td>\n",
       "      <td>2</td>\n",
       "      <td>-4</td>\n",
       "      <td>4</td>\n",
       "      <td>0</td>\n",
       "      <td>0</td>\n",
       "      <td>2</td>\n",
       "      <td>0</td>\n",
       "      <td>-2</td>\n",
       "    </tr>\n",
       "    <tr>\n",
       "      <th>RPE</th>\n",
       "      <td>0</td>\n",
       "      <td>0</td>\n",
       "      <td>0</td>\n",
       "      <td>0</td>\n",
       "      <td>2</td>\n",
       "      <td>-4</td>\n",
       "      <td>4</td>\n",
       "      <td>2</td>\n",
       "      <td>4</td>\n",
       "      <td>2</td>\n",
       "      <td>2</td>\n",
       "      <td>-2</td>\n",
       "    </tr>\n",
       "    <tr>\n",
       "      <th>TKT1</th>\n",
       "      <td>0</td>\n",
       "      <td>0</td>\n",
       "      <td>0</td>\n",
       "      <td>0</td>\n",
       "      <td>-1</td>\n",
       "      <td>2</td>\n",
       "      <td>-2</td>\n",
       "      <td>-1</td>\n",
       "      <td>-2</td>\n",
       "      <td>-1</td>\n",
       "      <td>-1</td>\n",
       "      <td>1</td>\n",
       "    </tr>\n",
       "    <tr>\n",
       "      <th>TKT2</th>\n",
       "      <td>0</td>\n",
       "      <td>0</td>\n",
       "      <td>0</td>\n",
       "      <td>0</td>\n",
       "      <td>1</td>\n",
       "      <td>-2</td>\n",
       "      <td>2</td>\n",
       "      <td>1</td>\n",
       "      <td>2</td>\n",
       "      <td>1</td>\n",
       "      <td>1</td>\n",
       "      <td>-1</td>\n",
       "    </tr>\n",
       "    <tr>\n",
       "      <th>TALA</th>\n",
       "      <td>0</td>\n",
       "      <td>0</td>\n",
       "      <td>0</td>\n",
       "      <td>0</td>\n",
       "      <td>1</td>\n",
       "      <td>-2</td>\n",
       "      <td>2</td>\n",
       "      <td>1</td>\n",
       "      <td>2</td>\n",
       "      <td>1</td>\n",
       "      <td>1</td>\n",
       "      <td>-1</td>\n",
       "    </tr>\n",
       "  </tbody>\n",
       "</table>\n",
       "</div>"
      ],
      "text/plain": [
       "        0   1   2   3   4   5   6   7   8   9   10  11\n",
       "PGI      0   1  -1   0  -2   5  -5  -2  -5   0   0   0\n",
       "PFK      1   1   0   0   0   1   0   0   0   2   2   0\n",
       "FBP      1   0   1   0   0   0   1   0   1   0   0   2\n",
       "FBA      0   1  -1   0   0   1  -1   0  -1   2   2  -2\n",
       "TPI      0  -1   1   0   0  -1   1   0   1  -2  -2   2\n",
       "GAPDH    0   2  -2   0   1   0   0   1   0   5   5  -5\n",
       "PGK      0  -2   2   0  -1   0   0  -1   0  -5  -5   5\n",
       "GPM      0  -2   2   0  -1   0   0  -1   0  -5  -5   5\n",
       "ENO      0   2  -2   0   1   0   0   1   0   5   5  -5\n",
       "G6PDH    0   0   0   1   0   0   0   2   4   0   2   0\n",
       "PGLase   0   0   0   1   0   0   0   2   4   0   2   0\n",
       "PGLDH    0   0   0   1   0   0   0   2   4   0   2   0\n",
       "RPI      0   0   0  -1   2  -4   4   0   0   2   0  -2\n",
       "RPE      0   0   0   0   2  -4   4   2   4   2   2  -2\n",
       "TKT1     0   0   0   0  -1   2  -2  -1  -2  -1  -1   1\n",
       "TKT2     0   0   0   0   1  -2   2   1   2   1   1  -1\n",
       "TALA     0   0   0   0   1  -2   2   1   2   1   1  -1"
      ]
     },
     "execution_count": 12,
     "metadata": {},
     "output_type": "execute_result"
    }
   ],
   "source": [
    "bounds = {KB.get(KB.compounds, met_id) for met_id in [\n",
    "    'Glc.D.6P',\n",
    "    'Rib.D.5P',\n",
    "    'pep',\n",
    "    'co2',\n",
    "    'amp',\n",
    "    'adp',\n",
    "    'atp',\n",
    "    'nad.ox',\n",
    "    'nad.red',\n",
    "    'nadp.ox',\n",
    "    'nadp.red',\n",
    "    'pi',\n",
    "    'h2o',\n",
    "    'h+',\n",
    "]}\n",
    "\n",
    "modes, rev = elementary_modes(build_internal_system(pw, bounds), [rxn.reversible for rxn in pw.reactions])\n",
    "pd.DataFrame(modes, index=pw.reactions.labels())"
   ]
  },
  {
   "cell_type": "code",
   "execution_count": 13,
   "id": "2e14b6d1-0011-449b-8c41-ad2b0775aca7",
   "metadata": {
    "tags": []
   },
   "outputs": [
    {
     "data": {
      "application/vnd.jupyter.widget-view+json": {
       "model_id": "15ed8fd40e524a239b6c20645d8cceae",
       "version_major": 2,
       "version_minor": 0
      },
      "text/plain": [
       "VBox(children=(IntSlider(value=0, description='Mode', layout=Layout(width='256px'), max=11), Text(value='PFK +…"
      ]
     },
     "execution_count": 13,
     "metadata": {},
     "output_type": "execute_result"
    }
   ],
   "source": [
    "show_modes(pw, modes, rev)"
   ]
  },
  {
   "cell_type": "markdown",
   "id": "21fd6b61-d517-4ae6-b108-825c25c19ea1",
   "metadata": {},
   "source": [
    "$\\Delta{G}_m = \\sum\\limits_r {m_r \\Delta{G}_r}$\n",
    "\n",
    "$\\vec{\\Delta{G}_m} = \\mathbf{M^T} \\cdot \\vec{\\Delta{G}}_r$"
   ]
  },
  {
   "cell_type": "code",
   "execution_count": 14,
   "id": "aacb650f-e6ce-4d6c-89e4-c2315905d59d",
   "metadata": {
    "tags": []
   },
   "outputs": [
    {
     "data": {
      "text/plain": [
       "array([ -46.45011234,  -38.85965562,   -7.59045672,  -33.35189808,\n",
       "        -23.66252952,    8.46540343,  -54.91551577,  -90.36632569,\n",
       "       -188.3231081 , -101.38184076, -168.08563693,    8.48161608])"
      ]
     },
     "execution_count": 14,
     "metadata": {},
     "output_type": "execute_result"
    }
   ],
   "source": [
    "modes.T @ dg"
   ]
  },
  {
   "cell_type": "markdown",
   "id": "3e2e4e19-3b9a-4b3d-8777-9bb7e3e0e76b",
   "metadata": {},
   "source": [
    "# Elementary Modes of TCA (+ anaplerosis)"
   ]
  },
  {
   "cell_type": "code",
   "execution_count": 15,
   "id": "cd566e74-bef8-4ec0-b63a-638a149db6e2",
   "metadata": {
    "tags": []
   },
   "outputs": [
    {
     "name": "stdout",
     "output_type": "stream",
     "text": [
      "CANON:tca_cycle\n",
      "name: TCA cycle\n",
      "shorthand: None\n",
      "aka: None\n",
      "description: None\n",
      "xrefs: None\n",
      "size: 17 reactions over 26 molecules.\n",
      "reactions: \n",
      "    [citsyn] acCoA + H2O + OAA <=> cit + CoA + H+\n",
      "    [acnh] cit <=> icit\n",
      "    [icd] icit + NADP+ <=> αkg + CO2 + NADPH\n",
      "    [akgdh] αkg + CoA + NAD+ <=> CO2 + NADH + succCoA\n",
      "    [succoasyn] ATP + CoA + succ <=> ADP + Pi + succCoA\n",
      "    [sdh] Q + succ <=> QH2 + fum\n",
      "    [fumhyd] mal <=> fum + H2O\n",
      "    [mdh] mal + NAD+ <=> H+ + NADH + OAA\n",
      "    [iclase] icit <=> glx + succ\n",
      "    [msase] acCoA + glx + H2O <=> mal + CoA + H+\n",
      "    [ppc] H+ + OAA + Pi <=> CO2 + H2O + PEP\n",
      "    [ppck] ATP + OAA => ADP + CO2 + PEP\n",
      "    [mae.nad] mal + NAD+ => CO2 + NADH + pyr\n",
      "    [mae.nadp] mal + NADP+ => CO2 + NADPH + pyr\n",
      "    [pyk] ATP + pyr <=> ADP + H+ + PEP\n",
      "    [pps] ATP + H2O + pyr => AMP + Pi + PEP + 2 H+\n",
      "    [pdh] CoA + NAD+ + pyr => acCoA + CO2 + NADH\n"
     ]
    },
    {
     "data": {
      "image/svg+xml": [
       "<svg width=\"10in\" height=\"None\" viewBox=\"690.1 1598.4 3361.2 1854.3\"><defs><style type=\"text/css\">\n",
       "#canvas {\n",
       "  fill: #ffffff;\n",
       "  stroke: #cccccc;\n",
       "}\n",
       "text {\n",
       "  font-family: sans-serif;\n",
       "  font-style: italic;\n",
       "  font-weight: bold;\n",
       "  stroke: none;\n",
       "  text-rendering: optimizelegibility;\n",
       "}\n",
       "#reactions text {\n",
       "  font-size: 30px;\n",
       "  fill: #334e75;\n",
       "}\n",
       "#reactions text.stoich {\n",
       "  font-size: 12px;\n",
       "}\n",
       "#metabolites text {\n",
       "  font-size: 20px;\n",
       "  fill: black;\n",
       "}\n",
       "#reactions {\n",
       "  fill: none;\n",
       "  stroke: #334e75;\n",
       "  stroke-width: 10;\n",
       "}\n",
       "#reactions.data {\n",
       "  stroke: #eeeeee;  /* default overridden by reaction_scale */\n",
       "}\n",
       "#reactions .arrowhead {\n",
       "  fill: #334e75;\n",
       "  stroke: none;\n",
       "}\n",
       "#reactions.data .arrowhead {\n",
       "  fill: #eeeeee;  /* default overridden by reaction_scale */\n",
       "}\n",
       "#metabolites {\n",
       "  fill: #e0865b;\n",
       "  stroke: #a24510;\n",
       "  stroke-width: 2;\n",
       "}\n",
       "#metabolites.data {\n",
       "  fill: #eeeeee;  /* default overridden by metabolite_scale */\n",
       "  stroke: none;\n",
       "}\n",
       "</style></defs><g id=\"eschermap\"><rect id=\"canvas\" x=\"690.1\" y=\"1598.4\" width=\"3361.2\" height=\"1854.3\"/><g id=\"reactions\" class=\"data\"><g name=\"pps\" style=\"stroke: #1f77cc; stroke-width: 20.0;\"><path d=\"M 977.0 2574.0 L 977.0 2554.0\"/><path d=\"M 977.0 2534.0 L 977.0 2554.0\"/><path d=\"M 977.0 2574.0 C 977.0 2620.0 961.0 2627.0 915.7 2649.3\"/><path d=\"M 977.0 2574.0 C 965.0 2607.0 937.0 2595.0 923.9 2587.2\"/><path d=\"M 977.0 2574.0 C 977.0 2632.0 1028.0 2670.0 1071.0 2705.8\"/><g><path d=\"M 977.0 2534.0 C 977.0 2488.0 962.0 2477.0 925.5 2461.5\"/><g class=\"arrowhead\" transform=\"translate(925.5, 2461.5) rotate(-157) scale(2.0)\" style=\"fill: #1f77cc\"><path d=\"M 0 -10 L 13 0 L 0 10 Z\" transform=\"translate(-3)\"/></g></g><g><path d=\"M 977.0 2534.0 C 972.0 2491.0 905.0 2480.0 871.3 2487.3\"/><g class=\"arrowhead\" transform=\"translate(871.3, 2487.3) rotate(168) scale(2.0)\" style=\"fill: #1f77cc\"><path d=\"M 0 -10 L 13 0 L 0 10 Z\" transform=\"translate(-3)\"/></g></g><g><path d=\"M 977.0 2534.0 C 978.0 2475.0 1027.0 2434.0 1064.0 2401.4\"/><g class=\"arrowhead\" transform=\"translate(1064.0, 2401.4) rotate(-41) scale(2.0)\" style=\"fill: #1f77cc\"><path d=\"M 0 -10 L 13 0 L 0 10 Z\" transform=\"translate(-3)\"/></g></g><text x=\"992.0\" y=\"2564.0\">PPS</text></g><g name=\"pdh\" style=\"stroke: #1f77cc; stroke-width: 20.0;\"><path d=\"M 1279.0 2922.0 L 1299.0 2922.0\"/><path d=\"M 1319.0 2922.0 L 1299.0 2922.0\"/><path d=\"M 1279.0 2922.0 C 1233.0 2921.0 1197.0 2941.0 1148.6 2959.2\"/><path d=\"M 1279.0 2922.0 C 1233.0 2921.0 1228.0 2891.0 1214.3 2861.9\"/><path d=\"M 1279.0 2922.0 C 1237.0 2921.0 1098.0 2924.0 1094.6 2755.0\"/><g><path d=\"M 1319.0 2922.0 C 1396.0 2922.0 1549.0 2922.0 1619.0 2922.0\"/><g class=\"arrowhead\" transform=\"translate(1619.0, 2922.0) rotate(0) scale(2.0)\" style=\"fill: #1f77cc\"><path d=\"M 0 -10 L 13 0 L 0 10 Z\" transform=\"translate(-3)\"/></g></g><g><path d=\"M 1319.0 2922.0 C 1371.0 2924.0 1404.0 2886.0 1415.4 2868.7\"/><g class=\"arrowhead\" transform=\"translate(1415.4, 2868.7) rotate(-57) scale(2.0)\" style=\"fill: #1f77cc\"><path d=\"M 0 -10 L 13 0 L 0 10 Z\" transform=\"translate(-3)\"/></g></g><g><path d=\"M 1319.0 2922.0 C 1339.0 2920.0 1356.0 2891.0 1355.2 2871.0\"/><g class=\"arrowhead\" transform=\"translate(1355.2, 2871.0) rotate(-92) scale(2.0)\" style=\"fill: #1f77cc\"><path d=\"M 0 -10 L 13 0 L 0 10 Z\" transform=\"translate(-3)\"/></g></g><text x=\"1270.0\" y=\"2984.0\">PDH</text></g><g name=\"pyk\" style=\"stroke: #1f77cc; stroke-width: 20.0;\"><path d=\"M 1208.0 2573.0 L 1208.0 2553.0\"/><path d=\"M 1208.0 2533.0 L 1208.0 2553.0\"/><path d=\"M 1208.0 2573.0 C 1208.0 2619.0 1226.0 2624.0 1268.7 2647.4\"/><path d=\"M 1208.0 2573.0 C 1209.0 2630.0 1162.0 2668.0 1117.0 2705.7\"/><g><path d=\"M 1208.0 2533.0 C 1208.0 2487.0 1225.0 2490.0 1255.4 2469.8\"/><g class=\"arrowhead\" transform=\"translate(1255.4, 2469.8) rotate(-34) scale(2.0)\" style=\"fill: #1f77cc\"><path d=\"M 0 -10 L 13 0 L 0 10 Z\" transform=\"translate(-3)\"/></g></g><g><path d=\"M 1208.0 2533.0 C 1208.0 2475.0 1161.0 2437.0 1123.4 2402.2\"/><g class=\"arrowhead\" transform=\"translate(1123.4, 2402.2) rotate(-137) scale(2.0)\" style=\"fill: #1f77cc\"><path d=\"M 0 -10 L 13 0 L 0 10 Z\" transform=\"translate(-3)\"/></g></g><text x=\"1131.0\" y=\"2563.0\">PYK</text></g><g name=\"icd\" style=\"stroke: #1f77cc; stroke-width: 20.0;\"><path d=\"M 3354.0 3097.0 L 3373.0 3089.0\"/><path d=\"M 3391.0 3081.0 L 3373.0 3089.0\"/><path d=\"M 3354.0 3097.0 C 3316.0 3115.0 3199.0 3143.0 3126.0 3144.4\"/><path d=\"M 3354.0 3097.0 C 3313.0 3116.0 3294.0 3150.0 3286.8 3191.3\"/><g><path d=\"M 3391.0 3081.0 C 3429.0 3064.0 3478.0 3022.0 3512.5 2988.1\"/><g class=\"arrowhead\" transform=\"translate(3512.5, 2988.1) rotate(-45) scale(2.0)\" style=\"fill: #1f77cc\"><path d=\"M 0 -10 L 13 0 L 0 10 Z\" transform=\"translate(-3)\"/></g></g><g><path d=\"M 3391.0 3081.0 C 3433.0 3062.0 3455.0 3055.0 3518.1 3051.0\"/><g class=\"arrowhead\" transform=\"translate(3518.1, 3051.0) rotate(-4) scale(2.0)\" style=\"fill: #1f77cc\"><path d=\"M 0 -10 L 13 0 L 0 10 Z\" transform=\"translate(-3)\"/></g></g><g><path d=\"M 3391.0 3081.0 C 3433.0 3062.0 3472.0 3075.0 3483.4 3092.3\"/><g class=\"arrowhead\" transform=\"translate(3483.4, 3092.3) rotate(57) scale(2.0)\" style=\"fill: #1f77cc\"><path d=\"M 0 -10 L 13 0 L 0 10 Z\" transform=\"translate(-3)\"/></g></g><text x=\"3359.0\" y=\"3160.0\">ICD</text></g><g name=\"akgdh\" style=\"stroke: #1f77cc; stroke-width: 20.0;\"><path d=\"M 3684.0 2750.0 L 3691.0 2732.0\"/><path d=\"M 3699.0 2713.0 L 3691.0 2732.0\"/><path d=\"M 3684.0 2750.0 C 3669.0 2789.0 3601.0 2884.0 3559.6 2936.5\"/><path d=\"M 3684.0 2750.0 C 3667.0 2793.0 3676.0 2843.0 3697.2 2908.1\"/><path d=\"M 3684.0 2750.0 C 3667.0 2793.0 3718.0 2827.0 3729.0 2830.4\"/><g><path d=\"M 3699.0 2713.0 C 3715.0 2670.0 3766.0 2639.0 3838.2 2610.7\"/><g class=\"arrowhead\" transform=\"translate(3838.2, 2610.7) rotate(-21) scale(2.0)\" style=\"fill: #1f77cc\"><path d=\"M 0 -10 L 13 0 L 0 10 Z\" transform=\"translate(-3)\"/></g></g><g><path d=\"M 3699.0 2713.0 C 3715.0 2670.0 3747.0 2675.0 3774.4 2679.2\"/><g class=\"arrowhead\" transform=\"translate(3774.4, 2679.2) rotate(9) scale(2.0)\" style=\"fill: #1f77cc\"><path d=\"M 0 -10 L 13 0 L 0 10 Z\" transform=\"translate(-3)\"/></g></g><g><path d=\"M 3699.0 2713.0 C 3714.0 2674.0 3724.0 2599.0 3725.0 2555.0\"/><g class=\"arrowhead\" transform=\"translate(3725.0, 2555.0) rotate(-89) scale(2.0)\" style=\"fill: #1f77cc\"><path d=\"M 0 -10 L 13 0 L 0 10 Z\" transform=\"translate(-3)\"/></g></g><text x=\"3728.0\" y=\"2773.0\">AKGDH</text></g><g name=\"succoasyn\" style=\"stroke: #1f77cc; stroke-width: 20.0;\"><path d=\"M 3684.0 2257.0 L 3692.0 2276.0\"/><path d=\"M 3699.0 2294.0 L 3692.0 2276.0\"/><path d=\"M 3684.0 2257.0 C 3667.0 2214.0 3704.0 2184.0 3738.7 2169.5\"/><path d=\"M 3684.0 2257.0 C 3667.0 2214.0 3679.0 2157.0 3712.2 2104.6\"/><path d=\"M 3684.0 2257.0 C 3669.0 2218.0 3612.0 2126.0 3564.4 2087.8\"/><g><path d=\"M 3699.0 2294.0 C 3716.0 2337.0 3760.0 2365.0 3802.0 2363.3\"/><g class=\"arrowhead\" transform=\"translate(3802.0, 2363.3) rotate(-2) scale(2.0)\" style=\"fill: #1f77cc\"><path d=\"M 0 -10 L 13 0 L 0 10 Z\" transform=\"translate(-3)\"/></g></g><g><path d=\"M 3699.0 2294.0 C 3716.0 2337.0 3767.0 2335.0 3799.1 2306.3\"/><g class=\"arrowhead\" transform=\"translate(3799.1, 2306.3) rotate(-42) scale(2.0)\" style=\"fill: #1f77cc\"><path d=\"M 0 -10 L 13 0 L 0 10 Z\" transform=\"translate(-3)\"/></g></g><g><path d=\"M 3699.0 2294.0 C 3715.0 2333.0 3725.0 2417.0 3725.6 2475.0\"/><g class=\"arrowhead\" transform=\"translate(3725.6, 2475.0) rotate(89) scale(2.0)\" style=\"fill: #1f77cc\"><path d=\"M 0 -10 L 13 0 L 0 10 Z\" transform=\"translate(-3)\"/></g></g><text x=\"3727.0\" y=\"2268.0\">SCS</text></g><g name=\"sdh\" style=\"stroke: #1f77cc; stroke-width: 20.0;\"><path d=\"M 3382.0 1953.0 L 3364.0 1944.0\"/><path d=\"M 3346.0 1935.0 L 3364.0 1944.0\"/><path d=\"M 3382.0 1953.0 C 3423.0 1973.0 3436.0 1959.0 3475.3 1930.1\"/><path d=\"M 3382.0 1953.0 C 3420.0 1971.0 3476.0 2016.0 3517.7 2050.0\"/><g><path d=\"M 3346.0 1935.0 C 3304.0 1916.0 3300.0 1876.0 3301.4 1858.9\"/><g class=\"arrowhead\" transform=\"translate(3301.4, 1858.9) rotate(-85) scale(2.0)\" style=\"fill: #1f77cc\"><path d=\"M 0 -10 L 13 0 L 0 10 Z\" transform=\"translate(-3)\"/></g></g><g><path d=\"M 3346.0 1935.0 C 3308.0 1917.0 3191.0 1884.0 3136.0 1884.6\"/><g class=\"arrowhead\" transform=\"translate(3136.0, 1884.6) rotate(179) scale(2.0)\" style=\"fill: #1f77cc\"><path d=\"M 0 -10 L 13 0 L 0 10 Z\" transform=\"translate(-3)\"/></g></g><text x=\"3356.0\" y=\"1913.0\">SDH</text></g><g name=\"fumhyd\" style=\"stroke: #1f77cc; stroke-width: 20.0;\"><path d=\"M 2857.0 1930.0 L 2876.0 1923.0\"/><path d=\"M 2894.0 1917.0 L 2876.0 1923.0\"/><path d=\"M 2857.0 1930.0 C 2817.0 1944.0 2720.0 1993.0 2670.3 2046.9\"/><g><path d=\"M 2894.0 1917.0 C 2934.0 1903.0 2990.0 1889.0 3056.0 1886.5\"/><g class=\"arrowhead\" transform=\"translate(3056.0, 1886.5) rotate(-2) scale(2.0)\" style=\"fill: #1f77cc\"><path d=\"M 0 -10 L 13 0 L 0 10 Z\" transform=\"translate(-3)\"/></g></g><g><path d=\"M 2894.0 1917.0 C 2938.0 1902.0 2937.0 1883.0 2943.0 1844.6\"/><g class=\"arrowhead\" transform=\"translate(2943.0, 1844.6) rotate(-81) scale(2.0)\" style=\"fill: #1f77cc\"><path d=\"M 0 -10 L 13 0 L 0 10 Z\" transform=\"translate(-3)\"/></g></g><text x=\"2781.0\" y=\"1906.0\">FUM</text></g><g name=\"mdh\" style=\"stroke: #1f77cc; stroke-width: 20.0;\"><path d=\"M 2514.0 2263.0 L 2506.0 2281.0\"/><path d=\"M 2498.0 2300.0 L 2506.0 2281.0\"/><path d=\"M 2514.0 2263.0 C 2530.0 2224.0 2585.0 2135.0 2628.9 2090.4\"/><path d=\"M 2514.0 2263.0 C 2532.0 2220.0 2517.0 2186.0 2508.8 2169.7\"/><g><path d=\"M 2498.0 2300.0 C 2481.0 2342.0 2461.0 2355.0 2418.5 2368.4\"/><g class=\"arrowhead\" transform=\"translate(2418.5, 2368.4) rotate(163) scale(2.0)\" style=\"fill: #1f77cc\"><path d=\"M 0 -10 L 13 0 L 0 10 Z\" transform=\"translate(-3)\"/></g></g><g><path d=\"M 2498.0 2300.0 C 2482.0 2338.0 2465.0 2428.0 2465.5 2475.0\"/><g class=\"arrowhead\" transform=\"translate(2465.5, 2475.0) rotate(89) scale(2.0)\" style=\"fill: #1f77cc\"><path d=\"M 0 -10 L 13 0 L 0 10 Z\" transform=\"translate(-3)\"/></g></g><text x=\"2411.0\" y=\"2276.0\">MDH</text></g><g name=\"citsyn\" style=\"stroke: #1f77cc; stroke-width: 20.0;\"><path d=\"M 2500.0 2743.0 L 2508.0 2761.0\"/><path d=\"M 2517.0 2779.0 L 2508.0 2761.0\"/><path d=\"M 2500.0 2743.0 C 2468.0 2650.0 1834.0 2815.0 1684.6 2906.4\"/><path d=\"M 2500.0 2743.0 C 2484.0 2693.0 2522.0 2646.0 2563.1 2649.9\"/><path d=\"M 2500.0 2743.0 C 2475.0 2692.0 2462.0 2607.0 2464.7 2545.0\"/><g><path d=\"M 2517.0 2779.0 C 2535.0 2816.0 2591.0 2893.0 2623.6 2930.0\"/><g class=\"arrowhead\" transform=\"translate(2623.6, 2930.0) rotate(49) scale(2.0)\" style=\"fill: #1f77cc\"><path d=\"M 0 -10 L 13 0 L 0 10 Z\" transform=\"translate(-3)\"/></g></g><g><path d=\"M 2517.0 2779.0 C 2537.0 2820.0 2497.0 2853.0 2448.2 2827.0\"/><g class=\"arrowhead\" transform=\"translate(2448.2, 2827.0) rotate(-152) scale(2.0)\" style=\"fill: #1f77cc\"><path d=\"M 0 -10 L 13 0 L 0 10 Z\" transform=\"translate(-3)\"/></g></g><text x=\"2551.0\" y=\"2758.0\">CS</text></g><g name=\"msase\" style=\"stroke: #1f77cc; stroke-width: 20.0;\"><path d=\"M 2946.0 2482.0 L 2940.0 2463.0\"/><path d=\"M 2935.0 2444.0 L 2940.0 2463.0\"/><path d=\"M 2946.0 2482.0 C 3003.0 2617.0 2622.0 3032.0 1688.8 2925.4\"/><path d=\"M 2946.0 2482.0 C 2993.0 2588.0 3113.0 2567.0 3158.8 2481.4\"/><path d=\"M 2946.0 2482.0 C 2952.0 2531.0 2921.0 2556.0 2880.0 2557.3\"/><g><path d=\"M 2935.0 2444.0 C 2923.0 2404.0 2900.0 2133.0 2688.8 2078.9\"/><g class=\"arrowhead\" transform=\"translate(2688.8, 2078.9) rotate(-166) scale(2.0)\" style=\"fill: #1f77cc\"><path d=\"M 0 -10 L 13 0 L 0 10 Z\" transform=\"translate(-3)\"/></g></g><g><path d=\"M 2935.0 2444.0 C 2921.0 2400.0 2894.0 2384.0 2873.5 2375.4\"/><g class=\"arrowhead\" transform=\"translate(2873.5, 2375.4) rotate(-157) scale(2.0)\" style=\"fill: #1f77cc\"><path d=\"M 0 -10 L 13 0 L 0 10 Z\" transform=\"translate(-3)\"/></g></g><text x=\"2817.0\" y=\"2482.0\">MALS</text></g><g name=\"iclase\" style=\"stroke: #1f77cc; stroke-width: 20.0;\"><path d=\"M 3414.0 2584.0 L 3425.0 2567.0\"/><path d=\"M 3436.0 2551.0 L 3425.0 2567.0\"/><path d=\"M 3414.0 2584.0 C 3391.0 2619.0 3133.0 2934.0 3101.2 3115.5\"/><g><path d=\"M 3436.0 2551.0 C 3498.0 2436.0 3327.0 2262.0 3197.9 2423.7\"/><g class=\"arrowhead\" transform=\"translate(3197.9, 2423.7) rotate(129) scale(2.0)\" style=\"fill: #1f77cc\"><path d=\"M 0 -10 L 13 0 L 0 10 Z\" transform=\"translate(-3)\"/></g></g><g><path d=\"M 3436.0 2551.0 C 3512.0 2446.0 3577.0 2183.0 3553.0 2107.1\"/><g class=\"arrowhead\" transform=\"translate(3553.0, 2107.1) rotate(-108) scale(2.0)\" style=\"fill: #1f77cc\"><path d=\"M 0 -10 L 13 0 L 0 10 Z\" transform=\"translate(-3)\"/></g></g><text x=\"3364.0\" y=\"2534.0\">ICL</text></g><g name=\"mae.nad\" style=\"stroke: #1f77cc; stroke-width: 20.0;\"><path d=\"M 2171.0 2000.0 L 2151.0 2000.0\"/><path d=\"M 2131.0 2000.0 L 2151.0 2000.0\"/><path d=\"M 2171.0 2000.0 C 2281.0 1997.0 2497.0 2031.0 2620.9 2061.8\"/><path d=\"M 2171.0 2000.0 C 2219.0 1984.0 2222.0 1982.0 2245.4 1939.3\"/><g><path d=\"M 2131.0 2000.0 C 2085.0 2000.0 2049.0 1995.0 2030.4 1961.1\"/><g class=\"arrowhead\" transform=\"translate(2030.4, 1961.1) rotate(-119) scale(2.0)\" style=\"fill: #1f77cc\"><path d=\"M 0 -10 L 13 0 L 0 10 Z\" transform=\"translate(-3)\"/></g></g><g><path d=\"M 2131.0 2000.0 C 2085.0 2000.0 2079.0 1978.0 2075.4 1943.8\"/><g class=\"arrowhead\" transform=\"translate(2075.4, 1943.8) rotate(-96) scale(2.0)\" style=\"fill: #1f77cc\"><path d=\"M 0 -10 L 13 0 L 0 10 Z\" transform=\"translate(-3)\"/></g></g><g><path d=\"M 2131.0 2000.0 C 1779.0 1993.0 1670.0 2722.0 1134.0 2724.8\"/><g class=\"arrowhead\" transform=\"translate(1134.0, 2724.8) rotate(180) scale(2.0)\" style=\"fill: #1f77cc\"><path d=\"M 0 -10 L 13 0 L 0 10 Z\" transform=\"translate(-3)\"/></g></g><text x=\"2106.0\" y=\"1951.0\">MAE-A</text></g><g name=\"mae.nadp\" style=\"stroke: #1f77cc; stroke-width: 20.0;\"><path d=\"M 2173.0 2056.0 L 2153.0 2056.0\"/><path d=\"M 2133.0 2056.0 L 2153.0 2056.0\"/><path d=\"M 2173.0 2056.0 C 2309.0 2056.0 2512.0 2047.0 2620.4 2064.3\"/><path d=\"M 2173.0 2056.0 C 2209.0 2072.0 2233.0 2078.0 2243.3 2116.7\"/><g><path d=\"M 2133.0 2056.0 C 2087.0 2056.0 2074.0 2058.0 2033.0 2091.0\"/><g class=\"arrowhead\" transform=\"translate(2033.0, 2091.0) rotate(141) scale(2.0)\" style=\"fill: #1f77cc\"><path d=\"M 0 -10 L 13 0 L 0 10 Z\" transform=\"translate(-3)\"/></g></g><g><path d=\"M 2133.0 2056.0 C 2087.0 2056.0 2071.0 2060.0 2057.3 2105.4\"/><g class=\"arrowhead\" transform=\"translate(2057.3, 2105.4) rotate(107) scale(2.0)\" style=\"fill: #1f77cc\"><path d=\"M 0 -10 L 13 0 L 0 10 Z\" transform=\"translate(-3)\"/></g></g><g><path d=\"M 2133.0 2056.0 C 1767.0 2055.0 1642.0 2723.0 1134.0 2724.9\"/><g class=\"arrowhead\" transform=\"translate(1134.0, 2724.9) rotate(180) scale(2.0)\" style=\"fill: #1f77cc\"><path d=\"M 0 -10 L 13 0 L 0 10 Z\" transform=\"translate(-3)\"/></g></g><text x=\"2097.0\" y=\"2123.0\">MAE-B</text></g><g name=\"ppck\" style=\"stroke: #1f77cc; stroke-width: 20.0;\"><path d=\"M 1984.0 2391.0 L 1964.0 2391.0\"/><path d=\"M 1944.0 2391.0 L 1964.0 2391.0\"/><path d=\"M 1984.0 2391.0 C 2030.0 2391.0 2035.0 2373.0 2058.4 2330.3\"/><path d=\"M 1984.0 2391.0 C 2185.0 2395.0 2353.0 2479.0 2437.4 2505.9\"/><g><path d=\"M 1944.0 2391.0 C 1898.0 2391.0 1892.0 2378.0 1886.0 2340.6\"/><g class=\"arrowhead\" transform=\"translate(1886.0, 2340.6) rotate(-99) scale(2.0)\" style=\"fill: #1f77cc\"><path d=\"M 0 -10 L 13 0 L 0 10 Z\" transform=\"translate(-3)\"/></g></g><g><path d=\"M 1944.0 2391.0 C 1898.0 2391.0 1878.0 2392.0 1859.4 2358.1\"/><g class=\"arrowhead\" transform=\"translate(1859.4, 2358.1) rotate(-119) scale(2.0)\" style=\"fill: #1f77cc\"><path d=\"M 0 -10 L 13 0 L 0 10 Z\" transform=\"translate(-3)\"/></g></g><g><path d=\"M 1944.0 2391.0 C 1764.0 2395.0 1329.0 2375.0 1134.0 2375.0\"/><g class=\"arrowhead\" transform=\"translate(1134.0, 2375.0) rotate(180) scale(2.0)\" style=\"fill: #1f77cc\"><path d=\"M 0 -10 L 13 0 L 0 10 Z\" transform=\"translate(-3)\"/></g></g><text x=\"1926.0\" y=\"2346.0\">PPCK</text></g><g name=\"ppc\" style=\"stroke: #1f77cc; stroke-width: 20.0;\"><path d=\"M 1984.0 2508.0 L 1964.0 2508.0\"/><path d=\"M 1944.0 2508.0 L 1964.0 2508.0\"/><path d=\"M 1984.0 2508.0 C 2030.0 2508.0 2046.0 2538.0 2044.9 2564.0\"/><path d=\"M 1984.0 2508.0 C 2026.0 2508.0 2345.0 2514.0 2436.0 2514.8\"/><path d=\"M 1984.0 2508.0 C 2030.0 2508.0 2073.0 2526.0 2104.2 2575.4\"/><g><path d=\"M 1944.0 2508.0 C 1898.0 2508.0 1854.0 2529.0 1827.9 2556.7\"/><g class=\"arrowhead\" transform=\"translate(1827.9, 2556.7) rotate(133) scale(2.0)\" style=\"fill: #1f77cc\"><path d=\"M 0 -10 L 13 0 L 0 10 Z\" transform=\"translate(-3)\"/></g></g><g><path d=\"M 1944.0 2508.0 C 1898.0 2508.0 1889.0 2544.0 1888.2 2556.1\"/><g class=\"arrowhead\" transform=\"translate(1888.2, 2556.1) rotate(94) scale(2.0)\" style=\"fill: #1f77cc\"><path d=\"M 0 -10 L 13 0 L 0 10 Z\" transform=\"translate(-3)\"/></g></g><g><path d=\"M 1944.0 2508.0 C 1751.0 2506.0 1436.0 2379.0 1134.0 2375.5\"/><g class=\"arrowhead\" transform=\"translate(1134.0, 2375.5) rotate(-179) scale(2.0)\" style=\"fill: #1f77cc\"><path d=\"M 0 -10 L 13 0 L 0 10 Z\" transform=\"translate(-3)\"/></g></g><text x=\"1936.0\" y=\"2564.0\">PPC</text></g><g name=\"acnh\" style=\"stroke: #1f77cc; stroke-width: 20.0;\"><path d=\"M 2847.0 3098.0 L 2828.0 3091.0\"/><path d=\"M 2865.0 3106.0 L 2847.0 3098.0\"/><path d=\"M 2828.0 3091.0 C 2776.0 3069.0 2720.0 3027.0 2671.7 2980.7\"/><g><path d=\"M 2865.0 3106.0 C 2909.0 3125.0 2992.0 3149.0 3056.0 3146.5\"/><g class=\"arrowhead\" transform=\"translate(3056.0, 3146.5) rotate(-2) scale(2.0)\" style=\"fill: #1f77cc\"><path d=\"M 0 -10 L 13 0 L 0 10 Z\" transform=\"translate(-3)\"/></g></g><text x=\"2764.0\" y=\"3150.0\">ACN</text></g></g><g id=\"metabolites\"><g name=\"pep\"><circle cx=\"1094.0\" cy=\"2375.0\" r=\"20.0\"/><text x=\"1126.0\" y=\"2342.0\">PEP</text></g><g name=\"atp\"><circle cx=\"896.0\" cy=\"2659.0\" r=\"12.0\"/><text x=\"845.0\" y=\"2656.0\">ATP</text></g><g name=\"h2o\"><circle cx=\"905.0\" cy=\"2576.0\" r=\"12.0\"/><text x=\"850.0\" y=\"2581.0\">H2O</text></g><g name=\"pyr\"><circle cx=\"1094.0\" cy=\"2725.0\" r=\"20.0\"/><text x=\"1026.0\" y=\"2778.0\">pyr</text></g><g name=\"amp\"><circle cx=\"896.0\" cy=\"2449.0\" r=\"12.0\"/><text x=\"840.0\" y=\"2446.0\">AMP</text></g><g name=\"pi\"><circle cx=\"840.0\" cy=\"2494.0\" r=\"12.0\"/><text x=\"810.0\" y=\"2520.0\">Pi</text></g><g name=\"coa\"><circle cx=\"1128.0\" cy=\"2967.0\" r=\"12.0\"/><text x=\"1056.0\" y=\"2999.0\">CoA</text></g><g name=\"nad.ox\"><circle cx=\"1205.0\" cy=\"2842.0\" r=\"12.0\"/><text x=\"1171.0\" y=\"2810.0\">NAD+</text></g><g name=\"accoa\"><circle cx=\"1659.0\" cy=\"2922.0\" r=\"20.0\"/><text x=\"1593.0\" y=\"2879.0\">acCoA</text></g><g name=\"co2\"><circle cx=\"1433.0\" cy=\"2842.0\" r=\"12.0\"/><text x=\"1442.0\" y=\"2821.0\">CO2</text></g><g name=\"nad.red\"><circle cx=\"1354.0\" cy=\"2839.0\" r=\"12.0\"/><text x=\"1321.0\" y=\"2815.0\">NADH</text></g><g name=\"atp\"><circle cx=\"1288.0\" cy=\"2658.0\" r=\"12.0\"/><text x=\"1303.0\" y=\"2658.0\">ATP</text></g><g name=\"adp\"><circle cx=\"1282.0\" cy=\"2452.0\" r=\"12.0\"/><text x=\"1294.0\" y=\"2447.0\">ADP</text></g><g name=\"cit\"><circle cx=\"2650.0\" cy=\"2960.0\" r=\"20.0\"/><text x=\"2595.0\" y=\"3000.0\">cit</text></g><g name=\"oaa\"><circle cx=\"2466.0\" cy=\"2515.0\" r=\"20.0\"/><text x=\"2513.0\" y=\"2523.0\">OAA</text></g><g name=\"mal.L\"><circle cx=\"2650.0\" cy=\"2069.0\" r=\"20.0\"/><text x=\"2604.0\" y=\"2030.0\">mal</text></g><g name=\"fum\"><circle cx=\"3096.0\" cy=\"1885.0\" r=\"20.0\"/><text x=\"3082.0\" y=\"1845.0\">fum</text></g><g name=\"succ\"><circle cx=\"3541.0\" cy=\"2069.0\" r=\"20.0\"/><text x=\"3561.0\" y=\"2041.0\">succ</text></g><g name=\"succcoa\"><circle cx=\"3726.0\" cy=\"2515.0\" r=\"20.0\"/><text x=\"3774.0\" y=\"2517.0\">succCoA</text></g><g name=\"akg\"><circle cx=\"3541.0\" cy=\"2960.0\" r=\"20.0\"/><text x=\"3571.0\" y=\"2990.0\">αkg</text></g><g name=\"icit\"><circle cx=\"3096.0\" cy=\"3145.0\" r=\"20.0\"/><text x=\"3082.0\" y=\"3200.0\">icit</text></g><g name=\"glx\"><circle cx=\"3173.0\" cy=\"2455.0\" r=\"20.0\"/><text x=\"3174.0\" y=\"2502.0\">glx</text></g><g name=\"nadp.ox\"><circle cx=\"3283.0\" cy=\"3213.0\" r=\"12.0\"/><text x=\"3261.0\" y=\"3253.0\">NADP+</text></g><g name=\"co2\"><circle cx=\"3550.0\" cy=\"3049.0\" r=\"12.0\"/><text x=\"3579.0\" y=\"3083.0\">CO2</text></g><g name=\"nadp.red\"><circle cx=\"3501.0\" cy=\"3119.0\" r=\"12.0\"/><text x=\"3516.0\" y=\"3157.0\">NADPH</text></g><g name=\"coa\"><circle cx=\"3704.0\" cy=\"2929.0\" r=\"12.0\"/><text x=\"3701.0\" y=\"2976.0\">CoA</text></g><g name=\"nad.ox\"><circle cx=\"3750.0\" cy=\"2837.0\" r=\"12.0\"/><text x=\"3761.0\" y=\"2883.0\">NAD+</text></g><g name=\"co2\"><circle cx=\"3868.0\" cy=\"2599.0\" r=\"12.0\"/><text x=\"3907.0\" y=\"2607.0\">CO2</text></g><g name=\"nad.red\"><circle cx=\"3806.0\" cy=\"2684.0\" r=\"12.0\"/><text x=\"3849.0\" y=\"2705.0\">NADH</text></g><g name=\"atp\"><circle cx=\"3759.0\" cy=\"2161.0\" r=\"12.0\"/><text x=\"3794.0\" y=\"2163.0\">ATP</text></g><g name=\"coa\"><circle cx=\"3724.0\" cy=\"2086.0\" r=\"12.0\"/><text x=\"3751.0\" y=\"2084.0\">CoA</text></g><g name=\"adp\"><circle cx=\"3834.0\" cy=\"2362.0\" r=\"12.0\"/><text x=\"3855.0\" y=\"2394.0\">ADP</text></g><g name=\"pi\"><circle cx=\"3823.0\" cy=\"2285.0\" r=\"12.0\"/><text x=\"3853.0\" y=\"2288.0\">Pi</text></g><g name=\"q.ox\"><circle cx=\"3493.0\" cy=\"1917.0\" r=\"12.0\"/><text x=\"3523.0\" y=\"1911.0\">Q</text></g><g name=\"q.red\"><circle cx=\"3304.0\" cy=\"1827.0\" r=\"12.0\"/><text x=\"3333.0\" y=\"1820.0\">QH2</text></g><g name=\"h2o\"><circle cx=\"2948.0\" cy=\"1813.0\" r=\"12.0\"/><text x=\"2968.0\" y=\"1800.0\">H2O</text></g><g name=\"nad.ox\"><circle cx=\"2499.0\" cy=\"2150.0\" r=\"12.0\"/><text x=\"2418.0\" y=\"2139.0\">NAD+</text></g><g name=\"nad.red\"><circle cx=\"2388.0\" cy=\"2378.0\" r=\"12.0\"/><text x=\"2300.0\" y=\"2386.0\">NADH</text></g><g name=\"h2o\"><circle cx=\"2585.0\" cy=\"2652.0\" r=\"12.0\"/><text x=\"2585.0\" y=\"2691.0\">H2O</text></g><g name=\"coa\"><circle cx=\"2420.0\" cy=\"2812.0\" r=\"12.0\"/><text x=\"2344.0\" y=\"2810.0\">CoA</text></g><g name=\"h2o\"><circle cx=\"2858.0\" cy=\"2558.0\" r=\"12.0\"/><text x=\"2791.0\" y=\"2553.0\">H2O</text></g><g name=\"coa\"><circle cx=\"2844.0\" cy=\"2363.0\" r=\"12.0\"/><text x=\"2773.0\" y=\"2357.0\">CoA</text></g><g name=\"nad.ox\"><circle cx=\"2256.0\" cy=\"1920.0\" r=\"12.0\"/><text x=\"2239.0\" y=\"1900.0\">NAD+</text></g><g name=\"co2\"><circle cx=\"2015.0\" cy=\"1933.0\" r=\"12.0\"/><text x=\"1999.0\" y=\"1913.0\">CO2</text></g><g name=\"nad.red\"><circle cx=\"2072.0\" cy=\"1912.0\" r=\"12.0\"/><text x=\"2052.0\" y=\"1892.0\">NADH</text></g><g name=\"nadp.ox\"><circle cx=\"2249.0\" cy=\"2138.0\" r=\"12.0\"/><text x=\"2227.0\" y=\"2178.0\">NADP+</text></g><g name=\"co2\"><circle cx=\"2008.0\" cy=\"2111.0\" r=\"12.0\"/><text x=\"1976.0\" y=\"2151.0\">CO2</text></g><g name=\"nadp.red\"><circle cx=\"2048.0\" cy=\"2136.0\" r=\"12.0\"/><text x=\"2032.0\" y=\"2176.0\">NADPH</text></g><g name=\"atp\"><circle cx=\"2069.0\" cy=\"2311.0\" r=\"12.0\"/><text x=\"2052.0\" y=\"2291.0\">ATP</text></g><g name=\"adp\"><circle cx=\"1881.0\" cy=\"2309.0\" r=\"12.0\"/><text x=\"1844.0\" y=\"2284.0\">ADP</text></g><g name=\"co2\"><circle cx=\"1844.0\" cy=\"2330.0\" r=\"12.0\"/><text x=\"1797.0\" y=\"2316.0\">CO2</text></g><g name=\"h+\"><circle cx=\"2044.0\" cy=\"2586.0\" r=\"12.0\"/><text x=\"2030.0\" y=\"2621.0\">H+</text></g><g name=\"pi\"><circle cx=\"2116.0\" cy=\"2594.0\" r=\"12.0\"/><text x=\"2100.0\" y=\"2634.0\">Pi</text></g><g name=\"co2\"><circle cx=\"1806.0\" cy=\"2580.0\" r=\"12.0\"/><text x=\"1789.0\" y=\"2620.0\">CO2</text></g><g name=\"h2o\"><circle cx=\"1886.0\" cy=\"2588.0\" r=\"12.0\"/><text x=\"1867.0\" y=\"2620.0\">H2O</text></g></g></g></svg>"
      ],
      "text/plain": [
       "<IPython.core.display.SVG object>"
      ]
     },
     "execution_count": 15,
     "metadata": {},
     "output_type": "execute_result"
    }
   ],
   "source": [
    "pw = tca\n",
    "pw.data()\n",
    "diag = escher_map.EscherMap(\n",
    "    pw.diagram, width=\"10in\",\n",
    "    reaction_scale=escher_map.Scale({0.: (\"#eeeeee\", 3), 1.: (\"#1f77cc\", 20)}, use_abs=True))\n",
    "SVG(diag.draw(reaction_data={r.id: 1 for r in pw.reactions}))"
   ]
  },
  {
   "cell_type": "code",
   "execution_count": 16,
   "id": "1cebeb56-6e1f-44fa-b308-e31e6ecf4707",
   "metadata": {
    "tags": []
   },
   "outputs": [
    {
     "name": "stdout",
     "output_type": "stream",
     "text": [
      "(12, 22) 22\n",
      "113 elementary modes\n"
     ]
    },
    {
     "data": {
      "application/vnd.jupyter.widget-view+json": {
       "model_id": "ae8dce24e6c94703bea068aaff7cc754",
       "version_major": 2,
       "version_minor": 0
      },
      "text/plain": [
       "VBox(children=(IntSlider(value=0, description='Mode', layout=Layout(width='100%'), max=112), Text(value='- PPC…"
      ]
     },
     "execution_count": 16,
     "metadata": {},
     "output_type": "execute_result"
    }
   ],
   "source": [
    "boundaries = {\n",
    "    KB('pep'), KB('pyr'), KB('accoa'), KB('oaa'), KB('akg'),\n",
    "    KB('amp'), KB('adp'), KB('atp'), KB('pi'),\n",
    "    KB('nad.ox'), KB('nad.red'), KB('nadp.ox'), KB('nadp.red'), KB('q.ox'), KB('q.red'),    \n",
    "    KB('coa'),    \n",
    "    KB('h+'), KB('h2o'), KB('co2')\n",
    "}\n",
    "# Possibly treat a subset of the boundaries as exchanges\n",
    "exchanges = {\n",
    "    KB('pep'): 0,\n",
    "    KB('pyr'): 0,\n",
    "    KB('accoa'): -1,\n",
    "    KB('oaa'): -1,\n",
    "    KB('akg'): -1,\n",
    "}\n",
    "\n",
    "def augmented_internal_system(pw, bounds, exchanges):\n",
    "    \"\"\"Returns S matrix with rows for internal and exchanged metabolites only.\"\"\"\n",
    "    \n",
    "    # Append columns ('reactions') with a single entry for each exchange\n",
    "    exchange_cols = np.zeros((pw.shape[0], len(exchanges)), dtype=int)\n",
    "    for j, (met, direction) in enumerate(exchanges.items()):\n",
    "        exchange_cols[pw.molecules.index_of(met), j] = direction or 1\n",
    "\n",
    "    intermediates = [met not in bounds for met in pw.molecules]\n",
    "    s_matrix = np.concatenate([pw.s_matrix.astype(int), exchange_cols], axis=1)\n",
    "    reversibility = [reaction.reversible for reaction in pw.reactions]\n",
    "    reversibility.extend(direction == 0 for met, direction in exchanges.items())\n",
    "    return s_matrix[intermediates],  reversibility\n",
    "\n",
    "internal_system, reversibility = augmented_internal_system(pw, boundaries - exchanges.keys(), exchanges)\n",
    "print(internal_system.shape, len(reversibility))\n",
    "modes, mrev = elementary_modes(internal_system, reversibility)\n",
    "modes = modes[:pw.shape[1]]\n",
    "print(f'{modes.shape[1]} elementary modes')\n",
    "\n",
    "show_modes(pw, modes, mrev)"
   ]
  },
  {
   "cell_type": "markdown",
   "id": "6556aca1-4a60-4152-9d37-5b856a41135a",
   "metadata": {},
   "source": [
    "## Use current $\\Delta{G}_r$ to constrain reaction direction "
   ]
  },
  {
   "cell_type": "code",
   "execution_count": 17,
   "id": "7e26d8ca-110b-441e-8e30-e83d9cb705be",
   "metadata": {
    "tags": []
   },
   "outputs": [
    {
     "data": {
      "image/png": "[encoded data removed]",
      "text/plain": [
       "<Figure size 640x480 with 1 Axes>"
      ]
     },
     "metadata": {},
     "output_type": "display_data"
    },
    {
     "data": {
      "text/plain": [
       "CS      -17.524282\n",
       "ACN       3.252262\n",
       "ICD      -3.372707\n",
       "AKGDH   -48.229917\n",
       "SCS      -9.620471\n",
       "SDH     -25.277125\n",
       "FUM      -0.903246\n",
       "MDH      -0.372701\n",
       "ICL      -6.727101\n",
       "MALS    -25.828589\n",
       "PPC      40.831996\n",
       "PPCK     -5.618116\n",
       "MAE-A   -18.746605\n",
       "MAE-B    -3.189822\n",
       "PYK      12.755788\n",
       "PPS     -26.237576\n",
       "PDH     -52.686754\n",
       "dtype: float64"
      ]
     },
     "execution_count": 17,
     "metadata": {},
     "output_type": "execute_result"
    }
   ],
   "source": [
    "dg0 = np.array([std_dg_r[rxn].magnitude.nominal_value for rxn in pw.reactions])\n",
    "ln_conc = np.log(np.array([POOLS.get(met, 1e3) * 1e-3 for met in pw.molecules]))\n",
    "dg = dg0 + cc.RT.magnitude * pw.s_matrix.T @ ln_conc\n",
    "\n",
    "plt.hist(dg)\n",
    "plt.show()\n",
    "\n",
    "pd.Series(dg, index=pw.reactions.labels())"
   ]
  },
  {
   "cell_type": "markdown",
   "id": "6749e563-2faf-4e83-92f8-464f6dc39b52",
   "metadata": {
    "tags": []
   },
   "source": [
    "### Strategy:\n",
    "- Use a vector of +1 & -1 to set thermodynamic direction of each reaction\n",
    "    - Operates directly on the S matrix, leaves `pw` unchanged, requires no changes to Reaction objects\n",
    "- Reversibility based on |ΔG| < threshold, _overriding_ any preset reversibility on the Reaction.\n",
    "    - Strictly speaking, threshold should be 0, but positive threshold allows for uncertainty in ΔG° and/or Q\n",
    "    - Eventually, use uncertainty directly instead of a threshold parameter?"
   ]
  },
  {
   "cell_type": "code",
   "execution_count": 18,
   "id": "0c38747c-ab55-4099-bed3-27c2d8fee8b7",
   "metadata": {
    "tags": []
   },
   "outputs": [
    {
     "name": "stdout",
     "output_type": "stream",
     "text": [
      "[-17.52428208   3.25226181  -3.37270737 -48.22991716  -9.62047124\n",
      " -25.27712524  -0.90324612  -0.37270092  -6.72710142 -25.82858881\n",
      "  40.83199611  -5.61811623 -18.74660526  -3.18982175  12.75578811\n",
      " -26.23757572 -52.68675364]\n",
      "[ 1 -1  1  1  1  1  1  1  1  1 -1  1  1  1 -1  1  1]\n",
      "[False  True  True False False False  True  True False False False False\n",
      " False  True False False False]\n"
     ]
    }
   ],
   "source": [
    "print(dg)\n",
    "\n",
    "direction = (-dg / np.abs(dg)).astype(int)\n",
    "print(direction)\n",
    "\n",
    "threshold = 5.0\n",
    "reversibility = np.abs(dg) < threshold\n",
    "print(reversibility)\n"
   ]
  },
  {
   "cell_type": "code",
   "execution_count": 19,
   "id": "7ef29f54-40a7-4338-aae7-bd1a55076527",
   "metadata": {
    "tags": []
   },
   "outputs": [
    {
     "name": "stdout",
     "output_type": "stream",
     "text": [
      "(12, 22) (22,) (22,)\n",
      "41 elementary modes\n"
     ]
    },
    {
     "data": {
      "application/vnd.jupyter.widget-view+json": {
       "model_id": "1249528ebbd84430aae14d9789c5987c",
       "version_major": 2,
       "version_minor": 0
      },
      "text/plain": [
       "VBox(children=(IntSlider(value=0, description='Mode', layout=Layout(width='488px'), max=40), Text(value='- PPC…"
      ]
     },
     "execution_count": 19,
     "metadata": {},
     "output_type": "execute_result"
    }
   ],
   "source": [
    "# Interaction between augmented system and thermo-reversibility. Need to clean this up in the final API, but just muddle through for now\n",
    "\n",
    "threshold = 5.0\n",
    "internal_system, raw_rev = augmented_internal_system(pw, boundaries - exchanges.keys(), exchanges)\n",
    "augments = len(exchanges)\n",
    "direction = np.append(-dg / np.abs(dg), np.ones(augments)).astype(int)\n",
    "reversibility = np.append(np.abs(dg) < threshold, raw_rev[-augments:])\n",
    "print(internal_system.shape, direction.shape, reversibility.shape)\n",
    "\n",
    "modes, mrev = elementary_modes(internal_system * direction, reversibility)\n",
    "modes = (modes.T * direction).T[:pw.shape[1]]\n",
    "print(f'{modes.shape[1]} elementary modes')\n",
    "\n",
    "show_modes(pw, modes, mrev)"
   ]
  },
  {
   "cell_type": "markdown",
   "id": "33e0aa40-2645-4786-b350-50a734a9ed17",
   "metadata": {},
   "source": [
    "Interesting. Not one of the thermodynamic modes includes the textbook TCA cycle.\n",
    "- The culprit is Succinyl CoA synthetase, which is thermodynamically irreversible in the wrong direction to allow cyclic flux\n",
    "    - If I set the threshold >= 9.7 the cycle appears as a mode. But that's a pretty big miss.\n",
    "- Is the reported concentration of succCoA too low? Or does biosynthesis consume enough succCoA to keep it low (and disallow the cycle)?"
   ]
  }
 ],
 "metadata": {
  "kernelspec": {
   "display_name": "Python 3 (ipykernel)",
   "language": "python",
   "name": "python3"
  },
  "language_info": {
   "codemirror_mode": {
    "name": "ipython",
    "version": 3
   },
   "file_extension": ".py",
   "mimetype": "text/x-python",
   "name": "python",
   "nbconvert_exporter": "python",
   "pygments_lexer": "ipython3",
   "version": "3.11.2"
  }
 },
 "nbformat": 4,
 "nbformat_minor": 5
}
