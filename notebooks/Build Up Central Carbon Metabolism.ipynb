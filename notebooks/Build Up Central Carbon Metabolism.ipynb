{
 "cells": [
  {
   "cell_type": "code",
   "execution_count": 1,
   "id": "ccf12407",
   "metadata": {
    "tags": []
   },
   "outputs": [],
   "source": [
    "import collections\n",
    "import copy\n",
    "from ipydatagrid import DataGrid\n",
    "import ipywidgets as widgets\n",
    "import pandas as pd\n",
    "from IPython.display import display\n",
    "\n",
    "from mosmo.knowledge import kb\n",
    "from mosmo.model import DS, DbXref, KbEntry, Molecule, Reaction, Pathway\n",
    "\n",
    "# Data files are resources in the `data` package\n",
    "from importlib.resources import files\n",
    "import data\n",
    "\n",
    "def datafile(filename):\n",
    "    return files(data).joinpath(filename)\n",
    "\n",
    "KB = kb.configure_kb()"
   ]
  },
  {
   "cell_type": "markdown",
   "id": "53aff83a",
   "metadata": {},
   "source": [
    "## Semi-ambitious - big enough to be worth doing, not too big to be manageable\n",
    "\n",
    "__Notes__\n",
    "- We assume that most of the sugars already exist in the KnowledgeBase as a result of the notebook `Sugar Forms and Variations`, as well as the core nucleotides and deoxynucleotides, via `Nucleotides in the KB`.\n",
    "- This notebook builds up the reactions of central carbon metabolism, as well as the remaining metabolites not covered by the systematic approaches above.\n",
    "- We use ChEBI as the origin for most metabolite definitions\n",
    "  - No access or licensing restrictions\n",
    "  - The precision and granularity we need, e.g. in terms of protonation states, isomeric forms, etc\n",
    "- Likewise, RHEA is the origin for reaction definitions.\n",
    "- However, those sources themselves do not serve our overall goals. So we construct and refine canonical KB versions of all the relevant items. The path is\n",
    "> RHEA reaction -> ChEBI compound -> KB compound -> KB reaction\n",
    "- We use EcoCyc as a source to list the core reactions for glycolysis, pentose phosphate, and the TCA cycle, but only as a convenient way to identify the relevant RHEA reactions"
   ]
  },
  {
   "cell_type": "code",
   "execution_count": 2,
   "id": "28d637b9",
   "metadata": {
    "tags": []
   },
   "outputs": [
    {
     "name": "stdout",
     "output_type": "stream",
     "text": [
      "1 1TRANSKETO-RXN ['transketolase']\n",
      "2 2OXOGLUTARATEDEH-RXN ['2-oxoglutarate dehydrogenase system']\n",
      "3 2PGADEHYDRAT-RXN ['phosphopyruvate hydratase']\n",
      "4 2TRANSKETO-RXN ['transketolase']\n",
      "5 3PGAREARR-RXN ['* phosphoglycerate mutase (2,3-diphosphoglycerate-independent)']\n",
      "6 6PFRUCTPHOS-RXN ['6-phosphofructokinase']\n",
      "7 6PGLUCONOLACT-RXN ['6-phosphogluconolactonase']\n",
      "8 ACONITATEDEHYDR-RXN ['citrate = cis-aconitate + H2O']\n",
      "9 ACONITATEHYDR-RXN ['cis-aconitate + H2O = D-threo-isocitrate']\n",
      "10 CITSYN-RXN ['* citrate (Re)-synthase']\n",
      "11 F16ALDOLASE-RXN ['fructose-bisphosphate aldolase']\n",
      "12 F16BDEPHOS-RXN ['fructose-bisphosphatase']\n",
      "13 FUMHYDR-RXN ['fumarate hydratase']\n",
      "14 GAPOXNPHOSPHN-RXN ['* glyceraldehyde-3-phosphate dehydrogenase (NAD(P)+) (phosphorylating)']\n",
      "15 GLU6PDEHYDROG-RXN ['* glucose-6-phosphate dehydrogenase [NAD(P)+]']\n",
      "16 ISOCIT-CLEAV-RXN ['isocitrate lyase']\n",
      "17 ISOCITDEH-RXN ['isocitrate dehydrogenase (NADP+)']\n",
      "18 KDPGALDOL-RXN ['* 2-dehydro-3-deoxy-phosphogluconate aldolase']\n",
      "19 MALATE-DEH-RXN ['* malate dehydrogenase [NAD(P)+]']\n",
      "20 MALATE-DEHYDROGENASE-ACCEPTOR-RXN ['malate dehydrogenase (quinone)']\n",
      "21 MALSYN-RXN ['malate synthase']\n",
      "22 PEPDEPHOS-RXN ['pyruvate kinase']\n",
      "23 PEPSYNTH-RXN ['pyruvate, water dikinase']\n",
      "24 PGLUCISOM-RXN ['glucose-6-phosphate isomerase']\n",
      "25 PGLUCONDEHYDRAT-RXN ['phosphogluconate dehydratase']\n",
      "26 PHOSGLYPHOS-RXN ['phosphoglycerate kinase']\n",
      "27 PYRUVDEH-RXN ['pyruvate dehydrogenase system']\n",
      "28 RIB5PISOM-RXN ['ribose-5-phosphate isomerase']\n",
      "29 RIBULP3EPIM-RXN ['ribulose-phosphate 3-epimerase']\n",
      "30 RXN-15513 []\n",
      "31 RXN-9952 ['* phosphogluconate dehydrogenase (NADP+-dependent, decarboxylating)']\n",
      "32 SUCCCOASYN-RXN ['succinate---CoA ligase (ADP-forming)']\n",
      "33 SUCCINATE-DEHYDROGENASE-UBIQUINONE-RXN ['succinate dehydrogenase']\n",
      "34 TRANSALDOL-RXN ['transaldolase']\n",
      "35 TRIOSEPISOMERIZATION-RXN ['triose-phosphate isomerase']\n"
     ]
    }
   ],
   "source": [
    "glycolysis_df = pd.read_csv(datafile('glycolysis.tsv'), sep='\\t')\n",
    "ppp_df = pd.read_csv(datafile('pentose_phosphate.tsv'), sep='\\t')\n",
    "tca_df = pd.read_csv(datafile('tca.tsv'), sep='\\t')\n",
    "\n",
    "ecocyc_to_rhea = {ecocyc_id: KB.xref(KB.RHEA, ecocyc_id)\n",
    "                  for ecocyc_id in {*glycolysis_df['Reaction id'],\n",
    "                                    *ppp_df['Reaction id'],\n",
    "                                    *tca_df['Reaction id'],\n",
    "                                    'PGLUCONDEHYDRAT-RXN',  # Entner-Doudoroff\n",
    "                                    'KDPGALDOL-RXN',  # Entner-Doudoroff\n",
    "                                    'PYRUVDEH-RXN',  # connect glycolis -> TCA\n",
    "                                    'ISOCIT-CLEAV-RXN',  # glyoxylate shunt\n",
    "                                    'MALSYN-RXN',  # glyoxylate shunt\n",
    "                                   }}\n",
    "\n",
    "for i, ecocyc_id in enumerate(sorted(ecocyc_to_rhea.keys())):\n",
    "    print(i+1, ecocyc_id, [r.name for r in ecocyc_to_rhea[ecocyc_id]])"
   ]
  },
  {
   "cell_type": "markdown",
   "id": "29f774f3",
   "metadata": {},
   "source": [
    "- RXN-15513 is GpmA, 2,3-bisphosphoglycerate-dependent phosphoglycerate mutase. 3PGAREARR-RXN/GpmM is the same net reaction, so this isn't blocking. But at some point we do want it correct in the KB (with separate EC numbers).\n",
    "- [RESOLVED] SUCCINATE-DEHYDROGENASE-UBIQUINONE-RXN is RHEA:13714 (master: RHEA:13713; EC:1.3.5.1). Present on rhea-db.org, but not in `ref`. Need to investigate why it did not load\n",
    "    - ubiquinone !"
   ]
  },
  {
   "cell_type": "markdown",
   "id": "953c7d42-8bfb-48dc-afc1-fcf82a60f4b6",
   "metadata": {},
   "source": [
    "## Get all the metabolites where we want them to be\n",
    "- In the KB\n",
    "- Canonical\n",
    "    - Intuitive names, e.g. ATP not ATP(2-), D-Glucose 6-phosphate not β-D-glucopyranose 6-phosphate(4-)\n",
    "        - But with technically correct default forms at pH 7.3\n",
    "    - β-D-fructofuranose 6-phosphate(2-) and keto-D-fructose 6-phosphate(2-) are both just D-Fructose 6P for the purpose of connecting PGI and PFK"
   ]
  },
  {
   "cell_type": "markdown",
   "id": "689a3b18-8609-4fe1-a574-68e6719e25c7",
   "metadata": {},
   "source": [
    "### Collect, load, canonicalize"
   ]
  },
  {
   "cell_type": "code",
   "execution_count": 3,
   "id": "93d6d6d8",
   "metadata": {
    "tags": []
   },
   "outputs": [
    {
     "name": "stdout",
     "output_type": "stream",
     "text": [
      "47 metabolites, 45 unique.\n",
      "RHEA metabolites ['57634', '57579'] ==> Fru.D.6P\n",
      "RHEA metabolites ['61548', '57584'] ==> Glc.D.6P\n"
     ]
    }
   ],
   "source": [
    "# Collapse reactions dict\n",
    "rhea_rxns = {rxn.id: rxn for rxns in ecocyc_to_rhea.values() for rxn in rxns}\n",
    "\n",
    "# Collect and load metabolites refered to in these reactions, by ChEBI ID\n",
    "by_chebi_id = {}\n",
    "for rxn in rhea_rxns.values():\n",
    "    for met in rxn.stoichiometry:\n",
    "        if met.id not in by_chebi_id:\n",
    "            by_chebi_id[met.id] = KB.get(KB.CHEBI, met.id)\n",
    "\n",
    "# Find corresponding canonical KB compounds where available, and navigate to canonical form.\n",
    "# Where found, this replaces the molecule in `by_chebi_id` (so we can detect redundancy).\n",
    "kb_mets = {}\n",
    "for chebi_id in by_chebi_id.keys():\n",
    "    # From KB, xref to CHEBI\n",
    "    mols = KB.xref(KB.compounds, DbXref(db=DS.CHEBI, id=chebi_id))\n",
    "    if mols:\n",
    "        if len(mols) > 1:\n",
    "            print(f'{len(mols)} hits to CHEBI:{chebi_id}')\n",
    "        mol = mols[0]\n",
    "        if mol.canonical_form is not None:\n",
    "            mol = KB.get(KB.compounds, mol.canonical_form.parent_id)\n",
    "\n",
    "        kb_mets[mol.id] = mol\n",
    "        by_chebi_id[chebi_id] = mol\n",
    "\n",
    "print(f'{len(by_chebi_id)} metabolites, {len(set(by_chebi_id.values()))} unique.')\n",
    "\n",
    "by_met = collections.defaultdict(list)\n",
    "for chebi_id, met in by_chebi_id.items():\n",
    "    by_met[met].append(chebi_id)\n",
    "for met, chebi_ids in by_met.items():\n",
    "    if len(chebi_ids) > 1:\n",
    "        print(f'RHEA metabolites {chebi_ids} ==> {met.id}')"
   ]
  },
  {
   "cell_type": "markdown",
   "id": "4dbb9d3e-2781-475d-b4bd-306834e671fe",
   "metadata": {},
   "source": [
    "### Clean up everything not yet in the KB"
   ]
  },
  {
   "cell_type": "code",
   "execution_count": 4,
   "id": "9b4c6225-7873-4aca-908f-3ee090768f99",
   "metadata": {
    "scrolled": true,
    "tags": []
   },
   "outputs": [
    {
     "name": "stdout",
     "output_type": "stream",
     "text": [
      "All referenced molecules are in the KB.\n"
     ]
    }
   ],
   "source": [
    "todo = []\n",
    "for met in sorted(by_chebi_id.values(), key=lambda m: m.name):\n",
    "    if met.id not in kb_mets:\n",
    "        todo.append({\n",
    "            'chebi_id': met.id,\n",
    "            'kb_id': '',\n",
    "            'name': met.name,\n",
    "            'shorthand': met.shorthand or '',\n",
    "            'formula': met.formula,\n",
    "            'mass': met.mass or '',\n",
    "            'charge': met.charge,\n",
    "        })\n",
    "\n",
    "met_grid = None\n",
    "if todo:\n",
    "    met_grid = DataGrid(pd.DataFrame(todo).set_index('chebi_id'), editable=True)\n",
    "    display(met_grid)\n",
    "else:\n",
    "    print('All referenced molecules are in the KB.')"
   ]
  },
  {
   "cell_type": "code",
   "execution_count": 5,
   "id": "cf86831a-40f6-4848-a9b2-8cb1960738da",
   "metadata": {
    "tags": []
   },
   "outputs": [
    {
     "name": "stdout",
     "output_type": "stream",
     "text": [
      "0 molecules pending update in the KB\n"
     ]
    }
   ],
   "source": [
    "kb_update = {}\n",
    "if met_grid is not None:\n",
    "    for i, row in met_grid.data.iterrows():\n",
    "        if row.kb_id:\n",
    "            chebi_mol = by_chebi_id[i]\n",
    "\n",
    "            # Preserve the old name as an aka, and remove the new one if it was an aka.\n",
    "            aka = chebi_mol.aka or []\n",
    "            if row['name'] != chebi_mol.name:\n",
    "                aka.insert(0, chebi_mol.name)\n",
    "                try:\n",
    "                    aka.remove(row['name'])\n",
    "                except ValueError:\n",
    "                    pass\n",
    "\n",
    "            # Keep an xref to the ChEBI mol\n",
    "            xrefs = {DbXref(db=DS.CHEBI, id=chebi_mol.id)}\n",
    "            if chebi_mol.xrefs:\n",
    "                xrefs.update(chebi_mol.xrefs)\n",
    "\n",
    "            kb_mol = Molecule(\n",
    "                id=row.kb_id,\n",
    "                name=row['name'],\n",
    "                shorthand=row.shorthand or None,\n",
    "                description=chebi_mol.description or None,\n",
    "                aka=aka or None,\n",
    "                xrefs=xrefs,\n",
    "                formula=row.formula or None,\n",
    "                mass=row.mass if not pd.isna(row.mass) else None,\n",
    "                charge=row.charge,\n",
    "                inchi=chebi_mol.inchi or None,\n",
    "            )\n",
    "            kb_update[row.kb_id] = kb_mol\n",
    "            kb_mets[row.kb_id] = kb_mol\n",
    "            by_chebi_id[chebi_mol.id] = kb_mol\n",
    "print(f'{len(kb_update)} molecules pending update in the KB')"
   ]
  },
  {
   "cell_type": "code",
   "execution_count": 6,
   "id": "0af524bc-5dc0-48f4-9c5d-549eb6aee4e7",
   "metadata": {
    "tags": []
   },
   "outputs": [],
   "source": [
    "for kb_id, kb_mol in kb_update.items():\n",
    "    KB.put(KB.compounds, kb_mol)"
   ]
  },
  {
   "cell_type": "markdown",
   "id": "f8eaf8ff-7488-4332-a287-0587dd5983a6",
   "metadata": {},
   "source": [
    "## Build KB versions of all reactions"
   ]
  },
  {
   "cell_type": "code",
   "execution_count": 7,
   "id": "5eabd58d-817f-4156-bd01-2dfd26a8bbf2",
   "metadata": {
    "tags": []
   },
   "outputs": [
    {
     "name": "stdout",
     "output_type": "stream",
     "text": [
      "34 reactions cross-referenced into 34 KB reactions\n",
      "All referenced reactions are in the KB.\n"
     ]
    }
   ],
   "source": [
    "kb_rxns = {}\n",
    "for rhea_id in rhea_rxns.keys():\n",
    "    rxns = KB.xref(KB.reactions, DbXref(db=DS.RHEA, id=rhea_id))\n",
    "    if rxns:\n",
    "        if len(rxns) > 1:\n",
    "            print(f'{len(rxns)} hits to RHEA:{rhea_id}')\n",
    "        rxn = rxns[0]\n",
    "        kb_rxns[rhea_id] = rxn\n",
    "print(f'{len(rhea_rxns)} reactions cross-referenced into {len(kb_rxns)} KB reactions')\n",
    "\n",
    "todo = []\n",
    "for rxn in sorted(rhea_rxns.values(), key=lambda r: r.name):\n",
    "    if rxn.id not in kb_rxns:\n",
    "        todo.append({\n",
    "            'rhea_id': rxn.id,\n",
    "            'kb_id': '',\n",
    "            'name': rxn.name,\n",
    "            'shorthand': rxn.shorthand or '',\n",
    "            'catalyst': rxn.catalyst or '',\n",
    "            'rev': rxn.reversible,\n",
    "            'reactants': ', '.join(by_chebi_id[met.id].label for met, count in rxn.stoichiometry.items()),\n",
    "            'xrefs': ', '.join(sorted(str(xref) for xref in rxn.xrefs)),\n",
    "        })\n",
    "\n",
    "rxn_grid = None\n",
    "if todo:\n",
    "    rxn_grid = DataGrid(pd.DataFrame(todo).set_index('rhea_id'), editable=True)\n",
    "    display(rxn_grid)\n",
    "else:\n",
    "    print('All referenced reactions are in the KB.')"
   ]
  },
  {
   "cell_type": "code",
   "execution_count": 8,
   "id": "e8a89250-964d-4a9c-83f6-ea875e0ad465",
   "metadata": {
    "tags": []
   },
   "outputs": [],
   "source": [
    "kb_rxns_update = {}\n",
    "if rxn_grid is not None:\n",
    "    for rhea_id, row in rxn_grid.data.iterrows():\n",
    "        if row.kb_id:\n",
    "            rhea_rxn = rhea_rxns[rhea_id]\n",
    "\n",
    "            # Keep an xref to the Rhea reaction\n",
    "            xrefs = {DbXref(db=DS.RHEA, id=rhea_id)}\n",
    "            if rhea_rxn.xrefs:\n",
    "                xrefs.update(rhea_rxn.xrefs)\n",
    "                \n",
    "            # Map metabolites to KB\n",
    "            stoichiometry = {by_chebi_id[met.id]: count for met, count in rhea_rxn.stoichiometry.items()}\n",
    "\n",
    "            kb_rxn = Reaction(\n",
    "                id=row.kb_id,\n",
    "                name=row['name'],\n",
    "                shorthand=row.shorthand or None,\n",
    "                description=rhea_rxn.description or None,\n",
    "                aka=rhea_rxn.aka or None,\n",
    "                xrefs=xrefs,\n",
    "                catalyst=Molecule(id=row.catalyst, name=row['name']) if row.catalyst else None,\n",
    "                stoichiometry=stoichiometry,\n",
    "                reversible=row.rev,\n",
    "            )\n",
    "            kb_rxns_update[row.kb_id] = kb_rxn\n",
    "            kb_rxns[rhea_id] = kb_rxn\n",
    "    print(f'{len(kb_rxns_update)} reactions to update in the KB')"
   ]
  },
  {
   "cell_type": "code",
   "execution_count": 9,
   "id": "d2641f39-a6af-4ed8-b0f4-0f95950b1f75",
   "metadata": {
    "tags": []
   },
   "outputs": [],
   "source": [
    "for kb_id, kb_rxn in kb_rxns_update.items():\n",
    "    KB.put(KB.reactions, kb_rxn)"
   ]
  }
 ],
 "metadata": {
  "kernelspec": {
   "display_name": "Python 3 (ipykernel)",
   "language": "python",
   "name": "python3"
  },
  "language_info": {
   "codemirror_mode": {
    "name": "ipython",
    "version": 3
   },
   "file_extension": ".py",
   "mimetype": "text/x-python",
   "name": "python",
   "nbconvert_exporter": "python",
   "pygments_lexer": "ipython3",
   "version": "3.11.2"
  }
 },
 "nbformat": 4,
 "nbformat_minor": 5
}
