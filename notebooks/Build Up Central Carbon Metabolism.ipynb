{
 "cells": [
  {
   "cell_type": "markdown",
   "id": "0eaa6b7a-2918-4a97-b2a7-438f21a47489",
   "metadata": {},
   "source": [
    "# Central Carbon in the KB\n",
    "- Big enough to be worth doing, not too big to be manageable\n",
    "\n",
    "\n",
    "__Notes__\n",
    "- We assume that most of the sugars already exist in the KnowledgeBase as a result of the notebook `Sugar Forms and Variations`, as well as the core nucleotides and deoxynucleotides, via `Nucleotides in the KB`.\n",
    "- This notebook builds up the reactions of central carbon metabolism, as well as the remaining metabolites not covered by the systematic approaches above.\n",
    "- We use ChEBI as the origin for most metabolite definitions\n",
    "  - No access or licensing restrictions\n",
    "  - The precision and granularity we need, e.g. in terms of protonation states, isomeric forms, etc\n",
    "- Likewise, RHEA is the origin for reaction definitions.\n",
    "- However, those sources themselves do not serve our overall goals. So we construct and refine canonical KB versions of all the relevant items. The path is\n",
    "> EC number -> RHEA reaction -> ChEBI compound -> KB compound -> KB reaction\n",
    "- Start with EC numbers pulled from reference sources for the relevant pathways: glycolysis/gluconeogenesis, overflow metabolism, pentose phosphate, entner-doudoroff, tca, glyoxylate shunt, anapleurosis.\n",
    "  - The starting lists are fairly inclusive, so we may be selective about what we include in any final pathways."
   ]
  },
  {
   "cell_type": "code",
   "execution_count": 1,
   "id": "ccf12407",
   "metadata": {
    "tags": []
   },
   "outputs": [],
   "source": [
    "import collections\n",
    "import copy\n",
    "from ipydatagrid import DataGrid\n",
    "import ipywidgets as widgets\n",
    "import json\n",
    "import pandas as pd\n",
    "from IPython.display import SVG, display\n",
    "\n",
    "from mosmo.knowledge import kb\n",
    "from mosmo.model import DS, DbXref, KbEntry, Molecule, Reaction, Pathway, Specialization, Variation\n",
    "from mosmo.preso.escher import escher_map, escher_model\n",
    "\n",
    "# Data files are resources in the `data` package. Pathway diagrams are in `pw`\n",
    "from importlib.resources import files\n",
    "import mosmo.preso.escher.pw as pw_files\n",
    "import data\n",
    "\n",
    "def datafile(filename):\n",
    "    return files(data).joinpath(filename)\n",
    "\n",
    "KB = kb.configure_kb()"
   ]
  },
  {
   "cell_type": "markdown",
   "id": "53aff83a",
   "metadata": {},
   "source": [
    "## Glycolysis"
   ]
  },
  {
   "cell_type": "markdown",
   "id": "83c2ffe4-47b9-44be-ae67-b9c48e175e1a",
   "metadata": {},
   "source": [
    "### Collect RHEA reactions cross-referenced to these EC numbers"
   ]
  },
  {
   "cell_type": "code",
   "execution_count": 2,
   "id": "3e33fe40-919a-41a9-b588-778987904561",
   "metadata": {},
   "outputs": [],
   "source": [
    "glycolysis_rhea = set()\n",
    "with open(datafile('glycolysis.txt'), 'r') as f:\n",
    "    for line in f.readlines():\n",
    "        line = line.strip()\n",
    "        if not line or line.startswith('#'):\n",
    "            continue\n",
    "        ec_ref = DbXref(db=DS.EC, id=line)\n",
    "        rhea_rxns = KB.xref(KB.RHEA, ec_ref)\n",
    "        if rhea_rxns:\n",
    "            glycolysis_rhea.update(rhea_rxns)\n",
    "        else:\n",
    "            print(f'{ec_ref} has no corresponding reactions in RHEA')"
   ]
  },
  {
   "cell_type": "markdown",
   "id": "6d04879e-9eb3-4cbf-9d5d-b5fd9df40794",
   "metadata": {},
   "source": [
    "### Collect associated ChEBI entries, and cross-reference into existing KB molecules\n",
    "- Where available, navigate up to the canonical form of each KB molecule"
   ]
  },
  {
   "cell_type": "code",
   "execution_count": 3,
   "id": "91079f65-debe-439e-a06c-41c9ef5d22ea",
   "metadata": {},
   "outputs": [],
   "source": [
    "chebi_to_kb = {}\n",
    "for rxn in glycolysis_rhea:\n",
    "    for chebi_mol in rxn.stoichiometry:\n",
    "        if chebi_mol not in chebi_to_kb:\n",
    "            kb_mols = KB.xref(KB.compounds, chebi_mol.ref())\n",
    "            if len(kb_mols) > 1:\n",
    "                print(f'{chebi_mol} maps to multiple KB entries.')\n",
    "            if kb_mols:\n",
    "                kb_mol = kb_mols[0]\n",
    "                if kb_mol.canonical_form is not None:\n",
    "                    kb_mol = KB.get(KB.compounds, kb_mol.canonical_form.parent_id)\n",
    "            else:\n",
    "                kb_mol = None\n",
    "            chebi_to_kb[chebi_mol] = kb_mol"
   ]
  },
  {
   "cell_type": "markdown",
   "id": "fc2ef250-1fd9-48bf-9c8d-278652672038",
   "metadata": {},
   "source": [
    "### Manually curate KB compounds\n",
    "- Assign or edit kbid, name, akas, shorthand, and xrefs\n",
    "- Generally, any new entry inherits anything it can from the ChEBI entry\n",
    "- Manually mark KB entries to be updated"
   ]
  },
  {
   "cell_type": "code",
   "execution_count": 4,
   "id": "19c64404-13dd-4570-a065-72fd58abba50",
   "metadata": {},
   "outputs": [],
   "source": [
    "class MolEditTask:\n",
    "    FOCUS_DBS = [DS.KEGG, DS.METACYC, DS.CHEBI, DS.BIGG]\n",
    "    \n",
    "    def __init__(self, chebi_mol, kb_mol):\n",
    "        self.chebi_mols = [chebi_mol]\n",
    "        self.kb_mol = kb_mol\n",
    "        self.dirty = False\n",
    "        self.defunct_kb_id = None\n",
    "\n",
    "    def data(self):\n",
    "        data = {\n",
    "            'chebi_id': ', '.join(chebi_mol.id for chebi_mol in self.chebi_mols),\n",
    "            'kb_id': self.kb_mol.id if self.kb_mol else '',\n",
    "        }\n",
    "        data_mol = self.kb_mol or self.chebi_mols[0]\n",
    "        data['name'] = data_mol.name\n",
    "        data['shorthand'] = data_mol.shorthand or ''\n",
    "\n",
    "        xrefs = {xref.db: xref.id for xref in (data_mol.xrefs or [])}\n",
    "        for db in MolEditTask.FOCUS_DBS:\n",
    "            if db in xrefs:\n",
    "                data[db.id] = xrefs.pop(db)\n",
    "            else:\n",
    "                data[db.id] = ''\n",
    "        if self.kb_mol is None:\n",
    "            data['CHEBI'] = self.chebi_mols[0].id\n",
    "\n",
    "        data['others'] = ', '.join(f'{db.id}:{id}' for db, id in sorted(xrefs.items(), key=lambda kv: kv[0].id))\n",
    "\n",
    "        return data\n",
    "\n",
    "    def make_kb_entry(self):\n",
    "        if self.kb_mol is None:\n",
    "            # New KB molecule is modeled on the first reference molecule, and cross-referenced to it.\n",
    "            self.kb_mol = copy.deepcopy(self.chebi_mols[0])\n",
    "            self.kb_mol.id = None  # Must be assigned to save it.\n",
    "            self.kb_mol.db = None  # Assigned by KB on save\n",
    "            \n",
    "            xref = self.chebi_mols[0].ref()\n",
    "            if self.kb_mol.xrefs:\n",
    "                self.kb_mol.xrefs.add(xref)\n",
    "            else:\n",
    "                self.kb_mol.xrefs = {xref}\n",
    "\n",
    "            self.dirty = True\n",
    "\n",
    "    def update_kb_id(self, id):\n",
    "        if not id:\n",
    "            return\n",
    "        if id != self.kb_mol.id:\n",
    "            if self.kb_mol.id is not None:\n",
    "                self.defunct_kb_id = self.kb_mol.id\n",
    "            self.kb_mol.id = id\n",
    "            self.dirty = True\n",
    "\n",
    "    def update_name(self, name):\n",
    "        if not name:\n",
    "            return\n",
    "        if name != self.kb_mol.name:\n",
    "            # Preserve the old name as an aka, and remove the new one if it was an aka.\n",
    "            if self.kb_mol.aka is not None:\n",
    "                self.kb_mol.aka.insert(0, self.kb_mol.name)\n",
    "                try:\n",
    "                    self.kb_mol.aka.remove(name)\n",
    "                except ValueError:\n",
    "                    pass\n",
    "            else:\n",
    "                self.kb_mol.aka = [self.kb_mol.name]\n",
    "\n",
    "            self.kb_mol.name = name\n",
    "            self.dirty = True\n",
    "        \n",
    "    def update_shorthand(self, shorthand):\n",
    "        shorthand = shorthand or None\n",
    "        if shorthand != self.kb_mol.shorthand:\n",
    "            self.kb_mol.shorthand = shorthand\n",
    "            self.dirty = True\n",
    "\n",
    "    def update_xref(self, db, id):\n",
    "        existing = None\n",
    "        for xref in self.kb_mol.xrefs:\n",
    "            if xref.db == db:\n",
    "                existing = xref\n",
    "                break\n",
    "        if existing is not None and existing.id == id:\n",
    "            return\n",
    "\n",
    "        if existing is not None:\n",
    "            self.kb_mol.xrefs.remove(existing)\n",
    "            self.dirty = True\n",
    "        if id:\n",
    "            self.kb_mol.xrefs.add(DbXref(db=db, id=id))\n",
    "            self.dirty = True\n",
    "\n",
    "    def update_other_xrefs(self, xrefs_str):\n",
    "        xrefs = set()\n",
    "        if xrefs_str:\n",
    "            for xref_str in xrefs_str.split(','):\n",
    "                db, id = xref_str.strip().split(':')\n",
    "                xrefs.add(DbXref(db=DS.get(db), id=id))\n",
    "        for xref in xrefs:\n",
    "            if xref not in self.kb_mol.xrefs:\n",
    "                self.dirty = True\n",
    "        for xref in self.kb_mol.xrefs:\n",
    "            if xref.db in MolEditTask.FOCUS_DBS:\n",
    "                xrefs.add(xref)\n",
    "            elif xref not in xrefs:\n",
    "                self.dirty = True\n",
    "        self.kb_mol.xrefs = xrefs"
   ]
  },
  {
   "cell_type": "code",
   "execution_count": 5,
   "id": "aa493d8f-053e-4a3a-8c42-463e6bc6b67a",
   "metadata": {},
   "outputs": [],
   "source": [
    "class MolEditGrid:\n",
    "    def __init__(self, tasks):\n",
    "        self.tasks = sorted(tasks, key=lambda task: (task.kb_mol or task.chebi_mols[0]).name)\n",
    "        df = pd.DataFrame([task.data() for task in self.tasks]).set_index('chebi_id')\n",
    "        self.grid = DataGrid(df, editable=True)\n",
    "        self.grid.on_cell_change(self.on_cell_change)\n",
    "\n",
    "    def on_cell_change(self, cell):\n",
    "        # The most robust way to do this is to apply the entire row's data every time\n",
    "        task = self.tasks[cell['row']]\n",
    "        row = self.grid.data.iloc[cell['row']]\n",
    "        \n",
    "        if task.kb_mol is None:\n",
    "            task.make_kb_entry()\n",
    "\n",
    "        task.update_kb_id(row['kb_id'])\n",
    "        task.update_name(row['name'])\n",
    "        task.update_shorthand(row['shorthand'])\n",
    "        for db in task.FOCUS_DBS:\n",
    "            task.update_xref(db, row[db.id])\n",
    "        task.update_other_xrefs(row['others'])\n",
    "\n",
    "    def display(self):\n",
    "        display(self.grid)"
   ]
  },
  {
   "cell_type": "code",
   "execution_count": 6,
   "id": "9614d07d-379b-4409-9074-d8adf2992d09",
   "metadata": {},
   "outputs": [
    {
     "data": {
      "application/vnd.jupyter.widget-view+json": {
       "model_id": "c11033453c1e4311ab1ede120aa056ad",
       "version_major": 2,
       "version_minor": 0
      },
      "text/plain": [
       "DataGrid(auto_fit_params={'area': 'all', 'padding': 30, 'numCols': None}, corner_renderer=None, default_render…"
      ]
     },
     "metadata": {},
     "output_type": "display_data"
    }
   ],
   "source": [
    "tasks = []\n",
    "covered = {}\n",
    "for chebi_mol, kb_mol in chebi_to_kb.items():\n",
    "    if kb_mol is not None and kb_mol in covered:\n",
    "        covered[kb_mol].chebi_mols.append(chebi_mol)\n",
    "    else:\n",
    "        task = MolEditTask(chebi_mol, kb_mol)\n",
    "        tasks.append(task)\n",
    "        if kb_mol is not None:\n",
    "            covered[kb_mol] = task\n",
    "\n",
    "mol_edit_grid = MolEditGrid(tasks)\n",
    "mol_edit_grid.display()"
   ]
  },
  {
   "cell_type": "code",
   "execution_count": 7,
   "id": "5e202962-a3c3-4392-ac73-b674b5a82281",
   "metadata": {},
   "outputs": [],
   "source": [
    "for task in mol_edit_grid.tasks:\n",
    "    if task.defunct_kb_id:\n",
    "        print(\"Defunct: \" + task.defunct_kb_id)\n",
    "    if task.dirty:\n",
    "        print(task.kb_mol)\n",
    "        KB.put(KB.compounds, task.kb_mol)\n",
    "        task.dirty = False\n",
    "\n",
    "glycolysis_kb_mols = [task.kb_mol for task in mol_edit_grid.tasks if task.kb_mol and task.kb_mol.id]"
   ]
  },
  {
   "cell_type": "markdown",
   "id": "f8eaf8ff-7488-4332-a287-0587dd5983a6",
   "metadata": {},
   "source": [
    "### Build KB versions of all reactions"
   ]
  },
  {
   "cell_type": "code",
   "execution_count": 8,
   "id": "f90570f0-8314-4399-b3dd-60969e45b4e9",
   "metadata": {},
   "outputs": [],
   "source": [
    "class RxnEditTask:\n",
    "    FOCUS_DBS = [DS.EC, DS.KEGG, DS.METACYC, DS.RHEA, DS.BIGG]\n",
    "    \n",
    "    def __init__(self, rhea_rxn, kb_rxn):\n",
    "        self.rhea_rxn = rhea_rxn\n",
    "        self.kb_rxn = kb_rxn\n",
    "        self.dirty = False\n",
    "        self.defunct_kb_id = None\n",
    "\n",
    "    def data(self):\n",
    "        data = {\n",
    "            'rhea_id': self.rhea_rxn.id,\n",
    "            'kb_id': self.kb_rxn.id or '',\n",
    "        }\n",
    "        data['name'] = self.kb_rxn.name\n",
    "        data['shorthand'] = self.kb_rxn.shorthand or ''\n",
    "        data['catalyst'] = self.kb_rxn.catalyst.id if self.kb_rxn.catalyst else ''\n",
    "        data['rev'] = self.kb_rxn.reversible\n",
    "        data['equation'] = self.kb_rxn.formula,\n",
    "\n",
    "        xrefs = {xref.db: xref.id for xref in (self.kb_rxn.xrefs or [])}\n",
    "        for db in RxnEditTask.FOCUS_DBS:\n",
    "            if db in xrefs:\n",
    "                data[db.id] = xrefs.pop(db)\n",
    "            else:\n",
    "                data[db.id] = ''\n",
    "\n",
    "        data['others'] = ', '.join(f'{db.id}:{id}' for db, id in sorted(xrefs.items(), key=lambda kv: kv[0].id))\n",
    "\n",
    "        return data\n",
    "\n",
    "    def update_kb_id(self, id):\n",
    "        if not id:\n",
    "            return\n",
    "        if id != self.kb_rxn.id:\n",
    "            if self.kb_rxn.id is not None:\n",
    "                self.defunct_kb_id = self.kb_rxn.id\n",
    "            self.kb_rxn.id = id\n",
    "            self.dirty = True\n",
    "\n",
    "    def update_name(self, name):\n",
    "        if not name:\n",
    "            return\n",
    "        if name != self.kb_rxn.name:\n",
    "            # Preserve the old name as an aka, and remove the new one if it was an aka.\n",
    "            if self.kb_rxn.aka is not None:\n",
    "                self.kb_rxn.aka.insert(0, self.kb_rxn.name)\n",
    "                try:\n",
    "                    self.kb_rxn.aka.remove(name)\n",
    "                except ValueError:\n",
    "                    pass\n",
    "            else:\n",
    "                self.kb_rxn.aka = [self.kb_rxn.name]\n",
    "\n",
    "            self.kb_rxn.name = name\n",
    "            self.dirty = True\n",
    "        \n",
    "    def update_shorthand(self, shorthand):\n",
    "        shorthand = shorthand or None\n",
    "        if shorthand != self.kb_rxn.shorthand:\n",
    "            self.kb_rxn.shorthand = shorthand\n",
    "            self.dirty = True\n",
    "        \n",
    "    def update_catalyst(self, catalyst_id):\n",
    "        if self.kb_rxn.catalyst:\n",
    "            if self.kb_rxn.catalyst.id == id:\n",
    "                return\n",
    "            else:\n",
    "                self.kb_rxn.catalyst = None\n",
    "                self.dirty = True\n",
    "\n",
    "        if catalyst_id:\n",
    "            self.kb_rxn.catalyst = Molecule(id=catalyst_id)\n",
    "            self.dirty = True\n",
    "\n",
    "    def update_reversible(self, reversible):\n",
    "        if reversible != self.kb_rxn.reversible:\n",
    "            self.kb_rxn.reversible = reversible\n",
    "            self.dirty = True\n",
    "        \n",
    "    def update_xref(self, db, id):\n",
    "        existing = None\n",
    "        for xref in self.kb_rxn.xrefs:\n",
    "            if xref.db == db:\n",
    "                existing = xref\n",
    "                break\n",
    "        if existing is not None and existing.id == id:\n",
    "            return\n",
    "\n",
    "        if existing is not None:\n",
    "            self.kb_rxn.xrefs.remove(existing)\n",
    "            self.dirty = True\n",
    "        if id:\n",
    "            self.kb_rxn.xrefs.add(DbXref(db=db, id=id))\n",
    "            self.dirty = True\n",
    "\n",
    "    def update_other_xrefs(self, xrefs_str):\n",
    "        xrefs = set()\n",
    "        if xrefs_str:\n",
    "            for xref_str in xrefs_str.split(','):\n",
    "                db, id = xref_str.strip().split(':')\n",
    "                xrefs.add(DbXref(db=DS.get(db), id=id))\n",
    "        for xref in self.kb_rxn.xrefs:\n",
    "            if xref.db in RxnEditTask.FOCUS_DBS:\n",
    "                xrefs.add(xref)\n",
    "\n",
    "        if xrefs != self.kb_rxn.xrefs:\n",
    "            self.dirty = True\n",
    "            self.kb_rxn.xrefs = xrefs"
   ]
  },
  {
   "cell_type": "code",
   "execution_count": 9,
   "id": "2c3f77fc-8cf2-441f-816a-e21cc0fec671",
   "metadata": {},
   "outputs": [],
   "source": [
    "class RxnEditGrid:\n",
    "    def __init__(self, tasks):\n",
    "        self.tasks = sorted(tasks, key=lambda task: task.kb_rxn.name)\n",
    "        df = pd.DataFrame([task.data() for task in self.tasks]).set_index('rhea_id')\n",
    "        self.grid = DataGrid(df, editable=True)\n",
    "        self.grid.on_cell_change(self.on_cell_change)\n",
    "\n",
    "    def on_cell_change(self, cell):\n",
    "        # The most robust way to do this is to apply the entire row's data every time\n",
    "        task = self.tasks[cell['row']]\n",
    "        row = self.grid.data.iloc[cell['row']]\n",
    "        \n",
    "        task.update_kb_id(row['kb_id'])\n",
    "        task.update_name(row['name'])\n",
    "        task.update_shorthand(row['shorthand'])\n",
    "        task.update_catalyst(row['catalyst'])\n",
    "        task.update_reversible(row['rev'])\n",
    "        for db in task.FOCUS_DBS:\n",
    "            task.update_xref(db, row[db.id])\n",
    "        task.update_other_xrefs(row['others'])\n",
    "\n",
    "    def display(self):\n",
    "        display(self.grid)"
   ]
  },
  {
   "cell_type": "code",
   "execution_count": 10,
   "id": "ee0195b0-c904-4e97-8312-12e1e1892131",
   "metadata": {},
   "outputs": [
    {
     "data": {
      "application/vnd.jupyter.widget-view+json": {
       "model_id": "2007c81cc3154e09a41a928333f302db",
       "version_major": 2,
       "version_minor": 0
      },
      "text/plain": [
       "DataGrid(auto_fit_params={'area': 'all', 'padding': 30, 'numCols': None}, corner_renderer=None, default_render…"
      ]
     },
     "metadata": {},
     "output_type": "display_data"
    }
   ],
   "source": [
    "def build_kb_rxn(rhea_rxn):\n",
    "    # Preemptively build the corresponding KB reaction, but only if we can map all the reactants\n",
    "    stoichiometry = {}\n",
    "    for chebi_mol, count in rhea_rxn.stoichiometry.items():\n",
    "        kb_mols = KB.xref(KB.compounds, chebi_mol.ref())\n",
    "        if len(kb_mols) == 1:\n",
    "            kb_mol = kb_mols[0]\n",
    "            if kb_mol.canonical_form is not None:\n",
    "                kb_mol = KB.get(KB.compounds, kb_mol.canonical_form.parent_id) \n",
    "            stoichiometry[kb_mol] = count\n",
    "        else:\n",
    "            # Abort\n",
    "            return None\n",
    "\n",
    "    kb_rxn = copy.deepcopy(rhea_rxn)\n",
    "    kb_rxn.id = None  # Must be assigned to save it.\n",
    "    kb_rxn.db = None  # Assigned by KB on save\n",
    "    kb_rxn.stoichiometry = stoichiometry\n",
    "    if kb_rxn.xrefs is not None:\n",
    "        kb_rxn.xrefs.add(rhea_rxn.ref())\n",
    "    else:\n",
    "        kb_rxn.xrefs = {rhea_rxn.ref()}\n",
    "    return kb_rxn\n",
    "\n",
    "\n",
    "tasks = []\n",
    "skipped_rhea = []\n",
    "for rhea_rxn in glycolysis_rhea:\n",
    "    kb_rxns = KB.xref(KB.reactions, rhea_rxn.ref())\n",
    "    if len(kb_rxns) > 1:\n",
    "        print(f'{rhea_rxn.ref()} maps to multiple KB entries.')\n",
    "    if kb_rxns:\n",
    "        kb_rxn = kb_rxns[0]\n",
    "    else:\n",
    "        kb_rxn = build_kb_rxn(rhea_rxn)\n",
    "\n",
    "    if kb_rxn:\n",
    "        tasks.append(RxnEditTask(rhea_rxn, kb_rxn))\n",
    "    else:\n",
    "        skipped_rhea.append(rhea_rxn)\n",
    "\n",
    "rxn_edit_grid = RxnEditGrid(tasks)\n",
    "rxn_edit_grid.display()"
   ]
  },
  {
   "cell_type": "code",
   "execution_count": 11,
   "id": "c81ece55-16fe-4408-9169-3fd0948e861c",
   "metadata": {},
   "outputs": [
    {
     "name": "stdout",
     "output_type": "stream",
     "text": [
      "[10740] alcohol dehydrogenase\n",
      "[56956] pyruvate kinase\n",
      "[10736] * alcohol dehydrogenase\n"
     ]
    }
   ],
   "source": [
    "for rhea_rxn in skipped_rhea:\n",
    "    print(f'[{rhea_rxn.id}] {rhea_rxn.name}')"
   ]
  },
  {
   "cell_type": "code",
   "execution_count": 12,
   "id": "d2641f39-a6af-4ed8-b0f4-0f95950b1f75",
   "metadata": {
    "tags": []
   },
   "outputs": [],
   "source": [
    "for task in rxn_edit_grid.tasks:\n",
    "    if task.defunct_kb_id:\n",
    "        print(\"Defunct: \" + task.defunct_kb_id)\n",
    "    if task.dirty:\n",
    "        print(task.kb_rxn)\n",
    "        KB.put(KB.reactions, task.kb_rxn)\n",
    "        task.dirty = False\n",
    "\n",
    "glycolysis_kb_rxns = [task.kb_rxn for task in rxn_edit_grid.tasks if task.kb_rxn and task.kb_rxn.id]"
   ]
  },
  {
   "cell_type": "markdown",
   "id": "6f3813ee-4f59-42a0-863a-9360648a68a8",
   "metadata": {},
   "source": [
    "## Pentose Phosphate and Entner-Doudoroff\n",
    "- Same approach as for Glycolysis above"
   ]
  },
  {
   "cell_type": "code",
   "execution_count": 13,
   "id": "96975cea-0a2e-4d7d-a23a-c8985a440087",
   "metadata": {},
   "outputs": [],
   "source": [
    "ppp_rhea = set()\n",
    "with open(datafile('ppp.txt'), 'r') as f:\n",
    "    for line in f.readlines():\n",
    "        line = line.strip()\n",
    "        if not line or line.startswith('#'):\n",
    "            continue\n",
    "        ec_ref = DbXref(db=DS.EC, id=line)\n",
    "        rhea_rxns = KB.xref(KB.RHEA, ec_ref)\n",
    "        if rhea_rxns:\n",
    "            ppp_rhea.update(rhea_rxns)\n",
    "        else:\n",
    "            print(f'{ec_ref} has no corresponding reactions in RHEA')\n",
    "\n",
    "ppp_chebi = set()\n",
    "for rxn in ppp_rhea:\n",
    "    ppp_chebi.update(rxn.stoichiometry.keys())\n",
    "\n",
    "tasks = []\n",
    "covered = {}\n",
    "for chebi_mol in ppp_chebi:\n",
    "    kb_mols = KB.xref(KB.compounds, chebi_mol.ref())\n",
    "    if kb_mols:\n",
    "        if len(kb_mols) > 1:\n",
    "            print(f'{chebi_mol} maps to multiple KB entries.')\n",
    "        kb_mol = kb_mols[0]\n",
    "        if kb_mol.canonical_form is not None:\n",
    "            kb_mol = KB.get(KB.compounds, kb_mol.canonical_form.parent_id)\n",
    "\n",
    "        if kb_mol in covered:\n",
    "            covered[kb_mol].chebi_mols.append(chebi_mol)\n",
    "        else:\n",
    "            task = MolEditTask(chebi_mol, kb_mol)\n",
    "            tasks.append(task)\n",
    "            covered[kb_mol] = task\n",
    "    else:\n",
    "        tasks.append(MolEditTask(chebi_mol, None))"
   ]
  },
  {
   "cell_type": "markdown",
   "id": "7299a257-94bc-49c4-8812-eba269648ef7",
   "metadata": {},
   "source": [
    "### Recurring KB issue\n",
    "- PRPP is in ChEBI as CHEBI:17111 (α-furanose, fully protonated) CHEBI:38017 (α-furanose, 5- anion, used in the reaction), CHEBI:48955 (β-furanose, fully protonated) and CHEBI:48956 (parent)\n",
    "- The pattern established for sugars is to use 48956 as the canonical form, with 17111 its default form\n",
    "- The canonical form should have xrefs to 48956, plus MetaCyc and KEGG\n",
    "- Other forms should have xrefs to corresponding ChEBI forms, but not KEGG or MetCyc\n",
    "- Best option right now is to manually add these ChEBI entries to our tasks, and hook up the `Variation`s and `Specialization`s appropriately as in `Sugar Forms and Variations`\n",
    "- May or may not be a graceful way to handle similar cases for other molecules with multiple forms in ChEBI"
   ]
  },
  {
   "cell_type": "code",
   "execution_count": 14,
   "id": "c734b49b-5d03-4a0e-b95a-b7b649a60d6e",
   "metadata": {},
   "outputs": [],
   "source": [
    "# for chebi_id in ('17111', '58017', '48955', '48956'):\n",
    "#     chebi_mol = KB.get(KB.CHEBI, chebi_id)\n",
    "#     if chebi_mol not in ppp_chebi:\n",
    "#         tasks.append(MolEditTask(chebi_mol, None))"
   ]
  },
  {
   "cell_type": "code",
   "execution_count": 15,
   "id": "04bcd449-f8c2-4e47-b2f4-b254b2276d27",
   "metadata": {
    "scrolled": true
   },
   "outputs": [
    {
     "data": {
      "application/vnd.jupyter.widget-view+json": {
       "model_id": "62ef361f4bd146dab7fe49a6f32022b7",
       "version_major": 2,
       "version_minor": 0
      },
      "text/plain": [
       "DataGrid(auto_fit_params={'area': 'all', 'padding': 30, 'numCols': None}, corner_renderer=None, default_render…"
      ]
     },
     "metadata": {},
     "output_type": "display_data"
    }
   ],
   "source": [
    "mol_edit_grid = MolEditGrid(tasks)\n",
    "mol_edit_grid.display()"
   ]
  },
  {
   "cell_type": "code",
   "execution_count": 16,
   "id": "9920d0d6-58b6-447a-b21a-da32b369c7b5",
   "metadata": {},
   "outputs": [],
   "source": [
    "# prpp_mols = {'17111': None, '58017': None, '48955': None, '48956': None}\n",
    "# for task in mol_edit_grid.tasks:\n",
    "#     if task.kb_mol:\n",
    "#         for xref in (task.kb_mol.xrefs or []):\n",
    "#             if xref.db == DS.CHEBI and xref.id in prpp_mols:\n",
    "#                 prpp_mols[xref.id] = task.kb_mol\n",
    "# prpp_mols"
   ]
  },
  {
   "cell_type": "code",
   "execution_count": 17,
   "id": "ebfa29c5-cd43-4b15-9966-fb692cfc9734",
   "metadata": {},
   "outputs": [],
   "source": [
    "# prpp_mols['48956'].variations = [\n",
    "#     Variation(name='ring-linkage', form_names=['α', 'β']),\n",
    "#     Variation(name='protonation', form_names=['full', '5-'])\n",
    "# ]\n",
    "# prpp.default_form = Specialization(parent_id='prpp', child_id='prpp.α.5-', (form='α', '5-'))\n",
    "\n",
    "# prpp_mols['17111'].canonical_form = Specialization(parent_id='prpp', child_id='prpp.α.full', form=('α', 'full'))\n",
    "# prpp_mols['58017'].canonical_form = Specialization(parent_id='prpp', child_id='prpp.α.5-', form=('α', '5-'))\n",
    "# prpp_mols['48955'].canonical_form = Specialization(parent_id='prpp', child_id='prpp.β.full', form=('β', 'full'))"
   ]
  },
  {
   "cell_type": "code",
   "execution_count": 18,
   "id": "6d4bd740-51bd-4711-9a92-69af02eca6e6",
   "metadata": {},
   "outputs": [],
   "source": [
    "for task in mol_edit_grid.tasks:\n",
    "    if task.dirty:\n",
    "        print(task.kb_mol)\n",
    "        KB.put(KB.compounds, task.kb_mol)\n",
    "        task.dirty = False\n",
    "\n",
    "ppp_kb_mols = [task.kb_mol for task in mol_edit_grid.tasks if task.kb_mol and task.kb_mol.id]"
   ]
  },
  {
   "cell_type": "markdown",
   "id": "ecbf034e-fc2d-4edf-a613-073cb4cb772d",
   "metadata": {},
   "source": [
    "### Now the reactions"
   ]
  },
  {
   "cell_type": "code",
   "execution_count": 19,
   "id": "cae9e1c9-d1e9-4d4a-8a11-699767d9128d",
   "metadata": {},
   "outputs": [
    {
     "data": {
      "application/vnd.jupyter.widget-view+json": {
       "model_id": "81cbb0c9cc7b402690e388788028370d",
       "version_major": 2,
       "version_minor": 0
      },
      "text/plain": [
       "DataGrid(auto_fit_params={'area': 'all', 'padding': 30, 'numCols': None}, corner_renderer=None, default_render…"
      ]
     },
     "metadata": {},
     "output_type": "display_data"
    }
   ],
   "source": [
    "tasks = []\n",
    "skipped_rhea = []\n",
    "for rhea_rxn in ppp_rhea:\n",
    "    kb_rxns = KB.xref(KB.reactions, rhea_rxn.ref())\n",
    "    if len(kb_rxns) > 1:\n",
    "        print(f'{rhea_rxn.ref()} maps to multiple KB entries.')\n",
    "    if kb_rxns:\n",
    "        kb_rxn = kb_rxns[0]\n",
    "    else:\n",
    "        kb_rxn = build_kb_rxn(rhea_rxn)\n",
    "\n",
    "    if kb_rxn:\n",
    "        tasks.append(RxnEditTask(rhea_rxn, kb_rxn))\n",
    "    else:\n",
    "        skipped_rhea.append(rhea_rxn)\n",
    "        print(\"Skipped: \" + rhea_rxn)\n",
    "\n",
    "rxn_edit_grid = RxnEditGrid(tasks)\n",
    "rxn_edit_grid.display()"
   ]
  },
  {
   "cell_type": "code",
   "execution_count": 20,
   "id": "5ee6a874-9ba7-48d6-ac90-2a61fdc91a98",
   "metadata": {},
   "outputs": [],
   "source": [
    "for task in rxn_edit_grid.tasks:\n",
    "    if task.defunct_kb_id:\n",
    "        print(\"Defunct: \" + task.defunct_kb_id)\n",
    "    if task.dirty:\n",
    "        print(task.kb_rxn)\n",
    "        KB.put(KB.reactions, task.kb_rxn)\n",
    "        task.dirty = False\n",
    "\n",
    "ppp_kb_rxns = [task.kb_rxn for task in rxn_edit_grid.tasks if task.kb_rxn and task.kb_rxn.id]"
   ]
  },
  {
   "cell_type": "markdown",
   "id": "fd105a27-2cb1-411f-82e4-d72e31185066",
   "metadata": {},
   "source": [
    "## TCA cycle + glyoxylate shunt"
   ]
  },
  {
   "cell_type": "code",
   "execution_count": 21,
   "id": "f238f98a-ecb4-4a1e-8797-1dbeec945145",
   "metadata": {},
   "outputs": [],
   "source": [
    "tca_rhea = set()\n",
    "with open(datafile('tca.txt'), 'r') as f:\n",
    "    for line in f.readlines():\n",
    "        line = line.strip()\n",
    "        if not line or line.startswith('#'):\n",
    "            continue\n",
    "        ec_ref = DbXref(db=DS.EC, id=line)\n",
    "        rhea_rxns = KB.xref(KB.RHEA, ec_ref)\n",
    "        if rhea_rxns:\n",
    "            tca_rhea.update(rhea_rxns)\n",
    "        else:\n",
    "            print(f'{ec_ref} has no corresponding reactions in RHEA')\n",
    "\n",
    "tca_chebi = set()\n",
    "for rxn in tca_rhea:\n",
    "    tca_chebi.update(rxn.stoichiometry.keys())\n",
    "\n",
    "tasks = []\n",
    "covered = {}\n",
    "for chebi_mol in tca_chebi:\n",
    "    kb_mols = KB.xref(KB.compounds, chebi_mol.ref())\n",
    "    if kb_mols:\n",
    "        if len(kb_mols) > 1:\n",
    "            print(f'{chebi_mol} maps to multiple KB entries.')\n",
    "        kb_mol = kb_mols[0]\n",
    "        if kb_mol.canonical_form is not None:\n",
    "            kb_mol = KB.get(KB.compounds, kb_mol.canonical_form.parent_id)\n",
    "\n",
    "        if kb_mol in covered:\n",
    "            covered[kb_mol].chebi_mols.append(chebi_mol)\n",
    "        else:\n",
    "            task = MolEditTask(chebi_mol, kb_mol)\n",
    "            tasks.append(task)\n",
    "            covered[kb_mol] = task\n",
    "    else:\n",
    "        tasks.append(MolEditTask(chebi_mol, None))"
   ]
  },
  {
   "cell_type": "code",
   "execution_count": 22,
   "id": "a004c524-9b42-452c-a527-9c2a857acd45",
   "metadata": {},
   "outputs": [
    {
     "data": {
      "application/vnd.jupyter.widget-view+json": {
       "model_id": "386a48cc1f4d4b649c1d50c8c2866b1e",
       "version_major": 2,
       "version_minor": 0
      },
      "text/plain": [
       "DataGrid(auto_fit_params={'area': 'all', 'padding': 30, 'numCols': None}, corner_renderer=None, default_render…"
      ]
     },
     "metadata": {},
     "output_type": "display_data"
    }
   ],
   "source": [
    "mol_edit_grid = MolEditGrid(tasks)\n",
    "mol_edit_grid.display()"
   ]
  },
  {
   "cell_type": "code",
   "execution_count": 23,
   "id": "1a23413b-7416-47a4-8020-0966d595f8b0",
   "metadata": {},
   "outputs": [],
   "source": [
    "for task in mol_edit_grid.tasks:\n",
    "    if task.dirty:\n",
    "        print(task.kb_mol)\n",
    "        KB.put(KB.compounds, task.kb_mol)\n",
    "        task.dirty = False\n",
    "\n",
    "tca_kb_mols = [task.kb_mol for task in mol_edit_grid.tasks if task.kb_mol and task.kb_mol.id]"
   ]
  },
  {
   "cell_type": "markdown",
   "id": "e530fbd7-9c45-4c56-9840-7ce1cdd5c7a2",
   "metadata": {},
   "source": [
    "### Now the reactions"
   ]
  },
  {
   "cell_type": "code",
   "execution_count": 24,
   "id": "4c37b7c0-0be3-47fe-9a84-9d124da78ea0",
   "metadata": {},
   "outputs": [
    {
     "name": "stdout",
     "output_type": "stream",
     "text": [
      "Skipped: [75711] succinate dehydrogenase\n"
     ]
    },
    {
     "data": {
      "application/vnd.jupyter.widget-view+json": {
       "model_id": "6e96bab7ce674482a76db55da2ed53d1",
       "version_major": 2,
       "version_minor": 0
      },
      "text/plain": [
       "DataGrid(auto_fit_params={'area': 'all', 'padding': 30, 'numCols': None}, corner_renderer=None, default_render…"
      ]
     },
     "metadata": {},
     "output_type": "display_data"
    }
   ],
   "source": [
    "tasks = []\n",
    "skipped_rhea = []\n",
    "for rhea_rxn in tca_rhea:\n",
    "    kb_rxns = KB.xref(KB.reactions, rhea_rxn.ref())\n",
    "    if len(kb_rxns) > 1:\n",
    "        print(f'{rhea_rxn.ref()} maps to multiple KB entries.')\n",
    "    if kb_rxns:\n",
    "        kb_rxn = kb_rxns[0]\n",
    "    else:\n",
    "        kb_rxn = build_kb_rxn(rhea_rxn)\n",
    "\n",
    "    if kb_rxn:\n",
    "        tasks.append(RxnEditTask(rhea_rxn, kb_rxn))\n",
    "    else:\n",
    "        skipped_rhea.append(rhea_rxn)\n",
    "        print(f'Skipped: [{rhea_rxn.id}] {rhea_rxn.name}')\n",
    "\n",
    "rxn_edit_grid = RxnEditGrid(tasks)\n",
    "rxn_edit_grid.display()"
   ]
  },
  {
   "cell_type": "code",
   "execution_count": 25,
   "id": "dd070a10-29eb-4a10-a84b-63a797ad7c99",
   "metadata": {},
   "outputs": [],
   "source": [
    "for task in rxn_edit_grid.tasks:\n",
    "    if task.defunct_kb_id:\n",
    "        print(\"Defunct: \" + task.defunct_kb_id)\n",
    "    if task.dirty:\n",
    "        print(task.kb_rxn)\n",
    "        KB.put(KB.reactions, task.kb_rxn)\n",
    "        task.dirty = False\n",
    "\n",
    "tca_kb_rxns = [task.kb_rxn for task in rxn_edit_grid.tasks if task.kb_rxn and task.kb_rxn.id]"
   ]
  },
  {
   "cell_type": "markdown",
   "id": "7ca4c83b-c7e6-4df2-b7b5-c81ed0b3ac2d",
   "metadata": {},
   "source": [
    "## Check the coverage on a pathway diagram\n",
    "- The diagram was drawn using [Escher](escher.github.io) and saved to mosmo.preso.escher.pw\n",
    "- That tool continues to work but is unfortunately not still maintained\n",
    "- To embed in notebooks we use mosmo.preso.escher.escher_map.EscherMap"
   ]
  },
  {
   "cell_type": "code",
   "execution_count": 26,
   "id": "ee399cd5-f2fd-4123-bc09-755efd007cb2",
   "metadata": {},
   "outputs": [
    {
     "data": {
      "image/svg+xml": [
       "<svg width=\"20cm\" height=\"None\" viewBox=\"-1279.9 -500.0 4384.0 4114.0\"><defs><style type=\"text/css\">\n",
       "#canvas {\n",
       "  fill: #ffffff;\n",
       "  stroke: #cccccc;\n",
       "}\n",
       "text {\n",
       "  font-family: sans-serif;\n",
       "  font-style: italic;\n",
       "  font-weight: bold;\n",
       "  stroke: none;\n",
       "  text-rendering: optimizelegibility;\n",
       "}\n",
       "#reactions text {\n",
       "  font-size: 30px;\n",
       "  fill: #334e75;\n",
       "}\n",
       "#reactions text.stoich {\n",
       "  font-size: 12px;\n",
       "}\n",
       "#metabolites text {\n",
       "  font-size: 20px;\n",
       "  fill: black;\n",
       "}\n",
       "#reactions {\n",
       "  fill: none;\n",
       "  stroke: #334e75;\n",
       "  stroke-width: 10;\n",
       "}\n",
       "#reactions.data {\n",
       "  stroke: #eeeeee;  /* default overridden by reaction_scale */\n",
       "}\n",
       "#reactions .arrowhead {\n",
       "  fill: #334e75;\n",
       "  stroke: none;\n",
       "}\n",
       "#reactions.data .arrowhead {\n",
       "  fill: #eeeeee;  /* default overridden by reaction_scale */\n",
       "}\n",
       "#metabolites {\n",
       "  fill: #e0865b;\n",
       "  stroke: #a24510;\n",
       "  stroke-width: 2;\n",
       "}\n",
       "#metabolites.data {\n",
       "  fill: #eeeeee;  /* default overridden by metabolite_scale */\n",
       "  stroke: none;\n",
       "}\n",
       "</style></defs><g id=\"eschermap\"><rect id=\"canvas\" x=\"-1279.9\" y=\"-500.0\" width=\"4384.0\" height=\"4114.0\"/><g id=\"reactions\" class=\"data\"><g name=\"GAPDH\" style=\"stroke: #841f27; stroke-width: 15.0;\"><path d=\"M 117.8 1351.5 L 117.8 1371.5\"/><path d=\"M 117.8 1391.5 L 117.8 1371.5\"/><path d=\"M 117.8 1351.5 C 117.8 1309.5 115.2 1255.2 117.5 1224.1\"/><path d=\"M 117.8 1351.5 C 117.8 1305.5 99.4 1300.8 57.0 1277.6\"/><path d=\"M 117.8 1351.5 C 117.8 1305.5 139.7 1301.4 181.0 1275.3\"/><g><path d=\"M 117.8 1391.5 C 117.8 1433.5 117.8 1487.7 117.8 1506.5\"/><g class=\"arrowhead\" transform=\"translate(117.8, 1506.5) rotate(90) scale(1.5)\" style=\"fill: #841f27\"><path d=\"M 0 -10 L 13 0 L 0 10 Z\" transform=\"translate(-3)\"/></g></g><g><path d=\"M 117.8 1391.5 C 117.8 1437.5 99.8 1442.7 65.9 1461.2\"/><g class=\"arrowhead\" transform=\"translate(65.9, 1461.2) rotate(151) scale(1.5)\" style=\"fill: #841f27\"><path d=\"M 0 -10 L 13 0 L 0 10 Z\" transform=\"translate(-3)\"/></g></g><text x=\"132.8\" y=\"1381.5\">GAPDH</text></g><g name=\"PGK\" style=\"stroke: #841f27; stroke-width: 15.0;\"><path d=\"M 117.8 1741.5 L 117.8 1721.5\"/><path d=\"M 117.8 1701.5 L 117.8 1721.5\"/><path d=\"M 117.8 1741.5 C 117.8 1783.5 117.8 1837.7 117.8 1866.5\"/><path d=\"M 117.8 1741.5 C 117.8 1787.5 99.8 1792.7 57.1 1816.0\"/><g><path d=\"M 117.8 1701.5 C 117.8 1659.5 117.8 1605.2 117.8 1586.5\"/><g class=\"arrowhead\" transform=\"translate(117.8, 1586.5) rotate(-90) scale(1.5)\" style=\"fill: #841f27\"><path d=\"M 0 -10 L 13 0 L 0 10 Z\" transform=\"translate(-3)\"/></g></g><g><path d=\"M 117.8 1701.5 C 117.8 1655.5 99.8 1650.2 65.9 1631.8\"/><g class=\"arrowhead\" transform=\"translate(65.9, 1631.8) rotate(-151) scale(1.5)\" style=\"fill: #841f27\"><path d=\"M 0 -10 L 13 0 L 0 10 Z\" transform=\"translate(-3)\"/></g></g><text x=\"132.8\" y=\"1731.5\">PGK</text></g><g name=\"GPM\" style=\"stroke: #841f27; stroke-width: 15.0;\"><path d=\"M 117.8 2020.0 L 117.8 2000.0\"/><path d=\"M 117.8 1980.0 L 117.8 2000.0\"/><path d=\"M 117.8 2020.0 C 117.8 2062.0 117.8 2038.9 117.8 2067.7\"/><g><path d=\"M 117.8 1980.0 C 117.8 1938.0 117.8 1955.2 117.8 1936.5\"/><g class=\"arrowhead\" transform=\"translate(117.8, 1936.5) rotate(-90) scale(1.5)\" style=\"fill: #841f27\"><path d=\"M 0 -10 L 13 0 L 0 10 Z\" transform=\"translate(-3)\"/></g></g><text x=\"132.8\" y=\"2010.0\">GPM</text></g><g name=\"ENO\" style=\"stroke: #841f27; stroke-width: 15.0;\"><path d=\"M 117.8 2175.3 L 117.8 2195.3\"/><path d=\"M 117.8 2215.3 L 117.8 2195.3\"/><path d=\"M 117.8 2175.3 C 117.8 2133.3 117.8 2156.4 117.8 2127.7\"/><g><path d=\"M 117.8 2215.3 C 117.8 2261.3 99.8 2266.5 65.9 2285.0\"/><g class=\"arrowhead\" transform=\"translate(65.9, 2285.0) rotate(151) scale(1.5)\" style=\"fill: #841f27\"><path d=\"M 0 -10 L 13 0 L 0 10 Z\" transform=\"translate(-3)\"/></g></g><g><path d=\"M 117.8 2215.3 C 117.8 2257.3 117.8 2311.5 117.8 2330.3\"/><g class=\"arrowhead\" transform=\"translate(117.8, 2330.3) rotate(90) scale(1.5)\" style=\"fill: #841f27\"><path d=\"M 0 -10 L 13 0 L 0 10 Z\" transform=\"translate(-3)\"/></g></g><text x=\"132.8\" y=\"2240.8\">ENO</text></g><g name=\"PPS\" style=\"stroke: #841f27; stroke-width: 15.0;\"><path d=\"M 0.7 2569.2 L 0.7 2549.2\"/><path d=\"M 0.7 2529.2 L 0.7 2549.2\"/><path d=\"M 0.7 2569.2 C 0.7 2615.2 -14.8 2622.8 -60.0 2644.7\"/><path d=\"M 0.7 2569.2 C -11.1 2602.9 -38.5 2590.5 -51.6 2582.6\"/><path d=\"M 0.7 2569.2 C 0.7 2627.7 51.9 2665.0 94.8 2701.0\"/><g><path d=\"M 0.7 2529.2 C 0.7 2483.2 -13.6 2472.1 -50.2 2457.0\"/><g class=\"arrowhead\" transform=\"translate(-50.2, 2457.0) rotate(-158) scale(1.5)\" style=\"fill: #841f27\"><path d=\"M 0 -10 L 13 0 L 0 10 Z\" transform=\"translate(-3)\"/></g></g><g><path d=\"M 0.7 2529.2 C -3.4 2486.2 -71.4 2475.0 -104.5 2482.5\"/><g class=\"arrowhead\" transform=\"translate(-104.5, 2482.5) rotate(167) scale(1.5)\" style=\"fill: #841f27\"><path d=\"M 0 -10 L 13 0 L 0 10 Z\" transform=\"translate(-3)\"/></g></g><g><path d=\"M 0.7 2529.2 C 1.9 2470.8 50.8 2429.6 87.8 2396.8\"/><g class=\"arrowhead\" transform=\"translate(87.8, 2396.8) rotate(-42) scale(1.5)\" style=\"fill: #841f27\"><path d=\"M 0 -10 L 13 0 L 0 10 Z\" transform=\"translate(-3)\"/></g></g><text x=\"15.7\" y=\"2559.2\">PPS</text></g><g name=\"PDH\" style=\"stroke: #841f27; stroke-width: 15.0;\"><path d=\"M 117.8 2875.3 L 117.8 2895.3\"/><path d=\"M 117.8 2915.3 L 117.8 2895.3\"/><path d=\"M 117.8 2875.3 C 117.8 2829.3 187.5 2810.3 244.2 2812.3\"/><path d=\"M 117.8 2875.3 C 117.8 2829.3 99.8 2824.0 57.1 2800.8\"/><path d=\"M 117.8 2875.3 C 117.8 2833.3 117.8 2779.0 117.8 2750.3\"/><g><path d=\"M 117.8 2915.3 C 160.3 2993.7 277.1 3027.1 446.6 3023.2\"/><g class=\"arrowhead\" transform=\"translate(446.6, 3023.2) rotate(-1) scale(1.5)\" style=\"fill: #841f27\"><path d=\"M 0 -10 L 13 0 L 0 10 Z\" transform=\"translate(-3)\"/></g></g><g><path d=\"M 117.8 2915.3 C 114.7 2964.3 84.1 3000.0 42.8 3024.8\"/><g class=\"arrowhead\" transform=\"translate(42.8, 3024.8) rotate(149) scale(1.5)\" style=\"fill: #841f27\"><path d=\"M 0 -10 L 13 0 L 0 10 Z\" transform=\"translate(-3)\"/></g></g><g><path d=\"M 117.8 2915.3 C 114.7 2960.3 55.7 2955.9 44.0 2952.2\"/><g class=\"arrowhead\" transform=\"translate(44.0, 2952.2) rotate(-162) scale(1.5)\" style=\"fill: #841f27\"><path d=\"M 0 -10 L 13 0 L 0 10 Z\" transform=\"translate(-3)\"/></g></g><text x=\"148.2\" y=\"2901.4\">PDH</text></g><g name=\"PYK\" style=\"stroke: #841f27; stroke-width: 15.0;\"><path d=\"M 232.2 2568.4 L 232.2 2548.4\"/><path d=\"M 232.2 2528.4 L 232.2 2548.4\"/><path d=\"M 232.2 2568.4 C 232.2 2614.4 250.2 2619.7 292.9 2642.9\"/><path d=\"M 232.2 2568.4 C 232.8 2625.1 186.6 2663.3 140.9 2701.1\"/><g><path d=\"M 232.2 2528.4 C 232.2 2482.4 249.5 2485.4 279.1 2465.4\"/><g class=\"arrowhead\" transform=\"translate(279.1, 2465.4) rotate(-34) scale(1.5)\" style=\"fill: #841f27\"><path d=\"M 0 -10 L 13 0 L 0 10 Z\" transform=\"translate(-3)\"/></g></g><g><path d=\"M 232.2 2528.4 C 232.2 2470.0 184.8 2432.0 147.2 2397.4\"/><g class=\"arrowhead\" transform=\"translate(147.2, 2397.4) rotate(-137) scale(1.5)\" style=\"fill: #841f27\"><path d=\"M 0 -10 L 13 0 L 0 10 Z\" transform=\"translate(-3)\"/></g></g><text x=\"154.9\" y=\"2558.4\">PYK</text></g><g name=\"TPI\" style=\"stroke: #841f27; stroke-width: 15.0;\"><path d=\"M -37.2 1196.5 L -57.2 1196.5\"/><path d=\"M -77.2 1196.5 L -57.2 1196.5\"/><path d=\"M -37.2 1196.5 C 4.8 1196.5 56.4 1196.5 89.7 1195.3\"/><g><path d=\"M -77.2 1196.5 C -119.2 1196.5 -173.5 1196.5 -192.2 1196.5\"/><g class=\"arrowhead\" transform=\"translate(-192.2, 1196.5) rotate(180) scale(1.5)\" style=\"fill: #841f27\"><path d=\"M 0 -10 L 13 0 L 0 10 Z\" transform=\"translate(-3)\"/></g></g><text x=\"-83.6\" y=\"1236.6\">TPI</text></g><g name=\"FBA\" style=\"stroke: #841f27; stroke-width: 15.0;\"><path d=\"M -232.2 1001.5 L -232.2 1021.5\"/><path d=\"M -232.2 1041.5 L -232.2 1021.5\"/><path d=\"M -232.2 1001.5 C -232.2 959.5 -232.2 905.2 -232.2 876.5\"/><g><path d=\"M -232.2 1041.5 C -232.2 1087.5 -73.7 1057.3 87.0 1171.1\"/><g class=\"arrowhead\" transform=\"translate(87.0, 1171.1) rotate(35) scale(1.5)\" style=\"fill: #841f27\"><path d=\"M 0 -10 L 13 0 L 0 10 Z\" transform=\"translate(-3)\"/></g></g><g><path d=\"M -232.2 1041.5 C -232.2 1083.5 -232.2 1137.7 -232.2 1156.5\"/><g class=\"arrowhead\" transform=\"translate(-232.2, 1156.5) rotate(90) scale(1.5)\" style=\"fill: #841f27\"><path d=\"M 0 -10 L 13 0 L 0 10 Z\" transform=\"translate(-3)\"/></g></g><text x=\"-314.4\" y=\"1031.5\">FBA</text></g><g name=\"PFK\" style=\"stroke: #841f27; stroke-width: 15.0;\"><path d=\"M -111.1 640.9 L -111.1 660.9\"/><path d=\"M -111.1 680.9 L -111.1 660.9\"/><path d=\"M -111.1 640.9 C -111.1 594.9 -81.4 558.3 -57.7 575.2\"/><path d=\"M -111.1 640.9 C -111.1 598.9 -171.7 554.1 -210.5 517.2\"/><g><path d=\"M -111.1 680.9 C -111.1 726.9 -102.6 748.4 -62.6 758.6\"/><g class=\"arrowhead\" transform=\"translate(-62.6, 758.6) rotate(14) scale(1.5)\" style=\"fill: #841f27\"><path d=\"M 0 -10 L 13 0 L 0 10 Z\" transform=\"translate(-3)\"/></g></g><g><path d=\"M -111.1 680.9 C -111.1 722.9 -172.3 795.3 -201.8 820.5\"/><g class=\"arrowhead\" transform=\"translate(-201.8, 820.5) rotate(139) scale(1.5)\" style=\"fill: #841f27\"><path d=\"M 0 -10 L 13 0 L 0 10 Z\" transform=\"translate(-3)\"/></g></g><text x=\"-192.2\" y=\"676.2\">PFK</text></g><g name=\"PGI\" style=\"stroke: #841f27; stroke-width: 15.0;\"><path d=\"M -232.2 301.5 L -232.2 321.5\"/><path d=\"M -232.2 341.5 L -232.2 321.5\"/><path d=\"M -232.2 301.5 C -232.2 259.5 -232.2 205.2 -232.2 176.5\"/><g><path d=\"M -232.2 341.5 C -232.2 383.5 -232.2 437.7 -232.2 456.5\"/><g class=\"arrowhead\" transform=\"translate(-232.2, 456.5) rotate(90) scale(1.5)\" style=\"fill: #841f27\"><path d=\"M 0 -10 L 13 0 L 0 10 Z\" transform=\"translate(-3)\"/></g></g><text x=\"-322.9\" y=\"334.4\">PGI</text></g><g name=\"R5PI\" style=\"stroke: #355e3b; stroke-width: 15.0;\"><path d=\"M 882.6 564.1 L 882.6 544.1\"/><path d=\"M 882.6 524.1 L 882.6 544.1\"/><path d=\"M 882.6 564.1 C 882.6 606.1 881.3 606.4 881.3 635.1\"/><g><path d=\"M 882.6 524.1 C 882.6 482.1 882.6 481.8 882.6 463.1\"/><g class=\"arrowhead\" transform=\"translate(882.6, 463.1) rotate(-90) scale(1.5)\" style=\"fill: #355e3b\"><path d=\"M 0 -10 L 13 0 L 0 10 Z\" transform=\"translate(-3)\"/></g></g><text x=\"897.6\" y=\"554.1\">R5PI</text></g><g name=\"PGLase\" style=\"stroke: #355e3b; stroke-width: 15.0;\"><path d=\"M 272.8 145.2 L 292.8 145.2\"/><path d=\"M 312.8 145.2 L 292.8 145.2\"/><path d=\"M 272.8 145.2 C 230.8 145.2 176.5 145.2 147.8 145.2\"/><path d=\"M 272.8 145.2 C 226.8 145.2 221.5 127.2 198.3 84.5\"/><g><path d=\"M 312.8 145.2 C 354.8 145.2 409.0 145.2 427.8 145.2\"/><g class=\"arrowhead\" transform=\"translate(427.8, 145.2) rotate(0) scale(1.5)\" style=\"fill: #355e3b\"><path d=\"M 0 -10 L 13 0 L 0 10 Z\" transform=\"translate(-3)\"/></g></g><text x=\"242.8\" y=\"105.2\">PGLase</text></g><g name=\"G6PDH\" style=\"stroke: #355e3b; stroke-width: 15.0;\"><path d=\"M -77.2 145.2 L -57.2 145.2\"/><path d=\"M -37.2 145.2 L -57.2 145.2\"/><path d=\"M -77.2 145.2 C -119.2 145.2 -172.2 142.5 -202.3 144.5\"/><path d=\"M -77.2 145.2 C -123.2 145.2 -128.5 127.2 -151.7 84.5\"/><g><path d=\"M -37.2 145.2 C 4.8 145.2 59.0 145.2 77.8 145.2\"/><g class=\"arrowhead\" transform=\"translate(77.8, 145.2) rotate(0) scale(1.5)\" style=\"fill: #355e3b\"><path d=\"M 0 -10 L 13 0 L 0 10 Z\" transform=\"translate(-3)\"/></g></g><g><path d=\"M -37.2 145.2 C 8.8 145.2 14.0 127.2 32.5 93.3\"/><g class=\"arrowhead\" transform=\"translate(32.5, 93.3) rotate(-61) scale(1.5)\" style=\"fill: #355e3b\"><path d=\"M 0 -10 L 13 0 L 0 10 Z\" transform=\"translate(-3)\"/></g></g><text x=\"-107.2\" y=\"105.2\">G6PDH</text></g><g name=\"PGLDH\" style=\"stroke: #355e3b; stroke-width: 15.0;\"><path d=\"M 788.2 229.0 L 802.0 243.4\"/><path d=\"M 815.9 257.8 L 802.0 243.4\"/><path d=\"M 788.2 229.0 C 759.0 198.7 671.9 149.9 497.8 145.9\"/><path d=\"M 788.2 229.0 C 756.2 195.8 740.6 154.6 805.6 158.3\"/><g><path d=\"M 815.9 257.8 C 847.8 290.9 884.1 275.5 898.9 243.2\"/><g class=\"arrowhead\" transform=\"translate(898.9, 243.2) rotate(-65) scale(1.5)\" style=\"fill: #355e3b\"><path d=\"M 0 -10 L 13 0 L 0 10 Z\" transform=\"translate(-3)\"/></g></g><g><path d=\"M 815.9 257.8 C 845.1 288.0 882.6 364.3 882.6 383.1\"/><g class=\"arrowhead\" transform=\"translate(882.6, 383.1) rotate(90) scale(1.5)\" style=\"fill: #355e3b\"><path d=\"M 0 -10 L 13 0 L 0 10 Z\" transform=\"translate(-3)\"/></g></g><g><path d=\"M 815.9 257.8 C 847.8 290.9 864.4 282.2 901.7 271.9\"/><g class=\"arrowhead\" transform=\"translate(901.7, 271.9) rotate(-15) scale(1.5)\" style=\"fill: #355e3b\"><path d=\"M 0 -10 L 13 0 L 0 10 Z\" transform=\"translate(-3)\"/></g></g><text x=\"674.9\" y=\"261.3\">PGLDH</text></g><g name=\"RPE\" style=\"stroke: #355e3b; stroke-width: 15.0;\"><path d=\"M 678.9 347.7 L 658.9 347.7\"/><path d=\"M 638.9 347.7 L 658.9 347.7\"/><path d=\"M 678.9 347.7 C 720.9 347.7 781.7 363.8 856.7 407.9\"/><g><path d=\"M 638.9 347.7 C 596.9 347.7 542.6 347.7 523.9 347.7\"/><g class=\"arrowhead\" transform=\"translate(523.9, 347.7) rotate(180) scale(1.5)\" style=\"fill: #355e3b\"><path d=\"M 0 -10 L 13 0 L 0 10 Z\" transform=\"translate(-3)\"/></g></g><text x=\"622.1\" y=\"327.4\">RPE</text></g><g name=\"TKT2\" style=\"stroke: #355e3b; stroke-width: 15.0;\"><path d=\"M 328.9 347.7 L 308.9 347.7\"/><path d=\"M 288.9 347.7 L 308.9 347.7\"/><path d=\"M 328.9 347.7 C 374.9 347.7 428.9 448.2 354.7 501.4\"/><path d=\"M 328.9 347.7 C 370.9 347.7 425.1 347.7 453.9 347.7\"/><g><path d=\"M 288.9 347.7 C 246.9 347.7 -170.8 491.2 -192.4 493.1\"/><g class=\"arrowhead\" transform=\"translate(-192.4, 493.1) rotate(175) scale(1.5)\" style=\"fill: #355e3b\"><path d=\"M 0 -10 L 13 0 L 0 10 Z\" transform=\"translate(-3)\"/></g></g><g><path d=\"M 288.9 347.7 C 38.0 384.4 203.5 906.4 130.8 1155.8\"/><g class=\"arrowhead\" transform=\"translate(130.8, 1155.8) rotate(106) scale(1.5)\" style=\"fill: #355e3b\"><path d=\"M 0 -10 L 13 0 L 0 10 Z\" transform=\"translate(-3)\"/></g></g><text x=\"235.4\" y=\"322.4\">TKT2</text></g><g name=\"FBP\" style=\"stroke: #841f27; stroke-width: 15.0;\"><path d=\"M -350.7 687.5 L -350.7 667.5\"/><path d=\"M -350.7 647.5 L -350.7 667.5\"/><path d=\"M -350.7 687.5 C -350.7 729.5 -294.5 796.5 -255.6 827.7\"/><path d=\"M -350.7 687.5 C -350.7 733.5 -368.7 738.8 -411.4 762.0\"/><g><path d=\"M -350.7 647.5 C -350.7 605.5 -297.4 550.0 -263.1 521.9\"/><g class=\"arrowhead\" transform=\"translate(-263.1, 521.9) rotate(-39) scale(1.5)\" style=\"fill: #841f27\"><path d=\"M 0 -10 L 13 0 L 0 10 Z\" transform=\"translate(-3)\"/></g></g><g><path d=\"M -350.7 647.5 C -350.7 601.5 -368.7 596.3 -402.6 577.8\"/><g class=\"arrowhead\" transform=\"translate(-402.6, 577.8) rotate(-151) scale(1.5)\" style=\"fill: #841f27\"><path d=\"M 0 -10 L 13 0 L 0 10 Z\" transform=\"translate(-3)\"/></g></g><text x=\"-335.7\" y=\"677.5\">FBP</text></g><g name=\"TKT1\" style=\"stroke: #355e3b; stroke-width: 15.0;\"><path d=\"M 638.9 697.7 L 658.9 697.7\"/><path d=\"M 678.9 697.7 L 658.9 697.7\"/><path d=\"M 638.9 697.7 C 514.2 700.3 245.1 1014.9 136.9 1169.6\"/><path d=\"M 638.9 697.7 C 596.9 697.7 542.6 697.7 513.9 697.7\"/><g><path d=\"M 678.9 697.7 C 720.9 697.7 787.0 698.0 843.5 678.3\"/><g class=\"arrowhead\" transform=\"translate(843.5, 678.3) rotate(-19) scale(1.5)\" style=\"fill: #355e3b\"><path d=\"M 0 -10 L 13 0 L 0 10 Z\" transform=\"translate(-3)\"/></g></g><g><path d=\"M 678.9 697.7 C 811.8 676.6 809.2 422.0 522.9 356.6\"/><g class=\"arrowhead\" transform=\"translate(522.9, 356.6) rotate(-167) scale(1.5)\" style=\"fill: #355e3b\"><path d=\"M 0 -10 L 13 0 L 0 10 Z\" transform=\"translate(-3)\"/></g></g><text x=\"601.0\" y=\"672.1\">TKT1</text></g><g name=\"TALA\" style=\"stroke: #355e3b; stroke-width: 15.0;\"><path d=\"M 328.9 697.7 L 308.9 697.7\"/><path d=\"M 288.9 697.7 L 308.9 697.7\"/><path d=\"M 328.9 697.7 C 435.4 697.7 376.7 852.8 137.7 1170.2\"/><path d=\"M 328.9 697.7 C 370.9 697.7 425.1 697.7 453.9 697.7\"/><g><path d=\"M 288.9 697.7 C 162.6 699.0 182.1 497.5 -192.2 496.6\"/><g class=\"arrowhead\" transform=\"translate(-192.2, 496.6) rotate(-180) scale(1.5)\" style=\"fill: #355e3b\"><path d=\"M 0 -10 L 13 0 L 0 10 Z\" transform=\"translate(-3)\"/></g></g><g><path d=\"M 288.9 697.7 C 227.1 696.3 228.4 580.9 296.2 539.7\"/><g class=\"arrowhead\" transform=\"translate(296.2, 539.7) rotate(-31) scale(1.5)\" style=\"fill: #355e3b\"><path d=\"M 0 -10 L 13 0 L 0 10 Z\" transform=\"translate(-3)\"/></g></g><text x=\"273.3\" y=\"673.4\">TALA</text></g><g name=\"PGLDhat\" style=\"stroke: #355e3b; stroke-width: 15.0;\"><path d=\"M 1177.3 370.0 L 1177.3 390.0\"/><path d=\"M 1177.3 410.0 L 1177.3 390.0\"/><path d=\"M 1177.3 370.0 C 1183.5 -70.9 668.2 84.9 496.5 136.5\"/><g><path d=\"M 1177.3 410.0 C 1177.3 452.0 1177.3 506.2 1177.3 525.0\"/><g class=\"arrowhead\" transform=\"translate(1177.3, 525.0) rotate(90) scale(1.5)\" style=\"fill: #355e3b\"><path d=\"M 0 -10 L 13 0 L 0 10 Z\" transform=\"translate(-3)\"/></g></g><g><path d=\"M 1177.3 410.0 C 1182.5 448.1 1195.3 461.2 1229.2 479.7\"/><g class=\"arrowhead\" transform=\"translate(1229.2, 479.7) rotate(29) scale(1.5)\" style=\"fill: #355e3b\"><path d=\"M 0 -10 L 13 0 L 0 10 Z\" transform=\"translate(-3)\"/></g></g><text x=\"1192.3\" y=\"400.0\">PGLDhat</text></g><g name=\"KDPGA\" style=\"stroke: #355e3b; stroke-width: 15.0;\"><path d=\"M 605.1 1104.3 L 590.2 1117.7\"/><path d=\"M 575.3 1131.0 L 590.2 1117.7\"/><path d=\"M 605.1 1104.3 C 657.1 1050.8 1174.1 777.4 1176.8 595.0\"/><g><path d=\"M 575.3 1131.0 C 367.0 1214.8 298.7 1097.9 154.9 1175.3\"/><g class=\"arrowhead\" transform=\"translate(154.9, 1175.3) rotate(152) scale(1.5)\" style=\"fill: #355e3b\"><path d=\"M 0 -10 L 13 0 L 0 10 Z\" transform=\"translate(-3)\"/></g></g><g><path d=\"M 575.3 1131.0 C 249.0 1577.9 887.7 2694.5 157.8 2718.9\"/><g class=\"arrowhead\" transform=\"translate(157.8, 2718.9) rotate(178) scale(1.5)\" style=\"fill: #355e3b\"><path d=\"M 0 -10 L 13 0 L 0 10 Z\" transform=\"translate(-3)\"/></g></g><text x=\"506.9\" y=\"1068.5\">KDPGA</text></g><g name=\"ICD\" style=\"stroke: #5a86ad; stroke-width: 15.0;\"><path d=\"M 1634.9 3041.0 L 1652.9 3049.7\"/><path d=\"M 1670.9 3058.5 L 1652.9 3049.7\"/><path d=\"M 1634.9 3041.0 C 1597.1 3022.8 1527.4 2990.3 1461.6 2935.7\"/><path d=\"M 1634.9 3041.0 C 1593.5 3021.0 1555.8 3028.0 1519.3 3049.0\"/><g><path d=\"M 1670.9 3058.5 C 1708.7 3076.7 1816.0 3097.8 1900.4 3097.2\"/><g class=\"arrowhead\" transform=\"translate(1900.4, 3097.2) rotate(-0) scale(1.5)\" style=\"fill: #5a86ad\"><path d=\"M 0 -10 L 13 0 L 0 10 Z\" transform=\"translate(-3)\"/></g></g><g><path d=\"M 1670.9 3058.5 C 1712.3 3078.5 1732.4 3091.0 1775.4 3136.8\"/><g class=\"arrowhead\" transform=\"translate(1775.4, 3136.8) rotate(47) scale(1.5)\" style=\"fill: #5a86ad\"><path d=\"M 0 -10 L 13 0 L 0 10 Z\" transform=\"translate(-3)\"/></g></g><g><path d=\"M 1670.9 3058.5 C 1712.3 3078.5 1727.7 3116.3 1721.7 3136.8\"/><g class=\"arrowhead\" transform=\"translate(1721.7, 3136.8) rotate(106) scale(1.5)\" style=\"fill: #5a86ad\"><path d=\"M 0 -10 L 13 0 L 0 10 Z\" transform=\"translate(-3)\"/></g></g><text x=\"1592.2\" y=\"3131.7\">ICD</text></g><g name=\"AKGDH\" style=\"stroke: #5a86ad; stroke-width: 15.0;\"><path d=\"M 2197.9 3057.0 L 2215.8 3048.0\"/><path d=\"M 2233.6 3038.9 L 2215.8 3048.0\"/><path d=\"M 2197.9 3057.0 C 2160.5 3076.0 2046.0 3097.3 1970.4 3097.0\"/><path d=\"M 2197.9 3057.0 C 2156.9 3077.8 2130.4 3120.7 2102.2 3183.6\"/><path d=\"M 2197.9 3057.0 C 2156.9 3077.8 2171.8 3136.8 2177.7 3146.9\"/><g><path d=\"M 2233.6 3038.9 C 2274.7 3018.1 2333.3 3028.5 2405.7 3056.1\"/><g class=\"arrowhead\" transform=\"translate(2405.7, 3056.1) rotate(21) scale(1.5)\" style=\"fill: #5a86ad\"><path d=\"M 0 -10 L 13 0 L 0 10 Z\" transform=\"translate(-3)\"/></g></g><g><path d=\"M 2233.6 3038.9 C 2274.7 3018.1 2294.9 3042.8 2312.4 3063.9\"/><g class=\"arrowhead\" transform=\"translate(2312.4, 3063.9) rotate(50) scale(1.5)\" style=\"fill: #5a86ad\"><path d=\"M 0 -10 L 13 0 L 0 10 Z\" transform=\"translate(-3)\"/></g></g><g><path d=\"M 2233.6 3038.9 C 2271.1 3019.9 2337.0 2970.4 2357.9 2950.9\"/><g class=\"arrowhead\" transform=\"translate(2357.9, 2950.9) rotate(-43) scale(1.5)\" style=\"fill: #5a86ad\"><path d=\"M 0 -10 L 13 0 L 0 10 Z\" transform=\"translate(-3)\"/></g></g><text x=\"2241.8\" y=\"3171.6\">AKGDH</text></g><g name=\"SCS\" style=\"stroke: #5a86ad; stroke-width: 15.0;\"><path d=\"M 2517.4 2702.2 L 2509.6 2720.5\"/><path d=\"M 2501.7 2738.9 L 2509.6 2720.5\"/><path d=\"M 2517.4 2702.2 C 2535.6 2659.9 2583.0 2664.5 2618.1 2678.4\"/><path d=\"M 2517.4 2702.2 C 2535.6 2659.9 2584.3 2627.9 2645.1 2613.9\"/><path d=\"M 2517.4 2702.2 C 2534.0 2663.6 2551.0 2589.5 2551.0 2517.9\"/><g><path d=\"M 2501.7 2738.9 C 2483.6 2781.2 2494.6 2831.4 2526.1 2860.2\"/><g class=\"arrowhead\" transform=\"translate(2526.1, 2860.2) rotate(42) scale(1.5)\" style=\"fill: #5a86ad\"><path d=\"M 0 -10 L 13 0 L 0 10 Z\" transform=\"translate(-3)\"/></g></g><g><path d=\"M 2501.7 2738.9 C 2483.6 2781.2 2520.8 2815.3 2564.3 2817.9\"/><g class=\"arrowhead\" transform=\"translate(2564.3, 2817.9) rotate(3) scale(1.5)\" style=\"fill: #5a86ad\"><path d=\"M 0 -10 L 13 0 L 0 10 Z\" transform=\"translate(-3)\"/></g></g><g><path d=\"M 2501.7 2738.9 C 2485.1 2777.5 2458.4 2836.5 2412.4 2892.7\"/><g class=\"arrowhead\" transform=\"translate(2412.4, 2892.7) rotate(129) scale(1.5)\" style=\"fill: #5a86ad\"><path d=\"M 0 -10 L 13 0 L 0 10 Z\" transform=\"translate(-3)\"/></g></g><text x=\"2553.8\" y=\"2755.3\">SCS</text></g><g name=\"SDH\" style=\"stroke: #5a86ad; stroke-width: 15.0;\"><path d=\"M 2490.6 2245.1 L 2481.8 2227.1\"/><path d=\"M 2472.9 2209.2 L 2481.8 2227.1\"/><path d=\"M 2490.6 2245.1 C 2510.9 2286.4 2529.3 2283.1 2577.9 2285.2\"/><path d=\"M 2490.6 2245.1 C 2509.1 2282.8 2541.6 2353.4 2548.9 2458.0\"/><g><path d=\"M 2472.9 2209.2 C 2452.6 2167.9 2473.7 2133.7 2485.4 2121.0\"/><g class=\"arrowhead\" transform=\"translate(2485.4, 2121.0) rotate(-47) scale(1.5)\" style=\"fill: #5a86ad\"><path d=\"M 0 -10 L 13 0 L 0 10 Z\" transform=\"translate(-3)\"/></g></g><g><path d=\"M 2472.9 2209.2 C 2454.4 2171.5 2411.4 2123.6 2390.7 2098.3\"/><g class=\"arrowhead\" transform=\"translate(2390.7, 2098.3) rotate(-129) scale(1.5)\" style=\"fill: #5a86ad\"><path d=\"M 0 -10 L 13 0 L 0 10 Z\" transform=\"translate(-3)\"/></g></g><text x=\"2512.0\" y=\"2210.1\">SDH</text></g><g name=\"FH\" style=\"stroke: #5a86ad; stroke-width: 15.0;\"><path d=\"M 2174.9 1936.2 L 2192.8 1945.0\"/><path d=\"M 2210.8 1953.8 L 2192.8 1945.0\"/><path d=\"M 2174.9 1936.2 C 2137.2 1917.6 2035.0 1881.9 1945.3 1884.5\"/><g><path d=\"M 2210.8 1953.8 C 2248.5 1972.3 2261.5 1981.0 2334.7 2041.7\"/><g class=\"arrowhead\" transform=\"translate(2334.7, 2041.7) rotate(40) scale(1.5)\" style=\"fill: #5a86ad\"><path d=\"M 0 -10 L 13 0 L 0 10 Z\" transform=\"translate(-3)\"/></g></g><g><path d=\"M 2210.8 1953.8 C 2252.1 1974.1 2264.7 1960.2 2296.2 1937.9\"/><g class=\"arrowhead\" transform=\"translate(2296.2, 1937.9) rotate(-35) scale(1.5)\" style=\"fill: #5a86ad\"><path d=\"M 0 -10 L 13 0 L 0 10 Z\" transform=\"translate(-3)\"/></g></g><text x=\"2176.4\" y=\"1901.9\">FH</text></g><g name=\"MDH\" style=\"stroke: #5a86ad; stroke-width: 15.0;\"><path d=\"M 1664.5 1921.5 L 1645.5 1927.8\"/><path d=\"M 1626.5 1934.1 L 1645.5 1927.8\"/><path d=\"M 1664.5 1921.5 C 1704.3 1908.2 1792.8 1887.1 1885.3 1885.8\"/><path d=\"M 1664.5 1921.5 C 1708.1 1906.9 1707.4 1888.2 1715.9 1840.3\"/><g><path d=\"M 1626.5 1934.1 C 1582.9 1948.7 1547.1 1934.2 1509.1 1911.0\"/><g class=\"arrowhead\" transform=\"translate(1509.1, 1911.0) rotate(-148) scale(1.5)\" style=\"fill: #5a86ad\"><path d=\"M 0 -10 L 13 0 L 0 10 Z\" transform=\"translate(-3)\"/></g></g><g><path d=\"M 1626.5 1934.1 C 1586.7 1947.4 1507.4 1986.4 1472.1 2025.4\"/><g class=\"arrowhead\" transform=\"translate(1472.1, 2025.4) rotate(132) scale(1.5)\" style=\"fill: #5a86ad\"><path d=\"M 0 -10 L 13 0 L 0 10 Z\" transform=\"translate(-3)\"/></g></g><text x=\"1574.1\" y=\"1888.0\">MDH</text></g><g name=\"CS\" style=\"stroke: #5a86ad; stroke-width: 15.0;\"><path d=\"M 1299.7 2233.4 L 1294.0 2252.6\"/><path d=\"M 1288.4 2271.8 L 1294.0 2252.6\"/><path d=\"M 1299.7 2233.4 C 1223.6 1918.3 759.6 2842.6 511.6 3005.8\"/><path d=\"M 1299.7 2233.4 C 1332.2 2169.9 1381.1 2176.8 1409.2 2208.1\"/><path d=\"M 1299.7 2233.4 C 1324.7 2183.2 1383.8 2105.6 1422.1 2074.2\"/><g><path d=\"M 1288.4 2271.8 C 1276.5 2312.1 1244.0 2416.8 1250.1 2474.2\"/><g class=\"arrowhead\" transform=\"translate(1250.1, 2474.2) rotate(84) scale(1.5)\" style=\"fill: #5a86ad\"><path d=\"M 0 -10 L 13 0 L 0 10 Z\" transform=\"translate(-3)\"/></g></g><g><path d=\"M 1288.4 2271.8 C 1275.4 2315.9 1256.6 2315.9 1218.9 2324.0\"/><g class=\"arrowhead\" transform=\"translate(1218.9, 2324.0) rotate(168) scale(1.5)\" style=\"fill: #5a86ad\"><path d=\"M 0 -10 L 13 0 L 0 10 Z\" transform=\"translate(-3)\"/></g></g><text x=\"1191.5\" y=\"2260.6\">CS</text></g><g name=\"MS\" style=\"stroke: #5a86ad; stroke-width: 15.0;\"><path d=\"M 1746.5 2357.9 L 1756.6 2340.6\"/><path d=\"M 1766.7 2323.4 L 1756.6 2340.6\"/><path d=\"M 1746.5 2357.9 C 1498.4 2618.0 986.5 2946.1 516.2 3017.7\"/><path d=\"M 1746.5 2357.9 C 1718.6 2435.1 1795.4 2537.6 1974.9 2512.2\"/><path d=\"M 1746.5 2357.9 C 1714.3 2395.4 1658.6 2415.9 1612.1 2413.4\"/><g><path d=\"M 1766.7 2323.4 C 1787.8 2287.1 1971.9 2089.1 1926.0 1923.9\"/><g class=\"arrowhead\" transform=\"translate(1926.0, 1923.9) rotate(-106) scale(1.5)\" style=\"fill: #5a86ad\"><path d=\"M 0 -10 L 13 0 L 0 10 Z\" transform=\"translate(-3)\"/></g></g><g><path d=\"M 1766.7 2323.4 C 1789.8 2283.6 1776.9 2270.0 1756.9 2237.0\"/><g class=\"arrowhead\" transform=\"translate(1756.9, 2237.0) rotate(-121) scale(1.5)\" style=\"fill: #5a86ad\"><path d=\"M 0 -10 L 13 0 L 0 10 Z\" transform=\"translate(-3)\"/></g></g><text x=\"1699.8\" y=\"2325.8\">MS</text></g><g name=\"ICL\" style=\"stroke: #5a86ad; stroke-width: 15.0;\"><path d=\"M 2075.0 2772.3 L 2094.8 2769.1\"/><path d=\"M 2114.5 2765.9 L 2094.8 2769.1\"/><path d=\"M 2075.0 2772.3 C 2033.6 2779.0 1627.0 2805.8 1464.4 2901.3\"/><g><path d=\"M 2114.5 2765.9 C 2240.6 2732.4 2220.6 2487.3 2044.4 2504.1\"/><g class=\"arrowhead\" transform=\"translate(2044.4, 2504.1) rotate(175) scale(1.5)\" style=\"fill: #5a86ad\"><path d=\"M 0 -10 L 13 0 L 0 10 Z\" transform=\"translate(-3)\"/></g></g><g><path d=\"M 2114.5 2765.9 C 2242.5 2750.1 2479.2 2617.9 2531.7 2522.9\"/><g class=\"arrowhead\" transform=\"translate(2531.7, 2522.9) rotate(-61) scale(1.5)\" style=\"fill: #5a86ad\"><path d=\"M 0 -10 L 13 0 L 0 10 Z\" transform=\"translate(-3)\"/></g></g><text x=\"2034.1\" y=\"2735.4\">ICL</text></g><g name=\"GlcPTS\"><path d=\"M -747.3 1732.8 L -747.3 1712.8\"/><path d=\"M -747.3 1692.8 L -747.3 1712.8\"/><path d=\"M -747.3 1732.8 C -747.3 1774.8 -858.0 1761.5 -925.4 1761.7\"/><path d=\"M -747.3 1732.8 C -747.3 1778.8 -746.3 2351.2 87.8 2369.6\"/><g><path d=\"M -747.3 1692.8 C -742.4 1032.6 -845.4 144.1 -272.2 146.3\"/><g class=\"arrowhead\" transform=\"translate(-272.2, 146.3) rotate(0)\"><path d=\"M 0 -10 L 13 0 L 0 10 Z\" transform=\"translate(-3)\"/></g></g><g><path d=\"M -747.3 1692.8 C -486.8 1200.8 -597.9 2734.5 77.8 2721.1\"/><g class=\"arrowhead\" transform=\"translate(77.8, 2721.1) rotate(-1)\"><path d=\"M 0 -10 L 13 0 L 0 10 Z\" transform=\"translate(-3)\"/></g></g><text x=\"-712.1\" y=\"1811.7\">GlcPTS</text></g><g name=\"ME1\" style=\"stroke: #5a86ad; stroke-width: 15.0;\"><path d=\"M 1248.6 1614.5 L 1228.6 1614.5\"/><path d=\"M 1208.6 1614.5 L 1228.6 1614.5\"/><path d=\"M 1248.6 1614.5 C 1481.0 1604.9 1794.6 1699.6 1899.0 1860.2\"/><path d=\"M 1248.6 1614.5 C 1297.0 1598.9 1299.9 1596.5 1323.1 1553.8\"/><g><path d=\"M 1208.6 1614.5 C 1162.6 1614.5 1126.5 1609.9 1108.1 1576.0\"/><g class=\"arrowhead\" transform=\"translate(1108.1, 1576.0) rotate(-119) scale(1.5)\" style=\"fill: #5a86ad\"><path d=\"M 0 -10 L 13 0 L 0 10 Z\" transform=\"translate(-3)\"/></g></g><g><path d=\"M 1208.6 1614.5 C 1162.6 1614.5 1157.4 1592.3 1153.8 1558.7\"/><g class=\"arrowhead\" transform=\"translate(1153.8, 1558.7) rotate(-96) scale(1.5)\" style=\"fill: #5a86ad\"><path d=\"M 0 -10 L 13 0 L 0 10 Z\" transform=\"translate(-3)\"/></g></g><g><path d=\"M 1208.6 1614.5 C 419.0 1607.2 819.5 2715.4 157.8 2720.0\"/><g class=\"arrowhead\" transform=\"translate(157.8, 2720.0) rotate(180) scale(1.5)\" style=\"fill: #5a86ad\"><path d=\"M 0 -10 L 13 0 L 0 10 Z\" transform=\"translate(-3)\"/></g></g><text x=\"1193.4\" y=\"1585.2\">ME1</text></g><g name=\"ME2\" style=\"stroke: #5a86ad; stroke-width: 15.0;\"><path d=\"M 1251.3 1670.2 L 1231.3 1670.2\"/><path d=\"M 1211.3 1670.2 L 1231.3 1670.2\"/><path d=\"M 1251.3 1670.2 C 1468.2 1654.6 1788.5 1690.3 1899.0 1860.2\"/><path d=\"M 1251.3 1670.2 C 1286.5 1686.9 1310.6 1692.4 1321.1 1731.2\"/><g><path d=\"M 1211.3 1670.2 C 1165.3 1670.2 1152.0 1672.3 1111.0 1705.5\"/><g class=\"arrowhead\" transform=\"translate(1111.0, 1705.5) rotate(141) scale(1.5)\" style=\"fill: #5a86ad\"><path d=\"M 0 -10 L 13 0 L 0 10 Z\" transform=\"translate(-3)\"/></g></g><g><path d=\"M 1211.3 1670.2 C 1165.3 1670.2 1149.3 1674.7 1135.6 1719.6\"/><g class=\"arrowhead\" transform=\"translate(1135.6, 1719.6) rotate(107) scale(1.5)\" style=\"fill: #5a86ad\"><path d=\"M 0 -10 L 13 0 L 0 10 Z\" transform=\"translate(-3)\"/></g></g><g><path d=\"M 1211.3 1670.2 C 418.9 1671.1 810.1 2704.0 157.8 2719.3\"/><g class=\"arrowhead\" transform=\"translate(157.8, 2719.3) rotate(179) scale(1.5)\" style=\"fill: #5a86ad\"><path d=\"M 0 -10 L 13 0 L 0 10 Z\" transform=\"translate(-3)\"/></g></g><text x=\"1193.4\" y=\"1721.3\">ME2</text></g><g name=\"PPCK\" style=\"stroke: #5a86ad; stroke-width: 15.0;\"><path d=\"M 994.2 2016.9 L 974.2 2016.9\"/><path d=\"M 954.2 2016.9 L 974.2 2016.9\"/><path d=\"M 994.2 2016.9 C 1040.2 2016.9 1045.5 1998.9 1068.7 1956.2\"/><path d=\"M 994.2 2016.9 C 1036.2 2016.9 1369.5 2050.3 1415.4 2053.2\"/><g><path d=\"M 954.2 2016.9 C 908.2 2016.9 903.0 2004.0 897.0 1966.2\"/><g class=\"arrowhead\" transform=\"translate(897.0, 1966.2) rotate(-99) scale(1.5)\" style=\"fill: #5a86ad\"><path d=\"M 0 -10 L 13 0 L 0 10 Z\" transform=\"translate(-3)\"/></g></g><g><path d=\"M 954.2 2016.9 C 908.2 2016.9 888.2 2017.7 869.8 1983.8\"/><g class=\"arrowhead\" transform=\"translate(869.8, 1983.8) rotate(-119) scale(1.5)\" style=\"fill: #5a86ad\"><path d=\"M 0 -10 L 13 0 L 0 10 Z\" transform=\"translate(-3)\"/></g></g><g><path d=\"M 954.2 2016.9 C 742.1 2024.9 342.5 2201.6 149.8 2346.2\"/><g class=\"arrowhead\" transform=\"translate(149.8, 2346.2) rotate(143) scale(1.5)\" style=\"fill: #5a86ad\"><path d=\"M 0 -10 L 13 0 L 0 10 Z\" transform=\"translate(-3)\"/></g></g><text x=\"924.2\" y=\"1976.9\">PPCK</text></g><g name=\"PPC\" style=\"stroke: #5a86ad; stroke-width: 15.0;\"><path d=\"M 1000.9 2060.5 L 980.9 2060.5\"/><path d=\"M 960.9 2060.5 L 980.9 2060.5\"/><path d=\"M 1000.9 2060.5 C 1046.9 2060.5 1053.5 2086.7 1027.8 2116.6\"/><path d=\"M 1000.9 2060.5 C 1042.9 2060.5 1384.2 2052.3 1415.4 2053.7\"/><path d=\"M 1000.9 2060.5 C 1046.9 2060.5 1052.2 2078.5 1075.4 2121.1\"/><g><path d=\"M 960.9 2060.5 C 914.9 2060.5 893.6 2070.4 875.1 2104.3\"/><g class=\"arrowhead\" transform=\"translate(875.1, 2104.3) rotate(119) scale(1.5)\" style=\"fill: #5a86ad\"><path d=\"M 0 -10 L 13 0 L 0 10 Z\" transform=\"translate(-3)\"/></g></g><g><path d=\"M 960.9 2060.5 C 914.9 2060.5 912.3 2096.1 923.1 2113.0\"/><g class=\"arrowhead\" transform=\"translate(923.1, 2113.0) rotate(58) scale(1.5)\" style=\"fill: #5a86ad\"><path d=\"M 0 -10 L 13 0 L 0 10 Z\" transform=\"translate(-3)\"/></g></g><g><path d=\"M 960.9 2060.5 C 767.6 2057.8 424.3 2170.0 151.3 2348.4\"/><g class=\"arrowhead\" transform=\"translate(151.3, 2348.4) rotate(147) scale(1.5)\" style=\"fill: #5a86ad\"><path d=\"M 0 -10 L 13 0 L 0 10 Z\" transform=\"translate(-3)\"/></g></g><text x=\"945.7\" y=\"2099.6\">PPC</text></g><g name=\"ACNH\" style=\"stroke: #5a86ad; stroke-width: 15.0;\"><path d=\"M 1306.8 2755.6 L 1297.4 2737.9\"/><path d=\"M 1316.2 2773.2 L 1306.8 2755.6\"/><path d=\"M 1297.4 2737.9 C 1268.2 2671.0 1256.2 2627.0 1254.9 2544.0\"/><g><path d=\"M 1316.2 2773.2 C 1336.3 2807.9 1378.7 2860.1 1409.4 2889.1\"/><g class=\"arrowhead\" transform=\"translate(1409.4, 2889.1) rotate(43) scale(1.5)\" style=\"fill: #5a86ad\"><path d=\"M 0 -10 L 13 0 L 0 10 Z\" transform=\"translate(-3)\"/></g></g><text x=\"1213.5\" y=\"2823.1\">ACNH</text></g><g name=\"PTA\" style=\"stroke: #841f27; stroke-width: 15.0;\"><path d=\"M 625.7 3245.7 L 608.1 3236.1\"/><path d=\"M 643.3 3255.2 L 625.7 3245.7\"/><path d=\"M 608.1 3236.1 C 552.3 3197.3 486.5 3135.3 486.5 3052.3\"/><path d=\"M 608.1 3236.1 C 559.9 3213.1 523.7 3238.4 498.2 3256.7\"/><g><path d=\"M 643.3 3255.2 C 680.2 3275.3 762.9 3315.5 821.9 3322.8\"/><g class=\"arrowhead\" transform=\"translate(821.9, 3322.8) rotate(7) scale(1.5)\" style=\"fill: #841f27\"><path d=\"M 0 -10 L 13 0 L 0 10 Z\" transform=\"translate(-3)\"/></g></g><g><path d=\"M 643.3 3255.2 C 683.7 3277.2 678.0 3315.0 680.5 3342.3\"/><g class=\"arrowhead\" transform=\"translate(680.5, 3342.3) rotate(85) scale(1.5)\" style=\"fill: #841f27\"><path d=\"M 0 -10 L 13 0 L 0 10 Z\" transform=\"translate(-3)\"/></g></g><text x=\"568.8\" y=\"3309.5\">PTA</text></g><g name=\"ACK\" style=\"stroke: #841f27; stroke-width: 15.0;\"><path d=\"M 1036.6 3327.7 L 1056.6 3327.7\"/><path d=\"M 1016.6 3327.7 L 1036.6 3327.7\"/><path d=\"M 1056.6 3327.7 C 1152.9 3327.7 1215.3 3325.9 1298.3 3325.9\"/><path d=\"M 1056.6 3327.7 C 1087.1 3332.1 1106.6 3353.2 1129.7 3389.2\"/><g><path d=\"M 1016.6 3327.7 C 974.6 3327.7 920.4 3327.7 901.6 3327.7\"/><g class=\"arrowhead\" transform=\"translate(901.6, 3327.7) rotate(180) scale(1.5)\" style=\"fill: #841f27\"><path d=\"M 0 -10 L 13 0 L 0 10 Z\" transform=\"translate(-3)\"/></g></g><g><path d=\"M 1016.6 3327.7 C 970.6 3327.7 950.2 3360.0 943.3 3377.9\"/><g class=\"arrowhead\" transform=\"translate(943.3, 3377.9) rotate(111) scale(1.5)\" style=\"fill: #841f27\"><path d=\"M 0 -10 L 13 0 L 0 10 Z\" transform=\"translate(-3)\"/></g></g><text x=\"999.2\" y=\"3400.8\">ACK</text></g><g name=\"aclig\" style=\"stroke: #841f27; stroke-width: 15.0;\"><path d=\"M 988.2 3229.3 L 1008.2 3229.1\"/><path d=\"M 968.2 3229.5 L 988.2 3229.3\"/><path d=\"M 1008.2 3229.1 C 1197.4 3230.1 1261.1 3231.4 1310.9 3301.4\"/><path d=\"M 1008.2 3229.1 C 1053.3 3228.2 1089.5 3199.7 1092.0 3159.2\"/><path d=\"M 1008.2 3229.1 C 1060.1 3224.1 1115.6 3233.8 1144.4 3173.3\"/><g><path d=\"M 968.2 3229.5 C 749.9 3230.5 500.9 3117.7 492.5 3061.8\"/><g class=\"arrowhead\" transform=\"translate(492.5, 3061.8) rotate(-99) scale(1.5)\" style=\"fill: #841f27\"><path d=\"M 0 -10 L 13 0 L 0 10 Z\" transform=\"translate(-3)\"/></g></g><g><path d=\"M 968.2 3229.5 C 926.8 3211.6 909.2 3191.3 905.8 3170.4\"/><g class=\"arrowhead\" transform=\"translate(905.8, 3170.4) rotate(-99) scale(1.5)\" style=\"fill: #841f27\"><path d=\"M 0 -10 L 13 0 L 0 10 Z\" transform=\"translate(-3)\"/></g></g><g><path d=\"M 968.2 3229.5 C 912.0 3215.8 858.5 3210.4 838.7 3187.3\"/><g class=\"arrowhead\" transform=\"translate(838.7, 3187.3) rotate(-131) scale(1.5)\" style=\"fill: #841f27\"><path d=\"M 0 -10 L 13 0 L 0 10 Z\" transform=\"translate(-3)\"/></g></g><text x=\"964.9\" y=\"3183.4\">aclig</text></g></g><g id=\"metabolites\" class=\"data\"><g name=\"NAD+\"><circle cx=\"37.7\" cy=\"1267.1\" r=\"20.0\" style=\"fill: #5a86ad;\"/><text x=\"-0.7\" y=\"1298.7\">NAD+</text></g><g name=\"Pi\"><circle cx=\"199.7\" cy=\"1263.5\" r=\"20.0\" style=\"fill: #5a86ad;\"/><text x=\"199.8\" y=\"1294.1\">Pi</text></g><g name=\"DPG\"><circle cx=\"117.8\" cy=\"1546.5\" r=\"20.0\" style=\"fill: #841f27;\"/><text x=\"158.9\" y=\"1559.1\">DPG</text></g><g name=\"NADH\"><circle cx=\"37.8\" cy=\"1476.5\" r=\"20.0\" style=\"fill: #5a86ad;\"/><text x=\"-13.1\" y=\"1459.0\">NADH</text></g><g name=\"3PG\"><circle cx=\"117.8\" cy=\"1896.5\" r=\"20.0\" style=\"fill: #841f27;\"/><text x=\"155.4\" y=\"1901.9\">3PG</text></g><g name=\"ATP\"><circle cx=\"37.8\" cy=\"1826.5\" r=\"20.0\" style=\"fill: #5a86ad;\"/><text x=\"-30.5\" y=\"1834.9\">ATP</text></g><g name=\"ADP\"><circle cx=\"37.8\" cy=\"1616.5\" r=\"20.0\" style=\"fill: #5a86ad;\"/><text x=\"-28.7\" y=\"1619.5\">ADP</text></g><g name=\"2PG\"><circle cx=\"117.8\" cy=\"2097.7\" r=\"20.0\" style=\"fill: #841f27;\"/><text x=\"158.9\" y=\"2104.8\">2PG</text></g><g name=\"H2O\"><circle cx=\"37.8\" cy=\"2300.3\" r=\"20.0\" style=\"fill: #5a86ad;\"/><text x=\"-21.6\" y=\"2292.5\">H2O</text></g><g name=\"PEP\"><circle cx=\"117.8\" cy=\"2370.3\" r=\"20.0\" style=\"fill: #5a86ad;\"/><text x=\"173.1\" y=\"2387.5\">PEP</text></g><g name=\"ATP\"><circle cx=\"-79.8\" cy=\"2654.2\" r=\"20.0\" style=\"fill: #5a86ad;\"/><text x=\"-131.2\" y=\"2651.9\">ATP</text></g><g name=\"H2O\"><circle cx=\"-70.5\" cy=\"2571.3\" r=\"20.0\" style=\"fill: #5a86ad;\"/><text x=\"-125.7\" y=\"2576.6\">H2O</text></g><g name=\"pyr\"><circle cx=\"117.8\" cy=\"2720.3\" r=\"20.0\" style=\"fill: #5a86ad;\"/><text x=\"140.9\" y=\"2754.0\">pyr</text></g><g name=\"AMP\"><circle cx=\"-79.8\" cy=\"2444.8\" r=\"20.0\" style=\"fill: #355e3b;\"/><text x=\"-135.9\" y=\"2441.3\">AMP</text></g><g name=\"Pi\"><circle cx=\"-135.7\" cy=\"2489.5\" r=\"20.0\" style=\"fill: #5a86ad;\"/><text x=\"-165.5\" y=\"2515.4\">Pi</text></g><g name=\"CoA\"><circle cx=\"266.2\" cy=\"2813.1\" r=\"20.0\" style=\"fill: #5a86ad;\"/><text x=\"281.2\" y=\"2813.1\">CoA</text></g><g name=\"NAD+\"><circle cx=\"37.8\" cy=\"2790.3\" r=\"20.0\" style=\"fill: #5a86ad;\"/><text x=\"-40.3\" y=\"2794.7\">NAD+</text></g><g name=\"acCoA\"><circle cx=\"486.5\" cy=\"3022.3\" r=\"20.0\" style=\"fill: #5a86ad;\"/><text x=\"413.4\" y=\"2984.8\">acCoA</text></g><g name=\"CO2\"><circle cx=\"15.4\" cy=\"3041.3\" r=\"20.0\" style=\"fill: #5a86ad;\"/><text x=\"-48.7\" y=\"3071.7\">CO2</text></g><g name=\"NADH\"><circle cx=\"13.5\" cy=\"2942.5\" r=\"20.0\" style=\"fill: #5a86ad;\"/><text x=\"-68.1\" y=\"2958.8\">NADH</text></g><g name=\"ATP\"><circle cx=\"312.2\" cy=\"2653.4\" r=\"20.0\" style=\"fill: #5a86ad;\"/><text x=\"327.2\" y=\"2653.4\">ATP</text></g><g name=\"ADP\"><circle cx=\"305.7\" cy=\"2447.5\" r=\"20.0\" style=\"fill: #5a86ad;\"/><text x=\"318.2\" y=\"2442.9\">ADP</text></g><g name=\"DHAP\"><circle cx=\"-232.2\" cy=\"1196.5\" r=\"20.0\" style=\"fill: #841f27;\"/><text x=\"-253.8\" y=\"1236.5\">DHAP</text></g><g name=\"FDP\"><circle cx=\"-232.2\" cy=\"846.5\" r=\"20.0\" style=\"fill: #841f27;\"/><text x=\"-316.2\" y=\"874.5\">FDP</text></g><g name=\"ATP\"><circle cx=\"-39.8\" cy=\"587.9\" r=\"20.0\" style=\"fill: #5a86ad;\"/><text x=\"-24.8\" y=\"587.9\">ATP</text></g><g name=\"F6P\"><circle cx=\"-232.2\" cy=\"496.5\" r=\"20.0\" style=\"fill: #355e3b;\"/><text x=\"-315.0\" y=\"489.9\">F6P</text></g><g name=\"ADP\"><circle cx=\"-31.6\" cy=\"766.5\" r=\"20.0\" style=\"fill: #5a86ad;\"/><text x=\"-16.8\" y=\"766.3\">ADP</text></g><g name=\"G6P\"><circle cx=\"-232.2\" cy=\"146.5\" r=\"20.0\" style=\"fill: #355e3b;\"/><text x=\"-355.4\" y=\"128.7\">G6P</text></g><g name=\"6PG\"><circle cx=\"467.8\" cy=\"145.2\" r=\"20.0\" style=\"fill: #355e3b;\"/><text x=\"451.6\" y=\"185.2\">6PG</text></g><g name=\"Ru5P\"><circle cx=\"882.6\" cy=\"423.1\" r=\"20.0\" style=\"fill: #355e3b;\"/><text x=\"907.6\" y=\"423.1\">Ru5P</text></g><g name=\"R5P\"><circle cx=\"881.3\" cy=\"665.1\" r=\"20.0\" style=\"fill: #355e3b;\"/><text x=\"907.6\" y=\"704.6\">R5P</text></g><g name=\"Sed7P\"><circle cx=\"483.9\" cy=\"697.7\" r=\"20.0\" style=\"fill: #355e3b;\"/><text x=\"440.7\" y=\"737.7\">Sed7P</text></g><g name=\"6PGDL\"><circle cx=\"117.8\" cy=\"145.2\" r=\"20.0\" style=\"fill: #355e3b;\"/><text x=\"90.8\" y=\"185.2\">6PGDL</text></g><g name=\"H2O\"><circle cx=\"187.8\" cy=\"65.2\" r=\"20.0\" style=\"fill: #5a86ad;\"/><text x=\"171.6\" y=\"45.2\">H2O</text></g><g name=\"NADP+\"><circle cx=\"-162.2\" cy=\"65.2\" r=\"20.0\" style=\"fill: #5a86ad;\"/><text x=\"-205.4\" y=\"45.2\">NADP+</text></g><g name=\"NADPH\"><circle cx=\"47.8\" cy=\"65.2\" r=\"20.0\" style=\"fill: #5a86ad;\"/><text x=\"20.8\" y=\"45.2\">NADPH</text></g><g name=\"NADP+\"><circle cx=\"827.5\" cy=\"159.6\" r=\"20.0\" style=\"fill: #5a86ad;\"/><text x=\"842.5\" y=\"159.6\">NADP+</text></g><g name=\"CO2\"><circle cx=\"912.2\" cy=\"214.1\" r=\"20.0\" style=\"fill: #5a86ad;\"/><text x=\"933.9\" y=\"207.2\">CO2</text></g><g name=\"NADPH\"><circle cx=\"932.5\" cy=\"263.4\" r=\"20.0\" style=\"fill: #5a86ad;\"/><text x=\"947.5\" y=\"263.4\">NADPH</text></g><g name=\"Xu5P\"><circle cx=\"483.9\" cy=\"347.7\" r=\"20.0\" style=\"fill: #355e3b;\"/><text x=\"440.7\" y=\"387.7\">Xu5P</text></g><g name=\"H2O\"><circle cx=\"-430.7\" cy=\"772.5\" r=\"20.0\" style=\"fill: #5a86ad;\"/><text x=\"-457.7\" y=\"802.5\">H2O</text></g><g name=\"Pi\"><circle cx=\"-430.7\" cy=\"562.5\" r=\"20.0\" style=\"fill: #5a86ad;\"/><text x=\"-448.7\" y=\"592.5\">Pi</text></g><g name=\"E4P\"><circle cx=\"330.3\" cy=\"518.9\" r=\"20.0\" style=\"fill: #355e3b;\"/><text x=\"221.3\" y=\"505.5\">E4P</text></g><g name=\"KDPG\"><circle cx=\"1177.3\" cy=\"565.0\" r=\"20.0\" style=\"fill: #355e3b;\"/><text x=\"1086.1\" y=\"573.5\">KDPG</text></g><g name=\"H2O\"><circle cx=\"1257.3\" cy=\"495.0\" r=\"20.0\" style=\"fill: #5a86ad;\"/><text x=\"1272.3\" y=\"495.0\">H2O</text></g><g name=\"GAP\"><circle cx=\"119.7\" cy=\"1194.2\" r=\"20.0\" style=\"fill: #355e3b;\"/><text x=\"162.8\" y=\"1220.7\">GAP</text></g><g name=\"cit\"><circle cx=\"1254.4\" cy=\"2514.0\" r=\"20.0\" style=\"fill: #5a86ad;\"/><text x=\"1182.9\" y=\"2523.8\">cit</text></g><g name=\"OAA\"><circle cx=\"1445.3\" cy=\"2055.1\" r=\"20.0\" style=\"fill: #5a86ad;\"/><text x=\"1365.1\" y=\"2012.0\">OAA</text></g><g name=\"mal\"><circle cx=\"1915.3\" cy=\"1885.4\" r=\"20.0\" style=\"fill: #5a86ad;\"/><text x=\"1909.9\" y=\"1844.7\">mal</text></g><g name=\"fum\"><circle cx=\"2365.5\" cy=\"2067.3\" r=\"20.0\" style=\"fill: #5a86ad;\"/><text x=\"2374.4\" y=\"2025.1\">fum</text></g><g name=\"succ\"><circle cx=\"2551.0\" cy=\"2487.9\" r=\"20.0\" style=\"fill: #5a86ad;\"/><text x=\"2600.4\" y=\"2489.1\">succ</text></g><g name=\"succCoA\"><circle cx=\"2387.1\" cy=\"2923.6\" r=\"20.0\" style=\"fill: #5a86ad;\"/><text x=\"2429.8\" y=\"2931.0\">succCoA</text></g><g name=\"αkg\"><circle cx=\"1940.4\" cy=\"3096.9\" r=\"20.0\" style=\"fill: #5a86ad;\"/><text x=\"1920.6\" y=\"3150.7\">αkg</text></g><g name=\"icit\"><circle cx=\"1438.6\" cy=\"2916.5\" r=\"20.0\" style=\"fill: #5a86ad;\"/><text x=\"1366.8\" y=\"2960.5\">icit</text></g><g name=\"glx\"><circle cx=\"2004.6\" cy=\"2507.9\" r=\"20.0\" style=\"fill: #5a86ad;\"/><text x=\"1977.6\" y=\"2547.9\">glx</text></g><g name=\"NADP+\"><circle cx=\"1500.2\" cy=\"3059.9\" r=\"20.0\" style=\"fill: #5a86ad;\"/><text x=\"1478.6\" y=\"3099.9\">NADP+</text></g><g name=\"CO2\"><circle cx=\"1797.4\" cy=\"3160.1\" r=\"20.0\" style=\"fill: #5a86ad;\"/><text x=\"1799.1\" y=\"3204.3\">CO2</text></g><g name=\"NADPH\"><circle cx=\"1712.6\" cy=\"3167.5\" r=\"20.0\" style=\"fill: #5a86ad;\"/><text x=\"1642.6\" y=\"3207.5\">NADPH</text></g><g name=\"CoA\"><circle cx=\"2093.2\" cy=\"3203.6\" r=\"20.0\" style=\"fill: #5a86ad;\"/><text x=\"2072.5\" y=\"3249.9\">CoA</text></g><g name=\"NAD+\"><circle cx=\"2188.9\" cy=\"3165.9\" r=\"20.0\" style=\"fill: #5a86ad;\"/><text x=\"2172.7\" y=\"3205.9\">NAD+</text></g><g name=\"CO2\"><circle cx=\"2435.7\" cy=\"3067.4\" r=\"20.0\" style=\"fill: #5a86ad;\"/><text x=\"2463.5\" y=\"3092.9\">CO2</text></g><g name=\"NADH\"><circle cx=\"2332.8\" cy=\"3088.6\" r=\"20.0\" style=\"fill: #5a86ad;\"/><text x=\"2354.6\" y=\"3117.2\">NADH</text></g><g name=\"ATP\"><circle cx=\"2638.5\" cy=\"2686.4\" r=\"20.0\" style=\"fill: #5a86ad;\"/><text x=\"2665.8\" y=\"2699.8\">ATP</text></g><g name=\"CoA\"><circle cx=\"2666.6\" cy=\"2609.0\" r=\"20.0\" style=\"fill: #5a86ad;\"/><text x=\"2692.7\" y=\"2607.4\">CoA</text></g><g name=\"ADP\"><circle cx=\"2549.7\" cy=\"2881.8\" r=\"20.0\" style=\"fill: #5a86ad;\"/><text x=\"2570.6\" y=\"2914.1\">ADP</text></g><g name=\"Pi\"><circle cx=\"2596.3\" cy=\"2819.8\" r=\"20.0\" style=\"fill: #5a86ad;\"/><text x=\"2625.6\" y=\"2823.4\">Pi</text></g><g name=\"Q\"><circle cx=\"2599.9\" cy=\"2286.1\" r=\"20.0\" style=\"fill: #5a86ad;\"/><text x=\"2629.5\" y=\"2292.8\">Q</text></g><g name=\"QH2\"><circle cx=\"2507.2\" cy=\"2097.6\" r=\"20.0\" style=\"fill: #5a86ad;\"/><text x=\"2536.8\" y=\"2091.4\">QH2</text></g><g name=\"H2O\"><circle cx=\"2322.3\" cy=\"1919.5\" r=\"20.0\" style=\"fill: #5a86ad;\"/><text x=\"2342.0\" y=\"1906.6\">H2O</text></g><g name=\"NAD+\"><circle cx=\"1719.8\" cy=\"1818.7\" r=\"20.0\" style=\"fill: #5a86ad;\"/><text x=\"1627.5\" y=\"1819.5\">NAD+</text></g><g name=\"NADH\"><circle cx=\"1481.8\" cy=\"1894.2\" r=\"20.0\" style=\"fill: #5a86ad;\"/><text x=\"1377.9\" y=\"1898.2\">NADH</text></g><g name=\"H2O\"><circle cx=\"1423.9\" cy=\"2224.5\" r=\"20.0\" style=\"fill: #5a86ad;\"/><text x=\"1423.2\" y=\"2263.2\">H2O</text></g><g name=\"CoA\"><circle cx=\"1187.6\" cy=\"2330.7\" r=\"20.0\" style=\"fill: #5a86ad;\"/><text x=\"1115.5\" y=\"2348.6\">CoA</text></g><g name=\"H2O\"><circle cx=\"1590.2\" cy=\"2412.3\" r=\"20.0\" style=\"fill: #5a86ad;\"/><text x=\"1533.1\" y=\"2403.6\">H2O</text></g><g name=\"CoA\"><circle cx=\"1740.4\" cy=\"2209.6\" r=\"20.0\" style=\"fill: #5a86ad;\"/><text x=\"1658.5\" y=\"2192.1\">CoA</text></g><g name=\"Glc.D.ext\"><circle cx=\"-955.4\" cy=\"1761.8\" r=\"20.0\"/><text x=\"-1027.8\" y=\"1725.3\">Glc.D.ext</text></g><g name=\"NAD+\"><circle cx=\"1333.6\" cy=\"1534.5\" r=\"20.0\" style=\"fill: #5a86ad;\"/><text x=\"1317.4\" y=\"1514.5\">NAD+</text></g><g name=\"CO2\"><circle cx=\"1092.8\" cy=\"1547.9\" r=\"20.0\" style=\"fill: #5a86ad;\"/><text x=\"1076.6\" y=\"1527.9\">CO2</text></g><g name=\"NADH\"><circle cx=\"1150.4\" cy=\"1526.9\" r=\"20.0\" style=\"fill: #5a86ad;\"/><text x=\"1130.2\" y=\"1506.6\">NADH</text></g><g name=\"NADP+\"><circle cx=\"1326.9\" cy=\"1752.4\" r=\"20.0\" style=\"fill: #5a86ad;\"/><text x=\"1305.3\" y=\"1792.7\">NADP+</text></g><g name=\"CO2\"><circle cx=\"1086.1\" cy=\"1725.6\" r=\"20.0\" style=\"fill: #5a86ad;\"/><text x=\"1053.8\" y=\"1765.9\">CO2</text></g><g name=\"NADPH\"><circle cx=\"1126.3\" cy=\"1750.2\" r=\"20.0\" style=\"fill: #5a86ad;\"/><text x=\"1110.1\" y=\"1790.2\">NADPH</text></g><g name=\"ATP\"><circle cx=\"1079.2\" cy=\"1936.9\" r=\"20.0\" style=\"fill: #5a86ad;\"/><text x=\"1063.0\" y=\"1916.9\">ATP</text></g><g name=\"ADP\"><circle cx=\"892.0\" cy=\"1934.6\" r=\"20.0\" style=\"fill: #5a86ad;\"/><text x=\"854.4\" y=\"1910.3\">ADP</text></g><g name=\"CO2\"><circle cx=\"854.5\" cy=\"1955.7\" r=\"20.0\" style=\"fill: #5a86ad;\"/><text x=\"807.4\" y=\"1942.4\">CO2</text></g><g name=\"H+\"><circle cx=\"1013.5\" cy=\"2133.3\" r=\"20.0\" style=\"fill: #5a86ad;\"/><text x=\"1000.0\" y=\"2168.3\">H+</text></g><g name=\"Pi\"><circle cx=\"1085.9\" cy=\"2140.5\" r=\"20.0\" style=\"fill: #5a86ad;\"/><text x=\"1069.7\" y=\"2180.5\">Pi</text></g><g name=\"CO2\"><circle cx=\"859.8\" cy=\"2132.4\" r=\"20.0\" style=\"fill: #5a86ad;\"/><text x=\"843.6\" y=\"2172.4\">CO2</text></g><g name=\"H2O\"><circle cx=\"940.3\" cy=\"2140.0\" r=\"20.0\" style=\"fill: #5a86ad;\"/><text x=\"921.4\" y=\"2172.3\">H2O</text></g><g name=\"Pi\"><circle cx=\"480.3\" cy=\"3269.5\" r=\"20.0\" style=\"fill: #5a86ad;\"/><text x=\"447.9\" y=\"3301.3\">Pi</text></g><g name=\"acP\"><circle cx=\"861.6\" cy=\"3327.7\" r=\"20.0\" style=\"fill: #841f27;\"/><text x=\"820.1\" y=\"3386.9\">acP</text></g><g name=\"CoA\"><circle cx=\"683.5\" cy=\"3374.2\" r=\"20.0\" style=\"fill: #5a86ad;\"/><text x=\"660.1\" y=\"3414.9\">CoA</text></g><g name=\"ac\"><circle cx=\"1328.3\" cy=\"3325.9\" r=\"20.0\" style=\"fill: #841f27;\"/><text x=\"1376.8\" y=\"3333.6\">ac</text></g><g name=\"ATP\"><circle cx=\"1141.6\" cy=\"3407.7\" r=\"20.0\" style=\"fill: #5a86ad;\"/><text x=\"1130.8\" y=\"3447.7\">ATP</text></g><g name=\"ADP\"><circle cx=\"931.6\" cy=\"3407.7\" r=\"20.0\" style=\"fill: #5a86ad;\"/><text x=\"915.4\" y=\"3447.7\">ADP</text></g><g name=\"ATP\"><circle cx=\"1093.4\" cy=\"3137.3\" r=\"20.0\" style=\"fill: #5a86ad;\"/><text x=\"1102.3\" y=\"3121.0\">ATP</text></g><g name=\"CoA\"><circle cx=\"1153.8\" cy=\"3153.4\" r=\"20.0\" style=\"fill: #5a86ad;\"/><text x=\"1168.8\" y=\"3153.4\">CoA</text></g><g name=\"AMP\"><circle cx=\"900.8\" cy=\"3138.8\" r=\"20.0\" style=\"fill: #355e3b;\"/><text x=\"860.2\" y=\"3123.3\">AMP</text></g><g name=\"PPi\"><circle cx=\"817.8\" cy=\"3163.1\" r=\"20.0\" style=\"fill: #841f27;\"/><text x=\"769.8\" y=\"3143.9\">PPi</text></g></g></g></svg>"
      ],
      "text/plain": [
       "<IPython.core.display.SVG object>"
      ]
     },
     "execution_count": 26,
     "metadata": {},
     "output_type": "execute_result"
    }
   ],
   "source": [
    "# Color both the metabolites and the rxns by glycolysis / ppp / tca\n",
    "# Of course some metabolites are reused, but that's ok\n",
    "mol_group = {}\n",
    "for mol in glycolysis_kb_mols:\n",
    "    mol_group[mol.label] = 1\n",
    "for mol in ppp_kb_mols:\n",
    "    mol_group[mol.label] = 2\n",
    "for mol in tca_kb_mols:\n",
    "    mol_group[mol.label] = 3\n",
    "mol_group_scale = escher_map.Scale({0: (\"#bbbbbb\", 15), 1: (\"#841f27\", 20), 2: (\"#355e3b\", 20), 3: (\"#5a86ad\", 20)})\n",
    "\n",
    "rxn_group = {}\n",
    "for rxn in glycolysis_kb_rxns:\n",
    "    rxn_group[rxn.label] = 1\n",
    "for rxn in ppp_kb_rxns:\n",
    "    rxn_group[rxn.label] = 2\n",
    "for rxn in tca_kb_rxns:\n",
    "    rxn_group[rxn.label] = 3\n",
    "rxn_group_scale = escher_map.Scale({0: (\"#bbbbbb\", 8), 1: (\"#841f27\", 15), 2: (\"#355e3b\", 15), 3: (\"#5a86ad\", 15)})\n",
    "\n",
    "map_json = json.loads(files(pw_files).joinpath('central_carbon.json').read_text())\n",
    "diag = escher_map.EscherMap(map_json, width=\"20cm\", metabolite_scale=mol_group_scale, reaction_scale=rxn_group_scale)\n",
    "SVG(diag.draw(metabolite_data=mol_group, reaction_data=rxn_group))"
   ]
  },
  {
   "cell_type": "markdown",
   "id": "9b453c66-d6e2-410f-ad2e-47b858b844f1",
   "metadata": {},
   "source": [
    "Coverage looks good. The only reaction not covered is PTS, which is a summary reaction with no single covering EC number. It was put in the knowledgebase separately with the ID `pts.glc`"
   ]
  }
 ],
 "metadata": {
  "kernelspec": {
   "display_name": "Python 3 (ipykernel)",
   "language": "python",
   "name": "python3"
  },
  "language_info": {
   "codemirror_mode": {
    "name": "ipython",
    "version": 3
   },
   "file_extension": ".py",
   "mimetype": "text/x-python",
   "name": "python",
   "nbconvert_exporter": "python",
   "pygments_lexer": "ipython3",
   "version": "3.11.2"
  }
 },
 "nbformat": 4,
 "nbformat_minor": 5
}
