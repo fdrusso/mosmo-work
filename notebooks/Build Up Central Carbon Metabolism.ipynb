{
 "cells": [
  {
   "cell_type": "markdown",
   "id": "0eaa6b7a-2918-4a97-b2a7-438f21a47489",
   "metadata": {},
   "source": [
    "# Central Carbon in the KB\n",
    "- Big enough to be worth doing, not too big to be manageable\n",
    "\n",
    "\n",
    "__Notes__\n",
    "- We assume that most of the sugars already exist in the KnowledgeBase as a result of the notebook `Sugar Forms and Variations`, as well as the core nucleotides and deoxynucleotides, via `Nucleotides in the KB`.\n",
    "- This notebook builds up the reactions of central carbon metabolism, as well as the remaining metabolites not covered by the systematic approaches above.\n",
    "- We use ChEBI as the origin for most metabolite definitions\n",
    "  - No access or licensing restrictions\n",
    "  - The precision and granularity we need, e.g. in terms of protonation states, isomeric forms, etc\n",
    "- Likewise, RHEA is the origin for reaction definitions.\n",
    "- However, those sources themselves do not serve our overall goals. So we construct and refine canonical KB versions of all the relevant items. The path is\n",
    "> EC number -> RHEA reaction -> ChEBI compound -> KB compound -> KB reaction\n",
    "- Start with EC numbers pulled from reference sources for the relevant pathways: glycolysis/gluconeogenesis, overflow metabolism, pentose phosphate, entner-doudoroff, tca, glyoxylate shunt, anapleurosis.\n",
    "  - The starting lists are fairly inclusive, so we may be selective about what we include in any final pathways."
   ]
  },
  {
   "cell_type": "code",
   "execution_count": 1,
   "id": "ccf12407",
   "metadata": {
    "tags": []
   },
   "outputs": [],
   "source": [
    "import collections\n",
    "import copy\n",
    "from ipydatagrid import DataGrid\n",
    "import ipywidgets as widgets\n",
    "import pandas as pd\n",
    "from IPython.display import display\n",
    "\n",
    "from mosmo.knowledge import kb\n",
    "from mosmo.model import DS, DbXref, KbEntry, Molecule, Reaction, Pathway\n",
    "\n",
    "# Data files are resources in the `data` package\n",
    "from importlib.resources import files\n",
    "import data\n",
    "\n",
    "def datafile(filename):\n",
    "    return files(data).joinpath(filename)\n",
    "\n",
    "KB = kb.configure_kb()"
   ]
  },
  {
   "cell_type": "markdown",
   "id": "53aff83a",
   "metadata": {},
   "source": [
    "## Glycolysis"
   ]
  },
  {
   "cell_type": "markdown",
   "id": "83c2ffe4-47b9-44be-ae67-b9c48e175e1a",
   "metadata": {},
   "source": [
    "### Collect RHEA reactions cross-referenced to these EC numbers"
   ]
  },
  {
   "cell_type": "code",
   "execution_count": 2,
   "id": "3e33fe40-919a-41a9-b588-778987904561",
   "metadata": {},
   "outputs": [],
   "source": [
    "glycolysis_rhea = set()\n",
    "with open(datafile('glycolysis.txt'), 'r') as f:\n",
    "    for line in f.readlines():\n",
    "        line = line.strip()\n",
    "        if not line or line.startswith('#'):\n",
    "            continue\n",
    "        ec_ref = DbXref(db=DS.EC, id=line)\n",
    "        rhea_rxns = KB.xref(KB.RHEA, ec_ref)\n",
    "        if rhea_rxns:\n",
    "            glycolysis_rhea.update(rhea_rxns)\n",
    "        else:\n",
    "            print(f'{ec_ref} has no corresponding reactions in RHEA')"
   ]
  },
  {
   "cell_type": "markdown",
   "id": "6d04879e-9eb3-4cbf-9d5d-b5fd9df40794",
   "metadata": {},
   "source": [
    "### Collect associated ChEBI entries, and cross-reference into existing KB molecules\n",
    "- Where available, navigate up to the canonical form of each KB molecule"
   ]
  },
  {
   "cell_type": "code",
   "execution_count": 3,
   "id": "91079f65-debe-439e-a06c-41c9ef5d22ea",
   "metadata": {},
   "outputs": [],
   "source": [
    "chebi_to_kb = {}\n",
    "for rxn in glycolysis_rhea:\n",
    "    for chebi_mol in rxn.stoichiometry:\n",
    "        if chebi_mol not in chebi_to_kb:\n",
    "            kb_mols = KB.xref(KB.compounds, chebi_mol.ref())\n",
    "            if len(kb_mols) > 1:\n",
    "                print(f'{chebi_mol} maps to multiple KB entries.')\n",
    "            if kb_mols:\n",
    "                kb_mol = kb_mols[0]\n",
    "                if kb_mol.canonical_form is not None:\n",
    "                    kb_mol = KB.get(KB.compounds, kb_mol.canonical_form.parent_id)\n",
    "            else:\n",
    "                kb_mol = None\n",
    "            chebi_to_kb[chebi_mol] = kb_mol"
   ]
  },
  {
   "cell_type": "markdown",
   "id": "fc2ef250-1fd9-48bf-9c8d-278652672038",
   "metadata": {},
   "source": [
    "### Manually curate KB compounds\n",
    "- Assign or edit kbid, name, akas, shorthand, and xrefs\n",
    "- Generally, any new entry inherits anything it can from the ChEBI entry\n",
    "- Manually mark KB entries to be updated"
   ]
  },
  {
   "cell_type": "code",
   "execution_count": 4,
   "id": "19c64404-13dd-4570-a065-72fd58abba50",
   "metadata": {},
   "outputs": [],
   "source": [
    "class MolEditTask:\n",
    "    FOCUS_DBS = [DS.KEGG, DS.METACYC, DS.CHEBI]\n",
    "    \n",
    "    def __init__(self, chebi_mol, kb_mol):\n",
    "        self.chebi_mols = [chebi_mol]\n",
    "        self.kb_mol = kb_mol\n",
    "        self.dirty = False\n",
    "        self.defunct_kb_id = None\n",
    "\n",
    "    def data(self):\n",
    "        data = {\n",
    "            'chebi_id': ', '.join(chebi_mol.id for chebi_mol in self.chebi_mols),\n",
    "            'kb_id': self.kb_mol.id if self.kb_mol else '',\n",
    "        }\n",
    "        data_mol = self.kb_mol or self.chebi_mols[0]\n",
    "        data['name'] = data_mol.name\n",
    "        data['shorthand'] = data_mol.shorthand or ''\n",
    "\n",
    "        xrefs = {xref.db: xref.id for xref in (data_mol.xrefs or [])}\n",
    "        for db in MolEditTask.FOCUS_DBS:\n",
    "            if db in xrefs:\n",
    "                data[db.id] = xrefs.pop(db)\n",
    "            else:\n",
    "                data[db.id] = ''\n",
    "        if self.kb_mol is None:\n",
    "            data['CHEBI'] = self.chebi_mols[0].id\n",
    "\n",
    "        data['others'] = ', '.join(f'{db.id}:{id}' for db, id in sorted(xrefs.items(), key=lambda kv: kv[0].id))\n",
    "\n",
    "        return data\n",
    "\n",
    "    def make_kb_entry(self):\n",
    "        if self.kb_mol is None:\n",
    "            # New KB molecule is modeled on the first reference molecule, and cross-referenced to it.\n",
    "            self.kb_mol = copy.deepcopy(self.chebi_mols[0])\n",
    "            self.kb_mol.id = None  # Must be assigned to save it.\n",
    "            self.kb_mol.db = None  # Assigned by KB on save\n",
    "            \n",
    "            xref = self.chebi_mols[0].ref()\n",
    "            if self.kb_mol.xrefs:\n",
    "                self.kb_mol.xrefs.add(xref)\n",
    "            else:\n",
    "                self.kb_mol.xrefs = {xref}\n",
    "\n",
    "            self.dirty = True\n",
    "\n",
    "    def update_kb_id(self, id):\n",
    "        if not id:\n",
    "            return\n",
    "        if id != self.kb_mol.id:\n",
    "            if self.kb_mol.id is not None:\n",
    "                self.defunct_kb_id = self.kb_mol.id\n",
    "            self.kb_mol.id = id\n",
    "            self.dirty = True\n",
    "\n",
    "    def update_name(self, name):\n",
    "        if not name:\n",
    "            return\n",
    "        if name != self.kb_mol.name:\n",
    "            # Preserve the old name as an aka, and remove the new one if it was an aka.\n",
    "            if self.kb_mol.aka is not None:\n",
    "                self.kb_mol.aka.insert(0, self.kb_mol.name)\n",
    "                try:\n",
    "                    self.kb_mol.aka.remove(name)\n",
    "                except ValueError:\n",
    "                    pass\n",
    "            else:\n",
    "                self.kb_mol.aka = [self.kb_mol.name]\n",
    "\n",
    "            self.kb_mol.name = name\n",
    "            self.dirty = True\n",
    "        \n",
    "    def update_shorthand(self, shorthand):\n",
    "        shorthand = shorthand or None\n",
    "        if shorthand != self.kb_mol.shorthand:\n",
    "            self.kb_mol.shorthand = shorthand\n",
    "            self.dirty = True\n",
    "\n",
    "    def update_xref(self, db, id):\n",
    "        existing = None\n",
    "        for xref in self.kb_mol.xrefs:\n",
    "            if xref.db == db:\n",
    "                existing = xref\n",
    "                break\n",
    "        if existing is not None and existing.id == id:\n",
    "            return\n",
    "\n",
    "        if existing is not None:\n",
    "            self.kb_mol.xrefs.remove(existing)\n",
    "            self.dirty = True\n",
    "        if id:\n",
    "            self.kb_mol.xrefs.add(DbXref(db=db, id=id))\n",
    "            self.dirty = True\n",
    "\n",
    "    def update_other_xrefs(self, xrefs_str):\n",
    "        xrefs = set()\n",
    "        if xrefs_str:\n",
    "            for xref_str in xrefs_str.split(','):\n",
    "                db, id = xref_str.strip().split(':')\n",
    "                xrefs.add(DbXref(db=DS.get(db), id=id))\n",
    "        for xref in xrefs:\n",
    "            if xref not in self.kb_mol.xrefs:\n",
    "                self.dirty = True\n",
    "        for xref in self.kb_mol.xrefs:\n",
    "            if xref.db in MolEditTask.FOCUS_DBS:\n",
    "                xrefs.add(xref)\n",
    "            elif xref not in xrefs:\n",
    "                self.dirty = True\n",
    "        self.kb_mol.xrefs = xrefs"
   ]
  },
  {
   "cell_type": "code",
   "execution_count": 5,
   "id": "aa493d8f-053e-4a3a-8c42-463e6bc6b67a",
   "metadata": {},
   "outputs": [],
   "source": [
    "class MolEditGrid:\n",
    "    def __init__(self, tasks):\n",
    "        self.tasks = sorted(tasks, key=lambda task: (task.kb_mol or task.chebi_mols[0]).name)\n",
    "        df = pd.DataFrame([task.data() for task in self.tasks]).set_index('chebi_id')\n",
    "        self.grid = DataGrid(df, editable=True)\n",
    "        self.grid.on_cell_change(self.on_cell_change)\n",
    "\n",
    "    def on_cell_change(self, cell):\n",
    "        # The most robust way to do this is to apply the entire row's data every time\n",
    "        task = self.tasks[cell['row']]\n",
    "        row = self.grid.data.iloc[cell['row']]\n",
    "        \n",
    "        if task.kb_mol is None:\n",
    "            task.make_kb_entry()\n",
    "\n",
    "        task.update_kb_id(row['kb_id'])\n",
    "        task.update_name(row['name'])\n",
    "        task.update_shorthand(row['shorthand'])\n",
    "        for db in task.FOCUS_DBS:\n",
    "            task.update_xref(db, row[db.id])\n",
    "        task.update_other_xrefs(row['others'])\n",
    "\n",
    "    def display(self):\n",
    "        display(self.grid)"
   ]
  },
  {
   "cell_type": "code",
   "execution_count": 6,
   "id": "69f57ec6-d4c3-4943-9421-8f787c6e4f81",
   "metadata": {},
   "outputs": [
    {
     "data": {
      "application/vnd.jupyter.widget-view+json": {
       "model_id": "f39ba96b031b459d8541bdf2e5c88476",
       "version_major": 2,
       "version_minor": 0
      },
      "text/plain": [
       "DataGrid(auto_fit_params={'area': 'all', 'padding': 30, 'numCols': None}, corner_renderer=None, default_render…"
      ]
     },
     "metadata": {},
     "output_type": "display_data"
    }
   ],
   "source": [
    "tasks = []\n",
    "covered = {}\n",
    "for chebi_mol, kb_mol in chebi_to_kb.items():\n",
    "    if kb_mol is not None and kb_mol in covered:\n",
    "        covered[kb_mol].chebi_mols.append(chebi_mol)\n",
    "    else:\n",
    "        task = MolEditTask(chebi_mol, kb_mol)\n",
    "        tasks.append(task)\n",
    "        if kb_mol is not None:\n",
    "            covered[kb_mol] = task\n",
    "\n",
    "mol_edit_grid = MolEditGrid(tasks)\n",
    "mol_edit_grid.display()"
   ]
  },
  {
   "cell_type": "code",
   "execution_count": 7,
   "id": "141814b2-f33d-4d65-a6dc-82992405712c",
   "metadata": {},
   "outputs": [],
   "source": [
    "for task in mol_edit_grid.tasks:\n",
    "    if task.defunct_kb_id:\n",
    "        print(\"Defunct: \" + task.defunct_kb_id)\n",
    "    if task.dirty:\n",
    "        print(task.kb_mol)\n",
    "        KB.put(KB.compounds, task.kb_mol)\n",
    "        task.dirty = False"
   ]
  },
  {
   "cell_type": "markdown",
   "id": "f8eaf8ff-7488-4332-a287-0587dd5983a6",
   "metadata": {},
   "source": [
    "### Build KB versions of all reactions"
   ]
  },
  {
   "cell_type": "code",
   "execution_count": 8,
   "id": "f90570f0-8314-4399-b3dd-60969e45b4e9",
   "metadata": {},
   "outputs": [],
   "source": [
    "class RxnEditTask:\n",
    "    FOCUS_DBS = [DS.EC, DS.RHEA, DS.KEGG, DS.METACYC]\n",
    "    \n",
    "    def __init__(self, rhea_rxn, kb_rxn):\n",
    "        self.rhea_rxn = rhea_rxn\n",
    "        self.kb_rxn = kb_rxn\n",
    "        self.dirty = False\n",
    "        self.defunct_kb_id = None\n",
    "\n",
    "    def data(self):\n",
    "        data = {\n",
    "            'rhea_id': self.rhea_rxn.id,\n",
    "            'kb_id': self.kb_rxn.id or '',\n",
    "        }\n",
    "        data['name'] = self.kb_rxn.name\n",
    "        data['shorthand'] = self.kb_rxn.shorthand or ''\n",
    "        data['catalyst'] = self.kb_rxn.catalyst.id if self.kb_rxn.catalyst else ''\n",
    "        data['rev'] = self.kb_rxn.reversible\n",
    "        data['equation'] = self.kb_rxn.formula,\n",
    "\n",
    "        xrefs = {xref.db: xref.id for xref in (self.kb_rxn.xrefs or [])}\n",
    "        for db in RxnEditTask.FOCUS_DBS:\n",
    "            if db in xrefs:\n",
    "                data[db.id] = xrefs.pop(db)\n",
    "            else:\n",
    "                data[db.id] = ''\n",
    "\n",
    "        data['others'] = ', '.join(f'{db.id}:{id}' for db, id in sorted(xrefs.items(), key=lambda kv: kv[0].id))\n",
    "\n",
    "        return data\n",
    "\n",
    "    def update_kb_id(self, id):\n",
    "        if not id:\n",
    "            return\n",
    "        if id != self.kb_rxn.id:\n",
    "            if self.kb_rxn.id is not None:\n",
    "                self.defunct_kb_id = self.kb_rxn.id\n",
    "            self.kb_rxn.id = id\n",
    "            self.dirty = True\n",
    "\n",
    "    def update_name(self, name):\n",
    "        if not name:\n",
    "            return\n",
    "        if name != self.kb_rxn.name:\n",
    "            # Preserve the old name as an aka, and remove the new one if it was an aka.\n",
    "            if self.kb_rxn.aka is not None:\n",
    "                self.kb_rxn.aka.insert(0, self.kb_rxn.name)\n",
    "                try:\n",
    "                    self.kb_rxn.aka.remove(name)\n",
    "                except ValueError:\n",
    "                    pass\n",
    "            else:\n",
    "                self.kb_rxn.aka = [self.kb_rxn.name]\n",
    "\n",
    "            self.kb_rxn.name = name\n",
    "            self.dirty = True\n",
    "        \n",
    "    def update_shorthand(self, shorthand):\n",
    "        shorthand = shorthand or None\n",
    "        if shorthand != self.kb_rxn.shorthand:\n",
    "            self.kb_rxn.shorthand = shorthand\n",
    "            self.dirty = True\n",
    "        \n",
    "    def update_catalyst(self, catalyst_id):\n",
    "        if self.kb_rxn.catalyst:\n",
    "            if self.kb_rxn.catalyst.id == id:\n",
    "                return\n",
    "            else:\n",
    "                self.kb_rxn.catalyst = None\n",
    "                self.dirty = True\n",
    "\n",
    "        if catalyst_id:\n",
    "            self.kb_rxn.catalyst = Molecule(id=catalyst_id)\n",
    "            self.dirty = True\n",
    "\n",
    "    def update_reversible(self, reversible):\n",
    "        if reversible != self.kb_rxn.reversible:\n",
    "            self.kb_rxn.reversible = reversible\n",
    "            self.dirty = True\n",
    "        \n",
    "    def update_xref(self, db, id):\n",
    "        existing = None\n",
    "        for xref in self.kb_rxn.xrefs:\n",
    "            if xref.db == db:\n",
    "                existing = xref\n",
    "                break\n",
    "        if existing is not None and existing.id == id:\n",
    "            return\n",
    "\n",
    "        if existing is not None:\n",
    "            self.kb_rxn.xrefs.remove(existing)\n",
    "            self.dirty = True\n",
    "        if id:\n",
    "            self.kb_rxn.xrefs.add(DbXref(db=db, id=id))\n",
    "            self.dirty = True\n",
    "\n",
    "    def update_other_xrefs(self, xrefs_str):\n",
    "        xrefs = set()\n",
    "        if xrefs_str:\n",
    "            for xref_str in xrefs_str.split(','):\n",
    "                db, id = xref_str.strip().split(':')\n",
    "                xrefs.add(DbXref(db=DS.get(db), id=id))\n",
    "        for xref in self.kb_rxn.xrefs:\n",
    "            if xref.db in RxnEditTask.FOCUS_DBS:\n",
    "                xrefs.add(xref)\n",
    "\n",
    "        if xrefs != self.kb_rxn.xrefs:\n",
    "            self.dirty = True\n",
    "            self.kb_rxn.xrefs = xrefs"
   ]
  },
  {
   "cell_type": "code",
   "execution_count": 9,
   "id": "2c3f77fc-8cf2-441f-816a-e21cc0fec671",
   "metadata": {},
   "outputs": [],
   "source": [
    "class RxnEditGrid:\n",
    "    def __init__(self, tasks):\n",
    "        self.tasks = sorted(tasks, key=lambda task: task.kb_rxn.name)\n",
    "        df = pd.DataFrame([task.data() for task in self.tasks]).set_index('rhea_id')\n",
    "        self.grid = DataGrid(df, editable=True)\n",
    "        self.grid.on_cell_change(self.on_cell_change)\n",
    "\n",
    "    def on_cell_change(self, cell):\n",
    "        # The most robust way to do this is to apply the entire row's data every time\n",
    "        task = self.tasks[cell['row']]\n",
    "        row = self.grid.data.iloc[cell['row']]\n",
    "        \n",
    "        task.update_kb_id(row['kb_id'])\n",
    "        task.update_name(row['name'])\n",
    "        task.update_shorthand(row['shorthand'])\n",
    "        task.update_catalyst(row['catalyst'])\n",
    "        task.update_reversible(row['rev'])\n",
    "        for db in task.FOCUS_DBS:\n",
    "            task.update_xref(db, row[db.id])\n",
    "        task.update_other_xrefs(row['others'])\n",
    "\n",
    "    def display(self):\n",
    "        display(self.grid)"
   ]
  },
  {
   "cell_type": "code",
   "execution_count": 10,
   "id": "ee0195b0-c904-4e97-8312-12e1e1892131",
   "metadata": {},
   "outputs": [
    {
     "data": {
      "application/vnd.jupyter.widget-view+json": {
       "model_id": "9fb5188360e348faacdc2d87fe712261",
       "version_major": 2,
       "version_minor": 0
      },
      "text/plain": [
       "DataGrid(auto_fit_params={'area': 'all', 'padding': 30, 'numCols': None}, corner_renderer=None, default_render…"
      ]
     },
     "metadata": {},
     "output_type": "display_data"
    }
   ],
   "source": [
    "def build_kb_rxn(rhea_rxn):\n",
    "    # Preemptively build the corresponding KB reaction, but only if we can map all the reactants\n",
    "    stoichiometry = {}\n",
    "    for chebi_mol, count in rhea_rxn.stoichiometry.items():\n",
    "        kb_mols = KB.xref(KB.compounds, chebi_mol.ref())\n",
    "        if len(kb_mols) == 1:\n",
    "            kb_mol = kb_mols[0]\n",
    "            if kb_mol.canonical_form is not None:\n",
    "                kb_mol = KB.get(KB.compounds, kb_mol.canonical_form.parent_id) \n",
    "            stoichiometry[kb_mol] = count\n",
    "        else:\n",
    "            # Abort\n",
    "            return None\n",
    "\n",
    "    kb_rxn = copy.deepcopy(rhea_rxn)\n",
    "    kb_rxn.id = None  # Must be assigned to save it.\n",
    "    kb_rxn.db = None  # Assigned by KB on save\n",
    "    kb_rxn.stoichiometry = stoichiometry\n",
    "    if kb_rxn.xrefs is not None:\n",
    "        kb_rxn.xrefs.add(rhea_rxn.ref())\n",
    "    else:\n",
    "        kb_rxn.xrefs = {rhea_rxn.ref()}\n",
    "    return kb_rxn\n",
    "\n",
    "\n",
    "tasks = []\n",
    "skipped_rhea = []\n",
    "for rhea_rxn in glycolysis_rhea:\n",
    "    kb_rxns = KB.xref(KB.reactions, rhea_rxn.ref())\n",
    "    if len(kb_rxns) > 1:\n",
    "        print(f'{rhea_rxn.ref()} maps to multiple KB entries.')\n",
    "    if kb_rxns:\n",
    "        kb_rxn = kb_rxns[0]\n",
    "    else:\n",
    "        kb_rxn = build_kb_rxn(rhea_rxn)\n",
    "\n",
    "    if kb_rxn:\n",
    "        tasks.append(RxnEditTask(rhea_rxn, kb_rxn))\n",
    "    else:\n",
    "        skipped_rhea.append(rhea_rxn)\n",
    "\n",
    "rxn_edit_grid = RxnEditGrid(tasks)\n",
    "rxn_edit_grid.display()"
   ]
  },
  {
   "cell_type": "code",
   "execution_count": 11,
   "id": "c81ece55-16fe-4408-9169-3fd0948e861c",
   "metadata": {},
   "outputs": [
    {
     "name": "stdout",
     "output_type": "stream",
     "text": [
      "[10740] alcohol dehydrogenase\n",
      "[10736] * alcohol dehydrogenase\n",
      "[56956] pyruvate kinase\n"
     ]
    }
   ],
   "source": [
    "for rhea_rxn in skipped_rhea:\n",
    "    print(f'[{rhea_rxn.id}] {rhea_rxn.name}')"
   ]
  },
  {
   "cell_type": "code",
   "execution_count": 12,
   "id": "d2641f39-a6af-4ed8-b0f4-0f95950b1f75",
   "metadata": {
    "tags": []
   },
   "outputs": [],
   "source": [
    "for task in rxn_edit_grid.tasks:\n",
    "    if task.defunct_kb_id:\n",
    "        print(\"Defunct: \" + task.defunct_kb_id)\n",
    "    if task.dirty:\n",
    "        print(task.kb_rxn)\n",
    "        KB.put(KB.reactions, task.kb_rxn)\n",
    "        task.dirty = False"
   ]
  },
  {
   "cell_type": "markdown",
   "id": "6f3813ee-4f59-42a0-863a-9360648a68a8",
   "metadata": {},
   "source": [
    "## Pentose Phosphate and Entner-Doudoroff\n",
    "- Same approach as for Glycolysis above"
   ]
  },
  {
   "cell_type": "code",
   "execution_count": 21,
   "id": "96975cea-0a2e-4d7d-a23a-c8985a440087",
   "metadata": {},
   "outputs": [],
   "source": [
    "ppp_rhea = set()\n",
    "with open(datafile('ppp.txt'), 'r') as f:\n",
    "    for line in f.readlines():\n",
    "        line = line.strip()\n",
    "        if not line or line.startswith('#'):\n",
    "            continue\n",
    "        ec_ref = DbXref(db=DS.EC, id=line)\n",
    "        rhea_rxns = KB.xref(KB.RHEA, ec_ref)\n",
    "        if rhea_rxns:\n",
    "            ppp_rhea.update(rhea_rxns)\n",
    "        else:\n",
    "            print(f'{ec_ref} has no corresponding reactions in RHEA')\n",
    "\n",
    "ppp_chebi = set()\n",
    "for rxn in ppp_rhea:\n",
    "    ppp_chebi.update(rxn.stoichiometry.keys())\n",
    "\n",
    "tasks = []\n",
    "covered = {}\n",
    "for chebi_mol in ppp_chebi:\n",
    "    kb_mols = KB.xref(KB.compounds, chebi_mol.ref())\n",
    "    if kb_mols:\n",
    "        if len(kb_mols) > 1:\n",
    "            print(f'{chebi_mol} maps to multiple KB entries.')\n",
    "        kb_mol = kb_mols[0]\n",
    "        if kb_mol.canonical_form is not None:\n",
    "            kb_mol = KB.get(KB.compounds, kb_mol.canonical_form.parent_id)\n",
    "\n",
    "        if kb_mol in covered:\n",
    "            covered[kb_mol].chebi_mols.append(chebi_mol)\n",
    "        else:\n",
    "            task = MolEditTask(chebi_mol, kb_mol)\n",
    "            tasks.append(task)\n",
    "            covered[kb_mol] = task\n",
    "    else:\n",
    "        tasks.append(MolEditTask(chebi_mol, None))"
   ]
  },
  {
   "cell_type": "markdown",
   "id": "7299a257-94bc-49c4-8812-eba269648ef7",
   "metadata": {},
   "source": [
    "### Recurring KB issue\n",
    "- PRPP is in ChEBI as CHEBI:17111 (α-furanose, fully protonated) CHEBI:38017 (α-furanose, 5- anion, used in the reaction), CHEBI:48955 (β-furanose, fully protonated) and CHEBI:48956 (parent)\n",
    "- The pattern established for sugars is to use 48956 as the canonical form, with 17111 its default form\n",
    "- The canonical form should have xrefs to 48956, plus MetaCyc and KEGG\n",
    "- Other forms should have xrefs to corresponding ChEBI forms, but not KEGG or MetCyc\n",
    "- Best option right now is to manually add these ChEBI entries to our tasks, and hook up the `Variation`s and `Specialization`s appropriately as in `Sugar Forms and Variations`\n",
    "- May or may not be a graceful way to handle similar cases for other molecules with multiple forms in ChEBI"
   ]
  },
  {
   "cell_type": "code",
   "execution_count": 22,
   "id": "c734b49b-5d03-4a0e-b95a-b7b649a60d6e",
   "metadata": {},
   "outputs": [],
   "source": [
    "# for chebi_id in ('17111', '58017', '48955', '48956'):\n",
    "#     chebi_mol = KB.get(KB.CHEBI, chebi_id)\n",
    "#     if chebi_mol not in ppp_chebi:\n",
    "#         tasks.append(MolEditTask(chebi_mol, None))"
   ]
  },
  {
   "cell_type": "code",
   "execution_count": 23,
   "id": "04bcd449-f8c2-4e47-b2f4-b254b2276d27",
   "metadata": {
    "scrolled": true
   },
   "outputs": [
    {
     "data": {
      "application/vnd.jupyter.widget-view+json": {
       "model_id": "4a55322130c14628a04bdf1f36eb9306",
       "version_major": 2,
       "version_minor": 0
      },
      "text/plain": [
       "DataGrid(auto_fit_params={'area': 'all', 'padding': 30, 'numCols': None}, corner_renderer=None, default_render…"
      ]
     },
     "metadata": {},
     "output_type": "display_data"
    }
   ],
   "source": [
    "mol_edit_grid = MolEditGrid(tasks)\n",
    "mol_edit_grid.display()"
   ]
  },
  {
   "cell_type": "code",
   "execution_count": 24,
   "id": "9920d0d6-58b6-447a-b21a-da32b369c7b5",
   "metadata": {},
   "outputs": [],
   "source": [
    "# prpp_mols = {'17111': None, '58017': None, '48955': None, '48956': None}\n",
    "# for task in mol_edit_grid.tasks:\n",
    "#     if task.kb_mol:\n",
    "#         for xref in (task.kb_mol.xrefs or []):\n",
    "#             if xref.db == DS.CHEBI and xref.id in prpp_mols:\n",
    "#                 prpp_mols[xref.id] = task.kb_mol\n",
    "# prpp_mols"
   ]
  },
  {
   "cell_type": "code",
   "execution_count": 25,
   "id": "ebfa29c5-cd43-4b15-9966-fb692cfc9734",
   "metadata": {},
   "outputs": [],
   "source": [
    "# from mosmo.model import Specialization, Variation\n",
    "\n",
    "# prpp_mols['48956'].variations = [\n",
    "#     Variation(name='ring-linkage', form_names=['α', 'β']),\n",
    "#     Variation(name='protonation', form_names=['full', '5-'])\n",
    "# ]\n",
    "# prpp.default_form = Specialization(parent_id='prpp', child_id='prpp.α.5-', form=['α', '5-'])\n",
    "\n",
    "# prpp_mols['17111'].canonical_form = Specialization(parent_id='prpp', child_id='prpp.α.full', form=['α', 'full'])\n",
    "# prpp_mols['58017'].canonical_form = Specialization(parent_id='prpp', child_id='prpp.α.5-', form=['α', '5-'])\n",
    "# prpp_mols['48955'].canonical_form = Specialization(parent_id='prpp', child_id='prpp.β.full', form=['β', 'full'])"
   ]
  },
  {
   "cell_type": "code",
   "execution_count": 26,
   "id": "6d4bd740-51bd-4711-9a92-69af02eca6e6",
   "metadata": {},
   "outputs": [],
   "source": [
    "for task in mol_edit_grid.tasks:\n",
    "    if task.dirty:\n",
    "        print(task.kb_mol)\n",
    "        KB.put(KB.compounds, task.kb_mol)\n",
    "        task.dirty = False"
   ]
  },
  {
   "cell_type": "markdown",
   "id": "ecbf034e-fc2d-4edf-a613-073cb4cb772d",
   "metadata": {},
   "source": [
    "### Now the reactions"
   ]
  },
  {
   "cell_type": "code",
   "execution_count": 31,
   "id": "cae9e1c9-d1e9-4d4a-8a11-699767d9128d",
   "metadata": {},
   "outputs": [
    {
     "data": {
      "application/vnd.jupyter.widget-view+json": {
       "model_id": "773e42dcecb242959ff76cf8fd2b81dc",
       "version_major": 2,
       "version_minor": 0
      },
      "text/plain": [
       "DataGrid(auto_fit_params={'area': 'all', 'padding': 30, 'numCols': None}, corner_renderer=None, default_render…"
      ]
     },
     "metadata": {},
     "output_type": "display_data"
    }
   ],
   "source": [
    "tasks = []\n",
    "skipped_rhea = []\n",
    "for rhea_rxn in ppp_rhea:\n",
    "    kb_rxns = KB.xref(KB.reactions, rhea_rxn.ref())\n",
    "    if len(kb_rxns) > 1:\n",
    "        print(f'{rhea_rxn.ref()} maps to multiple KB entries.')\n",
    "    if kb_rxns:\n",
    "        kb_rxn = kb_rxns[0]\n",
    "    else:\n",
    "        kb_rxn = build_kb_rxn(rhea_rxn)\n",
    "\n",
    "    if kb_rxn:\n",
    "        tasks.append(RxnEditTask(rhea_rxn, kb_rxn))\n",
    "    else:\n",
    "        skipped_rhea.append(rhea_rxn)\n",
    "        print(\"Skipped: \" + rhea_rxn)\n",
    "\n",
    "rxn_edit_grid = RxnEditGrid(tasks)\n",
    "rxn_edit_grid.display()"
   ]
  },
  {
   "cell_type": "code",
   "execution_count": 28,
   "id": "5ee6a874-9ba7-48d6-ac90-2a61fdc91a98",
   "metadata": {},
   "outputs": [
    {
     "name": "stdout",
     "output_type": "stream",
     "text": [
      "[prppsyn] ATP + R5P <=> PRPP + AMP + H+\n"
     ]
    }
   ],
   "source": [
    "for task in rxn_edit_grid.tasks:\n",
    "    if task.defunct_kb_id:\n",
    "        print(\"Defunct: \" + task.defunct_kb_id)\n",
    "    if task.dirty:\n",
    "        print(task.kb_rxn)\n",
    "        KB.put(KB.reactions, task.kb_rxn)\n",
    "        task.dirty = False"
   ]
  },
  {
   "cell_type": "markdown",
   "id": "fd105a27-2cb1-411f-82e4-d72e31185066",
   "metadata": {},
   "source": [
    "## TCA cycle + glyoxylate shunt"
   ]
  },
  {
   "cell_type": "code",
   "execution_count": 39,
   "id": "f238f98a-ecb4-4a1e-8797-1dbeec945145",
   "metadata": {},
   "outputs": [],
   "source": [
    "tca_rhea = set()\n",
    "with open(datafile('tca.txt'), 'r') as f:\n",
    "    for line in f.readlines():\n",
    "        line = line.strip()\n",
    "        if not line or line.startswith('#'):\n",
    "            continue\n",
    "        ec_ref = DbXref(db=DS.EC, id=line)\n",
    "        rhea_rxns = KB.xref(KB.RHEA, ec_ref)\n",
    "        if rhea_rxns:\n",
    "            tca_rhea.update(rhea_rxns)\n",
    "        else:\n",
    "            print(f'{ec_ref} has no corresponding reactions in RHEA')\n",
    "\n",
    "tca_chebi = set()\n",
    "for rxn in tca_rhea:\n",
    "    tca_chebi.update(rxn.stoichiometry.keys())\n",
    "\n",
    "tasks = []\n",
    "covered = {}\n",
    "for chebi_mol in tca_chebi:\n",
    "    kb_mols = KB.xref(KB.compounds, chebi_mol.ref())\n",
    "    if kb_mols:\n",
    "        if len(kb_mols) > 1:\n",
    "            print(f'{chebi_mol} maps to multiple KB entries.')\n",
    "        kb_mol = kb_mols[0]\n",
    "        if kb_mol.canonical_form is not None:\n",
    "            kb_mol = KB.get(KB.compounds, kb_mol.canonical_form.parent_id)\n",
    "\n",
    "        if kb_mol in covered:\n",
    "            covered[kb_mol].chebi_mols.append(chebi_mol)\n",
    "        else:\n",
    "            task = MolEditTask(chebi_mol, kb_mol)\n",
    "            tasks.append(task)\n",
    "            covered[kb_mol] = task\n",
    "    else:\n",
    "        tasks.append(MolEditTask(chebi_mol, None))"
   ]
  },
  {
   "cell_type": "code",
   "execution_count": 40,
   "id": "a004c524-9b42-452c-a527-9c2a857acd45",
   "metadata": {},
   "outputs": [
    {
     "data": {
      "application/vnd.jupyter.widget-view+json": {
       "model_id": "86b89690afe24f5d8c3b6abd9af9445b",
       "version_major": 2,
       "version_minor": 0
      },
      "text/plain": [
       "DataGrid(auto_fit_params={'area': 'all', 'padding': 30, 'numCols': None}, corner_renderer=None, default_render…"
      ]
     },
     "metadata": {},
     "output_type": "display_data"
    }
   ],
   "source": [
    "mol_edit_grid = MolEditGrid(tasks)\n",
    "mol_edit_grid.display()"
   ]
  },
  {
   "cell_type": "code",
   "execution_count": 42,
   "id": "1a23413b-7416-47a4-8020-0966d595f8b0",
   "metadata": {},
   "outputs": [
    {
     "name": "stdout",
     "output_type": "stream",
     "text": [
      "[hco3] Bicarbonate\n"
     ]
    }
   ],
   "source": [
    "for task in mol_edit_grid.tasks:\n",
    "    if task.dirty:\n",
    "        print(task.kb_mol)\n",
    "        KB.put(KB.compounds, task.kb_mol)\n",
    "        task.dirty = False"
   ]
  },
  {
   "cell_type": "markdown",
   "id": "e530fbd7-9c45-4c56-9840-7ce1cdd5c7a2",
   "metadata": {},
   "source": [
    "### Now the reactions"
   ]
  },
  {
   "cell_type": "code",
   "execution_count": 43,
   "id": "4c37b7c0-0be3-47fe-9a84-9d124da78ea0",
   "metadata": {},
   "outputs": [
    {
     "name": "stdout",
     "output_type": "stream",
     "text": [
      "Skipped: [75711] succinate dehydrogenase\n"
     ]
    },
    {
     "data": {
      "application/vnd.jupyter.widget-view+json": {
       "model_id": "6483fbfa1ae042a29672368249b5fa2f",
       "version_major": 2,
       "version_minor": 0
      },
      "text/plain": [
       "DataGrid(auto_fit_params={'area': 'all', 'padding': 30, 'numCols': None}, corner_renderer=None, default_render…"
      ]
     },
     "metadata": {},
     "output_type": "display_data"
    }
   ],
   "source": [
    "tasks = []\n",
    "skipped_rhea = []\n",
    "for rhea_rxn in tca_rhea:\n",
    "    kb_rxns = KB.xref(KB.reactions, rhea_rxn.ref())\n",
    "    if len(kb_rxns) > 1:\n",
    "        print(f'{rhea_rxn.ref()} maps to multiple KB entries.')\n",
    "    if kb_rxns:\n",
    "        kb_rxn = kb_rxns[0]\n",
    "    else:\n",
    "        kb_rxn = build_kb_rxn(rhea_rxn)\n",
    "\n",
    "    if kb_rxn:\n",
    "        tasks.append(RxnEditTask(rhea_rxn, kb_rxn))\n",
    "    else:\n",
    "        skipped_rhea.append(rhea_rxn)\n",
    "        print(f'Skipped: [{rhea_rxn.id}] {rhea_rxn.name}')\n",
    "\n",
    "rxn_edit_grid = RxnEditGrid(tasks)\n",
    "rxn_edit_grid.display()"
   ]
  },
  {
   "cell_type": "code",
   "execution_count": 44,
   "id": "dd070a10-29eb-4a10-a84b-63a797ad7c99",
   "metadata": {},
   "outputs": [
    {
     "name": "stdout",
     "output_type": "stream",
     "text": [
      "Defunct: acn\n",
      "[acnh] cit <=> icit\n",
      "[mdh.mq] mal + MQ => MQH2 + OAA\n",
      "[ppcarb] OAA + Pi => HCO3 + PEP\n",
      "[sdh.mq] MQ + succ => MQH2 + fum\n",
      "[sdh.q] Q* + succ <=> Q*H2 + fum\n"
     ]
    }
   ],
   "source": [
    "for task in rxn_edit_grid.tasks:\n",
    "    if task.defunct_kb_id:\n",
    "        print(\"Defunct: \" + task.defunct_kb_id)\n",
    "    if task.dirty:\n",
    "        print(task.kb_rxn)\n",
    "        KB.put(KB.reactions, task.kb_rxn)\n",
    "        task.dirty = False"
   ]
  },
  {
   "cell_type": "code",
   "execution_count": null,
   "id": "39302540-02d1-4d7e-9645-4771bd682e7f",
   "metadata": {},
   "outputs": [],
   "source": []
  }
 ],
 "metadata": {
  "kernelspec": {
   "display_name": "Python 3 (ipykernel)",
   "language": "python",
   "name": "python3"
  },
  "language_info": {
   "codemirror_mode": {
    "name": "ipython",
    "version": 3
   },
   "file_extension": ".py",
   "mimetype": "text/x-python",
   "name": "python",
   "nbconvert_exporter": "python",
   "pygments_lexer": "ipython3",
   "version": "3.11.2"
  }
 },
 "nbformat": 4,
 "nbformat_minor": 5
}
